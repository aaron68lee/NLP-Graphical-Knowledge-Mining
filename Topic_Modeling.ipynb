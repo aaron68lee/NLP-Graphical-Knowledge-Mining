{
 "cells": [
  {
   "cell_type": "markdown",
   "id": "1c142dbb",
   "metadata": {},
   "source": [
    "# Topic Modeling"
   ]
  },
  {
   "cell_type": "markdown",
   "id": "522d1754",
   "metadata": {},
   "source": [
    "## Import Modules"
   ]
  },
  {
   "cell_type": "code",
   "execution_count": 2,
   "id": "ff421378",
   "metadata": {},
   "outputs": [
    {
     "name": "stdout",
     "output_type": "stream",
     "text": [
      "['au', 'aux', 'avec', 'ce', 'ces', 'dans', 'de', 'des', 'du', 'elle']\n"
     ]
    }
   ],
   "source": [
    "# Import Modules\n",
    "\n",
    "import re\n",
    "import numpy as np\n",
    "import pandas as pd\n",
    "from pprint import pprint\n",
    "import random\n",
    "np.random.seed(42)\n",
    "\n",
    "# Gensim\n",
    "import gensim\n",
    "import gensim.corpora as corpora\n",
    "from gensim.utils import simple_preprocess\n",
    "from gensim.models import CoherenceModel, Word2Vec, LdaModel\n",
    "from gensim.test.utils import common_corpus, common_dictionary\n",
    "from gensim.corpora import Dictionary\n",
    "\n",
    "\n",
    "# from gensim.models.wrappers import LdaMallet\n",
    "\n",
    "# spacy for lemmatization\n",
    "import spacy\n",
    "# download LLM: python -m spacy download en_core_web_sm\n",
    "\n",
    "# Plotting tools\n",
    "import pyLDAvis\n",
    "import pyLDAvis.gensim  # don't skip this\n",
    "import matplotlib.pyplot as plt\n",
    "%matplotlib inline\n",
    "\n",
    "# Enable logging for gensim - optional\n",
    "import logging\n",
    "logging.basicConfig(format='%(asctime)s : %(levelname)s : %(message)s', level=logging.ERROR)\n",
    "\n",
    "import warnings\n",
    "warnings.filterwarnings(\"ignore\",category=DeprecationWarning)\n",
    "\n",
    "# import NLTK stop words\n",
    "import nltk\n",
    "from nltk.corpus import stopwords\n",
    "from nltk import tokenize\n",
    "from nltk.tokenize import word_tokenize\n",
    "#nltk.download('punkt') # run once\n",
    "#nltk.download('stopwords')  # run once\n",
    "stop_words_eng = stopwords.words('english')\n",
    "stop_words_fr = stopwords.words('french')\n",
    "\n",
    "'''\n",
    "stop_words = stopwords.words('english')\n",
    "stop_words.extend(['from', 'subject', 're', 'edu', 'use'])\n",
    "'''\n",
    "\n",
    "mallet_path = \"/Users/aaron68lee/Documents/Coding-Projects/NLP-Research/Mallet\"\n",
    "\n",
    "print(stop_words_fr[0:10])\n"
   ]
  },
  {
   "cell_type": "markdown",
   "id": "fe4ed05e",
   "metadata": {},
   "source": [
    "## Import Datasets"
   ]
  },
  {
   "cell_type": "code",
   "execution_count": 1,
   "id": "4b552e7a",
   "metadata": {},
   "outputs": [],
   "source": [
    "'''\n",
    "Document Extractor\n",
    "'''\n",
    "\n",
    "import io\n",
    "import os.path\n",
    "import re\n",
    "import tarfile\n",
    "\n",
    "import smart_open\n",
    "\n",
    "docs_folder_path = \"/Users/aaron68lee/Documents/Coding-Projects/NLP-Research/FRconquest_split\" # corpus folder\n",
    "max_docs = 1\n",
    "max_chars = 500\n",
    "\n",
    "'''\n",
    "DESCRIPTION: helper function to process all documents inside a corpus folder\n",
    "RETURN:\n",
    "    1) documents: python list of document as one string\n",
    "    2) document_names: python list of document names (list of strings)\n",
    "    3) doc_dict: dictionary mapping doc names to doc contents\n",
    "'''\n",
    "def extract_documents(url, max_docs=1):\n",
    "    doc_count = 0\n",
    "    documents = []\n",
    "    document_names = []\n",
    "    doc_dict = {} # combines documents and document_names into dictionary data structure\n",
    "    \n",
    "    with os.scandir(url) as entries:\n",
    "        for entry in entries:\n",
    "            if doc_count < max_docs:\n",
    "                if entry.is_file() and entry.name.endswith('.txt'):\n",
    "                    with open(entry, \"r\", encoding=\"utf-8\", errors=\"replace\") as file:\n",
    "                        curr_doc = file.read()\n",
    "                        documents.append(curr_doc)\n",
    "                        document_names.append(entry.name)\n",
    "                        doc_dict[entry.name] = curr_doc\n",
    "                doc_count += 1\n",
    "    return documents, document_names, doc_dict\n"
   ]
  },
  {
   "cell_type": "markdown",
   "id": "ac3e92a6",
   "metadata": {},
   "source": [
    "## Preprocess Data "
   ]
  },
  {
   "cell_type": "markdown",
   "id": "cf2b3682",
   "metadata": {
    "heading_collapsed": true
   },
   "source": [
    "### **Remove Stopwords**"
   ]
  },
  {
   "cell_type": "code",
   "execution_count": 142,
   "id": "37b138dc",
   "metadata": {
    "hidden": true
   },
   "outputs": [
    {
     "name": "stdout",
     "output_type": "stream",
     "text": [
      "There are:  1  documents in the corpus folder\n",
      "\n",
      "Document Names:  ['Laplagne-Barris_FRconq_s1v07_3.txt']\n",
      "Sample abridged doc: \n",
      "\n",
      " provisoires du Bardo par des écuries permanentes; terminer la caserne G; construire des casernes pour , hommes de divers corps, des écuries pour chevaux, des pavillons pour officiers et une prison pour détenus; ° Construire les bâtiments des accessoires de hôpital militaire; . A terminer les magasins aux vivres et construire des magasins à orge. Ces divers travaux nécessiteront une dépense environ ,, francs. SETIF. FORTIFICATIONS. TRAVAUX EXÉCUTÉS EN . S ler. Travaux ordinaires. On a terminé les\n",
      "provisoires du Bardo par des écuries permanentes; terminer la caserne G; construire des casernes pour , hommes de divers corps, des écuries pour chevaux, des pavillons pour officiers et une prison pour détenus; ° Construire les bâtiments des accessoires de hôpital militaire; . A terminer les magasins aux vivres et construire des magasins à orge. Ces divers travaux nécessiteront une dépense environ ,, francs. SETIF. FORTIFICATIONS. TRAVAUX EXÉCUTÉS EN . S ler. Travaux ordinaires. On a terminé les\n",
      "['p', 'r', 'o', 'v', 'i', 's', 'o', 'i', 'r', 'e', 's', ' ', 'd', 'u', ' ', 'B', 'a', 'r', 'd', 'o', ' ', 'p', 'a', 'r', ' ', 'd', 'e', 's', ' ', 'é', 'c', 'u', 'r', 'i', 'e', 's', ' ', 'p', 'e', 'r', 'm', 'a', 'n', 'e', 'n', 't', 'e', 's', ';', ' ', 't', 'e', 'r', 'm', 'i', 'n', 'e', 'r', ' ', 'l', 'a', ' ', 'c', 'a', 's', 'e', 'r', 'n', 'e', ' ', 'G', ';', ' ', 'c', 'o', 'n', 's', 't', 'r', 'u', 'i', 'r', 'e', ' ', 'd', 'e', 's', ' ', 'c', 'a', 's', 'e', 'r', 'n', 'e', 's', ' ', 'p', 'o', 'u', 'r', ' ', ',', ' ', 'h', 'o', 'm', 'm', 'e', 's', ' ', 'd', 'e', ' ', 'd', 'i', 'v', 'e', 'r', 's', ' ', 'c', 'o', 'r', 'p', 's', ',', ' ', 'd', 'e', 's', ' ', 'é', 'c', 'u', 'r', 'i', 'e', 's', ' ', 'p', 'o', 'u', 'r', ' ', 'c', 'h', 'e', 'v', 'a', 'u', 'x', ',', ' ', 'd', 'e', 's', ' ', 'p', 'a', 'v', 'i', 'l', 'l', 'o', 'n', 's', ' ', 'p', 'o', 'u', 'r', ' ', 'o', 'f', 'f', 'i', 'c', 'i', 'e', 'r', 's', ' ', 'e', 't', ' ', 'u', 'n', 'e', ' ', 'p', 'r', 'i', 's', 'o', 'n', ' ', 'p', 'o', 'u', 'r', ' ', 'd', 'é', 't', 'e', 'n', 'u', 's', ';', ' ', '°', ' ', 'C', 'o', 'n', 's', 't', 'r', 'u', 'i', 'r', 'e', ' ', 'l', 'e', 's', ' ', 'b', 'â', 't', 'i', 'm', 'e', 'n', 't', 's', ' ', 'd', 'e', 's', ' ', 'a', 'c', 'c', 'e', 's', 's', 'o', 'i', 'r', 'e', 's', ' ', 'd', 'e', ' ', 'h', 'ô', 'p', 'i', 't', 'a', 'l', ' ', 'm', 'i', 'l', 'i', 't', 'a', 'i', 'r', 'e', ';', ' ', '.', ' ', 'A', ' ', 't', 'e', 'r', 'm', 'i', 'n', 'e', 'r', ' ', 'l', 'e', 's', ' ', 'm', 'a', 'g', 'a', 's', 'i', 'n', 's', ' ', 'a', 'u', 'x', ' ', 'v', 'i', 'v', 'r', 'e', 's', ' ', 'e', 't', ' ', 'c', 'o', 'n', 's', 't', 'r', 'u', 'i', 'r', 'e', ' ', 'd', 'e', 's', ' ', 'm', 'a', 'g', 'a', 's', 'i', 'n', 's', ' ', 'à', ' ', 'o', 'r', 'g', 'e', '.', ' ', 'C', 'e', 's', ' ', 'd', 'i', 'v', 'e', 'r', 's', ' ', 't', 'r', 'a', 'v', 'a', 'u', 'x', ' ', 'n', 'é', 'c', 'e', 's', 's', 'i', 't', 'e', 'r', 'o', 'n', 't', ' ', 'u', 'n', 'e', ' ', 'd', 'é', 'p', 'e', 'n', 's', 'e', ' ', 'e', 'n', 'v', 'i', 'r', 'o', 'n', ' ', ',', ',', ' ', 'f', 'r', 'a', 'n', 'c', 's', '.', ' ', 'S', 'E', 'T', 'I', 'F', '.', ' ', 'F', 'O', 'R', 'T', 'I', 'F', 'I', 'C', 'A', 'T', 'I', 'O', 'N', 'S', '.', ' ', 'T', 'R', 'A', 'V', 'A', 'U', 'X', ' ', 'E', 'X', 'É', 'C', 'U', 'T', 'É', 'S', ' ', 'E', 'N', ' ', '.', ' ', 'S', ' ', 'l', 'e', 'r', '.', ' ', 'T', 'r', 'a', 'v', 'a', 'u', 'x', ' ', 'o', 'r', 'd', 'i', 'n', 'a', 'i', 'r', 'e', 's', '.', ' ', 'O', 'n', ' ', 'a', ' ', 't', 'e', 'r', 'm', 'i', 'n', 'é', ' ', 'l', 'e', 's']\n",
      "Sample abridged doc: \n",
      "\n",
      " provisoires du Bardo par des écuries permanentes; terminer la caserne G; construire des casernes pour , hommes de divers corps, des écuries pour chevaux, des pavillons pour officiers et une prison pour détenus; ° Construire les bâtiments des accessoires de hôpital militaire; . A terminer les magasins aux vivres et construire des magasins à orge. Ces divers travaux nécessiteront une dépense environ ,, francs. SETIF. FORTIFICATIONS. TRAVAUX EXÉCUTÉS EN . S ler. Travaux ordinaires. On a terminé les\n"
     ]
    }
   ],
   "source": [
    "\n",
    "\n",
    "############# Test Dataset as CSV ################\n",
    "\n",
    "# Test on sample document\n",
    "\n",
    "doc_path = 'FRconquest_split/1838_Tableau-Algeria_pt1_0.txt'\n",
    "\n",
    "'''\n",
    "# Import Dataset\n",
    "df = pd.read_json('https://raw.githubusercontent.com/selva86/datasets/master/newsgroups.json')\n",
    "print(df.target_names.unique())\n",
    "df.head()\n",
    "\n",
    "# Pre-process Data\n",
    "# 1) Remove Punctuation and Stop Words\n",
    "\n",
    "# Convert to list\n",
    "data = df.content.values.tolist()\n",
    "\n",
    "# Remove Emails\n",
    "data = [re.sub('\\S*@\\S*\\s?', '', sent) for sent in data]\n",
    "\n",
    "# Remove new line characters\n",
    "data = [re.sub('\\s+', ' ', sent) for sent in data]\n",
    "\n",
    "# Remove distracting single quotes\n",
    "data = [re.sub(\"\\'\", \"\", sent) for sent in data]\n",
    "\n",
    "pprint(data[:1])\n",
    "'''\n",
    "\n",
    "######### import datasets #########\n",
    "\n",
    "docs, doc_names, doc_dict = list(extract_documents(docs_folder_path, max_docs))\n",
    "print(\"There are: \", len(docs), \" documents in the corpus folder\\n\")\n",
    "print(\"Document Names: \", doc_names)\n",
    "#print(\"Doc Dictionary: \", doc_dict)\n",
    "print(\"Sample abridged doc: \\n\\n\", docs[0][:500])\n",
    "\n",
    "# Tokenize the documents.\n",
    "from nltk.tokenize import RegexpTokenizer\n",
    "\n",
    "# Split the documents into tokens.\n",
    "tokenizer = RegexpTokenizer(r'\\w+')\n",
    "\n",
    "# docs is already list of list of words\n",
    "\n",
    "# Remove numbers, but not words that contain numbers.\n",
    "# print(docs[0][0][0])\n",
    "print(docs[0][:500])\n",
    "doc_parsed = [[] for _ in range(len(docs))]\n",
    "for doc in range(len(docs)):\n",
    "    for j in range(len(docs[doc])):\n",
    "        if not (docs[doc][j].isnumeric()):\n",
    "            doc_parsed[doc].append(docs[doc][j])\n",
    "\n",
    "print(doc_parsed[0][:500])\n",
    "#docs = [[token for token in doc if not token.isnumeric()] for doc in docs]\n",
    "#print(docs[0][:500])\n",
    "\n",
    "# Remove words that are only one character.\n",
    "#docs = [[token for token in doc if len(token) > 1] for doc in docs]\n",
    "print(\"Sample abridged doc: \\n\\n\", docs[0][:500])\n"
   ]
  },
  {
   "cell_type": "code",
   "execution_count": 145,
   "id": "4f5c0ae7",
   "metadata": {
    "hidden": true
   },
   "outputs": [
    {
     "name": "stdout",
     "output_type": "stream",
     "text": [
      "1\n",
      "[\"provisoires du Bardo par des écuries permanentes; terminer la caserne G; construire des casernes pour , hommes de divers corps, des écuries pour chevaux, des pavillons pour officiers et une prison pour détenus; ° Construire les bâtiments des accessoires de hôpital militaire; . A terminer les magasins aux vivres et construire des magasins à orge. Ces divers travaux nécessiteront une dépense environ ,, francs. SETIF. FORTIFICATIONS. TRAVAUX EXÉCUTÉS EN . S ler. Travaux ordinaires. On a terminé les tours -- du réduit. intérieur de cette dernière tour a été converti en silos. On a continué le travail de enceinte de la ville; la portion comprise entre la porte du Sud, sur le front -, et le bastion , est élevée jusà la hauteur des créneaux. On a réparé une brèche de enceinte romaine, à la gorge du quartier militaire, et fait des dépenses entretien. ( ) On a construit des prolonges, des camions pour exploitation des bois coupés dans les forêts du Bou- Thaleb. On a dressé le plan directeur de la ville et de la banlieue. On a dépensé , francs. S . Travaux extraordinaires. On a rien dépensé sur les fonds des travaux extraordinaires. TRAVAUX RESTANT À FAIRE. tine , , et la Pour terminer enceinte du quartier militaire, il reste à construire la tour , une partie de la courporte est du fort. On devra remettre en état une bonne partie de enceinte romaine conservée , dont le parement, sur une grande étendue, doit être refait à neuf. Le mur enceinte de la ville, qui est élevé jusà la hauteur des créneaux depuis le bastion jusà la porte du Sud, devra être abord élevé à cette hauteur sur le reste de son développement, ce qui sera fait en , puis être porté partout à sa hauteur définitive. Plus tard on établira un avant-poste sur une hauteur qui domine à ouest le quartier militaire. Ces travaux nécessiteront une dépense de , francs. BATIMENTS MILITAIRES. TRAVAUX EXÉCUTÉS EN . S ler. Travaux ordinaires. La caserne cotée B a été terminée, les baraques servant ateliers et de logement aux troupes du génie ont été réparées. On a achevé les maçonneries, la couverture et le plancher du bâtiment du fond de hôpital, qui sera mis en service au commencement de été. Les caves sont déjà livrées à administration. On a complété organisation des magasins des subsistances, qui, outre la panneterie renferment les bureaux de intendance, des magasins pour les farines, les vivres de campagne, et même pour orge. On a achevé le mur de clôture du magasin à fourrage, terminé le magasin à poudre et placé une pompe au milieu de la cour du quartier militaire. On a dépensé , francs. S . Travaux extraordinaires. On a fait sur les fonds la plus grande partie des travaux de hôpital et du magasin à poudre. On a construit une écurie pour go chevaux, des cuisines, des latrines et deux salles de punition. On a dépensé , francs, savoir : Sur le budget ordinaire.. ,f Sur le crédit extraordinaire. TRAVAUX RESTANT À FAIRE. effectif de la garnison normale de Setif, indiqué dans le compte rendu des travaux de , comprend , hommes de diverses armes et chevaux. Les travaux qui restent encore à faire pour installer cette garnison et les divers services qui en dépendent sont considérables. Ce sont deux casernes contenant ensemble goo hommes, tous les accessoires du quartier de cavalerie et le logement des cavaliers, le quartier de spahis tout entier, un pavillon officiers, hôtel du général , achèvement de hôpital, les locaux complémentaires des magasins de administration, et une prison. Les dépenses pour ces différents travaux élèveront environ à la somme de ,, francs. ( ) BÔNE ET LA CALLE. FORTIFICATIONS. TRAVAUX EXÉCUTÉS EN . S le Travaux ordinaires. On a fait quelques réparations à la route de la Kasbah et aux ponceaux en bois de la route de La Calle, ouvert un chemin de la carrière romaine à la mer, fait quelques réparations au parapet du front - de la Kasbah, et réparé le mur de soutenement du fossé en dehors de la porte Damrémont; on a confectionné des prolonges. On a dépensé sur le budget ordinaire , francs. S . Travaux extraordinaires. — Il a rien été dépensé sur les fonds des travaux extraordinaires. TRAVAUX RESTANT À FAIRE. La ville de Bône recevra prochainement une extension considérable qui nécessitera la construction une nouvelle enceinte; il restera, en outre, à relever une partie de escarpe du front (-) vis-à-vis la place Armandy, à restaurer la partie de ancienne enceinte qui comprend arsenal de artillerie, à terminer les réparations du front - de la Kasbah. A La Calle, on doit établir trois batteries dont emplacement a été déterminé par la commissio nautique, et construire comme à Bône une nouvelle enceinte après le projet agrandissement de la ville. La dépense de ces divers travaux pourra élever á , francs. BATIMENTS MILITAIRES. TRAVAUX EXÉCUTÉS EN . $ er. Travaux ordinaires. ---A Bône, on a continué la construction de hôpital militaire ; ce bâtiment est entrepris sur la moitié de sa longueur. On a fait les enduits extérieurs et une partie des menuiseries. On a terminé les maçonneries et la couverture du bâtiment des subsistances, exécuté diverses réparations dans les maisons affectées au casernement et restauré les façades de hôpital. On a extrait de la carrière romaine du fort génois blocs de marbre destinés à la construction du piedestal de la statue de S. A. R. Me le duc Orléans, à Alger. A La Calle, on a amélioré les locaux affectés au logement de la troupe et les magasins de administration. Les dépenses se sont élevées, sur le budget ordinaire, à , francs. S . Travaux extraordinaires. — On a poussé avec activité les constructions du quartier de cavalerie. Une écurie pour chevaux a été terminée et mise en service. Les voûtes des contre-culées de la caserne ont été construites, ainsi que les treize grandes voûtes du rez-de-chaussée; sur toute la longueur du bâtiment, les maçonneries sont élevées de o“, au-dessus des appuis des croisées du troisième étage. On a complétement terminé la première partie du bâtiment D de hôpital; les trois salles elle renferme sont occupées par les malades. On a fait escalier central, le rez-de-chaussée du bâtiment des latrines, et élevé la deuxième moitié du bâtiment jusau niveau du sol du premier étage. Le bâtiment A des subsistances a été entièrement achevé; il pourra contenir , quintaux de grain, outre-une chambre pour le pain et le logement des gardieris. ALGÉRIE. SITUATION EX -. ( ) Les dépenses se sont élevées à , francs, savoir : Sur le budget ordinaire.. Sur le crédit extraordinaire. ,f TRAVAUX RESTANT À FAIRE. A Bône, il reste à construire les bâtiments complémentaires du quartier de cavalerie, des casernes et des écuries destinées à artillerie, au génie, au train des équipages, une contenance ensemble de hommes et chevaux ou mulets, une prison pour détenus, un bâtiment pour le conseil de guerre, un pour le commandement de la place et le logement du chef du génie. On terminera hôpital militaire, ainsi que les accessoires indispensables de cet établissement, tels que la buanderie et le séchoir couvert. Enfin, on devra installer une manière définitive un atelier de condamnés, le bâtiment des fours, le logement du comptable de la manutention, une boucherie, et des magasins orge pour , quintaux métriques, un magasin de campement, et un magasin à poudre pour , kilogrammes. A La Calle, les travaux restant à faire comprennent une caserne et des écuries pour chevaux, un pavillon pour officiers, une petite caserne pour les corps isolés , une prison pour détenus, une manutention, une boucherie, un parc au fourrage et un magasin à poudre. La dépense pour ces divers travaux pourra élever à ,, francs. GUELMA ET DÉPENDANCES. . FORTIFICATIONS. TRAVAUX EXÉCUTÉS EN . $ ler. Travaux ordinaires. — On a terminé la reconstruction de enceinte dans la partie du front -, qui se trouve à gauche de la porte Hacket. A droite de la même porte on a élevé les maçonneries à mètres au-dessus de la banquette et fait les créneaux, On a fait les réparations et entretiens courants. La dépense sur le budget ordinaire est élevée à , francs. $ . Travaux extraordinaires. — Il a rien été dépensé sur les fonds des travaux extraordinaires. TRAVAUX RESTANT À FAIRE. Il reste à terminer la restauration de enceinte du quartier militaire, et à construire en entier celle de la petite ville européenne, qui élève peu à peu sur les ruines de ancienne ville romaine. Ces travaux nécessiteront une dépense environ , francs. BATIMENTS MILITAIRES. TRAVAUX EXÉCUTÉS EN . S le Travaux ordinaires. - On a complétement terminé le quartier de cavalerie qui contiendra sous-officiers et soldats, une sellerie et deux magasins pour les spahis; il ne reste à faire que ameublement. On a achevé le parc au fourrage, fait diverses réparations aux locaux du casernement et aux magasins de administration. Il existe à Hammam-Meskhoutin, près de Guelma, des sources eaux chaudes et sulfureuses extrême- ( ) ment abondantes, et près desquelles on retrouve des ruines établissements assez importants fondés par les Romains. Pour expérimenter action de ces eaux, on a créé sur ce point une installation provisoire, comprenant un logement pour le médecin en chef, et quelques locaux pour les douches et les bains de vapeur. On a découvert anciens bassins romains qui ont été restaurés. Enfin, on a ouvert une route de , mètres de développement entre Hammam-Meskhoutin et le camp de Medjez-Hammar. Les fièvres, dont tous les malades ont été atteints au moment des chaleurs, ont fait cesser momentané- ment expérience des eaux. Reprises en , elles ont donné des résultats très-satisfaisants, dus en partie à une meilleure installation et au soin on a pris de y laisser séjourner les malades que jusau mois de juin. On a dépensé sur le budget ordinaire , francs. S . Travaux extraordinaires. Il a rien été dépensé sur les fonds extraordinaires. TRAVAUX RESTANT À FAIRE. La garnison normale de Guelma paraît devoir se composer de hommes infanterie et de spahis. Les locaux permanents actuellement construits sont suffisants pour le casernement. Les seuls travaux restant à faire, pour compléter les établissements dont cette petite place devra être pourvùe, comprennent des écuries pour chevaux, un logement pour officiers et un pavillon pour le commandant du cercle; Des bâtiments complémentaires de hôpital actuel pour go malades et les accessoires ; Des magasins pour , quintaux orge; Un magasin de campement avec buanderie ; Un magasin à poudre pour , kilogrammes. Ces divers travaux nécessiteront une dépense de , francs. BATNA. FORTIFICATIONS. TRAVAUX EXÉCUTÉS EN . Le poste de Batna' a été occupé une manière définitive vers le mois de mai , à la suite de expédition de Biskra et des Oulad-Soulthan, situé entre cette dernière tribu et celle des Aurès; il permettra à nos troupes de se porter en deux journées de marche au centre des montagnes habitées par ces populations, qui seront longtemps encore impatientes du joug, et dont état hostilité avait depuis plusieurs années intercepté presque complétement nos relations avec le Sahara. Déjà, sous ce dernier point de vue, installation de ce poste a rendu de grands services. Sa position sur la ligne de communication la plus fréquentée entre Constantine et Biskra a permis assurer les relations entre ces deux localités, à tel point un petit nombre de cavaliers peut parcourir impunément les o lieues qui les séparent, et que la tribu nomade des Sahari a pu reprendre, sans crainte être inquiétée, le commerce échange qui forme, son unique industrie. enceinte du camp de Batna, exécutée au moment de occupation, ne consiste encore en un parapet en terre, précédé un fossé. Elle sera remplacée plus tard par un mur crénelé, flanqué par de petits bastionnets. La construction de cette enceinte nécessitera une dépense environ , francs. ( ) BATIMENTS MILITAIRES. TRAVAUX EXÉCUTÉS EN . S ler. Travaux ordinaires. — On a construit des baraques en maçonnerie de moellons et mortier de terre pour sous-officiers et soldats et pour officiers, des hangars-écuries pour chevaux, un hôpital provisoire une contenance de lits et un parc pour bæufs; on a creusé dans la terre des silos pour les grains et des caves pour les liquides, construit des fours à chaux et à briques, installé une tuilerie. Ces travaux ont nécessité une dépense de , francs. S . Travaux extraordinaires. On a rien dépensé sur les fonds des travaux extraordinaires. TRAVAUX RESTANT À FAIRE. la grande Le poste de Batna aura toujours un rôle très-important à remplir, même après la pacification complète du pays environnant; le grand nombre Arabes qui fréquenteront cette localité, comme aussi son éloignement de Constantine, ont paru des motifs suffisants pour lui attribuer une garnison plus forte à ceux des autres postes avancés dont il a été question jusà présent. On a fixée à , hommes, dont hommes infanterie, un escadron et demi de cavalerie et de forts détachements artillerie, du génie et des troupes de administration. On y a supposé une demi-compagnie du génie, parce que distance où le poste se trouve de la côte y rendra lent et difficile établissement de industrie particulière, et que ici à bien longtemps, armée sera le seul moyen dont on pourra disposer pour les travaux. Avec cette garnison, le commandant de Batna, une fois que le poste sera complétement organisé , pourra former un détachement de hommes infanterie et un escadron de marche de chevaux, force suffisante pour parcourir les tribus alors on le jugera nécessaire. Outre les casernes et écuries nécessaires, en raison de effectif indiqué plus haut, il faudra créer des magasins aux vivres une contenance de ,, de rations, pour faciliter le ravitaillement des colonnes qui auraient à opérer soit dans Aurès, soit chez les Oulad-Soulthan, des magasins pour le fourrage et le service du campement, un hôpital pour malades et infirmiers, un magasin à poudre, une prison, etc. Ces divers travaux nécessiteront une dépense environ , francs. BISKRA. Après expédition de Biskra, au mois de mars , occupation provisoire de cette ville fut jugée nécessaire pour la protéger contre les attaques du khalifa Abd-el-Kader, que nous en avions chassé, et qui avait cherché un refuge dans les monts Aurès. On avait abord pensé il ne serait nécessaire y maintenir des troupes un an ou deux, et seulement jusaprès la soumission complète des populations de Aurès et des Oulad-Soulthan; mais, plus tard, extension rapide que prirent les relations commerciales entre Constantine et les populations nomades des Ziban, assurées désormais de trouver, sous la protection de nos postes de Batna et de Biskra, la sécurité qui leur manquait auparavant, démontra la nécessité occuper cette nouvelle position une manière permanente, ou au moins pendant un ſaps de temps dont on ne pourrait préciser la durée. A époque de expédition, la garnison fut installée dans des maisons en terre qui existaient dans la Kasbah; cette Kasbah elle-même était enceinte de murs construits avec des briques cuites au soleil, et dont une partie était en très-mauvais état. Quelques réparations, soit à enceinte, soit aux maisons, furent faites ( ) à la hâte par les troupes de la colonne expéditionnaire; mais, en vue une occupation de quelques années, et eu égard aux chaleurs dévorantes qui règnent pendant été dans le Sahara, il était indispensable organiser, pour le logement des hommes, une installation qui pût les protéger contre influence pernicieuse du climat. Il était aussi nécessaire assurer la défense en restaurant ou plutôt en reconstruisant enceinte de la Kasbah. Sous le rapport des fortifications et des bâtiments militaires, il y avait donc tout à créer. Toutefois, comme les projets de ces derniers travaux ont point encore été rédigés, que effectif mème de la garnison normale a point encore été assigné, il est à peu près impossible de préciser la dépense ils occasionneront. FORTIFICATIONS. Les seuls travaux exécutés aux fortifications en ont consiste en quelques réparations faites par les troupes. Ils ont donné lieu à aucune dépense. BATIMENTS MILITAIRES. TRAVAUX EXÉCUTÉS EN . S ler. Travaux ordinaires. On a construit, en briques cuites au soleil et couvert en terrasse, suivant usage du pays, des casernes pour hommes, à om, par homme, des logements pour i officiers, des écuries pour chevaux, un hôpital pour lits, des magasins aux vivres pour , rations, une manutention, un moulin à eau et des hangars. Ces divers travaux ont nécessité une dépense environ , francs. S . Travaux ertraordinaires. On a rien dépensé sur les fonds extraordinaires. DIVISION ORAN. ORAN ET DÉPENDANCES. FORTIFICATIONS. TRAVAUX EXÉCUTÉS EN . $ er Travaux ordinaires. On a continué la réparation du fort de Mers-el-Kebir, fait le lever et le nivellement de la place, délimité le terrain militaire de Misserguin, réparé la fortification du Château-Nerf et du fort Sainte-Thérèse. On a confectionné et réparé des outils et acheté des harnais. On a dépensé , francs. S . Travaux extraordinaires. - On a seulement payé un approvisionnement de matériaux qui est élevé à , francs. ( ) TRAVAUX RESTANT À FAIRE. Il y a à continuer les réparations des escarpes et contrescarpes de enceinte Oran, à fermer la place par la jonction du Château-Neuf à ancienne enceinte espagnole; enfin, à organiser entrée de la ville par le ravin de Ras-el-Aïn. Les travaux de Mers-el-Kebir consisteront à terminer les réparations des anciennes fortifications, dont quelques parties devront être reconstruites, et à compléter par des ouvrages neufs le système de défense intérieure de la place; enfin, on devra établir des batteries de côte pour assurer la rade et en éloigner les bâtiments ennemis, et occuper par des tours les crêtes des hauteurs qui dominent le fort de Mers-el-Kebir et emplacement des batteries. La construction de une des batteries de côte a été commencée en . Ces divers travaux élèveront, pour Oran, à une dépense environ , francs; Pour Mers-el-Kebir, à millions. BATIMENTS MILITAIRES. TRAVAUX EXÉCUTÉS EN . S ler. Travaux ordinaires. On a terminé entièrement la caserne K du Château-Neuf; cette caserne peut recevoir , hommes infanterie. On a commencé les démolitions, les déblais et les maçonneries pour la construction du magasin central des hôpitaux. On a construit complétement et livré un magasin du campement, dont les locaux présentent une surface de mètres cubes. Une chambre de la ferme de Darbeïda a été appropriée pour recevoir des étalons. hôtel du lieutenant-général commandant la division a été complétement restauré. On a loué et acquis différents immeubles, confectionné ameublement de la caserne K, fait le lever des bâtiments de la place, pourvu aux frais de bureau et de gérance, etc. Les dépenses faites pour ces travaux élèvent à , francs. S . Travaux extraordinaires. On a fait à hôpital de la Mosquée des améliorations importantes, on a démoli les bâtiments du Colysée, et sur leur emplacement on a exécuté des déblais considérables et établi les fondations de hôpital neuf. On a fait des acquisitions et payé des indemnités. On a construit des écuries à Sidi-Bel-Abbès pour chevaux et à Kargantha pour . Ces divers travaux ont nécessité une dépense de , francs, savoir : Sur le budget ordinaire... Sur le crédit extraordinaire TRAVAUX RESTANT À FAIRE. Dans le comple rendu de année précédente, on avait indiqué la garnison normale Oran et de ses dépendances comme devant ètre de , hommes et de , chevaux. Par suite de la création des deux nouveaux postes de Djemå-Ghazaouat et de Daïa, cet effectif paraît devoir être réduit à , hommes environ. Indépendamment des constructions nécessaires au casernement proprement dit, il у aura encore à compléter la place en magasins de toute nature, pouvant contenir un approvisionnement de douze mois pour la garnison. Une grande partic de ces établissements ont été créés depuis occupation ou ont été obtenus en appropriant anciennes constructions espagnoles. En résumé, il faut encore à Oran des casernes pour , hommes de divers corps, des écuries pour chevaux, des magasins pour , quintaux orge, un magasin à poudre pour , kilogrammes, un pavillon pour le commandant de place, achever le magasin central de hôpital et celui du campement. ( ) A Misserguin, il faudra installer une manutention avec deux fours de rations et. quelques magasins. A Mers-el-Kebir il y a à construire une caserne pour hommes et un pavillon pour officiers. Ces divers travaux nécessiteront une dépense environ ,, francs. DJEMA-GHAZAOUAT. Le poste de Djemå-Ghazaouat a été occupé en au moment de expédition du Maroc; ce mouillage, quoique asseż médiocre, est cependant très-accessible aux navires dans la belle saison, et sous ce rapport il a été extrêmement utile pour le ravitaillement de armée qui opérait du côté Ouchda. Situé à lieues du poste de Lella-Maghnïa et à lieues et demie de Tlemsen, il présente de grands avantages pour approvisionnement de cette dernière ville, qui, auparavant, ne communiquait avec le littoral que par Oran, dont elle est éloignée de lieues. Cette considération a fait admettre en principe occupation permanente de Djemå-Ghazaouat. Le nouveau poste a été établi près de embouchure et sur la rive droite de Ouad-Nedroma, il est do-. miné par deux hauteurs, dont une est occupée par la ville arabe, ancien repaire des corsaires. Outre les établissements militaires qui devront y être créés, emplacement choisi présente espace nécessaire pour la création une petite ville européenne, qui ne tardera pas à se développer à mesure que les relations commerciales avec intérieur prendront de extension. Aussitôt que occupation permanente du nouveau poste a été décidée, on a rédigé un projet ensemble comprenant le tracé de enceinte, les établissements militaires et le plan alignement de la ville. On a aussi entrepris les travaux nécessaires pour assurer provisoirement la défense de la position et le logement de la garnison. FORTIFICATIONS. TRAVAUX EXÉCUTÉS EN . . S ler. Travaux ordinaires. On a rien dépensé sur les fonds ordinaires. $ . Travant extraordinaires. On a exécuté une enceinte provisoire composée un fossé et un palissadement. La dépense est élevée à environ , francs. TRAVAUX RESTANT À FAIRE. des petits Il a à faire toute enceinte définitive, dont la dépense élèvera à environ , francs. Cette enceinte se composera un mur crénelé, couronnant les hauteurs qui dominent la position et venant rejoindre la mer par les extrémités est et ouest. Il sera en outre nécessaire occuper par forts les sommets de deux mamelons qui dominent une partie de enceinte à très-petite distance. enceinte actuellement en construction suffira ici à quelques années pour le besoin de la population civile. Plus tard, quand on en aura reconnu la nécessité, on agrandira espace disponible pour les constructions particulières, en reportant le côté ouest de enceinte vers Ouad-Nedroma. BATIMENTS MILITAIRES. TRAVAUX EXÉCUTÉS EN . S . -- Travaux ordinaires. — Il a rien été dépensé sur les fonds ordinaires. ( ) S . Travaux extraordinaires. - On a créé des établissements provisoires pour le casernement des troupes , hôpital, le logement officiers et les magasins des subsistances. La dépense est élevée à environ , francs. TRAVAUX RESTANT À FAIRE. Il y aura à créer les établissements nécessaires pour le casernement une garnison de hommes environ, une manutention, un magasin des subsistances pour ,, de rations, un magasin à poudre, un pavillon officiers, un hôpital pour malades, un parc aux baufs. La dépense de ces divers établissements élèvera á environ , francs. ARZEU. FORTIFICATIONS. TRAVAUX EXÉCUTÉS EN . S ler. Travaux ordinaires. Il a rien été dépensé. S . Travaux extraordinaires -- Il a rien été dépensé. TRAVAUX RESTANT À FAIRE. enceinte actuelle Arzeu est trèș-restreinte; elle a été établie que dans le but de renfermer les établissements militaires, et un petit nombre de maisons particulières. Le mouillage Arzeu étant le meilleur de la côte de ouest pour les bâtiments du commerce, il est certain que, quand la pacification complète du pays aura permis de nouer des relations commerciales avec intérieur, ce point acquerra une certaine importance et deviendra un centre de population européenne. Dans cette prévision, on a donc rédigé un projet alignement de la ville future, ainsi que de enceinte destinée à en assurer la défense. Les travaux de cette nouvelle enceinte ont été entrepris en . La dépense en est évaluée à , francs. BATIMENTS MILITAIRES, TRAVAUX EXÉCUTÉS EN . $ ]er. Travaux ordinaires. On a rien dépensé sur les fonds ordinaires. S . Travaux extraordinaires. On a commencé et fort avancé une caserne pour hommes, qui formeront, à très-peu près, la garnison normale de ce poste. La dépense est élevée à , francs. TRAVAUX RESTANT À FAIRE. achèvement de la caserne en cours de construction est le seul travail un peu important restant à faire pour compléter les établissements permanents dont la ville Arzeu devra être pourvue. La dépense excédera pas , francs. ( ) MOSTAGANEM. FORTIFICATIONS. TRAVAUX EXÉCUTÉS EN . S ler. Travaux ordinaires On a terminé le mur enceinte et organisé la rue du rempart depuis la porte de la basse ville jusà la grande rue. On a exécuté des escarpements dans le roc, entre le saillant et le fortin de la marine. On a achevé le bastion contigu à la tour du four à chaux et déblayé le terrain en avant. On a fait des rejointoiements à la vieille enceinte de Mostaganem et à celle du réduit de Matemore. On a continué enceinte du camp du Khamis des Beni-Ouragh. On a entretenu les plantations, acheté une machine à mortier, confectionné des engins et des prolonges. Les dépenses montent à , francs. S . Traraux extraordinaires. — On a fait aucune dépense sur les fonds des travaux extraordinaires. TRAVAUX RESTANT À FAIRE. La vieille enceinte de Mostaganem et de Matemore devra nécessairement être refaite en grande partie, à cause du peu de solidité des murs construits en mortier de terre; il faudra aussi terminer enceinte des faubourgs depuis Mostaganem jusà la mer, en passant par le fortin de la Marine, La dépense, pour ces divers travaux, pourra élever à environ , francs. BATIMENTS MILITAIRES. TRAVAUX EXÉCUTÉS EN . S Ter. Travaux ordinaires. On a amélioré, à Mostaganem et au camp de Sidi-bel-Hassel, les maisons occupées par la troupe et les officiers, le baraquement, ainsi que les magasins des subsistances. On a installé le dépôt du e chasseurs; les logements des officiers comptables et les magasins ont été organisés au beylik; les logements des maîtres ouvriers, les ateliers, infirmerie, la salle armes et les autres accessoires ont été établis au camp de cavalerie. On a disposé la mosquée El-Mål et deux maisons voisines pour le casernement de indigènes et les accessoires. On a pourvu à divers frais de location, de bureau, de gérance, et acquis deux maisons servant de logement à M. le maréchal de camp commandant la subdivision. On a dépensé , francs. S . Travaux extraordinaires. On a commencé la construction du bâtiment principal de la caserne neuve, exécuté les déblais des fondations du bâtiment en fer à cheval de hôpital permanent, et entrepris les maçonneries. On a dépensé , francs, savoir : Sur le budget ordinaire.. ,f Sur le crédit extraordinaire... TRAVAUX RESTANT À FAIRE. Il y a encore autre établissement définitif, à Mostaganem, que la caserne A, qui peut contenir hommes et qui sert hôpital. après les bases admises dans le compte rendu des travaux de , la garnison normale de Mostaganem devrait comprendre , bommes et chevaux; indépendamment ALGÉRIE. - SITUATION EN -. ( ) des casernes-écuries à terminer ou à construire en vue un pareil effectif, il y aura à créer un magasin des subsistances, des logements pour le général commandant la subdivision et le commandant de place, une manutention, un abattoir, un magasin de chauffage, du campement, des lits militaires, un magasin à poudre. Enfin on aura à achever hôpital permanent commencé en . La dépense de ces divers travaux pourra élever à la somme de ,, francs. MASCARA. FORTIFICATIONS. TRAVAUX EXÉCUTÉS EN . S ler. Travaar ordinaires. On a commencé les piles et les culées du pont qai relie la ville avec le quaitier de Argoub. Un pont de deux arches, jeté anciennement sur le ravin Aïn-Toudman, établissait, entre ces deux points, une communication difficile, à cause de la raideur des rampes qui y donnaient accès ; on a amélioré en relevant de mètres par un pont de arches ancien pont qui lui sert de base. On a exécuté une partie du nivellement général de la place, entretenu la route de Saïda, rectifié le chemin de mulets de Mostaganem à Mascara par le défilé Akbet-Redda, ouvert une porte de ville dans le quartier de cavalerie, réparé des brèches et posé des barrières. On a réparé les parapets des redoutes de Sidi-Djelali, Ben-Amar et Ouizert. On a dépensé , francs. S . Travaux extraordinaires.--- On a continué le pont de Argoub, commencé sur les fonds ordinaires; les voûtes, une de mètres de diamètre et les autres de mètres, ont été construites. Un pont provisoire sur chevalets, jeté sur la Tarïa, près du poste Ouizert, avait été enlevé par les eaux, il importait de le rétablir. On a commencé les fondations une culée et une pile du pont définitif qui consistera en un tablier en bois supporté par des piles en maçonnerie. On a aussi acheté une partie des bois du tablier. Ces travaux ont nécessité, sur les crédits extraordinaires, une dépense de , francs. TRAVAUX RESTANT À FAIRE. La ville de Mascara est destinée à recevoir plus tard une population nombreuse. On a rédigé, dans cette prévision, un projet alignement pour la ville européenne; ce projet nécessitera la construction une nouvelle enceinte beaucoup plus étendue que ancienne, qui, ailleurs, est en très-mauvais état. Jusà présent, on a fait que tracer la fondation de enceinte :projetée dont les maçonneries sont à faire en entier. La dépense pourra élever à la somme de , francs. BATIMENTS MILITAIRES. TRAVAUX EXÉCUTÉS EN . $ er. Travaux ordinaires. On a réparé et amélioré une partie des locaux du casernement provisoire, terminé les travaux intérieurs dans les hôtels des officiers généraux. On a agrandi et amélioré les ateliers, la chaufournerie, la briqueterie et ouvert de nouvelles carrières à pierres de taille. On a continué\"]\n"
     ]
    }
   ],
   "source": [
    "print(len(docs))\n",
    "print(docs)"
   ]
  },
  {
   "cell_type": "markdown",
   "id": "702cadf1",
   "metadata": {
    "heading_collapsed": true
   },
   "source": [
    "### **Tokenization**"
   ]
  },
  {
   "cell_type": "code",
   "execution_count": 117,
   "id": "fb9ae469",
   "metadata": {
    "hidden": true
   },
   "outputs": [
    {
     "name": "stdout",
     "output_type": "stream",
     "text": [
      "[]\n"
     ]
    }
   ],
   "source": [
    "# Tokenization\n",
    "\n",
    "def sent_to_words(sentences):\n",
    "    for sentence in sentences:\n",
    "        yield(gensim.utils.simple_preprocess(str(sentence), deacc=True))  # deacc=True removes punctuations\n",
    "\n",
    "#data_words = list(sent_to_words(data))\n",
    "doc_words = list(sent_to_words(docs)) # returns list of [list of words]\n",
    "max_words = 50\n",
    "\n",
    "#print(data_words[:1])\n",
    "print(doc_words[0][:max_words]) # prints first max_words in first doc\n",
    "\n",
    "# 2D List Sentence Datatype:\n",
    "# list of sentences, where each list element contains word elements\n",
    "\n",
    "'''\n",
    "=============================\n",
    "'''\n",
    "# Create a dictionary representation of the documents.\n",
    "dictionary = Dictionary(docs)\n",
    "\n",
    "# Filter out words that occur less than 20 documents, or more than 50% of the documents.\n",
    "dictionary.filter_extremes(no_below=20, no_above=0.5)"
   ]
  },
  {
   "cell_type": "code",
   "execution_count": 74,
   "id": "9f444f3d",
   "metadata": {
    "hidden": true
   },
   "outputs": [
    {
     "name": "stdout",
     "output_type": "stream",
     "text": [
      "['from', 'wheres', 'my', 'thing', 'subject', 'what', 'car', 'is', 'this', 'nntp_posting_host', 'rac_wam_umd_edu', 'organization', 'university', 'of', 'maryland_college_park', 'lines', 'was', 'wondering', 'if', 'anyone', 'out', 'there', 'could', 'enlighten', 'me', 'on', 'this', 'car', 'saw', 'the', 'other', 'day', 'it', 'was', 'door', 'sports', 'car', 'looked', 'to', 'be', 'from', 'the', 'late', 'early', 'it', 'was', 'called', 'bricklin', 'the', 'doors', 'were', 'really', 'small', 'in', 'addition', 'the', 'front_bumper', 'was', 'separate', 'from', 'the', 'rest', 'of', 'the', 'body', 'this', 'is', 'all', 'know', 'if', 'anyone', 'can', 'tellme', 'model', 'name', 'engine', 'specs', 'years', 'of', 'production', 'where', 'this', 'car', 'is', 'made', 'history', 'or', 'whatever', 'info', 'you', 'have', 'on', 'this', 'funky', 'looking', 'car', 'please', 'mail', 'thanks', 'il', 'brought', 'to', 'you', 'by', 'your', 'neighborhood', 'lerxst']\n"
     ]
    }
   ],
   "source": [
    "# Use a Unigram Model\n",
    "# Build the bigram and trigram models\n",
    "bigram = gensim.models.Phrases(data_words, min_count=5, threshold=100) # higher threshold fewer phrases.\n",
    "trigram = gensim.models.Phrases(bigram[data_words], threshold=100)  \n",
    "\n",
    "# Faster way to get a sentence clubbed as a trigram/bigram\n",
    "bigram_mod = gensim.models.phrases.Phraser(bigram)\n",
    "trigram_mod = gensim.models.phrases.Phraser(trigram)\n",
    "\n",
    "# See trigram example\n",
    "print(trigram_mod[bigram_mod[data_words[0]]])"
   ]
  },
  {
   "cell_type": "code",
   "execution_count": 80,
   "id": "b7f58d05",
   "metadata": {
    "hidden": true
   },
   "outputs": [],
   "source": [
    "# Define functions for stopwords, bigrams, trigrams and lemmatization\n",
    "\n",
    "def remove_stopwords(texts, stop_words):\n",
    "    return [[word for word in simple_preprocess(str(doc)) if word not in stop_words] for doc in texts]\n",
    "\n",
    "def make_bigrams(texts):\n",
    "    return [bigram_mod[doc] for doc in texts]\n",
    "\n",
    "def make_trigrams(texts):\n",
    "    return [trigram_mod[bigram_mod[doc]] for doc in texts]\n",
    "\n",
    "def lemmatization(texts, allowed_postags=['NOUN', 'ADJ', 'VERB', 'ADV']):\n",
    "    \"\"\"https://spacy.io/api/annotation\"\"\"\n",
    "    texts_out = []\n",
    "    for sent in texts:\n",
    "        doc = nlp(\" \".join(sent)) \n",
    "        texts_out.append([token.lemma_ for token in doc if token.pos_ in allowed_postags])\n",
    "    return texts_out"
   ]
  },
  {
   "cell_type": "code",
   "execution_count": 84,
   "id": "34c260c5",
   "metadata": {
    "hidden": true
   },
   "outputs": [
    {
     "name": "stdout",
     "output_type": "stream",
     "text": [
      "\u001b[31mERROR: Could not find a version that satisfies the requirement fr-core-news-sm (from versions: none)\u001b[0m\u001b[31m\n",
      "\u001b[0m\u001b[31mERROR: No matching distribution found for fr-core-news-sm\u001b[0m\u001b[31m\n",
      "\u001b[0m\u001b[31mERROR: Could not find a version that satisfies the requirement en_core_web_sm (from versions: none)\u001b[0m\u001b[31m\n",
      "\u001b[0m\u001b[31mERROR: No matching distribution found for en_core_web_sm\u001b[0m\u001b[31m\n",
      "\u001b[0m"
     ]
    }
   ],
   "source": [
    "# Install LLMs\n",
    "'''\n",
    "!python -m spacy download fr_core_news_sm # French\n",
    "!python -m spacy download en_core_web_sm # English\n",
    "'''\n",
    "'''\n",
    "DOESN'T WORK\n",
    "'''\n",
    "!pip install fr-core-news-sm\n",
    "!pip install en_core_web_sm\n"
   ]
  },
  {
   "cell_type": "markdown",
   "id": "40cb6658",
   "metadata": {},
   "source": [
    "### **Lemmatization**"
   ]
  },
  {
   "cell_type": "code",
   "execution_count": 116,
   "id": "65c05e47",
   "metadata": {},
   "outputs": [
    {
     "ename": "OSError",
     "evalue": "[E050] Can't find model 'fr_core_news_sm'. It doesn't seem to be a Python package or a valid path to a data directory.",
     "output_type": "error",
     "traceback": [
      "\u001b[0;31m---------------------------------------------------------------------------\u001b[0m",
      "\u001b[0;31mOSError\u001b[0m                                   Traceback (most recent call last)",
      "Cell \u001b[0;32mIn [116], line 13\u001b[0m\n\u001b[1;32m      9\u001b[0m data_words_bigrams \u001b[38;5;241m=\u001b[39m make_bigrams(data_words_nostops)\n\u001b[1;32m     11\u001b[0m \u001b[38;5;66;03m# Initialize spacy 'en' model, keeping only tagger component (for efficiency)\u001b[39;00m\n\u001b[1;32m     12\u001b[0m \u001b[38;5;66;03m# python3 -m spacy download en\u001b[39;00m\n\u001b[0;32m---> 13\u001b[0m nlp \u001b[38;5;241m=\u001b[39m \u001b[43mspacy\u001b[49m\u001b[38;5;241;43m.\u001b[39;49m\u001b[43mload\u001b[49m\u001b[43m(\u001b[49m\u001b[38;5;124;43m'\u001b[39;49m\u001b[38;5;124;43mfr_core_news_sm\u001b[39;49m\u001b[38;5;124;43m'\u001b[39;49m\u001b[43m)\u001b[49m\n\u001b[1;32m     14\u001b[0m \u001b[38;5;66;03m# for French LLM: fr_core_news_sm\u001b[39;00m\n\u001b[1;32m     15\u001b[0m \u001b[38;5;66;03m# for French LLM: en_core_web_sm\u001b[39;00m\n\u001b[1;32m     16\u001b[0m \n\u001b[1;32m     17\u001b[0m \u001b[38;5;66;03m# Do lemmatization keeping only noun, adj, vb, adv\u001b[39;00m\n\u001b[1;32m     18\u001b[0m data_lemmatized \u001b[38;5;241m=\u001b[39m lemmatization(data_words_bigrams, allowed_postags\u001b[38;5;241m=\u001b[39m[\u001b[38;5;124m'\u001b[39m\u001b[38;5;124mNOUN\u001b[39m\u001b[38;5;124m'\u001b[39m, \u001b[38;5;124m'\u001b[39m\u001b[38;5;124mADJ\u001b[39m\u001b[38;5;124m'\u001b[39m, \u001b[38;5;124m'\u001b[39m\u001b[38;5;124mVERB\u001b[39m\u001b[38;5;124m'\u001b[39m, \u001b[38;5;124m'\u001b[39m\u001b[38;5;124mADV\u001b[39m\u001b[38;5;124m'\u001b[39m])\n",
      "File \u001b[0;32m/Library/Frameworks/Python.framework/Versions/3.11/lib/python3.11/site-packages/spacy/__init__.py:54\u001b[0m, in \u001b[0;36mload\u001b[0;34m(name, vocab, disable, enable, exclude, config)\u001b[0m\n\u001b[1;32m     30\u001b[0m \u001b[38;5;28;01mdef\u001b[39;00m \u001b[38;5;21mload\u001b[39m(\n\u001b[1;32m     31\u001b[0m     name: Union[\u001b[38;5;28mstr\u001b[39m, Path],\n\u001b[1;32m     32\u001b[0m     \u001b[38;5;241m*\u001b[39m,\n\u001b[0;32m   (...)\u001b[0m\n\u001b[1;32m     37\u001b[0m     config: Union[Dict[\u001b[38;5;28mstr\u001b[39m, Any], Config] \u001b[38;5;241m=\u001b[39m util\u001b[38;5;241m.\u001b[39mSimpleFrozenDict(),\n\u001b[1;32m     38\u001b[0m ) \u001b[38;5;241m-\u001b[39m\u001b[38;5;241m>\u001b[39m Language:\n\u001b[1;32m     39\u001b[0m     \u001b[38;5;124;03m\"\"\"Load a spaCy model from an installed package or a local path.\u001b[39;00m\n\u001b[1;32m     40\u001b[0m \n\u001b[1;32m     41\u001b[0m \u001b[38;5;124;03m    name (str): Package name or model path.\u001b[39;00m\n\u001b[0;32m   (...)\u001b[0m\n\u001b[1;32m     52\u001b[0m \u001b[38;5;124;03m    RETURNS (Language): The loaded nlp object.\u001b[39;00m\n\u001b[1;32m     53\u001b[0m \u001b[38;5;124;03m    \"\"\"\u001b[39;00m\n\u001b[0;32m---> 54\u001b[0m     \u001b[38;5;28;01mreturn\u001b[39;00m \u001b[43mutil\u001b[49m\u001b[38;5;241;43m.\u001b[39;49m\u001b[43mload_model\u001b[49m\u001b[43m(\u001b[49m\n\u001b[1;32m     55\u001b[0m \u001b[43m        \u001b[49m\u001b[43mname\u001b[49m\u001b[43m,\u001b[49m\n\u001b[1;32m     56\u001b[0m \u001b[43m        \u001b[49m\u001b[43mvocab\u001b[49m\u001b[38;5;241;43m=\u001b[39;49m\u001b[43mvocab\u001b[49m\u001b[43m,\u001b[49m\n\u001b[1;32m     57\u001b[0m \u001b[43m        \u001b[49m\u001b[43mdisable\u001b[49m\u001b[38;5;241;43m=\u001b[39;49m\u001b[43mdisable\u001b[49m\u001b[43m,\u001b[49m\n\u001b[1;32m     58\u001b[0m \u001b[43m        \u001b[49m\u001b[43menable\u001b[49m\u001b[38;5;241;43m=\u001b[39;49m\u001b[43menable\u001b[49m\u001b[43m,\u001b[49m\n\u001b[1;32m     59\u001b[0m \u001b[43m        \u001b[49m\u001b[43mexclude\u001b[49m\u001b[38;5;241;43m=\u001b[39;49m\u001b[43mexclude\u001b[49m\u001b[43m,\u001b[49m\n\u001b[1;32m     60\u001b[0m \u001b[43m        \u001b[49m\u001b[43mconfig\u001b[49m\u001b[38;5;241;43m=\u001b[39;49m\u001b[43mconfig\u001b[49m\u001b[43m,\u001b[49m\n\u001b[1;32m     61\u001b[0m \u001b[43m    \u001b[49m\u001b[43m)\u001b[49m\n",
      "File \u001b[0;32m/Library/Frameworks/Python.framework/Versions/3.11/lib/python3.11/site-packages/spacy/util.py:449\u001b[0m, in \u001b[0;36mload_model\u001b[0;34m(name, vocab, disable, enable, exclude, config)\u001b[0m\n\u001b[1;32m    447\u001b[0m \u001b[38;5;28;01mif\u001b[39;00m name \u001b[38;5;129;01min\u001b[39;00m OLD_MODEL_SHORTCUTS:\n\u001b[1;32m    448\u001b[0m     \u001b[38;5;28;01mraise\u001b[39;00m \u001b[38;5;167;01mIOError\u001b[39;00m(Errors\u001b[38;5;241m.\u001b[39mE941\u001b[38;5;241m.\u001b[39mformat(name\u001b[38;5;241m=\u001b[39mname, full\u001b[38;5;241m=\u001b[39mOLD_MODEL_SHORTCUTS[name]))  \u001b[38;5;66;03m# type: ignore[index]\u001b[39;00m\n\u001b[0;32m--> 449\u001b[0m \u001b[38;5;28;01mraise\u001b[39;00m \u001b[38;5;167;01mIOError\u001b[39;00m(Errors\u001b[38;5;241m.\u001b[39mE050\u001b[38;5;241m.\u001b[39mformat(name\u001b[38;5;241m=\u001b[39mname))\n",
      "\u001b[0;31mOSError\u001b[0m: [E050] Can't find model 'fr_core_news_sm'. It doesn't seem to be a Python package or a valid path to a data directory."
     ]
    }
   ],
   "source": [
    "# Continue preprocess data: remove STOP WORDS\n",
    "# Make N-grams\n",
    "\n",
    "# Remove Stop Words\n",
    "stop_words = ['.', ',']\n",
    "data_words_nostops = remove_stopwords(data_words, stop_words)\n",
    "\n",
    "# Form Bigrams\n",
    "data_words_bigrams = make_bigrams(data_words_nostops)\n",
    "\n",
    "# Initialize spacy 'en' model, keeping only tagger component (for efficiency)\n",
    "# python3 -m spacy download en\n",
    "nlp = spacy.load('fr_core_news_sm')\n",
    "# for French LLM: fr_core_news_sm\n",
    "# for French LLM: en_core_web_sm\n",
    "\n",
    "# Do lemmatization keeping only noun, adj, vb, adv\n",
    "data_lemmatized = lemmatization(data_words_bigrams, allowed_postags=['NOUN', 'ADJ', 'VERB', 'ADV'])\n",
    "\n",
    "print(data_lemmatized[:1])"
   ]
  },
  {
   "cell_type": "markdown",
   "id": "afe2898a",
   "metadata": {
    "heading_collapsed": true
   },
   "source": [
    "### Word to Vector"
   ]
  },
  {
   "cell_type": "code",
   "execution_count": 85,
   "id": "9cbb55ef",
   "metadata": {
    "hidden": true
   },
   "outputs": [
    {
     "name": "stdout",
     "output_type": "stream",
     "text": [
      "['benefitting', 'qtpgt', 'cete', 'technically', 'anaysis', 'orbitals', 'differ', 'hitoshi', 'strangeness', 'wppk']\n",
      "[ 1.2043434   0.45090935  0.6814459   0.71514285 -0.20565455  0.04899871\n",
      " -1.2390375   1.3187934  -1.0867342  -1.1873775   0.7780586  -1.1127293\n",
      " -0.70415527 -1.469049    2.66402    -0.2349517  -1.2596971  -2.065122\n",
      " -1.2119664  -0.35730192  1.194244    0.541137    0.9512737   1.8481481\n",
      " -1.7076167   0.9615651  -0.24181955  1.0372014   0.13068132  0.3456982\n",
      "  1.2665006  -1.5543257  -1.101264    0.8776683   1.2107173   2.3477097\n",
      "  1.6224908   0.60920066  0.13322088 -1.2307758   0.44541365  0.43859813\n",
      "  0.54882747  0.9254551  -0.14761221  0.00746863 -1.1300443  -0.00929341\n",
      "  1.5262134  -1.0511706   0.254548   -1.1940298  -0.01581612  0.56519884\n",
      " -1.5968169   0.82404643  1.2795249  -1.4314567  -0.7828622   1.1949501\n",
      " -0.71451455  0.44535488 -0.48009786 -0.15477279 -0.9401595   1.1043555\n",
      " -0.13124456  0.44604433 -1.4503627   1.5139769  -0.78384197  1.2473552\n",
      " -0.04288181  0.30937344 -0.46542126  0.85135317 -2.3403068   0.78266084\n",
      " -0.3987931  -1.2818491   0.16538341  2.0644128   0.01591312  0.8567714\n",
      " -0.1420755  -0.15310887  0.19632526  0.283453    0.5807778  -0.2181401\n",
      " -1.6985885   0.05201419  0.2549217  -0.10496373  1.4564286  -0.30312565\n",
      "  0.0464627  -0.54008985  0.27165323 -0.35938573]\n"
     ]
    }
   ],
   "source": [
    "# import data\n",
    "sentences = list(sent_to_words(data))\n",
    "\n",
    "# train the model\n",
    "model = Word2Vec(sentences, vector_size=100, window=5, min_count=1, workers=4)\n",
    "\n",
    "# print the learned vocabulary\n",
    "vocab = model.wv.index_to_key\n",
    "word_vectors = [model.wv.get_vector(word) for word in vocab]\n",
    "\n",
    "print(random.sample(vocab, k=10))\n",
    "\n",
    "sample_word = 'try'\n",
    "sample_vect = model.wv[sample_word] if sample_word in vocab else None\n",
    "\n",
    "# get the vector representation of a word\n",
    "print(sample_vect)"
   ]
  },
  {
   "cell_type": "code",
   "execution_count": null,
   "id": "4cd5b034",
   "metadata": {
    "hidden": true
   },
   "outputs": [],
   "source": []
  }
 ],
 "metadata": {
  "kernelspec": {
   "display_name": "Python 3 (ipykernel)",
   "language": "python",
   "name": "python3"
  },
  "language_info": {
   "codemirror_mode": {
    "name": "ipython",
    "version": 3
   },
   "file_extension": ".py",
   "mimetype": "text/x-python",
   "name": "python",
   "nbconvert_exporter": "python",
   "pygments_lexer": "ipython3",
   "version": "3.11.0"
  }
 },
 "nbformat": 4,
 "nbformat_minor": 5
}
