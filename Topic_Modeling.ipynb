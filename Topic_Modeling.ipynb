{
 "cells": [
  {
   "cell_type": "markdown",
   "id": "1c142dbb",
   "metadata": {},
   "source": [
    "# Topic Modeling"
   ]
  },
  {
   "cell_type": "markdown",
   "id": "522d1754",
   "metadata": {},
   "source": [
    "## Import Modules"
   ]
  },
  {
   "cell_type": "code",
   "execution_count": 1,
   "id": "ff421378",
   "metadata": {},
   "outputs": [
    {
     "name": "stdout",
     "output_type": "stream",
     "text": [
      "['plutôt', 'valeur', 'onze', 'deuxièmement', 'premièrement', 'mien', 'combien', 'moyennant', 'seront', 'nombreuses']\n",
      "['de found in stopwords']\n"
     ]
    }
   ],
   "source": [
    "# Import Modules\n",
    "\n",
    "import re\n",
    "import numpy as np\n",
    "import pandas as pd\n",
    "from pprint import pprint\n",
    "import random\n",
    "np.random.seed(42)\n",
    "\n",
    "# Gensim\n",
    "import gensim\n",
    "import gensim.corpora as corpora\n",
    "from gensim.utils import simple_preprocess\n",
    "from gensim.models import CoherenceModel, Word2Vec, LdaModel\n",
    "from gensim.test.utils import common_corpus, common_dictionary\n",
    "from gensim.corpora import Dictionary\n",
    "\n",
    "\n",
    "# from gensim.models.wrappers import LdaMallet\n",
    "\n",
    "# spacy for lemmatization\n",
    "import spacy\n",
    "# download LLM: python -m spacy download en_core_web_sm\n",
    "\n",
    "# Plotting tools\n",
    "import pyLDAvis\n",
    "import pyLDAvis.gensim  # don't skip this\n",
    "import matplotlib.pyplot as plt\n",
    "%matplotlib inline\n",
    "\n",
    "# Enable logging for gensim - optional\n",
    "import logging\n",
    "logging.basicConfig(format='%(asctime)s : %(levelname)s : %(message)s', level=logging.ERROR)\n",
    "\n",
    "import warnings\n",
    "warnings.filterwarnings(\"ignore\",category=DeprecationWarning)\n",
    "\n",
    "# import NLTK stop words\n",
    "import nltk\n",
    "from nltk.corpus import stopwords\n",
    "from nltk import tokenize\n",
    "from nltk.tokenize import word_tokenize\n",
    "from nltk.stem import WordNetLemmatizer\n",
    "#nltk.download('punkt') # run once\n",
    "#nltk.download('stopwords')  # run once\n",
    "\n",
    "stop_words_fr_path = \"fr-stop-oa.txt\"\n",
    "stop_words_eng = stopwords.words('english')\n",
    "stop_words_fr = stopwords.words('french')\n",
    "with open(stop_words_fr_path, 'r') as f:\n",
    "    stop_words_fr = set(f.read().splitlines())\n",
    "\n",
    "print(list(stop_words_fr)[:10])\n",
    "\n",
    "ex = 'de'\n",
    "print([ex if ex not in stop_words_fr else ex + ' found in stopwords'])\n",
    "'''\n",
    "stop_words = stopwords.words('english')\n",
    "stop_words.extend(['from', 'subject', 're', 'edu', 'use'])\n",
    "'''\n",
    "mallet_path = \"/Users/aaron68lee/Documents/Coding-Projects/NLP-Research/Mallet\"\n"
   ]
  },
  {
   "cell_type": "markdown",
   "id": "fe4ed05e",
   "metadata": {},
   "source": [
    "## Import Datasets"
   ]
  },
  {
   "cell_type": "code",
   "execution_count": 2,
   "id": "4b552e7a",
   "metadata": {},
   "outputs": [],
   "source": [
    "'''\n",
    "Document Extractor\n",
    "'''\n",
    "\n",
    "import io\n",
    "import os.path\n",
    "import re\n",
    "import tarfile\n",
    "\n",
    "import smart_open\n",
    "\n",
    "# Filter for only nouns (in preprocessing)\n",
    "def noun_only(x):\n",
    "    pos_comment = nltk.pos_tag(x)\n",
    "    filtered = [word[0] for word in pos_comment if word[1] in ['NN']]\n",
    "    # to filter both noun and verbs\n",
    "    #filtered = [word[0] for word in pos_comment if word[1] in ['NN','VB', 'VBD', 'VBG', 'VBN', 'VBZ']]\n",
    "    return filtered\n",
    "\n",
    "'''\n",
    "DESCRIPTION: helper function to process all documents inside a corpus folder\n",
    "RETURN:\n",
    "    1) documents: python list of document as one string\n",
    "    2) document_names: python list of document names (list of strings)\n",
    "    3) doc_dict: dictionary mapping doc names to doc contents\n",
    "'''\n",
    "def extract_documents(url, max_docs=1):\n",
    "    doc_count = 0\n",
    "    documents = []\n",
    "    document_names = []\n",
    "    doc_dict = {} # combines documents and document_names into dictionary data structure\n",
    "    \n",
    "    with os.scandir(url) as entries:\n",
    "        for entry in entries:\n",
    "            if doc_count < max_docs:\n",
    "                if entry.is_file() and entry.name.endswith('.txt'):\n",
    "                    with open(entry, \"r\", encoding=\"utf-8\", errors=\"replace\") as file:\n",
    "                        curr_doc = file.read()\n",
    "                        curr_doc = tokenize.word_tokenize(curr_doc) # tokenize curr doc\n",
    "                        lowered = [w.lower() for w in curr_doc] # lowercase\n",
    "                        # add lemmitization preprocessing later...\n",
    "                        alpha = [w for w in lowered if w.isalpha()]\n",
    "                        filtered = [w for w in alpha if w not in stop_words_fr]\n",
    "                        curr_doc = list(filter(None, filtered))\n",
    "                        documents.append(curr_doc)\n",
    "                        # remove below for scalability latency issues\n",
    "                        document_names.append(entry.name) \n",
    "                        doc_dict[entry.name] = curr_doc\n",
    "                doc_count += 1\n",
    "    return documents, document_names, doc_dict\n"
   ]
  },
  {
   "cell_type": "code",
   "execution_count": 3,
   "id": "450b1a42",
   "metadata": {},
   "outputs": [
    {
     "name": "stdout",
     "output_type": "stream",
     "text": [
      "There are:  10  documents in the corpus folder\n",
      "\n",
      "Document Names:  ['Laplagne-Barris_FRconq_s1v07_3.txt', 'Laplagne-Barris_FRconq_s3v03_99.txt', 'Laplagne-Barris_FRconq_s1v08_10.txt', 'Reynaud_Annales-Algeriennes_t1_4.txt', 'Laplagne-Barris_FRconq_s1v01_20.txt']\n",
      "Sample abridged doc: \n",
      "\n",
      " [['provisoires', 'bardo', 'écuries', 'permanentes', 'terminer', 'caserne', 'construire', 'casernes', 'hommes', 'corps', 'écuries', 'chevaux', 'pavillons', 'officiers', 'prison', 'détenus', 'construire', 'bâtiments', 'accessoires', 'hôpital', 'militaire', 'terminer', 'magasins', 'vivres', 'construire', 'magasins', 'orge', 'travaux', 'nécessiteront', 'dépense', 'francs', 'setif', 'fortifications', 'travaux', 'exécutés', 'ler', 'travaux', 'ordinaires', 'terminé', 'tours', 'réduit', 'intérieur', 'dernière', 'tour', 'converti', 'silos', 'continué', 'travail', 'enceinte', 'ville', 'portion', 'comprise', 'porte', 'sud', 'front', 'bastion', 'élevée', 'jusà', 'hauteur', 'créneaux', 'réparé', 'brèche', 'enceinte', 'romaine', 'gorge', 'quartier', 'militaire', 'dépenses', 'entretien', 'construit', 'prolonges', 'camions', 'exploitation', 'bois', 'coupés', 'forêts', 'thaleb', 'dressé', 'plan', 'directeur', 'ville', 'banlieue', 'dépensé', 'francs', 'travaux', 'extraordinaires', 'dépensé', 'fonds', 'travaux', 'extraordinaires', 'travaux', 'restant', 'faire', 'tine', 'terminer', 'enceinte', 'quartier', 'militaire', 'reste', 'construire', 'tour', 'partie', 'courporte', 'fort', 'remettre', 'bonne', 'partie', 'enceinte', 'romaine', 'conservée', 'parement', 'grande', 'étendue', 'refait', 'mur', 'enceinte', 'ville', 'élevé', 'jusà', 'hauteur', 'créneaux', 'bastion', 'jusà', 'porte', 'sud', 'élevé', 'hauteur', 'reste', 'développement', 'puis', 'porté', 'partout', 'hauteur', 'définitive', 'tard', 'établira', 'hauteur', 'domine', 'ouest', 'quartier', 'militaire', 'travaux', 'nécessiteront', 'dépense', 'francs', 'batiments', 'militaires', 'travaux', 'exécutés', 'ler', 'travaux', 'ordinaires', 'caserne', 'cotée', 'terminée', 'baraques', 'servant', 'ateliers', 'logement', 'troupes', 'génie', 'réparées', 'achevé', 'maçonneries', 'couverture', 'plancher', 'bâtiment', 'fond', 'hôpital', 'mis', 'service', 'commencement', 'caves', 'déjà', 'livrées', 'administration', 'complété', 'organisation', 'magasins', 'subsistances', 'panneterie', 'renferment', 'bureaux', 'intendance', 'magasins', 'farines', 'vivres', 'campagne', 'orge', 'achevé', 'mur', 'clôture', 'magasin', 'fourrage', 'terminé', 'magasin', 'poudre', 'placé', 'pompe', 'milieu', 'cour', 'quartier', 'militaire', 'dépensé', 'francs', 'travaux', 'extraordinaires', 'fonds', 'grande', 'partie', 'travaux', 'hôpital', 'magasin', 'poudre', 'construit', 'écurie', 'go', 'chevaux', 'cuisines', 'latrines', 'salles', 'punition', 'dépensé', 'francs', 'savoir', 'budget', 'ordinaire', 'crédit', 'extraordinaire', 'travaux', 'restant', 'faire', 'effectif', 'garnison', 'normale', 'setif', 'indiqué', 'compte', 'rendu', 'travaux', 'comprend', 'hommes', 'armes', 'chevaux', 'travaux', 'restent', 'faire', 'installer', 'garnison', 'services', 'dépendent', 'considérables', 'casernes', 'contenant', 'ensemble', 'goo', 'hommes', 'accessoires', 'quartier', 'cavalerie', 'logement', 'cavaliers', 'quartier', 'spahis', 'entier', 'pavillon', 'officiers', 'hôtel', 'général', 'achèvement', 'hôpital', 'locaux', 'complémentaires', 'magasins', 'administration', 'prison', 'dépenses', 'travaux', 'élèveront', 'somme', 'francs', 'bône', 'calle', 'fortifications', 'travaux', 'exécutés', 'travaux', 'ordinaires', 'réparations', 'route', 'kasbah', 'ponceaux', 'bois', 'route', 'calle', 'ouvert', 'chemin', 'carrière', 'romaine', 'mer', 'réparations', 'parapet', 'front', 'kasbah', 'réparé', 'mur', 'soutenement', 'fossé', 'porte', 'damrémont', 'confectionné', 'prolonges', 'dépensé', 'budget', 'ordinaire', 'francs', 'travaux', 'extraordinaires', 'dépensé', 'fonds', 'travaux', 'extraordinaires', 'travaux', 'restant', 'faire', 'ville', 'bône', 'recevra', 'prochainement', 'extension', 'considérable', 'nécessitera', 'construction', 'nouvelle', 'enceinte', 'restera', 'relever', 'partie', 'escarpe', 'front', 'place', 'armandy', 'restaurer', 'partie', 'ancienne', 'enceinte', 'comprend', 'arsenal', 'artillerie', 'terminer', 'réparations', 'front', 'kasbah', 'calle', 'établir', 'batteries', 'emplacement', 'déterminé', 'commissio', 'nautique', 'construire', 'bône', 'nouvelle', 'enceinte', 'projet', 'agrandissement', 'ville', 'dépense', 'travaux', 'pourra', 'élever', 'á', 'francs', 'batiments', 'militaires', 'travaux', 'exécutés', 'er', 'travaux', 'ordinaires', 'bône', 'continué', 'construction', 'hôpital', 'militaire', 'bâtiment', 'entrepris', 'moitié', 'longueur', 'enduits', 'extérieurs', 'partie', 'menuiseries', 'terminé', 'maçonneries', 'couverture', 'bâtiment', 'subsistances', 'exécuté', 'réparations', 'maisons', 'affectées', 'casernement', 'restauré', 'façades', 'hôpital', 'extrait', 'carrière', 'romaine', 'fort', 'génois', 'blocs', 'marbre', 'destinés', 'construction', 'piedestal', 'statue', 'duc', 'orléans', 'alger', 'calle', 'amélioré', 'locaux', 'affectés', 'logement', 'troupe', 'magasins', 'administration', 'dépenses', 'élevées', 'budget', 'ordinaire', 'francs', 'travaux', 'extraordinaires', 'poussé', 'activité', 'constructions', 'quartier', 'cavalerie', 'écurie', 'chevaux', 'terminée', 'mise', 'service', 'voûtes', 'caserne', 'construites', 'grandes', 'voûtes', 'longueur', 'bâtiment', 'maçonneries', 'élevées', 'appuis', 'croisées', 'étage', 'complétement', 'terminé', 'partie', 'bâtiment', 'hôpital', 'salles', 'renferme', 'occupées', 'malades', 'escalier', 'central', 'bâtiment', 'latrines', 'élevé', 'moitié', 'bâtiment', 'jusau', 'niveau', 'sol', 'étage', 'bâtiment', 'subsistances', 'entièrement', 'achevé', 'pourra', 'contenir', 'quintaux', 'grain', 'chambre', 'pain', 'logement', 'gardieris', 'algérie', 'situation', 'ex', 'dépenses', 'élevées', 'francs', 'savoir', 'budget', 'ordinaire', 'crédit', 'extraordinaire', 'travaux', 'restant', 'faire', 'bône', 'reste', 'construire', 'bâtiments', 'complémentaires', 'quartier', 'cavalerie', 'casernes', 'écuries', 'destinées', 'artillerie', 'génie', 'train', 'équipages', 'contenance', 'ensemble', 'hommes', 'chevaux', 'mulets', 'prison', 'détenus', 'bâtiment', 'conseil', 'guerre', 'commandement', 'place', 'logement', 'chef', 'génie', 'terminera', 'hôpital', 'militaire', 'accessoires', 'indispensables', 'établissement', 'buanderie', 'séchoir', 'couvert', 'enfin', 'installer', 'manière', 'définitive', 'atelier', 'condamnés', 'bâtiment', 'fours', 'logement', 'comptable', 'manutention', 'boucherie', 'magasins', 'orge', 'quintaux', 'métriques', 'magasin', 'campement', 'magasin', 'poudre', 'kilogrammes', 'calle', 'travaux', 'restant', 'faire', 'comprennent', 'caserne', 'écuries', 'chevaux', 'pavillon', 'officiers', 'petite', 'caserne', 'corps', 'isolés', 'prison', 'détenus', 'manutention', 'boucherie', 'parc', 'fourrage', 'magasin', 'poudre', 'dépense', 'travaux', 'pourra', 'élever', 'francs', 'guelma', 'dépendances', 'fortifications', 'travaux', 'exécutés', 'ler', 'travaux', 'ordinaires', 'terminé', 'reconstruction', 'enceinte', 'partie', 'front', 'trouve', 'gauche', 'porte', 'hacket', 'porte', 'élevé', 'maçonneries', 'mètres', 'banquette', 'créneaux', 'réparations', 'entretiens', 'courants', 'dépense', 'budget', 'ordinaire', 'élevée', 'francs', 'travaux', 'extraordinaires', 'dépensé', 'fonds', 'travaux', 'extraordinaires', 'travaux', 'restant', 'faire', 'reste', 'terminer', 'restauration', 'enceinte', 'quartier', 'militaire', 'construire', 'entier', 'petite', 'ville', 'européenne', 'élève', 'ruines', 'ancienne', 'ville', 'romaine', 'travaux', 'nécessiteront', 'dépense', 'francs', 'batiments', 'militaires', 'travaux', 'exécutés', 'travaux', 'ordinaires', 'complétement', 'terminé', 'quartier', 'cavalerie', 'contiendra', 'soldats', 'sellerie', 'magasins', 'spahis', 'reste', 'faire', 'ameublement', 'achevé', 'parc', 'fourrage', 'réparations', 'locaux', 'casernement', 'magasins', 'administration', 'existe', 'guelma', 'sources', 'eaux', 'chaudes', 'sulfureuses', 'ment', 'abondantes', 'retrouve', 'ruines', 'établissements', 'importants', 'fondés', 'romains', 'expérimenter', 'action', 'eaux', 'créé', 'point', 'installation', 'provisoire', 'comprenant', 'logement', 'médecin', 'chef', 'locaux', 'douches', 'bains', 'vapeur', 'découvert', 'anciens', 'bassins', 'romains', 'restaurés', 'enfin', 'ouvert', 'route', 'mètres', 'développement', 'camp', 'fièvres', 'malades', 'atteints', 'moment', 'chaleurs', 'cesser', 'ment', 'expérience', 'eaux', 'reprises', 'donné', 'résultats', 'dus', 'partie', 'meilleure', 'installation', 'soin', 'pris', 'laisser', 'séjourner', 'malades', 'jusau', 'mois', 'juin', 'dépensé', 'budget', 'ordinaire', 'francs', 'travaux', 'extraordinaires', 'dépensé', 'fonds', 'extraordinaires', 'travaux', 'restant', 'faire', 'garnison', 'normale', 'guelma', 'paraît', 'devoir', 'composer', 'hommes', 'infanterie', 'spahis', 'locaux', 'permanents', 'actuellement', 'construits', 'suffisants', 'casernement', 'seuls', 'travaux', 'restant', 'faire', 'compléter', 'établissements', 'petite', 'place', 'pourvùe', 'comprennent', 'écuries', 'chevaux', 'logement', 'officiers', 'pavillon', 'commandant', 'cercle', 'bâtiments', 'complémentaires', 'hôpital', 'actuel', 'go', 'malades', 'accessoires', 'magasins', 'quintaux', 'orge', 'magasin', 'campement', 'buanderie', 'magasin', 'poudre', 'kilogrammes', 'travaux', 'nécessiteront', 'dépense', 'francs', 'batna', 'fortifications', 'travaux', 'exécutés', 'poste', 'batna', 'occupé', 'manière', 'définitive', 'mois', 'mai', 'suite', 'expédition', 'biskra', 'situé', 'dernière', 'tribu', 'aurès', 'permettra', 'troupes', 'porter', 'journées', 'marche', 'centre', 'montagnes', 'habitées', 'populations', 'impatientes', 'joug', 'hostilité', 'années', 'intercepté', 'presque', 'complétement', 'relations', 'sahara', 'déjà', 'dernier', 'point', 'vue', 'installation', 'poste', 'rendu', 'grands', 'services', 'position', 'ligne', 'communication', 'fréquentée', 'biskra', 'permis', 'assurer', 'relations', 'localités', 'point', 'petit', 'nombre', 'cavaliers', 'parcourir', 'impunément', 'lieues', 'séparent', 'tribu', 'nomade', 'sahari', 'pu', 'reprendre', 'crainte', 'inquiétée', 'commerce', 'échange', 'forme', 'unique', 'industrie', 'enceinte', 'camp', 'batna', 'exécutée', 'moment', 'occupation', 'consiste', 'parapet', 'terre', 'précédé', 'fossé', 'remplacée', 'tard', 'mur', 'crénelé', 'flanqué', 'petits', 'bastionnets', 'construction', 'enceinte', 'nécessitera', 'dépense', 'francs', 'batiments', 'militaires', 'travaux', 'exécutés', 'ler', 'travaux', 'ordinaires', 'construit', 'baraques', 'maçonnerie', 'moellons', 'mortier', 'terre', 'soldats', 'officiers', 'chevaux', 'hôpital', 'provisoire', 'contenance', 'lits', 'parc', 'bæufs', 'creusé', 'terre', 'silos', 'grains', 'caves', 'liquides', 'construit', 'fours', 'chaux', 'briques', 'installé', 'tuilerie', 'travaux', 'nécessité', 'dépense', 'francs', 'travaux', 'extraordinaires', 'dépensé', 'fonds', 'travaux', 'extraordinaires', 'travaux', 'restant', 'faire', 'grande', 'poste', 'batna', 'rôle', 'remplir', 'pacification', 'complète', 'pays', 'environnant', 'grand', 'nombre', 'arabes', 'fréquenteront', 'localité', 'éloignement', 'paru', 'motifs', 'suffisants', 'attribuer', 'garnison', 'forte', 'postes', 'avancés', 'question', 'jusà', 'présent', 'fixée', 'hommes', 'hommes', 'infanterie', 'escadron', 'demi', 'cavalerie', 'forts', 'détachements', 'artillerie', 'génie', 'troupes', 'administration', 'supposé', 'génie', 'distance', 'poste', 'trouve', 'côte', 'rendra', 'lent', 'difficile', 'établissement', 'industrie', 'armée', 'seul', 'moyen', 'pourra', 'disposer', 'travaux', 'garnison', 'commandant', 'batna', 'poste', 'complétement', 'organisé', 'pourra', 'former', 'détachement', 'hommes', 'infanterie', 'escadron', 'marche', 'chevaux', 'suffisante', 'parcourir', 'tribus', 'jugera', 'nécessaire', 'casernes', 'écuries', 'nécessaires', 'raison', 'effectif', 'indiqué', 'faudra', 'créer', 'magasins', 'vivres', 'contenance', 'rations', 'faciliter', 'ravitaillement', 'colonnes', 'auraient', 'opérer', 'aurès', 'magasins', 'fourrage', 'service', 'campement', 'hôpital', 'malades', 'infirmiers', 'magasin', 'poudre', 'prison', 'travaux', 'nécessiteront', 'dépense', 'francs', 'biskra', 'expédition', 'biskra', 'mois', 'mars', 'occupation', 'provisoire', 'ville', 'fut', 'jugée', 'nécessaire', 'protéger', 'attaques', 'khalifa', 'avions', 'chassé', 'cherché', 'refuge', 'monts', 'aurès', 'pensé', 'serait', 'nécessaire', 'maintenir', 'troupes', 'an', 'jusaprès', 'soumission', 'complète', 'populations', 'aurès', 'tard', 'extension', 'rapide', 'prirent', 'relations', 'commerciales', 'populations', 'nomades', 'ziban', 'assurées', 'trouver', 'protection', 'postes', 'batna', 'biskra', 'sécurité', 'manquait', 'auparavant', 'démontra', 'nécessité', 'occuper', 'nouvelle', 'position', 'manière', 'permanente', 'ſaps', 'temps', 'pourrait', 'préciser', 'durée', 'époque', 'expédition', 'garnison', 'fut', 'installée', 'maisons', 'terre', 'existaient', 'kasbah', 'kasbah', 'enceinte', 'murs', 'construits', 'briques', 'cuites', 'soleil', 'partie', 'réparations', 'enceinte', 'maisons', 'furent', 'hâte', 'troupes', 'colonne', 'expéditionnaire', 'vue', 'occupation', 'années', 'égard', 'chaleurs', 'dévorantes', 'règnent', 'sahara', 'indispensable', 'organiser', 'logement', 'hommes', 'installation', 'pût', 'protéger', 'influence', 'pernicieuse', 'climat', 'nécessaire', 'assurer', 'défense', 'restaurant', 'reconstruisant', 'enceinte', 'kasbah', 'rapport', 'fortifications', 'bâtiments', 'militaires', 'créer', 'toutefois', 'projets', 'derniers', 'travaux', 'point', 'rédigés', 'effectif', 'mème', 'garnison', 'normale', 'point', 'assigné', 'impossible', 'préciser', 'dépense', 'occasionneront', 'fortifications', 'seuls', 'travaux', 'exécutés', 'fortifications', 'consiste', 'réparations', 'troupes', 'donné', 'lieu', 'dépense', 'batiments', 'militaires', 'travaux', 'exécutés', 'ler', 'travaux', 'ordinaires', 'construit', 'briques', 'cuites', 'soleil', 'couvert', 'terrasse', 'usage', 'pays', 'casernes', 'hommes', 'om', 'homme', 'logements', 'officiers', 'écuries', 'chevaux', 'hôpital', 'lits', 'magasins', 'vivres', 'rations', 'manutention', 'moulin', 'eau', 'hangars', 'travaux', 'nécessité', 'dépense', 'francs', 'travaux', 'ertraordinaires', 'dépensé', 'fonds', 'extraordinaires', 'division', 'oran', 'oran', 'dépendances', 'fortifications', 'travaux', 'exécutés', 'er', 'travaux', 'ordinaires', 'continué', 'réparation', 'fort', 'lever', 'nivellement', 'place', 'délimité', 'terrain', 'militaire', 'misserguin', 'réparé', 'fortification', 'fort', 'confectionné', 'réparé', 'outils', 'acheté', 'harnais', 'dépensé', 'francs', 'travaux', 'extraordinaires', 'payé', 'approvisionnement', 'matériaux', 'élevé', 'francs', 'travaux', 'restant', 'faire', 'continuer', 'réparations', 'escarpes', 'contrescarpes', 'enceinte', 'oran', 'fermer', 'place', 'jonction', 'ancienne', 'enceinte', 'espagnole', 'enfin', 'organiser', 'entrée', 'ville', 'ravin', 'travaux', 'consisteront', 'terminer', 'réparations', 'anciennes', 'fortifications', 'parties', 'devront', 'reconstruites', 'compléter', 'ouvrages', 'neufs', 'système', 'défense', 'intérieure', 'place', 'enfin', 'établir', 'batteries', 'côte', 'assurer', 'rade', 'éloigner', 'bâtiments', 'ennemis', 'occuper', 'tours', 'crêtes', 'hauteurs', 'dominent', 'fort', 'emplacement', 'batteries', 'construction', 'batteries', 'côte', 'commencée', 'travaux', 'élèveront', 'oran', 'dépense', 'francs', 'millions', 'batiments', 'militaires', 'travaux', 'exécutés', 'ler', 'travaux', 'ordinaires', 'terminé', 'entièrement', 'caserne', 'caserne', 'recevoir', 'hommes', 'infanterie', 'commencé', 'démolitions', 'déblais', 'maçonneries', 'construction', 'magasin', 'central', 'hôpitaux', 'construit', 'complétement', 'livré', 'magasin', 'campement', 'locaux', 'présentent', 'surface', 'mètres', 'cubes', 'chambre', 'ferme', 'darbeïda', 'appropriée', 'recevoir', 'étalons', 'hôtel', 'commandant', 'division', 'complétement', 'restauré', 'loué', 'acquis', 'immeubles', 'confectionné', 'ameublement', 'caserne', 'lever', 'bâtiments', 'place', 'pourvu', 'frais', 'bureau', 'gérance', 'dépenses', 'travaux', 'élèvent', 'francs', 'travaux', 'extraordinaires', 'hôpital', 'mosquée', 'améliorations', 'importantes', 'démoli', 'bâtiments', 'colysée', 'emplacement', 'exécuté', 'déblais', 'considérables', 'établi', 'fondations', 'hôpital', 'acquisitions', 'payé', 'indemnités', 'construit', 'écuries', 'chevaux', 'kargantha', 'travaux', 'nécessité', 'dépense', 'francs', 'savoir', 'budget', 'ordinaire', 'crédit', 'extraordinaire', 'travaux', 'restant', 'faire', 'comple', 'rendu', 'année', 'précédente', 'indiqué', 'garnison', 'normale', 'oran', 'dépendances', 'ètre', 'hommes', 'chevaux', 'suite', 'création', 'postes', 'daïa', 'effectif', 'paraît', 'devoir', 'réduit', 'hommes', 'indépendamment', 'constructions', 'nécessaires', 'casernement', 'proprement', 'dit', 'у', 'compléter', 'place', 'magasins', 'nature', 'pouvant', 'contenir', 'approvisionnement', 'mois', 'garnison', 'grande', 'partic', 'établissements', 'créés', 'occupation', 'obtenus', 'appropriant', 'anciennes', 'constructions', 'espagnoles', 'résumé', 'faut', 'oran', 'casernes', 'hommes', 'corps', 'écuries', 'chevaux', 'magasins', 'quintaux', 'orge', 'magasin', 'poudre', 'kilogrammes', 'pavillon', 'commandant', 'place', 'achever', 'magasin', 'central', 'hôpital', 'campement', 'misserguin', 'faudra', 'installer', 'manutention', 'fours', 'rations', 'magasins', 'construire', 'caserne', 'hommes', 'pavillon', 'officiers', 'travaux', 'nécessiteront', 'dépense', 'francs', 'poste', 'occupé', 'moment', 'expédition', 'maroc', 'mouillage', 'asseż', 'médiocre', 'navires', 'belle', 'saison', 'rapport', 'extrêmement', 'utile', 'ravitaillement', 'armée', 'opérait', 'côté', 'ouchda', 'situé', 'lieues', 'poste', 'lieues', 'demie', 'tlemsen', 'présente', 'grands', 'avantages', 'approvisionnement', 'dernière', 'ville', 'auparavant', 'communiquait', 'littoral', 'oran', 'éloignée', 'lieues', 'considération', 'admettre', 'principe', 'occupation', 'permanente', 'nouveau', 'poste', 'établi', 'embouchure', 'rive', 'miné', 'hauteurs', 'occupée', 'ville', 'arabe', 'ancien', 'repaire', 'corsaires', 'établissements', 'militaires', 'devront', 'créés', 'emplacement', 'choisi', 'présente', 'espace', 'nécessaire', 'création', 'petite', 'ville', 'européenne', 'tardera', 'développer', 'mesure', 'relations', 'commerciales', 'intérieur', 'prendront', 'extension', 'aussitôt', 'occupation', 'permanente', 'nouveau', 'poste', 'décidée', 'rédigé', 'projet', 'ensemble', 'comprenant', 'tracé', 'enceinte', 'établissements', 'militaires', 'plan', 'alignement', 'ville', 'entrepris', 'travaux', 'nécessaires', 'assurer', 'provisoirement', 'défense', 'position', 'logement', 'garnison', 'fortifications', 'travaux', 'exécutés', 'ler', 'travaux', 'ordinaires', 'dépensé', 'fonds', 'ordinaires', 'travant', 'extraordinaires', 'exécuté', 'enceinte', 'provisoire', 'composée', 'fossé', 'palissadement', 'dépense', 'élevée', 'francs', 'travaux', 'restant', 'faire', 'petits', 'faire', 'enceinte', 'définitive', 'dépense', 'élèvera', 'francs', 'enceinte', 'composera', 'mur', 'crénelé', 'couronnant', 'hauteurs', 'dominent', 'position', 'venant', 'rejoindre', 'mer', 'extrémités', 'ouest', 'nécessaire', 'occuper', 'forts', 'sommets', 'mamelons', 'dominent', 'partie', 'enceinte', 'distance', 'enceinte', 'actuellement', 'construction', 'suffira', 'années', 'besoin', 'population', 'civile', 'tard', 'reconnu', 'nécessité', 'agrandira', 'espace', 'disponible', 'constructions', 'particulières', 'reportant', 'côté', 'ouest', 'enceinte', 'batiments', 'militaires', 'travaux', 'exécutés', 'travaux', 'ordinaires', 'dépensé', 'fonds', 'ordinaires', 'travaux', 'extraordinaires', 'créé', 'établissements', 'provisoires', 'casernement', 'troupes', 'hôpital', 'logement', 'officiers', 'magasins', 'subsistances', 'dépense', 'élevée', 'francs', 'travaux', 'restant', 'faire', 'créer', 'établissements', 'nécessaires', 'casernement', 'garnison', 'hommes', 'manutention', 'magasin', 'subsistances', 'rations', 'magasin', 'poudre', 'pavillon', 'officiers', 'hôpital', 'malades', 'parc', 'baufs', 'dépense', 'établissements', 'élèvera', 'á', 'francs', 'arzeu', 'fortifications', 'travaux', 'exécutés', 'ler', 'travaux', 'ordinaires', 'dépensé', 'travaux', 'extraordinaires', 'dépensé', 'travaux', 'restant', 'faire', 'enceinte', 'actuelle', 'arzeu', 'établie', 'but', 'renfermer', 'établissements', 'militaires', 'petit', 'nombre', 'maisons', 'particulières', 'mouillage', 'arzeu', 'meilleur', 'côte', 'ouest', 'bâtiments', 'commerce', 'pacification', 'complète', 'pays', 'permis', 'nouer', 'relations', 'commerciales', 'intérieur', 'point', 'acquerra', 'importance', 'deviendra', 'centre', 'population', 'européenne', 'prévision', 'rédigé', 'projet', 'alignement', 'ville', 'future', 'enceinte', 'destinée', 'assurer', 'défense', 'travaux', 'nouvelle', 'enceinte', 'entrepris', 'dépense', 'évaluée', 'francs', 'batiments', 'militaires', 'travaux', 'exécutés', 'er', 'travaux', 'ordinaires', 'dépensé', 'fonds', 'ordinaires', 'travaux', 'extraordinaires', 'commencé', 'fort', 'avancé', 'caserne', 'hommes', 'formeront', 'garnison', 'normale', 'poste', 'dépense', 'élevée', 'francs', 'travaux', 'restant', 'faire', 'achèvement', 'caserne', 'cours', 'construction', 'seul', 'travail', 'important', 'restant', 'faire', 'compléter', 'établissements', 'permanents', 'ville', 'arzeu', 'pourvue', 'dépense', 'excédera', 'francs', 'mostaganem', 'fortifications', 'travaux', 'exécutés', 'ler', 'travaux', 'ordinaires', 'terminé', 'mur', 'enceinte', 'organisé', 'rue', 'rempart', 'porte', 'basse', 'ville', 'jusà', 'grande', 'rue', 'exécuté', 'escarpements', 'roc', 'saillant', 'fortin', 'marine', 'achevé', 'bastion', 'contigu', 'tour', 'four', 'chaux', 'déblayé', 'terrain', 'rejointoiements', 'vieille', 'enceinte', 'mostaganem', 'réduit', 'matemore', 'continué', 'enceinte', 'camp', 'khamis', 'entretenu', 'plantations', 'acheté', 'machine', 'mortier', 'confectionné', 'engins', 'prolonges', 'dépenses', 'montent', 'francs', 'traraux', 'extraordinaires', 'dépense', 'fonds', 'travaux', 'extraordinaires', 'travaux', 'restant', 'faire', 'vieille', 'enceinte', 'mostaganem', 'matemore', 'nécessairement', 'refaite', 'grande', 'partie', 'cause', 'solidité', 'murs', 'construits', 'mortier', 'terre', 'faudra', 'terminer', 'enceinte', 'faubourgs', 'mostaganem', 'jusà', 'mer', 'passant', 'fortin', 'marine', 'dépense', 'travaux', 'pourra', 'élever', 'francs', 'batiments', 'militaires', 'travaux', 'exécutés', 'ter', 'travaux', 'ordinaires', 'amélioré', 'mostaganem', 'camp', 'maisons', 'occupées', 'troupe', 'officiers', 'baraquement', 'magasins', 'subsistances', 'installé', 'dépôt', 'chasseurs', 'logements', 'officiers', 'comptables', 'magasins', 'organisés', 'beylik', 'logements', 'maîtres', 'ouvriers', 'ateliers', 'infirmerie', 'salle', 'armes', 'accessoires', 'établis', 'camp', 'cavalerie', 'disposé', 'mosquée', 'maisons', 'voisines', 'casernement', 'indigènes', 'accessoires', 'pourvu', 'frais', 'location', 'bureau', 'gérance', 'acquis', 'maisons', 'servant', 'logement', 'maréchal', 'camp', 'commandant', 'subdivision', 'dépensé', 'francs', 'travaux', 'extraordinaires', 'commencé', 'construction', 'bâtiment', 'principal', 'caserne', 'neuve', 'exécuté', 'déblais', 'fondations', 'bâtiment', 'fer', 'cheval', 'hôpital', 'permanent', 'entrepris', 'maçonneries', 'dépensé', 'francs', 'savoir', 'budget', 'ordinaire', 'crédit', 'extraordinaire', 'travaux', 'restant', 'faire', 'établissement', 'définitif', 'mostaganem', 'caserne', 'contenir', 'hommes', 'sert', 'hôpital', 'bases', 'admises', 'compte', 'rendu', 'travaux', 'garnison', 'normale', 'mostaganem', 'comprendre', 'bommes', 'chevaux', 'indépendamment', 'algérie', 'situation', 'terminer', 'construire', 'vue', 'pareil', 'effectif', 'créer', 'magasin', 'subsistances', 'logements', 'général', 'commandant', 'subdivision', 'commandant', 'place', 'manutention', 'abattoir', 'magasin', 'chauffage', 'campement', 'lits', 'militaires', 'magasin', 'poudre', 'enfin', 'achever', 'hôpital', 'permanent', 'commencé', 'dépense', 'travaux', 'pourra', 'élever', 'somme', 'francs', 'mascara', 'fortifications', 'travaux', 'exécutés', 'ler', 'travaar', 'ordinaires', 'commencé', 'piles', 'culées', 'pont', 'qai', 'relie', 'ville', 'quaitier', 'argoub', 'pont', 'arches', 'jeté', 'anciennement', 'ravin', 'établissait', 'points', 'communication', 'difficile', 'cause', 'raideur', 'rampes', 'donnaient', 'accès', 'amélioré', 'relevant', 'mètres', 'pont', 'arches', 'ancien', 'pont', 'sert', 'base', 'exécuté', 'partie', 'nivellement', 'général', 'place', 'entretenu', 'route', 'saïda', 'rectifié', 'chemin', 'mulets', 'mostaganem', 'mascara', 'défilé', 'ouvert', 'porte', 'ville', 'quartier', 'cavalerie', 'réparé', 'brèches', 'posé', 'barrières', 'réparé', 'parapets', 'redoutes', 'ouizert', 'dépensé', 'francs', 'travaux', 'continué', 'pont', 'argoub', 'commencé', 'fonds', 'ordinaires', 'voûtes', 'mètres', 'diamètre', 'mètres', 'construites', 'pont', 'provisoire', 'chevalets', 'jeté', 'tarïa', 'poste', 'ouizert', 'enlevé', 'eaux', 'importait', 'rétablir', 'commencé', 'fondations', 'culée', 'pile', 'pont', 'définitif', 'consistera', 'tablier', 'bois', 'supporté', 'piles', 'maçonnerie', 'acheté', 'partie', 'bois', 'tablier', 'travaux', 'nécessité', 'crédits', 'extraordinaires', 'dépense', 'francs', 'travaux', 'restant', 'faire', 'ville', 'mascara', 'destinée', 'recevoir', 'tard', 'population', 'nombreuse', 'rédigé', 'prévision', 'projet', 'alignement', 'ville', 'européenne', 'projet', 'nécessitera', 'construction', 'nouvelle', 'enceinte', 'étendue', 'ancienne', 'ailleurs', 'jusà', 'présent', 'tracer', 'fondation', 'enceinte', 'projetée', 'maçonneries', 'faire', 'entier', 'dépense', 'pourra', 'élever', 'somme', 'francs', 'batiments', 'militaires', 'travaux', 'exécutés', 'er', 'travaux', 'ordinaires', 'réparé', 'amélioré', 'partie', 'locaux', 'casernement', 'provisoire', 'terminé', 'travaux', 'intérieurs', 'hôtels', 'officiers', 'généraux', 'agrandi', 'amélioré', 'ateliers', 'chaufournerie', 'briqueterie', 'ouvert', 'nouvelles', 'carrières', 'pierres', 'taille', 'continué'], ['corps', 'şe', 'mourait', 'règles', 'discipline', 'hiérarchie', 'rudiments', 'iostruction', 'allait', 'confusion', 'trouble', 'paix', 'restauré', 'éléments', 'épars', 'rejoints', 'ravivés', 'contact', 'ration', 'pleine', 'ardeur', 'séve', 'concurrents', 'loyaux', 'devons', 'marine', 'voisins', 'aujourhui', 'belle', 'marine', 'vaisseaux', 'tenus', 'équipages', 'disciplinés', 'instruits', 'officiers', 'courageux', 'habiles', 'avons', 'émules', 'mers', 'prend', 'garde', 'bientôt', 'aurons', 'maîtres', 'toulon', 'menace', 'supériorité', 'maritime', 'marseille', 'menace', 'prépondérance', 'commerciale', 'phases', 'antique', 'lacydon', 'fille', 'phocéens', 'ville', 'grecque', 'jeté', 'éclat', 'marché', 'prospérité', 'grande', 'époque', 'doute', 'maintenu', 'autorité', 'levant', 'commerce', 'jeté', 'profondes', 'racines', 'temps', 'autorité', 'fut', 'mieux', 'justifiée', 'légitime', 'marseille', 'méditerranée', 'place', 'grandes', 'ressources', 'prompts', 'débouchés', 'marché', 'sûr', 'facile', 'riche', 'capitaux', 'affaires', 'traitent', 'aisance', 'grandeur', 'ailleurs', 'toulon', 'guerre', 'continentale', 'laissée', 'agonisante', 'population', 'âmes', 'aujourhui', 'florissante', 'compte', 'habitants', 'ancien', 'régime', 'peine', 'pu', 'atteindre', 'total', 'pavires', 'mouvement', 'port', 'arrivée', 'dernières', 'années', 'presque', 'chiffre', 'bâtiments', 'relevés', 'statistiques', 'constatent', 'entré', 'marseille', 'navires', 'jaugeant', 'vingthuit', 'tonneaus', 'quart', 'navigation', 'générale', 'ports', 'france', 'surface', 'globe', 'londres', 'liverpool', 'présentent', 'chiffres', 'élevés', 'grandes', 'places', 'commerce', 'rangées', 'marseille', 'proportions', 'suivent', 'hambourg', 'amsterdam', 'trieste', 'constantinople', 'gênes', 'livourne', 'importance', 'commerce', 'marseille', 'également', 'quintuplé', 'recettes', 'douane', 'thermomètre', 'irrécusable', 'offert', 'progression', 'suivante', 'fr', 'compléter', 'tableau', 'rapide', 'faut', 'attribuer', 'marseille', 'tiers', 'transit', 'général', 'marchandises', 'intérieur', 'france', 'ajoutons', 'enfin', 'points', 'industrie', 'vaincu', 'ville', 'élèvent', 'magnifiques', 'savonneries', 'raffineries', 'tanneries', 'ville', 'fabriques', 'produits', 'chimiques', 'magnifiques', 'salines', 'littoral', 'rassuen', 'valduc', 'bouc', 'élément', 'prospérité', 'étranger', 'époque', 'commerce', 'marseille', 'augmenté', 'marchandises', 'entrées', 'entrepôt', 'atteint', 'chiffre', 'fr', 'marseille', 'fùt', 'ville', 'considérable', 'reine', 'méditerranée', 'gouvernement', 'français', 'vient', 'faire', 'intermédiaire', 'obligée', 'lout', 'continent', 'service', 'dépêches', 'transport', 'passagers', 'ligne', 'paquebots', 'vapeur', 'armés', 'guerre', 'jours', 'lie', 'aujourhui', 'france', 'rient', 'contribue', 'créer', 'ordre', 'communications', 'diflicile', 'rompre', 'serait', 'vain', 'angleterre', 'voudrait', 'élever', 'concurrence', 'échouerait', 'avantages', 'locaux', 'miliient', 'faveur', 'marseille', 'londres', 'liverpool', 'loin', 'voyageurs', 'lettres', 'nationalité', 'commodité', 'intérêt', 'sorte', 'aujourhui', 'roule', 'directe', 'lodes', 'traverse', 'france', 'jusà', 'marseille', 'dirige', 'alexandrie', 'paquebots', 'français', 'dissimuler', 'relations', 'voisins', 'survienne', 'guerre', 'voyez', 'sommes', 'amirauté', 'envoie', 'forces', 'imposantes', 'méditerranée', 'malte', 'flotte', 'formidable', 'admettons', 'chances', 'belles', 'flotte', 'maitrise', 'escadres', 'sortent', 'toulon', 'duit', 'défensive', 'paquebots', 'arrêtera', 'vapeur', 'rit', 'voile', 'destinée', 'changer', 'années', 'système', 'naval', 'gouvernement', 'français', 'embarque', 'pyroscaphes', 'hommes', 'bones', 'troupes', 'el', 'égypte', 'excitées', 'communications', 'quentes', 'sympathies', 'orientaux', 'iront', 'nation', 'préférée', 'tomber', 'mains', 'angleterre', 'peuples', 'donneront', 'spontanément', 'france', 'clef', 'jodes', 'écherra', 'ennemis', 'orient', 'aurait', 'pu', 'calme', 'eût', 'prévalu', 'surcession', 'vacante', 'décidera', 'choc', 'adjugera', 'juge', 'rôle', 'resterait', 'angleterre', 'maitresse', 'égypte', 'régence', 'alger', 'france', 'reproduirait', 'littoral', 'frique', 'pompes', 'occupation', 'romaine', 'aurions', 'gardé', 'anglais', 'stations', 'militaires', 'méchants', 'ilots', 'territoire', 'assister', 'victinies', 'spectacle', 'triomphe', 'gloires', 'cetie', 'double', 'colonisation', 'pourtant', 'mène', 'avail', 'pu', 'croire', 'moment', 'génie', 'français', 'propre', 'objets', 'exigent', 'applicatio', 'patiente', 'mécanique', 'abandonnerait', 'longues', 'années', 'monopole', 'vapeur', 'ferait', 'arme', 'théâtre', 'portée', 'malheureusement', 'vision', 'déçue', 'marseille', 'toulon', 'vapeur', 'levier', 'monde', 'puissance', 'jour', 'loi', 'matérielle', 'avenir', 'construit', 'pyroscaphes', 'grande', 'échelle', 'angleterre', 'sommeillé', 'heure', 'trouvée', 'devancée', 'aujourhui', 'arrivée', 'poiot', 'service', 'ches', 'officielles', 'malte', 'alexandrie', 'effectue', 'paquebots', 'français', 'nelson', 'nelson', 'vaincus', 'aboukir', 'trafalgar', 'prennent', 'revanche', 'empêchements', 'pouvaient', 'retarder', 'élan', 'émancipation', 'imprévue', 'disparaissent', 'gîtes', 'houille', 'obligés', 'desservir', 'lant', 'usines', 'auraient', 'suffi', 'défrayer', 'mouvement', 'considérable', 'steamers', 'guerre', 'commerce', 'el', 'déjà', 'marseille', 'nécessité', 'tirer', 'combustible', 'newcastle', 'cel', 'obstacle', 'existera', 'ans', 'auprès', 'alais', 'lieues', 'rhône', 'existent', 'bouillères', 'grancombe', 'riches', 'puisse', 'voir', 'bientôt', 'ligne', 'fer', 'amènere', 'produits', 'frais', 'bassin', 'méditerranée', 'obstacle', 'existait', 'construction', 'machines', 'france', 'tributaire', 'industrie', 'anglaise', 'point', 'décisif', 'cas', 'guerre', 'aurions', 'enlevé', 'instruments', 'ennemis', 'paralysé', 'moyens', 'résistance', 'terrain', 'france', 'marche', 'indépendance', 'incomplète', 'réelle', 'marche', 'faut', 'ajouter', 'gouvernement', 'seul', 'ressort', 'initiative', 'maisons', 'marseille', 'mm', 'benet', 'luce', 'naturalisé', 'frais', 'énormes', 'ciotat', 'meopenti', 'ateliers', 'machines', 'bateaux', 'vapeur', 'douane', 'française', 'conspirait', 'sorte', 'anglelerre', 'grevé', 'droits', 'exorbitants', 'importation', 'outillage', 'chercbait', 'stériliser', 'chicanes', 'détail', 'élan', 'fabrication', 'naissante', 'doute', 'expérience', 'aurait', 'déja', 'obtenu', 'triomphe', 'complet', 'celte', 'dernière', 'pierre', 'achoppement', 'ellt', 'entièrement', 'disparu', 'portée', 'décisive', 'despotisme', 'fiscal', 'pût', 'arrêter', 'progrès', 'faudrait', 'pût', 'jement', 'supprimer', 'besoin', 'nécessaire', 'arrive', 'tonjours', 'point', 'nommé', 'choses', 'bassin', 'méditerranée', 'loyal', 'anglais', 'avons', 'dit', 'pensée', 'avons', 'vo', 'observé', 'jugé', 'impartialité', 'agit', 'intérêt', 'national', 'gloire', 'honneur', 'pavillon', 'faut', 'flatter', 'paru', 'méditerranée', 'foyer', 'grands', 'événements', 'historiques', 'monde', 'ancien', 'allait', 'glorieux', 'retour', 'fortune', 'devenir', 'théâtre', 'actif', 'fécond', 'destinées', 'modernes', 'grand', 'chemin', 'asie', 'centre', 'commun', 'opérera', 'fusion', 'jnévitable', 'orient', 'occident', 'saisi', 'idée', 'avons', 'dû', 'rechercher', 'rôle', 'pourrait', 'échoir', 'travail', 'recomposition', 'rôle', 'serait', 'digne', 'enfants', 'avons', 'jeté', 'yeux', 'directions', 'avons', 'islamisme', 'allant', 'lambeaux', 'égypte', 'souterrainement', 'minée', 'influence', 'française', 'constantinople', 'russes', 'geôliers', 'mer', 'noire', 'reste', 'bassin', 'effaçant', 'plan', 'secondaire', 'représentée', 'cités', 'ordre', 'marseille', 'toulon', 'france', 'appuyant', 'grand', 'commerce', 'grande', 'marine', 'marchait', 'conquête', 'souveraineté', 'échappe', 'prépondérance', 'fuit', 'mains', 'conjurer', 'premiers', 'symptômes', 'déclin', 'avons', 'indiqué', 'mesures', 'décisives', 'croire', 'efficacité', 'absolue', 'avons', 'signalé', 'mal', 'laissons', 'honneur', 'responsabilité', 'remède', 'twelve', 'months', 'in', 'the', 'mediterranean', 'traduction', 'revue', 'britannique', 'iv', 'série', 'janvier', 'permis', 'terminer', 'sublime', 'prière', 'psalmiste', 'premiers', 'carrière', 'sacerdotale', 'afrique', 'cesse', 'adresser', 'jours', 'fond', 'cœur', 'père', 'commun', 'hommes', 'semble', 'grands', 'desseins', 'nation', 'française', 'algérie', 'dieu', 'ait', 'pitié', 'bénisse', 'peuples', 'rendent', 'hommages', 'craint', 'jusaux', 'extrémités', 'terre', 'deus', 'inisereatur', 'nostri', 'benedicat', 'nobis', 'illuminet', 'vultum', 'soum', 'super', 'misereatur', 'nostri', 'ut', 'cognoscamus', 'in', 'terrâ', 'viam', 'tuam', 'in', 'omnibus', 'gentibus', 'salutare', 'tuum', 'confiteantur', 'tibi', 'populi', 'deus', 'confiteantur', 'tibi', 'populi', 'omnes', 'lætentur', 'exultent', 'gentes', 'quoniam', 'judicas', 'populos', 'in', 'æquitate', 'gentes', 'in', 'terra', 'dirigis', 'confiteantur', 'tibi', 'populi', 'deus', 'confiteantur', 'tibi', 'populi', 'omnes', 'terra', 'dedit', 'fructum', 'suum', 'benedicat', 'deus', 'deus', 'noster', 'benedicat', 'deus', 'metuant', 'eum', 'omnes', 'fines', 'terræ', 'ps', 'lxvi', 'coru', 'logos', 'logis', 'rue', 'hangar', 'hangar', 'angar', 'lettre', 'pastorale', 'monseigneur', 'arche', 'vêque', 'bordeaux', 'voyage', 'afrique', 'occasion', 'translation', 'reliques', 'augustin', 'fortiter', 'omnia', 'einem', 'suavite', 'ad', 'vend', 'profit', 'pauvres', 'paroisse', 'sœurs', 'seurs', 'miséricorde', 'sablonat', 'seurs', 'écoles', 'villes', 'bourgs', 'diocèse', 'lettre', 'pastorale', 'monseigneur', 'archevêque', 'bordeaux', 'voyage', 'afrique', 'occasion', 'translation', 'reliques', 'saint', 'augustin', 'ferdinand', 'donnet', 'miséricorde', 'divine', 'grâce', 'saint', 'siege', 'apostolique', 'arcuevèque', 'bordeaux', 'primat', 'aquitaine', 'clergé', 'fidèles', 'diocèse', 'salut', 'bénédiction', 'religion', 'frères', 'jours', 'consolants', 'spectacles', 'offrir', 'enfants', 'semble', 'devenir', 'interprète', 'cæurs', 'racontant', 'solennités', 'touchantes', 'lieu', 'occasion', 'translation', 'restes', 'sacrés', 'saint', 'augustin', 'pavie', 'hippone', 'protection', 'france', 'catholique', 'documents', 'appartiendront', 'ailleurs', 'annales', 'religieuses', 'diocèse', 'donnant', 'aujourhui', 'afrique', 'autrefois', 'campanie', 'nobles', 'enfants', 'église', 'bordeaux', 'mère', 'église', 'renaissante', 'augustin', 'fulgence', 'nole', 'paulin', 'né', 'bordeaux', 'mort', 'évêque', 'nole', 'augustin', 'dédia', 'ouvrage', 'curá', 'pro', 'mortuis', 'gerendá', 'alger', 'beaux', 'souvenirs', 'litres', 'glorieux', 'devenus', 'jamais', 'inséparables', 'octobre', 'dernier', 'recevions', 'visions', 'attendrissement', 'lignes', 'adressait', 'digne', 'apotre', 'algérie', 'touche', 'enfin', 'moment', 'bienheureux', 'translation', 'solennelle', 'insigne', 'portion', 'restes', 'saint', 'augustin', 'consécration', 'nument', 'élevé', 'ruines', 'hippone', 'nérables', 'frères', 'archevêques', 'évêques', 'france', 'consécrateur', 'pouvait', 'présider', 'magnifique', 'cérémonie', 'faudrait', 'temps', 'permette', 'conjurer', 'genoux', 'venir', 'reçu', 'bonheur', 'diocèse', 'tendrement', 'dévoué', 'fils', 'serait', 'cisément', 'jour', 'anniversaire', 'sacre', 'bordeaux', 'grandeur', 'consacrerait', 'monument', 'fraternel', 'jelâmes', 'fondements', 'parition', 'rivages', 'célèbres', 'répondre', 'appel', 'nouvelle', 'prise', 'possession', 'afrique', 'saint', 'augustin', 'devait', 'belles', 'pages', 'histoire', 'temps', 'croire', 'seriez', 'heureux', 'voir', 'archevêque', 'faire', 'partie', 'cortege', 'dévolue', 'auguste', 'mission', 'permettrez', 'lors', 'faire', 'entrer', 'partage', 'sentiments', 'âme', 'surabondé', 'circonstance', 'aimerons', 'appeler', 'mémorables', 'vie', 'peuple', 'grands', 'hommes', 'révère', 'mémoire', 'devient', 'objet', 'culte', 'patriotique', 'différences', 'races', 'contrées', 'effacent', 'lorsil', 'agit', 'grands', 'hommes', 'église', 'église', 'société', 'universelle', 'limitent', 'montagnes', 'fleuves', 'mers', 'caints', 'pays', 'appartiennent', 'grande', 'société', 'catholique', 'répandue', 'terre', 'tagaste', 'ait', 'naître', 'hippone', 'ait', 'mourir', 'saint', 'augustin', 'appartient', 'catholiques', 'rives', 'rhône', 'gironde', 'rives', 'natales', 'renommée', 'douce', 'brillante', 'saint', 'augustin', 'génie', 'complet', 'christianisme', 'fécond', 'grands', 'hommes', 'ait', 'produit', 'métaphysique', 'histoire', 'antiquités', 'science', 'meurs', 'connaissance', 'arts', 'embrassé', 'témoin', 'éclatant', 'dieu', 'ait', 'donné', 'église', 'temps', 'apostoliques', 'grande', 'ame', 'champ', 'clos', 'christianisme', 'remporta', 'belle', 'victoire', 'monde', 'païen', 'erreurs', 'folies', 'raison', 'humaine', 'nèbres', 'anciens', 'jours', 'augustin', 'traversa', 'arriver', 'foi', 'récits', 'faits', 'fautes', 'progressif', 'action', 'divine', 'âme', 'longues', 'luttes', 'précédèrent', 'conversion', 'rend', 'étranger', 'pauvre', 'humanité', 'pères', 'église', 'prêchait', 'religion', 'aimer', 'tendre', 'vivacité', 'âme', 'inépuisable', 'émotions', 'neuves', 'pénétrantes', 'retrouve', 'presque', 'ouvrages', 'livre', 'vie', 'bienheureuse', 'développements', 'pleins', 'charmes', 'commencer', 'chrétien', 'ami', 'dieu', 'ciel', 'terre', 'entrer', 'détail', 'honneurs', 'viennent', 'rendus', 'restes', 'mortels', 'peindre', 'pèlerinage', 'pieux', 'travers', 'italie', 'provence', 'bords', 'tésin', 'jusaux', 'ruines', 'hippone', 'aurions', 'cru', 'nécessaire', 'foi', 'connue', 'entretenir', 'instant', 'culle', 'reliques', 'enseigné', 'pratiqué', 'église', 'mots', 'suffiront', 'faire', 'comprendre', 'culte', 'reposant', 'instincts', 'invincibles', 'nature', 'humaine', 'conforme', 'principes', 'raison', 'véritable', 'esprit', 'foi', 'catholique', 'concile', 'déclare', 'corps', 'heureux', 'entrés', 'participation', 'vie', 'glorieuse', 'dignes', 'respect', 'vénération', 'fidèles', 'raison', 'donne', 'corps', 'membres', 'vivants', 'temple', 'esprit', 'saint', 'dieu', 'jour', 'ressusciter', 'éternelle', 'vie', 'doler', 'éternelle', 'gloire', 'enfin', 'plaît', 'divine', 'bonté', 'der', 'hommes', 'faveur', 'pourrait', 'voir', 'enseignement', 'église', 'chose', 'expression', 'sentiment', 'raisonnable', 'élevé', 'pur', 'encourageant', 'foi', 'catholique', 'patrie', 'honore', 'décernant', 'récompenses', 'services', 'rendus', 'marcher', 'grands', 'capitaines', 'arcs', 'triomphe', 'décorés', 'trophées', 'victoires', 'statues', 'gigantesques', 'monuments', 'élèvent', 'transmettre', 'postérité', 'nom', 'princes', 'célèbres', 'génie', 'bonté', 'disje', 'manifestations', 'extérieures', 'paraissent', 'justes', 'sanctorum', 'quoque', 'martyrum', 'aliorum', 'cuin', 'christo', 'viventium', 'sancla', 'corpora', 'quæ', 'viva', 'membra', 'fuerunt', 'christi', 'templum', 'spiritùs', 'sancti', 'ab', 'ipso', 'ad', 'æternam', 'vitam', 'suscitanda', 'glorificanda', 'fidelibus', 'veneranda', 'esse', 'per', 'quæ', 'multa', 'beneficia', 'deo', 'hominibus', 'præstantur', 'conc', 'trid', 'sess', 'raisonnables', 'utiles', 'laisserait', 'église', 'noble', 'liberté', 'honorer', 'restes', 'combattu', 'vaillamment', 'admettrait', 'culte', 'religieux', 'dépouille', 'sainte', 'martyrs', 'pontifes', 'vierges', 'grande', 'image', 'apparaît', 'haute', 'manifestation', 'relève', 'ennoblit', 'divinise', 'nature', 'humaine', 'mis', 'armées', 'fuite', 'renversé', 'camps', 'ennemis', 'conquis', 'royaumes', 'vrai', 'converti', 'vastes', 'provinces', 'vastes', 'champs', 'carnage', 'ruines', 'fermé', 'gueule', 'lions', 'arrêté', 'impétuosité', 'flammes', 'ressuscité', 'morts', 'accompli', 'justice', 'aimant', 'dieu', 'homme', 'sommes', 'lors', 'étonnés', 'entendre', 'saint', 'jean', 'chrysostome', 'écrier', 'lendemain', 'translation', 'reliques', 'martyr', 'tressaille', 'bonheur', 'joie', 'jusà', 'folie', 'folie', 'vaut', 'mieux', 'sagesse', 'monde', 'triomphe', 'transporté', 'allégresse', 'esprit', 'sorte', 'sement', 'dirai', 'exprimer', 'sentiments', 'âme', 'puissance', 'martyrs', 'défaite', 'démons', 'dignité', 'église', 'vertu', 'croix', 'miracles', 'jésus', 'crucifié', 'gloire', 'père', 'grâce', 'foi', 'peuple', 'transports', 'cité', 'cheur', 'vierges', 'bel', 'ordre', 'prêtres', 'ardeur', 'hommes', 'états', 'magistrats', 'pauvres', 'riches', 'étrangers', 'citoyens', 'fortes', 'facti', 'sunt', 'in', 'bello', 'castra', 'verterunt', 'exterorum', 'vicerunt', 'regna', 'obturaverunt', 'ora', 'leonum', 'extinxerunt', 'impetum', 'ignis', 'acceperunt', 'resurrectione', 'mortuos', 'suos', 'operati', 'sunt', 'justitiam', 'hebr', 'chrysost', 'pro', 'translat', 'relig', 'martyris', 'soyons', 'injustes', 'ingrals', 'enlevons', 'église', 'libertés', 'pieux', 'usages', 'droits', 'culte', 'reconnaissance', 'amour', 'rattache', 'hommes', 'dévouement', 'seul', 'put', 'égaler', 'génie', 'gardons', 'fond', 'cæurs', 'enseignements', 'exemples', 'familles', 'illustres', 'conservent', 'religieux', 'respect', 'images', 'aïeux', 'semblent', 'travers', 'âges', 'veiller', 'enfants', 'protéger', 'souvenir', 'couvrir', 'gloire', 'ailleurs', 'culte', 'honneurs', 'église', 'rend', 'saints', 'enflammeront', 'belles', 'ames', 'noble', 'ardeur', 'devenir', 'grandes', 'vertu', 'sacrifice', 'revenons', 'empire', 'occident', 'mutilé', 'perte', 'rome', 'tombait', 'pièces', 'parts', 'goths', 'régnaient', 'moitié', 'italie', 'vandales', 'désolaient', 'espagne', 'francs', 'ravageaient', 'frontières', 'gaule', 'huns', 'marche', 'écraser', 'peuples', 'civilisés', 'peuples', 'barbares', 'afrique', 'pouvait', 'échapper', 'fléaux', 'vandales', 'passent', 'mer', 'poussés', 'esprit', 'fanàtisme', 'servait', 'pré', 'texte', 'rapines', 'fureurs', 'barbares', 'chassaient', 'peuple', 'timide', 'réduisaient', 'cendres', 'monastères', 'églises', 'saccagèrent', 'belle', 'côte', 'afrique', 'couverte', 'cités', 'florissantes', 'déjà', 'portes', 'hippone', 'genséric', 'tête', 'milieu', 'scènes', 'horreur', 'augustin', 'assiégé', 'ville', 'épiscopale', 'voulut', 'jamais', 'abandonner', 'prodiguait', 'exemples', 'courage', 'résignation', 'donnait', 'soins', 'combattants', 'blessés', 'animait', 'foi', 'soutenait', 'charité', 'sod', 'dom', 'inexpugnable', 'rempart', 'voyait', 'ser', 'paroles', 'prophète', 'douleurs', 'dabo', 'in', 'murum', 'æreum', 'fortem', 'bellabunt', 'adversùm', 'prævalebunt', 'barbares', 'attaquèrent', 'succès', 'murs', 'défendus', 'présence', 'saint', 'pontife', 'mois', 'siége', 'accablé', 'inquiétudes', 'douleurs', 'expira', 'âgé', 'ans', 'cæur', 'chiré', 'maux', 'enfants', 'yeux', 'attachés', 'cité', 'céleste', 'écrit', 'merveilleuse', 'histoire', 'hippone', 'fut', 'prise', 'ruinée', 'célèbre', 'église', 'afrique', 'théâtre', 'combats', 'gloire', 'étendait', 'carthage', 'jusau', 'désert', 'disparut', 'cents', 'évêques', 'augustin', 'dernier', 'grand', 'homme', 'partie', 'monde', 'barbarie', 'commençait', 'vandales', 'troublé', 'derniers', 'jours', 'menacèrent', 'tombe', 'fallut', 'dérober', 'dépouilles', 'glorieux', 'défenseur', 'foi', 'furent', 'portées', 'sardaigne', 'prélats', 'survécurent', 'augustin', 'point', 'voulu', 'prenant', 'route', 'exil', 'laisser', 'restes', 'fut', 'guide', 'père', 'modèle', 'arianisme', 'persécuteur', 'vénérables', 'proscrits', 'saint', 'fulgence', 'ruspe', 'né', 'famille', 'sénatoriale', 'accomplit', 'mission', 'lecture', 'sermon', 'saint', 'augustin', 'soudainement', 'terminé', 'renoncer', 'monde', 'naturel', 'prît', 'garde', 'restait', 'illustre', 'maître', 'sardaigne', 'méritait', 'honneur', 'servir', 'asile', 'restes', 'mortels', 'saint', 'augustin', 'bonne', 'heure', 'émue', 'évangélique', 'enfants', 'confessé', 'foi', 'hache', 'bourreaux', 'jérém', 'siècles', 'sarrasins', 'venaient', 'laisser', 'traces', 'sanglantes', 'passage', 'midi', 'france', 'italie', 'rendaient', 'maîtres', 'sardaigne', 'corps', 'saint', 'augustin', 'tombait', 'pouvoir', 'pieux', 'roi', 'lombard', 'luitprand', 'racheta', 'sacrées', 'dépouilles', 'trouvèrent', 'pavie', 'abri', 'digne', 'gloire', 'chassés', 'tour', 'tour', 'sépulcre', 'arianisme', 'islamisme', 'ossements', 'saint', 'augustin', 'partagé', 'destinées', 'catholicisme', 'orient', 'saint', 'louis', 'mourait', 'tunis', 'nouvelles', 'semences', 'civilisation', 'afrique', 'échappaient', 'couche', 'funèbre', 'cendres', 'grand', 'évêque', 'tressaillaient', 'sanctuaire', 'pavie', 'france', 'dit', 'jamais', 'nouvelles', 'gloires', 'conquérir', 'eut', 'planté', 'drapeau', 'plage', 'africaine', 'achevait', 'ans', 'æuvre', 'saint', 'louis', 'faisait', 'pu', 'faire', 'préparait', 'tombeau', 'saint', 'augustin', 'hippone', 'ouvrait', 'seule', 'porte', 'civilisation', 'pût', 'rentrer', 'antique', 'domaine', 'ii', 'siècles', 'évêques', 'fugitifs', 'proscrits', 'traversaient', 'mer', 'dépôt', 'sacré', 'ja', 'terre', 'natale', 'refusait', 'tombeau', 'hier', 'evêques', 'libres', 'heureux', 'mission', 'portés', 'mer', 'rendaient', 'augustin', 'patrie', 'culte', 'imitation', 'amour', 'successeur', 'immédiat', 'octobre', 'heures', 'matin', 'reliques', 'saint', 'évêque', 'hippone', 'transportées', 'processionnellement', 'ancienne', 'cathédrale', 'toulon', 'vaisseau', 'devait', 'conduire', 'terme', 'bienheureux', 'pèlerinage', 'bruit', 'loutes', 'cloches', 'artillerie', 'forts', 'rade', 'mêlait', 'musique', 'guerrière', 'chants', 'sacrés', 'église', 'immense', 'population', 'pressait', 'passage', 'arrivait', 'jusau', 'port', 'faire', 'idée', 'enthousiasme', 'animait', 'cours', 'faut', 'connaître', 'énergie', 'åmes', 'méridionales', 'piété', 'sait', 'traduire', 'manifestations', 'extérieures', 'canots', 'élégamment', 'décorés', 'attendaient', 'conduits', 'rapidement', 'bord', 'gassendi', 'beau', 'navire', 'royal', 'embarqués', 'nosseigneurs', 'évêques', 'châlons', 'marseille', 'alger', 'digne', 'valence', 'nevers', 'ecclésiastiques', 'accompagnaient', 'grands', 'vicaires', 'députés', 'évêques', 'montaient', 'temps', 'ténare', 'oublierons', 'jamais', 'dernier', 'adieu', 'vénérable', 'évêque', 'fréjus', 'âge', 'permit', 'point', 'traversée', 'longue', 'recevez', 'adieux', 'écria', 'saint', 'vieillard', 'remettant', 'mains', 'chasse', 'bénie', 'voudrais', 'pouvoir', 'accompagner', 'divine', 'marie', 'étoile', 'mer', 'devenir', 'boussole', 'puisse', 'ange', 'seigneur', 'accompagner', 'apaiser', 'flots', 'diriger', 'conduire', 'jusà', 'heureux', 'terme', 'désirs', 'bientôt', 'rendre', 'hippone', 'restes', 'précieux', 'grand', 'augustin', 'prierai', 'clergé', 'enfants', 'prieront', 'væux', 'pieux', 'pontife', 'exaucés', 'traversée', 'heureuses', 'suivions', 'côtes', 'sardaigne', 'partis', 'intention', 'débarquer', 'cagliari', 'précieuses', 'reliques', 'conservées', 'cents', 'ans', 'crainte', 'pouvoir', 'arriver', 'bonc', 'jour', 'annoncé', 'abandonner', 'projet', 'sommes', 'contentés', 'office', 'solennel', 'célébré', 'pont', 'navire', 'bénir', 'ile', 'entière', 'chasse', 'saint', 'cérémonie', 'paroles', 'fut', 'donné', 'adresser', 'équipage', 'réuni', 'entendre', 'parurent', 'produire', 'salutaire', 'impression', 'vaisseaux', 'vient', 'distraire', 'marin', 'jours', 'suivent', 'uniformes', 'touchante', 'commémoraison', 'solennités', 'église', 'prière', 'commun', 'célébration', 'saint', 'sacrifice', 'chant', 'cantiques', 'sacrés', 'instruction', 'religieuse', 'rappellent', 'jours', 'purs', 'enfance', 'belles', 'émotions', 'jeunesse', 'doux', 'souvenirs', 'patrie', 'pouvait', 'faire', 'vaisseaux', 'pratiqué', 'gassendi', 'ténare', 'traversée', 'homme', 'sentirait', 'épouvanté', 'présence', 'mer', 'immense', 'courroux', 'repos', 'verrait', 'manifestation', 'puissance', 'craindrait', 'colère', 'enseignerait', 'adorer', 'bonté', 'france', 'envoie', 'prêtres', 'évangéliser', 'sauvages', 'ait', 'pitié', 'propres', 'enfants', 'grand', 'matin', 'rade', 'bone', 'vue', 'navire', 'signal', 'donné', 'artillerie', 'casauba', 'foule', 'considérable', 'turcs', 'arabes', 'maures', 'européens', 'précipitent', 'rivage', 'dirigeons', 'môle', 'décrit', 'long', 'circuit', 'formant', 'canots', 'chaloupes', 'équipage', 'longue', 'file', 'avançait', 'lentement', 'ordre', 'procession', 'chant', 'psaumes', 'bruit', 'artillerie', 'cloches', 'tambours', 'grand', 'nombre', 'hommes', 'enfants', 'avancés', 'mer', 'mieux', 'jouir', 'imposant', 'spectacle', 'collines', 'édough', 'plaine', 'boudgemma', 'mouvement', 'vie', 'extraordinaires', 'jamais', 'afrique', 'jours', 'augustin', 'semblable', 'évêques', 'dernière', 'chaloupe', 'revêtus', 'ornements', 'fermaient', 'marche', 'débarquâmes', 'port', 'attendaient', 'autorités', 'civiles', 'militaires', 'garnison', 'discours', 'éminemment', 'chrétien', 'maire', 'paroles', 'touchantes', 'abbé', 'suchet', 'archidiacre', 'hippone', 'clergé', 'rendu', 'processionnellement', 'place', 'publique', 'bone', 'précédé', 'imniense', 'cortége', 'élevé', 'arcs', 'triomphe', 'maisons', 'tendues', 'rues', 'jonchées', 'feuillages', 'saintes', 'reliques', 'déposées', 'autel', 'majestueux', 'orné', 'riches', 'étoffes', 'candélabres', 'vases', 'guirlandes', 'fleurs', 'novembre', 'donnait', 'afrique', 'richesses', 'printemps', 'troupes', 'françaises'], ['blés', 'alger', 'mascara', 'tlemsen', 'bône', 'chiffre', 'ventes', 'élevé', 'total', 'différence', 'retrouve', 'marchés', 'boufarik', 'médéah', 'orléansville', 'philippeville', 'setif', 'guelma', 'mostaganem', 'arzew', 'nemours', 'ct', 'tient', 'principalement', 'déplacements', 'troupes', 'nécessités', 'rations', 'militaires', 'suite', 'précédent', 'désignation', 'villes', 'temps', 'nombre', 'substances', 'tissus', 'peaux', 'littoral', 'arabes', 'sel', 'ivile', 'niel', 'cire', 'beurre', 'savox', 'tabac', 'laine', 'arrivages', 'intéricur', 'laine', 'toriales', 'bæufs', 'venus', 'marché', 'concernent', 'provinces', 'localités', 'quint', 'mét', 'hectol', 'kilog', 'kilog', 'kilog', 'kilog', 'kilog', 'kilog', 'kilog', 'kilog', 'nombre', 'alger', 'lilloral', 'année', 'douéra', 'lotérieur', 'mois', 'boufarik', 'idem', 'année', 'koléah', 'idem', 'idem', 'blidah', 'idem', 'idem', 'médéah', 'idem', 'idem', 'algen', 'miliana', 'idem', 'mois', 'cherchel', 'littoral', 'année', 'tenès', 'idem', 'mois', 'orléansville', 'intérieur', 'année', 'bougie', 'littoral', 'idem', 'dellis', 'idem', 'idem', 'intérieur', 'mois', 'oran', 'littoral', 'année', 'mostaganem', 'idem', 'idem', 'arzew', 'idem', 'idem', 'mascara', 'intérieur', 'idem', 'oran', 'tlemsen', 'idem', 'mois', 'tiaret', 'idem', 'mois', 'saida', 'idem', 'mois', 'nemours', 'djema', 'ghazaouat', 'lilloral', 'mois', 'intérieur', 'mois', 'intérieur', 'année', 'setif', 'idom', 'idem', 'guelma', 'idem', 'idem', 'idem', 'mois', 'constantino', 'bone', 'littoral', 'année', 'philippeville', 'idem', 'idem', 'calle', 'idem', 'idem', 'djidjeli', 'idem', 'mois', 'totaux', 'arabes', 'fourni', 'choses', 'quantité', 'tissus', 'laine', 'rence', 'donne', 'marché', 'reportée', 'notamment', 'setif', 'guelma', 'bône', 'arrivages', 'laine', 'élevés', 'tiers', 'marchés', 'boufarik', 'blidah', 'médéah', 'orléansville', 'oran', 'mascara', 'tïaret', 'setif', 'bône', 'distinguent', 'accroissement', 'tiaret', 'seul', 'contribué', 'chiffre', 'kilogrammes', 'supérieur', 'année', 'dernière', 'huile', 'miel', 'cire', 'présentent', 'augmentations', 'significatives', 'approvisionnement', 'tabac', 'varié', 'bône', 'marché', 'produit', 'arrive', 'abondance', 'industrie', 'numérique', 'boucheries', 'boulangeries', 'exercice', 'localités', 'algérie', 'indiquées', 'administrées', 'civilement', 'alger', 'birkhadem', 'birmadreis', 'boudjaréah', 'chéragas', 'déli', 'ibrahim', 'drariah', 'fondouk', 'kouba', 'mustapha', 'douéra', 'crácia', 'yrirvk', 'cherchel', 'blidah', 'soumah', 'dalmatie', 'beni', 'mered', 'boufarik', 'koléan', 'sitianios', 'douaouda', 'fouka', 'oran', 'kergantar', 'misserguin', 'mostaganem', 'sénia', 'figuier', 'bône', 'galle', 'philippeville', 'valée', 'damarmont', 'stora', 'total', 'boucheries', 'boulangeries', 'établissements', 'exploitations', 'industrielles', 'présentent', 'chance', 'succès', 'algérie', 'faut', 'placer', 'ligne', 'mines', 'mines', 'cuivre', 'fer', 'mouzaïa', 'concédées', 'courant', 'déjà', 'commencé', 'réaliser', 'espérances', 'données', 'longs', 'pénibles', 'travaux', 'mise', 'exécution', 'permis', 'constater', 'résultats', 'appréciables', 'travaux', 'poursuivent', 'activité', 'possible', 'insérer', 'compte', 'rendu', 'détails', 'importante', 'entreprise', 'fin', 'gouvernement', 'accordé', 'nouvelles', 'concessions', 'mines', 'fer', 'environs', 'bône', 'derniers', 'établissements', 'offrent', 'autant', 'intérêt', 'voisinage', 'forêts', 'occupent', 'grande', 'partie', 'littoral', 'bône', 'philippeville', 'promet', 'solution', 'favorable', 'traitement', 'minerai', 'place', 'serait', 'immense', 'avantage', 'pays', 'usines', 'vapeur', 'grande', 'importance', 'créées', 'alger', 'industrie', 'ancienne', 'située', 'centre', 'ancien', 'faubourg', 'comprise', 'aujourhui', 'enceinte', 'ville', 'faisait', 'temps', 'fonctionner', 'scierie', 'mécanique', 'fermée', 'fin', 'installation', 'subsiste', 'probable', 'tardera', 'autorisée', 'nouveau', 'chevaux', 'maintenue', 'constant', 'activité', 'excepte', 'moulins', 'vent', 'usine', 'subvient', 'exclusivement', 'moutures', 'année', 'province', 'alger', 'usine', 'vapeur', 'égale', 'exécution', 'probablement', 'terminée', 'commencement', 'briqueteries', 'considérables', 'établies', 'environs', 'alger', 'localités', 'villages', 'soient', 'pourvues', 'essais', 'fabrications', 'nature', 'journellement', 'tentés', 'enfin', 'industrie', 'privée', 'cherche', 'étendre', 'points', 'concours', 'chambres', 'commerce', 'instituées', 'alger', 'oran', 'philippeville', 'facilitera', 'nir', 'moyens', 'constater', 'année', 'progrès', 'provinces', 'ailleurs', 'remarquer', 'travaux', 'chambres', 'alger', 'déjà', 'élé', 'utilité', 'étude', 'questions', 'commerciales', 'présentées', 'résoudre', 'avril', 'arrêté', 'intendant', 'civil', 'établi', 'algérie', 'courtiers', 'commerce', 'arrêté', 'mai', 'déterminant', 'manière', 'précise', 'limites', 'obligations', 'imposées', 'exercice', 'courtage', 'donné', 'nouvelles', 'garanties', 'régularité', 'transactions', 'offices', 'courtiers', 'créés', 'arrêté', 'répartissent', 'manière', 'suivante', 'alger', 'oran', 'philippeville', 'bône', 'mostaganem', 'bougie', 'djidjeli', 'cherchel', 'tenés', 'total', 'époque', 'jusà', 'fin', 'nouvelles', 'créations', 'lieu', 'savoir', 'calle', 'dellis', 'nemours', 'enfin', 'total', 'général', 'xiii', 'colonisation', 'causes', 'entravé', 'développements', 'colonisation', 'convient', 'mettre', 'ligne', 'prise', 'armes', 'portant', 'trouble', 'jusaux', 'abords', 'métidja', 'suspendu', 'forcément', 'réalisation', 'projets', 'création', 'centres', 'revers', 'septentrional', 'atlas', 'pourtour', 'plaine', 'ordonnances', 'royales', 'er', 'octobre', 'juillet', 'propriété', 'rurale', 'soumis', 'propriétaires', 'vérifications', 'titres', 'justifications', 'cultures', 'constater', 'droits', 'aujourhui', 'presque', 'incertains', 'particuliers', 'mise', 'exécution', 'ordonnances', 'exigé', 'délais', 'permis', 'disposer', 'librement', 'terres', 'nécessaires', 'colonisation', 'territoires', 'civils', 'alger', 'bône', 'oran', 'créations', 'nouvelles', 'nulles', 'territoires', 'premiers', 'travaux', 'établissement', 'centres', 'rive', 'gauche', 'chiffa', 'blidah', 'village', 'destiné', 'recevoir', 'émigrants', 'prussiens', 'stidïa', 'bourg', 'mazagran', 'mostaganem', 'village', 'uzerville', 'bône', 'colonisation', 'territoires', 'civils', 'signalée', 'perfectionnements', 'apportés', 'créations', 'antérieures', 'continuation', 'études', 'commencées', 'précédemment', 'territoires', 'mixtes', 'colonisation', 'jusalors', 'nulle', 'inaugurée', 'présentation', 'adoption', 'projets', 'basés', 'association', 'capitaux', 'bras', 'participation', 'auvre', 'coloniale', 'capitalistes', 'grands', 'taires', 'projets', 'présenté', 'commandant', 'supérieur', 'province', 'oran', 'reçu', 'commencement', 'exécution', 'ordonnance', 'date', 'décembre', 'autorisé', 'application', 'partie', 'territoire', 'mixte', 'subdivision', 'oran', 'ordonnances', 'concédé', 'compagnies', 'riches', 'particuliers', 'vastes', 'étendues', 'terres', 'projet', 'rédigé', 'commandant', 'supérieur', 'province', 'adopté', 'principales', 'parties', 'application', 'autorisée', 'points', 'notamment', 'terres', 'vallée', 'salsaf', 'philippeville', 'vallée', 'sud', 'reparlé', 'projets', 'cours', 'présente', 'notice', 'année', 'préparé', 'matériaux', 'éléments', 'colonisation', 'année', 'profitera', 'pendamment', 'études', 'particulières', 'oran', 'grand', 'nombre', 'commissions', 'chargées', 'déterminer', 'territoires', 'civils', 'territoires', 'mixtes', 'emplacement', 'centres', 'déjà', 'terminé', 'investigations', 'continuent', 'possible', 'année', 'prochaine', 'rédiger', 'projet', 'ensemble', 'colonisation', 'grande', 'partie', 'tell', 'algérien', 'renseignements', 'connaître', 'situation', 'décembre', 'dernier', 'colonisation', 'lgérie', 'situation', 'colonisation', 'territoires', 'civils', 'province', 'alger', 'centres', 'créés', 'antérieurement', 'centres', 'créés', 'province', 'antérieurement', 'subi', 'notables', 'changements', 'existence', 'assurée', 'temps', 'fera', 'reste', 'ouverture', 'nouvelle', 'route', 'alger', 'blidah', 'birkhadem', 'plaine', 'enlevé', 'bénéfice', 'roulage', 'faisait', 'auparavant', 'douéra', 'colons', 'centre', 'trouveront', 'culture', 'terres', 'remarquable', 'fécondité', 'compensations', 'pertes', 'situation', 'occasionnées', 'momentanément', 'ailleurs', 'lieu', 'passage', 'forcé', 'pénétrer', 'grande', 'partie', 'sahel', 'mouvement', 'affaires', 'intérêts', 'développer', 'progrès', 'peuplement', 'fertilisation', 'territoire', 'kouba', 'hameau', 'fondé', 'commune', 'kouba', 'distribué', 'recevoir', 'maisons', 'lots', 'bâtir', 'concédés', 'restants', 'résulté', 'établissement', 'hameau', 'kouba', 'compte', 'hameau', 'groupes', 'habitations', 'grand', 'nombre', 'exploitations', 'isolées', 'maisons', 'plaisance', 'belles', 'communes', 'environs', 'alger', 'compte', 'population', 'européenne', 'âmes', 'vouent', 'agriculture', 'terres', 'cultivées', 'nombre', 'hectares', 'cherchel', 'petite', 'ville', 'cherchel', 'abandonnée', 'habitants', 'troupes', 'occupèrent', 'compte', 'actuellement', 'habitants', 'européens', 'constructions', 'francs', 'travaux', 'agriculture', 'reçu', 'remarquable', 'développement', 'hectares', 'composant', 'territoire', 'primitivement', 'concédé', 'exploitation', 'hectares', 'ensemencés', 'blé', 'hectares', 'légumes', 'reste', 'prairies', 'puits', 'norias', 'construits', 'évaluer', 'million', 'francs', 'travaux', 'amélioration', 'effectués', 'jusà', 'jour', 'colons', 'ville', 'banlieue', 'ordonnance', 'royale', 'juillet', 'agrandi', 'territoire', 'colonisation', 'cherchel', 'précédemment', 'hectares', 'actuellement', 'hectares', 'terres', 'fertiles', 'arrosées', 'appartenant', 'centres', 'fondés', 'nouveau', 'territoire', 'terres', 'annexées', 'concédées', 'création', 'fermes', 'exploitations', 'isolées', 'villages', 'fondé', 'concessions', 'fermes', 'également', 'autorisées', 'ville', 'située', 'ruines', 'ancienne', 'cité', 'romaine', 'dite', 'julia', 'cæsarea', 'pourra', 'atteindre', 'développement', 'concourir', 'efficacement', 'prospérité', 'générale', 'lorselle', 'port', 'capable', 'recevoir', 'abriter', 'navires', 'fort', 'tonnage', 'mise', 'communication', 'alger', 'chenouan', 'koléah', 'miliana', 'métidja', 'travaux', 'études', 'faits', 'but', 'reste', 'continuer', 'compléter', 'koléah', 'ville', 'koléah', 'district', 'repeuplée', 'grande', 'partie', 'européens', 'attirer', 'ministre', 'décidé', 'serait', 'concessions', 'gratuites', 'enceinte', 'ville', 'environs', 'superficie', 'hectares', 'affectée', 'usage', 'nombre', 'familles', 'installées', 'manière', 'koléah', 'élevait', 'décembre', 'dernier', 'françaises', 'étrangères', 'hectares', 'distribués', 'indépendamment', 'concessions', 'directeur', 'intérieur', 'service', 'domaine', 'nombre', 'mouvement', 'donné', 'koléah', 'population', 'européenne', 'individus', 'appartiennent', 'concessionnaires', 'établis', 'direction', 'intérieur', 'koléah', 'appelé', 'situation', 'extrémité', 'ouest', 'sahel', 'alger', 'jouer', 'rôle', 'important', 'colonisation', 'littoral', 'ouest', 'métidja', 'lorson', 'relié', 'ville', 'cherchel', 'miliana', 'blidah', 'bonnes', 'voies', 'communication', 'doute', 'établisse', 'promptement', 'bonnes', 'conditions', 'population', 'serrée', 'pays', 'attrayant', 'arrosé', 'fertile', 'propre', 'cultures', 'riches', 'variées', 'boufarik', 'ville', 'boufarik', 'point', 'commercial', 'agricole', 'routier', 'complétement', 'sortie', 'longues', 'épreuves', 'subies', 'réalise', 'progressivement', 'espérances', 'rattachaient', 'création', 'grand', 'marché', 'métidja', 'magnifique', 'territoire', 'commence', 'cultivé', 'donner', 'produits', 'importants', 'hectares', 'parfait', 'exploitation', 'fin', 'compte', 'européens', 'milice', 'hommes', 'salubrité', 'jour', 'progrès', 'lorson', 'compare', 'situation', 'sanitaire', 'centre', 'aujourhui', 'années', 'fondé', 'espérer', 'temps', 'cultures', 'combinées', 'travaux', 'desséchement', 'métidja', 'deviendra', 'saine', 'habitable', 'boufarik', 'doté', 'établissements', 'publics', 'importants', 'existe', 'dépôt', 'étalons', 'pinière', 'gouvernement', 'construit', 'actuellement', 'jolie', 'église', 'centres', 'créés', 'fondouk', 'centre', 'population', 'rattache', 'plan', 'colonisation', 'pied', 'atlas', 'insalubrité', 'fondouk', 'intense', 'année', 'amélioration', 'due', 'remuements', 'terre', 'nécessités', 'premiers', 'travaux', 'terminés', 'progrès', 'chements', 'plaine', 'construction', 'maisons', 'saines', 'règles', 'hygiène', 'indiquées', 'administration', 'mieux', 'observées', 'colons', 'sécheresse', 'mois', 'algérie', 'entière', 'subie', 'fontaine', 'fondouk', 'manqué', 'eau', 'puits', 'creusés', 'urgence', 'coule', 'kilomètre', 'village', 'point', 'tari', 'filtrait', 'eau', 'filtre', 'public', 'établi', 'porte', 'hôpital', 'assurait', 'habitants', 'consommation', 'journalière', 'commission', 'instituée', 'ordre', 'ministre', 'guerre', 'but', 'examiner', 'situation', 'sanitaire', 'fondouk', 'constaté', 'fièvres', 'malades', 'administration', 'transporter', 'hôpitaux', 'mustapha', 'alger', 'point', 'laisser', 'foyer', 'infection', 'morts', 'mortalité', 'manifestée', 'vieillards', 'enfants', 'pauvres', 'mal', 'soignés', 'mal', 'nourris', 'yillage', 'perdu', 'habitants', 'donne', 'total', 'décès', 'population', 'moyenne', 'individus', 'proportion', 'forte', 'espérer', 'fera', 'améliorer', 'somme', 'centre', 'boufarik', 'autrefois', 'villages', 'malsains', 'plaine', 'aujourhui', 'prospère', 'situation', 'fondouk', 'deviendra', 'concevoir', 'administration', 'vaincu', 'défrichements', 'plantations', 'installation', 'définitive', 'pital', 'projet', 'existe', 'aménagement', 'eaux', 'enfin', 'mesures', 'temps', 'vélera', 'utilité', 'influences', 'morbides', 'belle', 'position', 'colons', 'déjà', 'commencé', 'concourir', 'æuvre', 'constructions', 'mieux', 'entendues', 'élevées', 'année', 'francs', 'développement', 'cultures', 'peuplé', 'familles', 'pauvres', 'centre', 'accru', 'colons', 'aisés', 'exécutent', 'travaux', 'construction', 'culture', 'considérables', 'fondouk', 'situé', 'débouchés', 'importants', 'montagne', 'plaine', 'passage', 'probable', 'route', 'alger', 'aumale', 'setif', 'hamza', 'territoire', 'fertile', 'marché', 'indigène', 'sûrement', 'riche', 'avenir', 'centre', 'noyau', 'colonisation', 'métidja', 'entouré', 'loin', 'terres', 'fertiles', 'presque', 'abandonnées', 'activité', 'européenne', 'transformera', 'rapidement', 'pourront', 'livrées', 'ministre', 'voulant', 'masser', 'autour', 'fondouk', 'nombreuse', 'population', 'décidé', 'hectares', 'seraient', 'prochainement', 'affectés', 'concessions', 'études', 'nécessaires', 'but', 'sahel', 'alger', 'ans', 'pays', 'mer', 'plaine', 'métidja', 'alger', 'jusà', 'koléah', 'désert', 'aujourhui', 'immense', 'partie', 'sahel', 'sillonnée', 'routes', 'chemins', 'vicinaux', 'villages', 'fermes', 'petite', 'ville', 'siége', 'district', 'douéra', 'créés', 'ville', 'arabe', 'koléah', 'agrandie', 'restaurée', 'devenue', 'française', 'résultats', 'obtenus', 'ans', 'déjà', 'années', 'viennent', 'écouler', 'affermir', 'colons', 'élevé', 'villages', 'constructions', 'estimées', 'francs', 'ensemble', 'culture', 'accru', 'hectares', 'partout', 'multiplient', 'travaux', 'occupation', 'définitive', 'moulins', 'établis', 'saoula', 'chéragas', 'staouéli', 'fouka', 'puits', 'creusés', 'norias', 'construites', 'sources', 'aménagées', 'meilleurs', 'labours', 'créé', 'vignobles', 'fumé', 'prairies', 'clôt', 'greffe', 'plante', 'colons', 'infaillible', 'pris', 'nostalgie', 'loin', 'clocher', 'commune', 'découragement', 'face', 'broussailles', 'habitués', 'clocher', 'nouveau', 'frichements', 'dédommagés', 'peines', 'mariages', 'allié', 'familles', 'enfin', 'attachés', 'sol', 'généreux', 'fera', 'riches', 'idée', 'retour', 'pays', 'laissait', 'pauvres', 'drariah', 'chéragas', 'drariah', 'chéragas', 'vivent', 'culture', 'industrie', 'faveur', 'assúre', 'situation', 'limites', 'banlieue', 'alger', 'citadins', 'possèdent', 'maisons', 'campagne', 'exploitation', 'carrières', 'second', 'briqueteries', 'ajoutent', 'produits', 'agricoles', 'saoula', 'saoula', 'recherché', 'également', 'habitants', 'alger', 'envahi', 'mahonnais', 'jardiniers', 'intelligents', 'laborieux', 'fermiers', 'propriétaires', 'livrent', 'cultures', 'maraîchères', 'hameau', 'hectares', 'terrain', 'situés', 'route', 'á', 'birkhadem', 'éloignés', 'saoula', 'ètre', 'exploités', 'habitants', 'village', 'divisés', 'lots', 'concédés', 'familles', 'bâti', 'cultivé', 'élève', 'petit', 'hameau', 'excellents', 'cultivateurs', 'propriété', 'tend', 'concentrer', 'serait', 'inconvénient', 'ailleurs', 'regrettable', 'territoire', 'éminemment', 'propre', 'élève', 'bestiaux', 'colons', 'trouveront', 'extension', 'terres', 'facilité', 'grande', 'développer', 'utile', 'industrie', 'grande', 'propriété', 'tend', 'prédominer', 'belles', 'fermes', 'construisent', 'culture', 'défrichements', 'sensibles', 'progrès', 'mérite', 'mention', 'villages', 'france', 'auraient', 'pu', 'supporter', 'perte', 'récoltes', 'successives', 'crécia', 'crécia', 'peuplé', 'travailleurs', 'pauvres', 'énergiques', 'développe', 'année', 'puissance', 'travail', 'briqueteries', 'four', 'chaux', 'continuelle', 'activité', 'carrières', 'exploitées', 'défrichements', 'donné', 'bois', 'brûler', 'charbon', 'petites', 'industries', 'lucratives', 'misérables', 'constructions', 'installation', 'soient', 'presque', 'transformées', 'maisons', 'commodes', 'solides', 'petites', 'fermes', 'bâties', 'lots', 'ruraux', 'éloignés', 'village', 'facile', 'convaincre', 'enfin', 'population', 'essentiellement', 'agricole', 'crécia', 'faite', 'industrielle', 'arriver', 'culture', 'zéralda', 'zéralda', 'offre', 'particularité', 'habitants', 'placés', 'milieu', 'fortes', 'broussailles', 'jusici', 'vécu', 'industrie', 'bûcherons', 'malheureusement', 'inondation', 'dernière', 'emportant', 'pont', 'mazafran', 'intercepté', 'route', 'écoulaient', 'produits', 'koléah', 'souffrir', 'circonstance', 'pont', 'bientôt', 'réparé', 'marais', 'voisins', 'desséchés', 'colons', 'aidés', 'défrichements', 'travailleurs', 'militaires', 'espérer', 'centre', 'heureusement', 'situé', 'route', 'alger', 'å', 'koléah', 'plaine', 'ştaouéli', 'constituera', 'promptement', 'bonnes', 'conditions', 'douaquda', 'douaouda', 'côté', 'mazafran', 'gêne', 'momentané', 'causé', 'années', 'récolte', 'viennent', 'écouler', 'belles', 'constructions', 'fertilité', 'territoire', 'beaux', 'villages', 'sahel', 'frappé', 'douaouda', 'années', 'malheureuses', 'peuplé', 'partie', 'soldats', 'libérés', 'partie', 'familles', 'civiles', 'compte', 'actuellement', 'familles', 'constituées', 'territoire', 'fouka', 'étendu', 'obstacle', 'permettra', 'faire', 'nouvelles', 'concessions', 'provoquer', 'établissement', 'fermes', 'isolées', 'trappistes', 'staquéli', 'têtes', 'monastère', 'belle', 'ferme', 'hôtellerie', 'ateliers', 'moulin', 'farine', 'représentant', 'francs', 'cultures', 'étendues', 'hectares', 'matériel', 'considérable', 'gros', 'bétail', 'arbres', 'plantés', 'population', 'habitants', 'situation', 'établissement', 'uniquement', 'agricole', 'administration', 'trappistes', 'regretter', 'moyens', 'action', 'grands', 'aient', 'mis', 'disposition', 'pieux', 'intelligents', 'travailleurs', 'douéra', 'centre', 'fondations', 'sahel', 'petite', 'ville', 'douéra', 'grand', 'nombre', 'lien', 'continue', 'jouer', 'grand', 'rôle', 'assigné', 'projet', 'ensemble', 'rattache', 'création', 'ouverture', 'route', 'plaine', 'birkhadem', 'privé', 'douéra', 'fice', 'transit', 'régulier', 'prospérité', 'factice', 'retiraient', 'habitants', 'presque', 'jusalors', 'cafetiers', 'cabaretiers', 'trouver', 'avantageusement', 'remplacée', 'prospérité', 'réelle', 'trouveront', 'culture', 'extension', 'défrichements', 'améliorations', 'apportées', 'procédés', 'agricoles', 'attestent', 'déjà', 'franchement', 'accepté', 'position', 'nouvelle', 'ville', 'perdu', 'vrai', 'individus', 'regrettables', 'reste', 'vide', 'facilement', 'réparable', 'rempli', 'laborieux', 'concessionnaires', 'somme', 'bénéfice', 'échange', 'aider', 'mouvement', 'favorable', 'agriculture', 'conformément', 'intentions', 'ministre', 'guerre', 'administration', 'créer', 'limites', 'territoire', 'douéra', 'points', 'sahel', 'notamment', 'quartier', 'auprès', 'chéragas', 'intervalles', 'existent', 'territoire', 'centres', 'fermes', 'grandeur', 'moyenne', 'confiera', 'colons', 'riches', 'éprouvés', 'centres', 'créés', 'condamnés', 'militaires', 'villages', 'bâtis', 'système', 'condamnés', 'militaires', 'concession', 'composée', 'maison', 'solide', 'hectares', 'terrain', 'défrichés', 'cédés', 'prix', 'modique', 'francs', 'éléments', 'succès', 'désirables', 'malheureusement', 'partie', 'sahel', 'accidentée', 'routes', 'fort', 'difficiles', 'exécuter', 'terminées', 'temps', 'villages', 'toutefois', 'chemins', 'carrossables', 'conduisent', 'plaine', 'staouéli', 'douéra', 'mahelma', 'marabout', 'aumale', 'consulaire', 'consulaire', 'plateau', 'administration', 'étudier', 'soin', 'système', 'communications', 'convenable', 'terrain', 'raviné', 'réseau', 'route', 'complet', 'næuds', 'centres', 'avons', 'facilité', 'circulation', 'rappellera', 'travailleurs', 'се', 'pays', 'plateaux', 'ensemencés', 'donneront', 'céréales', 'vallées', 'prairies', 'naturelles', 'excellentes', 'enrichi', 'prairies', 'artificielles', 'aménagé', 'bois', 'vignobles', 'presque', 'versants', 'troupeaux', 'nourrit', 'arrivent', 'promptement', 'expérience', 'prouvé', 'qualité', 'supérieure', 'familles', 'principe', 'concessions', 'vendu', 'mis', 'place', 'fermiers', 'partout', 'triage', 'bénéficiera', 'colonisation', 'spéculateurs', 'partis', 'restent', 'agriculteurs', 'cadres', 'promptement', 'complet', 'mahelma', 'peuplé', 'partie', 'colons', 'militaires', 'pouvaient', 'laisser', 'charrue', 'aller', 'tenter', 'fortune', 'ailleurs', 'prospère', 'villages', 'travaux', 'considérables', 'construction', 'culture', 'plantations', 'arbres', 'vignobles', 'exécutés', 'année', 'propriétaire', 'réuni', 'achetant', 'concessions', 'marabout', 'aumale', 'composé', 'concessions', 'situé', 'position', 'pittoresque', 'sahel', 'tentera', 'doute', 'jour', 'riche', 'capitaliste', 'employant', 'colons', 'voisins', 'ouvriers', 'donnera', 'nouvel', 'élément', 'existence', 'déjà', 'concessions', 'consulaire', 'réunies', 'seule', 'grande', 'ferme', 'exploitée', 'servitudes', 'francs', 'élevées', 'année', 'ouvriers', 'marabout', 'aumale', 'vécu', 'années', 'stériles', 'viennent', 'traverser', 'travaux', 'bâtisse', 'exploitation', 'exécutés', 'consulaire', 'villages', 'maritimes', 'construits', 'particuliers', 'subvention', 'fondé', 'kilomètres', 'cap', 'caxine', 'but', 'accueillir', 'familles', 'pêcheurs', 'répondu', 'promesses', 'entrepreneur', 'engagements', 'pris', 'administration', 'toutefois', 'petites', 'maisons', 'face', 'mer', 'belle', 'habitation', 'élevées', 'conditions', 'portées', 'cahier', 'charges', 'remplies', 'administration', 'repris', 'direction', 'village', 'allotissement', 'terre', 'famille', 'route', 'terminée', 'conduit', 'chéragas', 'alger', 'permettra', 'colons', 'écouler', 'produits', 'approvisionner', 'aisément', 'promptement', 'ouest', 'presîle', 'mérite', 'spéciale', 'attention', 'entrepreneur', 'village', 'construire', 'maisons', 'peuplées', 'pêcheurs', 'amenés', 'côtes', 'bretagne', 'femmes', 'suivis', 'installé', 'milieu', 'famille', 'pêcherie', 'pleine', 'activité', 'sardines', 'salées', 'poisson', 'frais', 'fournit', 'centres', 'voisins', 'alger', 'approvisionne', 'marchés', 'quantité', 'huîtres', 'grande', 'prix', 'coquillage', 'ait', 'baissé', 'moitié', 'jusà', 'présent', 'huîtres', 'arrivaient', 'alger', 'ports', 'océan', 'baléares', 'cultures', 'plantations', 'autonr', 'village', 'dernière', 'condition', 'succès', 'serait', 'désirer', 'pût', 'fixer', 'définitivement', 'conditions', 'spéciales', 'propres', 'profession', 'marins', 'gages', 'entrepreneur', 'su', 'attirer', 'enrôlés', 'laps', 'temps', 'déterminé', 'administration', 'négligera', 'atteindre', 'but', 'facilités', 'données', 'concessionnaire', 'principal', 'puisse', 'attacher', 'sol', 'substitution', 'partielle', 'pêcheurs', 'familles', 'agricoles', 'village', 'nom', 'construit', 'entrepreneur', 'conditions', 'meilleures', 'peine', 'achevé', 'hameau', 'peuplement', 'imparfait', 'distingue', 'vitalité', 'résulte', 'avantages', 'procure', 'petite', 'crique', 'trouve', 'voisinage', 'fouka', 'douaouda', 'koléah', 'relations', 'tendent', 'nouer', 'blidah', 'espoir', 'voir', 'bientôt', 'ouvrir', 'route', 'ville', 'mer', 'districts', 'boufarik', 'souma', 'double', 'désastre', 'causé', 'manque', 'récoltes', 'invasion', 'sauterelles', 'crise', 'financière', 'sévit', 'an', 'blidah', 'centres', 'districts', 'blidah', 'boufarik', 'situation', 'remarquablement', 'satisfaisante', 'population', 'agricole', 'accru', 'habitants', 'francs', 'constructions', 'mis', 'hectares', 'culture', 'avenir', 'agricole', 'assuré', 'centres', 'fertilité', 'sol', 'facilité', 'irrigation', 'progresse', 'rapidement', 'joinville', 'montpensier', 'joinville', 'montpensier', 'existe', 'vides', 'peuplement', 'états', 'annexés', 'présente', 'notice', 'constatent', 'partout', 'amélioration', 'notable', 'constructions', 'cultures', 'tance', 'matériel', 'exploitation', 'troupeaux', 'hectares', 'annexés', 'territoire', 'montpensier', 'possible', 'placer', 'nouvelles', 'familles', 'boufarik', 'parlé', 'charmante', 'petite', 'ville', 'parfaitement', 'assainie', 'plantations', 'auprès', 'boufarik', 'élève', 'exploitation', 'soukali', 'propriété', 'concédée', 'borely', 'latapie', 'juillet', 'voir', 'tableau', 'situation', 'pages', 'suivantes', 'condition', 'fonder', 'grande', 'ferme', 'hameau', 'familles', 'ferme', 'existe', 'hameau', 'moitié', 'construit', 'existe', 'soukali', 'colons', 'fournissant', 'miliciens', 'hectares', 'mis', 'rapport', 'hectares', 'plantés'], ['bataillons', 'eut', 'point', 'mouvements', 'unité', 'action', 'convenable', 'officiers', 'supérieurs', 'reposant', 'soin', 'appartenait', 'fut', 'dernier', 'jour', 'mit', 'ordre', 'service', 'officiers', 'bivouac', 'brigade', 'berthier', 'sauvigny', 'labouré', 'boulets', 'ennemis', 'africains', 'embusqués', 'petit', 'bois', 'situé', 'front', 'commençaient', 'inquiéter', 'feu', 'mousqueterie', 'baraguay', 'hilliers', 'marche', 'chassa', 'poste', 'fit', 'couvrir', 'bois', 'redan', 'troupes', 'occupèrent', 'africains', 'combats', 'tirailleurs', 'favorisés', 'position', 'dominante', 'terrain', 'fourré', 'tua', 'monde', 'turcs', 'coutume', 'planter', 'peau', 'front', 'ligne', 'tirailleurs', 'vaient', 'occuper', 'drapeau', 'fut', 'cause', 'mort', 'sieurs', 'braves', 'tentèrent', 'enlever', 'jeune', 'officier', 'léger', 'nommé', 'léonide', 'morogues', 'déjà', 'remarquer', 'répidité', 'borne', 'chef', 'escadrons', 'aide', 'camp', 'duc', 'escars', 'eut', 'épaule', 'emportée', 'boulet', 'mourut', 'heures', 'compagnies', 'élite', 'ligne', 'emportées', 'ardeur', 'gravirent', 'presque', 'jusau', 'sommet', 'hauteurs', 'occupées', 'ennemi', 'tuant', 'dispersant', 'présentait', 'perdirent', 'monde', 'revenant', 'purent', 'enlever', 'blessés', 'furent', 'aussitôt', 'décollés', 'africains', 'jour', 'colonne', 'ennemie', 'tomba', 'improviste', 'bataillon', 'º', 'léger', 'partie', 'marche', 'sabra', 'hommes', 'bataillon', 'coupable', 'imprudence', 'chef', 'occupé', 'entier', 'nettoyer', 'armes', 'sorte', 'fusils', 'démontés', 'put', 'opposer', 'résistance', 'troupes', 'voisinage', 'vinrent', 'secours', 'repoussèrent', 'facilement', 'ennemi', 'bourmont', 'établit', 'juin', 'quartier', 'général', 'staoueli', 'alla', 'visiter', 'ligne', 'rencontra', 'chemin', 'cadavres', 'tête', 'attestaient', 'imprudence', 'soldats', 'férocité', 'ennemis', 'bourmont', 'donna', 'ordres', 'hâter', 'construction', 'redoutes', 'régla', 'service', 'compagnies', 'devaient', 'former', 'garnison', 'manière', 'fussent', 'relevées', 'jours', 'prit', 'mesures', 'assurer', 'arrivage', 'con', 'livre', 'ii', 'vois', 'vivres', 'munitions', 'jour', 'devaient', 'partir', 'staoueli', 'dernier', 'point', 'position', 'défendaient', 'º', 'divisions', 'écrivit', 'général', 'commandant', 'division', 'militaire', 'marseille', 'faire', 'embarquer', 'tôt', 'possible', 'hommes', 'appartenant', 'régiments', 'armée', 'afrique', 'trouvaient', 'réunis', 'dépôt', 'général', 'toulon', 'fut', 'question', 'faire', 'embarquer', 'brigade', 'division', 'réserve', 'réunie', 'midi', 'disposition', 'eut', 'suite', 'général', 'chef', 'concerta', 'amiral', 'duperré', 'débarquement', 'marins', 'conjointement', 'bataillon', 'ligne', 'furent', 'destinés', 'occuper', 'commandement', 'fut', 'confié', 'colonel', 'léridan', 'mesure', 'rendit', 'disponibles', 'bataillons', 'brigade', 'munck', 'uzer', 'enfin', 'débarquement', 'matériel', 'terminé', 'opposant', 'investissement', 'place', 'quarts', 'lieue', 'attaque', 'positions', 'ennemies', 'fut', 'fixée', 'juin', 'lendemain', 'positions', 'rattachaient', 'mont', 'bouzaréa', 'situé', 'alger', 'élévation', 'mer', 'mètres', 'pentes', 'bouzaréa', 'raides', 'nord', 'ravins', 'trèsescarpés', 'séparent', 'ville', 'origine', 'ravins', 'lie', 'collines', 'alger', 'étendent', 'jusà', 'arach', 'petite', 'rivière', 'jette', 'mer', 'lieues', 'ville', 'collines', 'séparées', 'mer', 'plaine', 'mètres', 'largeur', 'moyenne', 'coupées', 'grands', 'ravins', 'plateau', 'couronne', 'partage', 'eaux', 'serpentait', 'ancienne', 'romaine', 'environs', 'alger', 'perdait', 'plaine', 'staoueli', 'chemin', 'passait', 'auprès', 'fort', 'empereur', 'bâti', 'sud', 'ville', 'crêtes', 'hauteurs', 'fort', 'domine', 'alger', 'vue', 'baie', 'dominé', 'prolongement', 'pentes', 'mont', 'bouzaréa', 'terrain', 'venons', 'décrire', 'couvert', 'jardins', 'vergers', 'prodigieuse', 'quantité', 'maisons', 'campagne', 'fort', 'beaux', 'édifices', 'coupé', 'haies', 'épaisses', 'joint', 'difficultés', 'naturelles', 'sol', 'rend', 'accès', 'reste', 'admirable', 'beauté', 'fertilité', 'remarquable', 'soir', 'armée', 'française', 'fut', 'réunie', 'position', 'exception', 'brigades', 'montlivault', 'munck', 'uzer', 'chargées', 'garde', 'camps', 'postes', 'intermédiaires', 'laissa', 'staoueli', 'compagnies', 'génie', 'transporté', 'dernier', 'camp', 'partie', 'parcs', 'artillerie', 'génie', 'pointe', 'jour', 'armée', 'ébranla', 'colonnes', 'serrées', 'colonne', 'formée', 'régiment', 'divisions', 'rang', 'bataille', 'centre', 'º', 'gauche', 'artillerie', 'marchait', 'intervalles', 'compagnie', 'génie', 'fut', 'attachée', 'division', 'ouvrir', 'chemin', 'serait', 'nécessaire', 'armée', 'traversa', 'silence', 'vallon', 'séparait', 'ennemi', 'gravit', 'hauteurs', 'opposées', 'tomba', 'barbares', 'surpris', 'brusque', 'attaque', 'temps', 'reconnaître', 'lâchèrent', 'pied', 'aussitôt', 'revenus', 'terreur', 'livre', 'ii', 'arrêtèrent', 'loin', 'commencèrent', 'masses', 'division', 'fusillade', 'feu', 'artillerie', 'fit', 'bientôt', 'taire', 'turcs', 'perdirent', 'usage', 'retirèrent', 'canon', 'place', 'division', 'occupa', 'pentes', 'mont', 'bouzaréa', 'face', 'ville', 'versé', 'ravins', 'mauvaises', 'troupes', 'européennes', 'auraient', 'défendus', 'avantage', 'meilleures', 'division', 'berthezène', 'eut', 'lutter', 'difficultés', 'naturelles', 'sol', 'furent', 'division', 'appuyant', 'toujoursàgauche', 'passa', 'arriva', 'pentes', 'bouzaréa', 'suite', 'bourmont', 'transporté', 'sommet', 'montagne', 'poste', 'vigie', 'fit', 'occuper', 'point', 'ligne', 'division', 'berthezène', 'trouva', 'suite', 'mouvement', 'venait', 'faire', 'civision', 'escas', 'division', 'loverdo', 'parcourir', 'terrain', 'facile', 'suivait', 'romaine', 'trouve', 'avons', 'dit', 'partage', 'eaux', 'multitude', 'ravins', 'divisions', 'engagées', 'avança', 'lentement', 'turcs', 'face', 'débordèrent', 'suite', 'lenteur', 'aile', 'division', 'gauche', 'escars', 'fut', 'obligé', 'envoyer', 'tirailleurs', 'propre', 'division', 'couvrir', 'collègue', 'temps', 'tirailleurs', 'furent', 'rappelés', 'brigade', 'berthier', 'appartenaient', 'fit', 'mouvement', 'gauche', 'rapprocher', 'brigade', 'hurel', 'accidents', 'terrain', 'séparée', 'général', 'lºverdo', 'fit', 'alor', 'mouvement', 're', 'traite', 'put', 'expliquer', 'moment', 'dit', 'résultat', 'méprise', 'fit', 'croire', 'bonne', 'direction', 'général', 'chef', 'concevant', 'mouvement', 'rétrograde', 'envoya', 'loverdo', 'ordre', 'reprendre', 'offensive', 'eut', 'peine', 'retrouver', 'ravins', 'enseveli', 'sorte', 'division', 'quitté', 'romaine', 'général', 'chef', 'jugeant', 'inutile', 'divisions', 'point', 'ordonna', 'rester', 'pentes', 'bouzaréa', 'aller', 'établir', 'romaine', 'division', 'reprit', 'chemin', 'venait', 'suivre', 'brigade', 'berthier', 'couper', 'court', 'enfonça', 'ravins', 'profonds', 'inextricables', 'parvint', 'grandes', 'fatigues', 'position', 'assignée', 'établit', 'consulats', 'hollande', 'espagne', 'division', 'fut', 'complétement', 'désorganisée', 'instants', 'compagnies', 'bataillons', 'régiments', 'confondus', 'fallut', 'heures', 'débrouiller', 'chaos', 'division', 'désordre', 'pénétré', 'enfin', 'retrouvée', 'vint', 'établir', 'gauche', 'romaine', 'turcs', 'tiraillé', 'partie', 'journée', 'rentrèrent', 'place', 'canon', 'arabes', 'descendirent', 'plaine', 'bord', 'mer', 'investissement', 'alger', 'loin', 'complet', 'occupions', 'hauteurs', 'bords', 'mer', 'restaient', 'libres', 'turcs', 'communiquaient', 'facilement', 'plaine', 'métidja', 'confusion', 'régna', 'mouvements', 'livre', 'armée', 'française', 'journée', 'aurait', 'pu', 'conséquences', 'funestes', 'trouvés', 'face', 'ennemi', 'habile', 'entreprenant', 'bourmont', 'fut', 'hésitant', 'indécis', 'opérations', 'dit', 'montra', 'faiblesse', 'lieutenants', 'généraux', 'coupable', 'désobéissance', 'formelle', 'ordres', 'brigade', 'poret', 'morvan', 'restée', 'ancienne', 'position', 'garder', 'parc', 'ambulance', 'fut', 'attaquée', 'arabes', 'succès', 'part', 'engagement', 'soldat', 'ligne', 'nommé', 'sovadot', 'arracha', 'arabes', 'prodiges', 'capitaine', 'gallois', 'grièvement', 'pu', 'savoir', 'brave', 'obtenu', 'récompense', 'noble', 'conduite', 'actions', 'guerre', 'résultat', 'sauver', 'certainement', 'méritoire', 'titre', 'romains', 'mettaient', 'couronne', 'civique', 'perdîmes', 'fort', 'monde', 'journée', 'pièces', 'canon', 'tombèrent', 'pouvoir', 'prisonniers', 'maisons', 'campagne', 'trouvâmes', 'abandonnées', 'furent', 'général', 'pillées', 'dévastées', 'consuls', 'européens', 'soldats', 'connurent', 'pavillons', 'souffrirent', 'habitants', 'trouvés', 'cachés', 'maisons', 'haies', 'furent', 'massacrés', 'femmes', 'furent', 'tuées', 'accident', 'furent', 'violées', 'tristes', 'accompagnements', 'guerre', 'jour', 'arrivée', 'alger', 'général', 'chef', 'général', 'valazé', 'reconnurent', 'approches', 'château', 'empereur', 'fallait', 'enlever', 'songer', 'attaquer', 'corps', 'place', 'château', 'avons', 'connaître', 'position', 'nom', 'empereur', 'lors', 'expédition', 'alger', 'établi', 'quartier', 'général', 'lieu', 'bâti', 'fut', 'choix', 'fit', 'charlesquint', 'position', 'fit', 'ouvrir', 'yeux', 'turcs', 'importance', 'point', 'connu', 'nom', 'turcs', 'appellent', 'fort', 'empereur', 'éloigné', 'mètres', 'ville', 'carré', 'allongé', 'maçonnerie', 'fortifications', 'alger', 'murs', 'flanqués', 'petites', 'saillies', 'forme', 'bastions', 'face', 'sud', 'double', 'enceinte', 'reste', 'point', 'intérieur', 'grosse', 'tour', 'ronde', 'servant', 'réduit', 'fort', 'empereur', 'alger', 'bâtie', 'amphithéâtre', 'penchant', 'colline', 'élevée', 'forme', 'triangle', 'côtés', 'appuyé', 'mer', 'ville', 'entourée', 'mur', 'antique', 'tours', 'créneaux', 'construction', 'irrégulière', 'pieds', 'terme', 'moyen', 'large', 'mur', 'précédé', 'fossé', 'sommet', 'triangle', 'élevait', 'citadelle', 'casbah', 'formait', 'triangle', 'côtés', 'prolongements', 'mur', 'enceinte', 'séparait', 'casbah', 'ville', 'alger', 'portes', 'conduisant', 'campagne', 'sud', 'porte', 'neuve', 'ville', 'porte', 'bas', 'nord', 'porte', 'également', 'bas', 'porte', 'neuve', 'porte', 'rempart', 'précédé', 'petit', 'mur', 'fausse', 'braie', 'livre', 'ii', 'environs', 'porte', 'côté', 'enceinte', 'appuyé', 'mer', 'percé', 'portes', 'dites', 'marine', 'pêcherie', 'bord', 'mer', 'mètres', 'porte', 'babazoun', 'élevait', 'fort', 'nom', 'fort', 'couvrait', 'porte', 'mètres', 'fort', 'mètres', 'loin', 'fort', 'anglais', 'forts', 'hérissés', 'canons', 'barbares', 'croient', 'position', 'inexpugnable', 'lorsils', 'entassé', 'bouches', 'feu', 'choix', 'discernement', 'côté', 'fort', 'alger', 'mer', 'principaux', 'ouvrages', 'défendaient', 'entrée', 'approches', 'port', 'construits', 'rocher', 'avons', 'parlé', 'livre', 'khaireddin', 'réunit', 'continent', 'jeté', 'fort', 'bel', 'ouvrage', 'fortifications', 'rine', 'perfectionnées', 'époque', 'pierre', 'solidité', 'compliquées', 'détails', 'endroits', 'jusà', 'rangs', 'batteries', 'reprenons', 'fil', 'narration', 'batterie', 'siége', 'canons', 'suivi', 'armée', 'attaque', 'comb', 'attre', 'batteries', 'position', 'ennemi', 'pouvait', 'construites', 'bords', 'ravins', 'avons', 'prévoyance', 'étendue', 'reste', 'alger', 'mains', 'ortifié', 'moderne', 'enceinte', 'accrue', 'agit', 'ſue', 'vieil', 'alger', 'artillerie', 'siége', 'arriva', 'successivement', 'emplacement', 'parc', 'fut', 'désigné', 'arrière', 'consulat', 'hollande', 'résultat', 'reconnaissance', 'faite', 'général', 'valazé', 'fut', 'pouvait', 'commencer', 'immédiatement', 'travaux', 'tranchée', 'fort', 'empereur', 'eut', 'lieu', 'lendemain', 'heures', 'matin', 'feu', 'place', 'extrême', 'fatigue', 'troupes', 'obligèrent', 'bientôt', 'interrompre', 'put', 'reprendre', 'nuit', 'suivante', 'chambaut', 'chef', 'bataillon', 'génie', 'fut', 'blessé', 'mort', 'premières', 'opérations', 'décidé', 'construirait', 'seule', 'parallèle', 'lier', 'batteries', 'général', 'lahitte', 'déterminé', 'emplacement', 'sorte', 'fussent', 'temps', 'batteries', 'enfilade', 'batteries', 'brèche', 'fort', 'empereur', 'méritait', 'attaque', 'savante', 'dominions', 'côtés', 'résolut', 'attaquer', 'face', 'sud', 'ouest', 'dernière', 'paraissait', 'facile', 'conséquence', 'seule', 'batterie', 'fut', 'établie', 'face', 'sud', 'canons', 'fut', 'construite', 'prolongement', 'face', 'ouest', 'fut', 'battue', 'batteries', 'canons', 'obusiers', 'pièces', 'fut', 'établie', 'gauche', 'romaine', 'seconde', 'pièces', 'calibre', 'batterie', 'obusiers', 'contenant', 'pièces', 'fut', 'construite', 'dernière', 'romaine', 'batterie', 'mortiers', 'pouces', 'fut', 'construite', 'capitale', 'angle', 'sudouest', 'fort', 'premières', 'batteries', 'venons', 'parler', 'batteries', 'eurent', 'livre', 'ii', 'noms', 'suivants', 'º', 'fut', 'appelée', 'batterie', 'saintlouis', 'batterie', 'dauphin', 'roi', 'duc', 'bordeaux', 'enfin', 'batterie', 'duquesne', 'masquées', 'haies', 'cachaient', 'construction', 'ennemi', 'juillet', 'journée', 'turcs', 'tentèrent', 'sortie', 'furent', 'repoussés', 'perte', 'embusquèrent', 'jardins', 'haies', 'ouvrages', 'mirent', 'tirailler', 'avantage', 'opposâmes', 'meilleurs', 'tireurs', 'régiments', 'arma', 'fusils', 'rempart', 'travail', 'tranchée', 'fut', 'réglé', 'manière', 'relevé', 'soir', 'heures', 'matin', 'heures', 'demie', 'nombre', 'travailleurs', 'fut', 'fixé', 'eut', 'désordre', 'répartition', 'quelquefois', 'heure', 'arrivée', 'fit', 'souvent', 'perdre', 'temps', 'précieux', 'peine', 'comprendre', 'pécher', 'détails', 'simples', 'exécution', 'facile', 'rare', 'guerre', 'général', 'lahitte', 'fit', 'commencer', 'juillet', 'construction', 'nouvelle', 'batterie', 'obusiers', 'jardin', 'consulat', 'suède', 'tranchée', 'jour', 'brigade', 'montlivault', 'restée', 'arrière', 'entra', 'ligne', 'bataillons', 'brigade', 'munck', 'uzer', 'brigade', 'poret', 'morvan', 'porta', 'communications', 'sidire', 'uch', 'alger', 'juillet', 'travaux', 'furent', 'pousses', 'activité', 'ouvrage', 'avançait', 'également', 'partout', 'sol', 'points', 'également', 'facile', 'remuer', 'tirailleurs', 'soutinrent', 'feu', 'ligne', 'batterie', 'fut', 'attaquée', 'turcs', 'avancèrent', 'épaulement', 'eut', 'moment', 'hésitation', 'part', 'soldats', 'entraînés', 'bientôt', 'exemple', 'capitaine', 'artillerie', 'mocquart', 'fondirent', 'ennemi', 'repoussèrent', 'arabes', 'extérieur', 'vinrent', 'inquiéte', 'furent', 'repoussés', 'loin', 'compagnie', 'léger', 'passa', 'action', 'mérite', 'rapportée', 'arabe', 'blessé', 'coup', 'feu', 'moment', 'français', 'ébranlaient', 'porter', 'camarades', 'vient', 'secours', 'dispose', 'emporter', 'instant', 'dernier', 'blessé', 'tombe', 'fardeau', 'relève', 'bientôt', 'lieu', 'profiter', 'reste', 'sauver', 'seul', 'obstine', 'généreusement', 'point', 'abandonner', 'compagnon', 'blessé', 'français', 'mourra', 'ami', 'officier', 'arriva', 'presque', 'temps', 'premiers', 'tirailleurs', 'aurait', 'voulu', 'sauver', 'éleva', 'voix', 'tard', 'soldats', 'accordaient', 'quartier', 'ennemi', 'donné', 'exemple', 'point', 'faire', 'amiral', 'duperré', 'parut', 'alger', 'partie', 'forces', 'heures', 'canonna', 'ville', 'foris', 'distance', 'peine', 'bot', 'arivèrent', 'terre', 'chose', 'lieu', 'mer', 'fut', 'doute', 'empêcha', 'duperré', 'raser', 'fortifications', 'paraissait', 'vouloir', 'combattre', 'força', 'tenir', 'brave', 'marine', 'fort', 'éloignée', 'position', 'prise', 'lord', 'exmouth', 'démonstration', 'eut', 'livre', 'ii', 'résultat', 'partager', 'attention', 'ennemi', 'encourager', 'soldats', 'durent', 'croire', 'grand', 'bruit', 'suivi', 'ia', 'soirée', 'batteries', 'roi', 'dauphin', 'furent', 'armées', 'élé', 'malin', 'ouvrages', 'partout', 'défilés', 'établi', 'fortes', 'traverses', 'nécessaircs', 'magasins', 'poudre', 'construits', 'approvisionnés', 'enfin', 'prêt', 'attaque', 'fut', 'fixée', 'lendemain', 'nuit', 'turcs', 'garnison', 'fort', 'doulant', 'terrible', 'canonnade', 'essuyer', 'heures', 'satisfaits', 'tué', 'hommes', 'journée', 'livrèrent', 'transports', 'joie', 'absurde', 'bruyante', 'crièrent', 'nc', 'lirions', 'avions', 'canon', 'voulions', 'prêls', 'envoyer', 'accompagnant', 'ironie', 'injures', 'chrétiens', 'usage', 'côlé', 'criait', 'prenait', 'poste', 'attachait', 'chaq', 'balterie', 'compagnie', 'infanterie', 'soutenir', 'élablissait', 'queue', 'tranchée', 'compagnies', 'artillerie', 'réserve', 'remplacement', 'canonniers', 'tués', 'blessés', 'mailrc', 'artificier', 'assurait', 'chargement', 'bombes', 'obus', 'enfin', 'négligeait', 'pouvait', 'assurer', 'succès', 'prompl', 'décisif', 'qualre', 'heures', 'quart', 'matin', 'batteries', 'commencèrent', 'feu', 'armée', 'attendait', 'moment', 'impatience', 'fut', 'aussitôt', 'pied', 'pleine', 'espérance', 'dc', 'joie', 'avide', 'suivre', 'progrès', 'attaque', 'boulets', 'premières', 'salves', 'portèrent', 'embrasures', 'fort', 'merlons', 'intermédiaires', 'commencèrent', 'bientôt', 'dégrader', 'tir', 'bombes', 'obus', 'fut', 'ments', 'rectifia', 'projectile', 'manqua', 'but', 'turcs', 'ripostèrent', 'vigueur', 'fort', 'empereur', 'fort', 'casbah', 'heures', 'défense', 'fut', 'attaque', 'heures', 'commença', 'ralentir', 'batterie', 'bouches', 'feu', 'campagne', 'placée', 'mamelon', 'arrière', 'balterie', 'fit', 'mal', 'ennemi', 'portait', 'intérieur', 'fort', 'communications', 'casbah', 'heures', 'feu', 'château', 'éteint', 'merlons', 'entièrement', 'détruits', 'offraient', 'abri', 'canonniers', 'turcs', 'pièces', 'presque', 'démontées', 'interieur', 'fort', 'bouleversé', 'bombes', 'obus', 'général', 'lahitte', 'venait', 'ordonner', 'battre', 'brèche', 'éboulements', 'annonçaient', 'déjà', 'place', 'serait', 'bientôt', 'ouverte', 'lorsune', 'épouvantable', 'explosion', 'accompagnée', 'épais', 'nuage', 'fumée', 'poussière', 'suivie', 'horrible', 'pluie', 'cendres', 'pierres', 'débris', 'membres', 'humains', 'annonça', 'existait', 'tures', 'désespérant', 'défendre', 'abandonnée', 'retirés', 'casbah', 'mis', 'feu', 'poudres', 'tour', 'intérieure', 'fut', 'entièrement', 'renversée', 'presque', 'totalité', 'face', 'ouest', 'reste', 'endommagé', 'offrait', 'amas', 'ruines', 'pièces', 'canon', 'fort', 'calibre', 'projetées', 'loin', 'air', 'fut', 'obscurci', 'livre', 'ii', 'flocons', 'laine', 'provenant', 'dispersion', 'ballots', 'turcs', 'couvert', 'sol', 'batterie', 'voûtes', 'magasins', 'obscurité', 'produite', 'poussière', 'fumée', 'batteries', 'continuèrent', 'tirer', 'lorselle', 'fut', 'dissipée', 'aperçut', 'fort', 'pouvait', 'contenir', 'seul', 'vivant', 'feu', 'cessa', 'compagnies', 'escaladèrent', 'ruines', 'prirent', 'possession', 'général', 'lahitte', 'rendu', 'fit', 'placer', 'débris', 'pièces', 'campagne', 'tirèrent', 'aussitôt', 'fort', 'fit', 'diriger', 'point', 'feu', 'pièces', 'turques', 'explosion', 'épargnées', 'bouches', 'feu', 'suffirent', 'faire', 'taire', 'fort', 'intérieur', 'plongeaient', 'entièrement', 'général', 'lahitte', 'choisit', 'gauche', 'romaine', 'emplacement', 'construire', 'batteries', 'canons', 'mortiers', 'destinées', 'attaque', 'casbah', 'devaient', 'placées', 'crête', 'domine', 'ville', 'éloignée', 'mètres', 'autrefois', 'fort', 'etoile', 'tagarins', 'génie', 'mit', 'aussitôt', 'ouvrage', 'établir', 'abriter', 'communications', 'point', 'fort', 'empereur', 'arabes', 'intérieur', 'embarrasser', 'passait', 'siége', 'voulurent', 'attaquer', 'lignes', 'présentèrent', 'camp', 'brigade', 'berthier', 'ques', 'compagniés', 'voltigeurs', 'pièces', 'canon', 'suffirent', 'balayer', 'ville', 'pleine', 'trouble', 'confusion', 'peuple', 'craignant', 'prise', 'assaut', 'demandait', 'grands', 'cris', 'capitulation', 'hussein', 'pacha', 'croyant', 'sortir', 'humiliation', 'passagère', 'fâcheuse', 'position', 'mis', 'ignorance', 'orgueil', 'envoya', 'mustapha', 'makatadji', 'bourmont', 'offrir', 'remboursement', 'frais', 'guerre', 'excuses', 'admissibles', 'général', 'chef', 'répondit', 'envoyé', 'dey', 'base', 'négociation', 'devait', 'occupation', 'immédiate', 'ville', 'français', 'pouvait', 'accéder', 'propositions', 'maitre', 'makatadji', 'partit', 'réponse', 'annonçait', 'hussein', 'pacha', 'règne', 'élait', 'fini', 'heures', 'demie', 'heure', 'arrivèrent', 'maures', 'sieurs', 'demandèrent', 'parler', 'général', 'chef', 'exprimaient', 'français', 'furent', 'bientôt', 'suivis', 'makatadji', 'revint', 'accompagné', 'consul', 'angleterre', 'mustapha', 'voulait', 'élever', 'trône', 'khaznadji', 'créature', 'offrit', 'dc', 'bourmont', 'faire', 'périr', 'dey', 'hussein', 'disant', 'pourrait', 'ensuite', 'traiter', 'nouveau', 'dcy', 'conditions', 'général', 'français', 'mission', 'détruire', 'domination', 'turque', 'alger', 'repoussa', 'offresque', 'ailleurs', 'honneur', 'permettait', 'accepter', 'heures', 'discussion', 'capitulation', 'fut', 'rédigee', 'portée', 'dey', 'interprètes', 'suspension', 'armes', 'fut', 'accordée', 'jusau', 'lendemain', 'lheures', 'attendre', 'réponse', 'prince', 'tarda', 'connue', 'consentit', 'capitulation', 'livre', 'ii', 'convention', 'cntre', 'général', 'chef', 'armée', 'française', 'dey', 'alger', 'fort', 'casbah', 'forts', 'dépendent', 'alger', 'portes', 'ville', 'remis', 'troupes', 'françaises', 'malin', 'heures', 'º', 'général', 'armée', 'française', 'engage', 'envcrs', 'dey', 'alger', 'laisser', 'libre', 'possession', 'richesses', 'personnelles', 'º', 'dey', 'libre', 'retirer', 'famille', 'richesses', 'lieu', 'fixera', 'restera', 'alger', 'famille', 'protection', 'général', 'chef', 'armée', 'française', 'garde', 'garantira', 'sûreté', 'famille', 'º', 'général', 'chef', 'assure', 'membres', 'milice', 'avantages', 'ct', 'protection', 'exercice', 'religion', 'mahométane', 'restera', 'libre', 'liberté', 'classes', 'habitants', 'religion', 'propriétés', 'commerce', 'industrie', 'recevront', 'atteinle', 'femmes', 'respectées', 'général', 'chef', 'prend', 'engagement', 'honneur', 'échange', 'convention', 'heures', 'matin', 'troupes', 'françaises', 'entrerent', 'aussitôt', 'casbah', 'établiront', 'ſorts', 'ville', 'marine', 'souvent', 'répété', 'général', 'chef', 'armée', 'française', 'aurait', 'dù', 'accorder', 'espèce', 'capitulation', 'ennemi', 'fallait', 'garantir', 'vie', 'sauve', 'pense', 'compte', 'seule', 'condition', 'portes', 'ville', 'auraient', 'également', 'ouvertes', 'serions', 'évité', 'embarras', 'cas', 'maures', 'auraient', 'su', 'gré', 'mal', 'aurions', 'lieu', 'discuter', 'termes', 'capitulation', 'faut', 'respectée', 'livre', 'iii', 'entrée', 'français', 'casbah', 'désarmement', 'gouvernement', 'intérieur', 'alger', 'domination', 'turcs', 'désordre', 'administratif', 'occupation', 'commission', 'centrale', 'gouvernement', 'présidee', 'denniée', 'conseil', 'municipal', 'police', 'française', 'corporation', 'juive', 'octroi', 'douanes', 'description', 'province', 'alger', 'alger', 'français', 'entrèrent', 'juillet', 'présentait', 'aspect', 'triste', 'désolé', 'ville', 'victoire', 'vient', 'introduire', 'ennemi', 'boutiques', 'fermées', 'marchands', 'assis', 'tranquillement', 'portes', 'semblaient', 'attendre', 'moment', 'ouvrir', 'rencontrait', 'çà', 'groupes', 'turcs', 'maures', 'regards', 'distraits', 'annonçaient', 'indifférence', 'crainte', 'musulmanes', 'voilées', 'laissaient', 'entrevoir', 'travers'], ['temps', 'office', 'greffier', 'affaires', 'contentieuses', 'tenu', 'registre', 'spécial', 'doubles', 'inscrits', 'registres', 'exécution', 'article', 'régulièrement', 'transmis', 'ministre', 'chapitre', 'vi', 'dispositions', 'générales', 'art', 'budget', 'général', 'services', 'publics', 'possessions', 'françaises', 'nord', 'afrique', 'communes', 'établissements', 'religieux', 'bienfaisance', 'mis', 'exécution', 'approbation', 'préalable', 'ministre', 'secrétaire', 'guerre', 'art', 'établissement', 'sociétés', 'anonymes', 'acquisitions', 'immeubles', 'compte', 'concessions', 'aliénations', 'propriétés', 'publiques', 'lieu', 'autorisation', 'art', 'bref', 'cour', 'rome', 'exception', 'pénitencerie', 'reçu', 'publié', 'possessions', 'françaises', 'nord', 'afrique', 'ecclésiastique', 'envoyé', 'cour', 'rome', 'reconnu', 'caractère', 'officiel', 'congrégation', 'appartenant', 'religion', 'chrétienne', 'établie', 'chefs', 'administration', 'civile', 'autorisation', 'gouverneur', 'donnée', 'ordres', 'ministre', 'guerre', 'art', 'agent', 'consulaire', 'étranger', 'admis', 'exercice', 'fonctions', 'possessions', 'françaises', 'nord', 'afrique', 'vertu', 'exequatur', 'délivré', 'gouvernement', 'roi', 'transmis', 'gouverneur', 'général', 'ininistre', 'guerre', 'art', 'mandements', 'ordres', 'proclamations', 'émanés', 'autorité', 'diate', 'gouverneur', 'général', 'règlements', 'généraux', 'arrêtés', 'proposition', 'chefs', 'administrations', 'jugements', 'tribunaux', 'porteront', 'intitulé', 'roi', 'français', 'art', 'arrêtés', 'règlements', 'contraires', 'présentes', 'dispositions', 'abrogés', 'iii', 'cultes', 'culte', 'catholique', 'avons', 'pris', 'possession', 'alger', 'aumôniers', 'brigade', 'trouvaient', 'usages', 'vigueur', 'époque', 'attachés', 'corps', 'expéditionnaire', 'institution', 'ait', 'maintenue', 'continent', 'gouvernement', 'jugea', 'fallait', 'faire', 'exception', 'nouvel', 'établissement', 'afrique', 'population', 'civile', 'fut', 'centaines', 'européens', 'dépassait', 'rapidement', 'formée', 'suite', 'armée', 'expéditionnaire', 'catholiques', 'français', 'origine', 'pouvait', 'refuser', 'secours', 'religion', 'émigrants', 'venaient', 'fixer', 'algérie', 'comptait', 'italiens', 'espagnols', 'nations', 'existe', 'sait', 'tendances', 'religieuses', 'développées', 'lors', 'aumôniers', 'armée', 'afrique', 'durent', 'exercer', 'ministère', 'auprès', 'soldats', 'pourvoir', 'besoins', 'spirituels', 'population', 'civile', 'importance', 'accroissait', 'jour', 'jour', 'tâche', 'laborieuse', 'fut', 'remplie', 'zèle', 'premiers', 'temps', 'occupation', 'ecclésiastiques', 'suffi', 'auvre', 'extension', 'progressive', 'établissement', 'devait', 'bientôt', 'faire', 'reconnaître', 'insuffisance', 'expédient', 'gouvernement', 'regardé', 'transitoire', 'nécessité', 'occuper', 'organisation', 'régulière', 'culte', 'catholique', 'fut', 'signalée', 'autorité', 'locale', 'prélats', 'france', 'service', 'divin', 'trouvait', 'assuré', 'principales', 'villes', 'ancienne', 'régence', 'localités', 'moindre', 'importance', 'existaient', 'aumôniers', 'brigade', 'ecclésiastiques', 'apparaissaient', 'temps', 'chefs', 'spirituels', 'situation', 'définie', 'inspirés', 'zèle', 'apostolique', 'porte', 'naturellement', 'prêtres', 'chrétiens', 'missions', 'pays', 'éloignés', 'gouvernement', 'cru', 'devoir', 'devoir', 'déférer', 'presque', 'demandes', 'nature', 'formées', 'ecclésiastiques', 'offraient', 'aller', 'exercer', 'ministère', 'points', 'absence', 'secours', 'religieux', 'faisait', 'sentir', 'accordant', 'facilités', 'assistance', 'réclamaient', 'travaux', 'évangéliques', 'assurait', 'bonne', 'renommée', 'ministres', 'culte', 'autorisés', 'passer', 'afrique', 'administration', 'dùt', 'borner', 'couvrir', 'pieuse', 'entreprise', 'protection', 'purement', 'morale', 'culte', 'réformé', 'importait', 'égard', 'pays', 'musulman', 'accréditer', 'hommes', 'offrant', 'garanties', 'désirables', 'toutefois', 'questions', 'organisation', 'religieuse', 'réglant', 'france', 'principes', 'moment', 'venu', 'appliquer', 'dut', 'éviter', 'prendre', 'engagement', 'préjuger', 'question', 'solution', 'lois', 'dépendait', 'gouvernement', 'français', 'administration', 'occupée', 'besoins', 'matériels', 'culte', 'catholique', 'alger', 'mosquée', 'volontairement', 'abandonnée', 'musulmans', 'convertie', 'église', 'ailleurs', 'édifices', 'décents', 'pouvait', 'procurer', 'affectés', 'service', 'divin', 'récemment', 'commission', 'lieu', 'conseil', 'fabrique', 'chargée', 'administrer', 'revenus', 'église', 'enfin', 'constamment', 'pourvu', 'dépenses', 'fonds', 'budget', 'choses', 'saurait', 'prolonger', 'pouvoirs', 'ecclésiastiques', 'exercent', 'saint', 'ministère', 'objet', 'doutes', 'matière', 'délicate', 'doute', 'seul', 'pénible', 'gouvernement', 'expression', 'inquietudes', 'commencent', 'manifester', 'sein', 'population', 'catholique', 'âmes', 'ouvrir', 'cour', 'rome', 'négociations', 'but', 'substituer', 'régime', 'provisoire', 'jusici', 'nécessité', 'loi', 'organisation', 'conforme', 'institutions', 'catholicisme', 'espérer', 'conclusion', 'veux', 'administration', 'fera', 'attendre', 'culte', 'réformé', 'comptait', 'rangs', 'armée', 'nombre', 'protestants', 'nombre', 'tendait', 'journellement', 'accroître', 'arrivée', 'colons', 'allemands', 'esprit', 'émigration', 'commençait', 'pousser', 'alger', 'formation', 'recrutement', 'successifs', 'légion', 'étrangère', 'composée', 'majorité', 'habitants', 'suisse', 'pays', 'voisins', 'rhin', 'venus', 'grossir', 'nombre', 'individus', 'professant', 'religion', 'réformée', 'cession', 'légion', 'espagne', 'ait', 'abaissé', 'chiffre', 'aujourhui', 'relativement', 'considérable', 'occupation', 'française', 'ajournement', 'organisation', 'religieuse', 'temps', 'nécessité', 'gouvernement', 'dut', 'borner', 'égard', 'culte', 'réformé', 'encourager', 'protéger', 'ministres', 'réclamaient', 'autorisation', 'rendre', 'afrique', 'offrir', 'secours', 'spirituels', 'coreligionnaires', 'missionnaires', 'culte', 'évangélique', 'obéissaient', 'impulsion', 'zèle', 'envoyés', 'consistoires', 'france', 'inquiets', 'abandon', 'trouvaient', 'frères', 'algérie', 'trouvé', 'aide', 'appui', 'administration', 'autorisé', 'passage', 'mis', 'disposition', 'locaux', 'convenables', 'exercice', 'culte', 'indemnités', 'accordées', 'secours', 'fournis', 'consistoires', 'métropole', 'pu', 'suffire', 'mesures', 'répondu', 'partie', 'veux', 'population', 'protestante', 'égard', 'culte', 'catholique', 'sortir', 'promptement', 'provisoire', 'culte', 'israélite', 'résulte', 'rapports', 'officiels', 'nombre', 'protestants', 'alger', 'territoire', 'élèverait', 'aujourhui', 'considérations', 'tirées', 'nécessité', 'devoir', 'administration', 'vient', 'joindre', 'haute', 'portée', 'convient', 'intérêt', 'influence', 'indigènes', 'gouvernement', 'sollicitude', 'ailleurs', 'justement', 'éveillée', 'puisse', 'paraître', 'indifférent', 'matière', 'religion', 'dispositions', 'objet', 'exercice', 'religion', 'réformée', 'possessions', 'afrique', 'accompagneront', 'suivront', 'organiseront', 'culte', 'catholique', 'culte', 'israélite', 'culte', 'israélite', 'alger', 'points', 'globe', 'turcs', 'professant', 'juifs', 'mépris', 'profond', 'laissaient', 'adorer', 'dieu', 'guise', 'permettaient', 'vivre', 'mourir', 'inquiéter', 'persécution', 'autrement', 'extorsions', 'avanies', 'aurait', 'honoré', 'race', 'abjecte', 'nom', 'seul', 'injure', 'occasions', 'fanatisme', 'réveillait', 'réservée', 'christianisme', 'synagogues', 'élevaient', 'fréquentaient', 'paix', 'exercice', 'public', 'religion', 'moïse', 'fut', 'jamais', 'troublé', 'villes', 'admettaient', 'israélites', 'murs', 'exemple', 'coléah', 'bougie', 'gouvernement', 'turc', 'nation', 'juive', 'chef', 'recevait', 'dérision', 'nom', 'roi', 'juifs', 'ii', 'exerçait', 'coreligionnaires', 'pouvoir', 'analogue', 'amins', 'corporations', 'limites', 'étendues', 'tribunal', 'rabbinique', 'conserve', 'droit', 'prononcer', 'juifs', 'justice', 'corrompue', 'vénale', 'occupation', 'française', 'laissé', 'subsister', 'juger', 'cas', 'conscience', 'contestations', 'relatives', 'familles', 'loi', 'mosaïque', 'conquête', 'religion', 'formes', 'altérées', 'égalité', 'cultes', 'partie', 'foi', 'politique', 'profité', 'judaïsme', 'jement', 'cesser', 'avilissement', 'fréquents', 'anathêmes', 'lancés', 'koran', 'tomber', 'israélites', 'conquérir', 'place', 'loi', 'française', 'assure', 'élever', 'condition', 'pire', 'esclave', 'dignité', 'citoyen', 'novembre', 'chef', 'nation', 'juive', 'établi', 'juin', 'arrêté', 'général', 'chef', 'décida', 'nomination', 'serait', 'faite', 'liste', 'candidats', 'présentés', 'notables', 'israélites', 'durée', 'fonctions', 'fut', 'limitée', 'année', 'fut', 'adjoint', 'conseil', 'hébraïque', 'composé', 'membres', 'autorité', 'française', 'chef', 'nation', 'juive', 'furent', 'confiées', 'police', 'surveillance', 'coreligionnaires', 'droit', 'régler', 'différends', 'devaient', 'portés', 'connaissance', 'tribunal', 'rabbins', 'conseil', 'hébraïque', 'fut', 'chargé', 'recouvrement', 'taxes', 'contributions', 'cotisations', 'nature', 'seraient', 'levées', 'population', 'juive', 'frais', 'culte', 'secours', 'aumônes', 'dépenses', 'spéciales', 'emploi', 'dut', 'concert', 'chef', 'nation', 'culte', 'israélite', 'ordonnances', 'règlements', 'ultérieurs', 'changé', 'chose', 'constitution', 'juifs', 'gouverneur', 'général', 'nomme', 'membres', 'tribunal', 'rabbinique', 'juridiction', 'réglée', 'ordonnance', 'août', 'israélites', 'admis', 'faire', 'partie', 'conseils', 'municipaux', 'proportions', 'limitées', 'appelé', 'fonctions', 'adjoint', 'remplit', 'temps', 'chef', 'nation', 'reste', 'semble', 'race', 'proscrite', 'aspire', 'relever', 'abaissement', 'enfants', 'juifs', 'fréquentent', 'écoles', 'mæurs', 'habitudes', 'sociales', 'pères', 'tendent', 'visiblement', 'améliorer', 'progrès', 'sensibles', 'élèves', 'maîtres', 'français', 'devenus', 'hommes', 'iv', 'culte', 'musulman', 'justice', 'indigène', 'sier', 'culte', 'khalifes', 'lieutenants', 'successeurs', 'prophète', 'réuni', 'pouvoir', 'temporel', 'pouvoir', 'spirituel', 'pontifes', 'juges', 'docteurs', 'loi', 'impossibilité', 'exercer', 'prérogatives', 'étendue', 'vaste', 'empire', 'établirent', 'vicaires', 'devaient', 'recommander', 'peuples', 'science', 'piété', 'ordre', 'prit', 'nom', 'corps', 'collége', 'oulemas', 'savants', 'lettres', 'divisa', 'classes', 'imams', 'ministres', 'culte', 'muphtis', 'docteurs', 'loi', 'kadis', 'juges', 'muphti', 'obtint', 'longue', 'place', 'oulemas', 'demeuré', 'chef', 'constantinople', 'donne', 'titre', 'ancien', 'islamisme', 'muphti', 'alger', 'jouissait', 'privilége', 'suprématie', 'incontestée', 'régence', 'principale', 'fonction', 'muphti', 'culte', 'mahometan', 'semblerait', 'indique', 'étymologie', 'nom', 'rendre', 'décisions', 'fetwa', 'points', 'obscurs', 'controversés', 'loi', 'pouvoir', 'alger', 'renfermé', 'étroites', 'limites', 'muphti', 'remplir', 'ministère', 'doctrine', 'accomplir', 'devoir', 'imam', 'apte', 'exercer', 'fonctions', 'kadi', 'membre', 'collége', 'oulemas', 'aptitude', 'affinité', 'mieux', 'association', 'pouvoirs', 'peuple', 'loi', 'religieuse', 'seul', 'code', 'explique', 'inaltérable', 'respect', 'obtient', 'justice', 'admission', 'rang', 'oulemas', 'obtenait', 'autrefois', 'longues', 'études', 'épreuves', 'multipliées', 'paraît', 'pourtant', 'alger', 'difficile', 'admis', 'exige', 'rigueur', 'connaissances', 'parfaites', 'nombre', 'nécessaire', 'teinture', 'guère', 'décru', 'grammaire', 'logique', 'morale', 'rhétorique', 'science', 'allégories', 'théologie', 'philosophie', 'jurisprudence', 'koran', 'commentaires', 'sunna', 'tradition', 'cadre', 'serait', 'immense', 'rempli', 'musulmans', 'régence', 'école', 'culte', 'musulman', 'portée', 'medressé', 'collége', 'attaché', 'grande', 'mosquée', 'muphti', 'malekite', 'aujourhui', 'professeur', 'petit', 'nombre', 'hommes', 'faits', 'perfectionner', 'fez', 'ville', 'renommée', 'science', 'sorte', 'université', 'barbaresque', 'moyens', 'instruire', 'manquent', 'alger', 'corps', 'oulemas', 'recrute', 'forcément', 'simples', 'thalebs', 'étudians', 'capables', 'réciter', 'koran', 'mémoire', 'initiés', 'quelquesunes', 'connaissances', 'exigées', 'cérémonies', 'fort', 'simples', 'culte', 'musulman', 'lieu', 'mosquées', 'djamá', 'jour', 'prières', 'lecture', 'fraction', 'saint', 'livre', 'trentième', 'manière', 'relu', 'entier', 'mois', 'khotba', 'profession', 'foi', 'prière', 'chef', 'croyants', 'récitée', 'vendredi', 'midi', 'enfin', 'prédication', 'djamá', 'mosquées', 'excellence', 'bâties', 'milieu', 'agglomérations', 'hommes', 'intérieur', 'voisinage', 'cités', 'existe', 'point', 'campagnes', 'ordinairement', 'consacrées', 'souverains', 'khotba', 'récitée', 'édifices', 'religieux', 'ordre', 'inférieur', 'mesdjid', 'chapelles', 'oratoires', 'nombre', 'considérable', 'piété', 'particuliers', 'élevés', 'mosquée', 'existe', 'alger', 'grand', 'nombre', 'mesdjid', 'voit', 'tableaux', 'statues', 'simulacres', 'condamnés', 'loi', 'sentences', 'versets', 'extraits', 'koran', 'inscrits', 'murailles', 'sol', 'couvert', 'nattes', 'tapis', 'côtés', 'temple', 'kibla', 'sorte', 'niche', 'indiquant', 'situation', 'relative', 'mecque', 'musulman', 'tourner', 'prière', 'kibla', 'tribune', 'placent', 'moeddins', 'chantres', 'appellent', 'peuple', 'prière', 'gauche', 'chaire', 'récite', 'khotba', 'oulemas', 'consacrés', 'service', 'culte', 'divisés', 'classes', 'scheikhs', 'titre', 'correspond', 'latin', 'senior', 'représente', 'idée', 'anciens', 'loi', 'juive', 'donne', 'habituellement', 'prédicateurs', 'mosquées', 'muphtis', 'kadis', 'prennent', 'titre', 'remplir', 'remplissent', 'doute', 'fonctions', 'scheikhs', 'exhortations', 'vendredi', 'bornent', 'dogme', 'morale', 'zèle', 'fougueux', 'prendre', 'hommes', 'puissants', 'souverain', 'khatebs', 'président', 'prière', 'solennelle', 'vendredi', 'citent', 'khotba', 'imams', 'assistent', 'prières', 'jours', 'vendredi', 'lecture', 'quotidienne', 'koran', 'imams', 'sorte', 'fonctions', 'officier', 'civil', 'curé', 'assiste', 'actes', 'vie', 'civile', 'faire', 'prières', 'appeler', 'bénédictions', 'ciel', 'famille', 'présent', 'circoncision', 'mariage', 'sépulture', 'croyants', 'enfin', 'moeddins', 'vulgairement', 'muezzins', 'espèces', 'chantres', 'mosquées', 'minarets', 'appellent', 'fidèles', 'prières', 'journée', 'existe', 'fonctions', 'inférieures', 'gardiens', 'serviteurs', 'mosquée', 'nombre', 'dépend', 'richesse', 'temple', 'tête', 'personnel', 'muphti', 'trouve', 'placé', 'alger', 'dignitaires', 'rang', 'reconnus', 'muphti', 'malekite', 'prééminence', 'appartient', 'autorité', 'française', 'institue', 'dépose', 'muphti', 'jusici', 'parait', 'choix', 'chef', 'culte', 'musulman', 'soigneusement', 'circonscrit', 'oulemas', 'ait', 'suscité', 'justice', 'indigène', 'résistances', 'titres', 'conférés', 'pouvoir', 'dominant', 'reconnus', 'faut', 'dissimuler', 'caractère', 'religieux', 'venait', 'ailleurs', 'droit', 'véritable', 'respect', 'fidèles', 'origine', 'islamisme', 'catholicisme', 'sceptre', 'providence', 'range', 'fidèles', 'reconnaît', 'chef', 'spirituel', 'indépendamment', 'maître', 'imposé', 'traités', 'lien', 'saurait', 'brisé', 'croyances', 'algérie', 'pays', 'musulmans', 'frais', 'culte', 'comprennent', 'traitement', 'ministres', 'entretien', 'temples', 'dépenses', 'ordinaires', 'extraordinaires', 'acquittés', 'revenus', 'biens', 'immeubles', 'appartiennent', 'mosquées', 'oratoires', 'vertu', 'libéralités', 'institutions', 'titre', 'wakf', 'habous', 'fondateurs', 'donateurs', 'esprit', 'religion', 'imams', 'reçoivent', 'dons', 'fidèles', 'actes', 'intéressent', 'civil', 'familles', 'casuel', 'églises', 'villes', 'culte', 'musulman', 'existe', 'publiquement', 'absence', 'mosquées', 'exclut', 'naturellement', 'concours', 'ministres', 'culte', 'populations', 'abandonnées', 'marabouts', 'morabethin', 'liés', 'dévoue', 'personnages', 'participent', 'hermite', 'religieux', 'caractère', 'prête', 'multitude', 'hommes', 'méritent', 'vénération', 'inspirent', 'piété', 'vertus', 'grand', 'nombre', 'autorité', 'usurpée', 'hypocrisie', 'superstition', 'marabouts', 'ailleurs', 'appartiennent', 'titre', 'hiérarchie', 'musulmane', 'conquête', 'doute', 'laissé', 'musulmans', 'algérie', 'petit', 'nombre', 'édifices', 'religieux', 'reconnu', 'suffisent', 'besoins', 'population', 'reste', 'ministres', 'religion', 'musulmane', 'respectés', 'temples', 'garantis', 'insulte', 'entrée', 'sévèrement', 'interdite', 'biens', 'protégés', 'gestion', 'soigneusement', 'surveillée', 'magnifique', 'portique', 'colonnes', 'marbre', 'élève', 'moment', 'grande', 'mosquée', 'alger', 'prouve', 'indigènes', 'prenons', 'souci', 'culte', 'ii', 'justice', 'détails', 'précèdent', 'grande', 'partie', 'nécessaires', 'intelligence', 'institutions', 'judiciaires', 'droit', 'musulman', 'justice', 'seur', 'piété', 'dit', 'prophète', 'droit', 'capacité', 'rendre', 'émanant', 'religion', 'intérêts', 'inséparables', 'fonctions', 'sacerdoce', 'administration', 'justice', 'réunis', 'seul', 'corps', 'college', 'oulemas', 'tête', 'muphti', 'trouve', 'placé', 'suit', 'dignitaire', 'réellement', 'chef', 'magistrature', 'musulmane', 'supérieur', 'exercent', 'office', 'juge', 'nomination', 'kadis', 'juges', 'appartient', 'point', 'justice', 'devoir', 'sacré', 'souverain', 'puisse', 'acquitter', 'sujets', 'kadis', 'partout', 'institués', 'prince', 'nom', 'autorité', 'française', 'partout', 'besoin', 'sentir', 'contesté', 'légitimité', 'titre', 'justice', 'indigène', 'moment', 'conquête', 'institution', 'juges', 'correspondait', 'parfaite', 'exactitude', 'divisions', 'administratives', 'territoire', 'muphti', 'alger', 'prééminence', 'spirituelle', 'pouvaient', 'appelés', 'fonctions', 'analogues', 'provinces', 'supérieur', 'reconnu', 'kadis', 'supériorité', 'appartenait', 'kadi', 'hanefite', 'rit', 'turcs', 'occupation', 'française', 'kadi', 'malekite', 'côte', 'septentrionale', 'afrique', 'exclusivement', 'adopté', 'doctrine', 'malek', 'grands', 'docteurs', 'islam', 'alger', 'existait', 'kadis', 'muphtis', 'rit', 'kadis', 'spéciaux', 'attachés', 'institution', 'fondation', 'mecque', 'médine', 'juger', 'contestations', 'établissements', 'intéressés', 'chacune', 'villes', 'principales', 'justice', 'comptait', 'importance', 'kadis', 'juridiction', 'étendait', 'généralité', 'population', 'fidèles', 'secte', 'intérêts', 'particuliers', 'confiés', 'vigilance', 'centre', 'population', 'hakem', 'gouverneur', 'préposé', 'kadi', 'côté', 'kaïd', 'chargé', 'administration', 'outhan', 'district', 'canton', 'composé', 'arch', 'tribus', 'décomposées', 'nombre', 'douars', 'hameaux', 'réunions', 'tentes', 'kadi', 'placé', 'simple', 'tribu', 'juge', 'scheikh', 'ancien', 'affaires', 'ordinaires', 'sitôt', 'élevait', 'contestations', 'importance', 'référé', 'kadi', 'outhan', 'organisation', 'simple', 'complète', 'juge', 'manquait', 'jamais', 'justiciable', 'kadis', 'relevaient', 'nulle', 'part', 'seul', 'degré', 'juridiction', 'ordre', 'dignités', 'conférées', 'magistrats', 'point', 'égaux', 'kadi', 'alger', 'reconnu', 'supérieur', 'principales', 'villes', 'gence', 'tour', 'dominaient', 'kadis', 'villes', 'dernier', 'ordre', 'venaient', 'placer', 'kadis', 'outhans', 'lumières', 'manquaient', 'derniers', 'recours', 'supérieurs', 'depus', 'changé', 'ordre', 'hiérarchique', 'partie', 'territoire', 'occupée', 'relations', 'extérieur', 'incertaines', 'souvent', 'rompues', 'autorité', 'kadis', 'villes', 'principales', 'affaiblie', 'renfermée', 'sphère', 'action', 'autorité', 'française', 'kadis', 'villes', 'intérieur', 'outhans', 'ralliés', 'demeurés', 'complète', 'indépendance', 'ignorons', 'dû', 'investiture', 'conditions', 'régulièrement', 'requises', 'apte', 'fonctions', 'kadi', 'faire', 'partie', 'collége', 'oulemas', 'appartenir', 'rits', 'orthodoxes', 'condition', 'libre', 'sain', 'esprit', 'pieux', 'probe', 'prudent', 'bonnes', 'mæurs', 'exigeait', 'connaissances', 'étendues', 'théologie', 'intelligence', 'koran', 'droit', 'règles', 'pourrions', 'similitude', 'appeler', 'canoniques', 'inutile', 'qualités', 'rassurantes', 'rarement', 'réunies', 'intrigue', 'vénalité', 'présidaient', 'souvent', 'choix', 'avons', 'dû', 'contenter', 'moindres', 'garanties', 'premiers', 'temps', 'localités', 'hommes', 'capables', 'dignes', 'rares', 'compétence', 'kadis', 'étendait', 'matières', 'civiles', 'criminelles', 'réglées', 'loi', 'koran', 'traditions', 'authentiques', 'justice', 'indigene', 'taires', 'consacrés', 'ville', 'longue', 'autorité', 'éléments', 'forment', 'réellement', 'code', 'musulman', 'chefs', 'temporels', 'connaissaient', 'autrefois', 'reste', 'kadis', 'prononçaient', 'relatif', 'dogme', 'rit', 'morale', 'discipline', 'religieuse', 'institutions', 'substitutions', 'intéressaient', 'établissements', 'pieux', 'bienfaisance', 'wakfs', 'habous', 'remplissaient', 'office', 'notaires', 'rédigeaient', 'forme', 'authentique', 'conventions', 'civiles', 'enfin', 'tuteurs', 'gaux', 'orphelins', 'insensés', 'absents', 'nommaient', 'oukils', 'prendre', 'soin', 'intérêts', 'juridiction', 'kadis', 'point', 'limitée', 'territoire', 'institués', 'juge', 'voisin', 'pouvait', 'saisi', 'fussent', 'ailleurs', 'domicile', 'contestants', 'situation', 'objet', 'contesté', 'fallait', 'parties', 'pussent', 'présentes', 'amenées', 'représentées', 'tribunal', 'contendants', 'pouvaient', 'soumettre', 'différends', 'kadi', 'choix', 'étendue', 'régence', 'pays', 'musulman', 'fez', 'tunis', 'exemple', 'seuls', 'étrangers', 'idées', 'musulmanes', 'professent', 'islamisme', 'justice', 'rendue', 'nom', 'prince', 'nom', 'dieu', 'organes', 'également', 'respectables', 'partout', 'règne', 'formulée', 'livre', 'saint', 'kadi', 'juge', 'compose', 'seul', 'tribunal', 'musulman', 'assisté', 'oudoul', 'témoins', 'nécessaires', 'conventions', 'juge', 'constate', 'signent', 'rédigées', 'formules', 'consacrées', 'parties', 'signent', 'jamais', 'oudoul', 'adel', 'singulier', 'assistent', 'instruction', 'jugement', 'procés', 'vérifier', 'constater', 'kadi', 'témoins', 'entendus', 'jouissent', 'exige', 'loi', 'plénitude', 'raison', 'khateb', 'remplissent', 'office', 'clercs', 'notaire', 'greffiers', 'schaouchs', 'sorte', 'huissiers', 'police', 'audience', 'publique', 'ouverte', 'grandes', 'fêtes', 'année', 'musulmane', 'formes', 'procéder', 'extrême', 'simplicité', 'partie', 'présente', 'seule', 'juge', 'envoie', 'chercher', 'adversaire', 'schaouch', 'justiciable', 'mandé', 'rend', 'difficulté', 'refuse', 'contraint', 'instant', 'circonstances', 'puni', 'expose', 'raisons', 'ministère', 'avocats', 'défenseurs', 'profession', 'hommes', 'dit', 'écrivain', 'musulman', 'pétris', 'ruse', 'artifice', 'sophismes', 'faudrait', 'bannir', 'société', 'pyriques', 'maquignons', 'garantir', 'peuples', 'art', 'insidieux', 'ignorance', 'seconds', 'fraude', 'proscription', 'intermédiaire', 'justiciable', 'juge', 'poussée', 'loin', 'fondés', 'pouvoir', 'admis', 'cas', 'fort', 'restreints', 'matière', 'civile', 'exclusivement', 'femmes', 'viennent', 'demander', 'justice', 'kadi', 'mari', 'refuser', 'cas', 'permission', 'sortir', 'maison', 'comparaissent', 'voilées', 'entrent', 'auditoire', 'attenante', 'parlent', 'juge', 'travers', 'fenêtre', 'grillée', 'témoignage', 'réunit', 'caractères', 'exigés', 'loi', 'cas', 'considéré', 'preuves', 'prévaut', 'titres', 'serment', 'souvent', 'déféré', 'parties', 'cause', 'entendue', 'jugement', 'prononcé', 'cas', 'paraît', 'juge', 'lieu', 'interprétation', 'justice', 'indigène', 'loi', 'exécution', 'suit', 'immédiatement', 'concours', 'présence', 'magistrats', 'existe', 'procédures', 'compliquées', 'exécution', 'jugements', 'droit', 'contrainte', 'discussion', 'appartient', 'pleinement', 'kadi', 'rarement', 'matière', 'civile', 'forcé', 'faire', 'usage', 'partie', 'condamnée', 'exécute', 'donne', 'payement', 'possède', 'cas', 'insuffisance', 'libérée', 'retient', 'preuve', 'respect', 'religieux', 'justice', 'soumission', 'cas', 'conscience', 'matière', 'criminelle', 'jugement', 'condamnation', 'exécutait', 'désemparer', 'mutilation', 'mort', 'devait', 'infligée', 'autorité', 'temporelle', 'restait', 'chargée', 'exécution', 'kadi', 'bornant', 'déclarer', 'peine', 'loi', 'appliquait', 'crime', 'tribunaux', 'ecclésiastiques', 'agissaient', 'autrement', 'livraient', 'coupable', 'bras', 'séculier', 'institutions', 'judiciaires', 'indigènes', 'imparfaitement', 'connues', 'cru', 'trompait', 'jugements', 'kadis', 'sujets', 'réformation', 'midjelès', 'assemblée', 'conseil', 'institution', 'aujourhui', 'mieux', 'rendre', 'compte', 'muphtis', 'pays', 'musulman', 'spécialement', 'constantinople', 'interviennent', 'jugement', 'contestations', 'avis', 'décisions', 'fetwa', 'soumis', 'points', 'droit', 'demande', 'parties', 'intéressées', 'autorité', 'doctrinale', 'décisions', 'juge', 'conforme', 'alger', 'semble', 'muphti', 'ait', 'donné', 'extension', 'rogative', 'immisce', 'sauvant', 'forme', 'jugement', 'justiciables', 'faculté', 'usent', 'quelquefois', 'demander', 'jugement', 'affaire', 'porté', 'midjelès', 'kadi', 'suspend', 'souvent', 'causes', 'importantes', 'décision', 'jusaprès', 'avis', 'assemblée', 'midjelès', 'forme', 'réunion', 'muphti', 'kadi', 'alger', 'dignitaires', 'rang', 'existe', 'rits', 'délibérant', 'ensemble', 'point', 'droit', 'souvent', 'point', 'oudoul', 'assistent', 'tribunal', 'kadi', 'instruction', 'manière', 'jugement', 'avis', 'midjelès', 'prononcé', 'tribunal', 'kadi', 'seul', 'propre', 'nom', 'seul', 'rendre', 'sentence', 'légale', 'pureté', 'doctrine', 'altérée', 'mode', 'procéder', 'garanties', 'bonne', 'justice', 'doute', 'assurées', 'midjelès', 'tribunal', 'second', 'degré', 'mission', 'réformer', 'erreurs', 'juges', 'inférieurs', 'musulmans', 'peuple', 'disposés', 'soumettre', 'murmurer', 'ordonné', 'justice', 'faudrait', 'conclure', 'existât', 'absolument', 'espèce', 'recours', 'sentence', 'inique'], ['tarifs', 'vigueur', 'vins', 'étrangers', 'apportés', 'algérie', 'grande', 'partie', 'expéditions', 'composait', 'vins', 'liqueur', 'venir', 'espagne', 'sardaigne', 'objets', 'fantaisie', 'luxe', 'commerce', 'tissus', 'importations', 'commerce', 'général', 'tissus', 'coton', 'tissus', 'laine', 'tissus', 'soie', 'tissus', 'chanvre', 'lin', 'années', 'entrepôts', 'france', 'entrepôts', 'france', 'extrepôts', 'france', 'étranger', 'entrepôts', 'france', 'total', 'total', 'total', 'total', 'france', 'france', 'fraxce', 'fraxce', 'étranger', 'étranger', 'étranger', 'ay', 'voit', 'résultats', 'présente', 'tableau', 'bis', 'commerce', 'étranger', 'tissus', 'coton', 'joui', 'supériorité', 'marquée', 'remarquer', 'année', 'époque', 'mise', 'exécution', 'ordonnance', 'novembre', 'commerce', 'français', 'graduellement', 'augmentant', 'tend', 'élever', 'année', 'année', 'importations', 'rapport', 'étranger', 'monté', 'successivement', 'oſo', 'olo', 'france', 'fournir', 'consommation', 'arabe', 'augmentation', 'subite', 'commerce', 'étranger', 'repris', 'importance', 'commerce', 'général', 'commerce', 'spécial', 'fabrication', 'nationale', 'obtenu', 'accroissement', 'importation', 'totale', 'résultats', 'faire', 'espérer', 'fabricants', 'protection', 'ordonnances', 'janvier', 'concurrence', 'avantageuse', 'commerce', 'étranger', 'algérie', 'situation', 'importations', 'commerce', 'général', 'quantités', 'kilogrammes', 'provenant', 'années', 'valeurs', 'entrepôts', 'france', 'france', 'total', 'étranger', 'totaux', 'marchandises', 'spécialement', 'désignées', 'article', 'er', 'ordonnance', 'cembre', 'exportées', 'algérie', 'navires', 'français', 'jouiront', 'partir', 'admission', 'france', 'modération', 'tarif', 'intérêt', 'pouvoir', 'comparer', 'présent', 'exportations', 'produits', 'effectués', 'algérie', 'destination', 'importations', 'nature', 'opérées', 'colonie', 'france', 'étranger', 'tableau', 'donne', 'renseignement', 'france', 'reçoit', 'année', 'étranger', 'quantités', 'considérables', 'produits', 'algérie', 'commence', 'faire', 'expéditions', 'extérieur', 'réduction', 'tarif', 'accordée', 'produits', 'algérie', 'doute', 'résultat', 'stimuler', 'commerce', 'agriculture', 'colonie', 'faciliter', 'placement', 'marchés', 'métropole', 'résumé', 'comparatif', 'pays', 'provenance', 'commerce', 'spécial', 'rang', 'résultat', 'valeurs', 'importées', 'comparaison', 'importance', 'pays', 'provenance', 'année', 'augmentation', 'diminution', 'consommation', 'france', 'marchandises', 'colonies', 'françaises', 'entrepôts', 'marchandises', 'étrangères', 'angleterre', 'suède', 'norwege', 'toscane', 'espagne', 'états', 'sardes', 'autriche', 'grèce', 'russie', 'turquie', 'états', 'romains', 'états', 'barbaresques', 'villes', 'anséatiques', 'danemarck', 'collo', 'port', 'occupé', 'algérie', 'égypte', 'belgique', 'ii', 'origine', 'justifiée', 'totaux', 'résultat', 'importations', 'algérie', 'année', 'commerce', 'spécial', 'rang', 'rang', 'désignation', 'marchandises', 'valeurs', 'importance', 'désignation', 'marchandises', 'valeurs', 'tance', 'france', 'vins', 'tissus', 'laine', 'sucre', 'raffiné', 'tissus', 'coton', 'tissus', 'soie', 'peaux', 'préparées', 'ouvrées', 'ouvrages', 'fer', 'cuivre', 'mercerie', 'chevaux', 'mulets', 'tissus', 'chanvre', 'lin', 'verres', 'cristaux', 'savons', 'ordinaires', 'matériaux', 'bougies', 'acides', 'stéarique', 'oléique', 'fromages', 'papier', 'carton', 'bijouterie', 'orfevrerie', 'effets', 'usage', 'linge', 'habillement', 'livres', 'viandes', 'salées', 'meubles', 'parfumerie', 'pommes', 'terre', 'cuivre', 'pur', 'allié', 'couleurs', 'poissons', 'mer', 'céréales', 'farines', 'outils', 'instruments', 'aratoires', 'produits', 'chimiques', 'liqueurs', 'fer', 'fonte', 'acier', 'huile', 'olives', 'ouvrages', 'modes', 'machines', 'mécaniques', 'porcelaine', 'biscuits', 'mer', 'sellerie', 'sorte', 'asphalte', 'fils', 'chandelles', 'suif', 'faïence', 'médicaments', 'composés', 'ouvrages', 'bois', 'plomb', 'cordages', 'filets', 'poterie', 'terre', 'grossière', 'armes', 'luxe', 'chasse', 'voitures', 'bois', 'construction', 'beurre', 'bonbons', 'confitures', 'sirops', 'fruits', 'confits', 'vinaigre', 'fruits', 'oléagineux', 'horlogerie', 'tabac', 'fabriqué', 'préparé', 'coutellerie', 'charbon', 'bois', 'écorces', 'tan', 'céréales', 'grains', 'soies', 'ouvrages', 'bois', 'instruments', 'musique', 'légumes', 'secs', 'sel', 'marin', 'gravures', 'lithograpbies', 'riz', 'liége', 'houille', 'marrons', 'châtaignes', 'farines', 'mélasse', 'épices', 'préparées', 'parapluies', 'parasols', 'graines', 'ensemencer', 'résines', 'indigènes', 'huiles', 'volatiles', 'poterie', 'grès', 'graisses', 'fruits', 'table', 'secs', 'tabletterie', 'fruits', 'frais', 'bimbeloterie', 'chapeaux', 'paille', 'plants', 'arbres', 'huile', 'graines', 'grasses', 'légumes', 'salés', 'vinaigre', 'fourrages', 'articles', 'marbres', 'pâte', 'italie', 'zinc', 'æufs', 'volaille', 'vannerie', 'soufre', 'chocolat', 'étain', 'sucs', 'espèces', 'particulières', 'total', 'commerce', 'spécial', 'commerce', 'spécial', 'marchandises', 'étrangères', 'mises', 'consommation', 'marchandises', 'colonies', 'françaises', 'mises', 'consommation', 'rang', 'rang', 'tance', 'désignation', 'valeurs', 'designation', 'marchandises', 'valeurs', 'tance', 'entrepots', 'france', 'gomme', 'pure', 'rhum', 'tafia', 'café', 'céréales', 'farines', 'céréales', 'grains', 'café', 'sucre', 'brut', 'terré', 'fromage', 'sucre', 'brut', 'terré', 'girofle', 'clous', 'graines', 'amomes', 'tissus', 'coton', 'cacao', 'soies', 'muscades', 'huile', 'olives', 'viandes', 'salées', 'tabac', 'feuilles', 'tissus', 'soie', 'horlogerie', 'fer', 'tissus', 'laine', 'légumes', 'secs', 'riz', 'tissus', 'chanvre', 'lin', 'couleurs', 'poivre', 'bois', 'construction', 'orfévrerie', 'bijouterie', 'laines', 'outils', 'cannelle', 'tabac', 'fabriqué', 'racines', 'médicinales', 'merceries', 'graisses', 'verres', 'cristaux', 'indigo', 'laque', 'naturelle', 'thé', 'marbres', 'chapeaux', 'paille', 'fruits', 'médicinaux', 'huiles', 'volatiles', 'limes', 'râpes', 'liége', 'ouvré', 'gomme', 'pure', 'rhum', 'tafia', 'plomb', 'fruits', 'table', 'secs', 'fruits', 'oléagineur', 'armes', 'chasse', 'laxe', 'perles', 'fines', 'baumes', 'bedjoin', 'storax', 'cochenille', 'beurre', 'coutellerie', 'articles', 'cacao', 'gingembre', 'confitures', 'bonbons', 'bois', 'teinture', 'noix', 'galle', 'safran', 'plomb', 'produits', 'chimiques', 'houblons', 'total', 'total', 'tableau', 'page', 'indique', 'importations', 'france', 'algérie', 'continuent', 'suivre', 'marche', 'progressive', 'métropole', 'envoyé', 'fr', 'produits', 'provenant', 'consommation', 'objets', 'sortant', 'entrepôts', 'augmentation', 'étranger', 'contraire', 'présentent', 'diminution', 'proportions', 'puissance', 'pris', 'part', 'mouvement', 'importations', 'france', 'proportion', 'angleterre', 'suède', 'norwege', 'toscane', 'espagne', 'états', 'sardes', 'autriche', 'grèce', 'russie', 'turquie', 'états', 'romains', 'états', 'barbaresques', 'villes', 'anséatiques', 'danemarck', 'marchandises', 'origine', 'justifiée', 'résumé', 'classes', 'marchandises', 'valeurs', 'exportations', 'résultat', 'comparaison', 'classes', 'marchandises', 'augmentation', 'diminution', 'commerce', 'commerce', 'général', 'spécial', 'droits', 'perçus', 'commerce', 'commerce', 'général', 'spécial', 'droits', 'perçus', 'commerce', 'commerce', 'général', 'spécial', 'droits', 'perçus', 'commerce', 'commerce', 'général', 'spécial', 'droits', 'perçus', 'matières', 'aximales', 'animaux', 'vivants', 'produits', 'dépouilles', 'animaux', 'pêche', 'substances', 'propres', 'médecine', 'parfumerie', 'matières', 'dures', 'tailler', 'matières', 'végétales', 'farineux', 'alimentaires', 'fruits', 'denrées', 'coloniales', 'sucs', 'végétaux', 'espèces', 'médicinales', 'bois', 'communs', 'bois', 'exotiques', 'fruits', 'tiges', 'filaments', 'ouvrer', 'teintures', 'tanins', 'produits', 'déchets', 'matières', 'minérales', 'pierres', 'terres', 'fossiles', 'métaux', 'fabrications', 'produits', 'chimiques', 'teintures', 'préparées', 'couleurs', 'compositions', 'boissons', 'vitrifications', 'fils', 'tissus', 'papier', 'applications', 'ouvrages', 'matières', 'totaux', 'totaux', 'année', 'résultats', 'com', 'augmentation', 'parés', 'diminution', 'exportations', 'générales', 'algérie', 'élevée', 'excédé', 'chiffre', 'total', 'oſo', 'moyenne', 'quinquennale', 'produits', 'cru', 'pays', 'objets', 'sortant', 'consommation', 'algérie', 'entrés', 'exportation', 'réexportations', 'part', 'premiers', 'chiffre', 'exportation', 'totale', 'articles', 'appartenant', 'commerce', 'commerce', 'réexportation', 'excédé', 'somme', 'résulte', 'année', 'diminution', 'commerce', 'spécial', 'réexportations', 'accrues', 'verra', 'loin', 'cause', 'principale', 'diminution', 'survenue', 'commerce', 'spécial', 'tient', 'riorité', 'expéditions', 'peaux', 'brutes', 'bétail', 'comparativement', 'augmentation', 'lieu', 'réexportations', 'due', 'marche', 'ascendante', 'suivent', 'mouvements', 'deentrepôt', 'réel', 'mers', 'port', 'classe', 'alger', 'bougie', 'cherchel', 'tenès', 'oran', 'classe', 'marchandises', 'commerce', 'commerce', 'droits', 'commerce', 'commerce', 'droits', 'commerce', 'commence', 'droits', 'commerce', 'commerce', 'droits', 'commerce', 'commerce', 'droits', 'général', 'spécial', 'perçus', 'général', 'spécial', 'perçus', 'général', 'spécial', 'perçus', 'général', 'spécial', 'perçus', 'général', 'spécial', 'perças', 'fr', 'fr', 'fr', 'fr', 'fr', 'fr', 'fr', 'fr', 'fr', 'fr', 'matières', 'animales', 'animaux', 'vivants', 'produits', 'dépouilles', 'animaux', 'pêche', 'substances', 'propres', 'médecine', 'parfumerie', 'matières', 'dures', 'tailler', 'matières', 'végétales', 'farineux', 'alimentaires', 'fruits', 'denrées', 'coloniales', 'sucs', 'végétaux', 'espèces', 'médicinales', 'bois', 'communs', 'bois', 'exotiques', 'fruits', 'tiges', 'filaments', 'ouvrer', 'teintures', 'tanins', 'produits', 'déchets', 'matières', 'minérales', 'pierres', 'terres', 'fossiles', 'métaux', 'fabrications', 'produits', 'chimiques', 'teintures', 'préparées', 'couleurs', 'compositions', 'boissons', 'vitrifications', 'fils', 'tissus', 'papier', 'applications', 'ouvrages', 'matières', 'τοτλου', 'totaux', 'année', 'résultat', 'augmentation', 'diminution', 'ports', 'algérie', 'pris', 'part', 'commerce', 'exportation', 'proportions', 'suivantes', 'alger', 'oo', 'bougie', 'cherchel', 'oran', 'mers', 'marchandises', 'valeurs', 'mers', 'arzeu', 'mostaganem', 'bône', 'calle', 'philippeville', 'djidjeli', 'terce', 'commerce', 'droits', 'commerce', 'commerce', 'droits', 'commerce', 'commerce', 'droits', 'commerce', 'commerce', 'droits', 'commerce', 'commerce', 'droits', 'commerce', 'commerce', 'droits', 'commerce', 'commerce', 'droits', 'éral', 'spécial', 'perçus', 'général', 'spécial', 'perçus', 'général', 'spécial', 'perçus', 'général', 'spécial', 'perçus', 'général', 'spécial', 'perçus', 'général', 'spécial', 'perçus', 'général', 'spécial', 'perçus', 'fr', 'fr', 'fr', 'fr', 'fr', 'fr', 'fr', 'fr', 'fr', 'fr', 'fr', 'fr', 'fr', 'fr', 'fr', 'fr', 'fr', 'ry', 'ry', 'mostaganem', 'bône', 'philippeville', 'djidjeli', 'algérie', 'situation', 'bône', 'progrès', 'mouvement', 'exportations', 'produits', 'cru', 'pays', 'donne', 'comparativement', 'augmentation', 'proportion', 'accroissement', 'considérable', 'mers', 'oo', 'alger', 'oran', 'philippeville', 'subi', 'diminutions', 'produits', 'cru', 'pays', 'exportés', 'commerce', 'spécial', 'comparaison', 'valeurs', 'quantités', 'exportées', 'quantités', 'exportées', 'désignation', 'marchandises', 'unités', 'totale', 'france', 'totale', 'étranger', 'étranger', 'france', 'matières', 'animales', 'fr', 'fr', 'fr', 'fr', 'bates', 'bovines', 'bêtes', 'laine', 'chevaus', 'mulets', 'peaux', 'brutes', 'sorte', 'laines', 'masse', 'suif', 'brut', 'cire', 'brute', 'plumes', 'parore', 'boyaux', 'salés', 'corail', 'brut', 'sangsues', 'cornes', 'cerf', 'os', 'cornes', 'bétail', 'dents', 'éléphant', 'téte', 'tête', 'tête', 'tête', 'kilog', 'kilog', 'kilog', 'kilog', 'kilog', 'kilog', 'kilog', 'nombre', 'kilog', 'kilog', 'kilog', 'matières', 'végétales', 'blé', 'céréales', 'orge', 'fruits', 'sorte', 'tabac', 'feuilles', 'huile', 'olives', 'sandaraque', 'sucs', 'résineux', 'racines', 'médicinales', 'pyrètlire', 'liége', 'planches', 'brut', 'coton', 'laine', 'fils', 'aloes', 'lichons', 'tinctoriaax', 'écorces', 'tan', 'garance', 'drilles', 'chiffons', 'heclog', 'hectog', 'kilog', 'kilog', 'kilog', 'kilog', 'kilog', 'kilog', 'kilog', 'kilog', 'kilog', 'kilog', 'matières', 'minérales', 'terres', 'savonneuses', 'alquiſoux', 'kilog', 'kilog', 'fabrications', 'kermès', 'grains', 'objets', 'collection', 'commerce', 'kilog', 'articles', 'ancs', 'pelleteries', 'limaçous', 'eaux', 'rales', 'totaux', 'résultat', 'poar', 'augmentation', 'diminution', 'résumé', 'espèce', 'marchandises', 'commerce', 'spécial', 'valeurs', 'comparaison', 'rang', 'taxce', 'désignation', 'marchandises', 'moyenne', 'quiqueppale', 'moyenne', 'année', 'années', 'corail', 'brut', 'peaux', 'brutes', 'sorte', 'blé', 'haile', 'olives', 'cire', 'brute', 'suif', 'brut', 'sangsues', 'os', 'cornes', 'bétail', 'laines', 'masse', 'boyaux', 'salés', 'bêtes', 'bovines', 'plumes', 'parure', 'chevaux', 'drilles', 'chiffons', 'écorces', 'tan', 'objets', 'collection', 'commerce', 'orge', 'kermès', 'grains', 'fruits', 'sorte', 'bêtes', 'laine', 'tabac', 'feuilles', 'lichens', 'tinctoriaux', 'mules', 'mulets', 'racines', 'médicinales', 'pyrethre', 'garance', 'terres', 'savonneuses', 'sandaraque', 'sucs', 'résineux', 'cornes', 'cerf', 'liége', 'planches', 'brut', 'dents', 'éléphant', 'alquiſoux', 'coton', 'laine', 'fils', 'aloés', 'articles', 'totaux', 'total', 'exportations', 'produits', 'cru', 'pays', 'figurent', 'ensemble', 'exportation', 'diminution', 'chiffres', 'accroissement', 'moyenne', 'quinquennale', 'exportations', 'peaux', 'brutes', 'accrues', 'comparativement', 'retombées', 'chiffre', 'dernière', 'année', 'décroissance', 'paraît', 'provenir', 'arabes', 'soumission', 'apporté', 'marchés', 'peaux', 'mises', 'réserve', 'guerre', 'fourni', 'provenant', 'abats', 'année', 'côté', 'établissements', 'tannage', 'fondés', 'année', 'algérie', 'employé', 'matières', 'premières', 'années', 'précédentes', 'exportation', 'bêtes', 'bovines', 'bêtes', 'laine', 'orge', 'fléchi', 'également', 'survenu', 'diminution', 'exportation', 'écorces', 'tan', 'suite', 'prohibition', 'prononcée', 'année', 'tanins', 'intérêt', 'forêts', 'algérie', 'produits', 'intéressants', 'exportation', 'présenté', 'réductions', 'pris', 'développement', 'résultats', 'avantageux', 'pêche', 'corail', 'déterminé', 'exportation', 'produit', 'augmentation', 'blés', 'durs', 'pays', 'exportés', 'bône', 'huiles', 'olives', 'suif', 'brut', 'alger', 'donnent', 'propor', 'tions', 'accroissement', 'exportations', 'résumé', 'comparatif', 'pays', 'destination', 'rang', 'exportations', 'valeurs', 'exportations', 'valeurs', 'comparaison', 'valeurs', 'totales', 'tance', 'commerce', 'spécial', 'commerce', 'spécial', 'pays', 'destination', 'commerce', 'commerce', 'année', 'produits', 'produits', 'commerce', 'général', 'cru', 'cru', 'objets', 'sortant', 'consomnmation', 'total', 'tations', 'général', 'objets', 'sortant', 'consommation', 'total', 'tations', 'général', 'commerce', 'général', 'tion', 'pays', 'pays', 'fr', 'fr', 'fr', 'fr', 'fr', 'fr', 'fr', 'fr', 'fr', 'fr', 'fr', 'fr', 'france', 'espagne', 'toscane', 'états', 'sardes', 'angleterre', 'états', 'barbaresques', 'suède', 'norwege', 'ports', 'occupés', 'algérie', 'états', 'romains', 'turquie', 'égypte', 'grèce', 'portugal', 'it', 'totaux', 'résultat', 'augmentation', 'diminution', 'année', 'commerce', 'général', 'produits', 'pays', 'marchandises', 'françaises', 'étrangères', 'commerce', 'général', 'produits', 'pays', 'marchandises', 'françaises', 'étrangères', 'rang', 'importance', 'désignation', 'marchandises', 'valeurs', 'rang', 'importance', 'désignation', 'marchandises', 'valeurs', 'peaux', 'brutes', 'ouvrages', 'bois', 'céréales', 'grains', 'huile', 'olives', 'cire', 'brute', 'suif', 'brut', 'sangsues', 'os', 'cornes', 'bétail', 'tissus', 'chanvre', 'lin', 'tissus', 'laine', 'armes', 'guerre', 'laine', 'masse', 'tissus', 'coton', 'effets', 'usage', 'linge', 'habillement', 'plumes', 'parure', 'chevaux', 'tissus', 'soie', 'bijouterie', 'or', 'tabac', 'feuilles', 'écorces', 'tan', 'objets', 'collection', 'commerce', 'cuivre', 'corail', 'brut', 'france', 'fils', 'chanvre', 'lin', 'horlogerie', 'kermès', 'plomb', 'tabac', 'fabriqué', 'indigo', 'viandes', 'salées', 'légumes', 'secs', 'ancres', 'câbles', 'fer', 'sojes', 'boyaux', 'salés', 'huile', 'rose', 'lichens', 'tinctoriaur', 'groisil', 'mercerie', 'commune', 'fruits', 'table', 'secs', 'articles', 'mules', 'mulets', 'fruits', 'frais', 'vannerie', 'cochenille', 'chapeaux', 'paille', 'terie', 'crins', 'bruts', 'total', 'exportations', 'france', 'produits', 'pays', 'aient', 'fléchi', 'part', 'importance', 'métropole', 'commerce', 'élevée', 'étranger', 'obtenu', 'exportation', 'étranger', 'commerce', 'général', 'avantage', 'étranger', 'part', 'proportionnelle', 'tissus', 'coton', 'tabacs', 'préparés', 'feuilles', 'objets', 'réexportation', 'accroît', 'année', 'composent', 'forte', 'partie', 'cargaisons', 'retour', 'navires', 'étrangers', 'produits', 'pays', 'corail', 'blé', 'cire', 'brute', 'sangsues', 'entrent', 'proportion', 'élevée', 'contraire', 'réexportations', 'france', 'importance', 'francs', 'peaux', 'brutes', 'céréales', 'huile', 'olives', 'cire', 'suif', 'brut', 'sangsues', 'os', 'cornes', 'bétail', 'produits', 'pays', 'formé', 'commerce', 'exportation', 'france', 'puissances', 'étrangères', 'partagé', 'commerce', 'exportation', 'proportions', 'suivantes', 'france', 'espagne', 'toscane', 'états', 'sardes', 'angleterre', 'états', 'barbaresques', 'suède', 'norwége', 'ports', 'occupés', 'algérie', 'états', 'romains', 'exportations', 'espagne', 'éprouvé', 'diminution', 'toutefois', 'puissance', 'conservé', 'rang', 'acquis', 'précédemment', 'france', 'figure', 'ordre', 'importance', 'marchandises', 'nature', 'tirées', 'algérie', 'élevée', 'odo', 'importation', 'totale', 'toscane', 'sardaigne', 'pris', 'part', 'forte', 'proportion', 'commerce', 'exportation', 'marchandises', 'expédiées', 'destination', 'états', 'angleterre', 'états', 'barbaresques', 'exportations', 'importantes', 'cn', 'comparativement', 'entrepôts', 'entrepôt', 'janvier', 'directe', 'entrées', 'entrepôt', 'année', 'importation', 'indirecte', 'total', 'valeurs', 'marchandises', 'consommation', 'retirées', 'année', 'directe', 'réexportation', 'indirecte', 'entrepôt', 'décembre', 'opérations', 'effectuées', 'entrepôts', 'algérie', 'élevées', 'valeurs', 'entrée', 'francs', 'sortie', 'ensemble', 'chiffres', 'importants', 'aient', 'constatés', 'jusici', 'dépassent', 'olo', 'entrepôts', 'réels', 'valeurs', 'sorties', 'valeurs', 'années', 'total', 'continuation', 'entreposées', 'consommation', 'réexportatiox', 'entrepôt', 'alger', 'mers', 'ouvert', 'juillet', 'entrepôts', 'réels', 'existent', 'algérie', 'alger', 'constitué', 'mars', 'mers', 'kebir', 'er', 'juillet', 'entrepôts', 'partagé', 'mouvement', 'général', 'proportion', 'proportion', 'principales', 'admissions', 'consisté', 'année', 'précédente', 'tissus', 'coton', 'tabacs', 'fabriqués', 'feuilles', 'tissus', 'laine', 'réexportations', 'porté', 'objets', 'offrent', 'chiffre', 'fr', 'insuffisance', 'magasins', 'permis', 'admettre', 'entrepôt', 'réel', 'marchandises', 'auraient', 'pu', 'déclarées', 'destination', 'douane', 'dû', 'accorder', 'autorisations', 'réexportation', 'immédiate', 'transbordement', 'donné', 'chiffre', 'suite', 'réexportations', 'présentent', 'accroissement', 'année', 'offrait', 'déjà', 'augmentation', 'commerce', 'trouvé', 'grands', 'avantages', 'cession', 'momentanée', 'faite', 'génie', 'militaire', 'douane', 'magasins', 'situés', 'fort', 'mers', 'établir', 'entrepôt', 'disposition', 'lieux', 'permette', 'établissement', 'prendre', 'développement', 'réservé', 'avenir', 'entrepôts', 'fictifs', 'villes', 'algérie', 'jouissent', 'entrepôt', 'fictif', 'alger', 'oran', 'bône', 'philippeville', 'villes', 'pris', 'part', 'mouvement', 'général', 'proportions', 'suivantes', 'alger', 'oran', 'bône', 'philippeville', 'bône', 'philippeville', 'commerce', 'usé', 'délai', 'accordé', 'acquittement', 'droits', 'contraire', 'alger', 'oran', 'marchandises', 'alimenté', 'mouvement', 'général', 'tissus', 'principalement', 'coton', 'boissons', 'sucres', 'cafés', 'peaux', 'préparées', 'ouvrées', 'viandes', 'salées', 'exception', 'viandes', 'salées', 'diminué', 'boissons', 'présentent', 'centièmes', 'chiffre', 'objets', 'donné', 'augmentations', 'fortes', 'commerce', 'cabotage', 'commerce', 'ports', 'occupés', 'année', 'alger', 'bougie', 'cherchel', 'tenès', 'désignation', 'unités', 'importations', 'exportations', 'importations', 'exportations', 'importations', 'exportations', 'importations', 'exportations', 'marchandises', 'valeurs', 'valeurs', 'valeurs', 'quantités', 'valeurs', 'valeurs', 'quantités', 'valeurs', 'quantités', 'valears', 'valears', 'tés', 'tés', 'tés', 'tés', 'tés', 'chevaux', 'bêtes', 'somme', 'tête', 'bestiaux', 'idem', 'céréales', 'kilog', 'fourrages', 'idem', 'bois', 'construction', 'métre', 'matériaux', 'bâtir', 'pierres', 'kilog', 'bois', 'brûler', 'idem', 'combustibles', 'charbon', 'idem', 'sucres', 'idem', 'café', 'idem', 'boissons', 'sorte', 'hectole', 'lard', 'graisses', 'fromages', 'kilog', 'huile', 'olives', 'idem', 'objets', 'teinlore', 'idem', 'savons', 'idem', 'tabacs', 'sorte', 'idem', 'mercerie', 'quincaillerie', 'idem', 'coutellerie', 'idem', 'tissus', 'sorte', 'idem', 'fer', 'acier', 'idem', 'laines', 'idem', 'cuirs', 'idem', 'peaux', 'préparées', 'ouvrées', 'idem', 'sel', 'idem', 'objets', 'dénommés', 'totaux', 'totaux', 'année', 'augmentation', 'résultat', 'dimiontion', 'suite', 'précédent', 'oran', 'mers', 'arzeu', 'mostaganem', 'désignation', 'unités', 'importations', 'exportations', 'importations', 'exportations', 'importations', 'exportations', 'importations', 'exportations', 'jarcil', 'andises', 'quantités', 'valeurs', 'quantités', 'valeurs', 'quantités', 'valeurs', 'quanti', 'tés', 'valeurs', 'valeurs', 'quanti', 'tés', 'valeurs', 'valeurs', 'valeurs', 'tés', 'tés', 'rés', 'chevaux', 'bétes', 'somme', 'têle', 'bestiaus', 'idem', 'céréales', 'kilog', 'fourrages', 'idem', 'bois', 'construction', 'mètre', 'matériaux', 'bâtir', 'pierres', 'kilog', 'bois', 'brûler', 'idem', 'combustibles', 'charbon', 'idem', 'is', 'sucres', 'idem', 'café', 'idem', 'boissons', 'sorte', 'hectol', 'lard', 'graisses', 'fromages', 'kilog', 'huile', 'olives', 'idem', 'objets', 'teinture', 'idem', 'savons', 'idem', 'tabacs', 'sorte', 'idem', 'mercerie', 'el', 'quincaillerie', 'idem', 'coutellerie', 'idem', 'tissus', 'sorte', 'idem', 'fer', 'acier', 'idem', 'laines', 'idem', 'cuirs', 'idem', 'peaux', 'préparées', 'ouvrées', 'idem', 'scl', 'idem', 'objets', 'dénommés', 'totaux', 'totadi', 'année', 'augmentation', 'résultat', 'dimination', 'algérie', 'sitcation', 'suite', 'précédent', 'bône', 'calle', 'philippeville', 'designation', 'importations', 'unitės', 'exportations', 'importations', 'exportations', 'importations', 'exportations', 'marchandises', 'quantités', 'valeurs', 'quantités', 'valeurs', 'quantités', 'valeurs', 'quantités', 'valeurs', 'quantités', 'valeurs', 'quantités', 'valeurs', 'chevaux', 'bétes', 'somme', 'tête', 'bestiaux', 'idem', 'céréales', 'kilog', 'fourrages', 'idem', 'bois', 'construction', 'métre', 'matériaux', 'bâtir', 'pierres', 'kilog', 'bois', 'brúler', 'idem', 'combustibles', 'charbon', 'idem', 'sucres', 'idem', 'café', 'idem', 'boissons', 'sorte', 'hectol', 'lard', 'graisses', 'fromages', 'kilog', 'iluile', 'olives', 'idem', 'objets', 'teinture', 'idem', 'savons', 'idem', 'tabacs', 'sorte', 'idem', 'mercerie', 'caillerie', 'idem', 'coutellerie', 'idem', 'tissos', 'sorte', 'idem', 'fer', 'acier', 'idem', 'laines', 'idem', 'cuirs', 'idem', 'peaux', 'préparées', 'ouvrées', 'idem', 'sel', 'idem', 'ohjels', 'dénommés', 'totaux', 'toraux', 'année', 'augmentation', 'résultat', 'diminution', 'suite', 'précédent', 'djidjeli', 'résultat', 'comparaison', 'valeurs', 'désignation', 'unités', 'importations', 'exportations', 'importations', 'exportations', 'marchandises', 'quantités', 'valeurs', 'quantités', 'valeurs', 'augmenta', 'tion', 'tion', 'tion', 'tion', 'chevaux', 'bêtes', 'somme', 'tête', 'bestiaux', 'idem', 'céréales', 'kilog', 'fourrages', 'idem', 'bois', 'construction', 'mètre', 'matériaux', 'bâtir', 'pierres', 'kilog', 'bois', 'brûler', 'idem', 'combustibles', 'charbon', 'idem', 'sucres', 'idem', 'café', 'idem', 'boissons', 'sorte', 'hectol', 'kilog', 'lard', 'graisses', 'fromages', 'huile', 'olives', 'idem', 'objets', 'teinture', 'idem', 'savons', 'idem', 'fy', 'tabacs', 'sorte', 'idem', 'mercerie', 'quincaillerie', 'idem', 'coutellerie', 'idem', 'tissus', 'sorte', 'idem', 'fer', 'acier', 'idem', 'laines', 'idem', 'cuirs', 'idem', 'peaux', 'préparées', 'ouvrées', 'idem', 'sel', 'idem', 'objets', 'dénommés', 'τοταος', 'toraux', 'année', 'augmentation', 'résultat', 'diminution', 'commerce', 'cabotage', 'effectué', 'présente', 'chiffres', 'constatés', 'augmentation', 'francs', 'augmentation', 'porté', 'articles', 'suivants', 'céréales', 'grains', 'huile', 'olives', 'bois', 'construction', 'mercerie', 'quincaillerie', 'tissus', 'diminutions', 'affecté', 'transport', 'bétail', 'boissons', 'tabacs', 'fers', 'peaux', 'brutes', 'exception', 'bétail', 'peaux', 'brutes', 'articles', 'importations', 'nombre', 'présentent', 'accroissements', 'commerce', 'cabotage', 'réparti', 'suit', 'bureaux', 'algérie', 'alger', 'bougie', 'cherchel', 'tenés', 'oran', 'mers', 'arzeu', 'mostaganem', 'bône', 'calle', 'philippeville', 'djidjeli', 'alger', 'parties', 'fortes', 'expéditions', 'marchandises', 'côte', 'algérienne', 'viennent', 'ensuite', 'bône', 'oran', 'oran', 'reçu', 'extérieur', 'produits', 'ensuite', 'dirigés', 'ports', 'avoisinent', 'bône', 'exporté', 'produits', 'fournis', 'province', 'expédition', 'quantités', 'considérables', 'bestiaux', 'bône', 'faisait', 'connaître', 'ressources', 'offrait', 'district', 'aujourhui', 'exportations', 'blés', 'durs', 'élevées', 'ports', 'algérie', 'france', 'étranger', 'hectolitres', 'tableau', 'général', 'navigation', 'français', 'algériens', 'étrangers', 'total', 'général', 'années', 'navires', 'tonnage', 'navires', 'tonnage', 'navires', 'tonnage', 'navires', 'tonnage', 'résultats', 'comparés', 'augmentation', 'diminution', 'entré', 'ports', 'algérie', 'navires', 'jaugeant', 'ensemble', 'tonneaux', 'comparaison'], ['puissance', 'faut', 'algérie', 'enfin', 'comprise', 'vaste', 'avenir', 'fort', 'littoral', 'algérie', 'commence', 'oran', 'deviendront', 'vrai', 'gibraltar', 'gardien', 'méditerranée', 'toulon', 'alger', 'dit', 'points', 'attache', 'chaîne', 'pourra', 'franchie', 'permission', 'bougie', 'immense', 'rade', 'sinistres', 'inconnus', 'station', 'sûre', 'servir', 'lieu', 'ralliement', 'armée', 'navale', 'gigelly', 'bône', 'susceptibles', 'ètre', 'fortifiés', 'auxiliaires', 'immense', 'appareil', 'sentinelles', 'avancées', 'côté', 'orient', 'serons', 'forts', 'points', 'puissanpourra', 'douter', 'ascendant', 'espagne', 'rendra', 'italie', 'maroc', 'tunis', 'égypte', 'nations', 'ocest', 'résurrection', 'empire', 'romain', 'ridionales', 'donné', 'accomplir', 'avenir', 'grandeur', 'échauffer', 'coeur', 'froid', 'stimuler', 'esprit', 'timide', 'louis', 'xiv', 'napoléon', 'réaliser', 'avenir', 'guerre', 'cesser', 'absurde', 'conduite', 'tenons', 'désastreuse', 'afrique', 'cesser', 'guerre', 'illogique', 'désastreuse', 'faut', 'cesser', 'gloire', 'guerre', 'illogique', 'facile', 'envahir', 'pays', 'centralisation', 'institutions', 'conquête', 'presque', 'impossible', 'indigènes', 'ennemis', 'rieux', 'afrique', 'histoire', 'apprend', 'carthaginois', 'romains', 'vandales', 'furent', 'chassés', 'guerre', 'désastreuse', 'aujourhui', 'sacrifices', 'élèvent', 'millions', 'soldats', 'morts', 'avancé', 'guerre', 'gloire', 'souviendra', 'ans', 'bulletins', 'immodestes', 'propres', 'rendre', 'risée', 'peuples', 'moment', 'écris', 'désarmement', 'flotte', 'presque', 'consommé', 'question', 'retrait', 'millions', 'budget', 'marine', 'réellement', 'faire', 'économie', 'prenne', 'millions', 'coûte', 'annuellement', 'guerre', 'horde', 'bédouins', 'efforts', 'conduire', 'france', 'restauration', 'procieusement', 'abandon', 'alger', 'résultat', 'seul', 'dominera', 'histoire', 'alger', 'fut', 'conquis', 'dynastie', 'comprit', 'importance', 'politique', 'emporté', 'exil', 'secret', 'gloires', 'france', 'argue', 'faveur', 'abandon', 'alger', 'mis', 'restauration', 'promesse', 'anglepris', 'fallait', 'terre', 'trompe', 'restauration', 'grandir', 'promis', 'déclaré', 'ouvertement', 'algérie', 'volonté', 'rester', 'algérie', 'fallait', 'grandir', 'silencieusement', 'agissent', 'actuellement', 'anglais', 'syrie', 'réservons', 'innombrables', 'millions', 'hommes', 'foi', 'intelligence', 'prodiguons', 'afrique', 'créer', 'rapidement', 'vastes', 'ports', 'alger', 'abris', 'sûrs', 'gigelly', 'bône', 'rendre', 'points', 'inexpugnables', 'terre', 'mer', 'construisons', 'vastes', 'casernes', 'immenses', 'magasins', 'propres', 'premières', 'conserver', 'santé', 'soldat', 'recevoir', 'approvisionnements', 'ans', 'lors', 'arrestation', 'peyronnet', 'tours', 'fut', 'gardé', 'gardes', 'nationaux', 'interrogé', 'méde', 'cio', 'ville', 'trait', 'événements', 'prêta', 'complaisance', 'donner', 'explicalions', 'désirées', 'interrogé', 'également', 'projets', 'france', 'surjalger', 'jene', 'puis', 'satisfaire', 'point', 'secret', 'france', 'gouvernement', 'donnant', 'entendre', 'branche', 'ainée', 'vues', 'alger', 'devoir', 'gouvernement', 'puis', 'ensuite', 'chercher', 'grouper', 'autour', 'villes', 'populations', 'augmenter', 'alimenter', 'port', 'impossible', 'emploi', 'ports', 'blocs', 'béton', 'heureusement', 'appliqué', 'puis', 'emploi', 'ger', 'ingénieur', 'poirel', 'aujourhui', 'difficulté', 'réduit', 'question', 'argent', 'praticiens', 'prétendent', 'ports', 'artificiels', 'finissent', 'ensabler', 'possible', 'puissance', 'vapeur', 'portera', 'doute', 'remède', 'foi', 'hommes', 'intéressés', 'continuation', 'guerre', 'profitable', 'faut', 'accepter', 'algérie', 'situation', 'existe', 'vérité', 'faut', 'sortir', 'prix', 'ridicule', 'position', 'position', 'héros', 'afrique', 'faite', 'france', 'hommes', 'hommes', 'échec', 'bout', 'révolté', 'marabout', 'révolté', 'jamais', 'tard', 'arrêter', 'issue', 'succès', 'désastres', 'jamais', 'tard', 'reconnaître', 'erreurs', 'acharner', 'arabes', 'imiter', 'agitation', 'furieuse', 'lion', 'fable', 'moucheron', 'riait', 'efforts', 'gouvernement', 'tromper', 'saurait', 'danger', 'persévérer', 'erreur', 'france', 'ridicule', 'voir', 'note', 'résumer', 'pose', 'question', 'suivante', 'deviendrait', 'puissance', 'algérie', 'blocus', 'mer', 'venait', 'aide', 'arabes', 'motiver', 'éloignement', 'éternel', 'france', 'ressentir', 'angleterre', 'comprendre', 'dangers', 'alger', 'court', 'moment', 'remédier', 'retard', 'besoin', 'recourir', 'haines', 'instinctives', 'peuples', 'examen', 'froid', 'consciencieux', 'tendances', 'angleterre', 'nécessités', 'subit', 'cause', 'position', 'industrielle', 'suffit', 'prouver', 'rêts', 'éternellement', 'basés', 'ruine', 'tres', 'partout', 'france', 'entrepris', 'chose', 'important', 'rencontré', 'angleterre', 'partout', 'rencontre', 'fatale', 'évident', 'fondons', 'ideesable', 'sable', 'édifice', 'croulerait', 'effort', 'sérieux', 'dirigé', 'maréchal', 'duc', 'dalmatie', 'mettre', 'somme', 'francs', 'disposition', 'génie', 'militaire', 'algérie', 'savoir', 'fortifications', 'alger', 'continuer', 'construire', 'casernes', 'båtir', 'hôpital', 'besoins', 'créés', 'actuel', 'choses', 'changer', 'destination', 'partie', 'fonds', 'désir', 'fortifier', 'alger', 'augure', 'espère', 'maréchal', 'soult', 'finira', 'interposer', 'puissante', 'intervention', 'faire', 'cesser', 'guerre', 'désavantageuse', 'prouverai', 'chapitres', 'suivants', 'fondons', 'chapitre', 'ii', 'développé', 'chapitre', 'dent', 'raisons', 'politiques', 'france', 'nécessité', 'conservation', 'algérie', 'lioration', 'immédiate', 'ports', 'alger', 'bone', 'occupation', 'forte', 'places', 'examiner', 'pays', 'rapports', 'ressources', 'offre', 'colonisation', 'limites', 'ment', 'restreindre', 'obstacles', 'arabes', 'apporter', 'cuvre', 'militaire', 'constitution', 'sociale', 'enfin', 'rôle', 'devons', 'assigner', 'indigènes', 'moyens', 'einployer', 'faire', 'entrer', 'côte', 'algérie', 'généralement', 'description', 'gegneuse', 'inabordable', 'longueur', 'rie', 'points', 'turcs', 'formé', 'établissements', 'nombre', 'calle', 'jusà', 'oran', 'praticables', 'mauvaise', 'saison', 'équinoxe', 'automne', 'jusà', 'équinoxe', 'printemps', 'nomme', 'chaîne', 'nérale', 'calle', 'bone', 'slora', 'collo', 'gigelly', 'bougie', 'delys', 'alger', 'cherchell', 'tenez', 'arzew', 'bougie', 'alger', 'bône', 'pourra', 'ajouter', 'gigelly', 'possible', 'construire', 'port', 'commerce', 'faul', 'faire', 'travaux', 'considerables', 'grand', 'atlas', 'montagnes', 'sommets', 'principaux', 'forment', 'ligne', 'paraît', 'courir', 'province', 'bône', 'ouest', 'lieues', 'intérieur', 'terres', 'vient', 'aboutir', 'sud', 'delys', 'bibans', 'portes', 'point', 'étend', 'province', 'titteri', 'sud', 'belida', 'prolonge', 'ensuite', 'province', 'oran', 'jusà', 'tlemcen', 'écartant', 'lieues', 'côtes', 'chaîne', 'jette', 'jusà', 'mer', 'forment', 'côte', 'montagneuse', 'citée', 'grand', 'atlas', 'monts', 'aurès', 'lieues', 'sud', 'petit', 'atlas', 'province', 'distance', 'rapprochée', 'provinces', 'titteri', 'oran', 'dirige', 'frontière', 'sud', 'tunis', 'bibans', 'portes', 'bibans', 'ouest', 'territoire', 'titteri', 'lieues', 'sud', 'petit', 'atlas', 'presque', 'parallèlement', 'dernière', 'chaîne', 'passe', 'province', 'oran', 'remarque', 'général', 'atlas', 'offrent', 'montagnes', 'élevées', 'dernière', 'province', 'titteri', 'bibans', 'noud', 'chaînes', 'contrées', 'situées', 'sud', 'bougie', 'delys', 'montagneuses', 'aurès', 'trace', 'ligne', 'partage', 'eaux', 'sahara', 'bassin', 'méditerranée', 'petit', 'atlas', 'fréquemment', 'coupé', 'ravins', 'donne', 'passage', 'principaux', 'cours', 'eau', 'jeter', 'mer', 'reçoivent', 'ruisseaux', 'torrents', 'notions', 'donner', 'désert', 'trouve', 'désert', 'sahara', 'sud', 'monts', 'aurès', 'exactes', 'apparence', 'désert', 'existe', 'sahara', 'contraire', 'parsemé', 'oasis', 'grandes', 'belles', 'produit', 'grande', 'abondance', 'dattes', 'mûrissent', 'partie', 'nord', 'régence', 'laines', 'gomme', 'cire', 'précieuses', 'denrées', 'moment', 'parle', 'abandonner', 'algérie', 'conquête', 'acquiert', 'sorte', 'degré', 'grand', 'importance', 'petit', 'atlas', 'aurès', 'terrain', 'montagneux', 'fertile', 'voit', 'mètres', 'niveau', 'mer', 'vastes', 'plateaux', 'trèfle', 'sainfoin', 'forment', 'nappes', 'rouges', 'perte', 'vue', 'province', 'fertile', 'présente', 'magnifiques', 'prairies', 'intervalle', 'sépare', 'petit', 'atlas', 'mer', 'renferme', 'série', 'vallées', 'boisées', 'montagnes', 'terres', 'cultivées', 'presque', 'jusau', 'sommet', 'croissent', 'oliviers', 'caroubiers', 'robur', 'vastes', 'plaines', 'bône', 'mitidja', 'étendent', 'mer', 'configuration', 'sol', 'indice', 'salubrité', 'salubrité', 'climat', 'marais', 'existent', 'plaines', 'embouchures', 'rivières', 'climat', 'doute', 'nuisibles', 'santé', 'troupes', 'desséchés', 'donnerait', 'parvenir', 'difficultés', 'présentent', 'marais', 'europe', 'bomme', 'cheval', 'franchir', 'aisément', 'seule', 'culture', 'ferait', 'disparaître', 'temps', 'convertirait', 'engrais', 'débris', 'putréfiés', 'gétaux', 'couvrent', 'surface', 'sol', 'point', 'terre', 'afrique', 'malsaine', 'conditions', 'existence', 'imposées', 'militaires', 'camps', 'goûtent', 'rarement', 'heures', 'sommeil', 'préparé', 'froid', 'humidité', 'tiennent', 'éveillés', 'parfois', 'espérer', 'repos', 'vermine', 'moustiques', 'puces', 'terre', 'engendre', 'milliards', 'enlèvent', 'espoir', 'égard', 'joignez', 'circonstances', 'fatigues', 'exagérées', 'régime', 'alimentaire', 'composé', 'mauvaises', 'denrées', 'fort', 'souvent', 'insuffisant', 'faut', 'swang', 'parle', 'substituer', 'casernes', 'afrique', 'hamacs', 'lits', 'funeste', 'mesure', 'santé', 'hommes', 'ressentira', 'coup', 'sûr', 'repose', 'mal', 'hamac', 'į', 'habitué', 'enfance', 'froid', 'nuit', 'corps', 'gêné', 'hommes', 'bône', 'préférer', 'coucher', 'sol', 'soldat', 'devenir', 'objet', 'espèces', 'tortures', 'sordide', 'économie', 'fatale', 'afrique', 'côté', 'prodigue', 'or', 'faire', 'guerre', 'insensée', 'riche', 'culture', 'sucre', 'café', 'expliquer', 'mortalité', 'sévit', 'cruellement', 'algérie', 'armée', 'pays', 'richesse', 'incontestable', 'suffit', 'végétation', 'assurer', 'voir', 'splendide', 'végétation', 'dit', 'jusà', 'présent', 'pu', 'jeter', 'point', 'lumière', 'véritable', 'côté', 'voulu', 'représenter', 'algérie', 'affranchir', 'nécessité', 'tirer', 'indes', 'orientales', 'occidentales', 'produits', 'usage', 'mæurs', 'représentée', 'stérile', 'produit', 'denrées', 'culture', 'café', 'canne', 'sucre', 'plantes', 'intertropicales', 'précisément', 'échoué', 'essais', 'obtenu', 'succès', 'attendait', 'années', 'suffisent', 'acclimater', 'nord', 'plantes', 'zones', 'torrides', 'faut', 'arriver', 'résultat', 'temps', 'soins', 'dů', 'apporter', 'acclimatement', 'nord', 'europe', 'fruits', 'exquis', 'romains', 'importés', 'asie', 'existe', 'alger', 'indigènes', 'notion', 'notion', 'pericole', 'indigènes', 'agricole', 'fera', 'ressortir', 'difficulté', 'semences', 'donner', 'beaux', 'juits', 'mises', 'terrains', 'meilleurs', 'produites', 'condilions', 'climat', 'favorables', 'alger', 'montagne', 'appelée', 'père', 'semence', 'flancs', 'récoltent', 'mences', 'réussissent', 'mieux', 'plaine', 'afrique', 'fran', 'afrique', 'française', 'créer', 'loin', 'andalousie', 'pays', 'épuisé', 'prétendu', 'jusà', 'jour', 'faible', 'tâche', 'nourrir', 'population', 'semblable', 'midi', 'espagne', 'rirait', 'affirmerait', 'andalousie', 'produire', 'sol', 'présente', 'colon', 'difficultés', 'défrichement', 'amérique', 'charrue', 'appliquée', 'paration', 'fin', 'année', 'agriculteur', 'entendu', 'largement', 'récompensé', 'travaux', 'suffit', 'gratter', 'terre', 'légèrement', 'répété', 'souvent', 'faut', 'cultiver', 'soin', 'modifier', 'méthodes', 'france', 'climat', 'nature', 'terrains', 'olivlets', 'sol', 'africain', 'offre', 'véritable', 'agriculteur', 'sontgigantesques', 'céréales', 'richesses', 'incalculables', 'olivier', 'acquiert', 'rendent', 'jusau', 'taille', 'inconnue', 'france', 'můrier', 'étale', 'luxe', 'végétation', 'incomparable', 'prairies', 'immenses', 'élève', 'bestiaux', 'enfin', 'terroir', 'reproduire', 'céréales', 'confie', 'sagacité', 'remarque', 'raison', 'absence', 'presque', 'algérie', 'tale', 'bois', 'algérie', 'algérie', 'faut', 'conclure', 'pays', 'produit', 'faut', 'attribuer', 'cause', 'absence', 'bois', 'existe', 'alger', 'recueil', 'manuel', 'indicatif', 'travaux', 'agricoles', 'exéculer', 'mois', 'année', 'rédigé', 'jl', 'caussidou', 'richesse', 'iniaux', 'arabes', 'détruisent', 'coupant', 'manière', 'repousse', 'enveloppant', 'mers', 'ſeu', 'allument', 'année', 'brûler', 'herbes', 'bestiaux', 'pu', 'consommer', 'séchées', 'sol', 'empècheraient', 'végétation', 'année', 'suivante', 'pays', 'montagnes', 'incendies', 'montagnes', 'conservé', 'vent', 'étendre', 'conservé', 'bois', 'bois', 'causes', 'destruction', 'bientôt', 'disparaître', 'nérale', 'pays', 'coupes', 'exagérées', 'soldats', 'égard', 'saison', 'pratiquer', 'pousse', 'rejetons', 'environs', 'camps', 'rapidement', 'dépouillés', 'ceintures', 'ombrages', 'corvées', 'bois', 'deviennent', 'pénibles', 'dangereuses', 'troupes', 'gouvernement', 'militaire', 'imprévoyance', 'manque', 'foi', 'avenir', 'pays', 'ménager', 'ressources', 'algérie', 'possède', 'richesses', 'rales', 'exploitées', 'nécessitent', 'reboisement', 'pays', 'aménagement', 'entendu', 'combustible', 'existe', 'note', 'fournie', 'tripier', 'armée', 'connaissances', 'chimiques', 'ralogiques', 'fort', 'étendues', 'connaître', 'partie', 'mines', 'situées', 'terrains', 'parcourus', 'armée', 'voir', 'nole', 'fin', 'volume', 'eau', 'manque', 'attribue', 'sécheresse', 'générale', 'sol', 'absence', 'forêts', 'montagnes', 'arbres', 'abondantes', 'sources', 'jaillissent', 'parts', 'serait', 'facile', 'temps', 'boiser', 'campagnes', 'essences', 'forestières', 'arbres', 'fruitiers', 'ombre', 'salutaire', 'maintiendrait', 'terre', 'fraîcheur', 'continuelle', 'empêcherait', 'rapide', 'evaporation', 'eaux', 'multipliant', 'forêts', 'colonie', 'ramener', 'rivière', 'ruisseaux', 'desséchés', 'amérique', 'nord', 'masses', 'imposantes', 'eau', 'roulent', 'fleuves', 'immenses', 'forêts', 'primitives', 'couvrent', 'sol', 'fleuves', 'europe', 'perdu', 'eaux', 'défrichement', 'forêts', 'assombrissaient', 'autrefois', 'gaules', 'germanie', 'tombe', 'afrique', 'grande', 'quantité', 'eau', 'france', 'doute', 'prévenant', 'puissante', 'absorption', 'soleil', 'brûlant', 'tablît', 'fleuves', 'ruisseaux', 'grand', 'nombre', 'sources', 'taries', 'terres', 'également', 'fertiles', 'jes', 'pourront', 'tromperait', 'pensait', 'paraissent', 'stériles', 'améliorer', 'tat', 'nudité', 'actuelle', 'sol', 'terres', 'jamais', 'conserver', 'humidité', 'activer', 'végétation', 'vigoureuse', 'croît', 'herbe', 'rare', 'courte', 'dessèche', 'promptement', 'ardeur', 'soleil', 'débris', 'terres', 'artuellement', 'stéricelles', 'venir', 'fertiles', 'fournir', 'espèce', 'humus', 'terres', 'susceptibles', 'produire', 'çà', 'voit', 'arbres', 'semblent', 'égarés', 'belle', 'venue', 'affirmer', 'terres', 'deviendront', 'bonnes', 'travail', 'multiplication', 'arbres', 'lieu', 'lorson', 'intérêt', 'cultiver', 'accès', 'rendu', 'facile', 'moyen', 'réseau', 'coinmunications', 'occupe', 'presque', 'nullement', 'algérie', 'travaux', 'utiles', 'longue', 'haleine', 'produisent', 'lentement', 'fruits', 'héros', 'afrique', 'attachent', 'donner', 'matière', 'pompeux', 'bulletins', 'élan', 'donné', 'duc', 'rovigo', 'dirigea', 'efforts', 'armée', 'travail', 'communications', 'créa', 'enchantement', 'magnifiques', 'routes', 'traversent', 'partie', 'fals', 'territoire', 'alger', 'successeurs', 'point', 'ouverture', 'pays', 'moyen', 'action', 'énergique', 'fût', 'possible', 'arabes', 'ans', 'pro', 'ortionnellement', 'créé', 'routes', 'véritables', 'exécuté', 'duc', 'rovigo', 'année', 'commandement', 'aujourhui', 'décore', 'pompeusement', 'nom', 'route', 'sentiers', 'arabes', 'chemins', 'presque', 'inutiles', 'communica', 'tions', 'routes', 'cherche', 'tion', 'possiroutes', 'bles', 'hiver', 'bons', 'indiquer', 'faut', 'passer', 'attache', 'remédier', 'manque', 'route', 'passer', 'supprimer', 'colonnes', 'expéditionnaires', 'espèce', 'voiture', 'apercevoir', 'convois', 'bêtes', 'somme', 'augmentent', 'ment', 'colonnes', 'lourdes', 'auparavant', 'occupe', 'médéalı', 'miliana', 'mascara', 'autorité', 'supérieure', 'lieues', 'pensée', 'relier', 'points', 'littoral', 'routes', 'exécutées', 'occupation', 'pays', 'colonisation', 'ble', 'possibles', 'création', 'communications', 'faciles', 'súres', 'afrique', 'eden', 'saurait', 'donner', 'naissance', 'établissements', 'prospères', 'conditions', 'existe', 'limite', 'création', 'communications', 'faire', 'choix', 'judicieux', 'exécutera', 'indiquerai', 'limites', 'nécessité', 'entreprendre', 'chapitre', 'ferai', 'connaître', 'faut', 'commencer', 'immediatement', 'production', 'impossible', 'premières', 'notions', 'sciences', 'sociales', 'débouchés', 'peuples', 'livrent', 'production', 'audelà', 'besoins', 'autant', 'bouchés', 'écoulement', 'superflu', 'communications', 'faciles', 'faire', 'arriver', 'produits', 'marchés', 'vrer', 'prix', 'résulte', 'concurrence', 'pays', 'existe', 'communications', 'faciles', 'condamnés', 'rester', 'arriérés', 'rapport', 'développement', 'richesses', 'point', 'inquisition', 'cru', 'espagne', 'inertie', 'industrielle', 'commerciale', 'absence', 'presque', 'totale', 'fleuves', 'navigables', 'canaux', 'contexture', 'sol', 'routes', 'difficiles', 'presque', 'cours', 'eau', 'torrents', 'souvent', 'sec', 'espagne', 'élevée', 'rang', 'nations', 'grâce', 'immenses', 'trésors', 'amérique', 'versait', 'sein', 'source', 'tarie', 'retombée', 'pauvreté', 'impuissance', 'existe', 'éléments', 'prospérité', 'nations', 'peuples', 'premiers', 'canaux', 'déjà', 'obtenu', 'navigation', 'fleuves', 'développement', 'richesses', 'susceptible', 'donner', 'chemins', 'fer', 'nés', 'états', 'canaux', 'suffisaient', 'angleterre', 'offrent', 'preuves', 'vérités', 'algérie', 'algérie', 'flenres', 'absence', 'tion', 'intérieure', 'moyen', 'vigation', 'intérieure', 'réellement', 'obstacle', 'dier', 'développement', 'agricole', 'conquête', 'limites', 'suite', 'raisonnement', 'fera', 'connaître', 'tombera', 'accord', 'ernest', 'becquet', 'dit', 'algérie', 'longueur', 'profondeur', 'rigueur', 'passer', 'navigation', 'intérieure', 'moyen', 'cabotage', 'côtes', 'ajouterai', 'tard', 'rité', 'pays', 'permettra', 'pourra', 'relier', 'points', 'intérieur', 'méditerranéenne', 'chemins', 'fer', 'traction', 'pourra', 'opérer', 'moyen', 'chevaux', 'chemins', 'suivre', 'sinuosilés', 'profondes', 'coupures', 'montagnes', 'nécessairement', 'inflexions', 'rayon', 'court', 'emploi', 'locomotives', 'jusoù', 'routes', 'exploitation', 'pourront', 'guère', 'pays', 'présent', 'lieues', 'littoral', 'pousser', 'serait', 'éloigner', 'mer', 'grande', 'cominunication', 'ouest', 'distance', 'littoral', 'colons', 'pourraient', 'soutenir', 'concurrence', 'voisins', 'intermédiaires', 'ports', 'recevoir', 'prix', 'limite', 'arrivant', 'europe', 'limite', 'ionisation', 'utile', 'tion', 'utile', 'présent', 'ligne', 'tlemcen', 'passerait', 'mascara', 'kantura', 'chéliff', 'médéah', 'hamza', 'sétif', 'tiffech', 'kef', 'frontière', 'tunis', 'voir', 'carte', 'routes', 'devront', 'voir', 'rerue', 'paris', 'août', 'problème', 'inflexions', 'court', 'rayon', 'presque', 'résolu', 'moyen', 'essicux', 'indépendants', 'autrement', 'zone', 'colonisable', 'comprise', 'ligne', 'zone', 'colonisaet', 'littoral', 'moyenne', 'lieues', 'population', 'pourra', 'jeter', 'geur', 'longueur', 'offrirait', 'superficie', 'lieues', 'carrées', 'afrique', 'ait', 'favorisé', 'reboisement', 'pays', 'pourra', 'guère', 'agglomnérer', 'population', 'raison', 'habitants', 'lieue', 'carrée', 'autrement', 'eaux', 'deviendraient', 'insuffisantes', 'population', 'inillions', 'âmes', 'millions', 'pouvons', 'placer', 'algérie', 'connaissance', 'cause', 'faut', 'flatter', 'accomplir', 'impossiinstantanément', 'immense', 'tâche', 'zone', 'colonisable', 'cessation', 'guerre', 'partiellement', 'séquent', 'dépit', 'héros', 'afrique', 'successivement', 'intérêts', 'particuliers', 'accomplir', 'partiellement', 'successivement', 'lentement', 'obstacles', 'rencontrons', 'viendront', 'climat', 'algérie', 'arabes', 'difficultés', 'matérielles', 'offrira', 'sol', 'résideront', 'france', 'gouvernement', 'persiste', 'aveuglement', 'inconcevable', 'erreurs', 'chambre', 'députés', 'prodiguant', 'foi', 'mensonges', 'dorés', 'ques', 'trésors', 'france', 'hommes', 'ans', 'exploitent', 'coupablement', 'armée', 'ressources', 'voit', 'miracle', 'pend', 'proen', 'sommes', 'temps', 'progrès', 'réel', 'pourra', 'commencer', 'contenu', 'chapitre', 'traitera', 'guerre', 'afrique', 'résultats', 'permettra', 'apprécier', 'attendre', 'avenir', 'bonne', 'foi', 'nent', 'guerre', 'sus', 'répéterai', 'satiété', 'guerre', 'suspend', 'grès', 'ment', 'immenses', 'travaux', 'exécuter', 'pouvoir', 'commencer', 'ouvre', 'colonisation', 'principaux', 'routes', 'établissement', 'possible', 'vain', 'parle', 'cultiver', 'pays', 'parquant', 'colons', 'villages', 'retranchés', 'deviendront', 'villages', 'communiquent', 'manière', 'sûre', 'partie', 'zone', 'européenne', 'fixée', 'sahara', 'zone', 'hara', 'existe', 'vaste', 'espace', 'eurodevra', 'péens', 'pourront', 'établir', 'conditions', 'avantatée', 'indigènes', 'geuses', 'siècle', 'espace', 'propose', 'placer', 'indigènes', 'conditions', 'belles', 'finissent', 'desirer', 'établir', 'rester', 'proposerai', 'faire', 'commerce', 'intérieur', 'afrique', 'développer', 'davantage', 'pensée', 'égard', 'essayer', 'faire', 'connaître', 'traits', 'principaux', 'caractère', 'arabes', 'assimilation', 'arabes', 'européens', 'faire', 'temps', 'mours', 'arabes', 'peuples', 'conquis', 'vit', 'naître', 'années', 'race', 'croisée', 'sang', 'vainqueurs', 'alger', 'crois', 'cite', 'ans', 'seule', 'naissance', 'métis', 'arabe', 'européen', 'seules', 'relations', 'existent', 'improductives', 'prostituées', 'villes', 'européen', 'flatter', 'admis', 'familièrement', 'maure', 'voit', 'place', 'boutiques', 'café', 'ailleurs', 'faut', 'bercer', 'espoir', 'rapprochement', 'prochain', 'indigènes', 'remarqué', 'saillant', 'caractère', 'arabes', 'besoin', 'excessif', 'liberté', 'liberté', 'politique', 'chimère', 'époque', 'indépendance', 'absolue', 'autorité', 'charge', 'cesse', 'révolte', 'tentent', 'saisir', 'soif', 'ardente', 'liberté', 'rend', 'vie', 'nomade', 'cultivent', 'terre', 'raison', 'besoins', 'personnels', 'prêts', 'fuir', 'moindre', 'indice', 'présence', 'ennemi', 'puissant', 'disparaissent', 'enchantement', 'emmenant', 'troupeaux', 'savent', 'faire', 'partager', 'pensée', 'monde', 'rappelle', 'enlèvement', 'troupeau', 'boutgie', 'beufs', 'disparurent', 'rapidité', 'éclair', 'cavalerie', 'put', 'alteindre', 'véritables', 'enneest', 'amour', 'indomptable', 'liberté', 'absolue', 'poussé', 'kabaïles', 'montagnes', 'dangereux', 'souvent', 'impossible', 'poursuivre', 'turcs', 'jamais', 'pu', 'atteindre', 'arabe', 'appartient', 'race', 'fière', 'homme', 'dignité', 'primitive', 'descendant', 'ismaël', 'fils', 'abraham', 'espérons', 'détruire', 'facilement', 'rouille', 'siècles', 'grands', 'ennemis', 'afrique', 'mis', 'afrique', 'indigènes', 'utopistes', 'rêveurs', 'occupés', 'cesse', 'rechercher', 'moyens', 'fusion', 'chrétiens', 'arabes', 'élaborent', 'cerveau', 'théories', 'creuses', 'déduisent', 'conséquences', 'imaginaires', 'apparaît', 'évident', 'réalité', 'hommes', 'crédules', 'appelle', 'arabocoles', 'exploitent', 'prétendue', 'diplomatie', 'arabe', 'guerre', 'constituent', 'afrique', 'principaux', 'obstacles', 'aplanissement', 'difficultés', 'éprouvons', 'auteurs', 'écrit', 'arabes', 'heureux', 'descriptions', 'souvent'], ['population', 'france', 'commencement', 'siècle', 'trouvera', 'naturellement', 'écoulement', 'afrique', 'faut', 'attirée', 'volontairement', 'gouvernement', 'serait', 'impuissant', 'exiler', 'dépaysera', 'algérie', 'colonies', 'france', 'offre', 'france', 'afrique', 'appelle', 'jouir', 'avantages', 'propriété', 'bénéfice', 'lois', 'connaît', 'accourra', 'foule', 'danger', 'menace', 'lèvements', 'misère', 'disparaîtra', 'ans', 'millions', 'âmes', 'installées', 'algérie', 'terre', 'fertile', 'pourront', 'contribuer', 'budget', 'millions', 'nal', 'proportion', 'français', 'métropole', 'annuellement', 'millions', 'revenu', 'accroîtra', 'suite', 'augmentation', 'population', 'territoire', 'apparemment', 'limites', 'futures', 'algérie', 'souan', 'gouverneur', 'civil', 'civilisation', 'afrique', 'jusoù', 'étendront', 'vaste', 'avenir', 'préparé', 'providence', 'malheur', 'france', 'confiant', 'destinées', 'hommes', 'comprennent', 'sait', 'profiter', 'pensée', 'suppression', 'algérie', 'danger', 'verneur', 'militaire', 'naître', 'grand', 'nombre', 'esprits', 'idée', 'remplacement', 'gouyerneur', 'civil', 'tromperait', 'grossièrement', 'pensant', 'changement', 'profitable', 'algérie', 'régime', 'pourrait', 'transition', 'trouver', 'fût', 'tolérable', 'homme', 'position', 'sociale', 'fût', 'supérieure', 'gouverneur', 'algérie', 'hommes', 'jour', 'remplit', 'conditions', 'adoption', 'dictature', 'civile', 'mains', 'minces', 'célébrités', 'époque', 'serait', 'sortir', 'inconnu', 'égarons', 'provisoire', 'paralyse', 'efforts', 'pourrait', 'attirer', 'colonie', 'fléau', 'rivalité', 'gouverneur', 'civil', 'chef', 'armée', 'gouverneur', 'civil', 'remédierait', 'mal', 'parlé', 'duc', 'mortemart', 'gouverneur', 'civil', 'seul', 'yeux', 'remplisse', 'conditions', 'exposées', 'accepter', 'douteux', 'présence', 'directeur', 'affaires', 'algérie', 'paris', 'administration', 'existerait', 'alger', 'centralisation', 'tient', 'province', 'bône', 'alanguissement', 'complet', 'aurait', 'direction', 'intérieur', 'chef', 'serait', 'aujourhui', 'commis', 'gouverneur', 'direction', 'finances', 'dicterait', 'lois', 'ombre', 'conseil', 'administration', 'saisit', 'questions', 'veut', 'trancher', 'serait', 'pis', 'seul', 'ministère', 'aurait', 'annexe', 'attributions', 'haute', 'direction', 'affaires', 'serait', 'changé', 'réellement', 'peine', 'modifier', 'arriver', 'cheux', 'résultat', 'dernière', 'réflexion', 'suffira', 'faire', 'comprendre', 'pensée', 'danger', 'dictature', 'justice', 'institution', 'sacerdotale', 'sacrée', 'sacrifiée', 'présent', 'imaginé', 'cour', 'royale', 'nom', 'président', 'rôles', 'intervertis', 'procureur', 'général', 'chef', 'justice', 'mise', 'volontairement', 'position', 'infàme', 'administration', 'pût', 'dominer', 'gré', 'garantie', 'espérer', 'choses', 'général', 'général', 'étang', 'remarquable', 'problème', 'introduction', 'ouvrage', 'algérie', 'pose', 'termes', 'clairs', 'précis', 'équivoque', 'problème', 'résoudre', 'algérie', 'savoir', 'pays', 'rede', 'etang', 'poune', 'manière', 'claire', 'tion', 'gouverneclame', 'délai', 'adoption', 'système', 'laissant', 'hasard', 'assignerait', 'prendre', 'part', 'colonisation', 'contrée', 'role', 'tracé', 'exactement', 'défini', 'pourrait', 'écarter', 'bientôt', 'obligé', 'rentrer', 'regrette', 'etang', 'improvisasi', 'posé', 'question', 'résolue', 'mentale', 'inacceptable', 'agit', 'creuser', 'imagination', 'inventer', 'improvisations', 'matière', 'gouvernementale', 'acceptable', 'institutions', 'fruit', 'longue', 'quelquefois', 'sanglante', 'expérience', 'faut', 'fuir', 'chemins', 'détournés', 'marcher', 'large', 'ouverte', 'connue', 'propose', 'venir', 'immédiatement', 'organisation', 'départementale', 'française', 'algérie', 'administration', 'ressortissant', 'ministère', 'départements', 'propre', 'donne', 'enfin', 'gouvernement', 'action', 'complète', 'compétente', 'algérie', 'voulait', 'laisser', 'ministère', 'finances', 'action', 'légitime', 'pays', 'aurait', 'sorte', 'abaissement', 'tarifs', 'á', 'adopter', 'prouvé', 'pouvions', 'coloniser', 'arabes', 'élément', 'arabes', 'source', 'auvre', 'obstacle', 'lieu', 'dissiper', 'immenses', 'moyens', 'action', 'folles', 'expéditions', 'repoussons', 'système', 'routes', 'assigné', 'indigènes', 'coloniser', 'rôle', 'zone', 'colonisation', 'intermédiaires', 'sahara', 'colonisation', 'lieu', 'arrivée', 'afrique', 'nation', 'européenne', 'conséquemment', 'faut', 'trouve', 'sécurité', 'organisation', 'faite', 'histoire', 'exemple', 'manière', 'opérer', 'cite', 'appui', 'assertion', 'passage', 'remarquable', 'lettres', 'amérique', 'nord', 'michel', 'chevalier', 'canada', 'seule', 'colonie', 'ayons', 'fondée', 'exclusivement', 'français', 'transporta', 'organisation', 'sociale', 'complète', 'pays', 'reconnu', 'flotte', 'royale', 'débarqua', 'seigneurs', 'roi', 'octroyé', 'fiefs', 'suivis', 'vassaux', 'pris', 'normandie', 'bretagne', 'distribuèrent', 'terres', 'déposa', 'temps', 'clergé', 'régulier', 'séculier', 'doté', 'amples', 'domaines', 'toriaux', 'préleva', 'dîme', 'puis', 'vinrent', 'marchands', 'compagnies', 'priviléges', 'accordés', 'traite', 'pelleteries', 'commerce', 'ordres', 'clergé', 'noblesse', 'tiers', 'furent', 'importés', 'vieille', 'france', 'nouvelle', 'seule', 'chose', 'colons', 'laissèrent', 'tome', 'ii', 'page', 'fut', 'misère', 'grand', 'bre', 'système', 'époque', 'cipe', 'ordre', 'hiérarchie', 'présidait', 'seule', 'forme', 'possible', 'barmonie', 'caractère', 'peuple', 'atteste', 'régime', 'anglais', 'rants', 'changé', 'canada', 'fleuri', 'population', 'multipliée', 'sein', 'douce', 'aisance', 'serait', 'serait', 'fondé', 'prétendre', 'progrès', 'canada', 'réalisés', 'dépit', 'mode', 'colonisation', 'discussion', 'aisée', 'terminer', 'cas', 'système', 'primitif', 'onéreux', 'subsiste', 'intact', 'population', 'plaint', 'redevances', 'seigneuriales', 'dîme', 'droit', 'mouture', 'four', 'banal', 'lement', 'pleine', 'vigueur', 'chose', 'incroyable', 'figure', 'interminable', 'liste', 'griefs', 'récemment', 'dressée', 'canadiens', 'régime', 'gouverne', 'france', 'seigneurs', 'vassaux', 'dîme', 'ordres', 'abolis', 'royauté', 'absolue', 'avons', 'gouvernement', 'têtes', 'dispose', 'sources', 'autrement', 'inépuisables', 'moyens', 'action', 'autrement', 'énergiques', 'pouvoir', 'central', 'seul', 'subsiste', 'faire', 'intervenir', 'direction', 'autrefois', 'royauté', 'ordres', 'imposèrent', 'fonderons', 'colonie', 'alger', 'ailleurs', 'gouvernement', 'charge', 'rema', 'plir', 'modifications', 'exigées', 'progrès', 'temps', 'circonstances', 'rôle', 'jouèrent', 'canada', 'noblesse', 'clergé', 'temps', 'doute', 'gouvernement', 'veut', 'ser', 'rechercher', 'concours', 'capitalistes', 'méprendrait', 'attendait', 'vement', 'alger', 'grands', 'efforts', 'grands', 'résultats', 'compagnies', 'avancés', 'louis', 'xiv', 'cherche', 'vainement', 'france', 'chose', 'puisse', 'comparé', 'compagnies', 'indes', 'veux', 'faire', 'métier', 'prophète', 'core', 'prophète', 'malheur', 'ailleurs', 'distance', 'alger', 'dois', 'parler', 'extrême', 'réserve', 'persuadé', 'système', 'laisser', 'faire', 'faire', 'adopté', 'nement', 'sommes', 'chemin', 'implanter', 'population', 'française', 'pourtant', 'jusà', 'ait', 'çais', 'domination', 'éphémère', 'vote', 'inopiné', 'chambres', 'caprice', 'ministériel', 'bruit', 'guerre', 'pis', 'siècle', 'positif', 'alger', 'coûtera', 'retour', 'complétement', 'verse', 'alger', 'système', 'émigrations', 'individuelles', 'petit', 'nombre', 'exceptions', 'rebut', 'grandes', 'villes', 'drait', 'fleur', 'campagnes', 'ateliers', 'jeunes', 'cultivateurs', 'robustes', 'ouvriers', 'mousquet', 'main', 'gloire', 'armées', 'auraient', 'volonté', 'emparer', 'sol', 'comine', 'empare', 'civilisation', 'culture', 'vail', 'déplaceront', 'aller', 'asseoir', 'domination', 'française', 'sol', 'afrique', 'lorsun', 'gouvernement', 'éclairé', 'appellera', 'vaguement', 'vement', 'conduira', 'installera', 'luiu', 'ans', 'milliers', 'soldats', 'quittent', 'régence', 'régence', 'rentrer', 'foyers', 'redevenir', 'vriers', 'paysans', 'fortune', 'alger', 'pouvait', 'retenir', 'voulaient', 'retourner', 'venus', 'france', 'prendre', 'femme', 'ambition', 'arriver', 'propriété', 'homme', 'possédé', 'serait', 'impossible', 'dre', 'donnant', 'terres', 'outils', 'sonnettes', 'armée', 'aurait', 'bâties', 'distribués', 'grandes', 'fermes', 'villages', 'autour', 'aurait', 'champ', 'besoin', 'protégerait', 'ble', 'blockhaus', 'formeraient', 'noyau', 'population', 'française', 'viendrait', 'bientôt', 'grossir', 'existence', 'enbardirait', 'compagnies', 'ter', 'enfin', 'entreprises', 'sérieuses', 'sait', 'fusil', 'uniforme', 'constitueraient', 'milice', 'aguerrie', 'craindrait', 'douins', 'bédouins', 'redouteraient', 'pourrait', 'trouver', 'mauvais', 'alger', 'conquis', 'armée', 'devint', 'patrimoine', 'dats', 'payé', 'alger', 'prix', 'lers', 'américains', 'acheté', 'ouest', 'sang', 'michel', 'chevalier', 'induction', 'résolu', 'problème', 'posé', 'général', 'létang', 'canada', 'seul', 'établissement', 'ayons', 'fondé', 'esclaves', 'prospéré', 'remarquons', 'également', 'terres', 'loin', 'vendues', 'largement', 'distribuées', 'faut', 'procéder', 'retard', 'accomplissement', 'æuvre', 'afrique', 'toutefois', 'égard', 'modifications', 'apportées', 'social', 'france', 'espagnols', 'trouvé', 'canada', 'circonstance', 'renferme', 'étymologie', 'nom', 'voyant', 'frimas', 'doot', 'contrée', 'couverte', 'rétrogradèrent', 'disani', 'canada', 'territoire', 'algérien', 'terriministration', 'france', 'loi', 'proclame', 'réunion', 'faut', 'réunir', 'territoire', 'algérien', 'propre', 'toire', 'français', 'décrète', 'immédiatement', 'formation', 'départements', 'mitidja', 'alger', 'seybouse', 'bone', 'limites', 'littoral', 'routes', 'ceinture', 'mentionnées', 'chapitre', 'iv', 'département', 'pourvu', 'adopter', 'administration', 'identiquement', 'semblable', 'partementalu', 'partements', 'france', 'centralisation', 'paris', 'scindons', 'également', 'pouvoir', 'militaire', 'scinder', 'créons', 'divisions', 'indépendantes', 'milita', 'départements', 'précités', 'chefs', 'exclusivement', 'chargés', 'conquéte', 'successive', 'territoire', 'système', 'indiqué', 'chapitre', 'iv', 'toutefois', 'intériliction', 'formelle', 'porter', 'guerre', 'extérieur', 'lignes', 'fórnions', 'oran', 'place', 'guerre', 'devienne', 'vrai', 'gibraltar', 'méditerranée', 'vraie', 'cour', 'royale', 'créée', 'alger', 'créer', 'vraie', 'justice', 'cesse', 'enfin', 'détre', 'jouet', 'tions', 'vain', 'objecterait', 'exemple', 'canada', 'utilement', 'suivi', 'budgets', 'dépenses', 'dépassaient', 'infiniment', 'recettes', 'alger', 'conçoit', 'système', 'financier', 'xvirsiècle', 'altributions', 'cour', 'royalc', 'pouvait', 'attendre', 'revenus', 'réels', 'colonie', 'serà', 'certainement', 'mênie', 'alger', 'organisation', 'départementale', 'amène', 'forcément', 'obtenir', 'alger', 'ressources', 'départements', 'france', 'époque', 'rapprochée', 'ans', 'millions', 'an', 'millions', 'babitants', 'pourra', 'installer', 'doute', 'cas', 'exceptionnels', 'pays', 'créer', 'motiveront', 'dispositions', 'exceptionnelles', 'temporaires', 'cesseront', 'rentré', 'normal', 'question', 'afrique', 'paraît', 'susceptible', 'sens', 'progrès', 'intérêt', 'france', 'solution', 'occupé', 'détail', 'temps', 'faire', 'entrer', 'ligne', 'bases', 'fondamentales', 'empire', 'fondées', 'continent', 'déclaration', 'réunion', 'déclarer', 'rie', 'france', 'serait', 'immense', 'confiance', 'soumettront', 'arabes', 'serait', 'détruite', 'acquerraient', 'convicloyoos', 'français', 'tion', 'voulons', 'rester', 'maîtres', 'reste', 'soumettre', 'autrefois', 'rome', 'grandi', 'accordant', 'titre', 'citoyen', 'romain', 'peuples', 'vaincus', 'imitons', 'grande', 'politique', 'offrons', 'naturalisation', 'indigènes', 'accepteront', 'domination', 'politique', 'étroite', 'craintive', 'venait', 'mettre', 'entraves', 'vues', 'dignes', 'grandeur', 'arabes', 'france', 'nation', 'fasse', 'comprendre', 'hommes', 'cabinet', 'actuels', 'basses', 'puériles', 'combinaisons', 'dévoilées', 'publication', 'correspondances', 'lasse', 'terre', 'terre', 'énerve', 'forces', 'restons', 'armés', 'terre', 'mer', 'étranger', 'affichait', 'insolentes', 'prétentions', 'nation', 'millions', 'hommes', 'point', 'maîtres', 'europe', 'aloe', 'web', 'stred', 'temps', 'viendra', 'employer', 'utilement', 'ardeur', 'troupes', 'usons', 'afrique', 'profit', 'personnages', 'naîtra', 'occasion', 'déployer', 'génie', 'jusà', 'présent', 'voda', 'voulu', 'porter', 'atteinte', 'dignité', 'armée', 'crois', 'relevée', 'prouvant', 'moment', 'ambitieux', 'ajouter', 'pages', 'significatives', 'espère', 'porteront', 'conviction', 'hommes', 'veulent', 'gloire', 'grandeur', 'france', 'fin', 'appendice', 'ressources', 'chevaux', 'moyen', 'remédier', 'pertes', 'avons', 'éprouvées', 'point', 'prohibitions', 'faut', 'attribuer', 'difficultés', 'éprouvons', 'remonter', 'cavalerie', 'décroissement', 'rapide', 'nombre', 'chevaux', 'algérie', 'chiffres', 'fourniront', 'preuve', 'assertion', 'régiments', 'chasseurs', 'afrique', 'dépassent', 'chevaux', 'pourtant', 'régiment', 'actuellement', 'chevaux', 'valides', 'pouvant', 'faire', 'service', 'consommation', 'réginients', 'chevaux', 'spahis', 'provinces', 'officiers', 'troupe', 'trains', 'équipages', 'parcs', 'colons', 'civils', 'charreliers', 'loueurs', 'chevaux', 'arabes', 'ennemis', 'guerroyant', 'ans', 'total', 'chevaux', 'évaluant', 'consommation', 'minimum', 'chevaux', 'presque', 'disparus', 'solde', 'algérie', 'ans', 'espèce', 'chevaline', 'facile', 'reproduire', 'élever', 'espèce', 'bovine', 'arabes', 'bæuſ', 'mauvais', 'trouve', 'acheteur', 'cheval', 'vendu', 'taille', 'ques', 'qualités', 'trouvé', 'avantages', 'multiplier', 'ailleurs', 'incapables', 'donner', 'industrie', 'soins', 'demande', 'produire', 'sujets', 'resteraient', 'préféré', 'abstenir', 'parfois', 'rencontré', 'cheval', 'distinction', 'remontes', 'hasard', 'intelligence', 'chevaux', 'obligé', 'envoyer', 'france', 'morts', 'ailleurs', 'adopter', 'thode', 'do', 'remonter', 'france', 'régiments', 'afrique', 'chevaux', 'transports', 'fort', 'dispendieux', 'moyens', 'prompts', 'efficaces', 'faut', 'employer', 'suppléer', 'pertos', 'créer', 'ressources', 'avenir', 'proposerons', 'création', 'haras', 'afrique', 'calle', 'offre', 'terrain', 'immense', 'admirablement', 'approprié', 'établissement', 'forêts', 'prairies', 'pelites', 'montagnes', 'enfin', 'favoriser', 'progrès', 'lacs', 'langues', 'terre', 'faciles', 'barricader', 'cernent', 'mer', 'terrain', 'lieues', 'carrées', 'surface', 'forêts', 'trouverait', 'abondance', 'bois', 'nécessaire', 'faire', 'abris', 'juments', 'pourrait', 'acheter', 'pays', 'autant', 'mieux', 'avons', 'usé', 'jusici', 'étalons', 'presque', 'sang', 'malgró', 'abatardissement', 'doute', 'race', 'conservequelque', 'distinction', 'faudrait', 'faire', 'venir', 'franco', 'étalons', 'grandir', 'espèce', 'générale', 'ment', 'chétive', 'cause', 'do', 'parcimonie', 'orge', 'distribuée', 'jeunes', 'poulains', 'cause', 'travaux', 'soumis', 'acquis', 'développement', 'bout', 'ans', 'aurait', 'déjà', 'poulains', 'ct', 'ans', 'année', 'production', 'rait', 'chevaux', 'quantité', 'suffisante', 'remonter', 'régiments', 'propager', 'bonne', 'race', 'colonie', 'dépenses', 'premières', 'achat', 'juments', 'étalons', 'iraient', 'francs', 'juments', 'codtant', 'fr', 'étalons', 'raison', 'total', 'serait', 'nécessaire', 'fournir', 'nourriture', 'mois', 'immenses', 'prairies', 'situées', 'terrain', 'calle', 'suffiraient', 'pâturages', 'foin', 'orge', 'seraient', 'également', 'produits', 'récoltés', 'lieux', 'millions', 'commencerait', 'établissement', 'matériaux', 'trouvant', 'abondance', 'presque', 'frais', 'bâtiments', 'écuries', 'serait', 'embarrassé', 'produits', 'juments', 'nullement', 'régiments', 'numéros', 'pairs', 'seraient', 'montes', 'numéros', 'impairs', 'auraient', 'chevaux', 'point', 'prouvé', 'cas', 'tration', 'impossible', 'afrique', 'corps', 'existe', 'quinzaine', 'chovaux', 'hongres', 'service', 'arrcions', 'réflexions', 'veut', 'véritablement', 'chevaux', 'afrique', 'établissement', 'cst', 'indispensable', 'améliorer', 'race', 'réparer', 'consommation', 'avons', 'faite', 'prévoir', 'manquera', 'totalement', 'pin', 'appendice', 'note', 'ports', 'algérie', 'calle', 'établissement', 'maritime', 'susceptible', 'avenir', 'bâtiments', 'vapeur', 'approcher', 'mer', 'caline', 'crique', 'décorer', 'nom', 'port', 'reçoit', 'bateaux', 'corailleurs', 'gros', 'temps', 'tirés', 'ierre', 'pêcheurs', 'aujourhui', 'corailleurs', 'quitté', 'parages', 'calle', 'accommoder', 'régime', 'militaire', 'règne', 'bóne', 'port', 'hiver', 'arrive', 'sinistres', 'voulait', 'utiliser', 'rivière', 'sey', 'bouse', 'jette', 'mer', 'mètres', 'ville', 'pourrait', 'abriter', 'navires', 'commerce', 'tonnage', 'considérable', 'seybouse', 'baignait', 'autrefois', 'murs', 'alippone', 'voit', 'rive', 'gaucho', 'fragments', 'quais', 'mètres', 'largeur', 'mètres', 'profondeur', 'dimensions', 'existent', 'mètres', 'embouchure', 'barro', 'sable', 'mouvant', 'cn', 'obstrueentréc', 'brick', 'ruré', 'fit', 'naufrage', 'bône', 'coula', 'fond', 'entrée', 'rivière', 'mètres', 'rivage', 'années', 'suivirent', 'barre', 'embouchure', 'fut', 'détruite', 'navires', 'pu', 'ront', 'pénétrer', 'sables', 'cessé', 'agglomérer', 'autour', 'carcasse', 'brick', 'barre', 'reformée', 'entrée', 'nouveau', 'obstruée', 'remarquer', 'trouve', 'seybouse', 'banc', 'galet', 'barre', 'compose', 'sable', 'mou', 'vant', 'délayé', 'légers', 'navires', 'traverser', 'croit', 'bateau', 'dragueur', 'suffirait', 'détruire', 'celte', 'barre', 'sable', 'pensons', 'moyen', 'suffise', 'suggéré', 'examen', 'approfondi', 'localités', 'remonte', 'courant', 'do', 'seybouse', 'jusà', 'bouquet', 'bois', 'appelé', 'oasis', 'remarque', 'terrain', 'élève', 'insensiblement', 'rivière', 'encaisse', 'co', 'point', 'mètres', 'embouchure', 'encaissement', 'mètres', 'partir', 'endroit', 'élevait', 'rive', 'jusà', 'embouchure', 'servant', 'digues', 'construisit', 'entrée', 'rivière', 'écluse', 'chasse', 'évident', 'pourrait', 'élever', 'viveau', 'seybouse', 'mètres', 'obtenir', 'volonté', 'masse', 'millions', 'mètres', 'cubes', 'eau', 'lâcher', 'nettoyer', 'chenal', 'débarrer', 'entrée', 'port', 'écluse', 'pourrait', 'portes', 'donner', 'enirée', 'navire', 'obligé', 'abaisser', 'niveau', 'port', 'mer', 'travail', 'parait', 'gigantesque', 'pourrait', 'exécuter', 'temps', 'frais', 'pense', 'digues', 'auraient', 'mètres', 'base', 'mètres', 'hauteur', 'talus', 'hauteur', 'prolongées', 'mèires', 'embouchure', 'donneraient', 'massif', 'lolal', 'mètres', 'cubes', 'terres', 'foricment', 'lassées', 'supposant', 'hoipmes', 'placent', 'tassent', 'mètre', 'cube', 'terre', 'jour', 'faudrait', 'faire', 'digue', 'entière', 'jour', 'jours', 'mois', 'payant', 'soldats', 'employés', 'travail', 'raison', 'centimes', 'homme', 'jour', 'œuvre', 'coûtera', 'doublons', 'point', 'dépenses', 'imprévues', 'lo', 'travail', 'encaissement', 'seybouse', 'coûtera', 'francs', 'aurait', 'compter', 'sommes', 'nécessaires', 'construction', 'écluse', 'dépense', 'coup', 'dépassera', 'joịnis', 'fr', 'mentionnés', 'donneront', 'total', 'fr', 'faire', 'port', 'seybouse', 'aurait', 'déplorer', 'sinistres', 'lieu', 'année', 'rade', 'foraine', 'bone', 'usines', 'pourraient', 'établies', 'long', 'digues', 'seybouse', 'ville', 'hippone', 'relèverait', 'enchantement', 'deviendrait', 'cenưre', 'commerce', 'province', 'régence', 'tunis', 'nayires', 'facilenient', 'arriver', 'province', 'belle', 'fertile', 'peuplerait', 'rapidement', 'deviendrait', 'source', 'richesses', 'établissements', 'afrique', 'port', 'militaire', 'marine', 'etat', 'resterait', 'fort', 'génois', 'navires', 'sûreté', 'faudrait', 'faire', 'jetée', 'établir', 'batteries', 'delys', 'jamais', 'crique', 'fréquentée', 'caboteurs', 'obligés', 'tirer', 'navires', 'terre', 'lors', 'tempête', 'question', 'port', 'alger', 'pendante', 'paris', 'deyant', 'exigences', 'politiques', 'ose', 'braver', 'questions', 'auteurs', 'projets', 'attendant', 'travaux', 'mole', 'marché', 'cherchell', 'tenez', 'mostaganem', 'offrent', 'guère', 'ressources', 'maritimes', 'delys', 'suffira', 'construire', 'débarcadères', 'faciliter', 'déchargement', 'chargement', 'petits', 'navires', 'seuls', 'fréquenter', 'ports', 'arsew', 'offre', 'mouillage', 'point', 'eaux', 'potables', 'recherche', 'source', 'abondante', 'points', 'stratégiques', 'im', 'portants', 'méditerranée', 'faut', 'rendre', 'gnable', 'vrai', 'gardien', 'entrée', 'mer', 'el', 'guerre', 'maritime', 'sentinelle', 'avancée', 'avertirait', 'escadres', 'toulon', 'alger', 'mahon', 'apparition', 'ennemi', 'lignes', 'palma', 'alger', 'mahon', 'toulon', 'gigelli', 'ajaccio', 'triple', 'obstacle', 'franchir', 'ennemi', 'présenterait', 'entrée', 'détroit', 'gibraltar', 'côté', 'orient', 'prétendu', 'lignes', 'mahon', 'alger', 'toulon', 'gigelly', 'ajaccio', 'imaginaires', 'présentent', 'obstacles', 'matériels', 'å', 'franchir', 'réfléchi', 'navigation', 'militaire', 'stérile', 'protége', 'commerce', 'marine', 'militaire', 'anglaiso', 'avons', 'intérêt', 'arrêter', 'commerce', 'or', 'corsaires', 'refuges', 'palma', 'mahon', 'alger', 'ajaccio', 'bougie', 'gigelly', 'bône', 'rendront', 'méditerranée', 'impraticable', 'navire', 'marchand', 'anglais', 'flottes', 'angleterre', 'essaierait', 'placer', 'diterranée', 'pourrait', 'atteindre', 'facilement', 'croiseurs', 'également', 'prétendu', 'inutile', 'faire', 'port', 'alger', 'flotte', 'viendrait', 'détruire', 'vaisseaux', 'port', 'moyen', 'feux', 'coarbes', 'facilité', 'éloigner', 'flottes', 'ennemies', 'moyen', 'anglais', 'essaieront', 'venir', 'débarquer', 'afrique', 'hâlons', 'trouveront', 'beyrou', 'pouvons', 'séparer', 'baleares', 'système', 'maritime', 'luut', 'tot', 'tard', 'appartiennent', 'france', 'note', 'fournie', 'tripier', 'pharmacien', 'major', 'chargé', 'direction', 'pharmacie', 'centrale', 'alger', 'invasion', 'romaine', 'jusà', 'occupation', 'armée', 'destruction', 'accompagne', 'guerre', 'spoliation', 'suit', 'conquêle', 'ontelles', 'désolé', 'sol', 'africain', 'voyons', 'régner', 'éternellement', 'sorte', 'exploitation', 'pillarde', 'régime', 'turc', 'faisait', 'entretenir', 'arts', 'établir', 'prendre', 'racine', 'terre', 'dévolue', 'occupant', 'intérêt', 'dépouiller', 'dépossédé', 'agriculture', 'appréciée', 'produits', 'immédiatement', 'réalisables', 'fut', 'entretenue', 'nécessité', 'existence', 'hommes', 'charruc', 'sortit', 'autrefois', 'mains', 'cultivateur', 'trace', 'imparfaits', 'sillons', 'nature', 'produisit', 'combustible', 'fallait', 'ciel', 'brûlant', 'satisfaire', 'besoins', 'espèce', 'humaine', 'privée', 'industrie', 'lieu', 'entretenir', 'végétation', 'arbres', 'incendiait', 'forêts', 'naissantes', 'prétexte', 'détruire', 'insectes', 'reptiles', 'procurer', 'bois', 'sec', 'liges', 'troncs', 'échappé', 'combustion', 'totale', 'établir', 'culture', 'facile', 'pâturages', 'commodes', 'sol', 'envahi', 'buissons', 'impénétrables', 'forêts', 'vouées', 'destruction', 'partout', 'homme', 'allait', 'établir', 'fourni', 'aliment', 'industrie', 'élément', 'indispensable', 'reculées', 'marais', 'calle', 'montagnes', 'accessibles', 'territoire', 'bougie', 'bibans', 'chafne', 'domine', 'loin', 'plage', 'maritime', 'arrelons', 'restes', 'grande', 'végétation', 'faudrait', 'rappeler', 'consolider', 'vaste', 'échelle', 'véritable', 'source', 'prospérité', 'future', 'source', 'conde', 'industries', 'créatrices', 'agriculture', 'tiennent', 'main', 'habitants', 'afrique', 'réduisirent', 'autrefois', 'métaux', 'localités', 'combustible', 'élant', 'devenu', 'rare', 'cessèrent', 'produire', 'commerce', 'offrit', 'peine', 'meilleur', 'compte', 'métallurgie', 'éleignit', 'barbarie', 'laisser', 'traces', 'existence'], ['table', 'secs', 'tapés', 'idem', 'fruits', 'oléagineux', 'idem', 'tabacs', 'feuilles', 'côtes', 'idem', 'sandaraque', 'sucs', 'résineux', 'idem', 'huile', 'olive', 'idem', 'racines', 'idem', 'matières', 'espèces', 'médicinales', 'feuilles', 'écorces', 'idem', 'végétales', 'idem', 'fleurs', 'idem', 'liége', 'brut', 'idem', 'coton', 'laine', 'idem', 'végétaux', 'filamenteux', 'idem', 'écorce', 'tan', 'idem', 'lichens', 'tinctoriaux', 'idem', 'four', 'rages', 'idem', 'drilles', 'matières', 'terres', 'savonneuses', 'kilog', 'minérales', 'minerais', 'idem', 'kermès', 'én', 'grains', 'idem', 'fabrications', 'objets', 'collection', 'commerce', 'articles', 'chaux', 'pierres', 'calcinées', 'idem', 'di', 'total', 'premiers', 'mois', 'correspondants', 'année', 'noins', 'résultat', 'comparaison', 'premiers', 'mois', 'marchandises', 'origine', 'française', 'étrangère', 'suite', 'précédent', 'résultat', 'année', 'entière', 'premiers', 'mois', 'premiers', 'mois', 'désignation', 'marchandises', 'unités', 'quantités', 'valeurs', 'quantités', 'valeurs', 'quantités', 'valeurs', 'diminutation', 'tion', 'fr', 'fr', 'fr', 'fr', 'fr', 'marchandises', 'origine', 'française', 'étrangère', 'hectol', 'kilog', 'idem', 'idem', 'kilog', 'idem', 'hectol', 'kilog', 'idem', 'idem', 'idem', 'grains', 'céréales', 'farines', 'légumes', 'secs', 'tabacs', 'feuilles', 'côtes', 'bois', 'construction', 'métaux', 'fer', 'cuivre', 'plomb', 'cigares', 'tabacs', 'fabriqués', 'boissons', 'poteries', 'verres', 'cristaux', 'chanyre', 'lin', 'laine', 'tissus', 'soie', 'coton', 'ouvrages', 'mélaux', 'coutellerie', 'mercerie', 'ouvrages', 'bois', 'linge', 'habillement', 'articles', 'ii', 'ii', 'kilog', 'idem', 'idem', 'kilog', 'it', 'total', 'premiers', 'mois', 'correspondants', 'année', 'résultat', 'comparaison', 'premiers', 'mois', 'eo', 'moios', 'récapitulation', 'exportations', 'année', 'entière', 'neup', 'premiers', 'mois', 'premiers', 'mois', 'produits', 'cru', 'pays', 'marchandises', 'origine', 'française', 'étrangère', 'total', 'total', 'premiers', 'mois', 'correspondants', 'année', 'résultat', 'comparaison', 'premiers', 'mois', 'chapitre', 'vi', 'contributions', 'service', 'contributions', 'prend', 'jour', 'accroissement', 'considérable', 'attributions', 'assiette', 'perception', 'produit', 'savoir', 'poudres', 'feu', 'patentes', 'poids', 'mesures', 'º', 'contributions', 'arabes', 'octroi', 'terre', 'droits', 'place', 'droits', 'stationnement', 'mesurage', 'huiles', 'céréales', 'gº', 'abattoirs', 'poids', 'public', 'licences', 'recettes', 'accidentelles', 'surveillance', 'essayeurs', 'matières', 'or', 'argent', 'produits', 'généraux', 'service', 'contributions', 'tableau', 'donne', 'résumé', 'produits', 'constatés', 'service', 'contributions', 'constate', 'augmentation', 'successive', 'produit', 'comparativement', 'année', 'précédente', 'augmentation', 'recettes', 'produits', 'réalisés', 'augmentation', 'go', 'revenus', 'dépassent', 'enfin', 'surpassent', 'somme', 'fr', 'période', 'années', 'recettes', 'obtenues', 'service', 'contributions', 'suivent', 'progression', 'ascendante', 'constamment', 'rapport', 'développement', 'intérêts', 'rattachent', 'accroissement', 'population', 'mouvement', 'affaires', 'chiffre', 'population', 'civile', 'algérie', 'élevé', 'proportion', 'espace', 'temps', 'recettes', 'opérées', 'soins', 'service', 'contributions', 'presque', 'sextuplé', 'puiselles', 'fr', 'évaluées', 'fr', 'algérie', 'situation', 'produits', 'généraux', 'service', 'contributions', 'revenus', 'trésor', 'contributions', 'anexdes', 'total', 'tions', 'général', 'droits', 'produit', 'timbre', 'produit', 'nage', 'confisdes', 'années', 'vente', 'garantie', 'matières', 'or', 'vérification', 'amendes', 'total', 'patentes', 'produits', 'licences', 'ditions', 'total', 'revenus', 'redevances', 'octrois', 'marchés', 'contributions', 'abattoirs', 'payées', 'poids', 'public', 'arabes', 'ment', 'créances', 'poursuivies', 'requête', 'agent', 'judiciaire', 'recettes', 'poids', 'colonces', 'confiscaou', 'poudres', 'feu', 'mesures', 'tions', 'argent', 'quittances', 'fr', 'fr', 'fr', 'fr', 'fr', 'fr', 'fr', 'fr', 'fr', 'fr', 'fr', 'poudres', 'feu', 'ordonnance', 'royale', 'septembre', 'règle', 'dispositions', 'relatives', 'fabrication', 'importation', 'vente', 'cirtulation', 'poudres', 'feu', 'algérie', 'ordonnance', 'porte', 'création', 'entrepôt', 'province', 'débits', 'pu', 'faute', 'locaux', 'convenables', 'recevoir', 'entière', 'exécution', 'concerne', 'entrepôts', 'établir', 'philippeville', 'oran', 'alger', 'création', 'date', 'déjà', 'pourvu', 'seul', 'besoins', 'consommation', 'année', 'lieu', 'espérer', 'grande', 'augmentation', 'nature', 'produits', 'entrepôts', 'susindiqués', 'installés', 'incomplète', 'organisation', 'service', 'vente', 'poudres', 'feu', 'élevée', 'kilogrammes', 'produit', 'somme', 'francs', 'supérieure', 'oſo', 'réalisée', 'sommaire', 'produit', 'vente', 'poudres', 'feu', 'algérie', 'quantités', 'années', 'poudres', 'produit', 'observations', 'vendues', 'développement', 'nature', 'quantités', 'poudres', 'débitées', 'produit', 'débite', 'comparés', 'résultats', 'débite', 'débit', 'année', 'débit', 'comparaison', 'désignation', 'espèces', 'quantités', 'roduit', 'tités', 'prix', 'produit', 'tités', 'produit', 'kil', 'fr', 'fr', 'kil', 'fr', 'kil', 'kil', 'fr', 'fr', 'poudres', 'commerce', 'extérieur', 'débitants', 'poudre', 'consommateurs', 'manquants', 'li', 'débitants', 'fine', 'consommateurs', 'manquants', 'débitants', 'produit', 'vente', 'poudres', 'feu', 'superfine', 'poudres', 'chasse', 'consommateurs', 'manquants', 'débitants', 'royale', 'consommateurs', 'manquants', 'prix', 'colis', 'débitants', 'manquants', 'recettes', 'extraordinaires', 'totaux', 'résultats', 'patentes', 'impôt', 'patentes', 'représente', 'seul', 'algérie', 'france', 'constitue', 'impôt', 'direct', 'impôt', 'régi', 'arrêté', 'décembre', 'répondait', 'besoins', 'catégories', 'devenues', 'souvent', 'inapplicables', 'nouvelle', 'législation', 'basée', 'dispositions', 'loi', 'française', 'avril', 'établie', 'ordonnance', 'royale', 'date', 'janvier', 'population', 'civile', 'habitants', 'recensé', 'patentables', 'payé', 'somme', 'fr', 'population', 'augmenté', 'âmes', 'augmentation', 'produit', 'patentes', 'produit', 'impôt', 'élevé', 'proportion', 'différence', 'résultats', 'sembleraient', 'devoir', 'harmonie', 'due', 'accroissement', 'extraordinaire', 'survenu', 'locative', 'immeubles', 'occupés', 'patentables', 'estimée', 'somme', 'totale', 'fr', 'présente', 'augmentation', 'fr', 'remarquer', 'droit', 'proportionnel', 'tiers', 'patentes', 'délivrées', 'régime', 'arrêté', 'décembre', 'concerne', 'industries', 'classées', 'arrêté', 'classe', 'affranchies', 'droit', 'proportionnel', 'ordre', 'choses', 'profondément', 'modifié', 'ordonnance', 'royale', 'janvier', 'centimes', 'additionnels', 'perçus', 'villes', 'alger', 'philippeville', 'oran', 'seules', 'trouvent', 'constituées', 'chambres', 'commerce', 'centimes', 'produit', 'fr', 'oi', 'service', 'patentes', 'donne', 'province', 'résultats', 'suivants', 'sommaire', 'population', 'nombre', 'patentables', 'produits', 'constatés', 'nombre', 'patentables', 'européens', 'indigènes', 'total', 'produits', 'années', 'tion', 'général', 'civile', 'constatés', 'français', 'total', 'juifs', 'total', 'mans', 'fr', 'ii', 'développement', 'classe', 'nombre', 'patentes', 'délivrées', 'montant', 'droits', 'constatés', 'comparés', 'résultats', 'année', 'nombre', 'patentes', 'locative', 'immeubles', 'occupés', 'patentables', 'droits', 'fixes', 'droits', 'proportionnels', 'centimes', 'additionnels', 'délivrées', 'classes', 'ер', 'fr', 'fr', 'fr', 'fr', 'fr', 'fr', 'fr', 'fr', 'fr', 'fr', 'fr', 'fr', 'fr', 'fr', 'classe', 're', 'classe', 'classe', 'º', 'classe', 'if', 'classe', 'totaqx', 'résultats', 'développement', 'provinces', 'villes', 'nombre', 'patentes', 'délivrées', 'valeurs', 'locatives', 'droits', 'constatés', 'année', 'nombre', 'produits', 'constatés', 'provinces', 'villes', 'locative', 'immeubles', 'occupés', 'patentables', 'patentes', 'droits', 'centimes', 'délivrées', 'droits', 'fixes', 'total', 'proportionnels', 'additionnels', 'fr', 'fr', 'fr', 'fr', 'alger', 'blidah', 'médéah', 'miliana', 'province', 'alger', 'tenès', 'orléansville', 'cherchel', 'bougie', 'dellis', 'totaux', 'setif', 'bône', 'province', 'coxstantine', 'calle', 'philippeville', 'djidjeli', 'guelma', 'totaux', 'orau', 'arzew', 'province', 'oran', 'mostaganem', 'tlemsen', 'mascara', 'totaux', 'récapitulation', 'province', 'province', 'alger', 'province', 'province', 'oran', 'totaux', 'généraux', 'poids', 'mesures', 'service', 'vérification', 'poids', 'mesures', 'constitué', 'ordonnance', 'royale', 'cembre', 'nombre', 'assujettis', 'vérifiés', 'augmentation', 'produit', 'taxe', 'diminution', 'francs', 'comparativement', 'année', 'sommaire', 'produits', 'vérification', 'poids', 'mesures', 'années', 'montant', 'taxe', 'observations', 'opérations', 'relatives', 'vérification', 'poids', 'mesures', 'années', 'nombre', 'nombre', 'assujettis', 'vérifiés', 'montant', 'taxe', 'nombre', 'établissements', 'publics', 'vérifiés', 'titre', 'gratuit', 'instruments', 'saisis', 'provinces', 'an', 'province', 'alger', 'oran', 'totaux', 'résultats', 'développement', 'provinces', 'localité', 'opérations', 'relatives', 'vérification', 'poids', 'mesures', 'année', 'désignation', 'montant', 'établissements', 'publics', 'vérifiés', 'nombre', 'assujettis', 'vérifiés', 'nombre', 'trumexts', 'saisis', 'nombre', 'verbaux', 'contravention', 'observations', 'provinces', 'localités', 'taxe', 'civils', 'militaires', 'province', 'alger', 'alger', 'oran', 'oran', 'misserguin', 'tlemsen', 'camp', 'sig', 'mascara', 'arzew', 'mostaganem', 'totaux', 'ii', 'setif', 'djidjeli', 'bône', 'guelma', 'cercle', 'calle', 'philippeville', 'stora', 'smendou', 'totaux', 'récapitulation', 'province', 'alger', 'oran', 'totaux', 'généraux', 'contributions', 'arabes', 'droits', 'constatés', 'provinces', 'alger', 'oran', 'produits', 'recouvrer', 'élevés', 'å', 'fr', 'province', 'figure', 'seule', 'fr', 'augmentation', 'fr', 'sommaire', 'contributions', 'arabes', 'contributions', 'imposées', 'désignation', 'nombre', 'eussa', 'tokor', 'achour', 'zekkat', 'impôt', 'spécial', 'total', 'tribus', 'considérées', 'unités', 'imposables', 'provinces', 'loyer', 'terres', 'cultivées', 'tribus', 'propriétaires', 'dime', 'céréales', 'impôt', 'bestiaux', 'droit', 'achat', 'grains', 'tell', 'makhzen', 'fr', 'fr', 'fr', 'fr', 'fr', 'fr', 'alger', 'onax', 'totaux', 'développement', 'circonscription', 'commandement', 'contributions', 'arabes', 'désignation', 'contributions', 'imposées', 'total', 'xombre', 'total', 'général', 'eussa', 'agu', 'alik', 'subdivisions', 'hokor', 'aciour', 'zekkat', 'impô', 'spécial', 'makhzen', 'total', 'provinces', 'khalifat', 'kaidat', 'tribus', 'localité', 'cercles', 'lezma', 'province', 'fr', 'fr', 'fr', 'fr', 'fr', 'fr', 'khalifat', 'sebaou', 'tribu', 'idem', 'idem', 'arib', 'cercle', 'alger', 'agbalik', 'khachna', 'tribu', 'idem', 'khechoa', 'idem', 'isser', 'cercle', 'blidah', 'tribus', 'cercle', 'cercle', 'dellis', 'tribus', 'cercle', 'larbâ', 'agbalik', 'laghouat', 'kaidat', 'aghalik', 'sud', 'idem', 'tell', 'idem', 'boghar', 'cercle', 'médéah', 'idem', 'oulad', 'mokhtar', 'idem', 'makhzen', 'médéah', 'aghalik', 'médéah', 'kaidat', 'dira', 'supérieur', 'idem', 'dira', 'inférieur', 'ouled', 'ab', 'tribus', 'désert', 'alger', 'banlieue', 'miliana', 'aghalik', 'hadjout', 'do', 'kebla', 'cerclede', 'miliana', 'aghalik', 'djendel', 'idem', 'braz', 'idem', 'tribus', 'désert', 'cercle', 'alema', 'esnam', 'aghalik', 'ouareosenis', 'viile', 'idem', 'sbéah', 'cercle', 'tenès', 'tribus', 'cercle', 'cercle', 'aghalik', 'chel', 'idem', 'do', 'zatima', 'total', 'province', 'alger', 'reporter', 'développement', 'contributions', 'imposées', 'arabes', 'désignation', 'contributions', 'imposées', 'total', 'xonbre', 'total', 'général', 'subdivisioxs', 'agaliks', 'eussa', 'nokor', 'achour', 'zrkkat', 'impôt', 'spécial', 'makhzen', 'total', 'provixcbs', 'cercles', 'kalifats', 'kaidats', 'tribus', 'localité', 'lezma', 'province', 'fr', 'fr', 'fr', 'fr', 'fr', 'fr', 'fr', 'fr', 'neported', 'total', 'province', 'alger', 'berrania', 'djemila', 'ferdjioua', 'milah', 'ville', 'mouia', 'cercle', 'constantinc', 'segoia', 'belezma', 'zmoul', 'zenatia', 'zerdeza', 'sellaoua', 'harakta', 'arabes', 'nomades', 'sahari', 'soualia', 'ht', 'cercle', 'batna', 'kaidat', 'batda', 'aurès', 'constan', 'tine', 'cercle', 'biskra', 'contributions', 'guerre', 'kaidat', 'biskra', 'outaia', 'kaidat', 'aurès', 'tribu', 'pouvellement', 'soumise', 'contributions', 'biens', 'melk', 'cercle', 'setif', 'achour', 'biens', 'melk', 'tribus', 'cercle', 'cercle', 'bone', 'tribus', 'cercle', 'edough', 'hanencha', 'cercle', 'guelma', 'cercle', 'calle', 'tribus', 'cercle', 'tribus', 'cercle', 'cərcle', 'philippeville', 'tribus', 'cercle', 'cercle', 'djidjeli', 'tribus', 'cercle', 'totabi', 'oran', 'cercle', 'oran', 'cercle', 'tlemsen', 'cercle', 'mostaganem', 'cercle', 'mascara', 'tribas', 'cercle', 'tribus', 'cercle', 'tribus', 'cercle', 'tribus', 'cercle', 'totaux', 'produits', 'recouvrer', 'contributions', 'arabes', 'restes', 'recouvrer', 'désignation', 'hokor', 'achour', 'amendes', 'prises', 'marchés', 'droits', 'droits', 'eussa', 'produit', 'textes', 'chevaux', 'provenant', 'soumission', 'investiture', 'total', 'bureaux', 'arabes', 'provinces', 'perception', 'lezma', 'zekkat', 'ennemi', 'mariage', 'tions', 'successiox', 'fr', 'fr', 'fr', 'fr', 'fr', 'fr', 'alger', 'blidah', 'médéah', 'miliana', 'orléansville', 'tenés', 'cherchel', 'dellis', 'bougie', 'fr', 'alger', 'fr', 'totaux', 'setif', 'bône', 'guelma', 'calle', 'philippeville', 'djidjeli', 'totaux', 'oran', 'oran', 'mostaganem', 'tlemsen', 'mascara', 'totaux', 'provinces', 'alger', 'oran', 'totaux', 'généraus', 'récapitulation', 'tableau', 'présentant', 'distinctement', 'produits', 'reportés', 'droits', 'constatés', 'titre', 'désignation', 'droits', 'produits', 'total', 'gánéral', 'observations', 'provinces', 'bureaux', 'perceptiox', 'reportés', 'constatés', 'alger', 'blidah', 'médéab', 'miliana', 'orléansville', 'tenés', 'cherchel', 'dellis', 'bougie', 'fr', 'fr', 'alger', 'totaux', 'setif', 'bône', 'guelma', 'calle', 'philippeville', 'djidjeli', 'totaux', 'oran', 'oran', 'mostaganem', 'tlemsen', 'mascara', 'totaui', 'provinces', 'alger', 'oran', 'totaux', 'généraux', 'récapitulation', 'algérie', 'situation', 'comparaison', 'droits', 'constatés', 'désignation', 'comparaison', 'contributions', 'contributions', 'observations', 'bureaux', 'povinces', 'perception', 'fr', 'fr', 'fr', 'alger', 'fr', 'blidah', 'médéah', 'miliana', 'orléansville', 'tenès', 'cherchel', 'dellis', 'bougie', 'alger', 'totaux', 'setif', 'bône', 'guelma', 'calle', 'philippeville', 'totaux', 'oran', 'mostaganem', 'tlemsen', 'mascara', 'oran', 'totaux', 'recapitulation', 'alger', 'provinces', 'oran', 'totaux', 'généraux', 'octroi', 'droits', 'octroi', 'créés', 'ordonnance', 'royale', 'juillet', 'perçus', 'agents', 'service', 'contributions', 'modifiés', 'partir', 'er', 'avril', 'ordonnance', 'royale', 'date', 'décembre', 'précédent', 'perçus', 'soins', 'service', 'douanes', 'voir', 'documents', 'statistiques', 'service', 'marchés', 'existe', 'villes', 'territoires', 'autorité', 'civile', 'établie', 'marchés', 'tableau', 'ciaprès', 'présente', 'détail', 'savoir', 'situation', 'villes', 'xuméros', 'ordre', 'marchés', 'désignation', 'marchés', 'indication', 'produits', 'marchés', 'jours', 'marché', 'régie', 'marchés', 'province', 'alger', 'alger', 'marchés', 'légumes', 'fruits', 'charbon', 'porte', 'extérieurs', 'bestiaux', 'fort', 'légumes', 'fruits', 'place', 'chartres', 'marchés', 'poisson', 'idem', 'intérieurs', 'légumes', 'fruits', 'place', 'fruits', 'rue', 'marine', 'marchés', 'huiles', 'faubourg', 'fermés', 'grains', 'rue', 'marché', 'ouvert', 'marchés', 'européens', 'intérieur', 'ville', 'ouverts', 'indigènes', 'porte', 'marché', 'fermé', 'huiles', 'céréales', 'idem', 'jour', 'idem', 'idem', 'idem', 'idem', 'idem', 'idem', 'idem', 'boufarik', 'lundis', 'jour', 'idem', 'idem', 'blidah', 'province', 'bồne', 'marchés', 'poisson', 'intéricurs', 'légumes', 'marchés', 'fourrages', 'extérieurs', 'bestiaux', 'marchés', 'fermés', 'céréales', 'marchés', 'poisson', 'intérieurs', 'légumes', 'marché', 'extérieur', 'huiles', 'céréales', 'porte', 'idem', 'idem', 'abattoir', 'civil', 'porte', 'jour', 'idem', 'idem', 'idem', 'idem', 'idem', 'idem', 'idem', 'idem', 'idem', 'philippeville', 'place', 'hélène', 'place', 'bugeaud', 'ville', 'province', 'oran', 'oran', 'marchés', 'bestiaux', 'porte', 'marché', 'extérieurs', 'bois', 'charbon', 'fosses', 'ville', 'fruits', 'légumes', 'marchés', 'places', 'napoléon', 'naples', 'kléber', 'idem', 'place', 'bianche', 'intérieurs', 'halle', 'poisson', 'idem', 'halle', 'grains', 'mesurage', 'huiles', 'grains', 'boulevard', 'orléans', 'marchés', 'ouverts', 'esplanade', 'porte', 'mascara', 'marchés', 'céréales', 'place', 'halle', 'jour', 'idem', 'idem', 'idem', 'idem', 'idem', 'mostaganem', 'idem', 'idem', 'marchés', 'ouverts', 'droits', 'perçus', 'mètre', 'carré', 'terrain', 'occupent', 'objets', 'exposés', 'vente', 'droit', 'stationnement', 'existe', 'alger', 'marchés', 'couverts', 'droit', 'mesurage', 'perçu', 'céréales', 'légumes', 'secs', 'huiles', 'vendus', 'marchés', 'boufarik', 'blidah', 'affermés', 'kaïd', 'droits', 'perçus', 'frais', 'tarif', 'déterminé', 'surveillance', 'agents', 'contributions', 'province', 'droits', 'place', 'diminution', 'province', 'alger', 'suite', 'maintien', 'droit', 'stationnement', 'diminution', 'reconnue', 'provinces', 'principalement', 'due', 'circonstances', 'hostilité', 'pays', 'invasion', 'sauterelles', 'sécheresse', 'année', 'appauvri', 'provinces', 'recettes', 'effectuées', 'marchés', 'ouverts', 'année', 'produits', 'marchés', 'régie', 'constatés', 'total', 'désignation', 'espèce', 'xombre', 'quotité', 'marchés', 'droits', 'unités', 'portent', 'droits', 'droits', 'perçus', 'espèce', 'droits', 'ferme', 'fr', 'fr', 'fr', 'fr', 'chameaux', 'tête', 'idem', 'chevaux', 'mules', 'mulets', 'taureaux', 'bæuſs', 'vaches', 'taurillons', 'bouvillons', 'génisses', 'idem', 'porcs', 'idem', 'veaux', 'mois', 'boucs', 'béliers', 'chèvres', 'idem', 'chevreaux', 'moutons', 'brebis', 'agneaux', 'idem', 'anes', 'ânons', 'ânesses', 'idem', 'mètres', 'carrés', 'terrain', 'occupés', 'objets', 'denrées', 'céréales', 'légumes', 'légumes', 'secs', 'huiles', 'marchés', 'mis', 'ferme', 'mètre', 'carré', 'totaux', 'comparaison', 'espèce', 'nombre', 'têtes', 'bétail', 'mètres', 'terrain', 'occupés', 'recettes', 'effectuées', 'produits', 'produits', 'comparaison', 'désignation', 'espèce', 'nombre', 'recettes', 'nombre', 'recettes', 'nombre', 'recettes', 'fr', 'fr', 'fr', 'fr', 'fr', 'fr', 'chameaux', 'chevaux', 'mules', 'mulets', 'taureaux', 'bæufs', 'vaches', 'taurillons', 'bouvillons', 'génisses', 'porc', 'veaux', 'mois', 'boucs', 'béliers', 'chèvres', 'ii', 'chevreaux', 'moutons', 'brebis', 'agneaux', 'anes', 'ânons', 'ânesses', 'mètres', 'carrés', 'terrains', 'occupés', 'objets', 'denrées', 'céréales', 'légumes', 'légumes', 'secs', 'huiles', 'marchés', 'ferme', 'totaux', 'résultats', 'ville', 'recettes', 'effectuées', 'marchés', 'ouverts', 'année', 'comparées', 'année', 'produits', 'produits', 'comparaison', 'marchés', 'régie', 'marchés', 'ex', 'régie', 'droits', 'droits', 'marchés', 'droits', 'total', 'total', 'nombre', 'têtes', 'bétail', 'mètres', 'carrés', 'occupés', 'droits', 'marchés', 'régie', 'villes', 'total', 'droits', 'régie', 'droits', 'marchés', 'marchés', 'droits', 'nombre', 'têtes', 'bétail', 'mètres', 'carrés', 'nombre', 'têtes', 'bétail', 'mètres', 'carrés', 'ferme', 'droits', 'droits', 'perçus', 'perças', 'ferme', 'fr', 'fr', 'fr', 'fr', 'fr', 'fr', 'fr', 'fr', 'fr', 'fr', 'fr', 'fr', 'fr', 'fr', 'province', 'alger', 'alger', 'blidah', 'médéah', 'miliana', 'tenés', 'cherebel', 'orléansville', 'bougie', 'dellis', 'totai', 'résultats', 'pr', 'ince', 'setif', 'bône', 'calle', 'philippeville', 'djidjeli', 'guelma', 'totau', 'résultats', 'province', 'oran', 'oran', 'al', 'arzew', 'mostaganem', 'tiemsen', 'mascara', 'totaux', 'résultats', 'récapitulation', 'province', 'alger', 'oran', 'tot', 'généraux', 'résultats', 'droits', 'mesurage', 'contraire', 'présentent', 'légère', 'augmentation', 'fr', 'mouvements', 'marchés', 'fermés', 'année', 'comparés', 'quantités', 'comparaison', 'désignation', 'matières', 'eiposées', 'vente', 'observations', 'augmentatiox', 'diminution', 'mer', 'terre', 'orge', 'mer', 'terre', 'céréales', 'ii', 'mer', 'terre', 'étranger', 'blé', 'intérieur', 'étranger', 'intérieur', 'étranger', 'maïs', 'intérieur', 'étranger', 'céréales', 'intérieur', 'étranger', 'fèves', 'intérieur', 'étranger', 'haricots', 'intérieur', 'étranger', 'pois', 'intérieur', 'étranger', 'légumes', 'intérieur', 'mer', 'terre', 'mer', 'lerre', 'mer', 'terre', 'légumes', 'secs', 'mer', 'terre', 'mer', 'terre', 'huiles', 'totaux', 'résultats', 'recettes', 'nature', 'deniers', 'effectuées', 'marchés', 'fermés', 'année', 'marchés', 'régie', 'total', 'prélèvements', 'produits', 'constatés', 'marchés', 'gání', 'désignation', 'matières', 'droits', 'quantités', 'mesurées', 'hectolitres', 'nature', 'raison', 'litres', 'hectolitre', 'deniers', 'perçus', 'régie', 'ferme', 'droits', 'quantités', 'quotité', 'droits', 'montant', 'droits', 'fr', 'fr', 'fr', 'blé', 'céréales', 'orge', 'maïs', 'céréales', 'fèves', 'haricots', 'légumes', 'secs', 'pois', 'légumes', 'huiles', 'marchés', 'fermés', 'mis', 'ferme', 'fr', 'fr', 'fr', 'ii', 'totaux', 'comparaison', 'espèce', 'matières', 'mesurées', 'recettes', 'effectuées', 'années', 'produits', 'produits', 'comparaison', 'désignation', 'matières', 'quantités', 'quantités', 'mesurées', 'recettes', 'quantités', 'mesurées', 'recettes', 'recettes', 'mesurées', 'fr', 'fr', 'fr', 'fr', 'blé', 'céréales', 'orge', 'céréales', 'fèves', 'haricots', 'légumes', 'secs', 'pois', 'légumes', 'huiles', 'marchés', 'fermés', 'mis', 'ferme', 'totaux', 'résultats', 'ville', 'recettes', 'effectuées', 'marchés', 'fermés', 'année', 'comparées', 'année', 'produit', 'produit', 'comparaison', 'droits', 'quantités', 'marchés', 'régie', 'droits', 'marchés', 'régie', 'total', 'droits', 'marchés', 'régie', 'droits', 'marchés', 'ferme', 'total', 'droits', 'total', 'villes', 'mesurées', 'marchés', 'marchés', 'droits', 'droits', 'plas', 'quantités', 'mesurées', 'droits', 'quantités', 'mesurées', 'droits', 'perçus', 'ferme', 'perçus', 'ferme', 'kil', 'fr', 'fr', 'fr', 'kil', 'fr', 'fr', 'fr', 'kil', 'kil', 'fr', 'fr', 'fr', 'fr', 'fr', 'province', 'alger', 'alger', 'blidah', 'médéah', 'miliana', 'tenés', 'orléansville', 'cherchel', 'bougie', 'dellis', 'ap', 'totaux', 'resultats', 'province', 'setif', 'it', 'bône', 'calle', 'philippeville', 'djidjeli', 'guelma', 'ht', 'totaux', 'résultats', 'suite', 'précédent', 'produit', 'produit', 'comparaison', 'droits', 'droits', 'droits', 'marchés', 'marchés', 'régie', 'marchés', 'régie', 'quantités', 'mesurées', 'total', 'total', 'droits', 'marchés', 'ferme', 'total', 'droits', 'régie', 'villes', 'marchés', 'marchés', 'droits', 'droits', 'quantités', 'mesurées', 'droits', 'quantités', 'mesurées', 'droits', 'perçus', 'ferme', 'perçus', 'ferme', 'kil', 'fr', 'fr', 'fr', 'ki', 'fr', 'fr', 'fr', 'kil', 'kil', 'fr', 'fr', 'fr', 'fr', 'fr', 'province', 'oran'], ['pointe', 'pescade', 'aqueducs', 'fournissent', 'ensemble', 'mètres', 'cubes', 'eau', 'heures', 'eau', 'alimente', 'fontaines', 'bassins', 'abreuvoirs', 'publics', 'égouts', 'égouts', 'alger', 'servent', 'écoulement', 'eaux', 'pluviales', 'dégorgement', 'latrines', 'maisons', 'particulières', 'pente', 'rapide', 'sol', 'rend', 'écoulement', 'mer', 'prompt', 'facile', 'administration', 'dresser', 'projet', 'égouts', 'but', 'porter', 'port', 'tombent', 'aujourhui', 'infectent', 'air', 'matières', 'fécales', 'eaux', 'ménagères', 'ville', 'alger', 'réalisation', 'projet', 'donnera', 'lieu', 'dépenses', 'considérables', 'intérêt', 'salubrité', 'pllblique', 'permet', 'ajournement', 'principaux', 'travaux', 'exécutés', 'alger', 'service', 'bâtiments', 'civils', 'voirie', 'tableau', 'placé', 'suite', 'présente', 'notice', 'comprendre', 'détails', 'trait', 'travaux', 'entretien', 'construction', 'édifices', 'bâtiments', 'nature', 'réclamés', 'cultes', 'services', 'publics', 'population', 'ville', 'siége', 'haute', 'administration', 'vaste', 'pays', 'foyer', 'commercial', 'afrique', 'nord', 'reçu', 'développement', 'désirable', 'année', 'revanche', 'consacrée', 'étude', 'projets', 'travaux', 'importants', 'exécution', 'lieu', 'poursuivie', 'entreprise', 'travaux', 'appropriation', 'culte', 'catholique', 'ancienne', 'mosquée', 'située', 'rue', 'consacrée', 'invocation', 'édifice', 'religieux', 'suffira', 'célébration', 'office', 'divin', 'durée', 'construction', 'église', 'agrandissement', 'bâtiments', 'affectés', 'direction', 'intérieur', 'travail', 'presque', 'achevé', 'construction', 'bâtiments', 'pépinière', 'centrale', 'projets', 'préparés', 'reçu', 'commencement', 'exécution', 'approuvés', 'principe', 'construction', 'synagogue', 'caravansérail', 'ouverture', 'rue', 'alignements', 'quartiers', 'alger', 'verra', 'suite', 'travaux', 'exécutés', 'localité', 'projets', 'étude', 'faite', 'cours', 'année', 'blidah', 'abattoir', 'travaux', 'commencés', 'derniers', 'jours', 'année', 'achevés', 'etablissement', 'spécialement', 'destiné', 'abattage', 'bestiaux', 'destinés', 'consommation', 'population', 'divisé', 'parties', 'distinctes', 'séparées', 'européens', 'seconde', 'musulmans', 'israélites', 'dépense', 'élevée', 'francs', 'abattoir', 'garnison', 'cimetière', 'cimetière', 'entouré', 'fossés', 'maisonnette', 'construite', 'logement', 'gardien', 'batiments', 'civils', 'pourvu', 'entretien', 'édifices', 'locaux', 'affectés', 'justice', 'paix', 'gendarmerie', 'commissariat', 'civil', 'services', 'publics', 'petite', 'voirie', 'blidah', 'rues', 'empierrées', 'jusà', 'jour', 'continué', 'ouverture', 'commencée', 'rues', 'alger', 'nivellement', 'places', 'marché', 'européen', 'indigène', 'démolition', 'maisons', 'menaçant', 'ruine', 'déblais', 'moindre', 'importance', 'exécutés', 'rues', 'nouvellement', 'percées', 'nécessité', 'entretien', 'constant', 'eaux', 'blidah', 'tire', 'oued', 'eaux', 'nécessaires', 'guerre', 'canal', 'dérivation', 'prenait', 'eaux', 'lit', 'oued', 'conduire', 'ville', 'ouvrage', 'détruit', 'guerre', 'remplacé', 'aqueduc', 'développement', 'mètres', 'débite', 'mètres', 'cubes', 'eau', 'heures', 'pratiqué', 'parcours', 'aqueduc', 'chutes', 'mètres', 'hauteur', 'chacune', 'faciliter', 'établissement', 'usines', 'concession', 'chutes', 'déjà', 'sollicitée', 'industriels', 'répartition', 'mètres', 'cubes', 'eau', 'débités', 'aqueduc', 'blidah', 'mètres', 'cubes', 'fontaines', 'ville', 'blidah', 'idem', 'village', 'joinvillle', 'idem', 'idem', 'montpensier', 'idem', 'fabriques', 'tuiles', 'total', 'reste', 'mètres', 'cubes', 'arroser', 'hectares', 'terres', 'construction', 'aqueduc', 'terminée', 'donné', 'lieu', 'dépense', 'francs', 'réparé', 'mètres', 'courants', 'tuyaux', 'fontaines', 'entretenues', 'pourvues', 'grilles', 'conduits', 'llors', 'ville', 'mètres', 'courants', 'canaux', 'rigoles', 'arrosage', 'partie', 'digue', 'rompue', 'eaux', 'fallu', 'exécuter', 'reprises', 'construire', 'batardeau', 'moment', 'mai', 'construit', 'blidah', 'belle', 'fontaine', 'place', 'temps', 'abreuvoir', 'lavoir', 'couvert', 'porte', 'nom', 'egouts', 'blidah', 'écoulement', 'eaux', 'pluviales', 'ménagères', 'loin', 'opérer', 'facilité', 'matières', 'amassent', 'distance', 'ville', 'répandent', 'exhalaisons', 'infectes', 'remédier', 'inconvénient', 'direction', 'égouts', 'prochainement', 'changée', 'avenir', 'serviront', 'écoulement', 'eaux', 'pluviales', 'ménagères', 'fosses', 'aisances', 'établies', 'maison', 'recevoir', 'matières', 'fécales', 'principaux', 'projets', 'applicables', 'ville', 'rédigés', 'service', 'bâtiments', 'civils', 'concernent', 'construction', 'maison', 'école', 'édifice', 'bâti', 'idem', 'caravanserail', 'destiné', 'appeler', 'marché', 'blidah', 'grand', 'nombre', 'arabes', 'contrées', 'environnantes', 'offrant', 'gite', 'bêtes', 'somme', 'abri', 'marchandises', 'plan', 'devis', 'établissement', 'utilité', 'politique', 'commerciale', 'incontestable', 'déjà', 'reçu', 'sanction', 'ministérielle', 'construction', 'entreprise', 'courant', 'situation', 'crédits', 'permet', 'tard', 'koléah', 'bâtiments', 'civils', 'travaillé', 'installation', 'immeubles', 'domaniaux', 'dų', 'commissariat', 'civil', 'agents', 'dépendent', 'service', 'bâtiments', 'voirie', 'nivellement', 'ville', 'koléah', 'nouveau', 'quartier', 'donnera', 'lieu', 'dépenses', 'considérables', 'situation', 'crédits', 'permet', 'entreprendre', 'présent', 'eaux', 'koléah', 'reçoit', 'mètres', 'cubes', 'eau', 'heures', 'quantité', 'augmentée', 'moyen', 'travaux', 'dispendieux', 'borné', 'entretenir', 'conduites', 'fontaines', 'existantes', 'ouvrages', 'servent', 'écoulement', 'eaux', 'pluviales', 'ménagères', 'entretien', 'donné', 'lieu', 'dépense', 'douéra', 'eglise', 'presbytère', 'jolie', 'église', 'pouvant', 'contenir', 'bâtie', 'cours', 'clocher', 'surmonte', 'prochainement', 'muni', 'horloge', 'desservant', 'commune', 'trouve', 'logement', 'commode', 'presbytère', 'constructions', 'coûté', 'fr', 'population', 'douéra', 'devenue', 'nombreuse', 'ajoutera', 'nef', 'actuelle', 'église', 'bas', 'côtés', 'harmoniseront', 'parfaitement', 'édifice', 'construit', 'ailleurs', 'vue', 'agrandissement', 'petite', 'voirie', 'travaux', 'considérables', 'terrassement', 'nivellement', 'exécutés', 'localité', 'préparer', 'terrains', 'destinés', 'constructions', 'particulières', 'travaux', 'donné', 'lieu', 'dépense', 'totale', 'francs', 'centimes', 'francs', 'imputés', 'budget', 'guerre', 'chapitre', 'xxix', 'francs', 'centimes', 'budget', 'colonial', 'eaur', 'recherche', 'eaux', 'construction', 'conduites', 'fontaines', 'abreuvoirs', 'coûté', 'francs', 'centimes', 'école', 'construite', 'douéra', 'commencement', 'oratoire', 'protestant', 'logement', 'pasteur', 'cure', 'cours', 'exécution', 'boufarik', 'travail', 'exécuté', 'localité', 'borné', 'travaux', 'entretien', 'indispensables', 'année', 'suivante', 'pépinière', 'installée', 'bâtiments', 'militaires', 'ancien', 'camp', 'erlon', 'terrains', 'situés', 'autour', 'camp', 'affectés', 'utile', 'établissement', 'travaux', 'appropriation', 'cultures', 'irrigation', 'donné', 'lieu', 'dépense', 'fr', 'entrepris', 'construction', 'jolie', 'église', 'école', 'logement', 'instituteur', 'édifi', 'achevés', 'fin', 'année', 'algérje', 'situation', 'travaux', 'entretien', 'rues', 'fontaines', 'seuls', 'aient', 'faits', 'salle', 'école', 'évaluée', 'frrancs', 'cours', 'construction', 'mai', 'village', 'déjà', 'pourvu', 'église', 'drariah', 'école', 'construite', 'cressia', 'village', 'doté', 'belle', 'caserne', 'gendarmerie', 'coûté', 'fr', 'merld', 'fontaine', 'monumentale', 'surmontée', 'obélisque', 'versant', 'eau', 'mascarons', 'bronze', 'garnie', 'vasques', 'élevée', 'village', 'consacrer', 'mémoire', 'sergent', 'blandan', 'régiment', 'ligne', 'inscriptions', 'connaître', 'circonstances', 'mort', 'héroïque', 'blandan', 'braves', 'tombés', 'côtés', 'frais', 'élévation', 'simple', 'glorieux', 'monument', 'couverts', 'partie', 'produit', 'souscription', 'spontanément', 'ouverte', 'sein', 'armée', 'afrique', 'partie', 'subvention', 'accordée', 'ministre', 'guerre', 'cherchel', 'direction', 'port', 'bâtiment', 'coûté', 'francs', 'comprend', 'caserne', 'marins', 'magasin', 'matériel', 'logements', 'capitaine', 'port', 'chef', 'marins', 'cour', 'trouvent', 'hangars', 'servant', 'ateliers', 'bâtiments', 'civils', 'effectué', 'installation', 'commissariat', 'civil', 'desservant', 'gendarmerie', 'service', 'bâtiments', 'immeubles', 'domaniaux', 'appropriés', 'petite', 'voirie', 'somme', 'francs', 'consacrée', 'amélioration', 'rues', 'dépense', 'élevée', 'comparativement', 'étendue', 'ville', 'voirie', 'laisse', 'désirer', 'eaux', 'cherchel', 'mieux', 'partagé', 'rapport', 'eaux', 'reçoit', 'mètres', 'cubes', 'heures', 'travaux', 'évalués', 'francs', 'pourrait', 'amener', 'journellement', 'mètres', 'cubes', 'eau', 'potable', 'égouts', 'existant', 'servent', 'écoulement', 'eaux', 'pluviales', 'ménagères', 'devront', 'reconstruits', 'grande', 'partie', 'cimetière', 'entouré', 'fossés', 'maisonnette', 'destinée', 'gardien', 'construite', 'travaux', 'télégraphie', 'ligne', 'télégraphique', 'établie', 'alger', 'miliana', 'stations', 'alger', 'blidah', 'construites', 'service', 'bâtiments', 'civils', 'blidah', 'miliana', 'génie', 'militaire', 'notice', 'spéciale', 'connaître', 'détails', 'travaux', 'dépenses', 'résultant', 'organisation', 'télégraphie', 'algérie', 'travaux', 'colonisation', 'service', 'bâtiments', 'civils', 'construire', 'villages', 'saoula', 'cressia', 'joinville', 'montpensier', 'douaouda', 'achevé', 'enceinte', 'douéra', 'détails', 'relatifs', 'travaux', 'objet', 'compte', 'rendu', 'séparé', 'province', 'oran', 'dit', 'commencement', 'notice', 'service', 'bâtiments', 'civils', 'voirie', 'installé', 'province', 'oran', 'fin', 'pu', 'entreprendre', 'travail', 'cours', 'exercice', 'année', 'consacrée', 'agents', 'envoyés', 'province', 'rédaction', 'projets', 'constructions', 'villes', 'oran', 'mostaganem', 'projets', 'cours', 'réalisation', 'commencement', 'croit', 'utile', 'indiquer', 'donner', 'sollicitude', 'administration', 'étend', 'également', 'localités', 'nouvelle', 'preuve', 'oran', 'église', 'ancienne', 'chapelle', 'espagnole', 'restaurée', 'service', 'ponts', 'chaussées', 'premiers', 'temps', 'conquête', 'tombait', 'ruines', 'suffisait', 'déjà', 'fidèles', 'nombre', 'ville', 'reconstruction', 'agrandissement', 'édifice', 'évalués', 'francs', 'décidés', 'travaux', 'déjà', 'mis', 'adjudication', 'publique', 'terminés', 'courant', 'présente', 'année', 'culte', 'réinstallé', 'office', 'divin', 'provisoirement', 'célébré', 'ancienne', 'mosquée', 'attenant', 'hôpital', 'militaire', 'vient', 'approprié', 'douane', 'service', 'douanes', 'pouvait', 'rester', 'locaux', 'exigus', 'malsains', 'occupait', 'années', 'vaste', 'bâtiment', 'placé', 'position', 'favorable', 'renfermant', 'bureaux', 'magasins', 'hangars', 'logement', 'agents', 'supérieurs', 'caserne', 'préposés', 'pleine', 'construction', 'dépense', 'francs', 'étendue', 'aspect', 'nouvelle', 'douane', 'fera', 'ornement', 'quartier', 'bâtit', 'tribunaux', 'bâtiment', 'moresque', 'tribunaux', 'instance', 'paix', 'installés', 'lors', 'création', 'oran', 'suffisait', 'besoins', 'justice', 'moyen', 'travaux', 'évalués', 'francs', 'bâtiment', 'solidité', 'ailleurs', 'reconnue', 'considérablement', 'agrandi', 'approprié', 'destination', 'travaux', 'poursuivent', 'activité', 'terminés', 'hótel', 'intérieur', 'travaux', 'but', 'restauration', 'agrandissement', 'hôtel', 'pleine', 'exécution', 'mostaganem', 'pépinière', 'travaille', 'bâtiments', 'irrigations', 'cultures', 'établissement', 'somme', 'francs', 'consacrée', 'fontaines', 'compte', 'rendu', 'travaux', 'ponts', 'chaussées', 'indique', 'exécutés', 'mostaganem', 'conduite', 'répartition', 'eaux', 'église', 'office', 'divin', 'provisoirement', 'célébré', 'ancienne', 'mosquée', 'convient', 'rapport', 'culte', 'catholique', 'projet', 'église', 'nouvelle', 'déjà', 'rédigé', 'pourra', 'réalisé', 'situation', 'crédits', 'permet', 'abattoir', 'projet', 'établissement', 'également', 'préparé', 'construction', 'pourra', 'entreprise', 'bone', 'travaux', 'indiqués', 'projets', 'étudiés', 'pleine', 'exécution', 'fin', 'commencement', 'pépinière', 'bâtiments', 'renfermant', 'magasin', 'écurie', 'étable', 'serres', 'logements', 'magnanerie', 'travaux', 'irrigation', 'culture', 'dépense', 'fr', 'hótel', 'intérieur', 'locaux', 'affectés', 'administration', 'tombaient', 'ruine', 'reconstruction', 'complète', 'évaluée', 'francs', 'décidée', 'poursuit', 'activité', 'école', 'établissement', 'compose', 'grande', 'salle', 'étude', 'logement', 'instituteur', 'cour', 'dépendances', 'cours', 'construction', 'dépense', 'francs', 'lazaret', 'locaux', 'reprises', 'restaurés', 'agrandis', 'service', 'ponts', 'chaussées', 'travaux', 'but', 'compléter', 'indispensable', 'établissement', 'réconnus', 'nécessaires', 'service', 'bâtiments', 'civils', 'chargé', 'assurer', 'exécution', 'coûteront', 'francs', 'philippeville', 'eglise', 'obstacles', 'jusà', 'jour', 'opposés', 'église', 'projetée', 'fût', 'construite', 'viennent', 'levés', 'année', 'écoulera', 'philippeville', 'entreprendre', 'édifice', 'réclame', 'instances', 'mosquée', 'tribus', 'fréquentent', 'assidûment', 'marché', 'philippeville', 'exprimé', 'veu', 'petite', 'mosquée', 'fût', 'construite', 'temps', 'offert', 'supporter', 'portion', 'pense', 'paru', 'politique', 'accéder', 'væu', 'mosquée', 'cours', 'construction', 'hangar', 'commerce', 'existait', 'port', 'local', 'marchandises', 'matériel', 'services', 'publics', 'oy', 'débarque', 'pussent', 'mis', 'abri', 'intempéries', 'saisons', 'réclamation', 'unanime', 'autorités', 'population', 'ministre', 'prescrit', 'construction', 'vaste', 'hangar', 'satisfera', 'complétement', 'besoins', 'dépense', 'fr', 'halle', 'blé', 'établissement', 'également', 'urgence', 'raison', 'commerce', 'rable', 'grains', 'philippeville', 'prépare', 'projet', 'exécution', 'retardée', 'fontaines', 'gette', 'ville', 'prochainement', 'pourvue', 'fontaines', 'constantinë', 'peine', 'installé', 'ville', 'milieu', 'année', 'service', 'bâtiments', 'civils', 'mis', 'æuvre', 'résumé', 'travaux', 'exécuter', 'cours', 'exercice', 'bâtiments', 'civils', 'appropriation', 'maison', 'moresque', 'affectée', 'commissariat', 'civil', 'continuation', 'bâtiments', 'pépinière', 'précédemment', 'entrepris', 'génie', 'réparations', 'hospice', 'civil', 'provisoire', 'dispensaire', 'caserne', 'gendarmerie', 'locaux', 'service', 'bâtiments', 'travaux', 'consolidation', 'ancienne', 'mosquée', 'convertie', 'église', 'catholique', 'réparation', 'mosquées', 'consacrées', 'culte', 'mahometan', 'réparation', 'pavé', 'rues', 'combes', 'caraman', 'damrémont', 'perregaux', 'voirie', 'kantara', 'eaux', 'restauration', 'entretien', 'fontaines', 'aqueducs', 'égouts', 'restauration', 'entretien', 'conduits', 'existants', 'tableau', 'indique', 'budget', 'nature', 'travaux', 'localité', 'dépenses', 'vice', 'bâtiments', 'civils', 'voirie', 'cours', 'exercice', 'dépenses', 'détail', 'travaux', 'observations', 'nature', 'travaux', 'localités', 'budget', 'guerre', 'pans', 'carrés', 'chapitre', 'xxvii', 'détail', 'matériaax', 'distribués', 'télégraphie', 'planches', 'ensemble', 'établissement', 'postes', 'alger', 'blidah', 'madriers', 'chapitre', 'xxix', 'travaux', 'neufs', 'poutrelles', 'tuiles', 'creuses', 'plates', 'bâtiments', 'civils', 'mètres', 'cubes', 'chaux', 'restauration', 'cathédrale', 'alger', 'briques', 'constructiou', 'pépinière', 'centrale', 'hangar', 'filer', 'soie', 'baraques', 'cadres', 'maison', 'transport', 'matériaux', 'coûté', 'solde', 'agents', 'achats', 'outils', 'continuation', 'travaux', 'enceinte', 'doutra', 'commencés', 'indemnités', 'argent', 'continuation', 'travaux', 'terrassement', 'ville', 'total', 'égal', 'construction', 'enceinte', 'village', 'douaouda', 'travaux', 'complémentaires', 'villages', 'créés', 'distribution', 'matériaux', 'colons', 'matériaux', 'délivrés', 'colons', 'partis', 'centres', 'populations', 'colonisation', 'budget', 'colonial', 'personnel', 'travaux', 'neufs', 'grosses', 'réparations', 'bâtiments', 'civils', 'temple', 'protestant', 'clôtures', 'cimetières', 'travaux', 'voirie', 'faubourg', 'irrigation', 'pépinière', 'centralc', 'alger', 'commencement', 'travaux', 'achevés', 'blidah', 'aqueduc', 'rive', 'oued', 'construction', 'église', 'presbytère', 'recherche', 'eaux', 'établissement', 'conduites', 'douéra', 'fontaines', 'abreuvoirs', 'nivellements', 'terrassements', 'tour', 'partie', 'enceinte', 'commencée', 'renferme', 'corps', 'garde', 'prison', 'milice', 'colon', 'tsation', 'achèvement', 'tour', 'douéra', 'établissement', 'fossé', 'enceinte', 'village', 'saoula', 'coostruction', 'tourelles', 'défensives', 'maçonnerie', 'fontaines', 'abreuvoirs', 'lavoirs', 'village', 'travaux', 'village', 'cressia', 'idem', 'joinville', 'idem', 'montpensier', 'idem', 'construction', 'pouka', 'maisons', 'destinées', 'colons', 'appropriation', 'maison', 'servir', 'dépôt', 'colons', 'travaux', 'amélioration', 'nature', 'anciens', 'villages', 'dépenses', 'détail', 'travaux', 'observations', 'nature', 'localités', 'travaux', 'travaux', 'entretien', 'bâtiments', 'civils', 'tribunal', 'instance', 'hôtel', 'procureur', 'général', 'prison', 'civile', 'cour', 'royale', 'maison', 'exécuteur', 'hautes', 'æuvres', 'gendarmerie', 'rue', 'blondel', 'faubourg', 'rue', 'toulon', 'arc', 'faubourg', 'mustapha', 'douéra', 'maison', 'affectée', 'lazaristes', 'sæurs', 'charité', 'chanoines', 'sæurs', 'cathédrale', 'presbytère', 'cathédrale', 'hôtel', 'évêché', 'église', 'provisoire', 'boufarik', 'hôpital', 'civil', 'dispensaire', 'bureau', 'santé', 'établissement', 'urinaux', 'quais', 'abattoir', 'civil', 'installation', 'tribunal', 'parquet', 'ancienne', 'maison', 'moresque', 'amélioration', 'agrandissement', 'réparations', 'nouvelles', 'appropriations', 'entretien', 'simple', 'réparations', 'simples', 'entretien', 'simple', 'idem', 'idem', 'idem', 'idem', 'idem', 'idem', 'idem', 'idem', 'appropriation', 'installation', 'entretien', 'simple', 'entretien', 'amélioration', 'installation', 'école', 'jeunes', 'filles', 'logement', 'saurs', 'entretien', 'idem', 'carrelage', 'réparation', 'terrasses', 'réparations', 'agrandissement', 'salles', 'cellules', 'aliénés', 'établissement', 'chapelle', 'entretien', 'ordinaire', 'entretien', 'ordinaire', 'agrandissement', 'amélioration', 'amélioration', 'alger', 'construction', 'bureau', 'logement', 'receveurs', 'entretien', 'rdinaire', 'établissement', 'hangars', 'couverts', 'pavage', 'logement', 'bureau', 'receveur', 'construction', 'bureau', 'surveillant', 'établissement', 'hangars', 'couverts', 'pavage', 'cours', 'entretien', 'ordinaire', 'construction', 'bureau', 'perception', 'idem', 'réparations', 'installation', 'bureaux', 'entretien', 'ordinaire', 'travaux', 'consolidation', 'simple', 'entretien', 'traitement', 'travaux', 'entretien', 'marché', 'huiles', 'bestiaux', 'marché', 'grains', 'octroi', 'fort', 'empereur', 'baraque', 'bascule', 'direction', 'intérieur', 'maison', 'affectée', 'secrétaire', 'général', 'direction', 'intérieur', 'bâtiment', 'marine', 'employés', 'auxiliaires', 'pépinière', 'centrale', 'approvisionnements', 'généraux', 'travaux', 'régie', 'établissements', 'transports', 'maison', 'affectée', 'milice', 'imprimerie', 'gouvernement', 'bibliothèque', 'ville', 'théâtre', 'provisoire', 'collége', 'bureaux', 'service', 'bâtiments', 'civils', 'rues', 'petite', 'voirie', 'reconstruction', 'anciens', 'égouts', 'fontaines', 'aqueducs', 'exploitations', 'carrières', 'frais', 'outils', 'frais', 'traitement', 'employés', 'auxiliaires', 'achat', 'fournitures', 'mobilier', 'bureau', 'achat', 'chevaux', 'harnachement', 'carrelage', 'réparations', 'casiers', 'musée', 'appropriation', 'nouvelle', 'salle', 'agrandissement', 'travaux', 'consolidation', 'etablissement', 'refectoire', 'salle', 'dessin', 'laboratoire', 'physique', 'installation', 'nouvelle', 'appropriation', 'tolal', 'alger', 'dépenses', 'détail', 'travaux', 'observations', 'nature', 'travaux', 'localités', 'justice', 'paix', 'logement', 'officier', 'gendarmerie', 'local', 'affecté', 'milice', 'magasin', 'bureau', 'service', 'maison', 'commissariat', 'civil', 'police', 'achat', 'matériaux', 'travaux', 'régie', 'dispensaire', 'rues', 'petite', 'voirie', 'fontaines', 'aqueducs', 'égouts', 'frais', 'total', 'blidah', 'blidah', 'entretien', 'simple', 'idem', 'installation', 'appropriaiton', 'installation', 'amélioration', 'entretien', 'installation', 'terrasse', 'logemeot', 'établissement', 'appropriation', 'koléau', 'maison', 'commissariat', 'civil', 'maison', 'affectée', 'secrétaire', 'commissaire', 'civil', 'traitements', 'travaux', 'régie', 'logement', 'interprète', 'bâtiments', 'service', 'achats', 'fontaines', 'aqueducs', 'total', 'koléah', 'cuerchel', 'maison', 'commissariat', 'civi', 'caserne', 'gendarmerie', 'logement', 'desservant', 'bâtiment', 'service', 'logement', 'cadhi', 'direction', 'port', 'rues', 'petite', 'voirie', 'fontaines', 'aqueducs', 'total', 'cherchel', 'locaux', 'affectés', 'services', 'publics', 'mosquées', 'rue', 'petit', 'voirie', 'fontaine', 'aqueducs', 'egouts', 'total', 'récapitulation', 'budget', 'guerre', 'chapitre', 'xxvii', 'télégraphie', 'bâtiments', 'civils', 'xxix', 'colonisation', 'budget', 'colonial', 'personnel', 'service', 'bâtiments', 'civils', 'voirie', 'bâtiments', 'civils', 'travaux', 'neofs', 'colonisation', 'alger', 'blidah', 'travaux', 'entretien', 'koléah', 'cherchel', 'total', 'travaux', 'exécutés', 'dépenses', 'service', 'ponts', 'chaussées', 'province', 'alger', 'alger', 'construction', 'remarquable', 'commencée', 'terminée', 'dépenses', 'élevées', 'cours', 'dernier', 'exercice', 'somme', 'fr', 'chap', 'xxx', 'budget', 'guerre', 'grande', 'voirie', 'instar', 'pratique', 'france', 'rues', 'villes', 'considérables', 'algérie', 'divisées', 'catégories', 'rues', 'grande', 'voirie', 'rues', 'pelite', 'voiric', 'premières', 'placées', 'attributions', 'service', 'ponts', 'chaussées', 'secondes', 'attributions', 'architectes', 'bâtiments', 'civils', 'rues', 'grande', 'voirie', 'alger', 'développement', 'actuel', 'mètres', 'forment', 'position', 'ville', 'basse', 'principales', 'artères', 'cité', 'rue', 'amirauté', 'longeant', 'jetée', 'khaïreddin', 'côté', 'port', 'rue', 'marine', 'suite', 'précédente', 'joint', 'porte', 'france', 'place', 'royale', 'borde', 'côté', 'nord', 'place', 'rue', 'suit', 'côté', 'ouest', 'place', 'conduit', 'porte', 'azoun', 'rue', 'mène', 'porte', 'nom', 'prend', 'naissance', 'angle', 'place', 'royale', 'rues', 'philippe', 'traversière', 'consuls', 'mettent', 'communication', 'partie', 'nord', 'rue', 'extrémité', 'rue', 'marine', 'exception', 'rues', 'philippe', 'consuls', 'rues', 'grande', 'voirie', 'alger', 'ouvertes', 'marine', 'onl', 'mètres', 'charretière', 'bordées', 'galeries', 'arcades', 'abritent', 'trottoirs', 'largeur', 'æuvre', 'mètres', 'largeur', 'maisons', 'chaussées', 'pavées', 'loin', 'fonds', 'affectés', 'annuellement', 'entretien', 'permis', 'jusà', 'jour', 'réparer', 'pavés', 'sufisamment', 'résistants', 'considérer', 'présent', 'faudra', 'nécessité', 'paver', 'développement', 'dépenses', 'résultant', 'établissement', 'rues', 'grande', 'voirie', 'alger', 'résumées', 'conquête', 'jusau', 'er', 'janvier', 'exercices', 'chapitre', 'xxx', 'budget', 'total', 'décembre', 'sommes', 'employées', 'terrassements', 'pavages', 'voies', 'charretières', 'revêtements', 'sol', 'galeries', 'établissement', 'entretien', 'bouches', 'égouts', 'continue', 'recherches', 'pavés', 'environs', 'alger', 'espère', 'trouver', 'bons', 'vallon', 'aïoun', 'skakna', 'grand', 'ravin', 'boudjaréah', 'existe', 'bancs', 'grès', 'possible', 'faire', 'grès', 'lieu', 'découvert', 'peine', 'accessible', 'bêtes', 'somme', 'frais', 'transport', 'considérables', 'difficultés', 'disparaîtront', 'exécuté', 'chemin', 'projeté', 'vallon', 'aïoun', 'skakna', 'koléani', 'grande', 'voirie', 'voies', 'communication', 'aboutissent', 'ville', 'koléah', 'route', 'alger', 'koléah', 'pied', 'sahel', 'route', 'alger', 'koléah', 'staouéli', 'chemin', 'kolčah', 'fouka', 'route', 'blidah', 'mer', 'projet', 'rues', 'grande', 'voirie', 'dressé', 'relier', 'voies', 'communication', 'longueur', 'lotale', 'rues', 'élargir', 'ouvrir', 'mètres', 'donnera', 'chacune', 'largeur', 'mètres', 'milieu', 'construira', 'chaussée', 'empierrement', 'côtés', 'trottoirs', 'largeur', 'nota', 'rues', 'villes', 'villages', 'province', 'alger', 'provisoirement', 'considérées', 'rues', 'petite', 'voirie', 'conséquent', 'confiées', 'service', 'bâtiments', 'civils', 'ponts', 'chaussées', 'présent', 'traverses', 'attributions', 'province', 'oran', 'oran', 'commencement', 'époque', 'service', 'ponts', 'chaussées', 'installé', 'oran', 'ville', 'amas', 'ruines', 'notamment', 'quartiers', 'marine', 'blanca', 'grande', 'partie', 'détruits', 'tremblement', 'terre', 'édifices', 'publics', 'aqueducs', 'fontaines', 'voirie', 'entièrement', 'négligés', 'période', 'occupation', 'turque', 'déplorable', 'créer', 'travaux', 'neufs', 'entrepris', 'oran', 'installation', 'civile', 'bureaux', 'ateliers', 'ponts', 'chaussées', 'restauration', 'conduites', 'eau', 'fontaines', 'abreuvoirs', 'nivellement', 'empierrement', 'rues', 'boulevard', 'oudinot', 'chemins', 'longent', 'cimetières', 'élargissement', 'rues', 'places', 'moyen', 'moyen', 'démolitions', 'construction', 'mairie', 'dispensaire', 'locaux', 'provisoires', 'douane', 'gendarmerie', 'construction', 'caserne', 'définitive', 'gendarmerie', 'commencée', 'terminée', 'installation', 'tribunal', 'civil', 'immeuble', 'domanial', 'appropriation', 'culte', 'catholique', 'ancienne', 'chapelle', 'espagnole', 'construction', 'chapelle', 'clocher', 'pose', 'horloge', 'publique', 'clocher', 'église', 'construction', 'château', 'eau', 'point', 'départ', 'source', 'alimente', 'oran', 'établissement', 'fontaines', 'place', 'nemours', 'rues', 'abreuvoirs', 'rue', 'porte', 'ravin', 'quai', 'moune', 'construction', 'bassin', 'contenant', 'litres', 'servir', 'aiguade', 'marine', 'construction', 'abattoir', 'public', 'hangar', 'mettre', 'abri', 'bestiaux', 'destinés', 'abattus', 'pose', 'conduites', 'fonte', 'amener', 'eaux', 'fontaine', 'place', 'nemours', 'jusà', 'aiguade', 'quai', 'moune', 'fontaine', 'place', 'orléans', 'place', 'établissement', 'boulevard', 'oudinot', 'mètres', 'courants', 'tuyaux', 'fonte', 'remplacement', 'conduite', 'poterie', 'installation', 'réverbères', 'rues', 'ville', 'restauration', 'grande', 'partie', 'aqueduc', 'extérieur', 'reconstruction', 'aqueduc', 'alimente', 'ville', 'travail', 'commencé', 'exécuté', 'longueur', 'goo', 'mètres', 'terminé', 'résultats', 'considérables', 'ville', 'pertes', 'eau', 'précédemment', 'cessé', 'jardiniers', 'détourner', 'frauduleusement', 'irrigations', 'grande', 'partie', 'eaux', 'destinées', 'consommation', 'habitants', 'enfin', 'arrivent', 'pures', 'fontaines', 'algérie', 'situation', 'installation', 'prison', 'civile', 'immeuble', 'domanial', 'immeuble', 'démoli', 'ouverture', 'rue', 'prison', 'installée', 'local', 'réparation', 'anciens', 'égouts', 'reconstruction', 'égout', 'rue', 'philippe', 'construction', 'grand', 'égout', 'hôpital', 'grand', 'égout', 'place', 'armes', 'destiné', 'écoulement', 'eaux', 'pluviales', 'quartier', 'ville', 'installation', 'presbytère', 'ancien', 'bâtiment', 'attenant', 'chapelle', 'construction', 'bureaux', 'service', 'port', 'police', 'quais', 'halle', 'couverte', 'place', 'blanche', 'halle', 'poissons', 'légumes', 'boulevard', 'orléans']]\n"
     ]
    }
   ],
   "source": [
    "######### import datasets and remove stopwords #########\n",
    "\n",
    "docs_folder_path = \"/Users/aaron68lee/Documents/Coding-Projects/NLP-Research/FRconquest_split\"\n",
    "max_docs = 10\n",
    "max_chars = 500\n",
    "max_print = 5\n",
    "\n",
    "docs, doc_names, doc_dict = list(extract_documents(docs_folder_path, max_docs))\n",
    "print(\"There are: \", len(docs), \" documents in the corpus folder\\n\")\n",
    "print(\"Document Names: \", doc_names[0:min(max_docs, max_print)])\n",
    "#print(\"Doc Dictionary: \", doc_dict)\n",
    "print(\"Sample abridged doc: \\n\\n\", docs[:max_docs])\n",
    "#Read each file into the working directory. Remove stop words, non-alphabetical terms, and punctuation. Append each processed file into the docs list. \n",
    "\n"
   ]
  },
  {
   "cell_type": "markdown",
   "id": "ac3e92a6",
   "metadata": {},
   "source": [
    "## Preprocess Data "
   ]
  },
  {
   "attachments": {},
   "cell_type": "markdown",
   "id": "dda4b108",
   "metadata": {},
   "source": [
    "#### Examples "
   ]
  },
  {
   "cell_type": "code",
   "execution_count": 4,
   "id": "04dfd007",
   "metadata": {},
   "outputs": [
    {
     "data": {
      "text/plain": [
       "'\\n# Tokenize the documents.\\nfrom nltk.tokenize import RegexpTokenizer\\n\\n# Split the documents into tokens.\\ntokenizer = RegexpTokenizer(r\\'\\\\w+\\')\\n\\n# docs is already list of list of words\\n\\n# Remove numbers, but not words that contain numbers.\\n# print(docs[0][0][0])\\nprint(docs[0][:500])\\ndoc_parsed = [[] for _ in range(len(docs))]\\nfor doc in range(len(docs)):\\n    for j in range(len(docs[doc])):\\n        if not (docs[doc][j].isnumeric()):\\n            doc_parsed[doc].append(docs[doc][j])\\n\\nprint(doc_parsed[0][:500])\\n#docs = [[token for token in doc if not token.isnumeric()] for doc in docs]\\n#print(docs[0][:500])\\n\\n# Remove words that are only one character.\\n#docs = [[token for token in doc if len(token) > 1] for doc in docs]\\nprint(\"Sample abridged doc: \\n\\n\", docs[0][:500])\\n'"
      ]
     },
     "execution_count": 4,
     "metadata": {},
     "output_type": "execute_result"
    }
   ],
   "source": [
    "# Examples\n",
    "\n",
    "\n",
    "\n",
    "############# Test Dataset as CSV ################\n",
    "\n",
    "# Test on sample document\n",
    "\n",
    "# doc_path = 'FRconquest_split/1838_Tableau-Algeria_pt1_0.txt'\n",
    "\n",
    "'''\n",
    "# Import Dataset\n",
    "df = pd.read_json('https://raw.githubusercontent.com/selva86/datasets/master/newsgroups.json')\n",
    "print(df.target_names.unique())\n",
    "df.head()\n",
    "\n",
    "# Pre-process Data\n",
    "# 1) Remove Punctuation and Stop Words\n",
    "\n",
    "pprint(data[:1])\n",
    "'''\n",
    "\n",
    "'''\n",
    "# Tokenize the documents.\n",
    "from nltk.tokenize import RegexpTokenizer\n",
    "\n",
    "# Split the documents into tokens.\n",
    "tokenizer = RegexpTokenizer(r'\\w+')\n",
    "\n",
    "# docs is already list of list of words\n",
    "\n",
    "# Remove numbers, but not words that contain numbers.\n",
    "# print(docs[0][0][0])\n",
    "print(docs[0][:500])\n",
    "doc_parsed = [[] for _ in range(len(docs))]\n",
    "for doc in range(len(docs)):\n",
    "    for j in range(len(docs[doc])):\n",
    "        if not (docs[doc][j].isnumeric()):\n",
    "            doc_parsed[doc].append(docs[doc][j])\n",
    "\n",
    "print(doc_parsed[0][:500])\n",
    "#docs = [[token for token in doc if not token.isnumeric()] for doc in docs]\n",
    "#print(docs[0][:500])\n",
    "\n",
    "# Remove words that are only one character.\n",
    "#docs = [[token for token in doc if len(token) > 1] for doc in docs]\n",
    "print(\"Sample abridged doc: \\n\\n\", docs[0][:500])\n",
    "'''\n"
   ]
  },
  {
   "attachments": {},
   "cell_type": "markdown",
   "id": "cf2b3682",
   "metadata": {
    "heading_collapsed": true
   },
   "source": [
    "### **Remove Stopwords and Create Dictionary**"
   ]
  },
  {
   "cell_type": "code",
   "execution_count": 5,
   "id": "37b138dc",
   "metadata": {
    "hidden": true
   },
   "outputs": [
    {
     "name": "stdout",
     "output_type": "stream",
     "text": [
      "Dictionary<7173 unique tokens: ['abattoir', 'abondantes', 'accessoires', 'accès', 'acheté']...>\n",
      "Unique total words:  7173\n",
      "Number docs:  10\n",
      "[[(0, 1), (1, 1), (2, 6), (3, 1), (4, 3), (5, 2), (6, 5), (7, 2), (8, 1), (9, 2), (10, 1), (11, 1), (12, 1), (13, 1), (14, 1), (15, 2), (16, 1), (17, 5), (18, 1), (19, 1), (20, 1), (21, 1), (22, 1), (23, 1), (24, 1), (25, 1), (26, 2), (27, 3), (28, 2), (29, 1), (30, 5), (31, 1), (32, 2), (33, 4), (34, 1), (35, 2), (36, 1), (37, 1), (38, 3), (39, 1), (40, 1), (41, 3), (42, 1), (43, 1), (44, 1), (45, 2), (46, 2), (47, 1), (48, 2), (49, 2), (50, 1), (51, 3), (52, 4), (53, 1), (54, 1), (55, 5), (56, 1), (57, 1), (58, 3), (59, 1), (60, 1), (61, 1), (62, 2), (63, 1), (64, 4), (65, 1), (66, 1), (67, 1), (68, 1), (69, 1), (70, 1), (71, 1), (72, 1), (73, 1), (74, 2), (75, 1), (76, 1), (77, 1), (78, 1), (79, 1), (80, 1), (81, 3), (82, 1), (83, 10), (84, 6), (85, 4), (86, 1), (87, 1), (88, 1), (89, 1), (90, 5), (91, 1), (92, 4), (93, 1), (94, 1), (95, 2), (96, 3), (97, 1), (98, 1), (99, 1), (100, 2), (101, 8), (102, 2), (103, 1), (104, 1), (105, 12), (106, 8), (107, 1), (108, 5), (109, 5), (110, 1), (111, 6), (112, 1), (113, 6), (114, 2), (115, 1), (116, 13), (117, 8), (118, 6), (119, 2), (120, 7), (121, 2), (122, 2), (123, 3), (124, 2), (125, 1), (126, 1), (127, 2), (128, 2), (129, 1), (130, 1), (131, 1), (132, 1), (133, 1), (134, 2), (135, 2), (136, 2), (137, 1), (138, 1), (139, 1), (140, 14), (141, 1), (142, 1), (143, 1), (144, 1), (145, 1), (146, 1), (147, 1), (148, 7), (149, 1), (150, 1), (151, 7), (152, 1), (153, 2), (154, 3), (155, 1), (156, 2), (157, 1), (158, 1), (159, 3), (160, 3), (161, 6), (162, 4), (163, 1), (164, 1), (165, 1), (166, 1), (167, 2), (168, 2), (169, 1), (170, 2), (171, 1), (172, 1), (173, 1), (174, 2), (175, 1), (176, 4), (177, 1), (178, 1), (179, 1), (180, 2), (181, 1), (182, 2), (183, 1), (184, 1), (185, 10), (186, 4), (187, 9), (188, 7), (189, 2), (190, 3), (191, 3), (192, 1), (193, 3), (194, 1), (195, 1), (196, 1), (197, 6), (198, 1), (199, 1), (200, 3), (201, 1), (202, 1), (203, 1), (204, 1), (205, 1), (206, 1), (207, 1), (208, 1), (209, 2), (210, 2), (211, 1), (212, 1), (213, 1), (214, 2), (215, 4), (216, 1), (217, 4), (218, 3), (219, 2), (220, 2), (221, 2), (222, 1), (223, 1), (224, 1), (225, 2), (226, 1), (227, 1), (228, 4), (229, 2), (230, 1), (231, 1), (232, 1), (233, 1), (234, 1), (235, 1), (236, 1), (237, 3), (238, 2), (239, 1), (240, 1), (241, 1), (242, 2), (243, 2), (244, 1), (245, 2), (246, 1), (247, 1), (248, 1), (249, 1), (250, 2), (251, 1), (252, 2), (253, 1), (254, 3), (255, 1), (256, 2), (257, 1), (258, 1), (259, 1), (260, 1), (261, 1), (262, 3), (263, 1), (264, 1), (265, 1), (266, 4), (267, 1), (268, 2), (269, 4), (270, 2), (271, 1), (272, 1), (273, 1), (274, 1), (275, 3), (276, 1), (277, 28), (278, 6), (279, 20), (280, 1), (281, 1), (282, 1), (283, 3), (284, 1), (285, 2), (286, 1), (287, 1), (288, 1), (289, 4), (290, 5), (291, 1), (292, 4), (293, 34), (294, 1), (295, 5), (296, 1), (297, 1), (298, 1), (299, 3), (300, 3), (301, 2), (302, 4), (303, 2), (304, 1), (305, 1), (306, 1), (307, 1), (308, 4), (309, 1), (310, 2), (311, 1), (312, 1), (313, 1), (314, 1), (315, 2), (316, 1), (317, 1), (318, 4), (319, 1), (320, 1), (321, 1), (322, 1), (323, 1), (324, 4), (325, 1), (326, 1), (327, 1), (328, 3), (329, 1), (330, 4), (331, 23), (332, 1), (333, 1), (334, 1), (335, 6), (336, 1), (337, 20), (338, 1), (339, 23), (340, 1), (341, 1), (342, 3), (343, 1), (344, 1), (345, 1), (346, 1), (347, 1), (348, 1), (349, 1), (350, 1), (351, 1), (352, 1), (353, 3), (354, 12), (355, 1), (356, 1), (357, 1), (358, 1), (359, 6), (360, 1), (361, 1), (362, 13), (363, 2), (364, 2), (365, 1), (366, 3), (367, 1), (368, 4), (369, 3), (370, 2), (371, 40), (372, 5), (373, 1), (374, 1), (375, 1), (376, 2), (377, 1), (378, 1), (379, 13), (380, 1), (381, 2), (382, 1), (383, 1), (384, 1), (385, 1), (386, 1), (387, 6), (388, 1), (389, 2), (390, 3), (391, 1), (392, 5), (393, 1), (394, 3), (395, 1), (396, 2), (397, 1), (398, 1), (399, 1), (400, 1), (401, 5), (402, 3), (403, 1), (404, 18), (405, 1), (406, 1), (407, 20), (408, 1), (409, 2), (410, 1), (411, 1), (412, 1), (413, 1), (414, 1), (415, 1), (416, 1), (417, 1), (418, 1), (419, 1), (420, 1), (421, 1), (422, 3), (423, 1), (424, 1), (425, 2), (426, 2), (427, 4), (428, 1), (429, 1), (430, 1), (431, 1), (432, 4), (433, 3), (434, 2), (435, 1), (436, 1), (437, 1), (438, 3), (439, 1), (440, 1), (441, 1), (442, 2), (443, 1), (444, 1), (445, 1), (446, 1), (447, 1), (448, 1), (449, 1), (450, 2), (451, 7), (452, 1), (453, 6), (454, 1), (455, 1), (456, 3), (457, 1), (458, 2), (459, 1), (460, 10), (461, 2), (462, 1), (463, 4), (464, 1), (465, 1), (466, 3), (467, 1), (468, 1), (469, 1), (470, 1), (471, 1), (472, 1), (473, 7), (474, 12), (475, 4), (476, 2), (477, 1), (478, 1), (479, 18), (480, 19), (481, 1), (482, 1), (483, 7), (484, 6), (485, 1), (486, 3), (487, 1), (488, 6), (489, 1), (490, 2), (491, 2), (492, 1), (493, 1), (494, 1), (495, 3), (496, 2), (497, 1), (498, 2), (499, 7), (500, 1), (501, 1), (502, 1), (503, 2), (504, 1), (505, 3), (506, 1), (507, 1), (508, 9), (509, 15), (510, 1), (511, 1), (512, 1), (513, 1), (514, 2), (515, 1), (516, 4), (517, 2), (518, 3), (519, 1), (520, 1), (521, 1), (522, 3), (523, 2), (524, 8), (525, 1), (526, 2), (527, 1), (528, 1), (529, 2), (530, 6), (531, 2), (532, 1), (533, 6), (534, 1), (535, 1), (536, 1), (537, 1), (538, 1), (539, 1), (540, 1), (541, 1), (542, 1), (543, 2), (544, 1), (545, 1), (546, 3), (547, 1), (548, 6), (549, 1), (550, 2), (551, 5), (552, 1), (553, 6), (554, 1), (555, 4), (556, 3), (557, 6), (558, 6), (559, 1), (560, 1), (561, 6), (562, 3), (563, 2), (564, 1), (565, 2), (566, 12), (567, 1), (568, 1), (569, 1), (570, 7), (571, 8), (572, 22), (573, 1), (574, 2), (575, 2), (576, 1), (577, 5), (578, 1), (579, 1), (580, 4), (581, 2), (582, 1), (583, 4), (584, 1), (585, 1), (586, 2), (587, 1), (588, 1), (589, 1), (590, 2), (591, 1), (592, 2), (593, 4), (594, 2), (595, 1), (596, 1), (597, 1), (598, 2), (599, 15), (600, 1), (601, 1), (602, 1), (603, 1), (604, 6), (605, 1), (606, 3), (607, 2), (608, 1), (609, 2), (610, 3), (611, 1), (612, 2), (613, 1), (614, 2), (615, 1), (616, 2), (617, 4), (618, 2), (619, 1), (620, 1), (621, 1), (622, 2), (623, 11), (624, 1), (625, 2), (626, 1), (627, 1), (628, 6), (629, 1), (630, 1), (631, 1), (632, 7), (633, 3), (634, 3), (635, 7), (636, 1), (637, 1), (638, 1), (639, 4), (640, 11), (641, 3), (642, 1), (643, 9), (644, 8), (645, 1), (646, 2), (647, 1), (648, 1), (649, 1), (650, 1), (651, 1), (652, 1), (653, 1), (654, 1), (655, 1), (656, 1), (657, 5), (658, 1), (659, 5), (660, 1), (661, 1), (662, 3), (663, 1), (664, 1), (665, 2), (666, 6), (667, 1), (668, 2), (669, 2), (670, 1), (671, 1), (672, 2), (673, 2), (674, 1), (675, 2), (676, 1), (677, 1), (678, 1), (679, 1), (680, 1), (681, 1), (682, 11), (683, 1), (684, 4), (685, 1), (686, 1), (687, 1), (688, 1), (689, 1), (690, 2), (691, 4), (692, 2), (693, 2), (694, 3), (695, 1), (696, 1), (697, 1), (698, 1), (699, 1), (700, 1), (701, 1), (702, 1), (703, 1), (704, 1), (705, 1), (706, 1), (707, 5), (708, 1), (709, 1), (710, 1), (711, 1), (712, 1), (713, 1), (714, 1), (715, 1), (716, 4), (717, 1), (718, 1), (719, 1), (720, 1), (721, 1), (722, 1), (723, 1), (724, 19), (725, 1), (726, 1), (727, 1), (728, 2), (729, 1), (730, 5), (731, 1), (732, 1), (733, 1), (734, 1), (735, 1), (736, 5), (737, 2), (738, 4), (739, 2), (740, 2), (741, 1), (742, 3), (743, 1), (744, 3), (745, 1), (746, 10), (747, 7), (748, 1), (749, 1), (750, 1), (751, 1), (752, 1), (753, 2), (754, 1), (755, 1), (756, 1), (757, 1), (758, 2), (759, 4), (760, 1), (761, 1), (762, 1), (763, 2), (764, 2), (765, 3), (766, 2), (767, 2), (768, 2), (769, 2), (770, 2), (771, 2), (772, 2), (773, 1), (774, 1), (775, 2), (776, 2), (777, 1), (778, 3), (779, 1), (780, 1), (781, 1), (782, 1), (783, 3), (784, 1), (785, 2), (786, 7), (787, 2), (788, 1), (789, 1), (790, 2), (791, 2), (792, 1), (793, 1), (794, 1), (795, 1), (796, 1), (797, 1), (798, 1), (799, 1), (800, 1), (801, 2), (802, 1), (803, 5), (804, 1), (805, 1), (806, 1), (807, 1), (808, 8), (809, 1), (810, 9), (811, 2), (812, 2), (813, 1), (814, 5), (815, 1), (816, 1), (817, 1), (818, 3), (819, 2), (820, 1), (821, 1), (822, 1), (823, 1), (824, 1), (825, 1), (826, 2), (827, 1), (828, 102), (829, 2), (830, 1), (831, 2), (832, 7), (833, 2), (834, 1), (835, 1), (836, 1), (837, 1), (838, 1), (839, 1), (840, 1), (841, 2), (842, 20), (843, 4), (844, 1), (845, 3), (846, 3), (847, 1), (848, 2), (849, 1), (850, 1), (851, 2), (852, 9), (853, 1), (854, 5), (855, 5), (856, 5), (857, 3), (858, 1), (859, 1), (860, 1), (861, 1), (862, 1), (863, 2), (864, 2), (865, 1), (866, 1), (867, 2), (868, 1), (869, 2), (870, 1), (871, 1), (872, 1), (873, 3), (874, 10), (875, 2), (876, 1), (877, 2), (878, 1), (879, 1), (880, 1)]]\n"
     ]
    }
   ],
   "source": [
    "#The two main inputs to the LDA topic model are the dictionary and the corpus, \n",
    "#so we begin by creating the dictionary.\n",
    "\n",
    "from gensim import corpora, models, similarities\n",
    "from collections import Counter\n",
    "\n",
    "#Create dictionary of words. \n",
    "dictionary = corpora.Dictionary(docs)\n",
    "# create token frequency across all docs in corpus\n",
    "tokens = [token for doc in docs for token in doc] #[[token for token in doc] for doc in docs]\n",
    "token_freq = Counter(tokens)\n",
    "\n",
    "#View dictionary and see how many unique tokens it contains.\n",
    "print(dictionary)\n",
    "print(\"Unique total words: \", len(dictionary))\n",
    "print(\"Number docs: \", len(docs))\n",
    "\n",
    "#Create Term-Document Frequency, which also converts tokenized documents to vectors \n",
    "corpus = [dictionary.doc2bow(text) for text in docs]\n",
    "\n",
    "#View\n",
    "print(corpus[:1][:10])\n",
    "\n",
    "#Gensim creates a unique ID for each word in the document, and the resulting printout in the View step above,\n",
    "#shows the mapping: (word_id, word_frequency), so (0,1) means that word ID 0 occurs once in the first document."
   ]
  },
  {
   "attachments": {},
   "cell_type": "markdown",
   "id": "402f076a",
   "metadata": {},
   "source": [
    "### Create Token Frequency Table"
   ]
  },
  {
   "cell_type": "code",
   "execution_count": 6,
   "id": "4e402c98",
   "metadata": {},
   "outputs": [
    {
     "name": "stdout",
     "output_type": "stream",
     "text": [
      "Top Words:  [('fr', 197), ('idem', 196), ('travaux', 179), ('alger', 174), ('commerce', 97), ('ville', 87), ('année', 83), ('algérie', 82), ('france', 81), ('général', 77)]\n",
      "Sorted top words:  [('travaux', 102), ('francs', 40), ('enceinte', 34), ('dépense', 28), ('extraordinaires', 23), ('faire', 23), ('ordinaires', 22), ('dépensé', 20), ('exécutés', 20), ('hôpital', 20)]\n"
     ]
    }
   ],
   "source": [
    "# Create Dictionary for word frequency table\n",
    "\n",
    "#Human-readable format of corpus (term-frequency)\n",
    "freq_chart = [[(dictionary[id], freq) for id, freq in cp] for cp in corpus[:1]]\n",
    "sorted_freq_chart = sorted(freq_chart[0], key=lambda x: x[1], reverse=True)\n",
    "print(\"Top Words: \", token_freq.most_common(10))\n",
    "\n",
    "#print(freq_chart[0:10])\n",
    "print(\"Sorted top words: \", sorted_freq_chart[0:10])\n",
    "#[[('abattoir', 1), ('abondantes', 1), ('accessoires', 6)]]"
   ]
  },
  {
   "attachments": {},
   "cell_type": "markdown",
   "id": "d4d270bb",
   "metadata": {},
   "source": [
    "## Hyperparameters: Coherence Scores ##"
   ]
  },
  {
   "cell_type": "code",
   "execution_count": 7,
   "id": "ccce3a09",
   "metadata": {},
   "outputs": [],
   "source": [
    "#compute coherence scores first to determine which number(s) of topics produces the most coherent results.\n",
    "\n",
    "from gensim.models.coherencemodel import CoherenceModel\n",
    "def compute_coherence_values(dictionary, corpus, texts, limit, start=2, step=1):\n",
    "    coherence_values = []\n",
    "    model_list = []\n",
    "    for num_topics in range(start, limit, step):\n",
    "        model = models.LdaMulticore(corpus=corpus, num_topics=num_topics, id2word=dictionary, random_state = 100, passes = 25, chunksize = 100)\n",
    "        model_list.append(model)\n",
    "        coherencemodel = CoherenceModel(model=model, texts=texts, dictionary=dictionary, coherence='c_v')\n",
    "        coherence_values.append(coherencemodel.get_coherence())\n",
    "    return model_list, coherence_values"
   ]
  },
  {
   "cell_type": "code",
   "execution_count": 8,
   "id": "20a3381e",
   "metadata": {},
   "outputs": [
    {
     "data": {
      "image/png": "[encoded data removed]",
      "text/plain": [
       "<Figure size 640x480 with 1 Axes>"
      ]
     },
     "metadata": {},
     "output_type": "display_data"
    }
   ],
   "source": [
    "model_list, coherence_values = compute_coherence_values(dictionary=dictionary, corpus=corpus, texts=docs, start=4, limit=30, step=1)\n",
    "\n",
    "#Plot the graph of coherence scores across different number of topics (from start to limit).\n",
    "\n",
    "import matplotlib.pyplot as plt\n",
    "limit=30; start=4; step=1\n",
    "x = range(start, limit, step)\n",
    "plt.scatter(x, coherence_values)\n",
    "plt.xlabel(\"Num Topics\")\n",
    "plt.ylabel(\"Coherence score\")\n",
    "plt.title(\"Coherence Score vs. Num Topics\")\n",
    "plt.legend((\"coherence_values\"), loc='best')\n",
    "plt.xticks(x)\n",
    "plt.show()\n",
    "\n"
   ]
  },
  {
   "attachments": {},
   "cell_type": "markdown",
   "id": "e1dcf76e",
   "metadata": {},
   "source": [
    "## Topic Visualization"
   ]
  },
  {
   "cell_type": "code",
   "execution_count": 9,
   "id": "da2c6104",
   "metadata": {},
   "outputs": [
    {
     "name": "stdout",
     "output_type": "stream",
     "text": [
      "Topics maximizing coherence score:  8\n"
     ]
    },
    {
     "data": {
      "text/plain": [
       "[(0,\n",
       "  '0.038*\"fr\" + 0.020*\"idem\" + 0.015*\"droits\" + 0.014*\"marchés\" + 0.009*\"total\" + 0.008*\"alger\" + 0.008*\"totaux\" + 0.008*\"cercle\" + 0.007*\"province\" + 0.007*\"oran\"'),\n",
       " (1,\n",
       "  '0.005*\"france\" + 0.004*\"afrique\" + 0.004*\"alger\" + 0.004*\"saint\" + 0.003*\"augustin\" + 0.003*\"faire\" + 0.003*\"algérie\" + 0.002*\"serait\" + 0.002*\"église\" + 0.002*\"hommes\"'),\n",
       " (2,\n",
       "  '0.008*\"alger\" + 0.004*\"fut\" + 0.004*\"fort\" + 0.004*\"ville\" + 0.003*\"idem\" + 0.003*\"général\" + 0.003*\"algérie\" + 0.003*\"année\" + 0.003*\"pays\" + 0.003*\"mer\"'),\n",
       " (3,\n",
       "  '0.014*\"travaux\" + 0.008*\"idem\" + 0.007*\"commerce\" + 0.005*\"francs\" + 0.005*\"alger\" + 0.004*\"construction\" + 0.004*\"ville\" + 0.004*\"valeurs\" + 0.004*\"général\" + 0.004*\"enceinte\"')]"
      ]
     },
     "execution_count": 9,
     "metadata": {},
     "output_type": "execute_result"
    }
   ],
   "source": [
    "#Parameter tuning will lead to different models. For this model, we use our corpus, dictionary, \n",
    "#set a random state of 100 (akin to setting a seed for reproduction purposes), 9 topics \n",
    "#(optimal number according to coherence scores), 100 passes (number of times the corpus is passed \n",
    "#through for training), and chunk size of 10 (number of documents to be used in each training chunk).\n",
    "\n",
    "#See: https://www.machinelearningplus.com/nlp/topic-modeling-gensim-python/. \n",
    "\n",
    "# How to optimize the interval, as in mallet (http://mallet.cs.umass.edu/topics.php)?\n",
    "# --optimize-interval [NUMBER] This option turns on hyperparameter optimization, \n",
    "#which allows the model to better fit the data by allowing some topics to be more prominent than others. \n",
    "#Optimization every 10-20 iterations is reasonable. \n",
    "\n",
    "opt_topics = np.argmax(coherence_values) # + start\n",
    "#print(coherence_values)\n",
    "print(\"Topics maximizing coherence score: \", opt_topics + start)\n",
    "\n",
    "lda_model = models.LdaMulticore(corpus=corpus,\n",
    "                         id2word=dictionary,\n",
    "                         random_state=100,\n",
    "                         num_topics=opt_topics,\n",
    "                         passes=100,\n",
    "                         chunksize=10,\n",
    "                         alpha=\"asymmetric\"\n",
    "                         )\n",
    "\n",
    "# note alpha is hyperparameter\n",
    "\n",
    "lda_model.show_topics()"
   ]
  },
  {
   "cell_type": "code",
   "execution_count": 10,
   "id": "0158f15e",
   "metadata": {},
   "outputs": [
    {
     "data": {
      "text/plain": [
       "[(0,\n",
       "  [('travaux', 0.008346206),\n",
       "   ('bâtiments', 0.004961545),\n",
       "   ('construction', 0.004807674),\n",
       "   ('église', 0.004346133),\n",
       "   ('entretien', 0.0040384377),\n",
       "   ('ville', 0.004038415),\n",
       "   ('rues', 0.0040383525),\n",
       "   ('service', 0.0038845916),\n",
       "   ('alger', 0.0038844782),\n",
       "   ('voirie', 0.0037306596)]),\n",
       " (1,\n",
       "  [('fr', 0.016978234),\n",
       "   ('idem', 0.016157683),\n",
       "   ('travaux', 0.010505908),\n",
       "   ('commerce', 0.007315369),\n",
       "   ('droits', 0.006677231),\n",
       "   ('alger', 0.00649486),\n",
       "   ('année', 0.0059480015),\n",
       "   ('marchés', 0.00540103),\n",
       "   ('produits', 0.0049452484),\n",
       "   ('total', 0.0049452437)]),\n",
       " (2,\n",
       "  [('culte', 0.00696411),\n",
       "   ('kadi', 0.0044988533),\n",
       "   ('justice', 0.004252443),\n",
       "   ('alger', 0.00425239),\n",
       "   ('kadis', 0.004252334),\n",
       "   ('loi', 0.0035129688),\n",
       "   ('musulman', 0.0032662568),\n",
       "   ('nombre', 0.0030198407),\n",
       "   ('muphti', 0.0030197375),\n",
       "   ('autorité', 0.0027733557)]),\n",
       " (3,\n",
       "  [('alger', 0.0074319295),\n",
       "   ('fut', 0.0048838663),\n",
       "   ('algérie', 0.004398465),\n",
       "   ('afrique', 0.004398435),\n",
       "   ('fort', 0.0041558202),\n",
       "   ('france', 0.0040344354),\n",
       "   ('général', 0.003791759),\n",
       "   ('faire', 0.0036704226),\n",
       "   ('arabes', 0.0029423889),\n",
       "   ('mer', 0.0029423775)])]"
      ]
     },
     "execution_count": 10,
     "metadata": {},
     "output_type": "execute_result"
    }
   ],
   "source": [
    "# alternative syntax for LDA model\n",
    "\n",
    "Lda = gensim.models.ldamodel.LdaModel\n",
    "lda_model2 = Lda(corpus, \n",
    "                num_topics=opt_topics, \n",
    "                id2word = dictionary, \n",
    "                passes=100,\n",
    "                iterations=200, \n",
    "                chunksize = 10, \n",
    "                eval_every = None)\n",
    "\n",
    "# To show initial 15 topics with 10 top words from each\n",
    "lda_model2.show_topics(15, num_words=10, formatted=False)"
   ]
  },
  {
   "attachments": {},
   "cell_type": "markdown",
   "id": "d4e78ce6",
   "metadata": {},
   "source": [
    "### py LDA Visualization"
   ]
  },
  {
   "cell_type": "code",
   "execution_count": 11,
   "id": "44f4fbfb",
   "metadata": {},
   "outputs": [
    {
     "name": "stdout",
     "output_type": "stream",
     "text": [
      "[[(0, 1), (1, 1), (2, 6), (3, 1), (4, 3), (5, 2), (6, 5), (7, 2), (8, 1), (9, 2), (10, 1), (11, 1), (12, 1), (13, 1), (14, 1), (15, 2), (16, 1), (17, 5), (18, 1), (19, 1), (20, 1), (21, 1), (22, 1), (23, 1), (24, 1), (25, 1), (26, 2), (27, 3), (28, 2), (29, 1), (30, 5), (31, 1), (32, 2), (33, 4), (34, 1), (35, 2), (36, 1), (37, 1), (38, 3), (39, 1), (40, 1), (41, 3), (42, 1), (43, 1), (44, 1), (45, 2), (46, 2), (47, 1), (48, 2), (49, 2), (50, 1), (51, 3), (52, 4), (53, 1), (54, 1), (55, 5), (56, 1), (57, 1), (58, 3), (59, 1), (60, 1), (61, 1), (62, 2), (63, 1), (64, 4), (65, 1), (66, 1), (67, 1), (68, 1), (69, 1), (70, 1), (71, 1), (72, 1), (73, 1), (74, 2), (75, 1), (76, 1), (77, 1), (78, 1), (79, 1), (80, 1), (81, 3), (82, 1), (83, 10), (84, 6), (85, 4), (86, 1), (87, 1), (88, 1), (89, 1), (90, 5), (91, 1), (92, 4), (93, 1), (94, 1), (95, 2), (96, 3), (97, 1), (98, 1), (99, 1), (100, 2), (101, 8), (102, 2), (103, 1), (104, 1), (105, 12), (106, 8), (107, 1), (108, 5), (109, 5), (110, 1), (111, 6), (112, 1), (113, 6), (114, 2), (115, 1), (116, 13), (117, 8), (118, 6), (119, 2), (120, 7), (121, 2), (122, 2), (123, 3), (124, 2), (125, 1), (126, 1), (127, 2), (128, 2), (129, 1), (130, 1), (131, 1), (132, 1), (133, 1), (134, 2), (135, 2), (136, 2), (137, 1), (138, 1), (139, 1), (140, 14), (141, 1), (142, 1), (143, 1), (144, 1), (145, 1), (146, 1), (147, 1), (148, 7), (149, 1), (150, 1), (151, 7), (152, 1), (153, 2), (154, 3), (155, 1), (156, 2), (157, 1), (158, 1), (159, 3), (160, 3), (161, 6), (162, 4), (163, 1), (164, 1), (165, 1), (166, 1), (167, 2), (168, 2), (169, 1), (170, 2), (171, 1), (172, 1), (173, 1), (174, 2), (175, 1), (176, 4), (177, 1), (178, 1), (179, 1), (180, 2), (181, 1), (182, 2), (183, 1), (184, 1), (185, 10), (186, 4), (187, 9), (188, 7), (189, 2), (190, 3), (191, 3), (192, 1), (193, 3), (194, 1), (195, 1), (196, 1), (197, 6), (198, 1), (199, 1), (200, 3), (201, 1), (202, 1), (203, 1), (204, 1), (205, 1), (206, 1), (207, 1), (208, 1), (209, 2), (210, 2), (211, 1), (212, 1), (213, 1), (214, 2), (215, 4), (216, 1), (217, 4), (218, 3), (219, 2), (220, 2), (221, 2), (222, 1), (223, 1), (224, 1), (225, 2), (226, 1), (227, 1), (228, 4), (229, 2), (230, 1), (231, 1), (232, 1), (233, 1), (234, 1), (235, 1), (236, 1), (237, 3), (238, 2), (239, 1), (240, 1), (241, 1), (242, 2), (243, 2), (244, 1), (245, 2), (246, 1), (247, 1), (248, 1), (249, 1), (250, 2), (251, 1), (252, 2), (253, 1), (254, 3), (255, 1), (256, 2), (257, 1), (258, 1), (259, 1), (260, 1), (261, 1), (262, 3), (263, 1), (264, 1), (265, 1), (266, 4), (267, 1), (268, 2), (269, 4), (270, 2), (271, 1), (272, 1), (273, 1), (274, 1), (275, 3), (276, 1), (277, 28), (278, 6), (279, 20), (280, 1), (281, 1), (282, 1), (283, 3), (284, 1), (285, 2), (286, 1), (287, 1), (288, 1), (289, 4), (290, 5), (291, 1), (292, 4), (293, 34), (294, 1), (295, 5), (296, 1), (297, 1), (298, 1), (299, 3), (300, 3), (301, 2), (302, 4), (303, 2), (304, 1), (305, 1), (306, 1), (307, 1), (308, 4), (309, 1), (310, 2), (311, 1), (312, 1), (313, 1), (314, 1), (315, 2), (316, 1), (317, 1), (318, 4), (319, 1), (320, 1), (321, 1), (322, 1), (323, 1), (324, 4), (325, 1), (326, 1), (327, 1), (328, 3), (329, 1), (330, 4), (331, 23), (332, 1), (333, 1), (334, 1), (335, 6), (336, 1), (337, 20), (338, 1), (339, 23), (340, 1), (341, 1), (342, 3), (343, 1), (344, 1), (345, 1), (346, 1), (347, 1), (348, 1), (349, 1), (350, 1), (351, 1), (352, 1), (353, 3), (354, 12), (355, 1), (356, 1), (357, 1), (358, 1), (359, 6), (360, 1), (361, 1), (362, 13), (363, 2), (364, 2), (365, 1), (366, 3), (367, 1), (368, 4), (369, 3), (370, 2), (371, 40), (372, 5), (373, 1), (374, 1), (375, 1), (376, 2), (377, 1), (378, 1), (379, 13), (380, 1), (381, 2), (382, 1), (383, 1), (384, 1), (385, 1), (386, 1), (387, 6), (388, 1), (389, 2), (390, 3), (391, 1), (392, 5), (393, 1), (394, 3), (395, 1), (396, 2), (397, 1), (398, 1), (399, 1), (400, 1), (401, 5), (402, 3), (403, 1), (404, 18), (405, 1), (406, 1), (407, 20), (408, 1), (409, 2), (410, 1), (411, 1), (412, 1), (413, 1), (414, 1), (415, 1), (416, 1), (417, 1), (418, 1), (419, 1), (420, 1), (421, 1), (422, 3), (423, 1), (424, 1), (425, 2), (426, 2), (427, 4), (428, 1), (429, 1), (430, 1), (431, 1), (432, 4), (433, 3), (434, 2), (435, 1), (436, 1), (437, 1), (438, 3), (439, 1), (440, 1), (441, 1), (442, 2), (443, 1), (444, 1), (445, 1), (446, 1), (447, 1), (448, 1), (449, 1), (450, 2), (451, 7), (452, 1), (453, 6), (454, 1), (455, 1), (456, 3), (457, 1), (458, 2), (459, 1), (460, 10), (461, 2), (462, 1), (463, 4), (464, 1), (465, 1), (466, 3), (467, 1), (468, 1), (469, 1), (470, 1), (471, 1), (472, 1), (473, 7), (474, 12), (475, 4), (476, 2), (477, 1), (478, 1), (479, 18), (480, 19), (481, 1), (482, 1), (483, 7), (484, 6), (485, 1), (486, 3), (487, 1), (488, 6), (489, 1), (490, 2), (491, 2), (492, 1), (493, 1), (494, 1), (495, 3), (496, 2), (497, 1), (498, 2), (499, 7), (500, 1), (501, 1), (502, 1), (503, 2), (504, 1), (505, 3), (506, 1), (507, 1), (508, 9), (509, 15), (510, 1), (511, 1), (512, 1), (513, 1), (514, 2), (515, 1), (516, 4), (517, 2), (518, 3), (519, 1), (520, 1), (521, 1), (522, 3), (523, 2), (524, 8), (525, 1), (526, 2), (527, 1), (528, 1), (529, 2), (530, 6), (531, 2), (532, 1), (533, 6), (534, 1), (535, 1), (536, 1), (537, 1), (538, 1), (539, 1), (540, 1), (541, 1), (542, 1), (543, 2), (544, 1), (545, 1), (546, 3), (547, 1), (548, 6), (549, 1), (550, 2), (551, 5), (552, 1), (553, 6), (554, 1), (555, 4), (556, 3), (557, 6), (558, 6), (559, 1), (560, 1), (561, 6), (562, 3), (563, 2), (564, 1), (565, 2), (566, 12), (567, 1), (568, 1), (569, 1), (570, 7), (571, 8), (572, 22), (573, 1), (574, 2), (575, 2), (576, 1), (577, 5), (578, 1), (579, 1), (580, 4), (581, 2), (582, 1), (583, 4), (584, 1), (585, 1), (586, 2), (587, 1), (588, 1), (589, 1), (590, 2), (591, 1), (592, 2), (593, 4), (594, 2), (595, 1), (596, 1), (597, 1), (598, 2), (599, 15), (600, 1), (601, 1), (602, 1), (603, 1), (604, 6), (605, 1), (606, 3), (607, 2), (608, 1), (609, 2), (610, 3), (611, 1), (612, 2), (613, 1), (614, 2), (615, 1), (616, 2), (617, 4), (618, 2), (619, 1), (620, 1), (621, 1), (622, 2), (623, 11), (624, 1), (625, 2), (626, 1), (627, 1), (628, 6), (629, 1), (630, 1), (631, 1), (632, 7), (633, 3), (634, 3), (635, 7), (636, 1), (637, 1), (638, 1), (639, 4), (640, 11), (641, 3), (642, 1), (643, 9), (644, 8), (645, 1), (646, 2), (647, 1), (648, 1), (649, 1), (650, 1), (651, 1), (652, 1), (653, 1), (654, 1), (655, 1), (656, 1), (657, 5), (658, 1), (659, 5), (660, 1), (661, 1), (662, 3), (663, 1), (664, 1), (665, 2), (666, 6), (667, 1), (668, 2), (669, 2), (670, 1), (671, 1), (672, 2), (673, 2), (674, 1), (675, 2), (676, 1), (677, 1), (678, 1), (679, 1), (680, 1), (681, 1), (682, 11), (683, 1), (684, 4), (685, 1), (686, 1), (687, 1), (688, 1), (689, 1), (690, 2), (691, 4), (692, 2), (693, 2), (694, 3), (695, 1), (696, 1), (697, 1), (698, 1), (699, 1), (700, 1), (701, 1), (702, 1), (703, 1), (704, 1), (705, 1), (706, 1), (707, 5), (708, 1), (709, 1), (710, 1), (711, 1), (712, 1), (713, 1), (714, 1), (715, 1), (716, 4), (717, 1), (718, 1), (719, 1), (720, 1), (721, 1), (722, 1), (723, 1), (724, 19), (725, 1), (726, 1), (727, 1), (728, 2), (729, 1), (730, 5), (731, 1), (732, 1), (733, 1), (734, 1), (735, 1), (736, 5), (737, 2), (738, 4), (739, 2), (740, 2), (741, 1), (742, 3), (743, 1), (744, 3), (745, 1), (746, 10), (747, 7), (748, 1), (749, 1), (750, 1), (751, 1), (752, 1), (753, 2), (754, 1), (755, 1), (756, 1), (757, 1), (758, 2), (759, 4), (760, 1), (761, 1), (762, 1), (763, 2), (764, 2), (765, 3), (766, 2), (767, 2), (768, 2), (769, 2), (770, 2), (771, 2), (772, 2), (773, 1), (774, 1), (775, 2), (776, 2), (777, 1), (778, 3), (779, 1), (780, 1), (781, 1), (782, 1), (783, 3), (784, 1), (785, 2), (786, 7), (787, 2), (788, 1), (789, 1), (790, 2), (791, 2), (792, 1), (793, 1), (794, 1), (795, 1), (796, 1), (797, 1), (798, 1), (799, 1), (800, 1), (801, 2), (802, 1), (803, 5), (804, 1), (805, 1), (806, 1), (807, 1), (808, 8), (809, 1), (810, 9), (811, 2), (812, 2), (813, 1), (814, 5), (815, 1), (816, 1), (817, 1), (818, 3), (819, 2), (820, 1), (821, 1), (822, 1), (823, 1), (824, 1), (825, 1), (826, 2), (827, 1), (828, 102), (829, 2), (830, 1), (831, 2), (832, 7), (833, 2), (834, 1), (835, 1), (836, 1), (837, 1), (838, 1), (839, 1), (840, 1), (841, 2), (842, 20), (843, 4), (844, 1), (845, 3), (846, 3), (847, 1), (848, 2), (849, 1), (850, 1), (851, 2), (852, 9), (853, 1), (854, 5), (855, 5), (856, 5), (857, 3), (858, 1), (859, 1), (860, 1), (861, 1), (862, 1), (863, 2), (864, 2), (865, 1), (866, 1), (867, 2), (868, 1), (869, 2), (870, 1), (871, 1), (872, 1), (873, 3), (874, 10), (875, 2), (876, 1), (877, 2), (878, 1), (879, 1), (880, 1)]]\n",
      "Dictionary<7173 unique tokens: ['abattoir', 'abondantes', 'accessoires', 'accès', 'acheté']...>\n"
     ]
    },
    {
     "data": {
      "text/html": [
       "\n",
       "<link rel=\"stylesheet\" type=\"text/css\" href=\"https://cdn.jsdelivr.net/gh/bmabey/pyLDAvis@3.4.0/pyLDAvis/js/ldavis.v1.0.0.css\">\n",
       "\n",
       "\n",
       "<div id=\"ldavis_el2467311294660800640643474\" style=\"background-color:white;\"></div>\n",
       "<script type=\"text/javascript\">\n",
       "\n",
       "var ldavis_el2467311294660800640643474_data = {\"mdsDat\": {\"x\": [-0.10849749257034945, 0.11682492089535061, 0.07191057820933815, -0.08023800653433931], \"y\": [0.10661102074308844, 0.030632523194276538, -0.019873744132040367, -0.11736979980532464], \"topics\": [1, 2, 3, 4], \"cluster\": [1, 1, 1, 1], \"Freq\": [10.34073885007188, 19.57261562365455, 29.097566199726327, 40.98907932654725]}, \"tinfo\": {\"Term\": [\"fr\", \"idem\", \"droits\", \"march\\u00e9s\", \"travaux\", \"total\", \"totaux\", \"cercle\", \"oran\", \"province\", \"produits\", \"quantit\\u00e9s\", \"alger\", \"contributions\", \"ann\\u00e9e\", \"nombre\", \"produit\", \"c\\u00e9r\\u00e9ales\", \"l\\u00e9gumes\", \"d\\u00e9signation\", \"tribus\", \"per\\u00e7us\", \"comparaison\", \"recettes\", \"augustin\", \"valeurs\", \"saint\", \"r\\u00e9sultats\", \"d\\u00e9pense\", \"r\\u00e9gie\", \"cercle\", \"kil\", \"patentes\", \"mesur\\u00e9es\", \"contributions\", \"poids\", \"march\\u00e9s\", \"constat\\u00e9s\", \"ferm\\u00e9s\", \"imp\\u00f4t\", \"vente\", \"aghalik\", \"kaidat\", \"patentables\", \"effectu\\u00e9es\", \"recettes\", \"d\\u00e9bitants\", \"d\\u00e9livr\\u00e9es\", \"manquants\", \"montant\", \"ouverts\", \"v\\u00e9rification\", \"v\\u00e9rifi\\u00e9s\", \"poudres\", \"achour\", \"consommateurs\", \"eussa\", \"makhzen\", \"mesurage\", \"sommaire\", \"droits\", \"tribus\", \"fr\", \"totaux\", \"l\\u00e9gumes\", \"classe\", \"r\\u00e9gie\", \"produit\", \"comparaison\", \"huiles\", \"ferme\", \"provinces\", \"idem\", \"total\", \"province\", \"d\\u00e9signation\", \"r\\u00e9sultats\", \"c\\u00e9r\\u00e9ales\", \"quantit\\u00e9s\", \"produits\", \"oran\", \"nombre\", \"alger\", \"ann\\u00e9e\", \"per\\u00e7us\", \"mois\", \"service\", \"augustin\", \"hippone\", \"canada\", \"seybouse\", \"in\", \"reliques\", \"marseille\", \"deus\", \"\\u00e9v\\u00eaques\", \"clerg\\u00e9\", \"translation\", \"triomphe\", \"navire\", \"maritime\", \"tibi\", \"confiteantur\", \"digne\", \"dioc\\u00e8se\", \"divine\", \"paquebots\", \"populi\", \"\\u00e2me\", \"\\u00e9v\\u00eaque\", \"humaine\", \"occasion\", \"vaisseaux\", \"civilisation\", \"barre\", \"d\\u00e9partements\", \"juments\", \"saint\", \"restes\", \"pourrait\", \"m\\u00e9diterran\\u00e9e\", \"enfants\", \"syst\\u00e8me\", \"gloire\", \"bordeaux\", \"toulon\", \"aurait\", \"avons\", \"jours\", \"homme\", \"serait\", \"afrique\", \"france\", \"ans\", \"\\u00e9glise\", \"port\", \"faire\", \"faut\", \"hommes\", \"alger\", \"chevaux\", \"terre\", \"alg\\u00e9rie\", \"mer\", \"temps\", \"m\\u00e8tres\", \"commerce\", \"grands\", \"point\", \"guerre\", \"batterie\", \"face\", \"atlas\", \"ravins\", \"casbah\", \"attaque\", \"m\\u00e9tidja\", \"hameau\", \"fondouk\", \"agricole\", \"hectares\", \"bourmont\", \"dey\", \"tirailleurs\", \"bouzar\\u00e9a\", \"canon\", \"ch\\u00e9ragas\", \"plaine\", \"fit\", \"canons\", \"capitulation\", \"lahitte\", \"pentes\", \"travailleurs\", \"d\\u00e9frichements\", \"centres\", \"bataillon\", \"bataillons\", \"berthier\", \"bless\\u00e9\", \"concessions\", \"eut\", \"pi\\u00e8ces\", \"division\", \"turcs\", \"empereur\", \"sahel\", \"ennemi\", \"fort\", \"fut\", \"sud\", \"brigade\", \"heures\", \"furent\", \"culture\", \"routes\", \"presque\", \"sol\", \"alger\", \"position\", \"colons\", \"colonisation\", \"habitants\", \"ligne\", \"boufarik\", \"arabes\", \"arm\\u00e9e\", \"terres\", \"ville\", \"feu\", \"g\\u00e9n\\u00e9ral\", \"mer\", \"guerre\", \"alg\\u00e9rie\", \"point\", \"territoire\", \"pays\", \"ann\\u00e9e\", \"afrique\", \"idem\", \"partie\", \"temps\", \"faire\", \"travaux\", \"b\\u00f4ne\", \"entretien\", \"logement\", \"ordinaires\", \"voirie\", \"magasin\", \"importations\", \"d\\u00e9pens\\u00e9\", \"fontaines\", \"restant\", \"caserne\", \"b\\u00e2timent\", \"kadi\", \"kadis\", \"r\\u00e9parations\", \"d\\u00e9pense\", \"mosqu\\u00e9e\", \"musulman\", \"ordinaire\", \"muphti\", \"exportation\", \"olives\", \"exportations\", \"tribunal\", \"batiments\", \"rues\", \"ler\", \"fonctions\", \"\\u00e9gouts\", \"oulemas\", \"prison\", \"b\\u00e2timents\", \"valeurs\", \"travaux\", \"extraordinaires\", \"ex\\u00e9cut\\u00e9s\", \"sp\\u00e9cial\", \"tissus\", \"h\\u00f4pital\", \"enceinte\", \"commerce\", \"francs\", \"construction\", \"culte\", \"marchandises\", \"kilog\", \"idem\", \"partie\", \"ville\", \"\\u00e9tablissement\", \"g\\u00e9n\\u00e9ral\", \"service\", \"alger\", \"ann\\u00e9e\", \"faire\", \"alg\\u00e9rie\", \"france\", \"fr\", \"m\\u00e8tres\", \"hommes\", \"oran\"], \"Freq\": [123.0, 140.0, 46.0, 35.0, 149.0, 45.0, 27.0, 20.0, 50.0, 34.0, 43.0, 26.0, 130.0, 15.0, 62.0, 39.0, 17.0, 21.0, 15.0, 17.0, 13.0, 19.0, 14.0, 12.0, 15.0, 38.0, 18.0, 17.0, 33.0, 11.0, 18.909312456167193, 6.396885722903392, 6.396885722903392, 6.396885722903392, 13.790894944798849, 5.259609102445544, 31.985841542772324, 7.826974307603849, 4.122332754123337, 4.122332754123337, 4.122332754123337, 3.5536933553518426, 3.5536933553518426, 3.5536933553518426, 4.031342297136051, 10.378051650292988, 2.985054228715991, 2.985054228715991, 2.985054228715991, 2.985054228715991, 2.985054228715991, 2.985054228715991, 2.985054228715991, 6.397461017651435, 2.416412924995, 2.416412924995, 2.416412924995, 2.416412924995, 2.416412924995, 2.416412924995, 35.202552325627316, 10.378477270437708, 88.46943376067216, 19.324314956663063, 11.286786581174791, 4.665384054846507, 8.103691081412112, 11.89856709906531, 9.117038218861733, 6.934210473303454, 8.104813368801386, 8.67406507276829, 47.547770211857525, 20.362686599245592, 16.259017179613966, 9.759709397792822, 9.370362757120231, 10.400231793691487, 11.683410128925265, 15.53308446807551, 15.543703200842115, 12.219145062902403, 19.39811814288304, 12.462182873878026, 7.836967128392925, 6.967495383725892, 6.967310331489057, 15.128288729544416, 8.008836094630638, 5.872997780217803, 5.872997780217803, 5.161051847110035, 5.161051847110035, 10.856777959547781, 4.449103338554611, 4.449103338554611, 4.449103338554611, 3.737154572454421, 3.737154572454421, 3.737154572454421, 3.73715405736489, 3.0252032309065755, 3.0252032309065755, 3.0252032309065755, 3.0252032309065755, 3.0252032309065755, 3.0252032309065755, 3.0252032309065755, 3.0252032309065755, 3.0252032309065755, 3.025202458272279, 3.025202458272279, 3.025202458272279, 3.025202458272279, 3.025202458272279, 3.025202458272279, 3.025202458272279, 15.840510235551362, 5.873002931113114, 8.721043693220244, 6.585032823814464, 6.585162111286789, 7.297108559484088, 5.8730765889160725, 4.44916463420882, 6.585138932257886, 7.29712298199096, 9.433005594103477, 6.585154384943821, 5.161219251207666, 10.856921154437448, 19.40049487040813, 23.672346629674404, 8.00892881074625, 10.856918063900261, 8.721005576594935, 14.416712115630498, 8.721024119818058, 10.856899520677139, 17.262973243407423, 9.432889183869433, 8.720677979653109, 11.568591514646037, 9.432642971073532, 8.721017938743683, 8.720754212903724, 8.720893287077141, 6.585118328676639, 7.297062716515813, 7.297066322142531, 8.842137048412559, 8.056095968348886, 8.056095968348886, 7.270054122529017, 7.270054122529017, 6.484010745196751, 6.484010745196751, 6.484010745196751, 6.484010745196751, 5.697968899376882, 14.344459067887183, 4.911925904922715, 4.911925904922715, 4.911925904922715, 4.911925904922715, 4.911925904922715, 4.911924756288417, 11.200271009190349, 10.414229929126677, 4.125879464565655, 4.125879464565655, 4.125879464565655, 4.125879464565655, 4.125878698809457, 4.125879081687556, 10.414249838787836, 3.33983072694, 3.33983072694, 3.33983072694, 3.33983072694, 8.056121238303433, 7.270057185553811, 7.270057185553811, 11.986331998915178, 13.55843330294748, 7.27007632945877, 7.270074032190175, 10.414183217998577, 26.92113013251749, 29.279221210948172, 10.414208487953124, 8.842161552610905, 12.772387628346618, 11.200291684607704, 9.62820569569937, 8.056091373811697, 15.130441950479778, 14.34444222125082, 51.28580770097883, 13.558421050848304, 12.772375376247444, 13.558387357575576, 10.414192407072957, 11.200278666752332, 9.628042589629118, 15.915922497006243, 13.558387357575576, 12.77220767564, 24.56254284407027, 10.413821781072947, 22.204621763515622, 16.7019712346319, 15.916426364584769, 20.632245553008108, 15.130423572331017, 11.986294476861458, 16.702423030788935, 18.272792960056726, 15.916286996956666, 22.98301600218238, 15.130494021901267, 13.558280151707805, 14.34426762883759, 15.916499877179813, 12.771761239776351, 23.63831428692846, 21.127932165463545, 21.127873915483715, 20.29113668670413, 17.780755643942545, 17.77922496391702, 16.94396124388646, 16.94396124388646, 16.10716900123704, 16.10716900123704, 16.10716900123704, 15.270373522477627, 14.433572650201562, 14.433572650201562, 32.006262602302606, 11.923190528736646, 11.086393971273903, 10.24959741381116, 10.24959741381116, 10.248051631939013, 10.248051631939013, 21.87749722072473, 9.412800856348417, 9.412799777645088, 21.127930008056882, 8.576004838237338, 8.576004838237338, 8.576004838237338, 7.739206662719601, 7.739206662719601, 32.84303219218209, 34.94185447467731, 131.58481454693302, 20.29107196450432, 21.964736273849596, 23.346982406327143, 23.55114858563005, 19.45435199497802, 32.84306023846868, 64.3565280114125, 49.56990439087011, 39.525519498592125, 27.822218328899073, 25.766080337179027, 28.865827124933645, 70.19960937700408, 28.658953400271994, 36.1896121907615, 22.80141741005601, 33.38006464511151, 24.474048321610976, 43.002490998316866, 30.615160315484292, 26.985125128020528, 28.21103478685529, 26.912867106745185, 30.90019256863737, 21.96408473703817, 21.964522690590222, 21.897502852686223], \"Total\": [123.0, 140.0, 46.0, 35.0, 149.0, 45.0, 27.0, 20.0, 50.0, 34.0, 43.0, 26.0, 130.0, 15.0, 62.0, 39.0, 17.0, 21.0, 15.0, 17.0, 13.0, 19.0, 14.0, 12.0, 15.0, 38.0, 18.0, 17.0, 33.0, 11.0, 20.32487797718711, 6.980580277538724, 6.980580277538724, 6.980580294393464, 15.207463001822799, 5.843303657080876, 35.71244084466046, 8.815461540392123, 4.706027308758669, 4.706027308758669, 4.706027308758669, 4.137387909987174, 4.137387909987174, 4.137387909987174, 4.747701939548095, 12.384160062518776, 3.5687487833513223, 3.5687487833513223, 3.5687487833513223, 3.5687487833513223, 3.5687487833513223, 3.5687487833513223, 3.5687487833513223, 7.765413108791021, 3.0001074796303313, 3.0001074796303313, 3.0001074796303313, 3.0001074796303313, 3.0001074796303313, 3.0001074796303313, 46.64915931834029, 13.469693492958996, 123.2960813981034, 27.60914727106056, 15.50022170490206, 6.122326187632468, 11.195254098790837, 17.444458534714098, 14.064649158840085, 10.073212935386179, 12.664359920967435, 13.870065695333768, 140.90838221918986, 45.66315583208102, 34.765100790171104, 17.89393787963323, 17.850773318204972, 21.674444298979495, 26.243118338397274, 43.5809616382069, 50.31288949386039, 39.99397383513211, 130.94939008558615, 62.95025495307303, 19.689063059483733, 24.084230738808937, 37.0189189079977, 15.676156907986705, 8.55670423920971, 6.420866026847742, 6.420866026847742, 5.7089199916891085, 5.7089199916891085, 12.189524524576282, 4.996971483133684, 4.996971483133684, 4.996971534159117, 4.2850227170334945, 4.2850227170334945, 4.285022768058927, 4.285022286986352, 3.573071375485649, 3.5730713924941266, 3.5730713924941266, 3.5730713924941266, 3.5730713924941266, 3.5730713924941266, 3.5730713924941266, 3.5730713924941266, 3.5730713924941266, 3.573070636868308, 3.573070636868308, 3.573070636868308, 3.573070670885263, 3.573070721910696, 3.573070721910696, 3.573070721910696, 18.897234352741663, 6.98915636472667, 11.726005754841454, 8.703995827076062, 8.75323838625338, 10.251323091646409, 7.9920512699596955, 5.782018692263666, 9.539381179573475, 11.037394497909897, 15.582265082020585, 10.158428354263716, 7.329353999289656, 20.201124786621286, 44.871339632941456, 63.33064552642544, 14.058156619961249, 24.74028739849462, 19.941834927699617, 55.88832750897674, 22.73074342179259, 42.5916438362661, 130.94939008558615, 31.63703604760741, 28.311191026106812, 64.27036883118642, 36.82455330674358, 31.565555966390626, 40.722886320492364, 79.24435082319694, 14.408023264849529, 33.655873439395236, 35.006219935792075, 9.371481873587685, 8.585440878566402, 8.585440894816687, 7.799398930849404, 7.799398947704144, 7.013355553517138, 7.013355893686691, 7.013355944712123, 7.013355961566863, 6.227314013849866, 15.70916046162564, 5.441270713243101, 5.441270713243101, 5.441270713243101, 5.4412707302515795, 5.4412707302515795, 5.441269972812267, 12.440886279829979, 11.654844565617433, 4.6552242898945195, 4.6552242898945195, 4.6552242898945195, 4.6552242898945195, 4.655223847299396, 4.655224298211406, 11.778964716317919, 3.8691755522688642, 3.8691755522688642, 3.8691755522688642, 3.8691755522688642, 9.420842367876215, 8.510679180287664, 8.510679180287664, 14.187978418751051, 16.471339136195866, 8.634801687254605, 8.634799983437869, 12.935127082860207, 37.80617478497652, 42.32156008908462, 13.184152753716013, 11.043818236224963, 17.35896354216581, 14.825228676811491, 12.41621254020769, 10.008733039642143, 22.296390868474905, 21.06696722459606, 130.94939008558615, 20.530624191122534, 18.907778307575814, 20.992873431265423, 14.60743317552705, 16.37403666900255, 12.966720769288468, 28.975817053198675, 22.666487428287013, 21.418287726036844, 69.46757399360249, 14.923625758797742, 61.94207860043532, 36.82455330674358, 35.006219935792075, 64.27036883118642, 33.655873439395236, 20.13273907325141, 44.358690730893855, 62.95025495307303, 44.871339632941456, 140.90838221918986, 45.53295000151167, 31.565555966390626, 55.88832750897674, 149.2447233455569, 33.48091962513688, 24.154970804011707, 21.644588545888908, 21.64456946109454, 20.80779322862919, 18.297411976508148, 18.296889286902086, 17.460617559443584, 17.460617697013397, 16.623825316794164, 16.623825333802642, 16.623825357732525, 15.787029870227848, 14.950228997951783, 14.950229006697045, 33.23419863686767, 12.439846885232129, 11.603050319024124, 10.766253746376762, 10.76625376156138, 10.765725157422418, 10.765725174430896, 23.021720527002575, 9.92945718891402, 9.92945611021069, 22.35587002823447, 9.092661170802941, 9.09266118598756, 9.092661243504514, 8.255863010469822, 8.25586301229368, 35.49496881838219, 38.01245129229947, 149.2447233455569, 22.08733676447688, 24.052579824696174, 25.76722116559505, 26.26649897333374, 21.542196490357163, 38.075132841668776, 79.24435082319694, 60.43840826601472, 47.543276166959856, 32.61005245877587, 30.240255258064007, 39.509495078097046, 140.90838221918986, 45.53295000151167, 69.46757399360249, 30.80668930559349, 61.94207860043532, 37.0189189079977, 130.94939008558615, 62.95025495307303, 55.88832750897674, 64.27036883118642, 63.33064552642544, 123.2960813981034, 40.722886320492364, 42.5916438362661, 50.31288949386039], \"Category\": [\"Default\", \"Default\", \"Default\", \"Default\", \"Default\", \"Default\", \"Default\", \"Default\", \"Default\", \"Default\", \"Default\", \"Default\", \"Default\", \"Default\", \"Default\", \"Default\", \"Default\", \"Default\", \"Default\", \"Default\", \"Default\", \"Default\", \"Default\", \"Default\", \"Default\", \"Default\", \"Default\", \"Default\", \"Default\", \"Default\", \"Topic1\", \"Topic1\", \"Topic1\", \"Topic1\", \"Topic1\", \"Topic1\", \"Topic1\", \"Topic1\", \"Topic1\", \"Topic1\", \"Topic1\", \"Topic1\", \"Topic1\", \"Topic1\", \"Topic1\", \"Topic1\", \"Topic1\", \"Topic1\", \"Topic1\", \"Topic1\", \"Topic1\", \"Topic1\", \"Topic1\", \"Topic1\", \"Topic1\", \"Topic1\", \"Topic1\", \"Topic1\", \"Topic1\", \"Topic1\", \"Topic1\", \"Topic1\", \"Topic1\", \"Topic1\", \"Topic1\", \"Topic1\", \"Topic1\", \"Topic1\", \"Topic1\", \"Topic1\", \"Topic1\", \"Topic1\", \"Topic1\", \"Topic1\", \"Topic1\", \"Topic1\", \"Topic1\", \"Topic1\", \"Topic1\", \"Topic1\", \"Topic1\", \"Topic1\", \"Topic1\", \"Topic1\", \"Topic1\", \"Topic1\", \"Topic1\", \"Topic2\", \"Topic2\", \"Topic2\", \"Topic2\", \"Topic2\", \"Topic2\", \"Topic2\", \"Topic2\", \"Topic2\", \"Topic2\", \"Topic2\", \"Topic2\", \"Topic2\", \"Topic2\", \"Topic2\", \"Topic2\", \"Topic2\", \"Topic2\", \"Topic2\", \"Topic2\", \"Topic2\", \"Topic2\", \"Topic2\", \"Topic2\", \"Topic2\", \"Topic2\", \"Topic2\", \"Topic2\", \"Topic2\", \"Topic2\", \"Topic2\", \"Topic2\", \"Topic2\", \"Topic2\", \"Topic2\", \"Topic2\", \"Topic2\", \"Topic2\", \"Topic2\", \"Topic2\", \"Topic2\", \"Topic2\", \"Topic2\", \"Topic2\", \"Topic2\", \"Topic2\", \"Topic2\", \"Topic2\", \"Topic2\", \"Topic2\", \"Topic2\", \"Topic2\", \"Topic2\", \"Topic2\", \"Topic2\", \"Topic2\", \"Topic2\", \"Topic2\", \"Topic2\", \"Topic2\", \"Topic2\", \"Topic2\", \"Topic2\", \"Topic3\", \"Topic3\", \"Topic3\", \"Topic3\", \"Topic3\", \"Topic3\", \"Topic3\", \"Topic3\", \"Topic3\", \"Topic3\", \"Topic3\", \"Topic3\", \"Topic3\", \"Topic3\", \"Topic3\", \"Topic3\", \"Topic3\", \"Topic3\", \"Topic3\", \"Topic3\", \"Topic3\", \"Topic3\", \"Topic3\", \"Topic3\", \"Topic3\", \"Topic3\", \"Topic3\", \"Topic3\", \"Topic3\", \"Topic3\", \"Topic3\", \"Topic3\", \"Topic3\", \"Topic3\", \"Topic3\", \"Topic3\", \"Topic3\", \"Topic3\", \"Topic3\", \"Topic3\", \"Topic3\", \"Topic3\", \"Topic3\", \"Topic3\", \"Topic3\", \"Topic3\", \"Topic3\", \"Topic3\", \"Topic3\", \"Topic3\", \"Topic3\", \"Topic3\", \"Topic3\", \"Topic3\", \"Topic3\", \"Topic3\", \"Topic3\", \"Topic3\", \"Topic3\", \"Topic3\", \"Topic3\", \"Topic3\", \"Topic3\", \"Topic3\", \"Topic3\", \"Topic3\", \"Topic3\", \"Topic3\", \"Topic3\", \"Topic3\", \"Topic3\", \"Topic3\", \"Topic3\", \"Topic3\", \"Topic3\", \"Topic4\", \"Topic4\", \"Topic4\", \"Topic4\", \"Topic4\", \"Topic4\", \"Topic4\", \"Topic4\", \"Topic4\", \"Topic4\", \"Topic4\", \"Topic4\", \"Topic4\", \"Topic4\", \"Topic4\", \"Topic4\", \"Topic4\", \"Topic4\", \"Topic4\", \"Topic4\", \"Topic4\", \"Topic4\", \"Topic4\", \"Topic4\", \"Topic4\", \"Topic4\", \"Topic4\", \"Topic4\", \"Topic4\", \"Topic4\", \"Topic4\", \"Topic4\", \"Topic4\", \"Topic4\", \"Topic4\", \"Topic4\", \"Topic4\", \"Topic4\", \"Topic4\", \"Topic4\", \"Topic4\", \"Topic4\", \"Topic4\", \"Topic4\", \"Topic4\", \"Topic4\", \"Topic4\", \"Topic4\", \"Topic4\", \"Topic4\", \"Topic4\", \"Topic4\", \"Topic4\", \"Topic4\", \"Topic4\", \"Topic4\", \"Topic4\", \"Topic4\", \"Topic4\", \"Topic4\"], \"logprob\": [30.0, 29.0, 28.0, 27.0, 26.0, 25.0, 24.0, 23.0, 22.0, 21.0, 20.0, 19.0, 18.0, 17.0, 16.0, 15.0, 14.0, 13.0, 12.0, 11.0, 10.0, 9.0, 8.0, 7.0, 6.0, 5.0, 4.0, 3.0, 2.0, 1.0, -4.8172, -5.9011, -5.9011, -5.9011, -5.1329, -6.0968, -4.2916, -5.6993, -6.3405, -6.3405, -6.3405, -6.4889, -6.4889, -6.4889, -6.3628, -5.4172, -6.6633, -6.6633, -6.6633, -6.6633, -6.6633, -6.6633, -6.6633, -5.901, -6.8746, -6.8746, -6.8746, -6.8746, -6.8746, -6.8746, -4.1958, -5.4172, -3.2742, -4.7955, -5.3333, -6.2167, -5.6646, -5.2805, -5.5467, -5.8204, -5.6644, -5.5966, -3.8952, -4.7432, -4.9682, -5.4786, -5.5193, -5.4151, -5.2987, -5.0139, -5.0132, -5.2539, -4.7917, -5.2342, -5.698, -5.8156, -5.8157, -5.6784, -6.3144, -6.6246, -6.6246, -6.7538, -6.7538, -6.0101, -6.9022, -6.9022, -6.9022, -7.0766, -7.0766, -7.0766, -7.0766, -7.288, -7.288, -7.288, -7.288, -7.288, -7.288, -7.288, -7.288, -7.288, -7.288, -7.288, -7.288, -7.288, -7.288, -7.288, -7.288, -5.6324, -6.6246, -6.2292, -6.5101, -6.5101, -6.4075, -6.6246, -6.9022, -6.5101, -6.4075, -6.1507, -6.5101, -6.7538, -6.0101, -5.4296, -5.2306, -6.3144, -6.0101, -6.2292, -5.7265, -6.2292, -6.0101, -5.5464, -6.1507, -6.2292, -5.9466, -6.1508, -6.2292, -6.2292, -6.2292, -6.5101, -6.4075, -6.4075, -6.6119, -6.705, -6.705, -6.8077, -6.8077, -6.9221, -6.9221, -6.9221, -6.9221, -7.0513, -6.1281, -7.1998, -7.1998, -7.1998, -7.1998, -7.1998, -7.1998, -6.3755, -6.4483, -7.3742, -7.3742, -7.3742, -7.3742, -7.3742, -7.3742, -6.4483, -7.5855, -7.5855, -7.5855, -7.5855, -6.705, -6.8077, -6.8077, -6.3077, -6.1844, -6.8077, -6.8077, -6.4483, -5.4985, -5.4146, -6.4483, -6.6119, -6.2442, -6.3755, -6.5268, -6.705, -6.0747, -6.1281, -4.854, -6.1844, -6.2442, -6.1844, -6.4483, -6.3755, -6.5268, -6.0241, -6.1844, -6.2442, -5.5902, -6.4483, -5.6912, -5.9759, -6.0241, -5.7646, -6.0747, -6.3077, -5.9759, -5.886, -6.0241, -5.6567, -6.0747, -6.1845, -6.1281, -6.0241, -6.2442, -5.9712, -6.0835, -6.0835, -6.1239, -6.256, -6.2561, -6.3042, -6.3042, -6.3548, -6.3548, -6.3548, -6.4082, -6.4645, -6.4645, -5.6682, -6.6556, -6.7284, -6.8069, -6.8069, -6.807, -6.807, -6.0486, -6.892, -6.892, -6.0835, -6.9851, -6.9851, -6.9851, -7.0878, -7.0878, -5.6424, -5.5804, -4.2545, -6.1239, -6.0447, -5.9836, -5.9749, -6.166, -5.6424, -4.9697, -5.2307, -5.4572, -5.8083, -5.885, -5.7714, -4.8828, -5.7786, -5.5453, -6.0073, -5.6261, -5.9365, -5.3728, -5.7126, -5.8388, -5.7944, -5.8415, -5.7033, -6.0447, -6.0447, -6.0477], \"loglift\": [30.0, 29.0, 28.0, 27.0, 26.0, 25.0, 24.0, 23.0, 22.0, 21.0, 20.0, 19.0, 18.0, 17.0, 16.0, 15.0, 14.0, 13.0, 12.0, 11.0, 10.0, 9.0, 8.0, 7.0, 6.0, 5.0, 4.0, 3.0, 2.0, 1.0, 2.1969, 2.1818, 2.1818, 2.1818, 2.1713, 2.1638, 2.1589, 2.1501, 2.1367, 2.1367, 2.1367, 2.117, 2.117, 2.117, 2.1055, 2.0924, 2.0905, 2.0905, 2.0905, 2.0905, 2.0905, 2.0905, 2.0905, 2.0753, 2.0527, 2.0527, 2.0527, 2.0527, 2.0527, 2.0527, 1.9875, 2.0084, 1.9371, 1.9123, 1.9519, 1.9973, 1.9459, 1.8865, 1.8356, 1.8957, 1.8227, 1.7997, 1.1827, 1.4615, 1.5091, 1.6629, 1.6246, 1.5348, 1.4598, 1.2374, 1.0945, 1.0834, 0.3594, 0.6494, 1.3479, 1.0288, 0.5989, 1.5955, 1.5649, 1.5419, 1.5419, 1.5301, 1.5301, 1.5153, 1.5149, 1.5149, 1.5149, 1.4942, 1.4942, 1.4942, 1.4942, 1.4646, 1.4646, 1.4646, 1.4646, 1.4646, 1.4646, 1.4646, 1.4646, 1.4646, 1.4646, 1.4646, 1.4646, 1.4646, 1.4646, 1.4646, 1.4646, 1.4546, 1.457, 1.335, 1.3521, 1.3464, 1.2911, 1.323, 1.369, 1.2604, 1.2172, 1.1291, 1.1976, 1.2803, 1.0101, 0.7925, 0.647, 1.0684, 0.8074, 0.804, 0.2761, 0.6731, 0.2642, -0.3952, 0.4209, 0.4535, -0.0838, 0.2691, 0.3447, 0.09, -0.5758, 0.8481, 0.1023, 0.063, 1.1764, 1.1709, 1.1709, 1.1642, 1.1642, 1.156, 1.156, 1.156, 1.156, 1.1457, 1.1436, 1.1322, 1.1322, 1.1322, 1.1322, 1.1322, 1.1322, 1.1295, 1.122, 1.1138, 1.1138, 1.1138, 1.1138, 1.1138, 1.1138, 1.1114, 1.0874, 1.0874, 1.0874, 1.0874, 1.078, 1.077, 1.077, 1.0659, 1.0399, 1.0625, 1.0625, 1.0177, 0.895, 0.8661, 0.9987, 1.0122, 0.9277, 0.9541, 0.9802, 1.0175, 0.8468, 0.8502, 0.2971, 0.8196, 0.8422, 0.7973, 0.8962, 0.8548, 0.9368, 0.6354, 0.7206, 0.7175, 0.1949, 0.8747, 0.2086, 0.4439, 0.4463, 0.0983, 0.435, 0.7159, 0.2578, -0.0024, 0.1981, -0.5788, 0.1328, 0.3894, -0.1255, -1.0037, 0.2708, 0.8702, 0.8677, 0.8677, 0.8667, 0.8632, 0.8632, 0.8618, 0.8618, 0.8603, 0.8603, 0.8603, 0.8586, 0.8567, 0.8567, 0.8542, 0.8494, 0.8463, 0.8427, 0.8427, 0.8426, 0.8426, 0.8409, 0.8384, 0.8384, 0.8354, 0.8334, 0.8334, 0.8334, 0.8272, 0.8272, 0.8142, 0.8076, 0.7659, 0.807, 0.8011, 0.7932, 0.7827, 0.7899, 0.744, 0.6838, 0.6936, 0.7072, 0.7331, 0.7317, 0.578, 0.1951, 0.4289, 0.2398, 0.591, 0.2736, 0.478, -0.2217, 0.171, 0.1638, 0.0685, 0.0361, -0.492, 0.2745, 0.2296, 0.06]}, \"token.table\": {\"Topic\": [1, 2, 3, 4, 1, 3, 1, 2, 3, 4, 1, 2, 3, 4, 1, 2, 3, 4, 2, 3, 1, 2, 3, 4, 2, 3, 4, 3, 3, 2, 2, 3, 4, 2, 3, 4, 2, 3, 3, 4, 3, 3, 3, 2, 3, 1, 3, 4, 3, 3, 3, 4, 4, 2, 4, 1, 2, 3, 4, 2, 3, 3, 3, 3, 4, 3, 4, 1, 4, 1, 2, 3, 4, 3, 2, 1, 4, 2, 2, 3, 4, 2, 3, 4, 1, 2, 3, 4, 1, 4, 3, 4, 2, 1, 1, 4, 1, 2, 3, 4, 1, 4, 2, 4, 2, 3, 4, 1, 3, 4, 2, 3, 2, 2, 2, 3, 4, 1, 2, 3, 4, 1, 3, 1, 2, 2, 4, 4, 1, 3, 4, 1, 3, 4, 3, 4, 2, 3, 4, 1, 2, 3, 4, 1, 2, 3, 4, 1, 4, 1, 2, 4, 3, 4, 3, 2, 3, 4, 2, 3, 4, 1, 3, 4, 1, 1, 3, 2, 3, 4, 3, 4, 1, 2, 3, 4, 1, 2, 4, 1, 2, 3, 4, 1, 2, 3, 4, 2, 3, 4, 2, 3, 4, 2, 3, 2, 3, 4, 1, 2, 3, 4, 1, 2, 3, 4, 1, 2, 3, 4, 3, 3, 4, 2, 3, 4, 2, 2, 3, 4, 2, 3, 4, 1, 4, 2, 3, 4, 1, 3, 4, 4, 1, 2, 1, 2, 3, 4, 2, 4, 4, 1, 1, 1, 3, 4, 3, 4, 2, 3, 4, 4, 1, 3, 4, 4, 1, 1, 1, 2, 4, 1, 3, 2, 2, 3, 1, 2, 3, 4, 1, 1, 1, 2, 3, 4, 1, 4, 4, 4, 1, 2, 3, 4, 2, 3, 3, 2, 1, 2, 3, 4, 2, 4, 1, 2, 3, 4, 4, 4, 4, 1, 2, 2, 3, 4, 1, 1, 1, 2, 3, 4, 3, 1, 4, 2, 3, 2, 3, 1, 2, 3, 4, 2, 2, 3, 4, 2, 3, 4, 1, 3, 2, 3, 4, 1, 2, 3, 4, 4, 1, 2, 3, 4, 1, 2, 3, 4, 1, 2, 3, 4, 1, 2, 3, 4, 1, 4, 3, 1, 2, 2, 4, 1, 2, 2, 3, 2, 4, 1, 4, 4, 1, 2, 3, 4, 3, 4, 2, 4, 2, 3, 4, 1, 2, 3, 4, 2, 2, 3, 4, 1, 1, 4, 1, 3, 4, 2, 3, 4, 1, 2, 3, 4, 1, 2, 3, 4, 1, 2, 3, 4, 2, 3, 4, 2, 3, 1, 3, 4, 1, 2, 3, 4, 1, 3, 4, 2, 3, 4, 2, 3, 2, 3, 4, 4, 1, 4, 2, 2, 3, 4, 2, 1, 4, 1, 1, 2, 3, 4, 4, 1, 1, 2, 2, 3, 4, 4, 2, 3, 4, 2, 2], \"Freq\": [0.6666427831600343, 0.423432867291787, 0.35657504614045216, 0.20057346345400434, 0.9667935632393725, 0.9634972616854862, 0.14509422294813243, 0.12982114684832902, 0.38946344054498705, 0.3283711361457734, 0.06223707865293981, 0.18671123595881942, 0.32674466292793397, 0.43565955057057865, 0.19062671007362136, 0.03177111834560356, 0.2859400651104321, 0.4924523343568552, 0.5690646516656928, 0.4267984887492695, 0.17255768804793872, 0.17255768804793872, 0.5521846017534039, 0.06902307521917549, 0.17647198370084174, 0.6176519429529461, 0.22058997962605217, 0.9318100372492067, 0.855510597490106, 0.9568671765691362, 0.6342076475861725, 0.27180327753693106, 0.09060109251231037, 0.5775797005522993, 0.25670208913435527, 0.12835104456717764, 0.8396139437161079, 0.7753589775064137, 0.7753589775064137, 0.9063940562409144, 0.96036039138755, 0.7753589775064137, 0.7753589775064137, 0.6917999081102929, 0.17294997702757323, 0.07712050084154574, 0.7712050084154575, 0.1542410016830915, 0.9189030032692317, 0.9189030003968987, 0.8149355419920793, 0.18109678710935095, 0.9624740188068474, 0.05634601371911156, 0.9297092263653408, 0.11947103140491014, 0.05973551570245507, 0.38828085206595797, 0.4181486099171855, 0.9344533860248815, 0.9189030003968987, 0.8592496839911947, 0.8592496839911947, 0.8975050573686248, 0.9624740201923221, 0.8489710463387805, 0.08489710463387805, 0.9348149603321521, 0.04920078738590274, 0.06321704716555622, 0.284476712245003, 0.06321704716555622, 0.6005619480727841, 0.9189031283106504, 0.8396139557062612, 0.8166830460781972, 0.16333660921563944, 0.8004848482037858, 0.19054085249914668, 0.6668929837470133, 0.19054085249914668, 0.10577657340094031, 0.687547727106112, 0.21155314680188061, 0.025238392127941395, 0.11357276457573628, 0.05047678425588279, 0.8076285480941247, 0.6399022043392536, 0.35550122463291867, 0.8491809636130742, 0.10614762045163427, 0.8396137861398557, 0.6666427831600343, 0.9074964439858642, 0.11343705549823302, 0.02103346846540939, 0.04206693693081878, 0.12620081079245635, 0.8413387386163756, 0.9206006286730357, 0.0657571877623597, 0.12266156287410504, 0.8586309401187353, 0.16107971682373806, 0.8053985841186903, 0.08053985841186903, 0.4613728436152263, 0.13841185308456788, 0.4152355592537037, 0.800484856377754, 0.9189030032692317, 0.8396137861398557, 0.8396137861398557, 0.8396137861398557, 0.8457864570854305, 0.14096440951423841, 0.7502814736950602, 0.04287322706828915, 0.021436613534144576, 0.1929295218073012, 0.8406307594402247, 0.8592496824560846, 0.8406307594402247, 0.8396139437161079, 0.030089487365904794, 0.9628635957089534, 0.9736196295534542, 0.5588484808244438, 0.05588484808244438, 0.39119393657711066, 0.8425128727395924, 0.8106729318789506, 0.11581041883985009, 0.13131930545828813, 0.8667074160247017, 0.7997040285105486, 0.11424343264436407, 0.11424343264436407, 0.07730886550972181, 0.15461773101944362, 0.7730886550972181, 0.9935843100259111, 0.6666427831600343, 0.1174994355698648, 0.8224960489890535, 0.9288737965881946, 0.04343724001110528, 0.9556192802443162, 0.04527481111295874, 0.04527481111295874, 0.9054962222591748, 0.0831511635997767, 0.9146627995975437, 0.931810039012911, 0.2504995340529976, 0.2504995340529976, 0.48310624424506676, 0.3959395358521997, 0.5279193811362664, 0.08798656352271106, 0.6316939861093964, 0.23688524479102366, 0.07896174826367455, 0.8499738181619475, 0.26803137954876205, 0.6700784488719052, 0.08580123006960269, 0.858012300696027, 0.9898092336124482, 0.8555105477149533, 0.9736196218824387, 0.026450705623817346, 0.05290141124763469, 0.7141690518430683, 0.23805635061435612, 0.713729090187887, 0.03244223137217668, 0.2514272931343693, 0.015790143803014585, 0.37896345127235004, 0.18948172563617502, 0.42633388268139377, 0.01654576996135606, 0.03309153992271212, 0.1158203897294924, 0.8272884980678029, 0.13490517034170607, 0.7419784368793834, 0.13490517034170607, 0.11814309277529626, 0.6852299380967184, 0.18902894844047402, 0.7507459345953693, 0.2502486448651231, 0.48584041483869056, 0.2776230941935375, 0.2776230941935375, 0.02856635197499719, 0.19996446382498034, 0.45706163159995505, 0.31422987172496913, 0.048432343049897526, 0.06457645739986337, 0.3551705156992485, 0.5327557735488728, 0.06845829708640232, 0.13691659417280463, 0.6845829708640232, 0.13691659417280463, 0.8555105497709459, 0.8911997578864396, 0.06365712556331711, 0.057607125999829936, 0.7488926379977892, 0.23042850399931974, 0.9349394084864237, 0.6821883620963851, 0.136437672419277, 0.136437672419277, 0.2582666224925951, 0.23478783862963187, 0.5165332449851902, 0.6949123427550814, 0.2978195754664635, 0.8396139636996968, 0.09284104343283894, 0.8819899126119699, 0.34064687454386966, 0.1632266273856042, 0.49677669204314323, 0.9837737834969239, 0.8499738181619475, 0.8758223985059985, 0.09844042455448121, 0.6890829718813685, 0.09844042455448121, 0.19688084910896242, 0.8396139437161079, 0.950147058902316, 0.9364405054877777, 0.9667935632393725, 0.8595273976443021, 0.10124148618182387, 0.1518622292727358, 0.734000774818223, 0.8592496839911947, 0.9898092352654159, 0.12214459026992232, 0.6717952464845727, 0.18321688540488348, 0.9702194132948145, 0.7096672685992077, 0.06451520623629162, 0.19354561870887485, 0.983745680706649, 0.6666427831600343, 0.8406307594402247, 0.09920551180532797, 0.06613700787021864, 0.8597811023128424, 0.896046286480149, 0.08400433935751396, 0.9334840596157535, 0.9024141981766405, 0.0820376543796946, 0.1357789722077732, 0.2444021499739918, 0.46164850550642894, 0.16293476664932785, 0.6666427831600343, 0.8595273955689574, 0.29064660922386504, 0.08304188834967573, 0.41520944174837865, 0.16608377669935145, 0.8406307594402247, 0.9646420981471814, 0.9288281905171949, 0.9480265703893936, 0.09822486472397071, 0.2210059456289341, 0.14733729708595608, 0.540236755981839, 0.8042283267444436, 0.22977952192698387, 0.8555105559951838, 0.933483954815008, 0.3000452030465344, 0.0750113007616336, 0.22503390228490083, 0.4000602707287126, 0.8396139636996968, 0.928873795120692, 0.3180099604884044, 0.019875622530525276, 0.23850747036630332, 0.4372636956715561, 0.928828191827205, 0.9702202687721215, 0.9690083265498295, 0.8406307594402247, 0.8396137861398557, 0.04392423508544035, 0.3294317631408026, 0.636901408738885, 0.9667935632393725, 0.8595273976443021, 0.022543496742647197, 0.09017398697058879, 0.3832394446250023, 0.49595692833823835, 0.8592496839911947, 0.4063169474256216, 0.5586858027102297, 0.1174994355698648, 0.8224960489890535, 0.08038012545949148, 0.8841813800544064, 0.8556803297294047, 0.2079874709715982, 0.4456874377962819, 0.3268374543839401, 0.8396137861398557, 0.45131253130065857, 0.15043751043355286, 0.4011666944894743, 0.09741545027475601, 0.681908151923292, 0.24353862568689003, 0.7726568974427847, 0.12877614957379746, 0.7675247810861823, 0.08528053123179803, 0.17056106246359606, 0.044850308101384705, 0.17940123240553882, 0.6727546215207706, 0.1345509243041541, 0.9690083263357594, 0.6878975335416836, 0.057324794461806966, 0.1719743833854209, 0.057324794461806966, 0.3671327891483008, 0.0917831972870752, 0.114728996608844, 0.4359701871136072, 0.4602316586559004, 0.05752895733198755, 0.28764478665993776, 0.17258687199596265, 0.6488794067520403, 0.1441954237226756, 0.21629313558401342, 0.0720977118613378, 0.45726273247193944, 0.5334731878839293, 0.8975050593081608, 0.8074831033769868, 0.16149662067539736, 0.8758223985059985, 0.9624740211770665, 0.14307878487979825, 0.8584727092787896, 0.1998254916060294, 0.7993019664241175, 0.04473098111310562, 0.9393506033752179, 0.7145885148657818, 0.26797069307466814, 0.936440504939999, 0.504179838014156, 0.056019982001572884, 0.16805994600471866, 0.28009991000786444, 0.8106730918407461, 0.11581044169153515, 0.8466847423987561, 0.15875338919976678, 0.5445241349771293, 0.2970131645329796, 0.1485065822664898, 0.18909250206352446, 0.08103964374151049, 0.08103964374151049, 0.6483171499320839, 0.9344533860248815, 0.14240303162846557, 0.6645474809328393, 0.1898707088379541, 0.6666427831600343, 0.07761799330811982, 0.892606923043378, 0.07584863575842182, 0.7584863575842182, 0.15169727151684365, 0.6828386870085243, 0.19509676771672124, 0.09754838385836062, 0.03168010096399849, 0.28512090867598644, 0.4435214134959789, 0.28512090867598644, 0.17660860665979444, 0.31789549198763, 0.2825737706556711, 0.24725204932371223, 0.04668907303847468, 0.14006721911542405, 0.6069579495001709, 0.18675629215389872, 0.19868136101333803, 0.5960440830400141, 0.19868136101333803, 0.8396137901365719, 0.9189030032692317, 0.038071309047133364, 0.07614261809426673, 0.9137114171312007, 0.43798987686148577, 0.06569848152922286, 0.08759797537229715, 0.3941908891753372, 0.6881777192704346, 0.03621987996160182, 0.25353915973121277, 0.7338002191367495, 0.20965720546764272, 0.10482860273382136, 0.9334839659308003, 0.859249765684306, 0.013400808786849086, 0.10720647029479269, 0.8844533799320398, 0.9063939577732674, 0.7424073907269897, 0.2227222172180969, 0.9334839659308003, 0.0607115178511803, 0.8499612499165242, 0.1214230357023606, 0.8396139636996968, 0.07892150855863742, 0.9207509331841031, 0.8499738181619475, 0.057580821814338504, 0.07197602726792313, 0.35988013633961563, 0.5182273963290465, 0.9611783325721558, 0.8406307594402247, 0.8406307594402247, 0.8396137861398557, 0.4446189255129397, 0.04041990231935816, 0.525458730151656, 0.9898092273512655, 0.1298419301185256, 0.1298419301185256, 0.7465910981815223, 0.8396137861398557, 0.800484856377754], \"Term\": [\"achour\", \"afrique\", \"afrique\", \"afrique\", \"aghalik\", \"agricole\", \"alger\", \"alger\", \"alger\", \"alger\", \"alg\\u00e9rie\", \"alg\\u00e9rie\", \"alg\\u00e9rie\", \"alg\\u00e9rie\", \"ann\\u00e9e\", \"ann\\u00e9e\", \"ann\\u00e9e\", \"ann\\u00e9e\", \"ans\", \"ans\", \"arabes\", \"arabes\", \"arabes\", \"arabes\", \"arm\\u00e9e\", \"arm\\u00e9e\", \"arm\\u00e9e\", \"atlas\", \"attaque\", \"augustin\", \"aurait\", \"aurait\", \"aurait\", \"avons\", \"avons\", \"avons\", \"barre\", \"bataillon\", \"bataillons\", \"batiments\", \"batterie\", \"berthier\", \"bless\\u00e9\", \"bordeaux\", \"bordeaux\", \"boufarik\", \"boufarik\", \"boufarik\", \"bourmont\", \"bouzar\\u00e9a\", \"brigade\", \"brigade\", \"b\\u00e2timent\", \"b\\u00e2timents\", \"b\\u00e2timents\", \"b\\u00f4ne\", \"b\\u00f4ne\", \"b\\u00f4ne\", \"b\\u00f4ne\", \"canada\", \"canon\", \"canons\", \"capitulation\", \"casbah\", \"caserne\", \"centres\", \"centres\", \"cercle\", \"cercle\", \"chevaux\", \"chevaux\", \"chevaux\", \"chevaux\", \"ch\\u00e9ragas\", \"civilisation\", \"classe\", \"classe\", \"clerg\\u00e9\", \"colonisation\", \"colonisation\", \"colonisation\", \"colons\", \"colons\", \"colons\", \"commerce\", \"commerce\", \"commerce\", \"commerce\", \"comparaison\", \"comparaison\", \"concessions\", \"concessions\", \"confiteantur\", \"consommateurs\", \"constat\\u00e9s\", \"constat\\u00e9s\", \"construction\", \"construction\", \"construction\", \"construction\", \"contributions\", \"contributions\", \"culte\", \"culte\", \"culture\", \"culture\", \"culture\", \"c\\u00e9r\\u00e9ales\", \"c\\u00e9r\\u00e9ales\", \"c\\u00e9r\\u00e9ales\", \"deus\", \"dey\", \"digne\", \"dioc\\u00e8se\", \"divine\", \"division\", \"division\", \"droits\", \"droits\", \"droits\", \"droits\", \"d\\u00e9bitants\", \"d\\u00e9frichements\", \"d\\u00e9livr\\u00e9es\", \"d\\u00e9partements\", \"d\\u00e9pense\", \"d\\u00e9pense\", \"d\\u00e9pens\\u00e9\", \"d\\u00e9signation\", \"d\\u00e9signation\", \"d\\u00e9signation\", \"effectu\\u00e9es\", \"empereur\", \"empereur\", \"enceinte\", \"enceinte\", \"enfants\", \"enfants\", \"enfants\", \"ennemi\", \"ennemi\", \"ennemi\", \"entretien\", \"eussa\", \"eut\", \"eut\", \"exportation\", \"exportations\", \"exportations\", \"extraordinaires\", \"extraordinaires\", \"extraordinaires\", \"ex\\u00e9cut\\u00e9s\", \"ex\\u00e9cut\\u00e9s\", \"face\", \"faire\", \"faire\", \"faire\", \"faut\", \"faut\", \"faut\", \"ferme\", \"ferme\", \"ferme\", \"ferm\\u00e9s\", \"feu\", \"feu\", \"fit\", \"fit\", \"fonctions\", \"fondouk\", \"fontaines\", \"fort\", \"fort\", \"fort\", \"fort\", \"fr\", \"fr\", \"fr\", \"france\", \"france\", \"france\", \"france\", \"francs\", \"francs\", \"francs\", \"francs\", \"furent\", \"furent\", \"furent\", \"fut\", \"fut\", \"fut\", \"gloire\", \"gloire\", \"grands\", \"grands\", \"grands\", \"guerre\", \"guerre\", \"guerre\", \"guerre\", \"g\\u00e9n\\u00e9ral\", \"g\\u00e9n\\u00e9ral\", \"g\\u00e9n\\u00e9ral\", \"g\\u00e9n\\u00e9ral\", \"habitants\", \"habitants\", \"habitants\", \"habitants\", \"hameau\", \"hectares\", \"hectares\", \"heures\", \"heures\", \"heures\", \"hippone\", \"homme\", \"homme\", \"homme\", \"hommes\", \"hommes\", \"hommes\", \"huiles\", \"huiles\", \"humaine\", \"h\\u00f4pital\", \"h\\u00f4pital\", \"idem\", \"idem\", \"idem\", \"importations\", \"imp\\u00f4t\", \"in\", \"jours\", \"jours\", \"jours\", \"jours\", \"juments\", \"kadi\", \"kadis\", \"kaidat\", \"kil\", \"kilog\", \"kilog\", \"kilog\", \"lahitte\", \"ler\", \"ligne\", \"ligne\", \"ligne\", \"logement\", \"l\\u00e9gumes\", \"l\\u00e9gumes\", \"l\\u00e9gumes\", \"magasin\", \"makhzen\", \"manquants\", \"marchandises\", \"marchandises\", \"marchandises\", \"march\\u00e9s\", \"march\\u00e9s\", \"maritime\", \"marseille\", \"marseille\", \"mer\", \"mer\", \"mer\", \"mer\", \"mesurage\", \"mesur\\u00e9es\", \"mois\", \"mois\", \"mois\", \"mois\", \"montant\", \"mosqu\\u00e9e\", \"muphti\", \"musulman\", \"m\\u00e8tres\", \"m\\u00e8tres\", \"m\\u00e8tres\", \"m\\u00e8tres\", \"m\\u00e9diterran\\u00e9e\", \"m\\u00e9diterran\\u00e9e\", \"m\\u00e9tidja\", \"navire\", \"nombre\", \"nombre\", \"nombre\", \"nombre\", \"occasion\", \"olives\", \"oran\", \"oran\", \"oran\", \"oran\", \"ordinaire\", \"ordinaires\", \"oulemas\", \"ouverts\", \"paquebots\", \"partie\", \"partie\", \"partie\", \"patentables\", \"patentes\", \"pays\", \"pays\", \"pays\", \"pays\", \"pentes\", \"per\\u00e7us\", \"per\\u00e7us\", \"pi\\u00e8ces\", \"pi\\u00e8ces\", \"plaine\", \"plaine\", \"poids\", \"point\", \"point\", \"point\", \"populi\", \"port\", \"port\", \"port\", \"position\", \"position\", \"position\", \"poudres\", \"poudres\", \"pourrait\", \"pourrait\", \"pourrait\", \"presque\", \"presque\", \"presque\", \"presque\", \"prison\", \"produit\", \"produit\", \"produit\", \"produit\", \"produits\", \"produits\", \"produits\", \"produits\", \"province\", \"province\", \"province\", \"province\", \"provinces\", \"provinces\", \"provinces\", \"provinces\", \"quantit\\u00e9s\", \"quantit\\u00e9s\", \"ravins\", \"recettes\", \"recettes\", \"reliques\", \"restant\", \"restes\", \"restes\", \"routes\", \"routes\", \"rues\", \"rues\", \"r\\u00e9gie\", \"r\\u00e9gie\", \"r\\u00e9parations\", \"r\\u00e9sultats\", \"r\\u00e9sultats\", \"r\\u00e9sultats\", \"r\\u00e9sultats\", \"sahel\", \"sahel\", \"saint\", \"saint\", \"serait\", \"serait\", \"serait\", \"service\", \"service\", \"service\", \"service\", \"seybouse\", \"sol\", \"sol\", \"sol\", \"sommaire\", \"sp\\u00e9cial\", \"sp\\u00e9cial\", \"sud\", \"sud\", \"sud\", \"syst\\u00e8me\", \"syst\\u00e8me\", \"syst\\u00e8me\", \"temps\", \"temps\", \"temps\", \"temps\", \"terre\", \"terre\", \"terre\", \"terre\", \"terres\", \"terres\", \"terres\", \"terres\", \"territoire\", \"territoire\", \"territoire\", \"tibi\", \"tirailleurs\", \"tissus\", \"tissus\", \"tissus\", \"total\", \"total\", \"total\", \"total\", \"totaux\", \"totaux\", \"totaux\", \"toulon\", \"toulon\", \"toulon\", \"translation\", \"travailleurs\", \"travaux\", \"travaux\", \"travaux\", \"tribunal\", \"tribus\", \"tribus\", \"triomphe\", \"turcs\", \"turcs\", \"turcs\", \"vaisseaux\", \"valeurs\", \"valeurs\", \"vente\", \"ville\", \"ville\", \"ville\", \"ville\", \"voirie\", \"v\\u00e9rification\", \"v\\u00e9rifi\\u00e9s\", \"\\u00e2me\", \"\\u00e9glise\", \"\\u00e9glise\", \"\\u00e9glise\", \"\\u00e9gouts\", \"\\u00e9tablissement\", \"\\u00e9tablissement\", \"\\u00e9tablissement\", \"\\u00e9v\\u00eaque\", \"\\u00e9v\\u00eaques\"]}, \"R\": 30, \"lambda.step\": 0.01, \"plot.opts\": {\"xlab\": \"PC1\", \"ylab\": \"PC2\"}, \"topic.order\": [1, 2, 3, 4]};\n",
       "\n",
       "function LDAvis_load_lib(url, callback){\n",
       "  var s = document.createElement('script');\n",
       "  s.src = url;\n",
       "  s.async = true;\n",
       "  s.onreadystatechange = s.onload = callback;\n",
       "  s.onerror = function(){console.warn(\"failed to load library \" + url);};\n",
       "  document.getElementsByTagName(\"head\")[0].appendChild(s);\n",
       "}\n",
       "\n",
       "if(typeof(LDAvis) !== \"undefined\"){\n",
       "   // already loaded: just create the visualization\n",
       "   !function(LDAvis){\n",
       "       new LDAvis(\"#\" + \"ldavis_el2467311294660800640643474\", ldavis_el2467311294660800640643474_data);\n",
       "   }(LDAvis);\n",
       "}else if(typeof define === \"function\" && define.amd){\n",
       "   // require.js is available: use it to load d3/LDAvis\n",
       "   require.config({paths: {d3: \"https://d3js.org/d3.v5\"}});\n",
       "   require([\"d3\"], function(d3){\n",
       "      window.d3 = d3;\n",
       "      LDAvis_load_lib(\"https://cdn.jsdelivr.net/gh/bmabey/pyLDAvis@3.4.0/pyLDAvis/js/ldavis.v3.0.0.js\", function(){\n",
       "        new LDAvis(\"#\" + \"ldavis_el2467311294660800640643474\", ldavis_el2467311294660800640643474_data);\n",
       "      });\n",
       "    });\n",
       "}else{\n",
       "    // require.js not available: dynamically load d3 & LDAvis\n",
       "    LDAvis_load_lib(\"https://d3js.org/d3.v5.js\", function(){\n",
       "         LDAvis_load_lib(\"https://cdn.jsdelivr.net/gh/bmabey/pyLDAvis@3.4.0/pyLDAvis/js/ldavis.v3.0.0.js\", function(){\n",
       "                 new LDAvis(\"#\" + \"ldavis_el2467311294660800640643474\", ldavis_el2467311294660800640643474_data);\n",
       "            })\n",
       "         });\n",
       "}\n",
       "</script>"
      ],
      "text/plain": [
       "<IPython.core.display.HTML object>"
      ]
     },
     "execution_count": 11,
     "metadata": {},
     "output_type": "execute_result"
    }
   ],
   "source": [
    "import pyLDAvis\n",
    "import pyLDAvis.gensim\n",
    "import matplotlib.pyplot as plt\n",
    "%matplotlib inline\n",
    "\n",
    "# corpus in form: list[tuple[list[tuple(a, b)]]]\n",
    "print(corpus[:1][0:5])\n",
    "print(dictionary)\n",
    "\n",
    "pyLDAvis.enable_notebook()\n",
    "vis = pyLDAvis.gensim.prepare(lda_model, corpus, dictionary, mds = 'pcoa', sort_topics=False)\n",
    "#vis2 = pyLDAvis.gensim.prepare(lda_model2, corpus, dictionary)\n",
    "pyLDAvis.display(vis)"
   ]
  },
  {
   "cell_type": "code",
   "execution_count": 12,
   "id": "b59f813f",
   "metadata": {},
   "outputs": [
    {
     "data": {
      "text/html": [
       "<div>\n",
       "<style scoped>\n",
       "    .dataframe tbody tr th:only-of-type {\n",
       "        vertical-align: middle;\n",
       "    }\n",
       "\n",
       "    .dataframe tbody tr th {\n",
       "        vertical-align: top;\n",
       "    }\n",
       "\n",
       "    .dataframe thead th {\n",
       "        text-align: right;\n",
       "    }\n",
       "</style>\n",
       "<table border=\"1\" class=\"dataframe\">\n",
       "  <thead>\n",
       "    <tr style=\"text-align: right;\">\n",
       "      <th></th>\n",
       "    </tr>\n",
       "  </thead>\n",
       "  <tbody>\n",
       "    <tr>\n",
       "      <th>Topic 1</th>\n",
       "    </tr>\n",
       "    <tr>\n",
       "      <th>Topic 2</th>\n",
       "    </tr>\n",
       "    <tr>\n",
       "      <th>Topic 3</th>\n",
       "    </tr>\n",
       "  </tbody>\n",
       "</table>\n",
       "</div>"
      ],
      "text/plain": [
       "Empty DataFrame\n",
       "Columns: []\n",
       "Index: [Topic 1, Topic 2, Topic 3]"
      ]
     },
     "execution_count": 12,
     "metadata": {},
     "output_type": "execute_result"
    }
   ],
   "source": [
    "# Create Topic Table\n",
    "\n",
    "all_topics = {}\n",
    "num_terms = 10 # Adjust number of words to represent each topic\n",
    "lambd = 0.6 # Adjust this accordingly based on tuning above\n",
    "for i in range(1, opt_topics): #Adjust this to reflect number of topics chosen for final LDA model\n",
    "    topic = vis.topic_info[vis.topic_info.Category == 'Topic '+str(i)].copy()\n",
    "    topic['relevance'] = topic['loglift']*(1-lambd) + topic['logprob']*lambd\n",
    "    all_topics['Topic '+str(i)] = topic.sort_values(by='relevance', ascending=False).Term[:num_terms].values\n",
    "\n",
    "pd.DataFrame(all_topics).T"
   ]
  },
  {
   "attachments": {},
   "cell_type": "markdown",
   "id": "3f4f04ce",
   "metadata": {},
   "source": [
    "# **Using Mallet Raw**"
   ]
  },
  {
   "cell_type": "code",
   "execution_count": 13,
   "id": "340d7b2d",
   "metadata": {},
   "outputs": [
    {
     "name": "stdout",
     "output_type": "stream",
     "text": [
      "/Users/aaron68lee/Documents/Coding-Projects/NLP-Research/Mallet\n",
      "Labels = \n",
      "   FRconquest_split\n"
     ]
    }
   ],
   "source": [
    "################### RUN ME #################\n",
    "# import data\n",
    "os.chdir(mallet_path)\n",
    "!pwd\n",
    "!bin/mallet import-dir --input FRconquest_split --output French_model.mallet --keep-sequence --stoplist-file fr-stop-oa.txt"
   ]
  },
  {
   "cell_type": "code",
   "execution_count": 14,
   "id": "d3f00116",
   "metadata": {},
   "outputs": [
    {
     "name": "stdout",
     "output_type": "stream",
     "text": [
      "Mallet LDA: 4 topics, 2 topic bits, 11 topic mask\n",
      "Data loaded.\n",
      "max tokens: 3480\n",
      "total tokens: 2201850\n",
      "<10> LL/token: -9.66601\n",
      "<20> LL/token: -9.39651\n",
      "<30> LL/token: -9.33603\n",
      "<40> LL/token: -9.30858\n",
      "\n",
      "0\t1.25\tgénéral fut arabes alger hommes tribus afrique faire troupes armée furent ville pays chef temps maréchal guerre france point français \n",
      "1\t1.25\tidem nombre total alger année oran affaires produits totaux commerce général droits algérie ports augmentation bône francs navires france philippeville \n",
      "2\t1.25\ttravaux route francs province territoire mètres partie alger ville oran dépense militaire tribu dépenses hectares eau nombre faire grande militaires \n",
      "3\t1.25\talgérie administration art france gouvernement guerre colonisation faire population ministre indigènes droit colons alger faut serait arrêté loi propriété villes \n",
      "\n",
      "<50> LL/token: -9.28986\n",
      "<60> LL/token: -9.27645\n",
      "<70> LL/token: -9.26849\n",
      "<80> LL/token: -9.26108\n",
      "<90> LL/token: -9.25828\n",
      "\n",
      "0\t1.25\tfut général tribus arabes alger afrique hommes armée faire troupes ville furent pays temps chef maréchal point guerre france français \n",
      "1\t1.25\tidem total nombre alger année oran totaux affaires produits commerce général droits algérie ports bône augmentation navires francs france philippeville \n",
      "2\t1.25\ttravaux francs route mètres territoire province alger partie ville oran nombre militaire dépense dépenses eau hectares idem faire tribu militaires \n",
      "3\t1.25\talgérie administration art france guerre gouvernement faire colonisation alger ministre population indigènes droit colons serait arrêté loi faut lieu propriété \n",
      "\n",
      "<100> LL/token: -9.25687\n",
      "<110> LL/token: -9.25515\n",
      "<120> LL/token: -9.25428\n",
      "<130> LL/token: -9.2538\n",
      "<140> LL/token: -9.25379\n",
      "\n",
      "0\t1.25\tfut général tribus arabes alger afrique hommes troupes faire ville armée furent pays temps maréchal chef guerre france point français \n",
      "1\t1.25\tidem nombre total alger année oran totaux affaires produits commerce droits algérie ports général augmentation navires bône francs france philippeville \n",
      "2\t1.25\ttravaux francs route mètres territoire province alger partie ville oran idem nombre militaire dépenses dépense hectares faire eau militaires village \n",
      "3\t1.25\talgérie administration art france guerre faire gouvernement colonisation alger ministre population droit indigènes colons faut arrêté loi serait général propriété \n",
      "\n",
      "<150> LL/token: -9.253\n",
      "<160> LL/token: -9.25248\n",
      "<170> LL/token: -9.25285\n",
      "<180> LL/token: -9.25205\n",
      "<190> LL/token: -9.25162\n",
      "\n",
      "0\t1.25\tfut général tribus arabes alger afrique hommes ville troupes faire armée furent pays temps maréchal chef guerre point oran français \n",
      "1\t1.25\tidem nombre total alger année oran affaires produits commerce totaux droits ports algérie général augmentation bône navires francs france philippeville \n",
      "2\t1.25\ttravaux francs route mètres province territoire alger oran partie idem ville nombre militaire dépenses dépense hectares faire total eau village \n",
      "3\t1.25\talgérie administration art france guerre gouvernement faire colonisation alger ministre population droit indigènes faut colons arrêté serait loi général propriété \n",
      "\n",
      "<200> LL/token: -9.2523\n",
      "[beta: 0.07232] \n",
      "<210> LL/token: -9.19161\n",
      "[beta: 0.08124] \n",
      "<220> LL/token: -9.20438\n",
      "[beta: 0.08317] \n",
      "<230> LL/token: -9.20476\n",
      "[beta: 0.08386] \n",
      "<240> LL/token: -9.20337\n",
      "\n",
      "0\t0.73528\tfut général tribus alger arabes hommes afrique ville troupes faire pays armée furent temps chef oran point province guerre france \n",
      "1\t0.38214\tidem nombre total alger année oran affaires produits commerce droits totaux ports algérie augmentation bône navires france général philippeville francs \n",
      "2\t0.65437\ttravaux francs route mètres province alger territoire idem oran partie ville nombre total militaire dépenses dépense hectares faire eau militaires \n",
      "3\t1.14933\talgérie administration art france guerre faire alger gouvernement colonisation général ministre population indigènes colons afrique faut serait loi droit pays \n",
      "\n",
      "[beta: 0.08435] \n",
      "<250> LL/token: -9.20258\n",
      "[beta: 0.08471] \n",
      "<260> LL/token: -9.20247\n",
      "[beta: 0.08498] \n",
      "<270> LL/token: -9.20166\n",
      "[beta: 0.08532] \n",
      "<280> LL/token: -9.20042\n",
      "[beta: 0.08526] \n",
      "<290> LL/token: -9.1994\n",
      "\n",
      "0\t0.40328\tfut général tribus alger arabes ville hommes afrique troupes faire pays armée furent temps point guerre province chef tribu maréchal \n",
      "1\t0.2018\tidem nombre total alger année affaires oran produits commerce droits totaux ports algérie augmentation navires bône général france français francs \n",
      "2\t0.34998\ttravaux francs route mètres province alger territoire idem oran partie ville nombre total dépenses hectares militaire dépense faire eau militaires \n",
      "3\t0.75767\talgérie administration art france faire guerre alger gouvernement colonisation ministre général afrique population colons indigènes droit loi faut serait pays \n",
      "\n",
      "[beta: 0.0855] \n",
      "<300> LL/token: -9.2\n",
      "[beta: 0.08547] \n",
      "<310> LL/token: -9.19831\n",
      "[beta: 0.08539] \n",
      "<320> LL/token: -9.19873\n",
      "[beta: 0.08545] \n",
      "<330> LL/token: -9.19884\n",
      "[beta: 0.08549] \n",
      "<340> LL/token: -9.19744\n",
      "\n",
      "0\t0.29693\tfut général tribus alger arabes ville afrique hommes troupes faire armée pays furent temps chef province point guerre tribu oran \n",
      "1\t0.16477\tidem nombre total alger année affaires oran produits commerce totaux droits ports algérie augmentation navires général bône france français francs \n",
      "2\t0.26128\ttravaux francs route mètres alger province territoire idem oran partie ville nombre total militaire dépenses hectares dépense faire eau militaires \n",
      "3\t0.54514\talgérie administration art france faire alger guerre gouvernement colonisation ministre général population afrique indigènes pays colons droit faut loi serait \n",
      "\n",
      "[beta: 0.08552] \n",
      "<350> LL/token: -9.19856\n",
      "[beta: 0.0857] \n",
      "<360> LL/token: -9.19914\n",
      "[beta: 0.08559] \n",
      "<370> LL/token: -9.1974\n",
      "[beta: 0.08568] \n",
      "<380> LL/token: -9.19869\n",
      "[beta: 0.08568] \n",
      "<390> LL/token: -9.19828\n",
      "\n",
      "0\t0.25955\tfut général tribus alger arabes ville troupes afrique hommes faire pays armée furent temps chef province point guerre tribu maréchal \n",
      "1\t0.15312\tidem nombre total alger année oran affaires produits commerce droits totaux ports algérie augmentation navires bône général france francs français \n",
      "2\t0.23616\ttravaux francs route mètres province alger territoire idem oran partie ville nombre total militaire dépenses hectares dépense faire eau militaires \n",
      "3\t0.45495\talgérie administration art france faire guerre alger gouvernement colonisation ministre général afrique population colons indigènes serait droit loi faut pays \n",
      "\n",
      "[beta: 0.08558] \n",
      "<400> LL/token: -9.19788\n",
      "[beta: 0.08571] \n",
      "<410> LL/token: -9.19688\n",
      "[beta: 0.08575] \n",
      "<420> LL/token: -9.1969\n",
      "[beta: 0.08579] \n",
      "<430> LL/token: -9.19778\n",
      "[beta: 0.08571] \n",
      "<440> LL/token: -9.1981\n",
      "\n",
      "0\t0.24555\tfut général tribus alger arabes afrique hommes ville faire troupes armée pays furent temps point guerre province chef maréchal oran \n",
      "1\t0.14765\tidem nombre total alger année affaires oran produits commerce droits totaux ports algérie augmentation navires général bône france philippeville français \n",
      "2\t0.22636\ttravaux francs route mètres province alger idem territoire oran partie ville nombre total militaire dépenses hectares dépense faire eau militaires \n",
      "3\t0.42085\talgérie administration art france alger faire guerre gouvernement colonisation ministre général indigènes afrique population pays colons serait faut droit loi \n",
      "\n",
      "[beta: 0.08577] \n",
      "<450> LL/token: -9.19863\n",
      "[beta: 0.0856] \n",
      "<460> LL/token: -9.19643\n",
      "[beta: 0.08572] \n",
      "<470> LL/token: -9.19655\n",
      "[beta: 0.08575] \n",
      "<480> LL/token: -9.19637\n",
      "[beta: 0.08566] \n",
      "<490> LL/token: -9.19567\n",
      "\n",
      "0\t0.23621\tfut général tribus alger arabes ville hommes faire troupes afrique pays armée furent temps province guerre point tribu chef oran \n",
      "1\t0.1418\tidem nombre total alger année affaires oran produits commerce droits totaux ports algérie augmentation navires bône général france français philippeville \n",
      "2\t0.21825\ttravaux francs route mètres province alger territoire idem oran partie ville nombre total militaire dépenses dépense hectares faire eau population \n",
      "3\t0.406\talgérie administration art france alger guerre faire gouvernement colonisation ministre général afrique indigènes population pays serait colons faut droit loi \n",
      "\n",
      "[beta: 0.08575] \n",
      "<500> LL/token: -9.197\n",
      "[beta: 0.0857] \n",
      "<510> LL/token: -9.1969\n",
      "[beta: 0.08571] \n",
      "<520> LL/token: -9.19749\n",
      "[beta: 0.08567] \n",
      "<530> LL/token: -9.19706\n",
      "[beta: 0.08573] \n",
      "<540> LL/token: -9.19776\n",
      "\n",
      "0\t0.23283\tfut général tribus alger arabes hommes ville afrique troupes faire pays armée temps furent chef province guerre point tribu oran \n",
      "1\t0.13918\tidem nombre total alger année affaires oran produits commerce totaux droits ports algérie augmentation navires général bône france francs philippeville \n",
      "2\t0.21825\ttravaux francs route mètres province alger territoire idem oran partie ville nombre total militaire dépenses hectares dépense faire eau militaires \n",
      "3\t0.40077\talgérie administration art france faire alger guerre gouvernement colonisation ministre général afrique population indigènes colons faut serait pays droit loi \n",
      "\n",
      "[beta: 0.08566] \n",
      "<550> LL/token: -9.19625\n",
      "[beta: 0.08564] \n",
      "<560> LL/token: -9.19715\n",
      "[beta: 0.08574] \n",
      "<570> LL/token: -9.19677\n",
      "[beta: 0.08571] \n",
      "<580> LL/token: -9.19741\n",
      "[beta: 0.08573] \n",
      "<590> LL/token: -9.19697\n",
      "\n",
      "0\t0.23628\tfut général tribus alger arabes ville hommes afrique troupes faire pays armée furent temps province chef point tribu guerre maréchal \n",
      "1\t0.1402\tidem nombre total alger année affaires oran produits commerce droits totaux ports algérie augmentation bône navires général france francs français \n",
      "2\t0.21644\ttravaux francs route mètres province alger territoire idem oran partie ville nombre total militaire dépenses hectares dépense faire eau militaires \n",
      "3\t0.39954\talgérie administration art france alger faire guerre gouvernement colonisation ministre général population afrique indigènes colons faut pays loi droit arrêté \n",
      "\n",
      "[beta: 0.08565] \n",
      "<600> LL/token: -9.19741\n",
      "[beta: 0.08577] \n",
      "<610> LL/token: -9.19715\n",
      "[beta: 0.08592] \n",
      "<620> LL/token: -9.19713\n",
      "[beta: 0.08574] \n",
      "<630> LL/token: -9.19847\n",
      "[beta: 0.08581] \n",
      "<640> LL/token: -9.19638\n",
      "\n",
      "0\t0.23649\tfut général tribus alger arabes ville hommes afrique faire troupes pays armée furent temps guerre province point chef tribu maréchal \n",
      "1\t0.14187\tidem nombre total alger année affaires oran produits commerce droits totaux ports algérie augmentation navires bône général france français francs \n",
      "2\t0.22005\ttravaux francs route mètres province alger territoire idem oran partie nombre ville total militaire dépense hectares dépenses faire eau militaires \n",
      "3\t0.39997\talgérie administration art france alger faire guerre gouvernement colonisation ministre général afrique indigènes population droit colons faut loi pays serait \n",
      "\n",
      "[beta: 0.0858] \n",
      "<650> LL/token: -9.19825\n",
      "[beta: 0.08569] \n",
      "<660> LL/token: -9.1961\n",
      "[beta: 0.08562] \n",
      "<670> LL/token: -9.19731\n",
      "[beta: 0.08576] \n",
      "<680> LL/token: -9.19701\n",
      "[beta: 0.08576] \n",
      "<690> LL/token: -9.19705\n",
      "\n",
      "0\t0.23779\tfut général tribus alger arabes ville hommes faire troupes afrique pays armée furent temps point guerre province chef tribu oran \n",
      "1\t0.14091\tidem nombre total alger année affaires oran produits commerce droits totaux ports algérie augmentation bône navires france général philippeville francs \n",
      "2\t0.22035\ttravaux francs route mètres alger province territoire idem oran partie nombre ville total militaire dépenses dépense hectares faire eau militaires \n",
      "3\t0.39725\talgérie administration art france guerre faire alger gouvernement colonisation ministre général afrique population indigènes colons faut droit pays serait loi \n",
      "\n",
      "[beta: 0.08581] \n",
      "<700> LL/token: -9.19613\n",
      "[beta: 0.0857] \n",
      "<710> LL/token: -9.19708\n",
      "[beta: 0.0858] \n",
      "<720> LL/token: -9.1974\n",
      "[beta: 0.08579] \n",
      "<730> LL/token: -9.19618\n",
      "[beta: 0.08574] \n",
      "<740> LL/token: -9.19697\n",
      "\n",
      "0\t0.23592\tfut général tribus alger arabes ville hommes troupes afrique faire pays armée furent temps province point chef guerre tribu oran \n",
      "1\t0.1402\tidem nombre total alger année affaires oran produits commerce totaux droits ports algérie augmentation navires général bône france francs français \n",
      "2\t0.21674\ttravaux francs route mètres alger province territoire idem oran partie ville nombre total militaire dépense hectares dépenses faire eau population \n",
      "3\t0.39745\talgérie administration art france guerre faire alger gouvernement colonisation ministre général afrique population indigènes pays faut colons droit loi serait \n",
      "\n",
      "[beta: 0.08577] \n",
      "<750> LL/token: -9.19741\n",
      "[beta: 0.08581] \n",
      "<760> LL/token: -9.19704\n",
      "[beta: 0.08585] \n",
      "<770> LL/token: -9.19746\n",
      "[beta: 0.08587] \n",
      "<780> LL/token: -9.19683\n",
      "[beta: 0.08573] \n",
      "<790> LL/token: -9.19634\n",
      "\n",
      "0\t0.23397\tfut général tribus alger arabes ville afrique hommes troupes faire pays armée temps furent chef guerre province point tribu oran \n",
      "1\t0.13756\tidem nombre total alger année affaires oran produits commerce totaux droits ports algérie augmentation navires bône général france francs français \n",
      "2\t0.2178\ttravaux francs route mètres alger province territoire idem oran partie nombre ville total militaire dépenses hectares dépense faire eau militaires \n",
      "3\t0.3978\talgérie administration art france faire alger guerre gouvernement colonisation ministre général indigènes population afrique pays colons loi serait faut droit \n",
      "\n",
      "[beta: 0.08572] \n",
      "<800> LL/token: -9.19712\n",
      "[beta: 0.08571] \n",
      "<810> LL/token: -9.19723\n",
      "[beta: 0.08576] \n",
      "<820> LL/token: -9.19799\n",
      "[beta: 0.08571] \n",
      "<830> LL/token: -9.19683\n",
      "[beta: 0.08578] \n",
      "<840> LL/token: -9.19659\n",
      "\n",
      "0\t0.23741\tfut général tribus alger arabes ville hommes afrique faire troupes pays armée temps furent province chef guerre point tribu maréchal \n",
      "1\t0.141\tidem nombre total alger année affaires oran produits commerce droits totaux ports algérie augmentation navires général bône france français philippeville \n",
      "2\t0.21594\ttravaux francs route mètres alger province idem territoire oran partie ville nombre total militaire dépenses hectares dépense faire eau militaires \n",
      "3\t0.39589\talgérie administration art france alger guerre faire gouvernement colonisation ministre général population afrique indigènes faut colons serait pays droit loi \n",
      "\n",
      "[beta: 0.08574] \n",
      "<850> LL/token: -9.19706\n",
      "[beta: 0.08576] \n",
      "<860> LL/token: -9.19806\n",
      "[beta: 0.08584] \n",
      "<870> LL/token: -9.19802\n",
      "[beta: 0.08579] \n",
      "<880> LL/token: -9.19594\n",
      "[beta: 0.08583] \n",
      "<890> LL/token: -9.19698\n",
      "\n",
      "0\t0.2339\tfut général tribus alger arabes hommes ville afrique troupes faire pays armée furent temps province guerre chef point tribu oran \n",
      "1\t0.14221\tidem nombre total alger année affaires oran produits commerce totaux droits ports algérie augmentation navires bône général france français francs \n",
      "2\t0.21741\ttravaux francs route mètres province alger territoire idem oran partie ville nombre total militaire dépenses hectares faire dépense eau militaires \n",
      "3\t0.39833\talgérie administration art france faire guerre alger gouvernement colonisation ministre général afrique indigènes population colons faut loi serait droit pays \n",
      "\n",
      "[beta: 0.08584] \n",
      "<900> LL/token: -9.19775\n",
      "[beta: 0.0857] \n",
      "<910> LL/token: -9.19728\n",
      "[beta: 0.08575] \n",
      "<920> LL/token: -9.19786\n",
      "[beta: 0.08581] \n",
      "<930> LL/token: -9.19805\n",
      "[beta: 0.08573] \n",
      "<940> LL/token: -9.19694\n",
      "\n",
      "0\t0.23838\tfut général tribus alger arabes ville hommes afrique troupes faire pays armée furent temps province chef point guerre oran tribu \n",
      "1\t0.13978\tidem nombre total alger année affaires oran produits commerce droits totaux ports algérie augmentation navires général bône france francs français \n",
      "2\t0.21846\ttravaux francs route mètres province alger territoire idem oran partie ville nombre total militaire hectares dépenses dépense faire eau militaires \n",
      "3\t0.39921\talgérie administration art france faire guerre alger gouvernement colonisation général ministre afrique population indigènes faut serait colons droit loi pays \n",
      "\n",
      "[beta: 0.08585] \n",
      "<950> LL/token: -9.19676\n",
      "[beta: 0.08578] \n",
      "<960> LL/token: -9.19732\n",
      "[beta: 0.08574] \n",
      "<970> LL/token: -9.19729\n",
      "[beta: 0.08572] \n",
      "<980> LL/token: -9.19746\n",
      "[beta: 0.08574] \n",
      "<990> LL/token: -9.19671\n",
      "\n",
      "0\t0.2367\tfut général tribus alger arabes ville hommes afrique troupes faire pays armée furent temps chef point province guerre oran tribu \n",
      "1\t0.14268\tidem nombre total alger année affaires oran produits commerce totaux droits ports algérie augmentation navires bône général france valeurs philippeville \n",
      "2\t0.21821\ttravaux francs route mètres province alger territoire idem oran partie ville nombre total militaire hectares dépense dépenses faire eau militaires \n",
      "3\t0.3995\talgérie administration art france faire guerre alger gouvernement colonisation ministre général afrique population colons indigènes faut loi droit serait arrêté \n",
      "\n",
      "[beta: 0.08579] \n",
      "<1000> LL/token: -9.19734\n",
      "\n",
      "Total time: 2 minutes 12 seconds\n"
     ]
    }
   ],
   "source": [
    "################### RUN ME #################\n",
    "# creating a model for topic modeling\n",
    "TOPICS = opt_topics\n",
    "OPT_INT = 10\n",
    "ALPHA = 1.0\n",
    "\n",
    "'''\n",
    "Other flags for train-topics:\n",
    "--num-iterations\n",
    "--input-state\n",
    "--optimize-burn-in (num iters before hyperparam opt begins)\n",
    "'''\n",
    "\n",
    "!bin/mallet train-topics --input French_model.mallet --num-topics $TOPICS --optimize-interval $OPT_INT \\\n",
    "--word-topic-counts-file output-topic-counts.txt --output-state output-topics-state.gz \\\n",
    "--output-topic-keys output_keys.txt --output-doc-topics output_composition.txt"
   ]
  },
  {
   "cell_type": "code",
   "execution_count": 15,
   "id": "77dca5ed",
   "metadata": {},
   "outputs": [
    {
     "name": "stdout",
     "output_type": "stream",
     "text": [
      "Use an existing topic model to infer topic distributions for new documents\n",
      "--help TRUE|FALSE\n",
      "  Print this command line option usage information.  Give argument of TRUE for longer documentation\n",
      "  Default is false\n",
      "--prefix-code 'JAVA CODE'\n",
      "  Java code you want run before any other interpreted code.  Note that the text is interpreted without modification, so unlike some other Java code options, you need to include any necessary 'new's when creating objects.\n",
      "  Default is null\n",
      "--config FILE\n",
      "  Read command option values from a file\n",
      "  Default is null\n",
      "--inferencer FILENAME\n",
      "  A serialized topic inferencer from a trained topic model.\n",
      "By default this is null, indicating that no file will be read.\n",
      "  Default is null\n",
      "--input FILENAME\n",
      "  The filename from which to read the list of instances\n",
      "for which topics should be inferred.  Use - for stdin.  The instances must be FeatureSequence or FeatureSequenceWithBigrams, not FeatureVector\n",
      "  Default is null\n",
      "--output-doc-topics FILENAME\n",
      "  The filename in which to write the inferred topic\n",
      "proportions per document.  By default this is null, indicating that no file will be written.\n",
      "  Default is null\n",
      "--output-state FILENAME\n",
      "  The filename in which to write each saved Gibbs sampling state.  By default this is null, indicating that no file will be written.\n",
      "  Default is null\n",
      "--doc-topics-threshold DECIMAL\n",
      "  When writing topic proportions per document with --output-doc-topics, do not print topics with proportions less than this threshold value.\n",
      "  Default is 0.0\n",
      "--doc-topics-max INTEGER\n",
      "  When writing topic proportions per document with --output-doc-topics, do not print more than INTEGER number of topics.  A negative value indicates that all topics should be printed.\n",
      "  Default is -1\n",
      "--num-iterations INTEGER\n",
      "  The number of iterations of Gibbs sampling.\n",
      "  Default is 100\n",
      "--sample-interval INTEGER\n",
      "  The number of iterations between saved samples.\n",
      "  Default is 10\n",
      "--burn-in INTEGER\n",
      "  The number of iterations before the first sample is saved.\n",
      "  Default is 10\n",
      "--random-seed INTEGER\n",
      "  The random seed for the Gibbs sampler.  Default is 0, which will use the clock.\n",
      "  Default is 0\n",
      "Exception in thread \"main\" java.lang.IllegalArgumentException: Unrecognized option 8: --optimize-interval\n",
      "\tat cc.mallet.util.CommandOption$List.process(CommandOption.java:354)\n",
      "\tat cc.mallet.util.CommandOption.process(CommandOption.java:153)\n",
      "\tat cc.mallet.topics.tui.InferTopics.main(InferTopics.java:55)\n"
     ]
    },
    {
     "data": {
      "text/plain": [
       "'\\nbin/mallet infer-topics     --input \"Algerian_War_wiki.txt\"     --inferencer French_model.mallet/inferencer.mallet     --output-doc-topics French_model.mallet/doc_topics.txt     --num-iterations 1000     --optimize-interval 10     --output-state French_model.mallet/state.gz     --random-seed 1     --num-top-words 20\\n'"
      ]
     },
     "execution_count": 15,
     "metadata": {},
     "output_type": "execute_result"
    }
   ],
   "source": [
    "# CREATE model inferencer for topic modeling on new documents\n",
    "\n",
    "MODEL_PATH = \"/Users/aaron68lee/Documents/Coding-Projects/NLP-Research/Mallet/French_model.mallet\"\n",
    "INPUT_DATA = \"Algerian_War_wiki.txt\"\n",
    "\n",
    "# Run topic inference on the input data\n",
    "!bin/mallet infer-topics \\\n",
    "    --input $INPUT_DATA \\\n",
    "    --inferencer $MODEL_PATH/inferencer.mallet \\\n",
    "    --output-doc-topics $MODEL_PATH/doc_topics.txt \\\n",
    "    --num-iterations 1000 \\\n",
    "    --optimize-interval 10 \\\n",
    "    --output-state $MODEL_PATH/state.gz \\\n",
    "    --random-seed 1 \\\n",
    "    --num-top-words 20\n",
    "\n",
    "'''\n",
    "bin/mallet infer-topics \\\n",
    "    --input \"Algerian_War_wiki.txt\" \\\n",
    "    --inferencer French_model.mallet/inferencer.mallet \\\n",
    "    --output-doc-topics French_model.mallet/doc_topics.txt \\\n",
    "    --num-iterations 1000 \\\n",
    "    --optimize-interval 10 \\\n",
    "    --output-state French_model.mallet/state.gz \\\n",
    "    --random-seed 1 \\\n",
    "    --num-top-words 20\n",
    "'''"
   ]
  },
  {
   "cell_type": "code",
   "execution_count": 16,
   "id": "1bc73790",
   "metadata": {},
   "outputs": [
    {
     "ename": "SyntaxError",
     "evalue": "unexpected character after line continuation character (2314101143.py, line 4)",
     "output_type": "error",
     "traceback": [
      "\u001b[0;36m  Cell \u001b[0;32mIn [16], line 4\u001b[0;36m\u001b[0m\n\u001b[0;31m    --language-inputs fr.sequences \\\u001b[0m\n\u001b[0m                                    ^\u001b[0m\n\u001b[0;31mSyntaxError\u001b[0m\u001b[0;31m:\u001b[0m unexpected character after line continuation character\n"
     ]
    }
   ],
   "source": [
    "# train a model for doc classification\n",
    "# other languages: de.sequences en.sequences\n",
    "!bin/mallet run cc.mallet.topics.PolylingualTopicModel \\ \n",
    "--language-inputs fr.sequences \\ \n",
    "--num-topics $TOPICS --alpha $ALPHA"
   ]
  },
  {
   "cell_type": "code",
   "execution_count": null,
   "id": "e057ee8a",
   "metadata": {},
   "outputs": [],
   "source": [
    "# tune hyperparameters for topic modeling\n",
    "\n",
    "bin/mallet run cc.mallet.topics.PolylingualTopicModel \\ \n",
    "--language-inputs fr.sequences \\\n",
    "--num-topics $TOPICS --alpha $ALPHA --optimize-interval $OPT_INT --optimize-burn-in 20\n",
    "\n",
    "'''\n",
    "bin/mallet run cc.mallet.topics.PolylingualTopicModel \\ \n",
    "--language-inputs fr.sequences \\\n",
    "--num-topics 13 --alpha 1.0 --optimize-interval 10 --optimize-burn-in 20\n",
    "'''"
   ]
  },
  {
   "cell_type": "code",
   "execution_count": null,
   "id": "499e3d0d",
   "metadata": {},
   "outputs": [],
   "source": [
    "# create topic influencer files for generalizing topics on new documents CLASSIFICATION\n",
    "\n",
    "bin/mallet run cc.mallet.topics.PolylingualTopicModel \\ \n",
    "  --language-inputs fr.sequences \\\n",
    "  --num-topics $TOPICS --alpha $ALPHA --optimize-interval $OPT_INT --optimize-burn-in 20 \\\n",
    "  --inferencer-filename inferencer\n",
    "\n",
    "'''\n",
    "bin/mallet run cc.mallet.topics.PolylingualTopicModel \\ \n",
    "  --language-inputs fr.sequences \\\n",
    "  --num-topics 13 --alpha 1.0 --optimize-interval 10 --optimize-burn-in 20 \\\n",
    "  --inferencer-filename Inferencer_french\n",
    "'''"
   ]
  },
  {
   "attachments": {},
   "cell_type": "markdown",
   "id": "5091529c",
   "metadata": {},
   "source": [
    "# **Processing Mallet Output**"
   ]
  },
  {
   "cell_type": "code",
   "execution_count": null,
   "id": "87730ee5",
   "metadata": {},
   "outputs": [],
   "source": [
    "import pandas as pd\n",
    "\n",
    "key_path = \"/Users/aaron68lee/Documents/Coding-Projects/NLP-Research/Mallet/output_keys.txt\"\n",
    "topics = pd.Cov = pd.read_csv(key_path, sep='\\t', names=[\"topic_number\", \"topic_weight\", \"top_words\"])\n",
    "\n",
    "topics.style.set_properties(subset=['top_words'], **{'width': '600px'})\n",
    "\n",
    "# Create a list of topic labels.\n",
    "labels = ['Ott-Tribe Negotiations', 'Tun-Alg Conflict','Public Works', 'Internal Discord', 'French Concess', 'Rebellions', 'Lead & Trans', 'Malfeasance', 'Religion & Gov', 'Battle of Con.', 'Eng Bomb_BadGov', 'Topic 12', 'Topic 13']\n",
    "\n",
    "# Add the labels list as a new column to the dataframe\n",
    "topics['labels'] = labels\n",
    "\n",
    "topics.head()\n",
    "\n"
   ]
  },
  {
   "cell_type": "code",
   "execution_count": null,
   "id": "766a5f93",
   "metadata": {},
   "outputs": [],
   "source": [
    "# Represent the weights of the topics as a simple bar chart, using the author-created topic labels. \n",
    "\n",
    "topic_bar = topics.plot.bar(x='labels', y='topic_weight', rot=0, figsize=(20,5))\n",
    "\n",
    "# set labels, title and color\n",
    "topic_bar.set_xlabel('Topics')\n",
    "topic_bar.set_ylabel('Weights')\n",
    "topic_bar.set_title('Topical Weights')"
   ]
  },
  {
   "cell_type": "code",
   "execution_count": null,
   "id": "a02a802c",
   "metadata": {},
   "outputs": [],
   "source": [
    "!pip3 install squarify\n",
    "import matplotlib.pyplot as plt\n",
    "import squarify\n",
    "\n",
    "plt.rcParams['figure.figsize'] = (17.0, 10.0)\n",
    "\n",
    "squarify.plot(sizes=topics['topic_weight'], label=topics['labels'], alpha=.8)\n",
    "plt.axis('off')\n",
    "plt.show()"
   ]
  },
  {
   "cell_type": "code",
   "execution_count": null,
   "id": "354fbe48",
   "metadata": {},
   "outputs": [],
   "source": [
    "# The mallet .txt doc-topics output file was converted to a csv, and the columns for \n",
    "# document numbers and filepaths were deleted in advance of reading the csv into a \n",
    "# pandas dataframe. Be sure to convert the columns to number data type with ~6 decimal places to remove the \n",
    "# exponential format. Also, add a new line at the top of the csv with the labels defined in the previous step.\n",
    "\n",
    "output_comps = \"/Users/aaron68lee/Documents/Coding-Projects/NLP-Research/Mallet/output_composition.txt\"\n",
    "remove = \"file:/Users/aaron68lee/Documents/Coding-Projects/NLP-Research/Mallet/FRconquest_split/\"\n",
    "\n",
    "doc_topic_matrix = pd.Cov = pd.read_csv(output_comps, sep='\\t')\n",
    "num_labels = len(labels)\n",
    "filenames = []\n",
    "\n",
    "# create an empty dataframe with desired columns\n",
    "df = pd.DataFrame(columns=['filename'] + labels)\n",
    "\n",
    "# open and read the text file\n",
    "with open(output_comps, 'r') as file:\n",
    "    # iterate through each line in the file\n",
    "    for line in file:\n",
    "        # split the line into text and label using a delimiter\n",
    "        row = line.strip().split('\\t')\n",
    "        row = row[1:]\n",
    "\n",
    "        filepath = row[0]\n",
    "        filename = os.path.basename(filepath)\n",
    "        filenames.append(filename)\n",
    "        '''\n",
    "        print(len(row))\n",
    "        print(df.shape)\n",
    "        print(line)\n",
    "        #print(\"text: \", row)\n",
    "        #print(filename)\n",
    "        '''\n",
    "        vals = [float(i) for i in row[1:]]\n",
    "        df.loc[len(df)] = [filename] + vals\n",
    "\n",
    "#print(df.iloc[0])\n",
    "print(df.head())\n",
    "\n",
    "# Save the dataframe as a CSV file\n",
    "df.to_csv('topic_composition.csv', index=True)\n",
    "\n"
   ]
  },
  {
   "cell_type": "code",
   "execution_count": null,
   "id": "605ba4c8",
   "metadata": {},
   "outputs": [],
   "source": [
    "# Represent the topic weights in each document as a heatmap.\n",
    "#!pip3 install seaborn\n",
    "import numpy as np\n",
    "import seaborn as sns\n",
    "import matplotlib.pyplot as plt\n",
    "\n",
    "%matplotlib inline\n",
    "\n",
    "plt.rcParams['figure.figsize'] = (17.0, 10.0)\n",
    "#print(df.columns)\n",
    "\n",
    "# drop non-numeric columns\n",
    "#heatmap = df[df.columns.values].astype(float)\n",
    "df_heat = df.drop(df.columns[0], axis=1)\n",
    "\n",
    "'''\n",
    "print(\"Columns: \", df.columns.values)\n",
    "\n",
    "'''\n",
    "#print(type(df_heat.iloc[0][0]))\n",
    "# Create a heatmap that is visually accessible (see https://matplotlib.org/tutorials/colors/colormaps.html)\n",
    "# using the 'inferno' colormap. \n",
    "\n",
    "'''\n",
    "# Check for non-float illegal values\n",
    "# select columns with non-float values\n",
    "non_float_cols = df_heat.select_dtypes(exclude=['float']).columns\n",
    "# select rows with non-null non-float values\n",
    "non_float_rows = df_heat.loc[:, non_float_cols].notna().sum(axis=1) > 0\n",
    "# print the non-float values\n",
    "print(df_heat.loc[non_float_rows, non_float_cols])\n",
    "'''\n",
    "\n",
    "sns.heatmap(df_heat, cmap='inferno', vmin=0.0, vmax=1.0)"
   ]
  },
  {
   "cell_type": "code",
   "execution_count": null,
   "id": "34ed66f9",
   "metadata": {},
   "outputs": [],
   "source": [
    "# Create a hierarchical heatmap using seaborn's \"clustermap\" method with default settings.\n",
    "# By default this method will cluster by both rows and columns, which is what is most useful for this data.\n",
    "\n",
    "sns.clustermap(df_heat, cmap='inferno')"
   ]
  },
  {
   "cell_type": "code",
   "execution_count": null,
   "id": "61d2f47e",
   "metadata": {},
   "outputs": [],
   "source": [
    "# sort dataframe csv by specifying a topic\n",
    "\n",
    "print(labels)\n",
    "topic = labels[0]\n",
    "topic = 'Ott-Tribe Negotiations'\n",
    "df_heat.sort_values(topic, ascending=False).head()"
   ]
  },
  {
   "cell_type": "code",
   "execution_count": null,
   "id": "b327f2b5",
   "metadata": {},
   "outputs": [],
   "source": [
    "#There is a known bug when using the suggested method (IPython.display.IFrame) in Jupyter Notebooks, but\n",
    "#the following code will actually render the desired iframe in notebooks without a problem.\n",
    "\n",
    "# Voyant visualizer\n",
    "\n",
    "import IPython\n",
    "url = 'https://voyant-tools.org/?corpus=80d0e68d144f5d3bb792fb0ddb115833&view=Contexts&query=juif*&context=10'\n",
    "iframe = '<iframe src=' + url + ' width=960 height=569></iframe>'\n",
    "IPython.display.HTML(iframe)"
   ]
  },
  {
   "cell_type": "code",
   "execution_count": 25,
   "id": "08a345bc",
   "metadata": {},
   "outputs": [
    {
     "data": {
      "image/png": "[encoded data removed]",
      "text/plain": [
       "<Figure size 700x700 with 1 Axes>"
      ]
     },
     "metadata": {},
     "output_type": "display_data"
    }
   ],
   "source": [
    "# modify authorcount for own purposes\n",
    "# index is pie chart legend\n",
    "\n",
    "df = pd.DataFrame({'AuthorCount': [27, 13, 2]},\n",
    "    index=['Mercier', 'Vayssettes', 'Gaid'])\n",
    "plot = df.plot.pie(y='AuthorCount', figsize=(7, 7))"
   ]
  },
  {
   "attachments": {},
   "cell_type": "markdown",
   "id": "821ce448",
   "metadata": {},
   "source": [
    "# **Semantic Analysis**"
   ]
  },
  {
   "attachments": {},
   "cell_type": "markdown",
   "id": "1195fb7f",
   "metadata": {},
   "source": [
    "## Using Bart LLM"
   ]
  },
  {
   "cell_type": "code",
   "execution_count": 36,
   "id": "a6b314bd",
   "metadata": {},
   "outputs": [
    {
     "name": "stderr",
     "output_type": "stream",
     "text": [
      "You passed along `num_labels=3` with an incompatible id to label map: {'0': 'NEGATIVE', '1': 'POSITIVE'}. The number of labels wil be overwritten to 2.\n"
     ]
    },
    {
     "name": "stdout",
     "output_type": "stream",
     "text": [
      "{'input_ids': tensor([[    0, 31414,     6,   127,  2335,    16, 11962,     2]]), 'attention_mask': tensor([[1, 1, 1, 1, 1, 1, 1, 1]])}\n"
     ]
    }
   ],
   "source": [
    "import torch\n",
    "from transformers import AutoTokenizer, BartForSequenceClassification\n",
    "\n",
    "tokenizer = AutoTokenizer.from_pretrained(\"valhalla/bart-large-sst2\")\n",
    "model = BartForSequenceClassification.from_pretrained(\"valhalla/bart-large-sst2\", num_labels=2) # binary sentiment classification\n",
    "\n",
    "inputs = tokenizer(\"Hello, my dog is cute\", return_tensors=\"pt\")\n",
    "print(inputs)"
   ]
  },
  {
   "cell_type": "code",
   "execution_count": 37,
   "id": "5308ed63",
   "metadata": {},
   "outputs": [
    {
     "name": "stdout",
     "output_type": "stream",
     "text": [
      "Predicted Sentiment:  1\n"
     ]
    },
    {
     "name": "stderr",
     "output_type": "stream",
     "text": [
      "You passed along `num_labels=3` with an incompatible id to label map: {'0': 'NEGATIVE', '1': 'POSITIVE'}. The number of labels wil be overwritten to 2.\n"
     ]
    },
    {
     "data": {
      "text/plain": [
       "0.0"
      ]
     },
     "execution_count": 37,
     "metadata": {},
     "output_type": "execute_result"
    }
   ],
   "source": [
    "with torch.no_grad():\n",
    "    logits = model(**inputs).logits\n",
    "\n",
    "predicted_class_id = logits.argmax().item()\n",
    "model.config.id2label[predicted_class_id]\n",
    "print(\"Predicted Sentiment: \", predicted_class_id)\n",
    "\n",
    "# To train a model on `num_labels` classes, you can pass `num_labels=num_labels` to `.from_pretrained(...)`\n",
    "num_labels = len(model.config.id2label)\n",
    "model = BartForSequenceClassification.from_pretrained(\"valhalla/bart-large-sst2\", num_labels=num_labels)\n",
    "\n",
    "labels = torch.tensor([1])\n",
    "loss = model(**inputs, labels=labels).loss\n",
    "round(loss.item(), 2)"
   ]
  },
  {
   "attachments": {},
   "cell_type": "markdown",
   "id": "d302249c",
   "metadata": {},
   "source": [
    "# **Text Summarization**"
   ]
  },
  {
   "attachments": {},
   "cell_type": "markdown",
   "id": "17297db6",
   "metadata": {},
   "source": [
    "## Extractive Summarization"
   ]
  },
  {
   "cell_type": "code",
   "execution_count": null,
   "id": "0b957d93",
   "metadata": {},
   "outputs": [],
   "source": [
    "import gensim\n",
    "from gensim import *\n",
    "\n",
    "# assume variable 'docs' defined from previous cells (preprocessing)\n",
    "# summarize() is obsolete as of gensim 4.0"
   ]
  },
  {
   "attachments": {},
   "cell_type": "markdown",
   "id": "57a80555",
   "metadata": {},
   "source": [
    "## Generative Summarization"
   ]
  },
  {
   "cell_type": "code",
   "execution_count": 34,
   "id": "c4e0404a",
   "metadata": {},
   "outputs": [
    {
     "name": "stdout",
     "output_type": "stream",
     "text": [
      "Transformers version:  4.28.1\n"
     ]
    },
    {
     "ename": "OSError",
     "evalue": "bart-large-cnn is not a local folder and is not a valid model identifier listed on 'https://huggingface.co/models'\nIf this is a private repository, make sure to pass a token having permission to this repo with `use_auth_token` or log in with `huggingface-cli login` and pass `use_auth_token=True`.",
     "output_type": "error",
     "traceback": [
      "\u001b[0;31m---------------------------------------------------------------------------\u001b[0m",
      "\u001b[0;31mHTTPError\u001b[0m                                 Traceback (most recent call last)",
      "File \u001b[0;32m/Library/Frameworks/Python.framework/Versions/3.11/lib/python3.11/site-packages/huggingface_hub/utils/_errors.py:259\u001b[0m, in \u001b[0;36mhf_raise_for_status\u001b[0;34m(response, endpoint_name)\u001b[0m\n\u001b[1;32m    258\u001b[0m \u001b[39mtry\u001b[39;00m:\n\u001b[0;32m--> 259\u001b[0m     response\u001b[39m.\u001b[39;49mraise_for_status()\n\u001b[1;32m    260\u001b[0m \u001b[39mexcept\u001b[39;00m HTTPError \u001b[39mas\u001b[39;00m e:\n",
      "File \u001b[0;32m/Library/Frameworks/Python.framework/Versions/3.11/lib/python3.11/site-packages/requests/models.py:1021\u001b[0m, in \u001b[0;36mResponse.raise_for_status\u001b[0;34m(self)\u001b[0m\n\u001b[1;32m   1020\u001b[0m \u001b[39mif\u001b[39;00m http_error_msg:\n\u001b[0;32m-> 1021\u001b[0m     \u001b[39mraise\u001b[39;00m HTTPError(http_error_msg, response\u001b[39m=\u001b[39m\u001b[39mself\u001b[39m)\n",
      "\u001b[0;31mHTTPError\u001b[0m: 401 Client Error: Unauthorized for url: https://huggingface.co/bart-large-cnn/resolve/main/config.json",
      "\nThe above exception was the direct cause of the following exception:\n",
      "\u001b[0;31mRepositoryNotFoundError\u001b[0m                   Traceback (most recent call last)",
      "File \u001b[0;32m/Library/Frameworks/Python.framework/Versions/3.11/lib/python3.11/site-packages/transformers/utils/hub.py:409\u001b[0m, in \u001b[0;36mcached_file\u001b[0;34m(path_or_repo_id, filename, cache_dir, force_download, resume_download, proxies, use_auth_token, revision, local_files_only, subfolder, user_agent, _raise_exceptions_for_missing_entries, _raise_exceptions_for_connection_errors, _commit_hash)\u001b[0m\n\u001b[1;32m    407\u001b[0m \u001b[39mtry\u001b[39;00m:\n\u001b[1;32m    408\u001b[0m     \u001b[39m# Load from URL or cache if already cached\u001b[39;00m\n\u001b[0;32m--> 409\u001b[0m     resolved_file \u001b[39m=\u001b[39m hf_hub_download(\n\u001b[1;32m    410\u001b[0m         path_or_repo_id,\n\u001b[1;32m    411\u001b[0m         filename,\n\u001b[1;32m    412\u001b[0m         subfolder\u001b[39m=\u001b[39;49m\u001b[39mNone\u001b[39;49;00m \u001b[39mif\u001b[39;49;00m \u001b[39mlen\u001b[39;49m(subfolder) \u001b[39m==\u001b[39;49m \u001b[39m0\u001b[39;49m \u001b[39melse\u001b[39;49;00m subfolder,\n\u001b[1;32m    413\u001b[0m         revision\u001b[39m=\u001b[39;49mrevision,\n\u001b[1;32m    414\u001b[0m         cache_dir\u001b[39m=\u001b[39;49mcache_dir,\n\u001b[1;32m    415\u001b[0m         user_agent\u001b[39m=\u001b[39;49muser_agent,\n\u001b[1;32m    416\u001b[0m         force_download\u001b[39m=\u001b[39;49mforce_download,\n\u001b[1;32m    417\u001b[0m         proxies\u001b[39m=\u001b[39;49mproxies,\n\u001b[1;32m    418\u001b[0m         resume_download\u001b[39m=\u001b[39;49mresume_download,\n\u001b[1;32m    419\u001b[0m         use_auth_token\u001b[39m=\u001b[39;49muse_auth_token,\n\u001b[1;32m    420\u001b[0m         local_files_only\u001b[39m=\u001b[39;49mlocal_files_only,\n\u001b[1;32m    421\u001b[0m     )\n\u001b[1;32m    423\u001b[0m \u001b[39mexcept\u001b[39;00m RepositoryNotFoundError:\n",
      "File \u001b[0;32m/Library/Frameworks/Python.framework/Versions/3.11/lib/python3.11/site-packages/huggingface_hub/utils/_validators.py:120\u001b[0m, in \u001b[0;36mvalidate_hf_hub_args.<locals>._inner_fn\u001b[0;34m(*args, **kwargs)\u001b[0m\n\u001b[1;32m    118\u001b[0m     kwargs \u001b[39m=\u001b[39m smoothly_deprecate_use_auth_token(fn_name\u001b[39m=\u001b[39mfn\u001b[39m.\u001b[39m\u001b[39m__name__\u001b[39m, has_token\u001b[39m=\u001b[39mhas_token, kwargs\u001b[39m=\u001b[39mkwargs)\n\u001b[0;32m--> 120\u001b[0m \u001b[39mreturn\u001b[39;00m fn(\u001b[39m*\u001b[39;49margs, \u001b[39m*\u001b[39;49m\u001b[39m*\u001b[39;49mkwargs)\n",
      "File \u001b[0;32m/Library/Frameworks/Python.framework/Versions/3.11/lib/python3.11/site-packages/huggingface_hub/file_download.py:1166\u001b[0m, in \u001b[0;36mhf_hub_download\u001b[0;34m(repo_id, filename, subfolder, repo_type, revision, library_name, library_version, cache_dir, local_dir, local_dir_use_symlinks, user_agent, force_download, force_filename, proxies, etag_timeout, resume_download, token, local_files_only, legacy_cache_layout)\u001b[0m\n\u001b[1;32m   1165\u001b[0m \u001b[39mtry\u001b[39;00m:\n\u001b[0;32m-> 1166\u001b[0m     metadata \u001b[39m=\u001b[39m get_hf_file_metadata(\n\u001b[1;32m   1167\u001b[0m         url\u001b[39m=\u001b[39;49murl,\n\u001b[1;32m   1168\u001b[0m         token\u001b[39m=\u001b[39;49mtoken,\n\u001b[1;32m   1169\u001b[0m         proxies\u001b[39m=\u001b[39;49mproxies,\n\u001b[1;32m   1170\u001b[0m         timeout\u001b[39m=\u001b[39;49metag_timeout,\n\u001b[1;32m   1171\u001b[0m     )\n\u001b[1;32m   1172\u001b[0m \u001b[39mexcept\u001b[39;00m EntryNotFoundError \u001b[39mas\u001b[39;00m http_error:\n\u001b[1;32m   1173\u001b[0m     \u001b[39m# Cache the non-existence of the file and raise\u001b[39;00m\n",
      "File \u001b[0;32m/Library/Frameworks/Python.framework/Versions/3.11/lib/python3.11/site-packages/huggingface_hub/utils/_validators.py:120\u001b[0m, in \u001b[0;36mvalidate_hf_hub_args.<locals>._inner_fn\u001b[0;34m(*args, **kwargs)\u001b[0m\n\u001b[1;32m    118\u001b[0m     kwargs \u001b[39m=\u001b[39m smoothly_deprecate_use_auth_token(fn_name\u001b[39m=\u001b[39mfn\u001b[39m.\u001b[39m\u001b[39m__name__\u001b[39m, has_token\u001b[39m=\u001b[39mhas_token, kwargs\u001b[39m=\u001b[39mkwargs)\n\u001b[0;32m--> 120\u001b[0m \u001b[39mreturn\u001b[39;00m fn(\u001b[39m*\u001b[39;49margs, \u001b[39m*\u001b[39;49m\u001b[39m*\u001b[39;49mkwargs)\n",
      "File \u001b[0;32m/Library/Frameworks/Python.framework/Versions/3.11/lib/python3.11/site-packages/huggingface_hub/file_download.py:1507\u001b[0m, in \u001b[0;36mget_hf_file_metadata\u001b[0;34m(url, token, proxies, timeout)\u001b[0m\n\u001b[1;32m   1498\u001b[0m r \u001b[39m=\u001b[39m _request_wrapper(\n\u001b[1;32m   1499\u001b[0m     method\u001b[39m=\u001b[39m\u001b[39m\"\u001b[39m\u001b[39mHEAD\u001b[39m\u001b[39m\"\u001b[39m,\n\u001b[1;32m   1500\u001b[0m     url\u001b[39m=\u001b[39murl,\n\u001b[0;32m   (...)\u001b[0m\n\u001b[1;32m   1505\u001b[0m     timeout\u001b[39m=\u001b[39mtimeout,\n\u001b[1;32m   1506\u001b[0m )\n\u001b[0;32m-> 1507\u001b[0m hf_raise_for_status(r)\n\u001b[1;32m   1509\u001b[0m \u001b[39m# Return\u001b[39;00m\n",
      "File \u001b[0;32m/Library/Frameworks/Python.framework/Versions/3.11/lib/python3.11/site-packages/huggingface_hub/utils/_errors.py:291\u001b[0m, in \u001b[0;36mhf_raise_for_status\u001b[0;34m(response, endpoint_name)\u001b[0m\n\u001b[1;32m    283\u001b[0m     message \u001b[39m=\u001b[39m (\n\u001b[1;32m    284\u001b[0m         \u001b[39mf\u001b[39m\u001b[39m\"\u001b[39m\u001b[39m{\u001b[39;00mresponse\u001b[39m.\u001b[39mstatus_code\u001b[39m}\u001b[39;00m\u001b[39m Client Error.\u001b[39m\u001b[39m\"\u001b[39m\n\u001b[1;32m    285\u001b[0m         \u001b[39m+\u001b[39m \u001b[39m\"\u001b[39m\u001b[39m\\n\u001b[39;00m\u001b[39m\\n\u001b[39;00m\u001b[39m\"\u001b[39m\n\u001b[0;32m   (...)\u001b[0m\n\u001b[1;32m    289\u001b[0m         \u001b[39m\"\u001b[39m\u001b[39m make sure you are authenticated.\u001b[39m\u001b[39m\"\u001b[39m\n\u001b[1;32m    290\u001b[0m     )\n\u001b[0;32m--> 291\u001b[0m     \u001b[39mraise\u001b[39;00m RepositoryNotFoundError(message, response) \u001b[39mfrom\u001b[39;00m \u001b[39me\u001b[39;00m\n\u001b[1;32m    293\u001b[0m \u001b[39melif\u001b[39;00m response\u001b[39m.\u001b[39mstatus_code \u001b[39m==\u001b[39m \u001b[39m400\u001b[39m:\n",
      "\u001b[0;31mRepositoryNotFoundError\u001b[0m: 401 Client Error. (Request ID: Root=1-6456ea95-37996a316d179ca0022d7241)\n\nRepository Not Found for url: https://huggingface.co/bart-large-cnn/resolve/main/config.json.\nPlease make sure you specified the correct `repo_id` and `repo_type`.\nIf you are trying to access a private or gated repo, make sure you are authenticated.\nInvalid username or password.",
      "\nDuring handling of the above exception, another exception occurred:\n",
      "\u001b[0;31mOSError\u001b[0m                                   Traceback (most recent call last)",
      "\u001b[1;32m/Users/aaron68lee/Documents/Coding-Projects/NLP-Research/Topic_Modeling.ipynb Cell 44\u001b[0m in \u001b[0;36m1\n\u001b[1;32m      <a href='vscode-notebook-cell:/Users/aaron68lee/Documents/Coding-Projects/NLP-Research/Topic_Modeling.ipynb#Y134sZmlsZQ%3D%3D?line=8'>9</a>\u001b[0m model \u001b[39m=\u001b[39m AutoModelForSeq2SeqLM\u001b[39m.\u001b[39mfrom_pretrained(\u001b[39m\"\u001b[39m\u001b[39mfacebook/bart-large-cnn\u001b[39m\u001b[39m\"\u001b[39m)\n\u001b[1;32m     <a href='vscode-notebook-cell:/Users/aaron68lee/Documents/Coding-Projects/NLP-Research/Topic_Modeling.ipynb#Y134sZmlsZQ%3D%3D?line=10'>11</a>\u001b[0m \u001b[39m# Initializing the model & tokenizer using .from_pretrained()\u001b[39;00m\n\u001b[0;32m---> <a href='vscode-notebook-cell:/Users/aaron68lee/Documents/Coding-Projects/NLP-Research/Topic_Modeling.ipynb#Y134sZmlsZQ%3D%3D?line=11'>12</a>\u001b[0m model \u001b[39m=\u001b[39m BartForConditionalGeneration\u001b[39m.\u001b[39;49mfrom_pretrained(\u001b[39m'\u001b[39;49m\u001b[39mbart-large-cnn\u001b[39;49m\u001b[39m'\u001b[39;49m)\n\u001b[1;32m     <a href='vscode-notebook-cell:/Users/aaron68lee/Documents/Coding-Projects/NLP-Research/Topic_Modeling.ipynb#Y134sZmlsZQ%3D%3D?line=12'>13</a>\u001b[0m tokenizer \u001b[39m=\u001b[39m BartTokenizer\u001b[39m.\u001b[39mfrom_pretrained(\u001b[39m'\u001b[39m\u001b[39mbart-large-cnn\u001b[39m\u001b[39m'\u001b[39m)\n\u001b[1;32m     <a href='vscode-notebook-cell:/Users/aaron68lee/Documents/Coding-Projects/NLP-Research/Topic_Modeling.ipynb#Y134sZmlsZQ%3D%3D?line=14'>15</a>\u001b[0m \u001b[39m# generate summaries of all docs in corpus\u001b[39;00m\n\u001b[1;32m     <a href='vscode-notebook-cell:/Users/aaron68lee/Documents/Coding-Projects/NLP-Research/Topic_Modeling.ipynb#Y134sZmlsZQ%3D%3D?line=15'>16</a>\u001b[0m \n\u001b[1;32m     <a href='vscode-notebook-cell:/Users/aaron68lee/Documents/Coding-Projects/NLP-Research/Topic_Modeling.ipynb#Y134sZmlsZQ%3D%3D?line=16'>17</a>\u001b[0m \u001b[39m#summarizer = pipeline(task=\"summarization\",model='facebook/bart-large-cnn',tokenizer='bart-large-cnn')\u001b[39;00m\n",
      "File \u001b[0;32m/Library/Frameworks/Python.framework/Versions/3.11/lib/python3.11/site-packages/transformers/modeling_utils.py:2269\u001b[0m, in \u001b[0;36mPreTrainedModel.from_pretrained\u001b[0;34m(cls, pretrained_model_name_or_path, *model_args, **kwargs)\u001b[0m\n\u001b[1;32m   2267\u001b[0m \u001b[39mif\u001b[39;00m \u001b[39mnot\u001b[39;00m \u001b[39misinstance\u001b[39m(config, PretrainedConfig):\n\u001b[1;32m   2268\u001b[0m     config_path \u001b[39m=\u001b[39m config \u001b[39mif\u001b[39;00m config \u001b[39mis\u001b[39;00m \u001b[39mnot\u001b[39;00m \u001b[39mNone\u001b[39;00m \u001b[39melse\u001b[39;00m pretrained_model_name_or_path\n\u001b[0;32m-> 2269\u001b[0m     config, model_kwargs \u001b[39m=\u001b[39m \u001b[39mcls\u001b[39;49m\u001b[39m.\u001b[39;49mconfig_class\u001b[39m.\u001b[39;49mfrom_pretrained(\n\u001b[1;32m   2270\u001b[0m         config_path,\n\u001b[1;32m   2271\u001b[0m         cache_dir\u001b[39m=\u001b[39;49mcache_dir,\n\u001b[1;32m   2272\u001b[0m         return_unused_kwargs\u001b[39m=\u001b[39;49m\u001b[39mTrue\u001b[39;49;00m,\n\u001b[1;32m   2273\u001b[0m         force_download\u001b[39m=\u001b[39;49mforce_download,\n\u001b[1;32m   2274\u001b[0m         resume_download\u001b[39m=\u001b[39;49mresume_download,\n\u001b[1;32m   2275\u001b[0m         proxies\u001b[39m=\u001b[39;49mproxies,\n\u001b[1;32m   2276\u001b[0m         local_files_only\u001b[39m=\u001b[39;49mlocal_files_only,\n\u001b[1;32m   2277\u001b[0m         use_auth_token\u001b[39m=\u001b[39;49muse_auth_token,\n\u001b[1;32m   2278\u001b[0m         revision\u001b[39m=\u001b[39;49mrevision,\n\u001b[1;32m   2279\u001b[0m         subfolder\u001b[39m=\u001b[39;49msubfolder,\n\u001b[1;32m   2280\u001b[0m         _from_auto\u001b[39m=\u001b[39;49mfrom_auto_class,\n\u001b[1;32m   2281\u001b[0m         _from_pipeline\u001b[39m=\u001b[39;49mfrom_pipeline,\n\u001b[1;32m   2282\u001b[0m         \u001b[39m*\u001b[39;49m\u001b[39m*\u001b[39;49mkwargs,\n\u001b[1;32m   2283\u001b[0m     )\n\u001b[1;32m   2284\u001b[0m \u001b[39melse\u001b[39;00m:\n\u001b[1;32m   2285\u001b[0m     model_kwargs \u001b[39m=\u001b[39m kwargs\n",
      "File \u001b[0;32m/Library/Frameworks/Python.framework/Versions/3.11/lib/python3.11/site-packages/transformers/configuration_utils.py:546\u001b[0m, in \u001b[0;36mPretrainedConfig.from_pretrained\u001b[0;34m(cls, pretrained_model_name_or_path, **kwargs)\u001b[0m\n\u001b[1;32m    468\u001b[0m \u001b[39m@classmethod\u001b[39m\n\u001b[1;32m    469\u001b[0m \u001b[39mdef\u001b[39;00m \u001b[39mfrom_pretrained\u001b[39m(\u001b[39mcls\u001b[39m, pretrained_model_name_or_path: Union[\u001b[39mstr\u001b[39m, os\u001b[39m.\u001b[39mPathLike], \u001b[39m*\u001b[39m\u001b[39m*\u001b[39mkwargs) \u001b[39m-\u001b[39m\u001b[39m>\u001b[39m \u001b[39m\"\u001b[39m\u001b[39mPretrainedConfig\u001b[39m\u001b[39m\"\u001b[39m:\n\u001b[1;32m    470\u001b[0m     \u001b[39mr\u001b[39m\u001b[39m\"\"\"\u001b[39;00m\n\u001b[1;32m    471\u001b[0m \u001b[39m    Instantiate a [`PretrainedConfig`] (or a derived class) from a pretrained model configuration.\u001b[39;00m\n\u001b[1;32m    472\u001b[0m \n\u001b[0;32m   (...)\u001b[0m\n\u001b[1;32m    544\u001b[0m \u001b[39m    assert unused_kwargs == {\"foo\": False}\u001b[39;00m\n\u001b[1;32m    545\u001b[0m \u001b[39m    ```\"\"\"\u001b[39;00m\n\u001b[0;32m--> 546\u001b[0m     config_dict, kwargs \u001b[39m=\u001b[39m \u001b[39mcls\u001b[39;49m\u001b[39m.\u001b[39;49mget_config_dict(pretrained_model_name_or_path, \u001b[39m*\u001b[39;49m\u001b[39m*\u001b[39;49mkwargs)\n\u001b[1;32m    547\u001b[0m     \u001b[39mif\u001b[39;00m \u001b[39m\"\u001b[39m\u001b[39mmodel_type\u001b[39m\u001b[39m\"\u001b[39m \u001b[39min\u001b[39;00m config_dict \u001b[39mand\u001b[39;00m \u001b[39mhasattr\u001b[39m(\u001b[39mcls\u001b[39m, \u001b[39m\"\u001b[39m\u001b[39mmodel_type\u001b[39m\u001b[39m\"\u001b[39m) \u001b[39mand\u001b[39;00m config_dict[\u001b[39m\"\u001b[39m\u001b[39mmodel_type\u001b[39m\u001b[39m\"\u001b[39m] \u001b[39m!=\u001b[39m \u001b[39mcls\u001b[39m\u001b[39m.\u001b[39mmodel_type:\n\u001b[1;32m    548\u001b[0m         logger\u001b[39m.\u001b[39mwarning(\n\u001b[1;32m    549\u001b[0m             \u001b[39mf\u001b[39m\u001b[39m\"\u001b[39m\u001b[39mYou are using a model of type \u001b[39m\u001b[39m{\u001b[39;00mconfig_dict[\u001b[39m'\u001b[39m\u001b[39mmodel_type\u001b[39m\u001b[39m'\u001b[39m]\u001b[39m}\u001b[39;00m\u001b[39m to instantiate a model of type \u001b[39m\u001b[39m\"\u001b[39m\n\u001b[1;32m    550\u001b[0m             \u001b[39mf\u001b[39m\u001b[39m\"\u001b[39m\u001b[39m{\u001b[39;00m\u001b[39mcls\u001b[39m\u001b[39m.\u001b[39mmodel_type\u001b[39m}\u001b[39;00m\u001b[39m. This is not supported for all configurations of models and can yield errors.\u001b[39m\u001b[39m\"\u001b[39m\n\u001b[1;32m    551\u001b[0m         )\n",
      "File \u001b[0;32m/Library/Frameworks/Python.framework/Versions/3.11/lib/python3.11/site-packages/transformers/configuration_utils.py:573\u001b[0m, in \u001b[0;36mPretrainedConfig.get_config_dict\u001b[0;34m(cls, pretrained_model_name_or_path, **kwargs)\u001b[0m\n\u001b[1;32m    571\u001b[0m original_kwargs \u001b[39m=\u001b[39m copy\u001b[39m.\u001b[39mdeepcopy(kwargs)\n\u001b[1;32m    572\u001b[0m \u001b[39m# Get config dict associated with the base config file\u001b[39;00m\n\u001b[0;32m--> 573\u001b[0m config_dict, kwargs \u001b[39m=\u001b[39m \u001b[39mcls\u001b[39;49m\u001b[39m.\u001b[39;49m_get_config_dict(pretrained_model_name_or_path, \u001b[39m*\u001b[39;49m\u001b[39m*\u001b[39;49mkwargs)\n\u001b[1;32m    574\u001b[0m \u001b[39mif\u001b[39;00m \u001b[39m\"\u001b[39m\u001b[39m_commit_hash\u001b[39m\u001b[39m\"\u001b[39m \u001b[39min\u001b[39;00m config_dict:\n\u001b[1;32m    575\u001b[0m     original_kwargs[\u001b[39m\"\u001b[39m\u001b[39m_commit_hash\u001b[39m\u001b[39m\"\u001b[39m] \u001b[39m=\u001b[39m config_dict[\u001b[39m\"\u001b[39m\u001b[39m_commit_hash\u001b[39m\u001b[39m\"\u001b[39m]\n",
      "File \u001b[0;32m/Library/Frameworks/Python.framework/Versions/3.11/lib/python3.11/site-packages/transformers/configuration_utils.py:628\u001b[0m, in \u001b[0;36mPretrainedConfig._get_config_dict\u001b[0;34m(cls, pretrained_model_name_or_path, **kwargs)\u001b[0m\n\u001b[1;32m    624\u001b[0m configuration_file \u001b[39m=\u001b[39m kwargs\u001b[39m.\u001b[39mpop(\u001b[39m\"\u001b[39m\u001b[39m_configuration_file\u001b[39m\u001b[39m\"\u001b[39m, CONFIG_NAME)\n\u001b[1;32m    626\u001b[0m \u001b[39mtry\u001b[39;00m:\n\u001b[1;32m    627\u001b[0m     \u001b[39m# Load from local folder or from cache or download from model Hub and cache\u001b[39;00m\n\u001b[0;32m--> 628\u001b[0m     resolved_config_file \u001b[39m=\u001b[39m cached_file(\n\u001b[1;32m    629\u001b[0m         pretrained_model_name_or_path,\n\u001b[1;32m    630\u001b[0m         configuration_file,\n\u001b[1;32m    631\u001b[0m         cache_dir\u001b[39m=\u001b[39;49mcache_dir,\n\u001b[1;32m    632\u001b[0m         force_download\u001b[39m=\u001b[39;49mforce_download,\n\u001b[1;32m    633\u001b[0m         proxies\u001b[39m=\u001b[39;49mproxies,\n\u001b[1;32m    634\u001b[0m         resume_download\u001b[39m=\u001b[39;49mresume_download,\n\u001b[1;32m    635\u001b[0m         local_files_only\u001b[39m=\u001b[39;49mlocal_files_only,\n\u001b[1;32m    636\u001b[0m         use_auth_token\u001b[39m=\u001b[39;49muse_auth_token,\n\u001b[1;32m    637\u001b[0m         user_agent\u001b[39m=\u001b[39;49muser_agent,\n\u001b[1;32m    638\u001b[0m         revision\u001b[39m=\u001b[39;49mrevision,\n\u001b[1;32m    639\u001b[0m         subfolder\u001b[39m=\u001b[39;49msubfolder,\n\u001b[1;32m    640\u001b[0m         _commit_hash\u001b[39m=\u001b[39;49mcommit_hash,\n\u001b[1;32m    641\u001b[0m     )\n\u001b[1;32m    642\u001b[0m     commit_hash \u001b[39m=\u001b[39m extract_commit_hash(resolved_config_file, commit_hash)\n\u001b[1;32m    643\u001b[0m \u001b[39mexcept\u001b[39;00m \u001b[39mEnvironmentError\u001b[39;00m:\n\u001b[1;32m    644\u001b[0m     \u001b[39m# Raise any environment error raise by `cached_file`. It will have a helpful error message adapted to\u001b[39;00m\n\u001b[1;32m    645\u001b[0m     \u001b[39m# the original exception.\u001b[39;00m\n",
      "File \u001b[0;32m/Library/Frameworks/Python.framework/Versions/3.11/lib/python3.11/site-packages/transformers/utils/hub.py:424\u001b[0m, in \u001b[0;36mcached_file\u001b[0;34m(path_or_repo_id, filename, cache_dir, force_download, resume_download, proxies, use_auth_token, revision, local_files_only, subfolder, user_agent, _raise_exceptions_for_missing_entries, _raise_exceptions_for_connection_errors, _commit_hash)\u001b[0m\n\u001b[1;32m    409\u001b[0m     resolved_file \u001b[39m=\u001b[39m hf_hub_download(\n\u001b[1;32m    410\u001b[0m         path_or_repo_id,\n\u001b[1;32m    411\u001b[0m         filename,\n\u001b[0;32m   (...)\u001b[0m\n\u001b[1;32m    420\u001b[0m         local_files_only\u001b[39m=\u001b[39mlocal_files_only,\n\u001b[1;32m    421\u001b[0m     )\n\u001b[1;32m    423\u001b[0m \u001b[39mexcept\u001b[39;00m RepositoryNotFoundError:\n\u001b[0;32m--> 424\u001b[0m     \u001b[39mraise\u001b[39;00m \u001b[39mEnvironmentError\u001b[39;00m(\n\u001b[1;32m    425\u001b[0m         \u001b[39mf\u001b[39m\u001b[39m\"\u001b[39m\u001b[39m{\u001b[39;00mpath_or_repo_id\u001b[39m}\u001b[39;00m\u001b[39m is not a local folder and is not a valid model identifier \u001b[39m\u001b[39m\"\u001b[39m\n\u001b[1;32m    426\u001b[0m         \u001b[39m\"\u001b[39m\u001b[39mlisted on \u001b[39m\u001b[39m'\u001b[39m\u001b[39mhttps://huggingface.co/models\u001b[39m\u001b[39m'\u001b[39m\u001b[39m\\n\u001b[39;00m\u001b[39mIf this is a private repository, make sure to \u001b[39m\u001b[39m\"\u001b[39m\n\u001b[1;32m    427\u001b[0m         \u001b[39m\"\u001b[39m\u001b[39mpass a token having permission to this repo with `use_auth_token` or log in with \u001b[39m\u001b[39m\"\u001b[39m\n\u001b[1;32m    428\u001b[0m         \u001b[39m\"\u001b[39m\u001b[39m`huggingface-cli login` and pass `use_auth_token=True`.\u001b[39m\u001b[39m\"\u001b[39m\n\u001b[1;32m    429\u001b[0m     )\n\u001b[1;32m    430\u001b[0m \u001b[39mexcept\u001b[39;00m RevisionNotFoundError:\n\u001b[1;32m    431\u001b[0m     \u001b[39mraise\u001b[39;00m \u001b[39mEnvironmentError\u001b[39;00m(\n\u001b[1;32m    432\u001b[0m         \u001b[39mf\u001b[39m\u001b[39m\"\u001b[39m\u001b[39m{\u001b[39;00mrevision\u001b[39m}\u001b[39;00m\u001b[39m is not a valid git identifier (branch name, tag name or commit id) that exists \u001b[39m\u001b[39m\"\u001b[39m\n\u001b[1;32m    433\u001b[0m         \u001b[39m\"\u001b[39m\u001b[39mfor this model name. Check the model page at \u001b[39m\u001b[39m\"\u001b[39m\n\u001b[1;32m    434\u001b[0m         \u001b[39mf\u001b[39m\u001b[39m\"\u001b[39m\u001b[39m'\u001b[39m\u001b[39mhttps://huggingface.co/\u001b[39m\u001b[39m{\u001b[39;00mpath_or_repo_id\u001b[39m}\u001b[39;00m\u001b[39m'\u001b[39m\u001b[39m for available revisions.\u001b[39m\u001b[39m\"\u001b[39m\n\u001b[1;32m    435\u001b[0m     )\n",
      "\u001b[0;31mOSError\u001b[0m: bart-large-cnn is not a local folder and is not a valid model identifier listed on 'https://huggingface.co/models'\nIf this is a private repository, make sure to pass a token having permission to this repo with `use_auth_token` or log in with `huggingface-cli login` and pass `use_auth_token=True`."
     ]
    }
   ],
   "source": [
    "import torch\n",
    "import transformers\n",
    "from transformers import pipeline\n",
    "from transformers import AutoTokenizer, AutoModelForSeq2SeqLM, BartTokenizer, BartForConditionalGeneration, BartConfig\n",
    "\n",
    "print(\"Transformers version: \", transformers.__version__)\n",
    "\n",
    "tokenizer = AutoTokenizer.from_pretrained(\"facebook/bart-large-cnn\")\n",
    "model = AutoModelForSeq2SeqLM.from_pretrained(\"facebook/bart-large-cnn\")\n",
    "\n",
    "# Initializing the model & tokenizer using .from_pretrained()\n",
    "model = BartForConditionalGeneration.from_pretrained('bart-large-cnn')\n",
    "tokenizer = BartTokenizer.from_pretrained('bart-large-cnn')\n",
    "\n",
    "# generate summaries of all docs in corpus\n",
    "\n",
    "#summarizer = pipeline(task=\"summarization\",model='facebook/bart-large-cnn',tokenizer='bart-large-cnn')\n",
    "summaries = []\n",
    "\n",
    "for doc in docs:\n",
    "    summary = summarizer(doc, min_length=5, max_length=100)\n",
    "    summaries.append(summary)\n",
    "    '''\n",
    "    # encode the input\n",
    "    inputs = tokenizer.batch_encode_plus([doc], max_length=1024, return_tensors='pt')\n",
    "    summary_ids = model.generate(inputs['input_ids'], max_length=100, early_stopping=False)\n",
    "    # iterating through each id in summary\n",
    "    for ids in summary_ids:\n",
    "        # decoding the ids\n",
    "        short = tokenizer.decode(ids, skip_special_tokens=True, clean_up_tokenization_spaces=False)\n",
    "        # comparing original length and summary length\n",
    "        print(len(doc),'------>' ,len(short))\n",
    "        print(short)\n",
    "    '''\n",
    "    \n",
    "\n",
    "print(summaries[0][:20])"
   ]
  },
  {
   "cell_type": "code",
   "execution_count": 26,
   "id": "c9d347ad",
   "metadata": {},
   "outputs": [
    {
     "name": "stdout",
     "output_type": "stream",
     "text": [
      "10\n"
     ]
    }
   ],
   "source": []
  },
  {
   "attachments": {},
   "cell_type": "markdown",
   "id": "19b1146e",
   "metadata": {},
   "source": [
    "# **Text Generation**"
   ]
  },
  {
   "cell_type": "code",
   "execution_count": null,
   "id": "4386a3f8",
   "metadata": {},
   "outputs": [],
   "source": []
  },
  {
   "attachments": {},
   "cell_type": "markdown",
   "id": "c2af91f4",
   "metadata": {},
   "source": [
    "# **Translation**"
   ]
  },
  {
   "cell_type": "code",
   "execution_count": 22,
   "id": "da4ae4ee",
   "metadata": {},
   "outputs": [
    {
     "name": "stderr",
     "output_type": "stream",
     "text": [
      "No model was supplied, defaulted to t5-base and revision 686f1db (https://huggingface.co/t5-base).\n",
      "Using a pipeline without specifying a model name and revision in production is not recommended.\n",
      "Downloading (…)lve/main/config.json: 100%|██████████| 1.21k/1.21k [00:00<00:00, 1.03MB/s]\n",
      "Downloading pytorch_model.bin: 100%|██████████| 892M/892M [00:44<00:00, 20.2MB/s] \n",
      "Downloading (…)neration_config.json: 100%|██████████| 147/147 [00:00<00:00, 98.3kB/s]\n",
      "Downloading (…)ve/main/spiece.model: 100%|██████████| 792k/792k [00:00<00:00, 2.91MB/s]\n",
      "Downloading (…)/main/tokenizer.json: 100%|██████████| 1.39M/1.39M [00:00<00:00, 4.08MB/s]\n",
      "/Library/Frameworks/Python.framework/Versions/3.11/lib/python3.11/site-packages/transformers/models/t5/tokenization_t5_fast.py:155: FutureWarning: This tokenizer was incorrectly instantiated with a model max length of 512 which will be corrected in Transformers v5.\n",
      "For now, this behavior is kept to avoid breaking backwards compatibility when padding/encoding with `truncation is True`.\n",
      "- Be aware that you SHOULD NOT rely on t5-base automatically truncating your input to 512 when padding/encoding.\n",
      "- If you want to encode/pad to sequences longer than 512 you can either instantiate this tokenizer with `model_max_length` or pass `max_length` when encoding/padding.\n",
      "- To avoid this warning, please instantiate this tokenizer with `model_max_length` set to your preferred value.\n",
      "  warnings.warn(\n"
     ]
    },
    {
     "data": {
      "text/plain": [
       "<transformers.pipelines.text2text_generation.TranslationPipeline at 0x2aec110d0>"
      ]
     },
     "execution_count": 22,
     "metadata": {},
     "output_type": "execute_result"
    }
   ],
   "source": [
    "from transformers import pipeline\n",
    "\n",
    "lang = \"translation_en_to_fr\"\n",
    "translator_model=pipeline(task=lang) # change task as needed\n",
    "\n",
    "'''\n",
    "English to French: pipeline(task='translation_en_to_fr')\n",
    "English to German: pipeline(task='translation_en_to_de')\n",
    "English to Spanish: pipeline(task='translation_en_to_es')\n",
    "English to Portuguese: pipeline(task='translation_en_to_pt')\n",
    "English to Italian: pipeline(task='translation_en_to_it')\n",
    "English to Russian: pipeline(task='translation_en_to_ru')\n",
    "English to Japanese: pipeline(task='translation_en_to_ja')\n",
    "English to Korean: pipeline(task='translation_en_to_ko')\n",
    "English to Chinese: pipeline(task='translation_en_to_zh')\n",
    "'''\n",
    "\n",
    "translator_model"
   ]
  },
  {
   "cell_type": "code",
   "execution_count": 24,
   "id": "63e71ab2",
   "metadata": {},
   "outputs": [
    {
     "name": "stdout",
     "output_type": "stream",
     "text": [
      "[{'translation_text': 'Je vous souhaite la bienvenue dans mon pays !'}]\n"
     ]
    }
   ],
   "source": [
    "translation = translator_model('I welcome you to my country ! I am sure you will enjoy your visit')\n",
    "\n",
    "# translation is a dictionary\n",
    "print(translation)"
   ]
  },
  {
   "attachments": {},
   "cell_type": "markdown",
   "id": "9406dbe5",
   "metadata": {},
   "source": [
    "## Using Seq2Seq Models for Translation Prediction"
   ]
  },
  {
   "attachments": {},
   "cell_type": "markdown",
   "id": "147e2612",
   "metadata": {},
   "source": [
    "### Model Arguments"
   ]
  },
  {
   "cell_type": "code",
   "execution_count": 17,
   "id": "4bf47b98",
   "metadata": {},
   "outputs": [],
   "source": [
    "\n",
    "model_args = {'adam_epsilon': 1e-08,\n",
    " 'base_marian_model_name': 'Helsinki-NLP/opus-mt-en-ro',\n",
    " 'best_model_dir': 'outputs/best_model',\n",
    " 'cache_dir': 'cache_dir/',\n",
    " 'config': {},\n",
    " 'dataset_class': None,\n",
    " 'do_lower_case': False,\n",
    " 'do_sample': False,\n",
    " 'early_stopping': True,\n",
    " 'early_stopping_consider_epochs': False,\n",
    " 'early_stopping_delta': 0,\n",
    " 'early_stopping_metric': 'eval_loss',\n",
    " 'early_stopping_metric_minimize': True,\n",
    " 'early_stopping_patience': 3,\n",
    " 'encoding': None,\n",
    " 'eval_batch_size': 8,\n",
    " 'evaluate_during_training': False,\n",
    " 'evaluate_during_training_steps': 2000,\n",
    " 'evaluate_during_training_verbose': True,\n",
    " 'evaluate_generated_text': True,\n",
    " 'fp16': False,\n",
    " 'fp16_opt_level': 'O1',\n",
    " 'gradient_accumulation_steps': 1,\n",
    " 'learning_rate': 4e-05,\n",
    " 'length_penalty': 2.0,\n",
    " 'logging_steps': 50,\n",
    " 'manual_seed': 4,\n",
    " 'max_grad_norm': 1.0,\n",
    " 'max_length': 50,\n",
    " 'max_seq_length': 50,\n",
    " 'max_steps': -1,\n",
    " 'model_name': 'Helsinki-NLP/opus-mt-en-ro',\n",
    " 'model_type': 'marian',\n",
    " 'multiprocessing_chunksize': 500,\n",
    " 'n_gpu': 1,\n",
    " 'no_cache': False,\n",
    " 'no_save': False,\n",
    " 'num_beams': 1,\n",
    " 'num_train_epochs': 10,\n",
    " 'output_dir': 'outputs/',\n",
    " 'overwrite_output_dir': True,\n",
    " 'process_count': 1,\n",
    " 'repetition_penalty': 1.0,\n",
    " 'reprocess_input_data': True,\n",
    " 'save_best_model': True,\n",
    " 'save_eval_checkpoints': False,\n",
    " 'save_model_every_epoch': False,\n",
    " 'save_steps': 2000,\n",
    " 'silent': False,\n",
    " 'tensorboard_dir': None,\n",
    " 'train_batch_size': 2,\n",
    " 'use_cached_eval_features': False,\n",
    " 'use_cuda': False,\n",
    " 'use_early_stopping': False,\n",
    " 'use_multiprocessing': False,\n",
    " 'wandb_kwargs': {},\n",
    " 'wandb_project': None,\n",
    " 'warmup_ratio': 0.06,\n",
    " 'warmup_steps': 0,\n",
    " 'weight_decay': 0}"
   ]
  },
  {
   "attachments": {},
   "cell_type": "markdown",
   "id": "b892e548",
   "metadata": {},
   "source": [
    "### Seq2Seq Model"
   ]
  },
  {
   "cell_type": "code",
   "execution_count": 18,
   "id": "4676d7fc",
   "metadata": {},
   "outputs": [
    {
     "name": "stderr",
     "output_type": "stream",
     "text": [
      "/Library/Frameworks/Python.framework/Versions/3.11/lib/python3.11/site-packages/tqdm/auto.py:21: TqdmWarning: IProgress not found. Please update jupyter and ipywidgets. See https://ipywidgets.readthedocs.io/en/stable/user_install.html\n",
      "  from .autonotebook import tqdm as notebook_tqdm\n",
      "Downloading (…)lve/main/config.json: 100%|██████████| 1.38k/1.38k [00:00<00:00, 571kB/s]\n",
      "Downloading pytorch_model.bin: 100%|██████████| 301M/301M [00:13<00:00, 22.1MB/s] \n",
      "Downloading (…)neration_config.json: 100%|██████████| 293/293 [00:00<00:00, 260kB/s]\n",
      "Downloading (…)olve/main/source.spm: 100%|██████████| 789k/789k [00:00<00:00, 3.77MB/s]\n",
      "Downloading (…)olve/main/target.spm: 100%|██████████| 817k/817k [00:00<00:00, 16.6MB/s]\n",
      "Downloading (…)olve/main/vocab.json: 100%|██████████| 1.39M/1.39M [00:00<00:00, 4.01MB/s]\n",
      "Downloading (…)okenizer_config.json: 100%|██████████| 42.0/42.0 [00:00<00:00, 35.9kB/s]\n",
      "/Library/Frameworks/Python.framework/Versions/3.11/lib/python3.11/site-packages/transformers/models/marian/tokenization_marian.py:194: UserWarning: Recommended: pip install sacremoses.\n",
      "  warnings.warn(\"Recommended: pip install sacremoses.\")\n"
     ]
    }
   ],
   "source": [
    "import torch\n",
    "from simpletransformers.seq2seq import Seq2SeqModel\n",
    "\n",
    "model = Seq2SeqModel(encoder_decoder_type=\"marian\",encoder_decoder_name=\"Helsinki-NLP/opus-mt-en-ro\",args=model_args,use_cuda=False)\n",
    "# see list of pretrained models: https://huggingface.co/transformers/pretrained_models.html"
   ]
  },
  {
   "cell_type": "code",
   "execution_count": 21,
   "id": "21fa3264",
   "metadata": {},
   "outputs": [
    {
     "name": "stderr",
     "output_type": "stream",
     "text": [
      "Generating outputs:   0%|          | 0/1 [00:00<?, ?it/s]/Library/Frameworks/Python.framework/Versions/3.11/lib/python3.11/site-packages/transformers/tokenization_utils_base.py:3722: FutureWarning: \n",
      "`prepare_seq2seq_batch` is deprecated and will be removed in version 5 of HuggingFace Transformers. Use the regular\n",
      "`__call__` method to prepare your inputs and targets.\n",
      "\n",
      "Here is a short example:\n",
      "\n",
      "model_inputs = tokenizer(src_texts, text_target=tgt_texts, ...)\n",
      "\n",
      "If you either need to use different keyword arguments for the source and target texts, you should do two calls like\n",
      "this:\n",
      "\n",
      "model_inputs = tokenizer(src_texts, ...)\n",
      "labels = tokenizer(text_target=tgt_texts, ...)\n",
      "model_inputs[\"labels\"] = labels[\"input_ids\"]\n",
      "\n",
      "See the documentation of your specific tokenizer for more details on the specific arguments to the tokenizer of choice.\n",
      "For a more complete example, see the implementation of `prepare_seq2seq_batch`.\n",
      "\n",
      "  warnings.warn(formatted_warning, FutureWarning)\n",
      "Generating outputs: 100%|██████████| 1/1 [00:03<00:00,  3.08s/it]"
     ]
    },
    {
     "name": "stdout",
     "output_type": "stream",
     "text": [
      "['Vă urez bun venit în ţara mea.', 'Sunt sigur că vă veţi bucura de şederea dvs aici.']\n"
     ]
    },
    {
     "name": "stderr",
     "output_type": "stream",
     "text": [
      "\n"
     ]
    }
   ],
   "source": [
    "\n",
    "translation = model.predict(['I welcome you to my country','I am sure you will enjoy your stay here'])\n",
    "print(translation)"
   ]
  },
  {
   "attachments": {},
   "cell_type": "markdown",
   "id": "355cc552",
   "metadata": {},
   "source": [
    "# **Document Similarity and Social Network Graphs**"
   ]
  },
  {
   "attachments": {},
   "cell_type": "markdown",
   "id": "695f5cbd",
   "metadata": {},
   "source": [
    "## Named Entity Recognition"
   ]
  },
  {
   "cell_type": "code",
   "execution_count": null,
   "id": "3b3e6d9f",
   "metadata": {},
   "outputs": [],
   "source": [
    "from nltk import ne_chunk\n",
    "import spacy \n",
    "nlp = spacy.load('en_core_web_sm')\n",
    "\n",
    "# Creating a spacy doc of a sentence\n",
    "sentence=' The building is located at London. It is the headquaters of Yahoo. John works there. He speaks English'\n",
    "doc=nlp(sentence)"
   ]
  },
  {
   "attachments": {},
   "cell_type": "markdown",
   "id": "e3534ea8",
   "metadata": {},
   "source": [
    "# **ChatBots**"
   ]
  },
  {
   "cell_type": "code",
   "execution_count": null,
   "id": "10391d3b",
   "metadata": {},
   "outputs": [],
   "source": [
    "from simpletransformers.conv_ai import ConvAIModel\n",
    "\n",
    "import torch\n",
    "#import tensorflow as tf # import doesn't work due to tensorflow being temp unsupported for python version > 3.9\n",
    "\n",
    "train_args ={\"fp16\":False,\n",
    "             \"num_train_epochs\": 1,\n",
    "              \"save_model_every_epoch\": False}\n",
    "\n",
    "my_chatbot=ConvAIModel(\"gpt\",\"openai-gpt\",use_cuda=True,args=train_args)\n",
    "my_chatbot.train_model()\n",
    "my_chatbot.interact()"
   ]
  },
  {
   "attachments": {},
   "cell_type": "markdown",
   "id": "b2c93888",
   "metadata": {},
   "source": [
    "# **Document Classification**"
   ]
  },
  {
   "cell_type": "code",
   "execution_count": null,
   "id": "47e54a90",
   "metadata": {},
   "outputs": [],
   "source": [
    "# Use Doc2Vec strategy\n",
    "\n",
    "import gensim\n",
    "from gensim.utils import simple_preprocess\n",
    "from gensim.models.doc2vec import Doc2Vec, TaggedDocument\n",
    "\n",
    "# Load the NLTK stopwords and WordNetLemmatizer\n",
    "stop_words = stopwords.words('english')\n",
    "lemmatizer = WordNetLemmatizer()\n",
    "\n",
    "# Define a function to preprocess the text\n",
    "def preprocess_text(text):\n",
    "    # Tokenize the text and remove stopwords\n",
    "    tokens = [token for token in simple_preprocess(text) if token not in stop_words]\n",
    "    # Lemmatize the tokens\n",
    "    lemmatized_tokens = [lemmatizer.lemmatize(token) for token in tokens]\n",
    "    # Return the preprocessed text as a list of tokens\n",
    "    return lemmatized_tokens\n",
    "\n",
    "# Load the training data\n",
    "train_data = [\n",
    "    TaggedDocument(words=preprocess_text(doc['text']), tags=[doc['label']])\n",
    "    for doc in train_docs\n",
    "]\n",
    "\n",
    "# Train the Doc2Vec model on the training data\n",
    "model = Doc2Vec(vector_size=100, window=5, min_count=5, epochs=20)\n",
    "model.build_vocab(train_data)\n",
    "model.train(train_data, total_examples=model.corpus_count, epochs=model.epochs)\n",
    "\n",
    "# Classify the test data\n",
    "for doc in test_docs:\n",
    "    # Preprocess the text\n",
    "    tokens = preprocess_text(doc['text'])\n",
    "    # Infer the vector for the preprocessed text\n",
    "    inferred_vector = model.infer_vector(tokens)\n",
    "    # Use the model to predict the label for the document\n",
    "    predicted_label = model.docvecs.most_similar([inferred_vector])[0][0]\n",
    "    # Print the predicted label for the document\n",
    "    print(\"Predicted label for document:\", predicted_label)\n"
   ]
  },
  {
   "attachments": {},
   "cell_type": "markdown",
   "id": "b452169e",
   "metadata": {},
   "source": []
  },
  {
   "attachments": {},
   "cell_type": "markdown",
   "id": "4e724aa5",
   "metadata": {},
   "source": [
    "# **Experimental**"
   ]
  },
  {
   "cell_type": "markdown",
   "id": "702cadf1",
   "metadata": {
    "heading_collapsed": true
   },
   "source": [
    "### **Tokenization**"
   ]
  },
  {
   "cell_type": "code",
   "execution_count": null,
   "id": "fb9ae469",
   "metadata": {
    "hidden": true
   },
   "outputs": [],
   "source": [
    "# Tokenization\n",
    "'''\n",
    "def sent_to_words(sentences):\n",
    "    for sentence in sentences:\n",
    "        yield(gensim.utils.simple_preprocess(str(sentence), deacc=True))  # deacc=True removes punctuations\n",
    "\n",
    "#data_words = list(sent_to_words(data))\n",
    "doc_words = list(sent_to_words(docs)) # returns list of [list of words]\n",
    "max_words = 50\n",
    "\n",
    "#print(data_words[:1])\n",
    "print(doc_words[0][:max_words]) # prints first max_words in first doc\n",
    "\n",
    "# 2D List Sentence Datatype:\n",
    "# list of sentences, where each list element contains word elements\n",
    "\n",
    "'''\n",
    "# =============================\n",
    "'''\n",
    "# Create a dictionary representation of the documents.\n",
    "dictionary = Dictionary(docs)\n",
    "\n",
    "# Filter out words that occur less than 20 documents, or more than 50% of the documents.\n",
    "dictionary.filter_extremes(no_below=20, no_above=0.5)\n",
    "'''"
   ]
  },
  {
   "cell_type": "code",
   "execution_count": null,
   "id": "9f444f3d",
   "metadata": {
    "hidden": true
   },
   "outputs": [],
   "source": [
    "# Use a Unigram Model\n",
    "# Build the bigram and trigram models\n",
    "bigram = gensim.models.Phrases(data_words, min_count=5, threshold=100) # higher threshold fewer phrases.\n",
    "trigram = gensim.models.Phrases(bigram[data_words], threshold=100)  \n",
    "\n",
    "# Faster way to get a sentence clubbed as a trigram/bigram\n",
    "bigram_mod = gensim.models.phrases.Phraser(bigram)\n",
    "trigram_mod = gensim.models.phrases.Phraser(trigram)\n",
    "\n",
    "# See trigram example\n",
    "print(trigram_mod[bigram_mod[data_words[0]]])"
   ]
  },
  {
   "cell_type": "code",
   "execution_count": null,
   "id": "b7f58d05",
   "metadata": {
    "hidden": true
   },
   "outputs": [],
   "source": [
    "# Define functions for stopwords, bigrams, trigrams and lemmatization\n",
    "\n",
    "def remove_stopwords(texts, stop_words):\n",
    "    return [[word for word in simple_preprocess(str(doc)) if word not in stop_words] for doc in texts]\n",
    "\n",
    "def make_bigrams(texts):\n",
    "    return [bigram_mod[doc] for doc in texts]\n",
    "\n",
    "def make_trigrams(texts):\n",
    "    return [trigram_mod[bigram_mod[doc]] for doc in texts]\n",
    "\n",
    "def lemmatization(texts, allowed_postags=['NOUN', 'ADJ', 'VERB', 'ADV']):\n",
    "    \"\"\"https://spacy.io/api/annotation\"\"\"\n",
    "    texts_out = []\n",
    "    for sent in texts:\n",
    "        doc = nlp(\" \".join(sent)) \n",
    "        texts_out.append([token.lemma_ for token in doc if token.pos_ in allowed_postags])\n",
    "    return texts_out"
   ]
  },
  {
   "cell_type": "code",
   "execution_count": null,
   "id": "34c260c5",
   "metadata": {
    "hidden": true
   },
   "outputs": [],
   "source": [
    "# Install LLMs\n",
    "'''\n",
    "!python -m spacy download fr_core_news_sm # French\n",
    "!python -m spacy download en_core_web_sm # English\n",
    "'''\n",
    "'''\n",
    "DOESN'T WORK\n",
    "'''\n",
    "!pip install fr-core-news-sm\n",
    "!pip install en_core_web_sm\n"
   ]
  },
  {
   "cell_type": "markdown",
   "id": "40cb6658",
   "metadata": {},
   "source": [
    "### **Lemmatization**"
   ]
  },
  {
   "cell_type": "code",
   "execution_count": null,
   "id": "65c05e47",
   "metadata": {},
   "outputs": [],
   "source": [
    "# Continue preprocess data: remove STOP WORDS\n",
    "# Make N-grams\n",
    "\n",
    "# Remove Stop Words\n",
    "stop_words = ['.', ',']\n",
    "data_words_nostops = remove_stopwords(data_words, stop_words)\n",
    "\n",
    "# Form Bigrams\n",
    "data_words_bigrams = make_bigrams(data_words_nostops)\n",
    "\n",
    "# Initialize spacy 'en' model, keeping only tagger component (for efficiency)\n",
    "# python3 -m spacy download en\n",
    "nlp = spacy.load('fr_core_news_sm')\n",
    "# for French LLM: fr_core_news_sm\n",
    "# for French LLM: en_core_web_sm\n",
    "\n",
    "# Do lemmatization keeping only noun, adj, vb, adv\n",
    "data_lemmatized = lemmatization(data_words_bigrams, allowed_postags=['NOUN', 'ADJ', 'VERB', 'ADV'])\n",
    "\n",
    "#print(data_lemmatized[:1])"
   ]
  },
  {
   "cell_type": "markdown",
   "id": "afe2898a",
   "metadata": {
    "heading_collapsed": true
   },
   "source": [
    "### Word to Vector"
   ]
  },
  {
   "cell_type": "code",
   "execution_count": null,
   "id": "9cbb55ef",
   "metadata": {
    "hidden": true
   },
   "outputs": [],
   "source": [
    "# import data\n",
    "sentences = list(sent_to_words(data))\n",
    "\n",
    "# train the model\n",
    "model = Word2Vec(sentences, vector_size=100, window=5, min_count=1, workers=4)\n",
    "\n",
    "# print the learned vocabulary\n",
    "vocab = model.wv.index_to_key\n",
    "word_vectors = [model.wv.get_vector(word) for word in vocab]\n",
    "\n",
    "print(random.sample(vocab, k=10))\n",
    "\n",
    "sample_word = 'try'\n",
    "sample_vect = model.wv[sample_word] if sample_word in vocab else None\n",
    "\n",
    "# get the vector representation of a word\n",
    "print(sample_vect)"
   ]
  },
  {
   "attachments": {},
   "cell_type": "markdown",
   "id": "618d671f",
   "metadata": {},
   "source": [
    "## Spacy "
   ]
  },
  {
   "cell_type": "code",
   "execution_count": null,
   "id": "24d545be",
   "metadata": {},
   "outputs": [],
   "source": [
    "import spacy\n",
    "from spacy.lang.en.examples import sentences \n",
    "\n",
    "nlp = spacy.load(\"en_core_web_sm\")\n",
    "nlp = spacy.load(\"fr_core_news_sm\")\n",
    "\n",
    "doc = nlp(sentences[0])\n",
    "print(doc.text)\n",
    "for token in doc:\n",
    "    print(token.text, token.pos_, token.dep_)\n"
   ]
  },
  {
   "cell_type": "code",
   "execution_count": null,
   "id": "259919f3",
   "metadata": {},
   "outputs": [],
   "source": []
  },
  {
   "attachments": {},
   "cell_type": "markdown",
   "id": "26a79bcd",
   "metadata": {},
   "source": [
    "# Memory Utilization"
   ]
  },
  {
   "cell_type": "code",
   "execution_count": null,
   "id": "7ac74527",
   "metadata": {},
   "outputs": [],
   "source": [
    "from resource import getrusage, RUSAGE_SELF\n",
    "print(\"Peak memory (MB):\", int(getrusage(RUSAGE_SELF).ru_maxrss/1024000))"
   ]
  },
  {
   "cell_type": "code",
   "execution_count": null,
   "id": "38fda9be",
   "metadata": {},
   "outputs": [],
   "source": []
  }
 ],
 "metadata": {
  "kernelspec": {
   "display_name": "Python 3 (ipykernel)",
   "language": "python",
   "name": "python3"
  },
  "language_info": {
   "codemirror_mode": {
    "name": "ipython",
    "version": 3
   },
   "file_extension": ".py",
   "mimetype": "text/x-python",
   "name": "python",
   "nbconvert_exporter": "python",
   "pygments_lexer": "ipython3",
   "version": "3.11.0"
  }
 },
 "nbformat": 4,
 "nbformat_minor": 5
}
