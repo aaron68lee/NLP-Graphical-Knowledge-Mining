{
 "cells": [
  {
   "cell_type": "markdown",
   "id": "f4576764",
   "metadata": {},
   "source": [
    "# *Google Drive Setup*"
   ]
  },
  {
   "cell_type": "markdown",
   "id": "3c71882f",
   "metadata": {
    "heading_collapsed": true
   },
   "source": [
    "## Install Modules"
   ]
  },
  {
   "cell_type": "code",
   "execution_count": 868,
   "id": "3662035c",
   "metadata": {
    "hidden": true
   },
   "outputs": [
    {
     "data": {
      "text/plain": [
       "'\\n!pip install tesseract\\n!pip install torchmetrics\\n!pip install torcheval\\n'"
      ]
     },
     "execution_count": 868,
     "metadata": {},
     "output_type": "execute_result"
    }
   ],
   "source": [
    "# install all needed packages\n",
    "\n",
    "# mount data from drive\n",
    "'''\n",
    "!pip install tesseract\n",
    "!pip install torchmetrics\n",
    "!pip install torcheval\n",
    "'''"
   ]
  },
  {
   "cell_type": "markdown",
   "id": "d0d0cd4e",
   "metadata": {
    "heading_collapsed": true
   },
   "source": [
    "## Mount Data"
   ]
  },
  {
   "cell_type": "code",
   "execution_count": null,
   "id": "540d825c",
   "metadata": {
    "hidden": true
   },
   "outputs": [],
   "source": []
  },
  {
   "cell_type": "code",
   "execution_count": null,
   "id": "8f6703cc",
   "metadata": {
    "hidden": true
   },
   "outputs": [],
   "source": [
    "from google.colab import drive\n",
    "drive.mount('/content/drive')\n",
    "\n",
    "dataset_path = '/content/drive/MyDrive/NLP Datasets/FRconquest_split'"
   ]
  },
  {
   "cell_type": "markdown",
   "id": "8c512fa2",
   "metadata": {},
   "source": [
    "# Helper Functions"
   ]
  },
  {
   "cell_type": "markdown",
   "id": "bf6eeb46",
   "metadata": {
    "heading_collapsed": true
   },
   "source": [
    "## File I/O"
   ]
  },
  {
   "cell_type": "code",
   "execution_count": 1,
   "id": "bf010210",
   "metadata": {
    "hidden": true
   },
   "outputs": [],
   "source": [
    "import requests\n",
    "\n",
    "api_file = \"./API Keys/hugging_key.txt\"\n",
    "cohere_api_file = \"./API Keys/cohere_key.txt\"\n",
    "\n",
    "def get_api_key(api_file):\n",
    "    try:\n",
    "        with open(api_file, 'r') as file:\n",
    "            api_key = file.readline().strip()\n",
    "            #print(\"Api Key acquired:\")\n",
    "            return api_key\n",
    "    except FileNotFoundError:\n",
    "        print(f\"File '{api_file}' not found.\")\n",
    "    except IOError:\n",
    "        print(f\"Error reading file '{api_file}'.\")\n",
    "        \n",
    "huggingface_key = get_api_key(api_file)\n",
    "cohere_key = get_api_key(cohere_api_file)\n",
    "\n"
   ]
  },
  {
   "cell_type": "markdown",
   "id": "1c55b9a2",
   "metadata": {
    "heading_collapsed": true
   },
   "source": [
    "## Data Structure Generation"
   ]
  },
  {
   "cell_type": "code",
   "execution_count": 2,
   "id": "19a49615",
   "metadata": {
    "hidden": true
   },
   "outputs": [],
   "source": [
    "\n",
    "def get_doc_index(doc_names, doc_name):\n",
    "    '''\n",
    "    Returns doc index given corpus of doc names, and given document name\n",
    "    '''\n",
    "    return doc_names.index(doc_name)\n"
   ]
  },
  {
   "cell_type": "markdown",
   "id": "8a04bad1",
   "metadata": {
    "heading_collapsed": true
   },
   "source": [
    "## Tools"
   ]
  },
  {
   "cell_type": "code",
   "execution_count": 132,
   "id": "bd357e2b",
   "metadata": {
    "hidden": true
   },
   "outputs": [],
   "source": [
    "def second_small_index(arr):\n",
    "    if len(arr) < 2:\n",
    "        return None\n",
    "\n",
    "    smallest = min(arr)\n",
    "    second_smallest = float('inf')\n",
    "    smallest_index = None\n",
    "    second_smallest_index = None\n",
    "\n",
    "    for i, num in enumerate(arr):\n",
    "        if num < second_smallest and num > smallest:\n",
    "            second_smallest = num\n",
    "            second_smallest_index = i\n",
    "\n",
    "    return second_smallest_index"
   ]
  },
  {
   "cell_type": "code",
   "execution_count": 125,
   "id": "17395dc1",
   "metadata": {
    "hidden": true
   },
   "outputs": [],
   "source": [
    "def second_big_index(arr):\n",
    "    if len(arr) < 2:\n",
    "        return None\n",
    "\n",
    "    largest = max(arr)\n",
    "    second_largest = float('-inf')\n",
    "    largest_index = None\n",
    "    second_largest_index = None\n",
    "\n",
    "    for i, num in enumerate(arr):\n",
    "        if num > second_largest and num < largest:\n",
    "            second_largest = num\n",
    "            second_largest_index = i\n",
    "\n",
    "    return second_largest_index"
   ]
  },
  {
   "cell_type": "code",
   "execution_count": 708,
   "id": "caaad635",
   "metadata": {
    "hidden": true
   },
   "outputs": [],
   "source": [
    "from dateutil import parser\n",
    "\n",
    "def utils_parsetime(date_string):\n",
    "    '''\n",
    "    # old code doesn't work if date string is ambiguous\n",
    "    x = re.match(r'.*([1-3][0-9]{3})', txt) #<--check if there is a year if x is not None:\n",
    "    try:\n",
    "        dt = dateparser.parse(txt)\n",
    "    except:\n",
    "        dt = np.nan\n",
    "    else:\n",
    "        dt = np.nan\n",
    "    return dt\n",
    "    '''\n",
    "\n",
    "    x = re.match(r'.*([1-3][0-9]{3})', date_string) # <--check if there is a year if x is not None:\n",
    "    if x is None:\n",
    "        return np.nan\n",
    "    \n",
    "    # Parse the date string using dateutil.parser\n",
    "    try:\n",
    "        date = parser.parse(date_string, fuzzy=True)\n",
    "        # Convert the parsed date to the desired format (yyyy-mm-dd)\n",
    "        formatted_date = date.strftime('%Y-%m-%d')\n",
    "    except:\n",
    "        formatted_date = np.nan\n",
    "    return formatted_date\n"
   ]
  },
  {
   "cell_type": "code",
   "execution_count": 603,
   "id": "a61910e7",
   "metadata": {
    "hidden": true
   },
   "outputs": [],
   "source": [
    "# helper for removing last n elements of list\n",
    "def pop_last_n(arr, n):\n",
    "    for i in range(n):\n",
    "        arr.pop()\n",
    "    return arr\n"
   ]
  },
  {
   "cell_type": "markdown",
   "id": "1c142dbb",
   "metadata": {
    "heading_collapsed": true
   },
   "source": [
    "# Topic Modeling"
   ]
  },
  {
   "cell_type": "markdown",
   "id": "522d1754",
   "metadata": {
    "hidden": true
   },
   "source": [
    "## Import Modules"
   ]
  },
  {
   "cell_type": "code",
   "execution_count": 926,
   "id": "ff421378",
   "metadata": {
    "hidden": true
   },
   "outputs": [
    {
     "name": "stdout",
     "output_type": "stream",
     "text": [
      "['i', 'me', 'my', 'myself', 'we', 'our', 'ours', 'ourselves', 'you', \"you're\"]\n",
      "['in found in stopwords']\n"
     ]
    }
   ],
   "source": [
    "# Import Modules\n",
    "\n",
    "import re\n",
    "import pickle\n",
    "from dateutil import parser\n",
    "import numpy as np\n",
    "import pandas as pd\n",
    "from pprint import pprint\n",
    "import random\n",
    "import warnings\n",
    "import math\n",
    "from tqdm import tqdm\n",
    "from itertools import islice\n",
    "np.random.seed(42)\n",
    "\n",
    "# Word2Vec Statistics\n",
    "import cython #ENSURE cython package is installed on computer/canopy\n",
    "from gensim.models import phrases \n",
    "from gensim import corpora, models, similarities #calc all similarities at once, from http://radimrehurek.com/gensim/tut3.html\n",
    "from sklearn.metrics.pairwise import cosine_similarity\n",
    "from scipy import spatial\n",
    "from statistics import mean\n",
    "from gensim.models import Word2Vec, KeyedVectors\n",
    "from string import ascii_letters, digits\n",
    "from sklearn.manifold import TSNE\n",
    "from gensim.test.utils import datapath\n",
    "#np.set_printoptions(threshold=np.inf) #set to print full output\n",
    "\n",
    "# Gensim\n",
    "import gensim\n",
    "import gensim.corpora as corpora\n",
    "from gensim.utils import simple_preprocess\n",
    "from gensim.models import CoherenceModel, Word2Vec, LdaModel\n",
    "from gensim.test.utils import common_corpus, common_dictionary\n",
    "from gensim.corpora import Dictionary\n",
    "from gensim import models, corpora, similarities\n",
    "#from wordcloud import WordCloud # installation error\n",
    "\n",
    "# from gensim.models.wrappers import LdaMallet\n",
    "\n",
    "# spacy for lemmatization\n",
    "import spacy\n",
    "# download LLM: python -m spacy download en_core_web_sm\n",
    "\n",
    "# Plotting tools\n",
    "import pyLDAvis\n",
    "import pyLDAvis.gensim  # don't skip this\n",
    "import matplotlib.pyplot as plt\n",
    "%matplotlib inline\n",
    "\n",
    "# Enable logging for gensim - optional\n",
    "import logging\n",
    "logging.basicConfig(format='%(asctime)s : %(levelname)s : %(message)s', level=logging.ERROR)\n",
    "\n",
    "import warnings\n",
    "warnings.filterwarnings(\"ignore\",category=DeprecationWarning)\n",
    "\n",
    "# import NLTK stop words\n",
    "import nltk\n",
    "from nltk.corpus import stopwords\n",
    "from nltk import tokenize\n",
    "from nltk.tokenize import word_tokenize\n",
    "from nltk.stem import WordNetLemmatizer\n",
    "\n",
    "#nltk.download('punkt') # run once\n",
    "#nltk.download('stopwords')  # run once\n",
    "\n",
    "stop_words_fr_path = \"fr-stop-oa.txt\"\n",
    "stop_words_eng = stopwords.words('english')\n",
    "stop_words_fr = stopwords.words('french')\n",
    "with open(stop_words_fr_path, 'r') as f:\n",
    "    stop_words = set(f.read().splitlines())\n",
    "\n",
    "# for English stopwords\n",
    "stop_words = stopwords.words('english')\n",
    "stop_words.extend(['from', 'subject', 're', 'edu', 'use'])\n",
    "\n",
    "print(list(stop_words)[:10])\n",
    "\n",
    "'''\n",
    "# French Stopwords Example\n",
    "ex = 'de'\n",
    "print([ex if ex not in stop_words_fr else ex + ' found in stopwords'])\n",
    "'''\n",
    "\n",
    "# English Stopwords Example\n",
    "ex = 'in'\n",
    "print([ex if ex not in stop_words else ex + ' found in stopwords'])\n",
    "\n",
    "mallet_path = \"/Users/aaron68lee/Documents/Coding-Projects/NLP-Research/Mallet\"\n"
   ]
  },
  {
   "cell_type": "code",
   "execution_count": 4,
   "id": "587a3ad9",
   "metadata": {
    "hidden": true
   },
   "outputs": [],
   "source": [
    "#!jupyter kernelspec list --json\n",
    "#!which -a python3\n",
    "\n",
    "#import conda\n",
    "#import tensorflow as tf\n",
    "#from spacy import displacy\n",
    "#nlp = spacy.load('en_core_web_sm')\n",
    "#nlp = spacy.load('/opt/miniconda3/lib/python3.9/site-packages/en_core_web_sm') #-3.3.0') error loading LLM package\n",
    "                  "
   ]
  },
  {
   "cell_type": "code",
   "execution_count": 5,
   "id": "8c95b958",
   "metadata": {
    "hidden": true
   },
   "outputs": [
    {
     "name": "stdout",
     "output_type": "stream",
     "text": [
      "Python 3.9.12\r\n"
     ]
    }
   ],
   "source": [
    "#!/opt/miniconda3/bin/python3 -m pip install ipykernel\n",
    "#!/usr/local/bin/python3 -m pip install ipykernel \n",
    "#!/usr/local/bin/python3 -m pip install ipykernel\n",
    "#!/Library/Frameworks/Python.framework/Versions/3.11/bin/python3 -m pip install ipykernel\n",
    "!python3 --version\n",
    "# import textacy"
   ]
  },
  {
   "cell_type": "markdown",
   "id": "fe4ed05e",
   "metadata": {
    "heading_collapsed": true,
    "hidden": true
   },
   "source": [
    "## Import Datasets"
   ]
  },
  {
   "cell_type": "code",
   "execution_count": 666,
   "id": "4b552e7a",
   "metadata": {
    "hidden": true
   },
   "outputs": [],
   "source": [
    "'''\n",
    "Document Extractor\n",
    "'''\n",
    "\n",
    "import io\n",
    "from dateutil import parser\n",
    "import os.path\n",
    "import re\n",
    "import tarfile\n",
    "from collections import Counter\n",
    "import smart_open\n",
    "\n",
    "nlp = spacy.load('en_core_web_sm')\n",
    "\n",
    "# Filter for only nouns (in preprocessing)\n",
    "def noun_only(x):\n",
    "    pos_comment = nltk.pos_tag(x)\n",
    "    filtered = [word[0] for word in pos_comment if word[1] in ['NN']]\n",
    "    # to filter both noun and verbs\n",
    "    #filtered = [word[0] for word in pos_comment if word[1] in ['NN','VB', 'VBD', 'VBG', 'VBN', 'VBZ']]\n",
    "    return filtered\n",
    "\n",
    "'''\n",
    "DESCRIPTION: helper function to process all documents inside a corpus folder\n",
    "RETURN:\n",
    "    1) documents: python list of document as one string\n",
    "    2) document_names: python list of document names (list of strings)\n",
    "    3) doc_dict: dictionary mapping doc names to doc contents\n",
    "    4) doc_sents: list of documents where each doc is a list of sentences\n",
    "'''\n",
    "def extract_documents(url, max_docs):\n",
    "    doc_count = 0\n",
    "    documents = []\n",
    "    original_docs = []\n",
    "    document_names = []\n",
    "    doc_sents = []\n",
    "    doc_dict = {} # combines documents and document_names into dictionary data structure\n",
    "    \n",
    "    with os.scandir(url) as entries:\n",
    "        for entry in tqdm(entries, desc='Processing Documents ', unit='doc'):\n",
    "            if doc_count < max_docs:\n",
    "                if entry.is_file() and entry.name.endswith('.txt'):\n",
    "                    with open(entry, \"r\", encoding=\"utf-8\", errors=\"replace\") as file:\n",
    "                        curr_doc = file.read()\n",
    "                        original_docs.append(curr_doc)\n",
    "                            \n",
    "                        '''\n",
    "                        # REGEX isn't robust enough\n",
    "                        sentences = re.split(r'\\.\\s+', curr_doc)  # Split by period followed by whitespace\n",
    "                        sentences = [s.strip() for s in sentences if s.strip()]  # Remove leading/trailing whitespaces and empty sentences\n",
    "                        doc_sents.append(sentences)\n",
    "                        '''\n",
    "                        \n",
    "                        # Extract sentences from the current document\n",
    "                        document_no_punct = re.sub(r'[^\\w\\s]', '', curr_doc)\n",
    "                        doc = nlp(document_no_punct)\n",
    "                        doc_sents_i = []\n",
    "                        for sent in doc.sents:\n",
    "                            doc_sents_i.append(sent.text.strip())\n",
    "                        doc_sents.append(doc_sents_i)\n",
    "                        \n",
    "                        curr_doc = tokenize.word_tokenize(curr_doc) # tokenize curr doc\n",
    "                        lowered = [w.lower() for w in curr_doc] # lowercase\n",
    "                        \n",
    "                        # add lemmitization preprocessing later...\n",
    "                        alpha = [w for w in lowered if w.isalpha()]\n",
    "                        filtered = [w for w in alpha if w not in stop_words]\n",
    "                        curr_doc = list(filter(None, filtered))\n",
    "                        documents.append(curr_doc)\n",
    "                        \n",
    "                        document_names.append(entry.name) \n",
    "                        doc_dict[os.path.splitext(entry.name)[0]] = curr_doc\n",
    "                        \n",
    "                doc_count += 1\n",
    "                \n",
    "    # remove '.txt' file extension for doc_names\n",
    "    document_names = [os.path.splitext(name)[0] for name in document_names]\n",
    "    return original_docs, documents, document_names, doc_dict, doc_sents\n"
   ]
  },
  {
   "cell_type": "code",
   "execution_count": 227,
   "id": "450b1a42",
   "metadata": {
    "hidden": true
   },
   "outputs": [
    {
     "name": "stderr",
     "output_type": "stream",
     "text": [
      "Processing Documents: 253doc [01:02,  4.03doc/s]"
     ]
    },
    {
     "name": "stdout",
     "output_type": "stream",
     "text": [
      "There are:  10  documents in the corpus folder\n",
      "\n",
      "Document Names:  ['ASP-IA-v1-82', 'ASP-IA-v1-96', 'ASP-IA-v1-41', 'ASP-IA-v1-55', 'ASP-IA-v1-69']\n"
     ]
    },
    {
     "name": "stderr",
     "output_type": "stream",
     "text": [
      "\n"
     ]
    }
   ],
   "source": [
    "######### import datasets and remove stopwords #########\n",
    "\n",
    "#docs_folder_path = \"/Users/aaron68lee/Documents/Coding-Projects/NLP-Research/FRconquest_split\"\n",
    "docs_folder_path = \"/Users/aaron68lee/Documents/Coding-Projects/NLP-Research/datasets/English-Sample\"\n",
    "max_docs = 10\n",
    "max_chars = 500\n",
    "max_print = 5\n",
    "\n",
    "original_docs, docs, doc_names, doc_dict, doc_sents = list(extract_documents(docs_folder_path, max_docs))\n",
    "# convert docs back into list of strings format for vectorizer pipeline\n",
    "doc_strings = [' '.join(doc) for doc in docs]\n",
    "\n",
    "print(\"There are: \", len(docs), \" documents in the corpus folder\\n\")\n",
    "print(\"Document Names: \", doc_names[0:min(max_docs, max_print)])\n",
    "#print(\"Doc Dictionary: \", doc_dict)\n",
    "#print(\"Sample abridged doc: \\n\\n\", docs[:max_docs])\n",
    "#Read each file into the working directory. Remove stop words, non-alphabetical terms, and punctuation. Append each processed file into the docs list. \n",
    "\n"
   ]
  },
  {
   "cell_type": "markdown",
   "id": "c74170ba",
   "metadata": {
    "hidden": true
   },
   "source": []
  },
  {
   "cell_type": "code",
   "execution_count": 232,
   "id": "287e045c",
   "metadata": {
    "hidden": true
   },
   "outputs": [
    {
     "data": {
      "text/plain": [
       "'No 82 2d Session'"
      ]
     },
     "execution_count": 232,
     "metadata": {},
     "output_type": "execute_result"
    }
   ],
   "source": [
    "doc_sents[0]"
   ]
  },
  {
   "cell_type": "markdown",
   "id": "5070766c",
   "metadata": {
    "heading_collapsed": true,
    "hidden": true
   },
   "source": [
    "## Optical Character Recognition (OCR)"
   ]
  },
  {
   "cell_type": "code",
   "execution_count": 9,
   "id": "bf753db5",
   "metadata": {
    "hidden": true
   },
   "outputs": [],
   "source": [
    "import os\n",
    "import pytesseract\n",
    "from PIL import Image\n",
    "\n",
    "texts = []\n",
    "\n",
    "def extract_text_from_images(folder_path):\n",
    "    \"\"\"\n",
    "    Extracts text from images in a folder using OCR.\n",
    "\n",
    "    Args:\n",
    "    folder_path (str): Path to the folder containing images.\n",
    "\n",
    "    Returns:\n",
    "    str: Text extracted from the images.\n",
    "    \"\"\"           \n",
    "    for filename in os.listdir(folder_path):\n",
    "        if filename.endswith(\".png\") or filename.endswith(\".jpg\"):\n",
    "            filepath = os.path.join(folder_path, filename)\n",
    "            image = Image.open(filepath)\n",
    "            image_text = pytesseract.image_to_string(image)\n",
    "            texts.append(image_text)\n",
    "\n",
    "    return texts"
   ]
  },
  {
   "cell_type": "code",
   "execution_count": 10,
   "id": "071c739c",
   "metadata": {
    "hidden": true
   },
   "outputs": [
    {
     "data": {
      "text/plain": [
       "'\\nfolder_path = \"/path/to/images/folder\"\\ntext = extract_text_from_images(folder_path)\\nprint(text)\\n'"
      ]
     },
     "execution_count": 10,
     "metadata": {},
     "output_type": "execute_result"
    }
   ],
   "source": [
    "# extract all text from images in folder\n",
    "'''\n",
    "folder_path = \"/path/to/images/folder\"\n",
    "text = extract_text_from_images(folder_path)\n",
    "print(text)\n",
    "'''"
   ]
  },
  {
   "cell_type": "markdown",
   "id": "ac3e92a6",
   "metadata": {
    "heading_collapsed": true,
    "hidden": true
   },
   "source": [
    "## Preprocess Data"
   ]
  },
  {
   "cell_type": "markdown",
   "id": "dda4b108",
   "metadata": {
    "heading_collapsed": true,
    "hidden": true
   },
   "source": [
    "#### Examples "
   ]
  },
  {
   "cell_type": "code",
   "execution_count": 11,
   "id": "04dfd007",
   "metadata": {
    "hidden": true
   },
   "outputs": [
    {
     "data": {
      "text/plain": [
       "'\\n# Tokenize the documents.\\nfrom nltk.tokenize import RegexpTokenizer\\n\\n# Split the documents into tokens.\\ntokenizer = RegexpTokenizer(r\\'\\\\w+\\')\\n\\n# docs is already list of list of words\\n\\n# Remove numbers, but not words that contain numbers.\\n# print(docs[0][0][0])\\nprint(docs[0][:500])\\ndoc_parsed = [[] for _ in range(len(docs))]\\nfor doc in range(len(docs)):\\n    for j in range(len(docs[doc])):\\n        if not (docs[doc][j].isnumeric()):\\n            doc_parsed[doc].append(docs[doc][j])\\n\\nprint(doc_parsed[0][:500])\\n#docs = [[token for token in doc if not token.isnumeric()] for doc in docs]\\n#print(docs[0][:500])\\n\\n# Remove words that are only one character.\\n#docs = [[token for token in doc if len(token) > 1] for doc in docs]\\nprint(\"Sample abridged doc: \\n\\n\", docs[0][:500])\\n'"
      ]
     },
     "execution_count": 11,
     "metadata": {},
     "output_type": "execute_result"
    }
   ],
   "source": [
    "# Examples\n",
    "\n",
    "\n",
    "\n",
    "############# Test Dataset as CSV ################\n",
    "\n",
    "# Test on sample document\n",
    "\n",
    "# doc_path = 'FRconquest_split/1838_Tableau-Algeria_pt1_0.txt'\n",
    "\n",
    "'''\n",
    "# Import Dataset\n",
    "df = pd.read_json('https://raw.githubusercontent.com/selva86/datasets/master/newsgroups.json')\n",
    "print(df.target_names.unique())\n",
    "df.head()\n",
    "\n",
    "# Pre-process Data\n",
    "# 1) Remove Punctuation and Stop Words\n",
    "\n",
    "pprint(data[:1])\n",
    "'''\n",
    "\n",
    "'''\n",
    "# Tokenize the documents.\n",
    "from nltk.tokenize import RegexpTokenizer\n",
    "\n",
    "# Split the documents into tokens.\n",
    "tokenizer = RegexpTokenizer(r'\\w+')\n",
    "\n",
    "# docs is already list of list of words\n",
    "\n",
    "# Remove numbers, but not words that contain numbers.\n",
    "# print(docs[0][0][0])\n",
    "print(docs[0][:500])\n",
    "doc_parsed = [[] for _ in range(len(docs))]\n",
    "for doc in range(len(docs)):\n",
    "    for j in range(len(docs[doc])):\n",
    "        if not (docs[doc][j].isnumeric()):\n",
    "            doc_parsed[doc].append(docs[doc][j])\n",
    "\n",
    "print(doc_parsed[0][:500])\n",
    "#docs = [[token for token in doc if not token.isnumeric()] for doc in docs]\n",
    "#print(docs[0][:500])\n",
    "\n",
    "# Remove words that are only one character.\n",
    "#docs = [[token for token in doc if len(token) > 1] for doc in docs]\n",
    "print(\"Sample abridged doc: \\n\\n\", docs[0][:500])\n",
    "'''\n"
   ]
  },
  {
   "cell_type": "markdown",
   "id": "cf2b3682",
   "metadata": {
    "hidden": true
   },
   "source": [
    "### **Remove Stopwords and Create Dictionary**"
   ]
  },
  {
   "cell_type": "code",
   "execution_count": 12,
   "id": "37b138dc",
   "metadata": {
    "hidden": true
   },
   "outputs": [
    {
     "name": "stdout",
     "output_type": "stream",
     "text": [
      "Dictionary<9628 unique tokens: ['abraham', 'accident', 'according', 'accordingly', 'acts']...>\n",
      "Unique total words:  9628\n",
      "Number docs:  10\n"
     ]
    }
   ],
   "source": [
    "#The two main inputs to the LDA topic model are the dictionary and the corpus, \n",
    "#so we begin by creating the dictionary.\n",
    "\n",
    "from gensim import corpora, models, similarities\n",
    "from collections import Counter\n",
    "\n",
    "#Create dictionary of words. \n",
    "dictionary = corpora.Dictionary(docs)\n",
    "# create token frequency across all docs in corpus\n",
    "tokens = [token for doc in docs for token in doc] #[[token for token in doc] for doc in docs]\n",
    "token_freq = Counter(tokens)\n",
    "\n",
    "#View dictionary and see how many unique tokens it contains.\n",
    "print(dictionary)\n",
    "print(\"Unique total words: \", len(dictionary))\n",
    "print(\"Number docs: \", len(docs))\n",
    "\n",
    "#Create Term-Document Frequency, which also converts tokenized documents to vectors \n",
    "corpus = [dictionary.doc2bow(doc) for doc in docs]\n",
    "\n",
    "#View\n",
    "#print(corpus[:1][:10])\n",
    "\n",
    "#Gensim creates a unique ID for each word in the document, and the resulting printout in the View step above,\n",
    "#shows the mapping: (word_id, word_frequency), so (0,1) means that word ID 0 occurs once in the first document."
   ]
  },
  {
   "cell_type": "markdown",
   "id": "402f076a",
   "metadata": {
    "hidden": true
   },
   "source": [
    "### Create Token Frequency Table"
   ]
  },
  {
   "cell_type": "code",
   "execution_count": 13,
   "id": "4e402c98",
   "metadata": {
    "hidden": true
   },
   "outputs": [
    {
     "name": "stdout",
     "output_type": "stream",
     "text": [
      "Top Words:  [('indians', 1063), ('people', 972), ('states', 938), ('united', 896), ('nation', 856), ('may', 796), ('would', 795), ('peace', 688), ('shall', 643), ('us', 639)]\n",
      "\n",
      "Sorted top Tokens:  [('said', 33), ('nation', 11), ('deputies', 10), ('state', 8), ('one', 7), ('agents', 6), ('treaty', 6), ('commissioner', 5), ('john', 5), ('states', 5)]\n"
     ]
    }
   ],
   "source": [
    "# Create Dictionary for word frequency table\n",
    "\n",
    "#Human-readable format of corpus (term-frequency)\n",
    "freq_chart = [[(dictionary[id], freq) for id, freq in cp] for cp in corpus[:1]]\n",
    "sorted_freq_chart = sorted(freq_chart[0], key=lambda x: x[1], reverse=True)\n",
    "print(\"Top Words: \", token_freq.most_common(10))\n",
    "\n",
    "#print(freq_chart[0:10])\n",
    "print(\"\\nSorted top Tokens: \", sorted_freq_chart[0:10])\n"
   ]
  },
  {
   "cell_type": "code",
   "execution_count": 14,
   "id": "10c6afc0",
   "metadata": {
    "hidden": true
   },
   "outputs": [],
   "source": [
    "# create general word counter function given doc_dict, doc name (without file extension)\n",
    "\n",
    "def get_word_counters_doc(doc_dict, doc_name, num_words=0):\n",
    "    '''\n",
    "    Input: \n",
    "        doc_dict: dictionary mapping doc_name to list of words\n",
    "        doc_name: number of docs to print top words\n",
    "        num_words: number of words to print top words\n",
    "    Returns:\n",
    "        sorted_word_freq: sorted word freq for given doc\n",
    "    '''\n",
    "    doc = doc_dict[doc_name]\n",
    "    \n",
    "    word_freq = Counter(doc)\n",
    "    sorted_word_freq = dict(sorted(word_freq.items(), key=lambda x: x[1], reverse=True))\n",
    "        \n",
    "    print(\"\\nTop Words for doc: \", doc_name)\n",
    "    top_k_doc = list(sorted_word_freq.items())[:num_words]\n",
    "    print(top_k_doc)\n",
    "    \n",
    "    return sorted_word_freq\n",
    "\n",
    "def get_word_counters(docs, num_docs=0, num_words=0): \n",
    "    '''\n",
    "    Input: \n",
    "        docs: pass in entire corpus list of docs (list of list of strings)\n",
    "        num_docs: number of docs to print top words\n",
    "        num_words: number of words to print top words\n",
    "    Returns:\n",
    "        word_freq_docs: List of dicts of word count per doc\n",
    "        word_freq_corpus: single dict of word counts across entire corpus\n",
    "    '''\n",
    "    # Using Counter Dictionary\n",
    "\n",
    "    # List of dicts of word count per doc\n",
    "    word_freq_docs = []\n",
    "\n",
    "    # Single dict of word counts across entire corpus\n",
    "    word_freq_corpus = Counter()\n",
    "\n",
    "    for doc in docs:\n",
    "        word_freq = Counter(doc)\n",
    "        sorted_word_freq = dict(sorted(word_freq.items(), key=lambda x: x[1], reverse=True))\n",
    "        word_freq_docs.append(sorted_word_freq)\n",
    "        word_freq_corpus += word_freq\n",
    "\n",
    "    if num_docs > 0:\n",
    "        print(\"Corpus Top Words: \\n\", word_freq_corpus.most_common(num_words))\n",
    "\n",
    "    for i in range(num_docs): # doc number\n",
    "        print(doc_names[i])\n",
    "        print(\"\\nTop Words for Doc: \", i)\n",
    "        top_k_doc = list(word_freq_docs[i].items())[:num_words]\n",
    "        print(top_k_doc)\n",
    "        \n",
    "    return word_freq_docs, word_freq_corpus\n"
   ]
  },
  {
   "cell_type": "code",
   "execution_count": 15,
   "id": "1f359950",
   "metadata": {
    "hidden": true
   },
   "outputs": [
    {
     "name": "stdout",
     "output_type": "stream",
     "text": [
      "Corpus Top Words: \n",
      " [('indians', 1063), ('people', 972), ('states', 938), ('united', 896), ('nation', 856), ('may', 796), ('would', 795), ('peace', 688), ('shall', 643), ('us', 639)]\n",
      "ASP-IA-v1-82\n",
      "\n",
      "Top Words for Doc:  0\n",
      "[('said', 33), ('nation', 11), ('deputies', 10), ('state', 8), ('one', 7), ('treaty', 6), ('agents', 6), ('commissioner', 5), ('united', 5), ('states', 5)]\n",
      "ASP-IA-v1-96\n",
      "\n",
      "Top Words for Doc:  1\n",
      "[('may', 68), ('nation', 58), ('states', 48), ('united', 47), ('people', 45), ('us', 42), ('father', 40), ('president', 35), ('wish', 33), ('line', 28)]\n",
      "ASP-IA-v1-41\n",
      "\n",
      "Top Words for Doc:  2\n",
      "[('people', 565), ('indians', 561), ('nation', 520), ('would', 492), ('creeks', 449), ('states', 407), ('united', 391), ('one', 379), ('may', 378), ('war', 372)]\n"
     ]
    }
   ],
   "source": [
    "# Use function to sample a document\n",
    "\n",
    "#doc_name = \"Laplagne-Barris_FRconq_s1v07_3.txt\"\n",
    "\n",
    "word_freq_docs, word_freq_corpus = get_word_counters(docs, 3, 10)\n",
    "#word_freq_doc = get_word_counters_doc(doc_dict, doc_name, num_words=5)"
   ]
  },
  {
   "cell_type": "code",
   "execution_count": 16,
   "id": "3b2395c1",
   "metadata": {
    "hidden": true
   },
   "outputs": [
    {
     "data": {
      "image/png": "[encoded data removed]",
      "text/plain": [
       "<Figure size 432x288 with 1 Axes>"
      ]
     },
     "metadata": {
      "needs_background": "light"
     },
     "output_type": "display_data"
    }
   ],
   "source": [
    "# Plot Word Frequency Charts\n",
    "\n",
    "# Extract words and frequencies from the sorted_freq_chart\n",
    "\n",
    "# note using .items() does not return items in freq-sorted order\n",
    "MAX_WORDS = 10\n",
    "words = [word for word, freq in word_freq_corpus.most_common(MAX_WORDS)] \n",
    "frequencies = [freq for word, freq in word_freq_corpus.most_common(MAX_WORDS)]\n",
    "\n",
    "# Create a bar plot\n",
    "plt.bar(range(MAX_WORDS), frequencies[:MAX_WORDS])\n",
    "\n",
    "# Add labels, title, and ticks\n",
    "\n",
    "plt.xlabel('Words')\n",
    "plt.ylabel('Frequencies')\n",
    "plt.title('Top Word Frequencies Across Corpus')\n",
    "plt.xticks(range(MAX_WORDS), words[:MAX_WORDS], rotation='vertical')\n",
    "\n",
    "# Display the plot\n",
    "plt.tight_layout()\n",
    "plt.show()"
   ]
  },
  {
   "cell_type": "markdown",
   "id": "d4d270bb",
   "metadata": {
    "heading_collapsed": true,
    "hidden": true
   },
   "source": [
    "## Hyperparameters: Coherence Scores ##"
   ]
  },
  {
   "cell_type": "code",
   "execution_count": 17,
   "id": "ccce3a09",
   "metadata": {
    "hidden": true
   },
   "outputs": [],
   "source": [
    "#compute coherence scores first to determine which number(s) of topics produces the most coherent results.\n",
    "\n",
    "from gensim.models.coherencemodel import CoherenceModel\n",
    "def compute_coherence_values(dictionary, corpus, texts, limit, start=2, step=1):\n",
    "    coherence_values = []\n",
    "    model_list = []\n",
    "    for num_topics in range(start, limit, step):\n",
    "        model = models.LdaMulticore(corpus=corpus, num_topics=num_topics, id2word=dictionary, random_state = 100, passes = 25, chunksize = 100)\n",
    "        model_list.append(model)\n",
    "        coherencemodel = CoherenceModel(model=model, texts=texts, dictionary=dictionary, coherence='c_v')\n",
    "        coherence_values.append(coherencemodel.get_coherence())\n",
    "    return model_list, coherence_values"
   ]
  },
  {
   "cell_type": "code",
   "execution_count": 18,
   "id": "20a3381e",
   "metadata": {
    "hidden": true
   },
   "outputs": [
    {
     "data": {
      "image/png": "[encoded data removed]",
      "text/plain": [
       "<Figure size 432x288 with 1 Axes>"
      ]
     },
     "metadata": {
      "needs_background": "light"
     },
     "output_type": "display_data"
    }
   ],
   "source": [
    "model_list, coherence_values = compute_coherence_values(dictionary=dictionary, corpus=corpus, texts=docs, start=4, limit=30, step=1)\n",
    "\n",
    "#Plot the graph of coherence scores across different number of topics (from start to limit).\n",
    "\n",
    "import matplotlib.pyplot as plt\n",
    "limit=30; start=4; step=1\n",
    "x = range(start, limit, step)\n",
    "plt.scatter(x, coherence_values)\n",
    "plt.xlabel(\"Num Topics\")\n",
    "plt.ylabel(\"Coherence score\")\n",
    "plt.title(\"Coherence Score vs. Num Topics\")\n",
    "plt.legend((\"coherence_values\"), loc='best')\n",
    "plt.xticks(x)\n",
    "plt.show()\n",
    "\n"
   ]
  },
  {
   "cell_type": "markdown",
   "id": "e1dcf76e",
   "metadata": {
    "heading_collapsed": true,
    "hidden": true
   },
   "source": [
    "## Topic Visualization"
   ]
  },
  {
   "cell_type": "code",
   "execution_count": 19,
   "id": "da2c6104",
   "metadata": {
    "hidden": true
   },
   "outputs": [
    {
     "name": "stdout",
     "output_type": "stream",
     "text": [
      "Topics maximizing coherence score:  8\n"
     ]
    },
    {
     "data": {
      "text/plain": [
       "[(0,\n",
       "  '0.009*\"people\" + 0.009*\"united\" + 0.009*\"peace\" + 0.009*\"towns\" + 0.008*\"states\" + 0.008*\"general\" + 0.007*\"nation\" + 0.006*\"lower\" + 0.006*\"letter\" + 0.005*\"creeks\"'),\n",
       " (1,\n",
       "  '0.008*\"people\" + 0.008*\"indians\" + 0.008*\"nation\" + 0.007*\"would\" + 0.007*\"creeks\" + 0.006*\"states\" + 0.006*\"united\" + 0.006*\"one\" + 0.006*\"may\" + 0.005*\"war\"'),\n",
       " (2,\n",
       "  '0.000*\"enjoin\" + 0.000*\"sac\" + 0.000*\"pattawatiina\" + 0.000*\"sachems\" + 0.000*\"daring\" + 0.000*\"believing\" + 0.000*\"namely\" + 0.000*\"avowed\" + 0.000*\"arriving\" + 0.000*\"legal\"'),\n",
       " (3,\n",
       "  '0.010*\"indians\" + 0.009*\"states\" + 0.009*\"us\" + 0.009*\"united\" + 0.008*\"may\" + 0.008*\"treaty\" + 0.008*\"commissioners\" + 0.006*\"people\" + 0.006*\"shall\" + 0.005*\"nation\"')]"
      ]
     },
     "execution_count": 19,
     "metadata": {},
     "output_type": "execute_result"
    }
   ],
   "source": [
    "#Parameter tuning will lead to different models. For this model, we use our corpus, dictionary, \n",
    "#set a random state of 100 (akin to setting a seed for reproduction purposes), 9 topics \n",
    "#(optimal number according to coherence scores), 100 passes (number of times the corpus is passed \n",
    "#through for training), and chunk size of 10 (number of documents to be used in each training chunk).\n",
    "\n",
    "#See: https://www.machinelearningplus.com/nlp/topic-modeling-gensim-python/. \n",
    "\n",
    "# How to optimize the interval, as in mallet (http://mallet.cs.umass.edu/topics.php)?\n",
    "# --optimize-interval [NUMBER] This option turns on hyperparameter optimization, \n",
    "#which allows the model to better fit the data by allowing some topics to be more prominent than others. \n",
    "#Optimization every 10-20 iterations is reasonable. \n",
    "\n",
    "opt_topics = np.argmax(coherence_values) # + start\n",
    "#print(coherence_values)\n",
    "print(\"Topics maximizing coherence score: \", opt_topics + start)\n",
    "\n",
    "lda_model = models.LdaMulticore(corpus=corpus,\n",
    "                         id2word=dictionary,\n",
    "                         random_state=100,\n",
    "                         num_topics=opt_topics,\n",
    "                         passes=100,\n",
    "                         chunksize=10,\n",
    "                         alpha=\"asymmetric\"\n",
    "                         )\n",
    "\n",
    "# note alpha is hyperparameter\n",
    "\n",
    "lda_model.show_topics()"
   ]
  },
  {
   "cell_type": "code",
   "execution_count": 20,
   "id": "0158f15e",
   "metadata": {
    "hidden": true
   },
   "outputs": [
    {
     "data": {
      "text/plain": [
       "[(0,\n",
       "  [('states', 0.009682754),\n",
       "   ('indians', 0.009522413),\n",
       "   ('united', 0.008999955),\n",
       "   ('us', 0.008583846),\n",
       "   ('may', 0.008040045),\n",
       "   ('treaty', 0.00756476),\n",
       "   ('commissioners', 0.0071033337),\n",
       "   ('people', 0.0065241293),\n",
       "   ('shall', 0.005919378),\n",
       "   ('nation', 0.0055127246)]),\n",
       " (1,\n",
       "  [('simcoe', 0.0032181402),\n",
       "   ('months', 0.0027076912),\n",
       "   ('legion', 0.002625658),\n",
       "   ('glaize', 0.0024787218),\n",
       "   ('sandusky', 0.0024502033),\n",
       "   ('per', 0.0024262292),\n",
       "   ('dollars', 0.0022171033),\n",
       "   ('america', 0.002211499),\n",
       "   ('volunteers', 0.002115102),\n",
       "   ('brandt', 0.0020152596)]),\n",
       " (2,\n",
       "  [('people', 0.008711251),\n",
       "   ('indians', 0.008003847),\n",
       "   ('nation', 0.007820848),\n",
       "   ('would', 0.0071845036),\n",
       "   ('creeks', 0.006784535),\n",
       "   ('states', 0.006247195),\n",
       "   ('united', 0.006126675),\n",
       "   ('peace', 0.0056865863),\n",
       "   ('towns', 0.005548789),\n",
       "   ('one', 0.005483382)]),\n",
       " (3,\n",
       "  [('enjoin', 0.0001038817),\n",
       "   ('pattawatiina', 0.00010387983),\n",
       "   ('sac', 0.000103877035),\n",
       "   ('sachems', 0.00010387622),\n",
       "   ('reputed', 0.00010387273),\n",
       "   ('flow', 0.00010387273),\n",
       "   ('solemnly', 0.00010387273),\n",
       "   ('arriving', 0.00010387273),\n",
       "   ('sources', 0.00010387273),\n",
       "   ('daring', 0.00010387273)])]"
      ]
     },
     "execution_count": 20,
     "metadata": {},
     "output_type": "execute_result"
    }
   ],
   "source": [
    "# alternative syntax for LDA model\n",
    "\n",
    "Lda = gensim.models.ldamodel.LdaModel\n",
    "lda_model2 = Lda(corpus, \n",
    "                num_topics=opt_topics, \n",
    "                id2word = dictionary, \n",
    "                passes=100,\n",
    "                iterations=200, \n",
    "                chunksize = 10, \n",
    "                eval_every = None)\n",
    "\n",
    "# To show initial 15 topics with 10 top words from each\n",
    "lda_model2.show_topics(15, num_words=10, formatted=False)"
   ]
  },
  {
   "cell_type": "code",
   "execution_count": 21,
   "id": "beef9a05",
   "metadata": {
    "hidden": true
   },
   "outputs": [
    {
     "name": "stdout",
     "output_type": "stream",
     "text": [
      "Topic 1 proportion: 14.779%\n",
      "Topic 2 proportion: 11.392%\n",
      "Topic 3 proportion: 0.037%\n",
      "Topic 4 proportion: 73.791%\n",
      "[14.77939336046802, 11.392396385490429, 0.03679830402688822, 73.79141421004533]\n"
     ]
    }
   ],
   "source": [
    "# Get all topics, which will exceed opt_topics\n",
    "\n",
    "topics = list(lda_model.get_document_topics(corpus, minimum_probability=0))\n",
    "\n",
    "# Print topic proportion in corpus\n",
    "topic_ratios = []\n",
    "\n",
    "for i in range(opt_topics): \n",
    "    ratio = 100*sum([pair[i][1] for pair in topics])/len(topics)\n",
    "    print(f\"Topic {i+1} proportion: {100*sum([pair[i][1] for pair in topics])/len(topics):.3f}%\")\n",
    "    topic_ratios.append(ratio)\n",
    "    \n",
    "print(topic_ratios)"
   ]
  },
  {
   "cell_type": "code",
   "execution_count": 22,
   "id": "fdedfd89",
   "metadata": {
    "hidden": true
   },
   "outputs": [],
   "source": [
    "\n",
    "def get_doc_index(doc_names, doc_name):\n",
    "    '''\n",
    "    Returns doc index given corpus of doc names, and given document name\n",
    "    '''\n",
    "    return doc_names.index(doc_name)\n"
   ]
  },
  {
   "cell_type": "code",
   "execution_count": 23,
   "id": "272b2505",
   "metadata": {
    "hidden": true
   },
   "outputs": [],
   "source": [
    "# Return top topics in a doc\n",
    "def get_top_topics(doc_name, min_prob=0.00):\n",
    "    \n",
    "    doc_index = get_doc_index(doc_names, doc_name)\n",
    "    # Sort topics from highest to lowest frequency\n",
    "    topics = sorted(lda_model.get_document_topics(corpus[doc_index], minimum_probability=min_prob), key=lambda tup: tup[1])[::-1]\n",
    "\n",
    "    # Get word distribution for each topic\n",
    "    pairs = [lda_model.show_topic(pair[0]) for pair in topics]\n",
    "    topic_words = [[pair[0] for pair in topic] for topic in pairs]\n",
    "    print(\"len, \", )\n",
    "\n",
    "    return pd.DataFrame({'Major Topics': topics,'Topic Words': topic_words})"
   ]
  },
  {
   "cell_type": "code",
   "execution_count": 24,
   "id": "8cc2bc27",
   "metadata": {
    "hidden": true
   },
   "outputs": [
    {
     "name": "stdout",
     "output_type": "stream",
     "text": [
      "['ASP-IA-v1-82', 'ASP-IA-v1-96', 'ASP-IA-v1-41', 'ASP-IA-v1-55', 'ASP-IA-v1-69', 'ASP-IA-v1-2', 'ASP-IA-v1-3', 'ASP-IA-v1-68', 'ASP-IA-v1-54', 'ASP-IA-v1-40']\n",
      "len, \n"
     ]
    },
    {
     "data": {
      "text/html": [
       "<div>\n",
       "<style scoped>\n",
       "    .dataframe tbody tr th:only-of-type {\n",
       "        vertical-align: middle;\n",
       "    }\n",
       "\n",
       "    .dataframe tbody tr th {\n",
       "        vertical-align: top;\n",
       "    }\n",
       "\n",
       "    .dataframe thead th {\n",
       "        text-align: right;\n",
       "    }\n",
       "</style>\n",
       "<table border=\"1\" class=\"dataframe\">\n",
       "  <thead>\n",
       "    <tr style=\"text-align: right;\">\n",
       "      <th></th>\n",
       "      <th>Major Topics</th>\n",
       "      <th>Topic Words</th>\n",
       "    </tr>\n",
       "  </thead>\n",
       "  <tbody>\n",
       "    <tr>\n",
       "      <th>0</th>\n",
       "      <td>(1, 0.99984473)</td>\n",
       "      <td>[people, indians, nation, would, creeks, state...</td>\n",
       "    </tr>\n",
       "  </tbody>\n",
       "</table>\n",
       "</div>"
      ],
      "text/plain": [
       "      Major Topics                                        Topic Words\n",
       "0  (1, 0.99984473)  [people, indians, nation, would, creeks, state..."
      ]
     },
     "metadata": {},
     "output_type": "display_data"
    }
   ],
   "source": [
    "print(doc_names[:10])\n",
    "topic_sample = get_top_topics('ASP-IA-v1-41', 0.10)\n",
    "display(topic_sample)"
   ]
  },
  {
   "cell_type": "markdown",
   "id": "d4e78ce6",
   "metadata": {
    "hidden": true
   },
   "source": [
    "### py LDA Visualization"
   ]
  },
  {
   "cell_type": "code",
   "execution_count": 25,
   "id": "b59f813f",
   "metadata": {
    "hidden": true
   },
   "outputs": [
    {
     "ename": "NameError",
     "evalue": "name 'vis' is not defined",
     "output_type": "error",
     "traceback": [
      "\u001b[0;31m---------------------------------------------------------------------------\u001b[0m",
      "\u001b[0;31mNameError\u001b[0m                                 Traceback (most recent call last)",
      "Input \u001b[0;32mIn [25]\u001b[0m, in \u001b[0;36m<cell line: 7>\u001b[0;34m()\u001b[0m\n\u001b[1;32m      5\u001b[0m lambd \u001b[38;5;241m=\u001b[39m \u001b[38;5;241m0.6\u001b[39m \u001b[38;5;66;03m# Adjust this accordingly based on tuning above\u001b[39;00m\n\u001b[1;32m      7\u001b[0m \u001b[38;5;28;01mfor\u001b[39;00m i \u001b[38;5;129;01min\u001b[39;00m \u001b[38;5;28mrange\u001b[39m(\u001b[38;5;241m1\u001b[39m, opt_topics): \u001b[38;5;66;03m#Adjust this to reflect number of topics chosen for final LDA model\u001b[39;00m\n\u001b[0;32m----> 8\u001b[0m     topic \u001b[38;5;241m=\u001b[39m \u001b[43mvis\u001b[49m\u001b[38;5;241m.\u001b[39mtopic_info[vis\u001b[38;5;241m.\u001b[39mtopic_info\u001b[38;5;241m.\u001b[39mCategory \u001b[38;5;241m==\u001b[39m \u001b[38;5;124m'\u001b[39m\u001b[38;5;124mTopic\u001b[39m\u001b[38;5;124m'\u001b[39m\u001b[38;5;241m+\u001b[39m \u001b[38;5;28mstr\u001b[39m(i)]\u001b[38;5;241m.\u001b[39mcopy()\n\u001b[1;32m      9\u001b[0m     topic[\u001b[38;5;124m'\u001b[39m\u001b[38;5;124mrelevance\u001b[39m\u001b[38;5;124m'\u001b[39m] \u001b[38;5;241m=\u001b[39m topic[\u001b[38;5;124m'\u001b[39m\u001b[38;5;124mloglift\u001b[39m\u001b[38;5;124m'\u001b[39m]\u001b[38;5;241m*\u001b[39m(\u001b[38;5;241m1\u001b[39m\u001b[38;5;241m-\u001b[39mlambd) \u001b[38;5;241m+\u001b[39m topic[\u001b[38;5;124m'\u001b[39m\u001b[38;5;124mlogprob\u001b[39m\u001b[38;5;124m'\u001b[39m]\u001b[38;5;241m*\u001b[39mlambd\n\u001b[1;32m     10\u001b[0m     all_topics[\u001b[38;5;124m'\u001b[39m\u001b[38;5;124mTopic \u001b[39m\u001b[38;5;124m'\u001b[39m\u001b[38;5;241m+\u001b[39m \u001b[38;5;28mstr\u001b[39m(i)] \u001b[38;5;241m=\u001b[39m topic\u001b[38;5;241m.\u001b[39msort_values(by\u001b[38;5;241m=\u001b[39m\u001b[38;5;124m'\u001b[39m\u001b[38;5;124mrelevance\u001b[39m\u001b[38;5;124m'\u001b[39m, ascending\u001b[38;5;241m=\u001b[39m\u001b[38;5;28;01mFalse\u001b[39;00m)\u001b[38;5;241m.\u001b[39mTerm[:num_terms]\u001b[38;5;241m.\u001b[39mvalues\n",
      "\u001b[0;31mNameError\u001b[0m: name 'vis' is not defined"
     ]
    }
   ],
   "source": [
    "# Create Topic Table\n",
    "\n",
    "all_topics = {}\n",
    "num_terms = 10 # Adjust number of words to represent each topic\n",
    "lambd = 0.6 # Adjust this accordingly based on tuning above\n",
    "               \n",
    "for i in range(1, opt_topics): #Adjust this to reflect number of topics chosen for final LDA model\n",
    "    topic = vis.topic_info[vis.topic_info.Category == 'Topic'+ str(i)].copy()\n",
    "    topic['relevance'] = topic['loglift']*(1-lambd) + topic['logprob']*lambd\n",
    "    all_topics['Topic '+ str(i)] = topic.sort_values(by='relevance', ascending=False).Term[:num_terms].values\n",
    "\n",
    "all_topics = pd.DataFrame(all_topics).T\n",
    "all_topics"
   ]
  },
  {
   "cell_type": "code",
   "execution_count": null,
   "id": "44f4fbfb",
   "metadata": {
    "hidden": true
   },
   "outputs": [],
   "source": [
    "import pyLDAvis\n",
    "import pyLDAvis.gensim\n",
    "import matplotlib.pyplot as plt\n",
    "%matplotlib inline\n",
    "\n",
    "# corpus in form: list[tuple[list[tuple(a, b)]]]\n",
    "# print(corpus[:1][0:5])\n",
    "\n",
    "pyLDAvis.enable_notebook()\n",
    "vis = pyLDAvis.gensim.prepare(lda_model, corpus, dictionary, mds = 'pcoa', sort_topics=False)\n",
    "#vis2 = pyLDAvis.gensim.prepare(lda_model2, corpus, dictionary)\n",
    "pyLDAvis.display(vis)"
   ]
  },
  {
   "cell_type": "markdown",
   "id": "3f4f04ce",
   "metadata": {
    "heading_collapsed": true
   },
   "source": [
    "# **Using Mallet Raw**"
   ]
  },
  {
   "cell_type": "code",
   "execution_count": null,
   "id": "340d7b2d",
   "metadata": {
    "hidden": true
   },
   "outputs": [],
   "source": [
    "################### RUN ME #################\n",
    "# import data\n",
    "os.chdir(mallet_path)\n",
    "!pwd\n",
    "!bin/mallet import-dir --input FRconquest_split --output French_model.mallet --keep-sequence --stoplist-file fr-stop-oa.txt"
   ]
  },
  {
   "cell_type": "code",
   "execution_count": null,
   "id": "d3f00116",
   "metadata": {
    "hidden": true
   },
   "outputs": [],
   "source": [
    "################### RUN ME #################\n",
    "# creating a model for topic modeling\n",
    "TOPICS = opt_topics\n",
    "OPT_INT = 10\n",
    "ALPHA = 1.0\n",
    "\n",
    "'''\n",
    "Other flags for train-topics:\n",
    "--num-iterations\n",
    "--input-state\n",
    "--optimize-burn-in (num iters before hyperparam opt begins)\n",
    "'''\n",
    "\n",
    "!bin/mallet train-topics --input French_model.mallet --num-topics $TOPICS --optimize-interval $OPT_INT \\\n",
    "--word-topic-counts-file output-topic-counts.txt --output-state output-topics-state.gz \\\n",
    "--output-topic-keys output_keys.txt --output-doc-topics output_composition.txt"
   ]
  },
  {
   "cell_type": "code",
   "execution_count": null,
   "id": "77dca5ed",
   "metadata": {
    "hidden": true
   },
   "outputs": [],
   "source": [
    "# CREATE model inferencer for topic modeling on new documents\n",
    "\n",
    "MODEL_PATH = \"/Users/aaron68lee/Documents/Coding-Projects/NLP-Research/Mallet/French_model.mallet\"\n",
    "INPUT_DATA = \"Algerian_War_wiki.txt\"\n",
    "\n",
    "# Run topic inference on the input data\n",
    "!bin/mallet infer-topics \\\n",
    "    --input $INPUT_DATA \\\n",
    "    --inferencer $MODEL_PATH/inferencer.mallet \\\n",
    "    --output-doc-topics $MODEL_PATH/doc_topics.txt \\\n",
    "    --num-iterations 1000 \\\n",
    "    --optimize-interval 10 \\\n",
    "    --output-state $MODEL_PATH/state.gz \\\n",
    "    --random-seed 1 \\\n",
    "    --num-top-words 20\n",
    "\n",
    "'''\n",
    "bin/mallet infer-topics \\\n",
    "    --input \"Algerian_War_wiki.txt\" \\\n",
    "    --inferencer French_model.mallet/inferencer.mallet \\\n",
    "    --output-doc-topics French_model.mallet/doc_topics.txt \\\n",
    "    --num-iterations 1000 \\\n",
    "    --optimize-interval 10 \\\n",
    "    --output-state French_model.mallet/state.gz \\\n",
    "    --random-seed 1 \\\n",
    "    --num-top-words 20\n",
    "'''"
   ]
  },
  {
   "cell_type": "code",
   "execution_count": null,
   "id": "1bc73790",
   "metadata": {
    "hidden": true
   },
   "outputs": [],
   "source": [
    "# train a model for doc classification\n",
    "# other languages: de.sequences en.sequences\n",
    "!bin/mallet run cc.mallet.topics.PolylingualTopicModel \\ \n",
    "--language-inputs fr.sequences \\ \n",
    "--num-topics $TOPICS --alpha $ALPHA"
   ]
  },
  {
   "cell_type": "code",
   "execution_count": null,
   "id": "e057ee8a",
   "metadata": {
    "hidden": true
   },
   "outputs": [],
   "source": [
    "# tune hyperparameters for topic modeling\n",
    "\n",
    "bin/mallet run cc.mallet.topics.PolylingualTopicModel \\ \n",
    "--language-inputs fr.sequences \\\n",
    "--num-topics $TOPICS --alpha $ALPHA --optimize-interval $OPT_INT --optimize-burn-in 20\n",
    "\n",
    "'''\n",
    "bin/mallet run cc.mallet.topics.PolylingualTopicModel \\ \n",
    "--language-inputs fr.sequences \\\n",
    "--num-topics 13 --alpha 1.0 --optimize-interval 10 --optimize-burn-in 20\n",
    "'''"
   ]
  },
  {
   "cell_type": "code",
   "execution_count": null,
   "id": "499e3d0d",
   "metadata": {
    "hidden": true
   },
   "outputs": [],
   "source": [
    "# create topic influencer files for generalizing topics on new documents CLASSIFICATION\n",
    "\n",
    "bin/mallet run cc.mallet.topics.PolylingualTopicModel \\ \n",
    "  --language-inputs fr.sequences \\\n",
    "  --num-topics $TOPICS --alpha $ALPHA --optimize-interval $OPT_INT --optimize-burn-in 20 \\\n",
    "  --inferencer-filename inferencer\n",
    "\n",
    "'''\n",
    "bin/mallet run cc.mallet.topics.PolylingualTopicModel \\ \n",
    "  --language-inputs fr.sequences \\\n",
    "  --num-topics 13 --alpha 1.0 --optimize-interval 10 --optimize-burn-in 20 \\\n",
    "  --inferencer-filename Inferencer_french\n",
    "'''"
   ]
  },
  {
   "cell_type": "markdown",
   "id": "5091529c",
   "metadata": {
    "heading_collapsed": true
   },
   "source": [
    "# **Processing Mallet Output**"
   ]
  },
  {
   "cell_type": "code",
   "execution_count": null,
   "id": "87730ee5",
   "metadata": {
    "hidden": true
   },
   "outputs": [],
   "source": [
    "import pandas as pd\n",
    "\n",
    "key_path = \"/Users/aaron68lee/Documents/Coding-Projects/NLP-Research/Mallet/output_keys.txt\"\n",
    "topics = pd.Cov = pd.read_csv(key_path, sep='\\t', names=[\"topic_number\", \"topic_weight\", \"top_words\"])\n",
    "\n",
    "topics.style.set_properties(subset=['top_words'], **{'width': '600px'})\n",
    "\n",
    "# Create a list of topic labels.\n",
    "labels = ['Ott-Tribe Negotiations', 'Tun-Alg Conflict','Public Works', 'Internal Discord', 'French Concess', 'Rebellions', 'Lead & Trans', 'Malfeasance', 'Religion & Gov', 'Battle of Con.', 'Eng Bomb_BadGov', 'Topic 12', 'Topic 13']\n",
    "\n",
    "# Add the labels list as a new column to the dataframe\n",
    "topics['labels'] = labels\n",
    "\n",
    "topics.head()\n",
    "\n"
   ]
  },
  {
   "cell_type": "code",
   "execution_count": null,
   "id": "766a5f93",
   "metadata": {
    "hidden": true
   },
   "outputs": [],
   "source": [
    "# Represent the weights of the topics as a simple bar chart, using the author-created topic labels. \n",
    "\n",
    "topic_bar = topics.plot.bar(x='labels', y='topic_weight', rot=0, figsize=(20,5))\n",
    "\n",
    "# set labels, title and color\n",
    "topic_bar.set_xlabel('Topics')\n",
    "topic_bar.set_ylabel('Weights')\n",
    "topic_bar.set_title('Topical Weights')"
   ]
  },
  {
   "cell_type": "code",
   "execution_count": null,
   "id": "a02a802c",
   "metadata": {
    "hidden": true
   },
   "outputs": [],
   "source": [
    "import matplotlib.pyplot as plt\n",
    "import squarify\n",
    "\n",
    "plt.rcParams['figure.figsize'] = (17.0, 10.0)\n",
    "\n",
    "squarify.plot(sizes=topics['topic_weight'], label=topics['labels'], alpha=.8)\n",
    "plt.axis('off')\n",
    "plt.show()"
   ]
  },
  {
   "cell_type": "code",
   "execution_count": null,
   "id": "354fbe48",
   "metadata": {
    "hidden": true
   },
   "outputs": [],
   "source": [
    "# The mallet .txt doc-topics output file was converted to a csv, and the columns for \n",
    "# document numbers and filepaths were deleted in advance of reading the csv into a \n",
    "# pandas dataframe. Be sure to convert the columns to number data type with ~6 decimal places to remove the \n",
    "# exponential format. Also, add a new line at the top of the csv with the labels defined in the previous step.\n",
    "\n",
    "output_comps = \"/Users/aaron68lee/Documents/Coding-Projects/NLP-Research/Mallet/output_composition.txt\"\n",
    "remove = \"file:/Users/aaron68lee/Documents/Coding-Projects/NLP-Research/Mallet/FRconquest_split/\"\n",
    "\n",
    "doc_topic_matrix = pd.Cov = pd.read_csv(output_comps, sep='\\t')\n",
    "num_labels = len(labels)\n",
    "filenames = []\n",
    "\n",
    "# create an empty dataframe with desired columns\n",
    "df = pd.DataFrame(columns=['filename'] + labels)\n",
    "\n",
    "# open and read the text file\n",
    "with open(output_comps, 'r') as file:\n",
    "    # iterate through each line in the file\n",
    "    for line in file:\n",
    "        # split the line into text and label using a delimiter\n",
    "        row = line.strip().split('\\t')\n",
    "        row = row[1:]\n",
    "\n",
    "        filepath = row[0]\n",
    "        filename = os.path.basename(filepath)\n",
    "        filenames.append(filename)\n",
    "        '''\n",
    "        print(len(row))\n",
    "        print(df.shape)\n",
    "        print(line)\n",
    "        #print(\"text: \", row)\n",
    "        #print(filename)\n",
    "        '''\n",
    "        vals = [float(i) for i in row[1:]]\n",
    "        df.loc[len(df)] = [filename] + vals\n",
    "\n",
    "#print(df.iloc[0])\n",
    "print(df.head())\n",
    "\n",
    "# Save the dataframe as a CSV file\n",
    "df.to_csv('topic_composition.csv', index=True)\n",
    "\n"
   ]
  },
  {
   "cell_type": "code",
   "execution_count": null,
   "id": "605ba4c8",
   "metadata": {
    "hidden": true
   },
   "outputs": [],
   "source": [
    "# Represent the topic weights in each document as a heatmap.\n",
    "#!pip3 install seaborn\n",
    "import numpy as np\n",
    "import seaborn as sns\n",
    "import matplotlib.pyplot as plt\n",
    "\n",
    "%matplotlib inline\n",
    "\n",
    "plt.rcParams['figure.figsize'] = (17.0, 10.0)\n",
    "#print(df.columns)\n",
    "\n",
    "# drop non-numeric columns\n",
    "#heatmap = df[df.columns.values].astype(float)\n",
    "df_heat = df.drop(df.columns[0], axis=1)\n",
    "\n",
    "'''\n",
    "print(\"Columns: \", df.columns.values)\n",
    "\n",
    "'''\n",
    "#print(type(df_heat.iloc[0][0]))\n",
    "# Create a heatmap that is visually accessible (see https://matplotlib.org/tutorials/colors/colormaps.html)\n",
    "# using the 'inferno' colormap. \n",
    "\n",
    "'''\n",
    "# Check for non-float illegal values\n",
    "# select columns with non-float values\n",
    "non_float_cols = df_heat.select_dtypes(exclude=['float']).columns\n",
    "# select rows with non-null non-float values\n",
    "non_float_rows = df_heat.loc[:, non_float_cols].notna().sum(axis=1) > 0\n",
    "# print the non-float values\n",
    "print(df_heat.loc[non_float_rows, non_float_cols])\n",
    "'''\n",
    "\n",
    "sns.heatmap(df_heat, cmap='inferno', vmin=0.0, vmax=1.0)"
   ]
  },
  {
   "cell_type": "code",
   "execution_count": null,
   "id": "34ed66f9",
   "metadata": {
    "hidden": true
   },
   "outputs": [],
   "source": [
    "# Create a hierarchical heatmap using seaborn's \"clustermap\" method with default settings.\n",
    "# By default this method will cluster by both rows and columns, which is what is most useful for this data.\n",
    "\n",
    "sns.clustermap(df_heat, cmap='inferno')"
   ]
  },
  {
   "cell_type": "code",
   "execution_count": null,
   "id": "61d2f47e",
   "metadata": {
    "hidden": true
   },
   "outputs": [],
   "source": [
    "# sort dataframe csv by specifying a topic\n",
    "\n",
    "print(labels)\n",
    "topic = labels[0]\n",
    "topic = 'Ott-Tribe Negotiations'\n",
    "df_heat.sort_values(topic, ascending=False).head()"
   ]
  },
  {
   "cell_type": "code",
   "execution_count": null,
   "id": "b327f2b5",
   "metadata": {
    "hidden": true
   },
   "outputs": [],
   "source": [
    "#There is a known bug when using the suggested method (IPython.display.IFrame) in Jupyter Notebooks, but\n",
    "#the following code will actually render the desired iframe in notebooks without a problem.\n",
    "\n",
    "# Voyant visualizer\n",
    "\n",
    "import IPython\n",
    "url = 'https://voyant-tools.org/?corpus=80d0e68d144f5d3bb792fb0ddb115833&view=Contexts&query=juif*&context=10'\n",
    "iframe = '<iframe src=' + url + ' width=960 height=569></iframe>'\n",
    "IPython.display.HTML(iframe)"
   ]
  },
  {
   "cell_type": "code",
   "execution_count": null,
   "id": "08a345bc",
   "metadata": {
    "hidden": true
   },
   "outputs": [],
   "source": [
    "# modify authorcount for own purposes\n",
    "# index is pie chart legend\n",
    "'''\n",
    "df = pd.DataFrame({'AuthorCount': [27, 13, 2]},\n",
    "    index=['Mercier', 'Vayssettes', 'Gaid'])\n",
    "plot = df.plot.pie(y='AuthorCount', figsize=(7, 7))\n",
    "'''"
   ]
  },
  {
   "cell_type": "markdown",
   "id": "821ce448",
   "metadata": {
    "heading_collapsed": true
   },
   "source": [
    "# **Sentiment Analysis**"
   ]
  },
  {
   "cell_type": "markdown",
   "id": "1195fb7f",
   "metadata": {
    "heading_collapsed": true,
    "hidden": true
   },
   "source": [
    "## Using Bart LLM"
   ]
  },
  {
   "cell_type": "code",
   "execution_count": null,
   "id": "a6b314bd",
   "metadata": {
    "hidden": true
   },
   "outputs": [],
   "source": [
    "import torch\n",
    "from transformers import AutoTokenizer, BartForSequenceClassification\n",
    "\n",
    "tokenizer = AutoTokenizer.from_pretrained(\"valhalla/bart-large-sst2\")\n",
    "model = BartForSequenceClassification.from_pretrained(\"valhalla/bart-large-sst2\", num_labels=2) # binary sentiment classification\n",
    "\n",
    "inputs = tokenizer(\"Hello, my dog is cute\", return_tensors=\"pt\")\n",
    "print(inputs)"
   ]
  },
  {
   "cell_type": "code",
   "execution_count": null,
   "id": "5308ed63",
   "metadata": {
    "hidden": true
   },
   "outputs": [],
   "source": [
    "with torch.no_grad():\n",
    "    logits = model(**inputs).logits\n",
    "\n",
    "predicted_class_id = logits.argmax().item()\n",
    "model.config.id2label[predicted_class_id]\n",
    "print(\"Predicted Sentiment: \", predicted_class_id)\n",
    "\n",
    "# To train a model on `num_labels` classes, you can pass `num_labels=num_labels` to `.from_pretrained(...)`\n",
    "num_labels = len(model.config.id2label)\n",
    "model = BartForSequenceClassification.from_pretrained(\"valhalla/bart-large-sst2\", num_labels=num_labels)\n",
    "\n",
    "labels = torch.tensor([1])\n",
    "loss = model(**inputs, labels=labels).loss\n",
    "round(loss.item(), 2)"
   ]
  },
  {
   "cell_type": "markdown",
   "id": "d302249c",
   "metadata": {
    "heading_collapsed": true
   },
   "source": [
    "# **Text Summarization**"
   ]
  },
  {
   "cell_type": "markdown",
   "id": "17297db6",
   "metadata": {
    "heading_collapsed": true,
    "hidden": true
   },
   "source": [
    "## Extractive Summarization Using LSA"
   ]
  },
  {
   "cell_type": "code",
   "execution_count": null,
   "id": "0b957d93",
   "metadata": {
    "hidden": true
   },
   "outputs": [],
   "source": [
    "import gensim\n",
    "from gensim import *\n",
    "import tensorflow as tf\n",
    "\n",
    "# assume variable 'docs' defined from previous cells (preprocessing)\n",
    "# summarize() is obsolete as of gensim 4.0"
   ]
  },
  {
   "cell_type": "markdown",
   "id": "57a80555",
   "metadata": {
    "hidden": true
   },
   "source": [
    "## Comparing Generative Summarization with Various GPTs"
   ]
  },
  {
   "cell_type": "markdown",
   "id": "c2204697",
   "metadata": {
    "heading_collapsed": true,
    "hidden": true
   },
   "source": [
    "### Verify HuggingFace API"
   ]
  },
  {
   "cell_type": "code",
   "execution_count": null,
   "id": "c80e70a8",
   "metadata": {
    "hidden": true
   },
   "outputs": [],
   "source": [
    "import requests\n",
    "\n",
    "huggingface_key = get_api_key(api_file)\n",
    "'''\n",
    "# Get authentication credentials\n",
    "username = getpass(\"Hugging Face username: \")\n",
    "password = getpass(\"Hugging Face password: \")\n",
    "'''"
   ]
  },
  {
   "cell_type": "code",
   "execution_count": null,
   "id": "ddda7aa8",
   "metadata": {
    "hidden": true
   },
   "outputs": [],
   "source": []
  },
  {
   "cell_type": "markdown",
   "id": "ba649465",
   "metadata": {
    "heading_collapsed": true,
    "hidden": true
   },
   "source": [
    "### BART (beta)"
   ]
  },
  {
   "cell_type": "code",
   "execution_count": null,
   "id": "075b386b",
   "metadata": {
    "hidden": true
   },
   "outputs": [],
   "source": [
    "# Chunk each doc into groups of sentences that don't exceed length of attention head\n",
    "\n",
    "# initialize\n",
    "length = 0\n",
    "chunk = \"\"\n",
    "all_chunks = []\n",
    "count = -1\n",
    "\n",
    "\n",
    "tokenizer = AutoTokenizer.from_pretrained(\"facebook/bart-large-cnn\")\n",
    "\n",
    "for i, doc in enumerate(sample_doc_str): # replace with doc_strings\n",
    "    \n",
    "    sentences = nltk.tokenize.sent_tokenize(doc)\n",
    "    chunks = []\n",
    "    for sentence in sentences:\n",
    "      count += 1\n",
    "      combined_length = len(tokenizer.tokenize(sentence)) + length # add the no. of sentence tokens to the length counter\n",
    "\n",
    "      if combined_length <= tokenizer.max_len_single_sentence: # if it doesn't exceed\n",
    "        chunk += sentence + \" \" # add the sentence to the chunk\n",
    "        length = combined_length # update the length counter\n",
    "\n",
    "        # if it is the last sentence\n",
    "        if count == len(sentences) - 1:\n",
    "          chunks.append(chunk.strip()) # save the chunk\n",
    "\n",
    "      else: \n",
    "        chunks.append(chunk.strip()) # save the chunk\n",
    "\n",
    "        # reset \n",
    "        length = 0 \n",
    "        chunk = \"\"\n",
    "\n",
    "        # take care of the overflow sentence\n",
    "        chunk += sentence + \" \"\n",
    "        length = len(tokenizer.tokenize(sentence))\n",
    "        \n",
    "    all_chunks.append(chunks)"
   ]
  },
  {
   "cell_type": "code",
   "execution_count": null,
   "id": "c4e0404a",
   "metadata": {
    "hidden": true,
    "scrolled": false
   },
   "outputs": [],
   "source": [
    "import torch\n",
    "import transformers\n",
    "#import tensorflow as tf\n",
    "from transformers import pipeline, BartForSequenceClassification\n",
    "from transformers import AutoTokenizer, AutoModelForSeq2SeqLM, BartTokenizer, BartForConditionalGeneration, BartConfig\n",
    "\n",
    "print(\"Transformers version: \", transformers.__version__)\n",
    "\n",
    "# IMPORTANT RUN THIS COMMAND IN CMD: huggingface-cli login --token <insert token>\n",
    "\n",
    "    \n",
    "# Initialize the tokenizer and model\n",
    "tokenizer = AutoTokenizer.from_pretrained(\"facebook/bart-large-cnn\")\n",
    "# model = AutoModelForSeq2SeqLM.from_pretrained(\"facebook/bart-large-cnn\", use_auth_token=(username, password)  # Pass authentication credentials\n",
    "\n",
    "# Initializing the model & tokenizer using .from_pretrained()\n",
    "'''\n",
    "tokenizer = AutoTokenizer.from_pretrained(\"facebook/bart-large-cnn\")\n",
    "tokenizer = BartTokenizer.from_pretrained('bart-large-cnn')\n",
    "model = AutoModelForSeq2SeqLM.from_pretrained(\"facebook/bart-large-cnn\")\n",
    "model = BartForConditionalGeneration.from_pretrained('bart-large-cnn')\n",
    "model = BartForSequenceClassification.from_pretrained\n",
    "\n",
    "'''\n",
    "\n",
    "print(\"HuggingFace Bart initialized.\")\n",
    "\n",
    "# generate summaries of all docs in corpus\n",
    "\n",
    "summarizer = pipeline(task=\"summarization\") #, model=model, tokenizer=tokenizer) # do_sample=False\n",
    "#summarizer = pipeline(task=\"summarization\", model='bart-large-cnn', tokenizer='bart-large-cnn') \n",
    "print(summarizer)\n",
    "\n",
    "summaries = []\n",
    "sample_doc_str = doc_strings[0:2]\n",
    "\n",
    "for i, doc in enumerate(sample_doc_str): # replace with doc_strings\n",
    "    summary = summarizer(doc, min_length=10, max_length=100)\n",
    "    summary = summary[0]['summary_text']\n",
    "    print(summary)\n",
    "    # summaries.append(summary)\n",
    "    # encode the input in chunks if doc too long\n",
    "    \n",
    "\n",
    "    '''\n",
    "    # Use BART or Glove\n",
    "    inputs = [tokenizer(chunk, return_tensors=\"pt\") for chunk in chunks]\n",
    "\n",
    "    inputs = tokenizer.batch_encode_plus([doc], max_length=1024*8, return_tensors='pt', truncation=True)\n",
    "    summary_ids = model.generate(inputs['input_ids'], max_length=100, early_stopping=False)\n",
    "    summary_text = tokenizer.decode(summary_ids[0], skip_special_tokens=True)\n",
    "    \n",
    "    print(i, \" | Original Len: \", len(doc),'------>' , \"Summary Len: \", len(summary_text))\n",
    "    print(summary_text)\n",
    "    print(\"\\n\")\n",
    "    '''\n",
    "\n",
    "#print(summaries[0][:20])"
   ]
  },
  {
   "cell_type": "markdown",
   "id": "92b6a869",
   "metadata": {
    "heading_collapsed": true,
    "hidden": true
   },
   "source": [
    "### T5 Transformer"
   ]
  },
  {
   "cell_type": "code",
   "execution_count": null,
   "id": "c9d347ad",
   "metadata": {
    "hidden": true
   },
   "outputs": [],
   "source": [
    "# Importing requirements\n",
    "from transformers import T5Tokenizer, T5Config, T5ForConditionalGeneration\n",
    "\n",
    "# Instantiating the model and tokenizer \n",
    "my_model = T5ForConditionalGeneration.from_pretrained('t5-small')\n",
    "tokenizer = T5Tokenizer.from_pretrained('t5-small')\n",
    "\n",
    "summaries = []\n",
    "\n",
    "for doc in doc_strings:\n",
    "    # since T5 has encoder-decoder architecture, input text must be sequence of ids\n",
    "    input_ids = tokenizer.encode(\"summarize:\" + doc, return_tensors='pt', max_length=512)\n",
    "    \n",
    "    # transformers.PreTrainedModel.generate (input_ids=None, max_length=None, min_length=None, num_beams=None)\n",
    "    summary_id = my_model.generate(input_ids)\n",
    "    t5_summary = tokenizer.decode(summary_id[0])\n",
    "    \n",
    "    summaries.append(t5_summary)\n",
    "    "
   ]
  },
  {
   "cell_type": "code",
   "execution_count": null,
   "id": "19fa2790",
   "metadata": {
    "hidden": true
   },
   "outputs": [],
   "source": [
    "# print some summaries of documents\n",
    "\n",
    "max_summaries = 5\n",
    "\n",
    "for i, summary in enumerate(summaries):\n",
    "    if i < max_summaries:\n",
    "        print(summary)"
   ]
  },
  {
   "cell_type": "markdown",
   "id": "bf2c634d",
   "metadata": {
    "hidden": true
   },
   "source": [
    "### GPT-2"
   ]
  },
  {
   "cell_type": "code",
   "execution_count": 166,
   "id": "0aa5c0d2",
   "metadata": {
    "hidden": true
   },
   "outputs": [
    {
     "name": "stderr",
     "output_type": "stream",
     "text": [
      "Summarizing:   0%|                                         | 0/10 [00:00<?, ?item/s]Truncation was not explicitly activated but `max_length` is provided a specific value, please use `truncation=True` to explicitly truncate examples to max length. Defaulting to 'longest_first' truncation strategy. If you encode pairs of sequences (GLUE-style) with the tokenizer you can select this strategy more precisely by providing a specific strategy to `truncation`.\n",
      "The attention mask and the pad token id were not set. As a consequence, you may observe unexpected behavior. Please pass your input's `attention_mask` to obtain reliable results.\n",
      "Setting `pad_token_id` to `eos_token_id`:50256 for open-end generation.\n",
      "Input length of input_ids is 389, but `max_length` is set to 20. This can lead to unexpected behavior. You should consider increasing `max_new_tokens`.\n",
      "Summarizing:  10%|███▎                             | 1/10 [00:05<00:47,  5.29s/item]The attention mask and the pad token id were not set. As a consequence, you may observe unexpected behavior. Please pass your input's `attention_mask` to obtain reliable results.\n",
      "Setting `pad_token_id` to `eos_token_id`:50256 for open-end generation.\n",
      "Input length of input_ids is 512, but `max_length` is set to 20. This can lead to unexpected behavior. You should consider increasing `max_new_tokens`.\n",
      "Summarizing:  20%|██████▌                          | 2/10 [00:11<00:47,  5.93s/item]The attention mask and the pad token id were not set. As a consequence, you may observe unexpected behavior. Please pass your input's `attention_mask` to obtain reliable results.\n",
      "Setting `pad_token_id` to `eos_token_id`:50256 for open-end generation.\n",
      "Input length of input_ids is 512, but `max_length` is set to 20. This can lead to unexpected behavior. You should consider increasing `max_new_tokens`.\n",
      "Summarizing:  30%|█████████▉                       | 3/10 [00:17<00:42,  6.10s/item]The attention mask and the pad token id were not set. As a consequence, you may observe unexpected behavior. Please pass your input's `attention_mask` to obtain reliable results.\n",
      "Setting `pad_token_id` to `eos_token_id`:50256 for open-end generation.\n",
      "Input length of input_ids is 512, but `max_length` is set to 20. This can lead to unexpected behavior. You should consider increasing `max_new_tokens`.\n",
      "Summarizing:  40%|█████████████▏                   | 4/10 [00:23<00:36,  6.00s/item]The attention mask and the pad token id were not set. As a consequence, you may observe unexpected behavior. Please pass your input's `attention_mask` to obtain reliable results.\n",
      "Setting `pad_token_id` to `eos_token_id`:50256 for open-end generation.\n",
      "Input length of input_ids is 314, but `max_length` is set to 20. This can lead to unexpected behavior. You should consider increasing `max_new_tokens`.\n",
      "Summarizing:  50%|████████████████▌                | 5/10 [00:27<00:26,  5.26s/item]The attention mask and the pad token id were not set. As a consequence, you may observe unexpected behavior. Please pass your input's `attention_mask` to obtain reliable results.\n",
      "Setting `pad_token_id` to `eos_token_id`:50256 for open-end generation.\n",
      "Input length of input_ids is 512, but `max_length` is set to 20. This can lead to unexpected behavior. You should consider increasing `max_new_tokens`.\n",
      "Summarizing:  60%|███████████████████▊             | 6/10 [00:33<00:21,  5.28s/item]The attention mask and the pad token id were not set. As a consequence, you may observe unexpected behavior. Please pass your input's `attention_mask` to obtain reliable results.\n",
      "Setting `pad_token_id` to `eos_token_id`:50256 for open-end generation.\n",
      "Input length of input_ids is 188, but `max_length` is set to 20. This can lead to unexpected behavior. You should consider increasing `max_new_tokens`.\n",
      "Summarizing:  70%|███████████████████████          | 7/10 [00:34<00:12,  4.16s/item]The attention mask and the pad token id were not set. As a consequence, you may observe unexpected behavior. Please pass your input's `attention_mask` to obtain reliable results.\n",
      "Setting `pad_token_id` to `eos_token_id`:50256 for open-end generation.\n",
      "Input length of input_ids is 511, but `max_length` is set to 20. This can lead to unexpected behavior. You should consider increasing `max_new_tokens`.\n",
      "Summarizing:  80%|██████████████████████████▍      | 8/10 [00:40<00:09,  4.70s/item]The attention mask and the pad token id were not set. As a consequence, you may observe unexpected behavior. Please pass your input's `attention_mask` to obtain reliable results.\n",
      "Setting `pad_token_id` to `eos_token_id`:50256 for open-end generation.\n",
      "Input length of input_ids is 512, but `max_length` is set to 20. This can lead to unexpected behavior. You should consider increasing `max_new_tokens`.\n",
      "Summarizing:  90%|█████████████████████████████▋   | 9/10 [00:48<00:05,  5.60s/item]The attention mask and the pad token id were not set. As a consequence, you may observe unexpected behavior. Please pass your input's `attention_mask` to obtain reliable results.\n",
      "Setting `pad_token_id` to `eos_token_id`:50256 for open-end generation.\n",
      "Input length of input_ids is 512, but `max_length` is set to 20. This can lead to unexpected behavior. You should consider increasing `max_new_tokens`.\n",
      "Summarizing: 100%|████████████████████████████████| 10/10 [00:57<00:00,  5.72s/item]"
     ]
    },
    {
     "name": "stdout",
     "output_type": "stream",
     "text": [
      "Done generating summaries\n"
     ]
    },
    {
     "name": "stderr",
     "output_type": "stream",
     "text": [
      "\n"
     ]
    }
   ],
   "source": [
    "# Importing model and tokenizer\n",
    "from transformers import GPT2Tokenizer,GPT2LMHeadModel\n",
    "\n",
    "warnings.filterwarnings('ignore')\n",
    "\n",
    "# Instantiating the model and tokenizer with gpt-2\n",
    "tokenizer=GPT2Tokenizer.from_pretrained('gpt2')\n",
    "model=GPT2LMHeadModel.from_pretrained('gpt2')\n",
    "\n",
    "def get_summaries(doc_strings):\n",
    "    '''\n",
    "    Input:\n",
    "        doc_strings: list of docs as single strings per doc (will tokenize later)\n",
    "    Output:\n",
    "        summaries: list of generated summaries for each doc from GPT-2\n",
    "    '''\n",
    "    summaries = []\n",
    "\n",
    "    for doc in tqdm(doc_strings, desc=\"Summarizing\", unit=\"item\"):\n",
    "\n",
    "        # Encoding text to get input ids & pass them to model.generate()\n",
    "        inputs=tokenizer.batch_encode_plus([doc],return_tensors='pt',max_length=512)\n",
    "        summary_ids=model.generate(inputs['input_ids'],early_stopping=True)\n",
    "        GPT_summary=tokenizer.decode(summary_ids[0],skip_special_tokens=True)\n",
    "\n",
    "        summaries.append(GPT_summary)\n",
    "\n",
    "    print(\"Done generating summaries\")\n",
    "    return summaries\n",
    "\n",
    "summaries = get_summaries(doc_strings)"
   ]
  },
  {
   "cell_type": "code",
   "execution_count": 167,
   "id": "31280fa8",
   "metadata": {
    "hidden": true
   },
   "outputs": [
    {
     "name": "stdout",
     "output_type": "stream",
     "text": [
      "session mohawks communicated senate april gentlemen senate treaty mohawk nation indians lias accident lain long neglected executed authority honorable isaac smith commissioner united states submit senate consideration john adams united states oil jit treaty held authority united states mohawk nation indians residing province upper canada within dominions king great britain present honorable isaac smith commissioner appointed united states hold treaty abraham ten broeck benson ezra ltlommedieu agents tbe state new york captain joseph brandt captain john deserentyon two said indians deputies represent said nation treaty said agents presence approbation said commissioner proposed adjusted said deputies compensation hereinalter mentioned made saief nation claim extinguished treaty lands within said state thereupon finally agreed done said agents said deputies follows say said agents agree pay said deputies sum one thousand dollars said nation said deputies paid distributed among persons families said nation according usages sum five hundred dollars expenses said deputies time attended treaty sum one hundred dollars expenses returning conveying said sum one thousand dollars said nation resides said agents accordingly name people state new york pay said three several sums said deputies presence saia commissioner said deputies agree cede release presents witness accordingly name said nation consideration said compensation cede release people state new york forever right title said nation lands within said state claim said nation lands within said state hereby wholly finally extinguished testimony whereof said commissioner said agents said deputies hereunto two acts tenor date one remain united states one remain said state one delivered said deputies remain said nation set hands seals city albany said state day march year one thousand seven hundred isaac smith abraham ten broeck egbert benson ezra l hommedieu joseph brand john deserentyon jj robert yates john tavlor charles williamson thomas orris john aukel mark alias cornplanter chief senecas congressmen\n"
     ]
    }
   ],
   "source": [
    "# print some summaries of documents\n",
    "\n",
    "max_summaries = 1\n",
    "\n",
    "for i, summary in enumerate(summaries):\n",
    "    if i < max_summaries:\n",
    "        print(summary)"
   ]
  },
  {
   "cell_type": "code",
   "execution_count": null,
   "id": "16c294ec",
   "metadata": {
    "hidden": true
   },
   "outputs": [],
   "source": [
    "# add more transformer models from HuggingFace here\n"
   ]
  },
  {
   "cell_type": "markdown",
   "id": "19b1146e",
   "metadata": {
    "heading_collapsed": true
   },
   "source": [
    "# **Text Generation (Google Colab GPU)**"
   ]
  },
  {
   "cell_type": "markdown",
   "id": "ed211a3f",
   "metadata": {
    "heading_collapsed": true,
    "hidden": true
   },
   "source": [
    "## Text Completion (Use Google Colab for GPU)"
   ]
  },
  {
   "cell_type": "code",
   "execution_count": 180,
   "id": "dc38b3a8",
   "metadata": {
    "hidden": true
   },
   "outputs": [
    {
     "name": "stderr",
     "output_type": "stream",
     "text": [
      "Some weights of GPT2DoubleHeadsModel were not initialized from the model checkpoint at gpt2-medium and are newly initialized: ['multiple_choice_head.summary.weight', 'multiple_choice_head.summary.bias']\n",
      "You should probably TRAIN this model on a down-stream task to be able to use it for predictions and inference.\n"
     ]
    }
   ],
   "source": [
    "from transformers import GPT2Tokenizer\n",
    "from transformers import GPT2DoubleHeadsModel\n",
    "\n",
    "tokenizer=GPT2Tokenizer.from_pretrained('gpt2-medium')\n",
    "model=GPT2DoubleHeadsModel.from_pretrained('gpt2-medium')"
   ]
  },
  {
   "cell_type": "code",
   "execution_count": 188,
   "id": "23bcba0c",
   "metadata": {
    "hidden": true
   },
   "outputs": [
    {
     "name": "stdout",
     "output_type": "stream",
     "text": [
      "1.13.1\n",
      "The monkey likes eating the fruit\n"
     ]
    }
   ],
   "source": [
    "import torch\n",
    "\n",
    "print(torch.__version__)\n",
    "\n",
    "text = original_docs[0]\n",
    "text = \"The monkey likes eating the\"\n",
    "ids=tokenizer.encode(text)\n",
    "my_tensor=torch.tensor([ids])\n",
    "\n",
    "# Setting model in eval mode\n",
    "model.eval()\n",
    "\n",
    "result=model(my_tensor)\n",
    "predictions=result[0]\n",
    "\n",
    "predicted_index = torch.argmax(predictions[0, -1, :]).item()\n",
    "\n",
    "predicted_text = tokenizer.decode(ids + [predicted_index])\n",
    "\n",
    "print(predicted_text)"
   ]
  },
  {
   "cell_type": "code",
   "execution_count": 195,
   "id": "20b9a515",
   "metadata": {
    "hidden": true
   },
   "outputs": [],
   "source": [
    "def complete_text(text, n_words):\n",
    "    '''\n",
    "    Complete generation of n_words from a given prompt\n",
    "    Returns: completed generated text including prompt\n",
    "    '''\n",
    "    for i in tqdm(range(n_words), desc='Generating Text', unit='word'):\n",
    "        # encode the input text\n",
    "        input_ids = tokenizer.encode(text)\n",
    "        # convert into a tensor\n",
    "        input_tensor = torch.tensor([input_ids])\n",
    "\n",
    "        # passing input tensor to model\n",
    "        result = model(input_tensor)\n",
    "        # storing all predicted ids of next word\n",
    "        predictions = result[0]\n",
    "        # Choosing the predicted_index (og maximum value)\n",
    "        predicted_index = torch.argmax(predictions[0,-1,:]).item()\n",
    "        # decoding the predicted index to text and concatenating to original text\n",
    "        text = tokenizer.decode(input_ids + [predicted_index])\n",
    "        \n",
    "    return text"
   ]
  },
  {
   "cell_type": "code",
   "execution_count": 196,
   "id": "5f52205b",
   "metadata": {
    "hidden": true
   },
   "outputs": [
    {
     "name": "stderr",
     "output_type": "stream",
     "text": [
      "Generating Text: 100%|██████████████████████████████| 2/2 [00:15<00:00,  7.80s/word]"
     ]
    },
    {
     "name": "stdout",
     "output_type": "stream",
     "text": [
      "the monkey likes to eat the\n"
     ]
    },
    {
     "name": "stderr",
     "output_type": "stream",
     "text": [
      "\n"
     ]
    }
   ],
   "source": [
    "text = complete_text(\"the monkey likes to\", 2)\n",
    "print(text)"
   ]
  },
  {
   "cell_type": "markdown",
   "id": "67a5ca43",
   "metadata": {
    "hidden": true
   },
   "source": [
    "## QA "
   ]
  },
  {
   "cell_type": "code",
   "execution_count": 201,
   "id": "12211e60",
   "metadata": {
    "hidden": true
   },
   "outputs": [],
   "source": [
    "# Import pipeline from transformers\n",
    "from transformers import pipeline\n",
    "\n",
    "def QA(question, context):\n",
    "    '''\n",
    "    Given question and context\n",
    "    Returns: Answer and its score from [0, 1]\n",
    "    '''\n",
    "    # Create a question-answering pipeline\n",
    "    faq_machine = pipeline(task=\"question-answering\", disable_progress_bar=False)\n",
    "    '''\n",
    "    # Other Types of tasks:\n",
    "        text classification\n",
    "        NER\n",
    "        sentiment analysis\n",
    "        text generation\n",
    "        text summarization\n",
    "        translation\n",
    "        QA\n",
    "    '''\n",
    "    ans = faq_machine(question=question,context=context)\n",
    "    return ans['answer'], ans['score']"
   ]
  },
  {
   "cell_type": "code",
   "execution_count": 209,
   "id": "7e101b8d",
   "metadata": {
    "hidden": true
   },
   "outputs": [
    {
     "name": "stderr",
     "output_type": "stream",
     "text": [
      "No model was supplied, defaulted to distilbert-base-cased-distilled-squad and revision 626af31 (https://huggingface.co/distilbert-base-cased-distilled-squad).\n",
      "Using a pipeline without specifying a model name and revision in production is not recommended.\n"
     ]
    },
    {
     "name": "stdout",
     "output_type": "stream",
     "text": [
      "Answer: one thousand dollars\n",
      "Score: 0.002414183458313346\n"
     ]
    }
   ],
   "source": [
    "context = original_docs[0]\n",
    "question = \"How much money did the activities cost?\"\n",
    "\n",
    "answer, score = QA(question, context)\n",
    "print('Answer:', answer)\n",
    "print('Score:', score)"
   ]
  },
  {
   "cell_type": "markdown",
   "id": "5246c0be",
   "metadata": {
    "heading_collapsed": true
   },
   "source": [
    "# Semantic Analysis and Document-level Understanding (Google Colab)"
   ]
  },
  {
   "cell_type": "code",
   "execution_count": 186,
   "id": "f4a86c21",
   "metadata": {
    "hidden": true
   },
   "outputs": [
    {
     "name": "stdout",
     "output_type": "stream",
     "text": [
      "No. 82. [2d Session. THE MOHAWKS. COMMUNICATED TO TJ1E SENATE, ON THE 12TH OF APRIL, 1798. Gentlemen of the Senate: A treaty with the Mohawk nation of Indians lias, by accident, lain long neglected. It was executed under the authority of the Honorable Isaac Smith, a commissioner of the United States. I now submit it to the Senate, for their consideration. JOHN ADAMS. United States, Up oil 12, 1798. Jit a Treaty, held under the authority of the United States, with the Mohawk nation of Indians, residing in the province of Upper Canada, within the dominions of the King of Great Britain: Present, the Honorable Isaac Smith, commissioner appointed by the United States to hold this treaty; Abraham Ten Broeck,'Egbert Benson, and Ezra LTlommedieu, agents for tbe State of New York ; Captain Joseph Brandt, and Captain John Deserentyon, two of the said Indians, and deputies to represent the said nation at this treaty. The said agents having, in the presence, and with the approbation of the said commissioner, proposed to, and adjusted with, the said deputies, the compensation as hereinalter mentioned, to be made to the saief nation, for their claim to be extinguished by this treaty, to all lands within the said State: It is, thereupon, finally agreed and done, between the said agents, and the said deputies, as follows, that is to say: The said agents do agree to pay to (he said deputies, the sum of one thousand dollars for the use of the said nation, to be by the said deputies paid over to, and distributed among, the persons and families of the said nation, according to their usages; the sum of five hundred dollars, for the expenses of the said deputies, during the time they have attended this treaty; and the sum of one hundred dollars, for their expenses in returning, and for conveying the said sum of one thousand dollars to where the said nation resides; and the said agents do accordingly, for, and in the name of, the people of the State of New York, pay the said three several sums to the said deputies, in the presence of the saia commissioner; and the said deputies do agree to cede and release, and these, presents witness, that they accordingly do, for, and in the name of, the said nation, in consideration of the said compensation, cede and release to the people of the State of New York, forever, all the right or title of the said nation to lands within the said State; and the claim of the said nation, to lands within the said State, is hereby wholly and finally extinguished. In testimony whereof, the said commissioner, the said agents, and the said deputies, have hereunto, and to two other acts, of the same tenor and date, one to remain with the United States, one to remain with the said State, and one delivered to the. said deputies, to remain with the said nation, set their hands and seals, at the city of Albany, in the said State, the twenty-ninth day of March, in the year one thousand seven hundred and ninety-seven, ISAAC SMITH, [l. s. ABRAHAM TEN BROECK, [l. s. EGBERT BENSON. [l. s. EZRA L’HOMMEDIEU, [l. s. JOSEPH BRAND I'. [l. s. JOHN DESERENTYON. [l. s.] JJ 'itnesses: Robert Yates, John Tavlor, Charles Williamson. Thomas M ORRIS, John Aukel, his + mark, alias the Cornplanter. a chief of the Senecas. 5th Congress.] \n",
      "\n"
     ]
    }
   ],
   "source": [
    "print(original_docs[0])"
   ]
  },
  {
   "cell_type": "markdown",
   "id": "c2af91f4",
   "metadata": {
    "heading_collapsed": true
   },
   "source": [
    "# **Translation**"
   ]
  },
  {
   "cell_type": "code",
   "execution_count": null,
   "id": "3aa3eeba",
   "metadata": {
    "hidden": true
   },
   "outputs": [],
   "source": []
  },
  {
   "cell_type": "code",
   "execution_count": null,
   "id": "da4ae4ee",
   "metadata": {
    "hidden": true
   },
   "outputs": [],
   "source": [
    "from transformers import pipeline\n",
    "\n",
    "lang = \"translation_en_to_fr\"\n",
    "translator_model=pipeline(task=lang) # change task as needed\n",
    "\n",
    "'''\n",
    "English to French: pipeline(task='translation_en_to_fr')\n",
    "English to German: pipeline(task='translation_en_to_de')\n",
    "English to Spanish: pipeline(task='translation_en_to_es')\n",
    "English to Portuguese: pipeline(task='translation_en_to_pt')\n",
    "English to Italian: pipeline(task='translation_en_to_it')\n",
    "English to Russian: pipeline(task='translation_en_to_ru')\n",
    "English to Japanese: pipeline(task='translation_en_to_ja')\n",
    "English to Korean: pipeline(task='translation_en_to_ko')\n",
    "English to Chinese: pipeline(task='translation_en_to_zh')\n",
    "'''\n",
    "\n",
    "translator_model"
   ]
  },
  {
   "cell_type": "code",
   "execution_count": null,
   "id": "63e71ab2",
   "metadata": {
    "hidden": true
   },
   "outputs": [],
   "source": [
    "translation = translator_model('I welcome you to my country ! I am sure you will enjoy your visit')\n",
    "\n",
    "# translation is a dictionary\n",
    "print(translation)"
   ]
  },
  {
   "cell_type": "markdown",
   "id": "9406dbe5",
   "metadata": {
    "hidden": true
   },
   "source": [
    "## Using Seq2Seq Models for Translation Prediction"
   ]
  },
  {
   "cell_type": "markdown",
   "id": "147e2612",
   "metadata": {
    "hidden": true
   },
   "source": [
    "### Model Arguments"
   ]
  },
  {
   "cell_type": "code",
   "execution_count": null,
   "id": "4bf47b98",
   "metadata": {
    "hidden": true
   },
   "outputs": [],
   "source": [
    "\n",
    "model_args = {'adam_epsilon': 1e-08,\n",
    " 'base_marian_model_name': 'Helsinki-NLP/opus-mt-en-ro',\n",
    " 'best_model_dir': 'outputs/best_model',\n",
    " 'cache_dir': 'cache_dir/',\n",
    " 'config': {},\n",
    " 'dataset_class': None,\n",
    " 'do_lower_case': False,\n",
    " 'do_sample': False,\n",
    " 'early_stopping': True,\n",
    " 'early_stopping_consider_epochs': False,\n",
    " 'early_stopping_delta': 0,\n",
    " 'early_stopping_metric': 'eval_loss',\n",
    " 'early_stopping_metric_minimize': True,\n",
    " 'early_stopping_patience': 3,\n",
    " 'encoding': None,\n",
    " 'eval_batch_size': 8,\n",
    " 'evaluate_during_training': False,\n",
    " 'evaluate_during_training_steps': 2000,\n",
    " 'evaluate_during_training_verbose': True,\n",
    " 'evaluate_generated_text': True,\n",
    " 'fp16': False,\n",
    " 'fp16_opt_level': 'O1',\n",
    " 'gradient_accumulation_steps': 1,\n",
    " 'learning_rate': 4e-05,\n",
    " 'length_penalty': 2.0,\n",
    " 'logging_steps': 50,\n",
    " 'manual_seed': 4,\n",
    " 'max_grad_norm': 1.0,\n",
    " 'max_length': 50,\n",
    " 'max_seq_length': 50,\n",
    " 'max_steps': -1,\n",
    " 'model_name': 'Helsinki-NLP/opus-mt-en-ro',\n",
    " 'model_type': 'marian',\n",
    " 'multiprocessing_chunksize': 500,\n",
    " 'n_gpu': 1,\n",
    " 'no_cache': False,\n",
    " 'no_save': False,\n",
    " 'num_beams': 1,\n",
    " 'num_train_epochs': 10,\n",
    " 'output_dir': 'outputs/',\n",
    " 'overwrite_output_dir': True,\n",
    " 'process_count': 1,\n",
    " 'repetition_penalty': 1.0,\n",
    " 'reprocess_input_data': True,\n",
    " 'save_best_model': True,\n",
    " 'save_eval_checkpoints': False,\n",
    " 'save_model_every_epoch': False,\n",
    " 'save_steps': 2000,\n",
    " 'silent': False,\n",
    " 'tensorboard_dir': None,\n",
    " 'train_batch_size': 2,\n",
    " 'use_cached_eval_features': False,\n",
    " 'use_cuda': False,\n",
    " 'use_early_stopping': False,\n",
    " 'use_multiprocessing': False,\n",
    " 'wandb_kwargs': {},\n",
    " 'wandb_project': None,\n",
    " 'warmup_ratio': 0.06,\n",
    " 'warmup_steps': 0,\n",
    " 'weight_decay': 0}"
   ]
  },
  {
   "cell_type": "markdown",
   "id": "b892e548",
   "metadata": {
    "hidden": true
   },
   "source": [
    "### Seq2Seq Model"
   ]
  },
  {
   "cell_type": "code",
   "execution_count": null,
   "id": "4676d7fc",
   "metadata": {
    "hidden": true
   },
   "outputs": [],
   "source": [
    "import torch\n",
    "from simpletransformers.seq2seq import Seq2SeqModel\n",
    "\n",
    "model = Seq2SeqModel(encoder_decoder_type=\"marian\",encoder_decoder_name=\"Helsinki-NLP/opus-mt-en-ro\",args=model_args,use_cuda=False)\n",
    "# see list of pretrained models: https://huggingface.co/transformers/pretrained_models.html"
   ]
  },
  {
   "cell_type": "code",
   "execution_count": null,
   "id": "21fa3264",
   "metadata": {
    "hidden": true
   },
   "outputs": [],
   "source": [
    "\n",
    "translation = model.predict(['I welcome you to my country','I am sure you will enjoy your stay here'])\n",
    "print(translation)"
   ]
  },
  {
   "cell_type": "markdown",
   "id": "304f6cd6",
   "metadata": {},
   "source": [
    "# Training Custom Word2Vec Models"
   ]
  },
  {
   "cell_type": "code",
   "execution_count": 967,
   "id": "26bf68f7",
   "metadata": {},
   "outputs": [],
   "source": [
    "#your \"sentences\" object with the cleaned text data. \n",
    "bigram_transformer = phrases.Phrases(docs) \n",
    "bigram = phrases.Phraser(bigram_transformer)\n",
    "\n",
    "model = Word2Vec(bigram[docs], workers=4, sg=0, min_count=5, window=5, sample=1e-3)\n",
    "\n",
    "model.init_sims(replace=True) #Precompute L2-normalized vectors. If replace is set to TRUE, forget the original vectors and only keep the normalized ones. Saves lots of memory, but can't continue to train the model.\n",
    "model.save(\"./Word2Vec_Models/English_Sample\") #save your model for later use! change the name to something to remember the hyperparameters you trained it with\n",
    "model =  Word2Vec.load(\"./Word2Vec_Models/English_Sample\") #name of YOUR model here, or file path to your \n",
    "\n",
    "vocab = list(model.wv.key_to_index.keys())\n",
    "\n",
    "with open(\"./Word2Vec_Models/eng_vocab.txt\", \"w\") as f:\n",
    "    for word in vocab:\n",
    "        f.write(word + \"\\n\")"
   ]
  },
  {
   "cell_type": "code",
   "execution_count": 982,
   "id": "814f35f5",
   "metadata": {},
   "outputs": [],
   "source": [
    "def get_vector(model, word):\n",
    "    '''\n",
    "    Model must be gensim object Word2Vec model\n",
    "    Returns word vector if key present in its vocab\n",
    "    '''\n",
    "    try: \n",
    "        vect = model.wv.get_vector(word)\n",
    "    except:\n",
    "        vect = None\n",
    "        print(\"Word not in model vocabulary\")\n",
    "    return vect\n",
    "\n",
    "def cossim(model, word_1, word_2):\n",
    "    # make sure both words in Word2Vec model\n",
    "    vocab = list(model.wv.key_to_index.keys())\n",
    "    if word_1 and word_2 in vocab:\n",
    "        return (1 - spatial.distance.cosine(model.wv[word_1], model.wv[word_2])) \n",
    "    else:\n",
    "        print(\"At least one word not in model vocab\")\n",
    "        \n",
    "\n",
    "def n_most_similar_words(model, words, neg=None, n=10):\n",
    "    '''\n",
    "    negative is a list of words opposite of most similar n words\n",
    "    '''\n",
    "    vocab = list(model.wv.key_to_index.keys())\n",
    "    if (neg is None) and (w in vocab for w in words):\n",
    "        return model.wv.most_similar(words, topn=n)\n",
    "    elif (word is None) and (n in vocab for n in neg):\n",
    "        return model.wv.most_similar(negative=neg, topn=n)\n",
    "    elif (w in vocab for w in words) and (n in vocab for n in neg):\n",
    "        return model.wv.most_similar(positive=words, negative=neg, topn=n)\n",
    "    else:\n",
    "        print(\"Words not in model vocabulary\")\n",
    "        return None"
   ]
  },
  {
   "cell_type": "code",
   "execution_count": 983,
   "id": "bd8d82d1",
   "metadata": {},
   "outputs": [
    {
     "name": "stdout",
     "output_type": "stream",
     "text": [
      "0.9976633191108704\n",
      "[('captain_randolph', 0.2436981201171875), ('toward', 0.21331246197223663), ('stands', 0.20409883558750153), ('ofthe', 0.20399105548858643), ('pacify', 0.19509559869766235), ('shaw', 0.18050509691238403), ('fort_matthews', 0.1766786128282547), ('tiling', 0.1658942550420761), ('chattooga', 0.15100321173667908), ('violations', 0.15029579401016235)]\n"
     ]
    }
   ],
   "source": [
    "vector = get_vector(model, \"indians\")\n",
    "#print(vector)\n",
    "\n",
    "similarity = cossim(model, \"indians\", \"america\")\n",
    "print(similarity)\n",
    "\n",
    "top_sim = n_most_similar_words(model, [\"indians\", \"cherokees\"], neg=['peace', 'happy'])\n",
    "print(top_sim)"
   ]
  },
  {
   "cell_type": "code",
   "execution_count": 990,
   "id": "8dacb33d",
   "metadata": {},
   "outputs": [
    {
     "name": "stdout",
     "output_type": "stream",
     "text": [
      "violation\n"
     ]
    }
   ],
   "source": [
    "def odd_words(model, string):\n",
    "    return model.wv.doesnt_match(string.split())\n",
    "\n",
    "word = odd_word(model, \"america indians violation cherokees\")\n",
    "print(word)"
   ]
  },
  {
   "cell_type": "code",
   "execution_count": 1042,
   "id": "1b1bb188",
   "metadata": {},
   "outputs": [
    {
     "name": "stdout",
     "output_type": "stream",
     "text": [
      "Closest Analogy: [('major_king', 0.2652914822101593), ('company_mounted', 0.2149999588727951), ('detention', 0.19962701201438904), ('lady', 0.1951880306005478), ('substance', 0.17278960347175598)]\n",
      "Similarity: -0.020140603\n",
      "Analogy Score: 0.2652914822101593\n"
     ]
    }
   ],
   "source": [
    "def get_vector_context(model, w1, w2, w3):\n",
    "    \n",
    "    vocab = list(model.wv.key_to_index.keys())\n",
    "    if w1 not in vocab:\n",
    "        print(w1, \"not found in vocab\")\n",
    "        return\n",
    "    if w2 not in vocab:\n",
    "        print(w2, \"not found in vocab\")\n",
    "        return\n",
    "    if w3 not in vocab:\n",
    "        print(w3, \"not found in vocab\")\n",
    "        return\n",
    "    \n",
    "    context = model.wv[w1] - model.wv[w2]\n",
    "    vector = context.reshape(1, -1)[0]\n",
    "    query = model.wv[w3].reshape(1,-1)\n",
    "    similarity = cosine_similarity(context.reshape(1,-1), query)[0][0]\n",
    "\n",
    "    # Normalize the vector\n",
    "    normalized_vector = vector / np.linalg.norm(vector)\n",
    "\n",
    "    # Find the most similar word\n",
    "    most_similar_word = model.wv.most_similar([normalized_vector], topn=5)\n",
    "    score = most_similar_word[0][1]\n",
    "    #model.wv.key_to_index[model.wv.most_similar([normalized_vector], topn=1)[0][0]]\n",
    "\n",
    "    return vector, most_similar_word, similarity, score\n",
    "\n",
    "vector, answer, similarity, score = get_vector_context(model, \"americans\", \"happy\", \"indians\")\n",
    "\n",
    "print(\"Closest Analogy:\", answer)\n",
    "print(\"Similarity:\", similarity)\n",
    "print(\"Analogy Score:\", score)"
   ]
  },
  {
   "cell_type": "markdown",
   "id": "fab6612f",
   "metadata": {},
   "source": [
    "## Visualizing Word-Vector Neighborhoods"
   ]
  },
  {
   "cell_type": "code",
   "execution_count": 1065,
   "id": "f13f9b0c",
   "metadata": {},
   "outputs": [
    {
     "ename": "SyntaxError",
     "evalue": "'continue' not properly in loop (3381163932.py, line 30)",
     "output_type": "error",
     "traceback": [
      "\u001b[0;36m  Input \u001b[0;32mIn [1065]\u001b[0;36m\u001b[0m\n\u001b[0;31m    continue\u001b[0m\n\u001b[0m    ^\u001b[0m\n\u001b[0;31mSyntaxError\u001b[0m\u001b[0;31m:\u001b[0m 'continue' not properly in loop\n"
     ]
    }
   ],
   "source": [
    "#review of tsne: http://scikit-learn.org/stable/modules/generated/sklearn.manifold.TSNE.html\n",
    "#modified code from https://www.kaggle.com/jeffd23/visualizing-word-vectors-with-t-sne/code\n",
    "\n",
    "#define a function to visualize word-vectors in 2-D version of the high dimensional space\n",
    "\n",
    "def tsne_plot(model, words, word_axes=None, topn=30, n_comp=2, title=\"TSNE Visualization of Word-Vectors\", iterations=3000, seed=0): \n",
    "    '''\n",
    "    Params:\n",
    "        word_axes: [pos=[], neg=[]] list of axes for rate similar words\n",
    "    '''\n",
    "    \n",
    "    filtered_words = []\n",
    "    word_vectors = []\n",
    "    label=[]\n",
    "\n",
    "    if word_axes is None:\n",
    "        for word in words:   \n",
    "            try:\n",
    "                if my_word_list not in my_word_list:\n",
    "                    word_vectors.append(model.wv[word])\n",
    "                    filtered_words.append(word)\n",
    "            except KeyError: #if one of the words_to_explore is not in the model vocab, just skip it\n",
    "                continue\n",
    "    \n",
    "    # axis word polar filter\n",
    "    if word_axes is not None:\n",
    "        top_sim_1 = n_most_similar_words(model, word_axes[0], word_axes[1], n=topn)\n",
    "        top_sim_2 = n_most_similar_words(model, word_axes[1], word_axes[0], n=topn)\n",
    "        if top_sim is None:\n",
    "            continue\n",
    "        else:\n",
    "            for i in top_sim_1: # axis 1\n",
    "                if my_word_list not in my_word_list:\n",
    "                    filtered_words.append(i[0])\n",
    "                    word_vectors.append(model.wv[i[0]])\n",
    "                    label.append('Positive')\n",
    "\n",
    "            for i in top_sim_2: # axis 2\n",
    "                if my_word_list not in my_word_list:\n",
    "                    filtered_words.append(i[0])\n",
    "                    word_vectors.append(model.wv[i[0]])\n",
    "                    label.append('Negative')\n",
    "    \n",
    "    \"Creates and TSNE model and plots it\"\n",
    "    tsne_model = TSNE(perplexity=5, n_components=n_comp, init='pca', n_iter=iterations, random_state=seed) \n",
    "    #you may need to tune these, epsecially the perplexity. #Use PCA to reduce dimensionality to 2-D, an \"X\" and a \"Y \n",
    "    \n",
    "    # Word vectors must be numpy array with .shape attribute\n",
    "    word_vectors = np.array(word_vectors)\n",
    "    new_values = tsne_model.fit_transform(word_vectors)\n",
    "    \n",
    "    \n",
    "    x = []\n",
    "    y = []\n",
    "    for value in new_values:\n",
    "        x.append(value[0])\n",
    "        y.append(value[1])\n",
    "        \n",
    "    plt.figure(figsize=(10, 10)) \n",
    "    for i in range(len(x)):\n",
    "        plt.scatter(x[i],y[i])\n",
    "        plt.annotate(words[i],\n",
    "                     xy=(x[i], y[i]),\n",
    "                     xytext=(5, 2),\n",
    "                     textcoords='offset points',\n",
    "                     ha='right',\n",
    "                     va='bottom')\n",
    "    plt.ylabel(\"Latent Dimension 1\") #Some pyplot reminders: https://matplotlib.org/users/pyplot_tutorial.html\n",
    "    plt.xlabel(\"Latent Dimension 2\")\n",
    "    plt.title(title)\n",
    "    plt.show()\n"
   ]
  },
  {
   "cell_type": "code",
   "execution_count": 1066,
   "id": "ea1b21e9",
   "metadata": {},
   "outputs": [
    {
     "data": {
      "image/png": "[encoded data removed]",
      "text/plain": [
       "<Figure size 720x720 with 1 Axes>"
      ]
     },
     "metadata": {
      "needs_background": "light"
     },
     "output_type": "display_data"
    }
   ],
   "source": [
    "word_axes = [[\"indians\", \"cherokees\"], ['peace', 'happy']]\n",
    "words = ['woman', 'man', 'queen', 'king', 'human', 'person', 'girl', 'child', 'boy', 'salad', 'lettuce', 'tomato', 'soup', 'turnip', 'arugula', 'pepper', 'greens', 'barley', 'bean', 'stew', 'carrot']\n",
    "\n",
    "tsne_plot(model, words, word_axes)"
   ]
  },
  {
   "cell_type": "code",
   "execution_count": null,
   "id": "fbe05ed2",
   "metadata": {},
   "outputs": [],
   "source": []
  },
  {
   "cell_type": "markdown",
   "id": "355cc552",
   "metadata": {},
   "source": [
    "# **Document Similarity**"
   ]
  },
  {
   "cell_type": "markdown",
   "id": "68b2edf0",
   "metadata": {},
   "source": [
    "## Using Doc2Vec"
   ]
  },
  {
   "cell_type": "code",
   "execution_count": 902,
   "id": "0a268452",
   "metadata": {},
   "outputs": [
    {
     "name": "stdout",
     "output_type": "stream",
     "text": [
      "Total docs:  10\n",
      "Cosine Similarities Using CountVectorizer               ASP-IA-v1-82  ASP-IA-v1-96  ASP-IA-v1-41  ASP-IA-v1-55  \\\n",
      "ASP-IA-v1-82      1.000000      0.274785      0.251942      0.201755   \n",
      "ASP-IA-v1-96      0.274785      1.000000      0.638989      0.573351   \n",
      "ASP-IA-v1-41      0.251942      0.638989      1.000000      0.823428   \n",
      "ASP-IA-v1-55      0.201755      0.573351      0.823428      1.000000   \n",
      "ASP-IA-v1-69      0.114261      0.239891      0.296376      0.274716   \n",
      "ASP-IA-v1-2       0.331709      0.685229      0.817163      0.683146   \n",
      "ASP-IA-v1-3       0.180480      0.260765      0.205906      0.200388   \n",
      "ASP-IA-v1-68      0.108489      0.294012      0.372325      0.364497   \n",
      "ASP-IA-v1-54      0.190243      0.503466      0.650344      0.593017   \n",
      "ASP-IA-v1-40      0.250568      0.579558      0.634305      0.560944   \n",
      "\n",
      "              ASP-IA-v1-69  ASP-IA-v1-2  ASP-IA-v1-3  ASP-IA-v1-68  \\\n",
      "ASP-IA-v1-82      0.114261     0.331709     0.180480      0.108489   \n",
      "ASP-IA-v1-96      0.239891     0.685229     0.260765      0.294012   \n",
      "ASP-IA-v1-41      0.296376     0.817163     0.205906      0.372325   \n",
      "ASP-IA-v1-55      0.274716     0.683146     0.200388      0.364497   \n",
      "ASP-IA-v1-69      1.000000     0.354024     0.152372      0.195809   \n",
      "ASP-IA-v1-2       0.354024     1.000000     0.266093      0.391714   \n",
      "ASP-IA-v1-3       0.152372     0.266093     1.000000      0.194525   \n",
      "ASP-IA-v1-68      0.195809     0.391714     0.194525      1.000000   \n",
      "ASP-IA-v1-54      0.236609     0.634501     0.228044      0.301608   \n",
      "ASP-IA-v1-40      0.291542     0.723397     0.370198      0.351584   \n",
      "\n",
      "              ASP-IA-v1-54  ASP-IA-v1-40  \n",
      "ASP-IA-v1-82      0.190243      0.250568  \n",
      "ASP-IA-v1-96      0.503466      0.579558  \n",
      "ASP-IA-v1-41      0.650344      0.634305  \n",
      "ASP-IA-v1-55      0.593017      0.560944  \n",
      "ASP-IA-v1-69      0.236609      0.291542  \n",
      "ASP-IA-v1-2       0.634501      0.723397  \n",
      "ASP-IA-v1-3       0.228044      0.370198  \n",
      "ASP-IA-v1-68      0.301608      0.351584  \n",
      "ASP-IA-v1-54      1.000000      0.696928  \n",
      "ASP-IA-v1-40      0.696928      1.000000  \n",
      "------------------------- \n",
      "\n",
      " -------------------------\n",
      "Cosine Similarities Using Td-IDF Vectorizer               ASP-IA-v1-82  ASP-IA-v1-96  ASP-IA-v1-41  ASP-IA-v1-55  \\\n",
      "ASP-IA-v1-82      1.000000      0.209410      0.190431      0.147402   \n",
      "ASP-IA-v1-96      0.209410      1.000000      0.551377      0.472715   \n",
      "ASP-IA-v1-41      0.190431      0.551377      1.000000      0.758194   \n",
      "ASP-IA-v1-55      0.147402      0.472715      0.758194      1.000000   \n",
      "ASP-IA-v1-69      0.063997      0.148107      0.197382      0.181050   \n",
      "ASP-IA-v1-2       0.257955      0.620496      0.766306      0.610722   \n",
      "ASP-IA-v1-3       0.114647      0.159368      0.123899      0.108789   \n",
      "ASP-IA-v1-68      0.066556      0.213622      0.280389      0.270523   \n",
      "ASP-IA-v1-54      0.130254      0.397049      0.539401      0.478403   \n",
      "ASP-IA-v1-40      0.190547      0.497295      0.545290      0.458511   \n",
      "\n",
      "              ASP-IA-v1-69  ASP-IA-v1-2  ASP-IA-v1-3  ASP-IA-v1-68  \\\n",
      "ASP-IA-v1-82      0.063997     0.257955     0.114647      0.066556   \n",
      "ASP-IA-v1-96      0.148107     0.620496     0.159368      0.213622   \n",
      "ASP-IA-v1-41      0.197382     0.766306     0.123899      0.280389   \n",
      "ASP-IA-v1-55      0.181050     0.610722     0.108789      0.270523   \n",
      "ASP-IA-v1-69      1.000000     0.232461     0.077167      0.106059   \n",
      "ASP-IA-v1-2       0.232461     1.000000     0.174257      0.290598   \n",
      "ASP-IA-v1-3       0.077167     0.174257     1.000000      0.101106   \n",
      "ASP-IA-v1-68      0.106059     0.290598     0.101106      1.000000   \n",
      "ASP-IA-v1-54      0.133240     0.515995     0.141429      0.195807   \n",
      "ASP-IA-v1-40      0.175585     0.647373     0.251021      0.243402   \n",
      "\n",
      "              ASP-IA-v1-54  ASP-IA-v1-40  \n",
      "ASP-IA-v1-82      0.130254      0.190547  \n",
      "ASP-IA-v1-96      0.397049      0.497295  \n",
      "ASP-IA-v1-41      0.539401      0.545290  \n",
      "ASP-IA-v1-55      0.478403      0.458511  \n",
      "ASP-IA-v1-69      0.133240      0.175585  \n",
      "ASP-IA-v1-2       0.515995      0.647373  \n",
      "ASP-IA-v1-3       0.141429      0.251021  \n",
      "ASP-IA-v1-68      0.195807      0.243402  \n",
      "ASP-IA-v1-54      1.000000      0.597182  \n",
      "ASP-IA-v1-40      0.597182      1.000000  \n"
     ]
    }
   ],
   "source": [
    "# Use Doc2Vec strategy\n",
    "\n",
    "import gensim\n",
    "from gensim.utils import simple_preprocess\n",
    "from gensim.models.doc2vec import Doc2Vec, TaggedDocument\n",
    "from sklearn.feature_extraction.text import CountVectorizer, TfidfVectorizer\n",
    "from sklearn.metrics.pairwise import cosine_similarity\n",
    "import pandas as pd\n",
    "\n",
    "docs_head = '\\n'.join([' '.join(doc[:10]) for doc in docs[:3]])\n",
    "#print(docs_head) # prints first 10 words in first 3 docs\n",
    "\n",
    "#print(doc_strings[0][:10])\n",
    "\n",
    "# Create the Document Term Matrix\n",
    "count_vectorizer = CountVectorizer(stop_words='french')\n",
    "count_vectorizer = CountVectorizer()\n",
    "tdidf_vectorizer = TfidfVectorizer()\n",
    "\n",
    "count_matrix = count_vectorizer.fit_transform(doc_strings)\n",
    "tdidf_matrix = tdidf_vectorizer.fit_transform(doc_strings)\n",
    "\n",
    "# OPTIONAL: Convert Sparse Matrix to Pandas Dataframe if you want to see the word frequencies.\n",
    "'''\n",
    "doc_term_matrix = sparse_matrix.todense()\n",
    "doc_term_matrix2 = sparse_matrix2.todense()\n",
    "\n",
    "\n",
    "df_count = pd.DataFrame(doc_term_matrix, \n",
    "                  columns=count_vectorizer.get_feature_names(), \n",
    "                  index=doc_names)\n",
    "\n",
    "df_tdidf = pd.DataFrame(doc_term_matrix2, \n",
    "                  columns=tdidf_vectorizer.get_feature_names(), \n",
    "                  index=doc_names)\n",
    "\n",
    "df_count\n",
    "'''\n",
    "\n",
    "print(\"Total docs: \", len(docs))\n",
    "\n",
    "# Calculate cosine similarity\n",
    "cos_sim_count = cosine_similarity(count_matrix, count_matrix)\n",
    "cos_sim_tdidf = cosine_similarity(tdidf_matrix, tdidf_matrix)\n",
    "\n",
    "df_count = pd.DataFrame(cos_sim_count, \n",
    "                  columns=doc_names, \n",
    "                  index=doc_names)\n",
    "\n",
    "df_tdidf = pd.DataFrame(cos_sim_tdidf, \n",
    "                  columns=doc_names, \n",
    "                  index=doc_names)\n",
    "\n",
    "# Print the cosine similarity matrix\n",
    "print(\"Cosine Similarities Using CountVectorizer\", df_count)\n",
    "print(\"------------------------- \\n\\n -------------------------\")\n",
    "print(\"Cosine Similarities Using Td-IDF Vectorizer\", df_tdidf)\n"
   ]
  },
  {
   "cell_type": "code",
   "execution_count": 161,
   "id": "b4c8035c",
   "metadata": {},
   "outputs": [
    {
     "name": "stdout",
     "output_type": "stream",
     "text": [
      "\n",
      "Top 5 most similar documents to 'ASP-IA-v1-82' (CountVectorizer):\n",
      "ASP-IA-v1-2     0.331709\n",
      "ASP-IA-v1-96    0.274785\n",
      "ASP-IA-v1-41    0.251942\n",
      "ASP-IA-v1-40    0.250568\n",
      "ASP-IA-v1-55    0.201755\n",
      "Name: ASP-IA-v1-82, dtype: float64\n",
      "\n",
      "Top 5 most similar documents to 'ASP-IA-v1-82' (CountVectorizer):\n",
      "ASP-IA-v1-2     0.331709\n",
      "ASP-IA-v1-96    0.274785\n",
      "ASP-IA-v1-41    0.251942\n",
      "ASP-IA-v1-40    0.250568\n",
      "ASP-IA-v1-55    0.201755\n",
      "Name: ASP-IA-v1-82, dtype: float64\n"
     ]
    }
   ],
   "source": [
    "\n",
    "'''\n",
    "Find the k most similar documents for a given document given similarity matrix as DataFrame (excluding itself similarity score == 1)\n",
    "'''\n",
    "def get_K_similar_docs(df, k, doc_name):\n",
    "    similar_docs = df_count[doc_name].sort_values(ascending=False)[1:k+1]\n",
    "    return similar_docs\n",
    "\n",
    "doc_name = doc_names[0]\n",
    "k = 5  # Number of most similar documents to retrieve\n",
    "\n",
    "# Using CountVectorizer\n",
    "\n",
    "similar_docs_count = get_K_similar_docs(df_count, k, doc_name)\n",
    "print(f\"\\nTop {k} most similar documents to '{doc_name}' (CountVectorizer):\")\n",
    "print(similar_docs_count)\n",
    "\n",
    "# Using TfidfVectorizer\n",
    "\n",
    "similar_docs_tdidf = get_K_similar_docs(df_tdidf, k, doc_name)\n",
    "print(f\"\\nTop {k} most similar documents to '{doc_name}' (CountVectorizer):\")\n",
    "print(similar_docs_tdidf)\n"
   ]
  },
  {
   "cell_type": "code",
   "execution_count": 162,
   "id": "2679c418",
   "metadata": {},
   "outputs": [
    {
     "name": "stdout",
     "output_type": "stream",
     "text": [
      "\n",
      "Top 5 most similar pairs of documents (CountVectorizer):\n",
      "ASP-IA-v1-55  ASP-IA-v1-41    0.823428\n",
      "ASP-IA-v1-2   ASP-IA-v1-41    0.817163\n",
      "              ASP-IA-v1-40    0.723397\n",
      "ASP-IA-v1-40  ASP-IA-v1-54    0.696928\n",
      "ASP-IA-v1-2   ASP-IA-v1-96    0.685229\n",
      "              ASP-IA-v1-55    0.683146\n",
      "dtype: float64\n",
      "\n",
      "Top 5 most similar pairs of documents (TfidfVectorizer):\n",
      "ASP-IA-v1-2   ASP-IA-v1-41    0.766306\n",
      "ASP-IA-v1-41  ASP-IA-v1-55    0.758194\n",
      "ASP-IA-v1-40  ASP-IA-v1-2     0.647373\n",
      "ASP-IA-v1-96  ASP-IA-v1-2     0.620496\n",
      "ASP-IA-v1-55  ASP-IA-v1-2     0.610722\n",
      "ASP-IA-v1-40  ASP-IA-v1-54    0.597182\n",
      "dtype: float64\n"
     ]
    }
   ],
   "source": [
    "# find k most similar pairs of documents\n",
    "\n",
    "'''\n",
    "Find the k most similar pairs of docs given document given similarity matrix as DataFrame (excluding itself similarity score == 1)\n",
    "'''\n",
    "def get_K_similar_pairs(df, k):\n",
    "    num_docs = df.shape[1]\n",
    "    top_similar_pairs = df.unstack().sort_values(ascending=False)[num_docs:(num_docs+2*k)]\n",
    "    top_similar_pairs = top_similar_pairs[::2]\n",
    "    return top_similar_pairs\n",
    "\n",
    "# Using CountVectorizer\n",
    "K = 6\n",
    "top_similar_pairs_count = get_K_similar_pairs(df_count, K)\n",
    "print(f\"\\nTop {k} most similar pairs of documents (CountVectorizer):\")\n",
    "print(top_similar_pairs_count)\n",
    "\n",
    "# Using TfidfVectorizer\n",
    "top_similar_pairs_tdidf = get_K_similar_pairs(df_tdidf, K)\n",
    "print(f\"\\nTop {k} most similar pairs of documents (TfidfVectorizer):\")\n",
    "print(top_similar_pairs_tdidf)"
   ]
  },
  {
   "cell_type": "markdown",
   "id": "01df40d8",
   "metadata": {
    "heading_collapsed": true
   },
   "source": [
    "## Using Soft Cosine Similarity by Vectorizing Documents (beta)"
   ]
  },
  {
   "cell_type": "code",
   "execution_count": null,
   "id": "a6087372",
   "metadata": {
    "hidden": true
   },
   "outputs": [],
   "source": [
    "import gensim\n",
    "# upgrade gensim if you can't import softcossim\n",
    "!pip install --upgrade gensim\n",
    "\n",
    "from gensim.matutils import softcossim \n",
    "from gensim import corpora\n",
    "import gensim.downloader as api\n",
    "from gensim.utils import simple_preprocess\n",
    "print(gensim.__version__)\n",
    "#> '3.6.0'\n",
    "\n",
    "# Download the FastText model\n",
    "fasttext_model300 = api.load('fasttext-wiki-news-subwords-300')"
   ]
  },
  {
   "cell_type": "code",
   "execution_count": null,
   "id": "c31aeea1",
   "metadata": {
    "hidden": true
   },
   "outputs": [],
   "source": [
    "similarity_matrix = fasttext_model300.similarity_matrix(dictionary, tfidf=None, threshold=0.0, exponent=2.0, nonzero_limit=100)\n",
    "\n",
    "doc_vects = []\n",
    "for doc in docs:\n",
    "    doc_vect = dictionary.doc2bow(doc)\n",
    "    doc_vects.append(doc_vect)\n",
    "\n",
    "# similarity score between 2 documents:\n",
    "\n",
    "# Compute soft cosine similarity \n",
    "print(softcossim(sent_1, sent_2, similarity_matrix))\n",
    "\n",
    "def create_soft_cossim_matrix(doc_vects):\n",
    "    len_array = np.arange(len(doc_vects))\n",
    "    xx, yy = np.meshgrid(len_array, len_array)\n",
    "    cossim_mat = pd.DataFrame([[round(softcossim(doc_vects[i],doc_vects[j], similarity_matrix) ,2) for i, j in zip(x,y)] for y, x in zip(xx, yy)])\n",
    "    return cossim_mat\n",
    "\n",
    "soft_cosine_similarity_matrix(sentences)"
   ]
  },
  {
   "cell_type": "code",
   "execution_count": null,
   "id": "7cc45b21",
   "metadata": {
    "hidden": true
   },
   "outputs": [],
   "source": [
    "'''\n",
    "find the similarity score between 2 documents given similarity matrix (count or td-idf) and document names (without .txt extension)\n",
    "'''\n",
    "def get_similarity_score(doc1, doc2, similarity_df):\n",
    "    if doc1 in similarity_df.index and doc2 in similarity_df.columns:\n",
    "        return similarity_df.loc[doc1, doc2]\n",
    "    else:\n",
    "        return None\n",
    "    \n",
    "# Assuming you have the DataFrame `df_count` containing the cosine similarity scores\n",
    "\n",
    "# enter names of docs\n",
    "doc1 = \"Laplagne-Barris_FRconq_s3v03_66\"\n",
    "doc2 = \"Laplagne-Barris_FRconq_s3v03_72\"\n",
    "\n",
    "similarity_score = get_similarity_score(doc1, doc2, df_count)\n",
    "\n",
    "if similarity_score is not None:\n",
    "    print(f\"The similarity score between {doc1} and {doc2} is: {similarity_score}\")\n",
    "else:\n",
    "    print(\"One or both of the documents are not present in the DataFrame.\")\n"
   ]
  },
  {
   "cell_type": "markdown",
   "id": "6c3362f4",
   "metadata": {},
   "source": [
    "## Vectorized Documents as Images for CV (beta)"
   ]
  },
  {
   "cell_type": "code",
   "execution_count": null,
   "id": "ba812b85",
   "metadata": {},
   "outputs": [],
   "source": [
    "from sklearn.feature_extraction.text import TfidfVectorizer\n",
    "import matplotlib.pyplot as plt\n",
    "import numpy as np\n",
    "\n",
    "# Sample document\n",
    "document = \"This is a sample document for representation as an image. To represent a document as an image, we can follow these steps here.\"\n",
    "\n",
    "# Vectorize the document using TF-IDF\n",
    "vectorizer = CountVectorizer(ngram_range=(1, 2))\n",
    "document_vector = vectorizer.fit_transform([document])\n",
    "\n",
    "# Normalize the vectorized representation\n",
    "normalized_vector = np.array(document_vector.toarray() * 255, dtype=np.uint8)\n",
    "\n",
    "# Reshape the vectorized representation\n",
    "image_representation = normalized_vector.reshape(1, -1)\n",
    "\n",
    "# Display the image representation\n",
    "plt.imshow(image_representation, cmap='gray')\n",
    "plt.axis('off')\n",
    "plt.show()\n"
   ]
  },
  {
   "cell_type": "markdown",
   "id": "b10be45d",
   "metadata": {
    "heading_collapsed": true
   },
   "source": [
    "#  **Knowledge Graphs**"
   ]
  },
  {
   "cell_type": "markdown",
   "id": "f97f1540",
   "metadata": {
    "hidden": true
   },
   "source": [
    "## Key-Concept TextRank Extraction"
   ]
  },
  {
   "cell_type": "code",
   "execution_count": 896,
   "id": "dc087500",
   "metadata": {
    "hidden": true
   },
   "outputs": [],
   "source": [
    "#convert the text into a spacy document.\n",
    "import textacy\n",
    "\n",
    "def extract_keywords(doc, nlp):\n",
    "    '''\n",
    "    Params:\n",
    "        doc: string document\n",
    "        nlp: spacy language model\n",
    "    Returns:\n",
    "        Dataframe of keywords and their counts\n",
    "    '''\n",
    "    doc = textacy.make_spacy_doc(doc, lang=nlp)\n",
    "\n",
    "    # Extract keywords using TextRank algorithm\n",
    "    keywords = []\n",
    "    for chunk in doc.noun_chunks:\n",
    "        if chunk.text not in nlp.Defaults.stop_words and len(chunk.text) > 1:\n",
    "            keywords.append(chunk.text)\n",
    "\n",
    "    # Get the most common keywords\n",
    "    top_keywords = Counter(keywords).most_common(10)\n",
    "    keyword_df = pd.DataFrame(top_keywords, columns=[\"Keyword\", \"Count\"], index=None)\n",
    "    keyword_df = keyword_df.sort_values(\"Count\", ascending=False)\n",
    "    \n",
    "    return keyword_df"
   ]
  },
  {
   "cell_type": "code",
   "execution_count": 900,
   "id": "a7e21873",
   "metadata": {
    "hidden": true
   },
   "outputs": [
    {
     "data": {
      "text/html": [
       "<div>\n",
       "<style scoped>\n",
       "    .dataframe tbody tr th:only-of-type {\n",
       "        vertical-align: middle;\n",
       "    }\n",
       "\n",
       "    .dataframe tbody tr th {\n",
       "        vertical-align: top;\n",
       "    }\n",
       "\n",
       "    .dataframe thead th {\n",
       "        text-align: right;\n",
       "    }\n",
       "</style>\n",
       "<table border=\"1\" class=\"dataframe\">\n",
       "  <thead>\n",
       "    <tr style=\"text-align: right;\">\n",
       "      <th></th>\n",
       "      <th>Keyword</th>\n",
       "      <th>Count</th>\n",
       "    </tr>\n",
       "  </thead>\n",
       "  <tbody>\n",
       "    <tr>\n",
       "      <th>0</th>\n",
       "      <td>the United States</td>\n",
       "      <td>92</td>\n",
       "    </tr>\n",
       "    <tr>\n",
       "      <th>1</th>\n",
       "      <td>peace</td>\n",
       "      <td>78</td>\n",
       "    </tr>\n",
       "    <tr>\n",
       "      <th>2</th>\n",
       "      <td>the Lower towns</td>\n",
       "      <td>51</td>\n",
       "    </tr>\n",
       "    <tr>\n",
       "      <th>3</th>\n",
       "      <td>the Creeks</td>\n",
       "      <td>45</td>\n",
       "    </tr>\n",
       "    <tr>\n",
       "      <th>4</th>\n",
       "      <td>the Cherokees</td>\n",
       "      <td>36</td>\n",
       "    </tr>\n",
       "    <tr>\n",
       "      <th>5</th>\n",
       "      <td>General Logan</td>\n",
       "      <td>30</td>\n",
       "    </tr>\n",
       "    <tr>\n",
       "      <th>6</th>\n",
       "      <td>It</td>\n",
       "      <td>27</td>\n",
       "    </tr>\n",
       "    <tr>\n",
       "      <th>7</th>\n",
       "      <td>this place</td>\n",
       "      <td>27</td>\n",
       "    </tr>\n",
       "    <tr>\n",
       "      <th>8</th>\n",
       "      <td>the nation</td>\n",
       "      <td>26</td>\n",
       "    </tr>\n",
       "    <tr>\n",
       "      <th>9</th>\n",
       "      <td>the Indians</td>\n",
       "      <td>25</td>\n",
       "    </tr>\n",
       "  </tbody>\n",
       "</table>\n",
       "</div>"
      ],
      "text/plain": [
       "             Keyword  Count\n",
       "0  the United States     92\n",
       "1              peace     78\n",
       "2    the Lower towns     51\n",
       "3         the Creeks     45\n",
       "4      the Cherokees     36\n",
       "5      General Logan     30\n",
       "6                 It     27\n",
       "7         this place     27\n",
       "8         the nation     26\n",
       "9        the Indians     25"
      ]
     },
     "metadata": {},
     "output_type": "display_data"
    }
   ],
   "source": [
    "nlp = spacy.load(\"en_core_web_sm\")\n",
    "keyword_df = extract_keywords(original_docs[3], nlp)\n",
    "display(keyword_df)"
   ]
  },
  {
   "cell_type": "markdown",
   "id": "0b73aa33",
   "metadata": {
    "heading_collapsed": true,
    "hidden": true
   },
   "source": [
    "## Entity Extraction"
   ]
  },
  {
   "cell_type": "code",
   "execution_count": 272,
   "id": "248b6cf6",
   "metadata": {
    "hidden": true
   },
   "outputs": [],
   "source": [
    "sample_doc = \"Inhabited by archaic humans since the Paleolithic era, the territory of Metropolitan France was settled during the Iron Age by Celtic tribes known as Gauls. Rome annexed the area in 51 BC, leading to a distinct Gallo-Roman culture that laid the foundation of the French language. The Germanic Franks formed the Kingdom of Francia, which became the heartland of the Carolingian Empire. The Treaty of Verdun of 843 partitioned the empire, with West Francia becoming the Kingdom of France in 987. In the High Middle Ages, France was a powerful but highly decentralised feudal kingdom. Philip II successfully strengthened royal power and defeated his rivals to double the size of the crown lands; by the end of his reign, France had emerged as the most powerful state in Europe. From the mid-14th to the mid-15th century, France was plunged into a series of dynastic conflicts involving England, collectively known as the Hundred Years' War, and a distinct French identity emerged as a result. \\\n",
    "The French Renaissance saw art and culture flourish, conflict with the House of Habsburg, and the establishment of a French colonial empire, which by the 20th century would become the second-largest in the world. The second half of the 16th century was dominated by religious civil wars between Catholics and Huguenots that severely weakened the country. France again emerged as Europes dominant power in the 17th century under Louis XIV following the Thirty Years War.[16] Inadequate economic policies, inequitable taxes and frequent wars (notably a defeat in the Seven Years War and costly involvement in the American War of Independence) left the kingdom in a precarious economic situation by the end of the 18th century. This precipitated the French Revolution of 1789, which overthrew the Ancien Régime and produced the Declaration of the Rights of Man, which expresses the nations ideals to this day. \\\n",
    "France reached its political and military zenith in the early 19th century under Napoleon Bonaparte, subjugating much of continental Europe and establishing the First French Empire. The French Revolutionary and Napoleonic Wars shaped the course of European and world history. The collapse of the empire initiated a period of relative decline, in which France endured a tumultuous succession of governments until the founding of the French Third Republic during the Franco-Prussian War in 1870. Subsequent decades saw a period of optimism, cultural and scientific flourishing, as well as economic prosperity, known as the Belle Époque. France was one of the major participants of World War I, from which it emerged victorious at a great human and economic cost. It was among the Allied powers of World War II but was soon occupied by the Axis in 1940. Following liberation in 1944, the short-lived Fourth Republic was established and later dissolved in the course of the Algerian War. The current Fifth Republic was formed in 1958 by Charles de Gaulle. Algeria and most French colonies became independent in the 1960s, with the majority retaining close economic and military ties with France.\"\n",
    "#print(sample_doc)\n",
    "# article: https://en.wikipedia.org/wiki/France"
   ]
  },
  {
   "cell_type": "code",
   "execution_count": 629,
   "id": "8fc75781",
   "metadata": {
    "hidden": true
   },
   "outputs": [],
   "source": [
    "def extract_entities(doc):\n",
    "    '''\n",
    "    Extract all valid NER entities from a doc\n",
    "    '''\n",
    "    doc = nlp(doc)\n",
    "    lst_docs = [sent for sent in doc.sents]\n",
    "    \n",
    "    def extract_i(sent):\n",
    "        a, b, prev_dep, prev_txt, prefix, modifier = \"\", \"\",\"\", \"\", \"\", \"\"\n",
    "        for token in sent:\n",
    "            if token.dep_ != \"punct\":\n",
    "                ## prexif --> prev_compound + compound if token.dep_ == \"compound\":\n",
    "                prefix = prev_txt + \" \" + token.text if prev_dep == \"compound\" else prev_txt\n",
    "\n",
    "                ## modifier --> prev_compound + %mod \n",
    "                if token.dep_.endswith(\"mod\") == True:\n",
    "                    modifier = prev_txt + \" \" + token.text if prev_dep == \"compound\" else token.text\n",
    "\n",
    "                ## subject --> modifier + prefix + %subj \n",
    "                if token.dep_.find(\"subj\") == True:\n",
    "                    a = modifier + \" \" + prefix + \" \"+ token.text\n",
    "                    prefix, modifier, prev_dep, prev_txt = \"\", \"\", \"\", \"\"\n",
    "\n",
    "                ## if object --> modifier + prefix + %obj \n",
    "                if token.dep_.find(\"obj\") == True:\n",
    "\n",
    "                    b = modifier + \" \" + prefix + \" \" + token.text\n",
    "\n",
    "                prev_dep, prev_txt = token.dep_, token.text\n",
    "\n",
    "        # clean\n",
    "        a = \" \".join([i for i in a.split()])\n",
    "        b = \" \".join([i for i in b.split()])\n",
    "        return (a.strip(), b.strip())\n",
    "    \n",
    "    entities = [extract_i(i) for i in tqdm(lst_docs, desc=\"Extracting \", unit='sentence')]\n",
    "    return entities\n",
    "\n",
    "# The relation extraction requires the rule-based matching tool,\n",
    "# an improved version of regular expressions on raw text.\n",
    "def extract_relations(doc, nlp=spacy.load(\"en_core_web_sm\")):\n",
    "    '''\n",
    "    doc: doc as a single string\n",
    "    returns list of relations between parts of speech (customizable below)\n",
    "    '''\n",
    "    def extract_i(sent):\n",
    "        matcher = spacy.matcher.Matcher(nlp.vocab)\n",
    "        p1 = [{'DEP': 'ROOT'},\n",
    "            {'DEP': 'prep', 'OP':\"?\"},\n",
    "            {'DEP': 'agent', 'OP':\"?\"},\n",
    "            {'POS': 'ADJ', 'OP':\"?\"}]\n",
    "        matcher.add(key=\"matching_1\", patterns=[p1])\n",
    "        matches = matcher(sent)\n",
    "        k = len(matches) - 1\n",
    "        span = sent[matches[k][1]:matches[k][2]] \n",
    "        return span.text\n",
    "    \n",
    "    doc = nlp(doc)\n",
    "    lst_docs = [sent for sent in doc.sents]\n",
    "    \n",
    "    relations = [extract_i(i) for i in tqdm(lst_docs, desc=\"Extracting \", unit='sentence')]\n",
    "    return relations\n",
    "\n",
    "def extract_attributes(doc, attr_type=None):\n",
    "    '''\n",
    "    Construct a dataframe detailing relations between extracted entities\n",
    "    doc: doc as a single string\n",
    "    attr_type: see list below for filters, must be list of strings\n",
    "    Returns df if no attr_type passed or a second filtered_df containing sentences with attr_type\n",
    "\n",
    "    Valid NER tags for attr_type:\n",
    "        - PERSON: people, including fictional.\n",
    "        - NORP: nationalities or religious or political groups.\n",
    "        - FAC: buildings, airports, highways, bridges, etc.\n",
    "        - ORG: companies, agencies, institutions, etc.\n",
    "        - GPE: countries, cities, states.\n",
    "        - LOC: non-GPE locations, mountain ranges, bodies of water. - PRODUCT: objects, vehicles, foods, etc. (Not services.)\n",
    "        - EVENT: named hurricanes, battles, wars, sports events, etc. - WORK_OF_ART: titles of books, songs, etc.\n",
    "        - LAW: named documents made into laws.\n",
    "        - LANGUAGE: any named language.\n",
    "        - DATE: absolute or relative dates or periods.\n",
    "        - TIME: times smaller than a day.\n",
    "        - PERCENT: percentage, including “%”.\n",
    "        - MONEY: monetary values, including unit.\n",
    "        - QUANTITY: measurements, as of weight or distance.\n",
    "    '''\n",
    "    # Using rule based tags less accurate\n",
    "    '''\n",
    "    doc = nlp(doc)\n",
    "    attributes = []\n",
    "    \n",
    "    for sent in doc.sents:\n",
    "        lst_attr = []\n",
    "        attr = \"\"\n",
    "        for tag in sent.ents:\n",
    "            attr = attr + tag.text if tag.label_==\"DATE\" else attr + \"\"\n",
    "            lst_attr.append(attr)\n",
    "        attributes.append(lst_attr)\n",
    "    \n",
    "    return attributes\n",
    "    '''\n",
    "    # ================ No filter: Textacy implmentation more accurate ==================\n",
    "    doc = nlp(doc)\n",
    "    dic = {\"id\":[], \"text\":[], \"entity\":[], \"relation\":[], \"object\":[]}\n",
    "    for n, sentence in enumerate(doc.sents):\n",
    "        lst_generators = list(textacy.extract.subject_verb_object_triples(sentence)) \n",
    "        for sent in lst_generators:\n",
    "            subj = \"_\".join(map(str, sent.subject)) \n",
    "            obj = \"_\".join(map(str, sent.object)) \n",
    "            relation = \"_\".join(map(str, sent.verb))\n",
    "            dic[\"id\"].append(n) \n",
    "            dic[\"text\"].append(sentence.text) \n",
    "            dic[\"entity\"].append(subj) \n",
    "            dic[\"object\"].append(obj) \n",
    "            dic[\"relation\"].append(relation)\n",
    "            \n",
    "    ## create dataframe\n",
    "    df = pd.DataFrame(dic)\n",
    "    \n",
    "    # ================ apply NER filters ====================\n",
    "    \n",
    "    if attr_type is not None:\n",
    "        # Extraction using attribute filters\n",
    "        dic = {\"id\":[], \"text\":[], \"entity\":[], \"relation\":[], \"object\":[]}\n",
    "        dic.update({attr: [] for attr in attr_type})\n",
    "        \n",
    "        # Register 'types' extension for span objects\n",
    "        spacy.tokens.Span.set_extension(\"types\", default=None, force=True)\n",
    "        \n",
    "        count = 0\n",
    "        for n, sentence in enumerate(doc.sents):\n",
    "            lst = list(textacy.extract.entities(sentence, include_types=attr_type)) \n",
    "            \n",
    "            if len(lst) > 0:\n",
    "                \n",
    "                lst_generators = list(textacy.extract.subject_verb_object_triples(sentence)) \n",
    "                \n",
    "                # if no tuple found append \"\"\n",
    "                if len(lst_generators) == 0:\n",
    "                    dic[\"entity\"] += [\"\"] \n",
    "                    dic[\"object\"] += [\"\"] \n",
    "                    dic[\"relation\"] += [\"\"]\n",
    "\n",
    "                for pair in lst_generators:\n",
    "                    subj = \"_\".join(map(str, pair.subject)) \n",
    "                    obj = \"_\".join(map(str, pair.object)) \n",
    "                    relation = \"_\".join(map(str, pair.verb))\n",
    "                    dic[\"entity\"].append(subj) \n",
    "                    dic[\"object\"].append(obj) \n",
    "                    dic[\"relation\"].append(relation)\n",
    "                \n",
    "                \n",
    "                for attr in lst:\n",
    "                    #print(len(lst))\n",
    "                    dic[\"id\"].append(n) \n",
    "                    count += 1\n",
    "                    dic[\"text\"].append(sentence.text) \n",
    "                    ner_labels = nlp.get_pipe(\"ner\").labels\n",
    "                    \n",
    "                    text = nlp(str(attr))\n",
    "                    label = [ent.label_ for ent in text.ents]\n",
    "                    if len(label) == 0 or label[0] not in attr_type: # fail case where entity doesn't match\n",
    "                        label = attr_type[0]\n",
    "                    else:\n",
    "                        label = label[0]\n",
    "                    \n",
    "                    if label in ner_labels:\n",
    "                        dic[label].append(str(attr))\n",
    "                    else:\n",
    "                        dic[label].append(\"\")\n",
    "            \n",
    "            # no entities found\n",
    "            else:\n",
    "                dic[\"id\"].append(n)\n",
    "                dic[\"text\"].append(sentence.text)\n",
    "                for i in attr_type:\n",
    "                    dic[i].append(\"\")\n",
    "        \n",
    "        # ==================== Post-processing Dictionary =====================\n",
    "        '''\n",
    "        for i in dic:\n",
    "            print(i, \"==\", len(dic[i]))\n",
    "        ''' \n",
    "        # make sure all cols are same length\n",
    "        max_length = max(len(dic[i]) for i in dic)\n",
    "        for attr_name in attr_type:\n",
    "            dic[attr_name] += [\"\"] * (max_length - len(dic[attr_name]))\n",
    "            \n",
    "        # fill in empty cells in dataframe\n",
    "        min_length = min(len(dic[i]) for i in dic)\n",
    "        \n",
    "        #print(\"Min length:\", min_length)\n",
    "        #print(\"Max length:\",max_length)\n",
    "        #print(\"Total attr:\", count)\n",
    "        \n",
    "        # helper for removing last n elements of list\n",
    "        \n",
    "        lengths = [(len(value)-min_length) for key, value in dic.items()]\n",
    "\n",
    "        #dic = {key: value[:-(len(value)-min_length)] for key, value in dic.items()}\n",
    "        dic = {key: pop_last_n(value, len(value)-min_length) for key, value in dic.items()}\n",
    "            \n",
    "        filtered_df = pd.DataFrame(dic)\n",
    "        #filtered_df = filtered_df[~filtered_df[attr_type].isna()]\n",
    "                \n",
    "        return df, filtered_df\n",
    "    else:\n",
    "        return df"
   ]
  },
  {
   "cell_type": "code",
   "execution_count": 655,
   "id": "e1ebefe6",
   "metadata": {
    "hidden": true
   },
   "outputs": [
    {
     "name": "stderr",
     "output_type": "stream",
     "text": [
      "Extracting : 100%|██████████████████████████| 22/22 [00:00<00:00, 9105.46sentence/s]\n",
      "Extracting : 100%|██████████████████████████| 22/22 [00:00<00:00, 1101.09sentence/s]\n"
     ]
    },
    {
     "data": {
      "text/html": [
       "<div>\n",
       "<style scoped>\n",
       "    .dataframe tbody tr th:only-of-type {\n",
       "        vertical-align: middle;\n",
       "    }\n",
       "\n",
       "    .dataframe tbody tr th {\n",
       "        vertical-align: top;\n",
       "    }\n",
       "\n",
       "    .dataframe thead th {\n",
       "        text-align: right;\n",
       "    }\n",
       "</style>\n",
       "<table border=\"1\" class=\"dataframe\">\n",
       "  <thead>\n",
       "    <tr style=\"text-align: right;\">\n",
       "      <th></th>\n",
       "      <th>id</th>\n",
       "      <th>text</th>\n",
       "      <th>entity</th>\n",
       "      <th>relation</th>\n",
       "      <th>object</th>\n",
       "      <th>DATE</th>\n",
       "      <th>ORG</th>\n",
       "    </tr>\n",
       "  </thead>\n",
       "  <tbody>\n",
       "    <tr>\n",
       "      <th>0</th>\n",
       "      <td>0</td>\n",
       "      <td>Inhabited by archaic humans since the Paleolit...</td>\n",
       "      <td>territory</td>\n",
       "      <td>was_settled</td>\n",
       "      <td>tribes</td>\n",
       "      <td>Paleolithic</td>\n",
       "      <td>Metropolitan France</td>\n",
       "    </tr>\n",
       "    <tr>\n",
       "      <th>1</th>\n",
       "      <td>0</td>\n",
       "      <td>Inhabited by archaic humans since the Paleolit...</td>\n",
       "      <td>Rome</td>\n",
       "      <td>annexed</td>\n",
       "      <td>area</td>\n",
       "      <td></td>\n",
       "      <td>BC</td>\n",
       "    </tr>\n",
       "    <tr>\n",
       "      <th>2</th>\n",
       "      <td>1</td>\n",
       "      <td>Rome annexed the area in 51 BC, leading to a d...</td>\n",
       "      <td>that</td>\n",
       "      <td>laid</td>\n",
       "      <td>foundation</td>\n",
       "      <td></td>\n",
       "      <td>Germanic Franks</td>\n",
       "    </tr>\n",
       "    <tr>\n",
       "      <th>3</th>\n",
       "      <td>2</td>\n",
       "      <td>The Germanic Franks formed the Kingdom of Fran...</td>\n",
       "      <td>Germanic_Franks</td>\n",
       "      <td>formed</td>\n",
       "      <td>Kingdom</td>\n",
       "      <td>mid-14th</td>\n",
       "      <td></td>\n",
       "    </tr>\n",
       "    <tr>\n",
       "      <th>4</th>\n",
       "      <td>3</td>\n",
       "      <td>The Treaty of Verdun of 843 partitioned the em...</td>\n",
       "      <td>Philip_II</td>\n",
       "      <td>strengthened</td>\n",
       "      <td>power</td>\n",
       "      <td>mid-15th century</td>\n",
       "      <td></td>\n",
       "    </tr>\n",
       "  </tbody>\n",
       "</table>\n",
       "</div>"
      ],
      "text/plain": [
       "   id                                               text           entity  \\\n",
       "0   0  Inhabited by archaic humans since the Paleolit...        territory   \n",
       "1   0  Inhabited by archaic humans since the Paleolit...             Rome   \n",
       "2   1  Rome annexed the area in 51 BC, leading to a d...             that   \n",
       "3   2  The Germanic Franks formed the Kingdom of Fran...  Germanic_Franks   \n",
       "4   3  The Treaty of Verdun of 843 partitioned the em...        Philip_II   \n",
       "\n",
       "       relation      object              DATE                  ORG  \n",
       "0   was_settled      tribes       Paleolithic  Metropolitan France  \n",
       "1       annexed        area                                     BC  \n",
       "2          laid  foundation                        Germanic Franks  \n",
       "3        formed     Kingdom          mid-14th                       \n",
       "4  strengthened       power  mid-15th century                       "
      ]
     },
     "metadata": {},
     "output_type": "display_data"
    },
    {
     "data": {
      "text/plain": [
       "'\\nprint(\"===== Entities ========\")\\n\\nfor i in entities:\\n    print(i)\\n    \\nprint(\"===== Relations ========\")\\n\\nfor i in relations:\\n    print(i)\\n    \\nprint(\"===== Attributes ========\")\\n'"
      ]
     },
     "execution_count": 655,
     "metadata": {},
     "output_type": "execute_result"
    }
   ],
   "source": [
    "\n",
    "## extract entities\n",
    "entities = extract_entities(sample_doc)# original_docs[0])\n",
    "## extract relations\n",
    "relations = extract_relations(sample_doc) #original_docs[0])\n",
    "## extract relations\n",
    "attributes, filtered = extract_attributes(sample_doc, ['DATE', 'ORG']) #original_docs[0])\n",
    "#display(attributes)\n",
    "display(filtered.head())\n",
    "\n",
    "'''\n",
    "print(\"===== Entities ========\")\n",
    "\n",
    "for i in entities:\n",
    "    print(i)\n",
    "    \n",
    "print(\"===== Relations ========\")\n",
    "\n",
    "for i in relations:\n",
    "    print(i)\n",
    "    \n",
    "print(\"===== Attributes ========\")\n",
    "'''\n",
    "\n"
   ]
  },
  {
   "cell_type": "code",
   "execution_count": 558,
   "id": "9e7f4a5d",
   "metadata": {
    "hidden": true
   },
   "outputs": [
    {
     "data": {
      "text/plain": [
       "\"From the mid-14th to the mid-15th century, France was plunged into a series of dynastic conflicts involving England, collectively known as the Hundred Years' War, and a distinct French identity emerged as a result.\""
      ]
     },
     "execution_count": 558,
     "metadata": {},
     "output_type": "execute_result"
    }
   ],
   "source": [
    "filtered['text'][8]"
   ]
  },
  {
   "cell_type": "markdown",
   "id": "dd110cbe",
   "metadata": {
    "heading_collapsed": true,
    "hidden": true
   },
   "source": [
    "## Network Graphs and Charts"
   ]
  },
  {
   "cell_type": "code",
   "execution_count": 636,
   "id": "83b07c10",
   "metadata": {
    "hidden": true
   },
   "outputs": [],
   "source": [
    "import spacy\n",
    "import textacy #.ke\n",
    "from textacy import *\n",
    "import networkx as nx\n",
    "import dateparser\n",
    "from spacy import displacy\n",
    "\n",
    "nlp = spacy.load(\"en_core_web_sm\")\n",
    "\n",
    "def doc2network(doc, df=extract_attributes(doc), render=False, settings=(0, 0, 0), render_dist=100):\n",
    "    '''\n",
    "    Params: \n",
    "        doc: single string untokenized doc\n",
    "        render: toggle for drawing dependency and NER graphs\n",
    "        settings: if render is True tuple turns on which graphs to draw, values are 0 or 1\n",
    "        style: ranges from 1 to 3 for kind of network graph to draw\n",
    "        render_dist: max distance linking dependencies in graph\n",
    "    Returns: \n",
    "        ent_counts: entity counts\n",
    "        G: the document graph as nx object\n",
    "    '''\n",
    "    doc = nlp(doc)\n",
    "    lst_docs = [sent for sent in doc.sents]\n",
    "\n",
    "    if render:\n",
    "        if settings[0]: # draw dependency graph for first sentence\n",
    "            displacy.render(lst_docs[0], style=\"dep\", options={\"distance\":render_dist})\n",
    "            \n",
    "        if settings[1]: # draw NER colors\n",
    "            for sent in lst_docs:\n",
    "                #for tag in sent.ents:\n",
    "                    #print(tag.text, f\"({tag.label_})\")\n",
    "                displacy.render(sent, style=\"ent\")\n",
    "\n",
    "        # Network Graphs\n",
    "        G = nx.from_pandas_edgelist(df, source=\"entity\", target=\"object\", edge_attr=\"relation\", create_using=nx.DiGraph())\n",
    "        if settings[2]:\n",
    "            plt.figure(figsize=(15,10))\n",
    "\n",
    "            pos = nx.spring_layout(G, k=1) \n",
    "            node_color = \"skyblue\" \n",
    "            edge_color = \"black\"\n",
    "            nx.draw(G, pos=pos, with_labels=True, node_color=node_color, \n",
    "                    edge_color=edge_color, cmap=plt.cm.Dark2, node_size=2000, connectionstyle='arc3,rad=0.1')\n",
    "            nx.draw_networkx_edge_labels(G, pos=pos, label_pos=0.5, \n",
    "                    edge_labels=nx.get_edge_attributes(G,'relation'),\n",
    "                    font_size=12, font_color='black', alpha=0.6)\n",
    "            plt.show()\n",
    "            \n",
    "    ent_counts = df[\"entity\"].value_counts().head()\n",
    "    return ent_counts, G\n",
    "        \n",
    "def filter_network(G, filter_, df=extract_attributes(doc)):\n",
    "    ## filter\n",
    "    tmp = df[(df[\"entity\"]==filter_) | (df[\"object\"]==filter_)]\n",
    "    if len(tmp) == 0:\n",
    "        print(\"Filter keyword is not in doc entities.\")\n",
    "        \n",
    "    ## create small graph\n",
    "    G = nx.from_pandas_edgelist(tmp, source=\"entity\", target=\"object\", \n",
    "                                edge_attr=\"relation\", create_using=nx.DiGraph())\n",
    "\n",
    "    plt.figure(figsize=(15,10))\n",
    "    pos = nx.spring_layout(G)\n",
    "    node_color = [\"red\" if node==filter_ else \"skyblue\" for node in G.nodes] \n",
    "    edge_color = [\"red\" if edge[0]==filter_ else \"black\" for edge in G.edges]\n",
    "    nx.draw(G, pos=pos, with_labels=True, node_color=node_color, \n",
    "            edge_color=edge_color, cmap=plt.cm.Dark2,\n",
    "            node_size=2000, node_shape=\"o\", connectionstyle='arc3,rad=0.1')\n",
    "    edge_labels = nx.get_edge_attributes(G, 'relation')\n",
    "    nx.draw_networkx_edge_labels(G, pos=pos, edge_labels=edge_labels, \n",
    "            font_size=12, font_color='black', alpha=0.6)\n",
    "    plt.show()"
   ]
  },
  {
   "cell_type": "code",
   "execution_count": 527,
   "id": "2197e717",
   "metadata": {
    "hidden": true
   },
   "outputs": [
    {
     "name": "stdout",
     "output_type": "stream",
     "text": [
      "entity\n",
      "which        2\n",
      "that         2\n",
      "Philip_II    2\n",
      "France       2\n",
      "territory    1\n",
      "Name: count, dtype: int64\n"
     ]
    }
   ],
   "source": [
    "\n",
    "ent_counts, graph = doc2network(sample_doc, attributes, True, (0, 0, 0))\n",
    "print(ent_counts)"
   ]
  },
  {
   "cell_type": "code",
   "execution_count": 639,
   "id": "5281a50f",
   "metadata": {
    "hidden": true
   },
   "outputs": [],
   "source": [
    "# graph network filtered for keyword node\n",
    "#filter_network(graph, \"France\", attributes)"
   ]
  },
  {
   "cell_type": "code",
   "execution_count": 640,
   "id": "827ecfc5",
   "metadata": {
    "hidden": true
   },
   "outputs": [],
   "source": [
    "# 3D representations\n",
    "\n",
    "from mpl_toolkits.mplot3d import Axes3D\n",
    "\n",
    "def filter_network_3D(G, filter_):\n",
    "    f = filter_\n",
    "    fig = plt.figure(figsize=(15,10))\n",
    "    ax = fig.add_subplot(111, projection=\"3d\")\n",
    "    pos = nx.spring_layout(G, k=2.5, dim=3)\n",
    "\n",
    "    nodes = np.array([pos[v] for v in sorted(G) if v!=f]) \n",
    "    center_node = np.array([pos[v] for v in sorted(G) if v==f])\n",
    "\n",
    "    edges = np.array([(pos[u],pos[v]) for u,v in G.edges() if v!=f]) \n",
    "    center_edges = np.array([(pos[u],pos[v]) for u,v in G.edges() if v==f])\n",
    "\n",
    "    ax.scatter(*nodes.T, s=200, ec=\"w\", c=\"skyblue\", alpha=0.5) \n",
    "    ax.scatter(*center_node.T, s=200, c=\"red\", alpha=0.5)\n",
    "\n",
    "    for link in edges:\n",
    "        ax.plot(*link.T, color=\"grey\", lw=0.5)\n",
    "    for link in center_edges: \n",
    "        ax.plot(*link.T, color=\"red\", lw=0.5)\n",
    "    for v in sorted(G): \n",
    "        ax.text(*pos[v].T, s=v)\n",
    "    for u,v in G.edges():\n",
    "        attr = nx.get_edge_attributes(G, \"relation\")[(u,v)] \n",
    "        ax.text(*((pos[u]+pos[v])/2).T, s=attr)\n",
    "\n",
    "    ax.set(xlabel=None, ylabel=None, zlabel=None, xticklabels=[], yticklabels=[], zticklabels=[])\n",
    "    ax.grid(False)\n",
    "\n",
    "    for dim in (ax.xaxis, ax.yaxis, ax.zaxis):\n",
    "        dim.set_ticks([]) \n",
    "    plt.show()"
   ]
  },
  {
   "cell_type": "code",
   "execution_count": 521,
   "id": "4170c9dd",
   "metadata": {
    "hidden": true
   },
   "outputs": [
    {
     "data": {
      "image/png": "[encoded data removed]",
      "text/plain": [
       "<Figure size 1080x720 with 1 Axes>"
      ]
     },
     "metadata": {},
     "output_type": "display_data"
    }
   ],
   "source": [
    "filter_network_3D(G, \"kingdom\")"
   ]
  },
  {
   "cell_type": "code",
   "execution_count": 654,
   "id": "39a4f75b",
   "metadata": {
    "hidden": true,
    "scrolled": true
   },
   "outputs": [
    {
     "data": {
      "text/html": [
       "<div>\n",
       "<style scoped>\n",
       "    .dataframe tbody tr th:only-of-type {\n",
       "        vertical-align: middle;\n",
       "    }\n",
       "\n",
       "    .dataframe tbody tr th {\n",
       "        vertical-align: top;\n",
       "    }\n",
       "\n",
       "    .dataframe thead th {\n",
       "        text-align: right;\n",
       "    }\n",
       "</style>\n",
       "<table border=\"1\" class=\"dataframe\">\n",
       "  <thead>\n",
       "    <tr style=\"text-align: right;\">\n",
       "      <th></th>\n",
       "      <th>id</th>\n",
       "      <th>text</th>\n",
       "      <th>entity</th>\n",
       "      <th>relation</th>\n",
       "      <th>object</th>\n",
       "      <th>DATE</th>\n",
       "      <th>ORG</th>\n",
       "      <th>dt</th>\n",
       "    </tr>\n",
       "  </thead>\n",
       "  <tbody>\n",
       "    <tr>\n",
       "      <th>0</th>\n",
       "      <td>0</td>\n",
       "      <td>Inhabited by archaic humans since the Paleolit...</td>\n",
       "      <td>territory</td>\n",
       "      <td>was_settled</td>\n",
       "      <td>tribes</td>\n",
       "      <td>Paleolithic</td>\n",
       "      <td>Metropolitan France</td>\n",
       "      <td>NaN</td>\n",
       "    </tr>\n",
       "    <tr>\n",
       "      <th>1</th>\n",
       "      <td>0</td>\n",
       "      <td>Inhabited by archaic humans since the Paleolit...</td>\n",
       "      <td>Rome</td>\n",
       "      <td>annexed</td>\n",
       "      <td>area</td>\n",
       "      <td></td>\n",
       "      <td>BC</td>\n",
       "      <td>NaN</td>\n",
       "    </tr>\n",
       "    <tr>\n",
       "      <th>2</th>\n",
       "      <td>1</td>\n",
       "      <td>Rome annexed the area in 51 BC, leading to a d...</td>\n",
       "      <td>that</td>\n",
       "      <td>laid</td>\n",
       "      <td>foundation</td>\n",
       "      <td></td>\n",
       "      <td>Germanic Franks</td>\n",
       "      <td>NaN</td>\n",
       "    </tr>\n",
       "    <tr>\n",
       "      <th>3</th>\n",
       "      <td>2</td>\n",
       "      <td>The Germanic Franks formed the Kingdom of Fran...</td>\n",
       "      <td>Germanic_Franks</td>\n",
       "      <td>formed</td>\n",
       "      <td>Kingdom</td>\n",
       "      <td>mid-14th</td>\n",
       "      <td></td>\n",
       "      <td>NaN</td>\n",
       "    </tr>\n",
       "    <tr>\n",
       "      <th>4</th>\n",
       "      <td>3</td>\n",
       "      <td>The Treaty of Verdun of 843 partitioned the em...</td>\n",
       "      <td>Philip_II</td>\n",
       "      <td>strengthened</td>\n",
       "      <td>power</td>\n",
       "      <td>mid-15th century</td>\n",
       "      <td></td>\n",
       "      <td>NaN</td>\n",
       "    </tr>\n",
       "  </tbody>\n",
       "</table>\n",
       "</div>"
      ],
      "text/plain": [
       "   id                                               text           entity  \\\n",
       "0   0  Inhabited by archaic humans since the Paleolit...        territory   \n",
       "1   0  Inhabited by archaic humans since the Paleolit...             Rome   \n",
       "2   1  Rome annexed the area in 51 BC, leading to a d...             that   \n",
       "3   2  The Germanic Franks formed the Kingdom of Fran...  Germanic_Franks   \n",
       "4   3  The Treaty of Verdun of 843 partitioned the em...        Philip_II   \n",
       "\n",
       "       relation      object              DATE                  ORG  dt  \n",
       "0   was_settled      tribes       Paleolithic  Metropolitan France NaN  \n",
       "1       annexed        area                                     BC NaN  \n",
       "2          laid  foundation                        Germanic Franks NaN  \n",
       "3        formed     Kingdom          mid-14th                      NaN  \n",
       "4  strengthened       power  mid-15th century                      NaN  "
      ]
     },
     "execution_count": 654,
     "metadata": {},
     "output_type": "execute_result"
    }
   ],
   "source": [
    "df = filtered\n",
    "df.head()"
   ]
  },
  {
   "cell_type": "markdown",
   "id": "c81a05f5",
   "metadata": {
    "hidden": true
   },
   "source": [
    "## Network Graph Analysis"
   ]
  },
  {
   "cell_type": "code",
   "execution_count": 860,
   "id": "b7bd5364",
   "metadata": {
    "hidden": true
   },
   "outputs": [],
   "source": [
    "import networkx as nx\n",
    "import community\n",
    "\n",
    "def graph_stats(G):\n",
    "    graph_stats = {}\n",
    "    node_metrics = {}\n",
    "    node_metrics_df = {}\n",
    "    connectedness = {}\n",
    "    embeddedness = {}\n",
    "    \n",
    "    for node in G.nodes:\n",
    "        neighbors = list(G.neighbors(node))\n",
    "        connectedness[node] = len(neighbors)\n",
    "        embeddedness[node] = sum([len(list(G.neighbors(neighbor))) for neighbor in neighbors])\n",
    "        \n",
    "    # Calculate significance score for each node and node metrics\n",
    "    score = {node: (connectedness[node]+1) * (embeddedness[node]+1) for node in G.nodes}\n",
    "\n",
    "    try:\n",
    "        node_metrics['Eigen-centrality'] = nx.eigenvector_centrality(G)\n",
    "        node_metrics['Ave Shortest Path'] = nx.average_shortest_path_length(G)\n",
    "        node_metrics['Diameter'] = nx.diameter(G)\n",
    "    except:\n",
    "        print(\"Graph is not fully connected\")\n",
    "        \n",
    "    #node_metrics['Degree Hist'] = nx.degree_histogram(G)\n",
    "    node_metrics['Betweenness Centrality'] = nx.betweenness_centrality(G)\n",
    "    node_metrics['Closeness Centrality'] = nx.closeness_centrality(G)\n",
    "    node_metrics['Degree Centrality'] = nx.degree_centrality(G)\n",
    "    node_metrics['Clustering Coeff'] = nx.clustering(G)\n",
    "    node_metrics['Connectedness'] = connectedness\n",
    "    node_metrics['Embeddedness'] = embeddedness\n",
    "    node_metrics['Scores'] = score\n",
    "    \n",
    "    # node_metrics is a dictionary of dictionaries\n",
    "    \n",
    "    for k, metric in node_metrics.items():\n",
    "        for key, value in metric.items():\n",
    "            if key not in node_metrics_df.keys():\n",
    "                node_metrics_df[key] = []\n",
    "                node_metrics_df[key].append(value)\n",
    "            else:\n",
    "                node_metrics_df[key].append(value)\n",
    "            \n",
    "    \n",
    "    # Find the node with the maximum significance score\n",
    "    max_node = max(score, key=score.get)\n",
    "    max_score = max(score.values())\n",
    "    \n",
    "    connectedness = pd.DataFrame(list(connectedness.items()), columns=['Node', 'Connectedness'])\n",
    "    embeddedness = pd.DataFrame(list(embeddedness.items()), columns=['Node', 'Embeddedness'])\n",
    "    max_node_neighbors = list(G.neighbors(max_node))\n",
    "    \n",
    "    # overall graph statistics\n",
    "    \n",
    "    graph_stats['Nodes'] = G.number_of_nodes()\n",
    "    graph_stats['Assortativity Coeff'] = nx.degree_assortativity_coefficient(G)\n",
    "    graph_stats['Transitivity'] = nx.transitivity(G)\n",
    "    \n",
    "    # community detection within entity network\n",
    "    '''\n",
    "    # Perform Louvain community detection\n",
    "    louvain_communities = community.best_partition(G)\n",
    "\n",
    "    # Perform Girvan-Newman community detection\n",
    "    girvan_newman_communities = tuple(nx.community.girvan_newman(G))\n",
    "\n",
    "    # Print the results\n",
    "    print(\"Louvain communities:\")\n",
    "    for node, community_id in louvain_communities.items():\n",
    "        print(f\"Node {node}: Community {community_id}\")\n",
    "\n",
    "    print(\"\\nGirvan-Newman communities:\")\n",
    "    for idx, communities in enumerate(girvan_newman_communities):\n",
    "        print(f\"Level {idx}: {communities}\")\n",
    "    '''\n",
    "    \n",
    "    df_graph = pd.DataFrame(graph_stats, index=[\"Graph Stats\"], columns=graph_stats.keys())\n",
    "    df_nodes = pd.DataFrame(node_metrics)\n",
    "    df_nodes = df_nodes.rename(columns={0: 'Entity'})\n",
    "\n",
    "    df_nodes = df_nodes.sort_values('Closeness Centrality', ascending=False)\n",
    "    \n",
    "    return df_graph, df_nodes, max_node, max_score, max_node_neighbors\n"
   ]
  },
  {
   "cell_type": "code",
   "execution_count": 862,
   "id": "ec2be76a",
   "metadata": {
    "hidden": true,
    "scrolled": false
   },
   "outputs": [
    {
     "name": "stdout",
     "output_type": "stream",
     "text": [
      "Graph is not fully connected\n"
     ]
    },
    {
     "data": {
      "text/html": [
       "<div>\n",
       "<style scoped>\n",
       "    .dataframe tbody tr th:only-of-type {\n",
       "        vertical-align: middle;\n",
       "    }\n",
       "\n",
       "    .dataframe tbody tr th {\n",
       "        vertical-align: top;\n",
       "    }\n",
       "\n",
       "    .dataframe thead th {\n",
       "        text-align: right;\n",
       "    }\n",
       "</style>\n",
       "<table border=\"1\" class=\"dataframe\">\n",
       "  <thead>\n",
       "    <tr style=\"text-align: right;\">\n",
       "      <th></th>\n",
       "      <th>Nodes</th>\n",
       "      <th>Assortativity Coeff</th>\n",
       "      <th>Transitivity</th>\n",
       "    </tr>\n",
       "  </thead>\n",
       "  <tbody>\n",
       "    <tr>\n",
       "      <th>Graph Stats</th>\n",
       "      <td>37</td>\n",
       "      <td>-0.254514</td>\n",
       "      <td>0</td>\n",
       "    </tr>\n",
       "  </tbody>\n",
       "</table>\n",
       "</div>"
      ],
      "text/plain": [
       "             Nodes  Assortativity Coeff  Transitivity\n",
       "Graph Stats     37            -0.254514             0"
      ]
     },
     "metadata": {},
     "output_type": "display_data"
    },
    {
     "data": {
      "text/html": [
       "<div>\n",
       "<style scoped>\n",
       "    .dataframe tbody tr th:only-of-type {\n",
       "        vertical-align: middle;\n",
       "    }\n",
       "\n",
       "    .dataframe tbody tr th {\n",
       "        vertical-align: top;\n",
       "    }\n",
       "\n",
       "    .dataframe thead th {\n",
       "        text-align: right;\n",
       "    }\n",
       "</style>\n",
       "<table border=\"1\" class=\"dataframe\">\n",
       "  <thead>\n",
       "    <tr style=\"text-align: right;\">\n",
       "      <th></th>\n",
       "      <th>Betweenness Centrality</th>\n",
       "      <th>Closeness Centrality</th>\n",
       "      <th>Degree Centrality</th>\n",
       "      <th>Clustering Coeff</th>\n",
       "      <th>Connectedness</th>\n",
       "      <th>Embeddedness</th>\n",
       "      <th>Scores</th>\n",
       "    </tr>\n",
       "  </thead>\n",
       "  <tbody>\n",
       "    <tr>\n",
       "      <th>period</th>\n",
       "      <td>0.0</td>\n",
       "      <td>0.055556</td>\n",
       "      <td>0.055556</td>\n",
       "      <td>0</td>\n",
       "      <td>0</td>\n",
       "      <td>0</td>\n",
       "      <td>1</td>\n",
       "    </tr>\n",
       "    <tr>\n",
       "      <th>ties</th>\n",
       "      <td>0.0</td>\n",
       "      <td>0.027778</td>\n",
       "      <td>0.027778</td>\n",
       "      <td>0</td>\n",
       "      <td>0</td>\n",
       "      <td>0</td>\n",
       "      <td>1</td>\n",
       "    </tr>\n",
       "    <tr>\n",
       "      <th>zenith</th>\n",
       "      <td>0.0</td>\n",
       "      <td>0.027778</td>\n",
       "      <td>0.027778</td>\n",
       "      <td>0</td>\n",
       "      <td>0</td>\n",
       "      <td>0</td>\n",
       "      <td>1</td>\n",
       "    </tr>\n",
       "    <tr>\n",
       "      <th>Ancien_Régime</th>\n",
       "      <td>0.0</td>\n",
       "      <td>0.027778</td>\n",
       "      <td>0.027778</td>\n",
       "      <td>0</td>\n",
       "      <td>0</td>\n",
       "      <td>0</td>\n",
       "      <td>1</td>\n",
       "    </tr>\n",
       "    <tr>\n",
       "      <th>French_Revolution</th>\n",
       "      <td>0.0</td>\n",
       "      <td>0.027778</td>\n",
       "      <td>0.027778</td>\n",
       "      <td>0</td>\n",
       "      <td>0</td>\n",
       "      <td>0</td>\n",
       "      <td>1</td>\n",
       "    </tr>\n",
       "  </tbody>\n",
       "</table>\n",
       "</div>"
      ],
      "text/plain": [
       "                   Betweenness Centrality  Closeness Centrality  \\\n",
       "period                                0.0              0.055556   \n",
       "ties                                  0.0              0.027778   \n",
       "zenith                                0.0              0.027778   \n",
       "Ancien_Régime                         0.0              0.027778   \n",
       "French_Revolution                     0.0              0.027778   \n",
       "\n",
       "                   Degree Centrality  Clustering Coeff  Connectedness  \\\n",
       "period                      0.055556                 0              0   \n",
       "ties                        0.027778                 0              0   \n",
       "zenith                      0.027778                 0              0   \n",
       "Ancien_Régime               0.027778                 0              0   \n",
       "French_Revolution           0.027778                 0              0   \n",
       "\n",
       "                   Embeddedness  Scores  \n",
       "period                        0       1  \n",
       "ties                          0       1  \n",
       "zenith                        0       1  \n",
       "Ancien_Régime                 0       1  \n",
       "French_Revolution             0       1  "
      ]
     },
     "metadata": {},
     "output_type": "display_data"
    },
    {
     "name": "stdout",
     "output_type": "stream",
     "text": [
      "Most Imp Node: that\n",
      "Node Score: 3\n",
      "Most Imp Neighbors: ['foundation', 'country']\n"
     ]
    }
   ],
   "source": [
    "df_graph, df_nodes, max_node, max_score, max_node_neighbors = graph_stats(G)\n",
    "display(df_graph.head())\n",
    "display(df_nodes.head())\n",
    "print(\"Most Imp Node:\", max_node)\n",
    "print(\"Node Score:\", max_score)\n",
    "print(\"Most Imp Neighbors:\", max_node_neighbors)\n"
   ]
  },
  {
   "cell_type": "markdown",
   "id": "a1dfb5f9",
   "metadata": {
    "heading_collapsed": true,
    "hidden": true
   },
   "source": [
    "## Document Timeline"
   ]
  },
  {
   "cell_type": "code",
   "execution_count": 718,
   "id": "a2a0c5c5",
   "metadata": {
    "hidden": true
   },
   "outputs": [],
   "source": [
    "\n",
    "\n",
    "def doc_timeline(topic, doc, start_year=None, nan_filter=True, df=None):\n",
    "    '''\n",
    "    topic: string for topic of document\n",
    "    doc: single string document\n",
    "    start_year: timeline only displays events after starting year in string format \"yyyy\"\n",
    "    nan_filter: removes NaN entries in dataframe if True, defaults \n",
    "    df: Pass in existing filtered df dataframe for speedup\n",
    "    \n",
    "    Returns: dataframe with timestamped tuples\n",
    "    '''\n",
    "    if df is None:\n",
    "        attributes, df = extract_attributes(doc, ['DATE']) #original_docs[0])\n",
    "\n",
    "    df[\"dt\"] = df[\"DATE\"].apply(lambda x: utils_parsetime(x)) # call date REGEX helper\n",
    "    df[df[\"id\"]==i]\n",
    "\n",
    "    tmp = df.copy()\n",
    "    tmp[\"tuples\"] = tmp[\"entity\"] + \" \" + tmp[\"relation\"] + \" \" + tmp[\"object\"]\n",
    "    df = df.merge(tmp[[\"id\",\"tuples\"]], how=\"left\", on=\"id\") \n",
    "    \n",
    "    # filter for NaN values\n",
    "    if nan_filter:\n",
    "        df = df[~df[\"tuples\"].isna()].sort_values(\"dt\",\n",
    "            ascending=True).drop_duplicates(\"tuples\", keep='first')\n",
    "        df = df[~df[\"dt\"].isna()].sort_values(\"dt\",\n",
    "            ascending=True).drop_duplicates(\"tuples\", keep='first')\n",
    "\n",
    "    if start_year is not None:\n",
    "        dates = df[df[\"dt\"] > start_year][\"dt\"].values\n",
    "        names = df[df[\"dt\"] > start_year][\"tuples\"].values\n",
    "    else:\n",
    "        dates = df[\"dt\"].values\n",
    "        names = df[\"tuples\"].values\n",
    "        \n",
    "    l = [10,-10, 8,-8, 6,-6, 4,-4, 2,-2]\n",
    "    levels = np.tile(l, int(np.ceil(len(dates)/len(l))))[:len(dates)]\n",
    "\n",
    "    fig, ax = plt.subplots(figsize=(20,10)) \n",
    "    ax.set(title=topic, yticks=[], yticklabels=[])\n",
    "\n",
    "    ax.vlines(dates, ymin=0, ymax=levels, color=\"tab:red\")\n",
    "    ax.plot(dates, np.zeros_like(dates), \"-o\", color=\"k\", markerfacecolor=\"w\")\n",
    "\n",
    "    for d,l,r in zip(dates,levels,names):\n",
    "        ax.annotate(r, xy=(d,l), xytext=(-3, np.sign(l)*3),\n",
    "            textcoords=\"offset points\", \n",
    "            horizontalalignment=\"center\", \n",
    "            verticalalignment=\"bottom\" if l>0 else \"top\")\n",
    "\n",
    "    plt.xticks(rotation=90) \n",
    "    plt.show()\n",
    "    \n",
    "    return df"
   ]
  },
  {
   "cell_type": "code",
   "execution_count": 690,
   "id": "959556f4",
   "metadata": {
    "hidden": true
   },
   "outputs": [],
   "source": [
    "sample_1 = \"Stephen William Hawking (8 January 1942 – 14 March 2018) was an English theoretical physicist, cosmologist, and author who, at the time of his death, was director of research at the Centre for Theoretical Cosmology at the University of Cambridge.[6][17][18] Between 1979 and 2009, he was the Lucasian Professor of Mathematics at the University of Cambridge, widely viewed as one of the most prestigious academic posts in the world. \\\n",
    "Hawking was born in Oxford into a family of physicians. In October 1959, at the age of 17, he began his university education at University College, Oxford, where he received a first-class BA degree in physics. In October 1962, he began his graduate work at Trinity Hall at the University of Cambridge where, in March 1966, he obtained his PhD degree in applied mathematics and theoretical physics, specialising in general relativity and cosmology. In 1963, at age 21, Hawking was diagnosed with an early-onset slow-progressing form of motor neurone disease that gradually, over decades, paralysed him.[20][21] After the loss of his speech, he communicated through a speech-generating device initially through use of a handheld switch, and eventually by using a single cheek muscle. \\\n",
    "Hawking's scientific works included a collaboration with Roger Penrose on gravitational singularity theorems in the framework of general relativity, and the theoretical prediction that black holes emit radiation, often called Hawking radiation. Initially, Hawking radiation was controversial. By the late 1970s and following the publication of further research, the discovery was widely accepted as a major breakthrough in theoretical physics. Hawking was the first to set out a theory of cosmology explained by a union of the general theory of relativity and quantum mechanics. He was a vigorous supporter of the many-worlds interpretation of quantum mechanics. \\\n",
    "Hawking achieved commercial success with several works of popular science in which he discussed his theories and cosmology in general. His book A Brief History of Time appeared on the Sunday Times bestseller list for a record-breaking 237 weeks. Hawking was a Fellow of the Royal Society, a lifetime member of the Pontifical Academy of Sciences, and a recipient of the Presidential Medal of Freedom, the highest civilian award in the United States. In 2002, Hawking was ranked number 25 in the BBC's poll of the 100 Greatest Britons. He died in 2018 at the age of 76, after living with motor neurone disease for more than 50 years.\"\n",
    "\n",
    "sample_2 = \"The French Revolution (French: Révolution française) was a period of radical political and societal change in France that began with the Estates General of 1789 and ended with the formation of the French Consulate in November 1799. Many of its ideas are considered fundamental principles of liberal democracy,[1] while the values and institutions it created remain central to French political discourse. \\\n",
    "Its causes are generally agreed to be a combination of social, political and economic factors, which the Ancien Régime proved unable to manage. In May 1789, widespread social distress led to the convocation of the Estates General, which was converted into a National Assembly in June. Continuing unrest culminated in the Storming of the Bastille on 14 July, which led to a series of radical measures by the Assembly, including the abolition of feudalism, the imposition of state control over the Catholic Church in France, and extension of the right to vote. \\\n",
    "The next three years were dominated by the struggle for political control, exacerbated by economic depression and civil disorder. Austria, Britain, Prussia and other external powers sought to restore the Ancien Régime by force, while many French politicians saw war as the best way to unite the nation and preserve the revolution by exporting it to other countries. These factors resulted in the outbreak of the French Revolutionary Wars in April 1792, abolition of the French monarchy and proclamation of the French First Republic in September 1792, followed by the execution of Louis XVI in January 1793. \\\n",
    "Following the Paris-based Insurrection of 31 May – 2 June 1793 the constitution was suspended and effective political power passed from the National Convention to the more radical Committee of Public Safety. An estimated 16,000 counter-revolutionaries were executed during the subsequent Reign of Terror, which ended with the so-called Thermidorian Reaction in July 1794. As well as external threats, the Republic faced internal opposition from royalists and popular unrest. In order to deal with these, a new, less democratic, constitution established a five-man Directory which took power in November 1795. Despite a series of military victories, many won by Napoleon Bonaparte, political divisions and economic stagnation resulted in the Directory being replaced by the Consulate in November 1799. This is generally seen as marking the end of the Revolutionary period.\"\n"
   ]
  },
  {
   "cell_type": "code",
   "execution_count": 714,
   "id": "e51aec0e",
   "metadata": {
    "hidden": true
   },
   "outputs": [
    {
     "name": "stdout",
     "output_type": "stream",
     "text": [
      "1988-04-12\n"
     ]
    }
   ],
   "source": [
    "test_date = \"april 1988\"\n",
    "date = utils_parsetime(test_date)\n",
    "print(date)"
   ]
  },
  {
   "cell_type": "code",
   "execution_count": 731,
   "id": "673c39f6",
   "metadata": {
    "hidden": true
   },
   "outputs": [
    {
     "data": {
      "image/png": "[encoded data removed]",
      "text/plain": [
       "<Figure size 1440x720 with 1 Axes>"
      ]
     },
     "metadata": {
      "needs_background": "light"
     },
     "output_type": "display_data"
    },
    {
     "data": {
      "text/html": [
       "<div>\n",
       "<style scoped>\n",
       "    .dataframe tbody tr th:only-of-type {\n",
       "        vertical-align: middle;\n",
       "    }\n",
       "\n",
       "    .dataframe tbody tr th {\n",
       "        vertical-align: top;\n",
       "    }\n",
       "\n",
       "    .dataframe thead th {\n",
       "        text-align: right;\n",
       "    }\n",
       "</style>\n",
       "<table border=\"1\" class=\"dataframe\">\n",
       "  <thead>\n",
       "    <tr style=\"text-align: right;\">\n",
       "      <th></th>\n",
       "      <th>id</th>\n",
       "      <th>text</th>\n",
       "      <th>entity</th>\n",
       "      <th>relation</th>\n",
       "      <th>object</th>\n",
       "      <th>DATE</th>\n",
       "      <th>dt</th>\n",
       "      <th>tuples</th>\n",
       "    </tr>\n",
       "  </thead>\n",
       "  <tbody>\n",
       "    <tr>\n",
       "      <th>0</th>\n",
       "      <td>0</td>\n",
       "      <td>Stephen William Hawking (8 January 1942 – 14 M...</td>\n",
       "      <td></td>\n",
       "      <td></td>\n",
       "      <td></td>\n",
       "      <td>8 January 1942 –</td>\n",
       "      <td>1942-01-08</td>\n",
       "      <td></td>\n",
       "    </tr>\n",
       "    <tr>\n",
       "      <th>2</th>\n",
       "      <td>2</td>\n",
       "      <td>In October 1959, at the age of 17, he began hi...</td>\n",
       "      <td>he</td>\n",
       "      <td>received</td>\n",
       "      <td>class_BA_degree</td>\n",
       "      <td>October 1959</td>\n",
       "      <td>1959-10-12</td>\n",
       "      <td>he received class_BA_degree</td>\n",
       "    </tr>\n",
       "    <tr>\n",
       "      <th>3</th>\n",
       "      <td>2</td>\n",
       "      <td>In October 1959, at the age of 17, he began hi...</td>\n",
       "      <td>he</td>\n",
       "      <td>received</td>\n",
       "      <td>class_BA_degree</td>\n",
       "      <td>October 1959</td>\n",
       "      <td>1959-10-12</td>\n",
       "      <td>he began graduate_work</td>\n",
       "    </tr>\n",
       "    <tr>\n",
       "      <th>6</th>\n",
       "      <td>3</td>\n",
       "      <td>In October 1962, he began his graduate work at...</td>\n",
       "      <td>he</td>\n",
       "      <td>obtained</td>\n",
       "      <td>PhD_degree</td>\n",
       "      <td>October 1962</td>\n",
       "      <td>1962-10-12</td>\n",
       "      <td>he obtained PhD_degree</td>\n",
       "    </tr>\n",
       "  </tbody>\n",
       "</table>\n",
       "</div>"
      ],
      "text/plain": [
       "   id                                               text entity  relation  \\\n",
       "0   0  Stephen William Hawking (8 January 1942 – 14 M...                    \n",
       "2   2  In October 1959, at the age of 17, he began hi...     he  received   \n",
       "3   2  In October 1959, at the age of 17, he began hi...     he  received   \n",
       "6   3  In October 1962, he began his graduate work at...     he  obtained   \n",
       "\n",
       "            object              DATE          dt                       tuples  \n",
       "0                   8 January 1942 –  1942-01-08                               \n",
       "2  class_BA_degree      October 1959  1959-10-12  he received class_BA_degree  \n",
       "3  class_BA_degree      October 1959  1959-10-12       he began graduate_work  \n",
       "6       PhD_degree      October 1962  1962-10-12       he obtained PhD_degree  "
      ]
     },
     "metadata": {},
     "output_type": "display_data"
    }
   ],
   "source": [
    "timeline = doc_timeline(\"Timeline\", sample_1)\n",
    "display(timeline)"
   ]
  },
  {
   "cell_type": "markdown",
   "id": "d1b1cc0b",
   "metadata": {
    "heading_collapsed": true
   },
   "source": [
    "# Stylometric Analysis"
   ]
  },
  {
   "cell_type": "markdown",
   "id": "75917cb9",
   "metadata": {
    "hidden": true
   },
   "source": [
    "## Document Fingerprinting and Stylometric Clustering"
   ]
  },
  {
   "cell_type": "code",
   "execution_count": null,
   "id": "dcd90228",
   "metadata": {
    "hidden": true
   },
   "outputs": [],
   "source": []
  },
  {
   "cell_type": "markdown",
   "id": "6020126f",
   "metadata": {
    "hidden": true
   },
   "source": [
    "## Author Attribution Techniques"
   ]
  },
  {
   "cell_type": "markdown",
   "id": "df76b6a1",
   "metadata": {
    "heading_collapsed": true,
    "hidden": true
   },
   "source": [
    "### Mendolssohn's Characteristic Curves of Composition"
   ]
  },
  {
   "cell_type": "code",
   "execution_count": 32,
   "id": "f39bcfb5",
   "metadata": {
    "hidden": true
   },
   "outputs": [
    {
     "data": {
      "image/png": "[encoded data removed]",
      "text/plain": [
       "<Figure size 432x288 with 1 Axes>"
      ]
     },
     "metadata": {
      "needs_background": "light"
     },
     "output_type": "display_data"
    },
    {
     "data": {
      "image/png": "[encoded data removed]",
      "text/plain": [
       "<Figure size 432x288 with 1 Axes>"
      ]
     },
     "metadata": {
      "needs_background": "light"
     },
     "output_type": "display_data"
    },
    {
     "data": {
      "image/png": "[encoded data removed]",
      "text/plain": [
       "<Figure size 432x288 with 1 Axes>"
      ]
     },
     "metadata": {
      "needs_background": "light"
     },
     "output_type": "display_data"
    }
   ],
   "source": [
    "# Load nltk\n",
    "%matplotlib inline\n",
    "\n",
    "'''\n",
    "authors = (\"A\", \"B\", \"C\", \"D\") # enter labeled author names as tuple for supervised learning\n",
    "\n",
    "# Transform the authors' corpora into lists of word tokens\n",
    "text_by_author_tokens = {}\n",
    "text_token_dist = {}\n",
    "\n",
    "for author in authors:\n",
    "    tokens = nltk.word_tokenize(text_by_author[author], language='english')\n",
    "\n",
    "    # Filter out punctuation\n",
    "    text_by_author_tokens[author] = ([token for token in tokens if any(c.isalpha() for c in token)])\n",
    "\n",
    "    # Get a distribution of token lengths per doc\n",
    "    token_lengths = [len(token) for token in text_by_author_tokens[author]]\n",
    "    text_token_dist[author] = nltk.FreqDist(token_lengths)\n",
    "    text_token_dist[author].plot(15,title=author)\n",
    "\n",
    "print(token_freq[:100])\n",
    "'''\n",
    "\n",
    "def comp_curve(doc, name, normalize=True, plot=True):\n",
    "    '''\n",
    "    Generate a composition token frequency curve for a given document in string format\n",
    "    '''\n",
    "    # Transform the authors' corpora into lists of word tokens\n",
    "    text_by_author_tokens = {}\n",
    "    text_token_dist = {}\n",
    "    \n",
    "    tokens = nltk.word_tokenize(doc, language='english')\n",
    "    \n",
    "    # Filter out punctuation\n",
    "    text_by_author_tokens = ([token for token in tokens if any(c.isalpha() for c in token)])\n",
    "\n",
    "    # Get a distribution of token lengths per doc\n",
    "    token_lengths = [len(token) for token in text_by_author_tokens]\n",
    "    text_token_dist = nltk.FreqDist(token_lengths)\n",
    "    total_tokens = len(text_by_author_tokens)\n",
    "    \n",
    "    # Normalize the token length distribution over the document length\n",
    "    normalized_dist = nltk.FreqDist({length: freq / total_tokens for length, freq in text_token_dist.items()})\n",
    "\n",
    "    if plot:\n",
    "        # Plot the normalized token length distribution\n",
    "        normalized_dist.plot(15, title=\"Doc: \" + name)\n",
    "    \n",
    "    #text_token_dist.plot(15, title=\"Doc: \" + name)\n",
    "    return token_lengths, normalized_dist\n",
    "\n",
    "sample_doc = 0\n",
    "\n",
    "for i in range(3):\n",
    "    comp_curve(doc_strings[i], doc_names[i])\n"
   ]
  },
  {
   "cell_type": "code",
   "execution_count": 43,
   "id": "a00bc0e8",
   "metadata": {
    "hidden": true
   },
   "outputs": [],
   "source": [
    "def comp_compare(doc_1, doc_2):\n",
    "    '''\n",
    "    Compare doc_1 to disputed doc_2\n",
    "    Returns normalized similarity score between two docs based on token composition\n",
    "    '''\n",
    "    score = 0\n",
    "    token_lengths_1, normalized_dist_1 = comp_curve(doc_1, \"Doc 1\", True, False)\n",
    "    token_lengths_2, normalized_dist_2 = comp_curve(doc_2, \"Doc 1\", True, False)\n",
    "        \n",
    "    for i in range(min(len(normalized_dist_1), len(normalized_dist_2))):\n",
    "        score += abs(normalized_dist_1[i] - normalized_dist_2[i])\n",
    "        \n",
    "    return score\n",
    "\n",
    "# call comp compare function\n",
    "sample_doc = 0\n",
    "score = comp_compare(doc_strings[sample_doc], doc_strings[sample_doc+3])"
   ]
  },
  {
   "cell_type": "code",
   "execution_count": 57,
   "id": "9bdf932e",
   "metadata": {
    "hidden": true
   },
   "outputs": [
    {
     "name": "stdout",
     "output_type": "stream",
     "text": [
      "ASP-IA-v1-68\n"
     ]
    }
   ],
   "source": [
    "def comp_attribute(docs, disputed):\n",
    "    '''\n",
    "    From list of docs as doc strings, find most similar doc to disputed doc from token composition\n",
    "    returns doc index in docs\n",
    "    '''\n",
    "    scores = []\n",
    "    for doc in docs:\n",
    "        score = comp_compare(doc, disputed)\n",
    "        scores.append(score)\n",
    "        \n",
    "    return scores.index(min(scores))\n",
    "\n",
    "similar_doc = comp_attribute(doc_strings[0:8], doc_strings[7])\n",
    "similar_doc_name = doc_names[similar_doc]\n",
    "print(similar_doc_name)"
   ]
  },
  {
   "cell_type": "markdown",
   "id": "3c5b8285",
   "metadata": {
    "heading_collapsed": true,
    "hidden": true
   },
   "source": [
    "### Kilgariff's Chi-Squared Method"
   ]
  },
  {
   "cell_type": "code",
   "execution_count": 28,
   "id": "55f8e05e",
   "metadata": {
    "hidden": true
   },
   "outputs": [],
   "source": [
    "\n",
    "\n",
    "# Calculate chisquared for a given document\n",
    "\n",
    "def chi_stat(docs, disputed, name):\n",
    "    '''\n",
    "    docs: tokenized versions of list of documents\n",
    "    disputed: tokenized document (list of words)\n",
    "    name: name of disputed doc\n",
    "    \n",
    "    Lower chi-squared statistic is indicative of similarity between doc i and disputed doc\n",
    "    '''\n",
    "    chi_values = []\n",
    "    \n",
    "    for i, doc in enumerate(docs):\n",
    "\n",
    "        # First, build a joint corpus and identify the 500 most frequent words in it\n",
    "        joint_corpus = (doc + disputed)\n",
    "        joint_freq_dist = nltk.FreqDist(joint_corpus)\n",
    "        most_common = list(joint_freq_dist.most_common(500))\n",
    "\n",
    "        # What proportion of the joint corpus is made up\n",
    "        # of the candidate author's tokens?\n",
    "        author_share = (len(doc) / len(joint_corpus))\n",
    "\n",
    "        # Now, let's look at the 500 most common words in the candidate\n",
    "        # author's corpus and compare the number of times they can be observed\n",
    "        # to what would be expected if the author's papers\n",
    "        # and the Disputed papers were both random samples from the same distribution.\n",
    "        chisquared = 0\n",
    "        for word, joint_count in most_common:\n",
    "\n",
    "            # How often do we really see this common word?\n",
    "            author_count = doc.count(word)\n",
    "            disputed_count = disputed.count(word)\n",
    "\n",
    "            # How often should we see it?\n",
    "            expected_author_count = joint_count * author_share\n",
    "            expected_disputed_count = joint_count * (1-author_share)\n",
    "\n",
    "            # Add the word's contribution to the chi-squared statistic\n",
    "            chisquared += ((author_count-expected_author_count) *\n",
    "                           (author_count-expected_author_count) /\n",
    "                           expected_author_count)\n",
    "\n",
    "            chisquared += ((disputed_count-expected_disputed_count) *\n",
    "                           (disputed_count-expected_disputed_count)\n",
    "                           / expected_disputed_count)\n",
    "\n",
    "        print(\"The Chi-squared statistic for candidate\", i+1, \"is\", chisquared)\n",
    "        chi_values.append(chisquared)\n",
    "        \n",
    "    idx = chi_values.index(min(chi_values))\n",
    "    return min(chi_values), docs[idx]"
   ]
  },
  {
   "cell_type": "code",
   "execution_count": 29,
   "id": "a7117086",
   "metadata": {
    "hidden": true
   },
   "outputs": [
    {
     "name": "stdout",
     "output_type": "stream",
     "text": [
      "The Chi-squared statistic for candidate 1 is 0.0\n",
      "The Chi-squared statistic for candidate 2 is 2273.633572009714\n"
     ]
    }
   ],
   "source": [
    "\n",
    "\n",
    "sample = 0\n",
    "min_chi, doc = chi_stat([docs[sample], docs[3]], docs[sample], doc_names[sample])\n"
   ]
  },
  {
   "cell_type": "code",
   "execution_count": null,
   "id": "9a0f386a",
   "metadata": {
    "hidden": true
   },
   "outputs": [],
   "source": [
    "# Who are the authors we are analyzing?\n",
    "'''\n",
    "\n",
    "authors = (\"A\", \"B\")\n",
    "\n",
    "# Lowercase the tokens so that the same word, capitalized or not,\n",
    "# counts as one word\n",
    "for author in authors:\n",
    "    text_by_author_tokens[author] = ([token.lower() for token in text_by_author_tokens[author]])\n",
    "    text_by_author_tokens[\"C\"] = ([token.lower() for token in text_by_author_tokens[\"Disputed\"]])\n",
    "\n",
    "# Calculate chisquared for each of the two candidate authors\n",
    "for author in authors:\n",
    "\n",
    "    # First, build a joint corpus and identify the 500 most frequent words in it\n",
    "    joint_corpus = (text_by_author_tokens[author] + text_by_author_tokens[\"Disputed\"])\n",
    "    joint_freq_dist = nltk.FreqDist(joint_corpus)\n",
    "    most_common = list(joint_freq_dist.most_common(500))\n",
    "\n",
    "    # What proportion of the joint corpus is made up\n",
    "    # of the candidate author's tokens?\n",
    "    author_share = (len(text_by_author_tokens[author]) / len(joint_corpus))\n",
    "\n",
    "    # Now, let's look at the 500 most common words in the candidate\n",
    "    # author's corpus and compare the number of times they can be observed\n",
    "    # to what would be expected if the author's papers\n",
    "    # and the Disputed papers were both random samples from the same distribution.\n",
    "    chisquared = 0\n",
    "    for word, joint_count in most_common:\n",
    "\n",
    "        # How often do we really see this common word?\n",
    "        author_count = text_by_author_tokens[author].count(word)\n",
    "        disputed_count = text_by_author_tokens[\"Disputed\"].count(word)\n",
    "\n",
    "        # How often should we see it?\n",
    "        expected_author_count = joint_count * author_share\n",
    "        expected_disputed_count = joint_count * (1-author_share)\n",
    "\n",
    "        # Add the word's contribution to the chi-squared statistic\n",
    "        chisquared += ((author_count-expected_author_count) *\n",
    "                       (author_count-expected_author_count) /\n",
    "                       expected_author_count)\n",
    "\n",
    "        chisquared += ((disputed_count-expected_disputed_count) *\n",
    "                       (disputed_count-expected_disputed_count)\n",
    "                       / expected_disputed_count)\n",
    "\n",
    "    print(\"The Chi-squared statistic for candidate\", author, \"is\", chisquared)\n",
    "    \n",
    "'''"
   ]
  },
  {
   "cell_type": "markdown",
   "id": "acab0cd3",
   "metadata": {
    "heading_collapsed": true,
    "hidden": true
   },
   "source": [
    "### John Burrows' Delta Method"
   ]
  },
  {
   "cell_type": "code",
   "execution_count": 150,
   "id": "9aab5beb",
   "metadata": {
    "hidden": true
   },
   "outputs": [],
   "source": [
    "import math\n",
    "# Calculate chisquared for a given document\n",
    "\n",
    "def delta_stat(authors, doc_dict, disputed, name):\n",
    "    '''\n",
    "    authors: name of authors or document names\n",
    "    doc_dict: collection of docs emcompassing authors (tokenized list) mapping author to document\n",
    "    disputed: tokenized document (list of words)\n",
    "    name: name of disputed doc\n",
    "    \n",
    "    Returns: delta scores of each doc and most similar doc name to disputed doc\n",
    "    Lower delta statistic is indicative of similarity between doc i and disputed doc\n",
    "    '''\n",
    "    \n",
    "    if \"\" in authors:\n",
    "        print(\"Disputed doc cannot be existing doc in parameter corpus\")\n",
    "        return\n",
    "    \n",
    "    # add disputed doc to joint processing\n",
    "    authors.append(name)\n",
    "    doc_dict[name] = disputed\n",
    "    \n",
    "    joint_corpus = []\n",
    "    for author in authors:\n",
    "        joint_corpus += doc_dict[author]\n",
    "    joint_freq_dist = nltk.FreqDist(joint_corpus)\n",
    "    most_common = list(joint_freq_dist.most_common(500))\n",
    "        \n",
    "        \n",
    "    # The main data structure for feature selection\n",
    "    features = [word for word,freq in most_common]\n",
    "    feature_freqs = {} # 2D dictionary\n",
    "\n",
    "    # Calculating features for each subcorpus\n",
    "    for author in authors:\n",
    "        feature_freqs[author] = {}\n",
    "        overall = len(doc_dict[author])\n",
    "\n",
    "        # Calculate each feature's presence in the subcorpus\n",
    "        for feature in features:\n",
    "            presence = doc_dict[author].count(feature)\n",
    "            feature_freqs[author][feature] = presence / overall\n",
    "            \n",
    "    # Calculating feature averages and standard deviations\n",
    "    corpus_features = {}\n",
    "    for feature in features:\n",
    "        # Create a sub-dictionary that will contain the feature's mean\n",
    "        # and standard deviation\n",
    "        corpus_features[feature] = {}\n",
    "\n",
    "        # Calculate the mean of the frequencies expressed in the subcorpora\n",
    "        feature_average = 0\n",
    "        \n",
    "        for author in authors:\n",
    "            feature_average += feature_freqs[author][feature]\n",
    "        feature_average /= len(authors)\n",
    "        corpus_features[feature][\"Mean\"] = feature_average\n",
    "\n",
    "        # Calculate the standard deviation using the basic formula for a sample\n",
    "        feature_stdev = 0\n",
    "        for author in authors:\n",
    "            diff = feature_freqs[author][feature] - corpus_features[feature][\"Mean\"]\n",
    "            feature_stdev += diff**2\n",
    "        feature_stdev /= (len(authors) - 1)\n",
    "        feature_stdev = math.sqrt(feature_stdev)\n",
    "        corpus_features[feature][\"StdDev\"] = feature_stdev\n",
    "    \n",
    "    # calculate Z-scores\n",
    "    feature_zscores = {}\n",
    "    for author in authors:\n",
    "        feature_zscores[author] = {}\n",
    "        for feature in features:\n",
    "\n",
    "            # Z-score definition = (value - mean) / stddev\n",
    "            # We use intermediate variables to make the code easier to read\n",
    "            feature_val = feature_freqs[author][feature]\n",
    "            feature_mean = corpus_features[feature][\"Mean\"]\n",
    "            feature_stdev = corpus_features[feature][\"StdDev\"]\n",
    "            feature_zscores[author][feature] = ((feature_val-feature_mean) / feature_stdev)\n",
    "      \n",
    "    # ========================= Treatment of Test Case ===========================\n",
    "    \n",
    "    # Calculate the test case's features\n",
    "    overall = len(disputed)\n",
    "    testcase_freqs = {}\n",
    "    for feature in features:\n",
    "        presence = disputed.count(feature)\n",
    "        testcase_freqs[feature] = presence / overall\n",
    "\n",
    "    # Calculate the test case's feature z-scores\n",
    "    testcase_zscores = {}\n",
    "    for feature in features:\n",
    "        feature_val = testcase_freqs[feature]\n",
    "        feature_mean = corpus_features[feature][\"Mean\"]\n",
    "        feature_stdev = corpus_features[feature][\"StdDev\"]\n",
    "        testcase_zscores[feature] = (feature_val - feature_mean) / feature_stdev\n",
    "        #print(\"Test case z-score for feature\", feature, \"is\", testcase_zscores[feature])\n",
    "    \n",
    "    # ========================== Calculate Delta Scores =======================\n",
    "    deltas = []\n",
    "    for author in authors:\n",
    "        delta = 0\n",
    "        for feature in features:\n",
    "            delta += math.fabs((testcase_zscores[feature] - feature_zscores[author][feature]))\n",
    "        delta /= len(features)\n",
    "        deltas.append(delta)\n",
    "        #print(\"Delta score for candidate\", author, \"is\", delta )\n",
    "    \n",
    "    diffs = []\n",
    "    for i in range(len(authors)):\n",
    "        diffs.append(abs(deltas[-1] - deltas[i]))\n",
    "        \n",
    "    if min(diffs) == 0:\n",
    "        idx = second_small_index(diffs) # call helper\n",
    "    else:\n",
    "        idx = diffs.index(min(diffs))\n",
    "        \n",
    "    similar_doc = authors[idx]\n",
    "    return deltas, similar_doc"
   ]
  },
  {
   "cell_type": "code",
   "execution_count": 151,
   "id": "fc510da2",
   "metadata": {
    "hidden": true
   },
   "outputs": [
    {
     "name": "stdout",
     "output_type": "stream",
     "text": [
      "Disputed doc:  ASP-IA-v1-40\n",
      "Disputed doc ASP-IA-v1-40 is most similar to: ASP-IA-v1-2\n"
     ]
    }
   ],
   "source": [
    "authors = doc_names[0:8]\n",
    "doc_slice = dict(islice(doc_dict.items(), 8))\n",
    "disputed = 9\n",
    "print(\"Disputed doc: \", doc_names[disputed])\n",
    "deltas, similar_doc = delta_stat(authors, doc_slice, docs[disputed], doc_names[disputed])\n",
    "\n",
    "# If delta is 0, then the disputed author and/or corpus consists of only a single document written by that author/with that document title\n",
    "\n",
    "print(f\"Disputed doc {doc_names[disputed]} is most similar to: {similar_doc}\")"
   ]
  },
  {
   "cell_type": "markdown",
   "id": "a04095d2",
   "metadata": {
    "hidden": true
   },
   "source": [
    "## Plagarism Detection"
   ]
  },
  {
   "cell_type": "markdown",
   "id": "695f5cbd",
   "metadata": {
    "heading_collapsed": true,
    "hidden": true
   },
   "source": [
    "## Named Entity Recognition"
   ]
  },
  {
   "cell_type": "code",
   "execution_count": null,
   "id": "3b3e6d9f",
   "metadata": {
    "hidden": true
   },
   "outputs": [],
   "source": [
    "from nltk import ne_chunk\n",
    "import spacy \n",
    "nlp = spacy.load('en_core_web_sm')\n",
    "\n",
    "# Creating a spacy doc of a sentence\n",
    "sentence=' The building is located at London. It is the headquaters of Yahoo. John works there. He speaks English'\n",
    "doc=nlp(sentence)"
   ]
  },
  {
   "cell_type": "markdown",
   "id": "e3534ea8",
   "metadata": {},
   "source": [
    "# **ChatBots (Colab)**"
   ]
  },
  {
   "cell_type": "code",
   "execution_count": 153,
   "id": "10391d3b",
   "metadata": {},
   "outputs": [
    {
     "name": "stderr",
     "output_type": "stream",
     "text": [
      "/opt/miniconda3/lib/python3.9/site-packages/torchvision/io/image.py:13: UserWarning: Failed to load image Python extension: 'dlopen(/opt/miniconda3/lib/python3.9/site-packages/torchvision/image.so, 0x0006): Symbol not found: __ZN3c106detail19maybe_wrap_dim_slowIxEET_S2_S2_b\n",
      "  Referenced from: <BB67D2A7-5160-3C5A-AC1A-029AEC0F181F> /opt/miniconda3/lib/python3.9/site-packages/torchvision/image.so\n",
      "  Expected in:     <89B80E63-0720-39CB-96E3-B331A14BC5A2> /opt/miniconda3/lib/python3.9/site-packages/torch/lib/libc10.dylib'If you don't plan on using image functionality from `torchvision.io`, you can ignore this warning. Otherwise, there might be something wrong with your environment. Did you have `libjpeg` or `libpng` installed before building `torchvision` from source?\n",
      "  warn(\n"
     ]
    },
    {
     "ename": "ImportError",
     "evalue": "cannot import name 'cached_path' from 'transformers' (/opt/miniconda3/lib/python3.9/site-packages/transformers/__init__.py)",
     "output_type": "error",
     "traceback": [
      "\u001b[0;31m---------------------------------------------------------------------------\u001b[0m",
      "\u001b[0;31mImportError\u001b[0m                               Traceback (most recent call last)",
      "Input \u001b[0;32mIn [153]\u001b[0m, in \u001b[0;36m<cell line: 1>\u001b[0;34m()\u001b[0m\n\u001b[0;32m----> 1\u001b[0m \u001b[38;5;28;01mfrom\u001b[39;00m \u001b[38;5;21;01msimpletransformers\u001b[39;00m\u001b[38;5;21;01m.\u001b[39;00m\u001b[38;5;21;01mconv_ai\u001b[39;00m \u001b[38;5;28;01mimport\u001b[39;00m ConvAIModel\n\u001b[1;32m      3\u001b[0m \u001b[38;5;28;01mimport\u001b[39;00m \u001b[38;5;21;01mtorch\u001b[39;00m\n\u001b[1;32m      4\u001b[0m \u001b[38;5;66;03m#import tensorflow as tf # import doesn't work due to tensorflow being temp unsupported for python version > 3.9\u001b[39;00m\n",
      "File \u001b[0;32m/opt/miniconda3/lib/python3.9/site-packages/simpletransformers/conv_ai/__init__.py:2\u001b[0m, in \u001b[0;36m<module>\u001b[0;34m\u001b[0m\n\u001b[1;32m      1\u001b[0m \u001b[38;5;28;01mfrom\u001b[39;00m \u001b[38;5;21;01msimpletransformers\u001b[39;00m\u001b[38;5;21;01m.\u001b[39;00m\u001b[38;5;21;01mconfig\u001b[39;00m\u001b[38;5;21;01m.\u001b[39;00m\u001b[38;5;21;01mmodel_args\u001b[39;00m \u001b[38;5;28;01mimport\u001b[39;00m ConvAIArgs\n\u001b[0;32m----> 2\u001b[0m \u001b[38;5;28;01mfrom\u001b[39;00m \u001b[38;5;21;01msimpletransformers\u001b[39;00m\u001b[38;5;21;01m.\u001b[39;00m\u001b[38;5;21;01mconv_ai\u001b[39;00m\u001b[38;5;21;01m.\u001b[39;00m\u001b[38;5;21;01mconv_ai_model\u001b[39;00m \u001b[38;5;28;01mimport\u001b[39;00m ConvAIModel\n",
      "File \u001b[0;32m/opt/miniconda3/lib/python3.9/site-packages/simpletransformers/conv_ai/conv_ai_model.py:66\u001b[0m, in \u001b[0;36m<module>\u001b[0;34m\u001b[0m\n\u001b[1;32m     64\u001b[0m \u001b[38;5;28;01mfrom\u001b[39;00m \u001b[38;5;21;01msimpletransformers\u001b[39;00m\u001b[38;5;21;01m.\u001b[39;00m\u001b[38;5;21;01mconfig\u001b[39;00m\u001b[38;5;21;01m.\u001b[39;00m\u001b[38;5;21;01mmodel_args\u001b[39;00m \u001b[38;5;28;01mimport\u001b[39;00m ConvAIArgs\n\u001b[1;32m     65\u001b[0m \u001b[38;5;28;01mfrom\u001b[39;00m \u001b[38;5;21;01msimpletransformers\u001b[39;00m\u001b[38;5;21;01m.\u001b[39;00m\u001b[38;5;21;01mconfig\u001b[39;00m\u001b[38;5;21;01m.\u001b[39;00m\u001b[38;5;21;01mutils\u001b[39;00m \u001b[38;5;28;01mimport\u001b[39;00m sweep_config_to_sweep_values\n\u001b[0;32m---> 66\u001b[0m \u001b[38;5;28;01mfrom\u001b[39;00m \u001b[38;5;21;01msimpletransformers\u001b[39;00m\u001b[38;5;21;01m.\u001b[39;00m\u001b[38;5;21;01mconv_ai\u001b[39;00m\u001b[38;5;21;01m.\u001b[39;00m\u001b[38;5;21;01mconv_ai_utils\u001b[39;00m \u001b[38;5;28;01mimport\u001b[39;00m get_dataset\n\u001b[1;32m     68\u001b[0m \u001b[38;5;28;01mtry\u001b[39;00m:\n\u001b[1;32m     69\u001b[0m     \u001b[38;5;28;01mimport\u001b[39;00m \u001b[38;5;21;01mwandb\u001b[39;00m\n",
      "File \u001b[0;32m/opt/miniconda3/lib/python3.9/site-packages/simpletransformers/conv_ai/conv_ai_utils.py:15\u001b[0m, in \u001b[0;36m<module>\u001b[0;34m\u001b[0m\n\u001b[1;32m     13\u001b[0m \u001b[38;5;28;01mimport\u001b[39;00m \u001b[38;5;21;01mtorch\u001b[39;00m\n\u001b[1;32m     14\u001b[0m \u001b[38;5;28;01mfrom\u001b[39;00m \u001b[38;5;21;01mtqdm\u001b[39;00m\u001b[38;5;21;01m.\u001b[39;00m\u001b[38;5;21;01mauto\u001b[39;00m \u001b[38;5;28;01mimport\u001b[39;00m tqdm\n\u001b[0;32m---> 15\u001b[0m \u001b[38;5;28;01mfrom\u001b[39;00m \u001b[38;5;21;01mtransformers\u001b[39;00m \u001b[38;5;28;01mimport\u001b[39;00m cached_path\n\u001b[1;32m     17\u001b[0m PERSONACHAT_URL \u001b[38;5;241m=\u001b[39m \u001b[38;5;124m\"\u001b[39m\u001b[38;5;124mhttps://s3.amazonaws.com/datasets.huggingface.co/personachat/personachat_self_original.json\u001b[39m\u001b[38;5;124m\"\u001b[39m\n\u001b[1;32m     18\u001b[0m HF_FINETUNED_MODEL \u001b[38;5;241m=\u001b[39m \u001b[38;5;124m\"\u001b[39m\u001b[38;5;124mhttps://s3.amazonaws.com/models.huggingface.co/transfer-learning-chatbot/gpt_personachat_cache.tar.gz\u001b[39m\u001b[38;5;124m\"\u001b[39m  \u001b[38;5;66;03m# noqa\u001b[39;00m\n",
      "\u001b[0;31mImportError\u001b[0m: cannot import name 'cached_path' from 'transformers' (/opt/miniconda3/lib/python3.9/site-packages/transformers/__init__.py)"
     ]
    }
   ],
   "source": [
    "from simpletransformers.conv_ai import ConvAIModel\n",
    "import torch\n",
    "\n",
    "train_args = {\n",
    "    \"fp16\": False,\n",
    "    \"num_train_epochs\": 1,\n",
    "    \"save_model_every_epoch\": False\n",
    "}\n",
    "\n",
    "# Provide training data or path to training data\n",
    "train_data = [\n",
    "    [\"Hello!\", \"Hi there!\"],\n",
    "    [\"How are you?\", \"I'm doing well, thanks!\"],\n",
    "    # Add more conversation pairs\n",
    "]\n",
    "\n",
    "my_chatbot = ConvAIModel(\"gpt\", \"openai-gpt\", use_cuda=True, args=train_args)\n",
    "my_chatbot.train_model(train_data)  # Provide the training data here\n",
    "my_chatbot.interact()"
   ]
  },
  {
   "cell_type": "markdown",
   "id": "b2c93888",
   "metadata": {
    "heading_collapsed": true
   },
   "source": [
    "# **Document Classification Given Labels**"
   ]
  },
  {
   "cell_type": "code",
   "execution_count": null,
   "id": "6f5f7da6",
   "metadata": {
    "hidden": true
   },
   "outputs": [],
   "source": []
  },
  {
   "cell_type": "code",
   "execution_count": null,
   "id": "47e54a90",
   "metadata": {
    "hidden": true
   },
   "outputs": [],
   "source": [
    "# Use Doc2Vec strategy\n",
    "\n",
    "import gensim\n",
    "from gensim.utils import simple_preprocess\n",
    "from gensim.models.doc2vec import Doc2Vec, TaggedDocument\n",
    "\n",
    "# Load the training data\n",
    "train_data = [\n",
    "    TaggedDocument(words=preprocess_text(doc['text']), tags=[doc['label']])\n",
    "    for doc in train_docs\n",
    "]\n",
    "\n",
    "# Train the Doc2Vec model on the training data\n",
    "model = Doc2Vec(vector_size=100, window=5, min_count=5, epochs=20)\n",
    "model.build_vocab(train_data)\n",
    "model.train(train_data, total_examples=model.corpus_count, epochs=model.epochs)\n",
    "\n",
    "# Classify the test data\n",
    "for doc in test_docs:\n",
    "    # Preprocess the text\n",
    "    tokens = preprocess_text(doc['text'])\n",
    "    # Infer the vector for the preprocessed text\n",
    "    inferred_vector = model.infer_vector(tokens)\n",
    "    # Use the model to predict the label for the document\n",
    "    predicted_label = model.docvecs.most_similar([inferred_vector])[0][0]\n",
    "    # Print the predicted label for the document\n",
    "    print(\"Predicted label for document:\", predicted_label)\n"
   ]
  },
  {
   "cell_type": "code",
   "execution_count": null,
   "id": "e9ce94bd",
   "metadata": {
    "hidden": true
   },
   "outputs": [],
   "source": [
    "from gensim.models.doc2vec import Doc2Vec, TaggedDocument\n",
    "from sklearn.model_selection import train_test_split\n",
    "from sklearn.linear_model import LogisticRegression\n",
    "\n",
    "# Sample data\n",
    "data = [\n",
    "    (\"I love this movie\", \"positive\"),\n",
    "    (\"This was an awesome experience\", \"positive\"),\n",
    "    (\"I hated this movie\", \"negative\"),\n",
    "    (\"I didn't enjoy the show\", \"negative\"),\n",
    "]\n",
    "\n",
    "# Split data into training and testing sets\n",
    "train_data, test_data = train_test_split(data, test_size=0.2, random_state=42)\n",
    "\n",
    "# Create tagged documents\n",
    "tagged_train_data = [TaggedDocument(words=text.split(), tags=[label]) for text, label in train_data]\n",
    "\n",
    "# Initialize Doc2Vec model\n",
    "model = Doc2Vec(vector_size=100, window=5, min_count=1, epochs=10)\n",
    "\n",
    "# Build vocabulary\n",
    "model.build_vocab(tagged_train_data)\n",
    "\n",
    "# Train the Doc2Vec model\n",
    "model.train(tagged_train_data, total_examples=model.corpus_count, epochs=model.epochs)\n",
    "\n",
    "# Prepare training data\n",
    "train_vectors = [model.infer_vector(tagged_doc.words) for tagged_doc in tagged_train_data]\n",
    "train_labels = [tagged_doc.tags[0] for tagged_doc in tagged_train_data]\n",
    "\n",
    "# Train a classifier\n",
    "classifier = LogisticRegression()\n",
    "classifier.fit(train_vectors, train_labels)\n",
    "\n",
    "# Evaluate on test data\n",
    "tagged_test_data = [TaggedDocument(words=text.split(), tags=[label]) for text, label in test_data]\n",
    "test_vectors = [model.infer_vector(tagged_doc.words) for tagged_doc in tagged_test_data]\n",
    "test_labels = [tagged_doc.tags[0] for tagged_doc in tagged_test_data]\n",
    "\n",
    "accuracy = classifier.score(test_vectors, test_labels)\n",
    "print(\"Accuracy:\", accuracy)\n"
   ]
  },
  {
   "cell_type": "markdown",
   "id": "13e52fb0",
   "metadata": {},
   "source": [
    "# Save and Load Project States"
   ]
  },
  {
   "cell_type": "code",
   "execution_count": 169,
   "id": "b363c903",
   "metadata": {},
   "outputs": [],
   "source": [
    "# Save all variables and data structures to a file\n",
    "with open(\"./variables.pkl\", \"wb\") as file:\n",
    "    vars = (docs,\n",
    "            doc_strings,\n",
    "            doc_names,\n",
    "            doc_dict,\n",
    "            doc_sents,\n",
    "            dictionary,\n",
    "            topics,\n",
    "            topic_ratios,\n",
    "            all_topics,\n",
    "            freq_chart,\n",
    "            corpus,\n",
    "            df_count,\n",
    "            df_tdidf,\n",
    "            summaries,\n",
    "            word_freq_docs,\n",
    "            word_freq_corpus,\n",
    "            coherence_values,\n",
    "            original_docs\n",
    "            )\n",
    "    pickle.dump(vars, file)"
   ]
  },
  {
   "cell_type": "code",
   "execution_count": 172,
   "id": "23f2e63a",
   "metadata": {},
   "outputs": [],
   "source": [
    "# Load all variables from file\n",
    "with open(\"./variables.pkl\", \"rb\") as file:\n",
    "    (\n",
    "        docs,\n",
    "        doc_strings,\n",
    "        doc_names,\n",
    "        doc_dict,\n",
    "        doc_sents,\n",
    "        dictionary,\n",
    "        topics,\n",
    "        topic_ratios,\n",
    "        all_topics,\n",
    "        freq_chart,\n",
    "        corpus,\n",
    "        df_count,\n",
    "        df_tdidf,\n",
    "        summaries,\n",
    "        word_freq_docs,\n",
    "        word_freq_corpus,\n",
    "        coherence_values,\n",
    "        original_docs\n",
    "    ) = pickle.load(file)"
   ]
  },
  {
   "cell_type": "code",
   "execution_count": null,
   "id": "a7e87098",
   "metadata": {},
   "outputs": [],
   "source": []
  },
  {
   "cell_type": "markdown",
   "id": "73cb693c",
   "metadata": {
    "heading_collapsed": true
   },
   "source": [
    "# PCA Visualizations and Clustering Algorithms (Google Colab)"
   ]
  },
  {
   "cell_type": "code",
   "execution_count": null,
   "id": "c6cca80f",
   "metadata": {
    "hidden": true
   },
   "outputs": [],
   "source": [
    "import numpy as np\n",
    "import tensorflow as tf\n",
    "from sklearn.cluster import KMeans\n",
    "from sklearn.decomposition import PCA\n",
    "\n",
    "user1_vectors = np.load('./datasets/youtube_features.npy')\n",
    "kmeans = KMeans(n_clusters=5, random_state=42)\n",
    "cluster_labels = kmeans.fit_predict(user1_vectors)\n",
    "\n",
    "pca = PCA(n_components=3)\n",
    "projected_vectors = pca.fit_transform(user1_vectors)\n",
    "\n",
    "metadata_file = 'metadata.tsv'\n",
    "with open(metadata_file, 'w') as f:\n",
    "    for label in cluster_labels:\n",
    "        f.write(str(label) + '\\n')\n"
   ]
  },
  {
   "cell_type": "code",
   "execution_count": null,
   "id": "3118934b",
   "metadata": {
    "hidden": true
   },
   "outputs": [],
   "source": [
    "from tensorflow.contrib.tensorboard.plugins import projector\n",
    "embedding_var = tf.Variable(projected_vectors, name='user1_embeddings')\n",
    "summary_writer = tf.summary.FileWriter('logs')\n",
    "\n",
    "config = projector.ProjectorConfig()\n",
    "embedding = config.embeddings.add()\n",
    "embedding.tensor_name = embedding_var.name\n",
    "embedding.metadata_path = metadata_file\n",
    "\n",
    "projector.visualize_embeddings(summary_writer, config)\n",
    "\n",
    "with tf.Session() as sess:\n",
    "    sess.run(tf.global_variables_initializer())\n",
    "    saver = tf.train.Saver()\n",
    "    saver.save(sess, 'logs/model.ckpt')\n"
   ]
  },
  {
   "cell_type": "code",
   "execution_count": null,
   "id": "d19099ea",
   "metadata": {
    "hidden": true
   },
   "outputs": [],
   "source": [
    "!tensorboard --logdir=logs"
   ]
  },
  {
   "cell_type": "markdown",
   "id": "4e724aa5",
   "metadata": {
    "heading_collapsed": true
   },
   "source": [
    "# **Experimental**"
   ]
  },
  {
   "cell_type": "markdown",
   "id": "702cadf1",
   "metadata": {
    "heading_collapsed": true,
    "hidden": true
   },
   "source": [
    "### **Tokenization**"
   ]
  },
  {
   "cell_type": "code",
   "execution_count": null,
   "id": "fb9ae469",
   "metadata": {
    "hidden": true
   },
   "outputs": [],
   "source": [
    "# Tokenization\n",
    "'''\n",
    "def sent_to_words(sentences):\n",
    "    for sentence in sentences:\n",
    "        yield(gensim.utils.simple_preprocess(str(sentence), deacc=True))  # deacc=True removes punctuations\n",
    "\n",
    "#data_words = list(sent_to_words(data))\n",
    "doc_words = list(sent_to_words(docs)) # returns list of [list of words]\n",
    "max_words = 50\n",
    "\n",
    "#print(data_words[:1])\n",
    "print(doc_words[0][:max_words]) # prints first max_words in first doc\n",
    "\n",
    "# 2D List Sentence Datatype:\n",
    "# list of sentences, where each list element contains word elements\n",
    "\n",
    "'''\n",
    "# =============================\n",
    "'''\n",
    "# Create a dictionary representation of the documents.\n",
    "dictionary = Dictionary(docs)\n",
    "\n",
    "# Filter out words that occur less than 20 documents, or more than 50% of the documents.\n",
    "dictionary.filter_extremes(no_below=20, no_above=0.5)\n",
    "'''"
   ]
  },
  {
   "cell_type": "code",
   "execution_count": null,
   "id": "9f444f3d",
   "metadata": {
    "hidden": true
   },
   "outputs": [],
   "source": [
    "# Use a Unigram Model\n",
    "# Build the bigram and trigram models\n",
    "bigram = gensim.models.Phrases(data_words, min_count=5, threshold=100) # higher threshold fewer phrases.\n",
    "trigram = gensim.models.Phrases(bigram[data_words], threshold=100)  \n",
    "\n",
    "# Faster way to get a sentence clubbed as a trigram/bigram\n",
    "bigram_mod = gensim.models.phrases.Phraser(bigram)\n",
    "trigram_mod = gensim.models.phrases.Phraser(trigram)\n",
    "\n",
    "# See trigram example\n",
    "print(trigram_mod[bigram_mod[data_words[0]]])"
   ]
  },
  {
   "cell_type": "code",
   "execution_count": null,
   "id": "b7f58d05",
   "metadata": {
    "hidden": true
   },
   "outputs": [],
   "source": [
    "# Define functions for stopwords, bigrams, trigrams and lemmatization\n",
    "\n",
    "def remove_stopwords(texts, stop_words):\n",
    "    return [[word for word in simple_preprocess(str(doc)) if word not in stop_words] for doc in texts]\n",
    "\n",
    "def make_bigrams(texts):\n",
    "    return [bigram_mod[doc] for doc in texts]\n",
    "\n",
    "def make_trigrams(texts):\n",
    "    return [trigram_mod[bigram_mod[doc]] for doc in texts]\n",
    "\n",
    "def lemmatization(texts, allowed_postags=['NOUN', 'ADJ', 'VERB', 'ADV']):\n",
    "    \"\"\"https://spacy.io/api/annotation\"\"\"\n",
    "    texts_out = []\n",
    "    for sent in texts:\n",
    "        doc = nlp(\" \".join(sent)) \n",
    "        texts_out.append([token.lemma_ for token in doc if token.pos_ in allowed_postags])\n",
    "    return texts_out"
   ]
  },
  {
   "cell_type": "code",
   "execution_count": null,
   "id": "34c260c5",
   "metadata": {
    "hidden": true
   },
   "outputs": [],
   "source": [
    "# Install LLMs\n",
    "'''\n",
    "!python -m spacy download fr_core_news_sm # French\n",
    "!python -m spacy download en_core_web_sm # English\n",
    "'''\n",
    "'''\n",
    "DOESN'T WORK\n",
    "'''\n",
    "!pip install fr-core-news-sm\n",
    "!pip install en_core_web_sm\n"
   ]
  },
  {
   "cell_type": "markdown",
   "id": "40cb6658",
   "metadata": {
    "heading_collapsed": true,
    "hidden": true
   },
   "source": [
    "### **Lemmatization**"
   ]
  },
  {
   "cell_type": "code",
   "execution_count": null,
   "id": "65c05e47",
   "metadata": {
    "hidden": true
   },
   "outputs": [],
   "source": [
    "# Continue preprocess data: remove STOP WORDS\n",
    "# Make N-grams\n",
    "\n",
    "# Remove Stop Words\n",
    "stop_words = ['.', ',']\n",
    "data_words_nostops = remove_stopwords(data_words, stop_words)\n",
    "\n",
    "# Form Bigrams\n",
    "data_words_bigrams = make_bigrams(data_words_nostops)\n",
    "\n",
    "# Initialize spacy 'en' model, keeping only tagger component (for efficiency)\n",
    "# python3 -m spacy download en\n",
    "nlp = spacy.load('fr_core_news_sm')\n",
    "# for French LLM: fr_core_news_sm\n",
    "# for French LLM: en_core_web_sm\n",
    "\n",
    "# Do lemmatization keeping only noun, adj, vb, adv\n",
    "data_lemmatized = lemmatization(data_words_bigrams, allowed_postags=['NOUN', 'ADJ', 'VERB', 'ADV'])\n",
    "\n",
    "#print(data_lemmatized[:1])"
   ]
  },
  {
   "cell_type": "markdown",
   "id": "afe2898a",
   "metadata": {
    "heading_collapsed": true,
    "hidden": true
   },
   "source": [
    "### Word to Vector"
   ]
  },
  {
   "cell_type": "code",
   "execution_count": null,
   "id": "9cbb55ef",
   "metadata": {
    "hidden": true
   },
   "outputs": [],
   "source": [
    "# import data\n",
    "sentences = list(sent_to_words(data))\n",
    "\n",
    "# train the model\n",
    "model = Word2Vec(sentences, vector_size=100, window=5, min_count=1, workers=4)\n",
    "\n",
    "# print the learned vocabulary\n",
    "vocab = model.wv.index_to_key\n",
    "word_vectors = [model.wv.get_vector(word) for word in vocab]\n",
    "\n",
    "print(random.sample(vocab, k=10))\n",
    "\n",
    "sample_word = 'try'\n",
    "sample_vect = model.wv[sample_word] if sample_word in vocab else None\n",
    "\n",
    "# get the vector representation of a word\n",
    "print(sample_vect)"
   ]
  },
  {
   "cell_type": "markdown",
   "id": "618d671f",
   "metadata": {
    "heading_collapsed": true,
    "hidden": true
   },
   "source": [
    "## Spacy "
   ]
  },
  {
   "cell_type": "code",
   "execution_count": null,
   "id": "24d545be",
   "metadata": {
    "hidden": true
   },
   "outputs": [],
   "source": [
    "import spacy\n",
    "from spacy.lang.en.examples import sentences \n",
    "\n",
    "nlp = spacy.load(\"en_core_web_sm\")\n",
    "nlp = spacy.load(\"fr_core_news_sm\")\n",
    "\n",
    "doc = nlp(sentences[0])\n",
    "print(doc.text)\n",
    "for token in doc:\n",
    "    print(token.text, token.pos_, token.dep_)\n"
   ]
  },
  {
   "cell_type": "code",
   "execution_count": null,
   "id": "259919f3",
   "metadata": {
    "hidden": true
   },
   "outputs": [],
   "source": []
  },
  {
   "cell_type": "markdown",
   "id": "26a79bcd",
   "metadata": {},
   "source": [
    "# Memory Utilization"
   ]
  },
  {
   "cell_type": "code",
   "execution_count": null,
   "id": "7ac74527",
   "metadata": {},
   "outputs": [],
   "source": [
    "from resource import getrusage, RUSAGE_SELF\n",
    "print(\"Peak memory (MB):\", int(getrusage(RUSAGE_SELF).ru_maxrss/1024000))"
   ]
  },
  {
   "cell_type": "code",
   "execution_count": null,
   "id": "38fda9be",
   "metadata": {},
   "outputs": [],
   "source": []
  }
 ],
 "metadata": {
  "kernelspec": {
   "display_name": "conda",
   "language": "python",
   "name": "base"
  },
  "language_info": {
   "codemirror_mode": {
    "name": "ipython",
    "version": 3
   },
   "file_extension": ".py",
   "mimetype": "text/x-python",
   "name": "python",
   "nbconvert_exporter": "python",
   "pygments_lexer": "ipython3",
   "version": "3.9.12"
  }
 },
 "nbformat": 4,
 "nbformat_minor": 5
}
